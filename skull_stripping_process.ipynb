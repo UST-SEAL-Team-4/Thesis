{
 "cells": [
  {
   "cell_type": "code",
   "execution_count": 1,
   "metadata": {},
   "outputs": [
    {
     "name": "stderr",
     "output_type": "stream",
     "text": [
      "INFO:albumentations.check_version:A new version of Albumentations is available: 1.4.14 (you have 1.4.10). Upgrade using: pip install --upgrade albumentations\n"
     ]
    }
   ],
   "source": [
    "import os\n",
    "import subprocess\n",
    "\n",
    "from project.utils import plot_all_slices, plot_mri_slice"
   ]
  },
  {
   "cell_type": "code",
   "execution_count": 2,
   "metadata": {},
   "outputs": [],
   "source": [
    "SOURCE_DIR = os.path.abspath(os.path.join(os.getcwd(), '../VALDO_Dataset/Task2'))\n",
    "LABEL_NAME = '_space-T2S_CMB.nii.gz'\n",
    "ID_FNAME = '_space-T2S_desc-masked_T2S.nii.gz'"
   ]
  },
  {
   "cell_type": "code",
   "execution_count": 3,
   "metadata": {},
   "outputs": [],
   "source": [
    "def get_labels_and_ids():\n",
    "    labels = []\n",
    "    ids = []\n",
    "    \n",
    "    folders = [item for item in os.listdir(SOURCE_DIR) if os.path.isdir(os.path.join(SOURCE_DIR, item))]\n",
    "    \n",
    "    for folder in folders:\n",
    "        folder_path = os.path.join(SOURCE_DIR, folder)\n",
    "        files = os.listdir(folder_path)\n",
    "        \n",
    "        label_file = next((f for f in files if f.startswith('sub-') and f.endswith(LABEL_NAME)), None)\n",
    "        if label_file:\n",
    "            labels.append(os.path.join(folder_path, label_file))\n",
    "            \n",
    "        id_file = next((f for f in files if f.startswith('sub-') and f.endswith(ID_FNAME)), None)\n",
    "        if id_file:\n",
    "            ids.append(os.path.join(folder_path, id_file))\n",
    "            \n",
    "    return labels, ids"
   ]
  },
  {
   "cell_type": "code",
   "execution_count": 4,
   "metadata": {},
   "outputs": [],
   "source": [
    "labels, ids = get_labels_and_ids()  "
   ]
  },
  {
   "cell_type": "code",
   "execution_count": 5,
   "metadata": {},
   "outputs": [
    {
     "name": "stdout",
     "output_type": "stream",
     "text": [
      "Number of labels: 72\n",
      "Number of ids: 72\n"
     ]
    }
   ],
   "source": [
    "print(f'Number of labels: {len(labels)}\\nNumber of ids: {len(ids)}')"
   ]
  },
  {
   "cell_type": "code",
   "execution_count": 6,
   "metadata": {},
   "outputs": [
    {
     "data": {
      "text/plain": [
       "'c:\\\\Users\\\\nigel\\\\Documents\\\\Thesis\\\\Dataset\\\\VALDO_dataset'"
      ]
     },
     "execution_count": 6,
     "metadata": {},
     "output_type": "execute_result"
    }
   ],
   "source": [
    "DATASET_DIR = os.path.abspath(os.path.join(os.getcwd(), '../Dataset/VALDO_dataset'))\n",
    "\n",
    "if not os.path.exists(DATASET_DIR):\n",
    "    os.makedirs(DATASET_DIR)\n",
    "    \n",
    "DATASET_DIR"
   ]
  },
  {
   "cell_type": "code",
   "execution_count": 7,
   "metadata": {},
   "outputs": [
    {
     "data": {
      "text/plain": [
       "'c:\\\\Users\\\\nigel\\\\Documents\\\\Thesis\\\\Dataset\\\\VALDO_dataset/mri_t2s_dir'"
      ]
     },
     "execution_count": 7,
     "metadata": {},
     "output_type": "execute_result"
    }
   ],
   "source": [
    "MRI_T2S_DIR = f'{DATASET_DIR}/mri_t2s_dir'\n",
    "\n",
    "if not os.path.exists(MRI_T2S_DIR):\n",
    "    os.makedirs(MRI_T2S_DIR)\n",
    "    \n",
    "MRI_T2S_DIR"
   ]
  },
  {
   "cell_type": "code",
   "execution_count": 8,
   "metadata": {},
   "outputs": [
    {
     "data": {
      "text/plain": [
       "'c:\\\\Users\\\\nigel\\\\Documents\\\\Thesis\\\\Dataset\\\\VALDO_dataset/cmb_masks_dir'"
      ]
     },
     "execution_count": 8,
     "metadata": {},
     "output_type": "execute_result"
    }
   ],
   "source": [
    "CMB_MASKS_DIR = f'{DATASET_DIR}/cmb_masks_dir'\n",
    "\n",
    "if not os.path.exists(CMB_MASKS_DIR):\n",
    "    os.makedirs(CMB_MASKS_DIR)\n",
    "    \n",
    "CMB_MASKS_DIR"
   ]
  },
  {
   "cell_type": "code",
   "execution_count": 9,
   "metadata": {},
   "outputs": [
    {
     "data": {
      "text/plain": [
       "'c:\\\\Users\\\\nigel\\\\Documents\\\\Thesis\\\\Dataset\\\\VALDO_dataset/preprocessed_dir'"
      ]
     },
     "execution_count": 9,
     "metadata": {},
     "output_type": "execute_result"
    }
   ],
   "source": [
    "PREPROCESSED_DIR = f'{DATASET_DIR}/preprocessed_dir'\n",
    "\n",
    "if not os.path.exists(PREPROCESSED_DIR):\n",
    "    os.makedirs(PREPROCESSED_DIR)\n",
    "    \n",
    "PREPROCESSED_DIR"
   ]
  },
  {
   "cell_type": "code",
   "execution_count": 10,
   "metadata": {},
   "outputs": [],
   "source": [
    "synthstrip_docker = \"freesurfer/synthstrip\""
   ]
  },
  {
   "cell_type": "code",
   "execution_count": 11,
   "metadata": {},
   "outputs": [],
   "source": [
    "# CHANGE THIS IF YOU HAVE DIFFERENT DOCKER PATH\n",
    "DOCKER_PATH = \"C:\\\\Program Files\\\\Docker\\\\Docker\\\\resources\\\\bin\\\\docker.exe\""
   ]
  },
  {
   "cell_type": "code",
   "execution_count": 12,
   "metadata": {},
   "outputs": [
    {
     "name": "stdout",
     "output_type": "stream",
     "text": [
      "Processing file: c:\\Users\\nigel\\Documents\\Thesis\\Dataset\\VALDO_dataset/mri_t2s_dir\\sub-101_space-T2S_desc-masked_T2S.nii.gz\n"
     ]
    },
    {
     "ename": "NameError",
     "evalue": "name 'DOCKER_PATH' is not defined",
     "output_type": "error",
     "traceback": [
      "\u001b[1;31m---------------------------------------------------------------------------\u001b[0m",
      "\u001b[1;31mNameError\u001b[0m                                 Traceback (most recent call last)",
      "Cell \u001b[1;32mIn[12], line 18\u001b[0m\n\u001b[0;32m     14\u001b[0m \u001b[38;5;28mprint\u001b[39m(\u001b[38;5;124mf\u001b[39m\u001b[38;5;124m\"\u001b[39m\u001b[38;5;124mProcessing file: \u001b[39m\u001b[38;5;132;01m{\u001b[39;00mmri_path\u001b[38;5;132;01m}\u001b[39;00m\u001b[38;5;124m\"\u001b[39m)\n\u001b[0;32m     16\u001b[0m \u001b[38;5;66;03m# Docker command for running the SynthStrip \u001b[39;00m\n\u001b[0;32m     17\u001b[0m docker_command \u001b[38;5;241m=\u001b[39m [\n\u001b[1;32m---> 18\u001b[0m     \u001b[43mDOCKER_PATH\u001b[49m, \u001b[38;5;124m\"\u001b[39m\u001b[38;5;124mrun\u001b[39m\u001b[38;5;124m\"\u001b[39m, \u001b[38;5;124m\"\u001b[39m\u001b[38;5;124m--rm\u001b[39m\u001b[38;5;124m\"\u001b[39m,\n\u001b[0;32m     19\u001b[0m     \u001b[38;5;124m\"\u001b[39m\u001b[38;5;124m-v\u001b[39m\u001b[38;5;124m\"\u001b[39m, \u001b[38;5;124mf\u001b[39m\u001b[38;5;124m\"\u001b[39m\u001b[38;5;132;01m{\u001b[39;00mMRI_T2S_DIR\u001b[38;5;132;01m}\u001b[39;00m\u001b[38;5;124m:/input\u001b[39m\u001b[38;5;124m\"\u001b[39m,\n\u001b[0;32m     20\u001b[0m     \u001b[38;5;124m\"\u001b[39m\u001b[38;5;124m-v\u001b[39m\u001b[38;5;124m\"\u001b[39m, \u001b[38;5;124mf\u001b[39m\u001b[38;5;124m\"\u001b[39m\u001b[38;5;132;01m{\u001b[39;00mPREPROCESSED_DIR\u001b[38;5;132;01m}\u001b[39;00m\u001b[38;5;124m:/output\u001b[39m\u001b[38;5;124m\"\u001b[39m,\n\u001b[0;32m     21\u001b[0m     synthstrip_docker,\n\u001b[0;32m     22\u001b[0m     \u001b[38;5;124m\"\u001b[39m\u001b[38;5;124m-i\u001b[39m\u001b[38;5;124m\"\u001b[39m, \u001b[38;5;124mf\u001b[39m\u001b[38;5;124m\"\u001b[39m\u001b[38;5;124m/input/\u001b[39m\u001b[38;5;132;01m{\u001b[39;00mid_name\u001b[38;5;132;01m}\u001b[39;00m\u001b[38;5;124m\"\u001b[39m,\n\u001b[0;32m     23\u001b[0m     \u001b[38;5;124mf\u001b[39m\u001b[38;5;124m\"\u001b[39m\u001b[38;5;124m-o\u001b[39m\u001b[38;5;124m\"\u001b[39m, \u001b[38;5;124mf\u001b[39m\u001b[38;5;124m\"\u001b[39m\u001b[38;5;124m/output/\u001b[39m\u001b[38;5;132;01m{\u001b[39;00mid_name\u001b[38;5;241m.\u001b[39mreplace(\u001b[38;5;124m'\u001b[39m\u001b[38;5;124m.nii.gz\u001b[39m\u001b[38;5;124m'\u001b[39m,\u001b[38;5;250m \u001b[39m\u001b[38;5;124m'\u001b[39m\u001b[38;5;124m_stripped.nii.gz\u001b[39m\u001b[38;5;124m'\u001b[39m)\u001b[38;5;132;01m}\u001b[39;00m\u001b[38;5;124m\"\u001b[39m\n\u001b[0;32m     24\u001b[0m ]\n\u001b[0;32m     26\u001b[0m \u001b[38;5;66;03m# subprocess.run(docker_command, shell=True, capture_output=True, text=True)\u001b[39;00m\n\u001b[0;32m     27\u001b[0m \u001b[38;5;28mprint\u001b[39m(\u001b[38;5;124mf\u001b[39m\u001b[38;5;124m\"\u001b[39m\u001b[38;5;124mCopied and processed \u001b[39m\u001b[38;5;132;01m{\u001b[39;00mid_name\u001b[38;5;132;01m}\u001b[39;00m\u001b[38;5;124m\"\u001b[39m)\n",
      "\u001b[1;31mNameError\u001b[0m: name 'DOCKER_PATH' is not defined"
     ]
    }
   ],
   "source": [
    "# Process each MRI scan using SynthStrip\n",
    "for label_path, id_path in zip(labels, ids):\n",
    "    label_name = os.path.basename(label_path)\n",
    "    id_name = os.path.basename(id_path)\n",
    "    \n",
    "    # copies the CMB masks files in another folder\n",
    "    cmb_path = os.path.join(CMB_MASKS_DIR, label_name)\n",
    "    os.system(f'copy \"{label_path}\" \"{cmb_path}\"')\n",
    "    \n",
    "    # copies the MRI T2S files in another folder\n",
    "    mri_path = os.path.join(MRI_T2S_DIR, id_name)\n",
    "    os.system(f'copy \"{id_path}\" \"{mri_path}\"')    \n",
    "    \n",
    "    print(f\"Processing file: {mri_path}\")\n",
    "    \n",
    "    # Docker command for running the SynthStrip \n",
    "    # docker_command = [\n",
    "    #     DOCKER_PATH, \"run\", \"--rm\",\n",
    "    #     \"-v\", f\"{MRI_T2S_DIR}:/input\",\n",
    "    #     \"-v\", f\"{PREPROCESSED_DIR}:/output\",\n",
    "    #     synthstrip_docker,\n",
    "    #     \"-i\", f\"/input/{id_name}\",\n",
    "    #     f\"-o\", f\"/output/{id_name.replace('.nii.gz', '_stripped.nii.gz')}\"\n",
    "    # ]\n",
    "    \n",
    "    # subprocess.run(docker_command, shell=True, capture_output=True, text=True)\n",
    "    print(f\"Copied and processed {id_name}\")\n",
    "    print(f\"Copied {label_name}\\n\")"
   ]
  },
  {
   "cell_type": "code",
   "execution_count": null,
   "metadata": {},
   "outputs": [],
   "source": [
    "os.listdir(PREPROCESSED_DIR)"
   ]
  },
  {
   "cell_type": "code",
   "execution_count": null,
   "metadata": {},
   "outputs": [],
   "source": [
    "raw_mri_list = [os.path.join(MRI_T2S_DIR, f) for f in os.listdir(MRI_T2S_DIR) if os.path.isfile(os.path.join(MRI_T2S_DIR, f))]\n",
    "cmb_masks_list = [os.path.join(CMB_MASKS_DIR, f) for f in os.listdir(CMB_MASKS_DIR) if os.path.isfile(os.path.join(CMB_MASKS_DIR, f))]\n",
    "preprocessed_mri_list = [os.path.join(PREPROCESSED_DIR, f) for f in os.listdir(PREPROCESSED_DIR) if os.path.isfile(os.path.join(PREPROCESSED_DIR, f))]"
   ]
  },
  {
   "cell_type": "markdown",
   "metadata": {},
   "source": [
    "### MRI slice sample from Cohort 1\n"
   ]
  },
  {
   "cell_type": "code",
   "execution_count": null,
   "metadata": {},
   "outputs": [],
   "source": [
    "plot_mri_slice(raw_mri_list[0])"
   ]
  },
  {
   "cell_type": "code",
   "execution_count": null,
   "metadata": {},
   "outputs": [],
   "source": [
    "plot_mri_slice(preprocessed_mri_list[0])"
   ]
  },
  {
   "cell_type": "markdown",
   "metadata": {},
   "source": [
    "### MRI slice sample from Cohort 2\n"
   ]
  },
  {
   "cell_type": "code",
   "execution_count": null,
   "metadata": {},
   "outputs": [],
   "source": [
    "plot_mri_slice(raw_mri_list[12])"
   ]
  },
  {
   "cell_type": "code",
   "execution_count": null,
   "metadata": {},
   "outputs": [],
   "source": [
    "plot_mri_slice(preprocessed_mri_list[12])"
   ]
  },
  {
   "cell_type": "markdown",
   "metadata": {},
   "source": [
    "### MRI slice sample from Cohort 3\n"
   ]
  },
  {
   "cell_type": "code",
   "execution_count": null,
   "metadata": {},
   "outputs": [],
   "source": [
    "plot_mri_slice(raw_mri_list[65])"
   ]
  },
  {
   "cell_type": "code",
   "execution_count": null,
   "metadata": {},
   "outputs": [],
   "source": [
    "plot_mri_slice(preprocessed_mri_list[65])"
   ]
  },
  {
   "cell_type": "markdown",
   "metadata": {},
   "source": [
    "### Check CMB masks\n"
   ]
  },
  {
   "cell_type": "code",
   "execution_count": null,
   "metadata": {},
   "outputs": [],
   "source": [
    "plot_all_slices(cmb_masks_list[0])"
   ]
  },
  {
   "cell_type": "code",
   "execution_count": null,
   "metadata": {},
   "outputs": [],
   "source": [
    "plot_all_slices(cmb_masks_list[17])"
   ]
  },
  {
   "cell_type": "code",
   "execution_count": null,
   "metadata": {},
   "outputs": [],
   "source": [
    "plot_all_slices(cmb_masks_list[50])"
   ]
  },
  {
   "cell_type": "code",
   "execution_count": null,
   "metadata": {},
   "outputs": [],
   "source": []
  }
 ],
 "metadata": {
  "kernelspec": {
   "display_name": "Python 3",
   "language": "python",
   "name": "python3"
  },
  "language_info": {
   "codemirror_mode": {
    "name": "ipython",
    "version": 3
   },
   "file_extension": ".py",
   "mimetype": "text/x-python",
   "name": "python",
   "nbconvert_exporter": "python",
   "pygments_lexer": "ipython3",
   "version": "3.10.9"
  }
 },
 "nbformat": 4,
 "nbformat_minor": 2
}
