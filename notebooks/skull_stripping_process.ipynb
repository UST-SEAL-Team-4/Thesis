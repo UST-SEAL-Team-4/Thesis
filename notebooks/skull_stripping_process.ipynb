{
 "cells": [
  {
   "cell_type": "code",
   "execution_count": 1,
   "metadata": {},
   "outputs": [],
   "source": [
    "import os\n",
    "import subprocess\n"
   ]
  },
  {
   "cell_type": "code",
   "execution_count": 2,
   "metadata": {},
   "outputs": [],
   "source": [
    "SOURCE_DIR = os.path.abspath(os.path.join(os.getcwd(), '../../VALDO_Dataset/Task2'))\n",
    "LABEL_NAME = '_space-T2S_CMB.nii.gz'\n",
    "ID_FNAME = '_space-T2S_desc-masked_T2S.nii.gz'"
   ]
  },
  {
   "cell_type": "code",
   "execution_count": 3,
   "metadata": {},
   "outputs": [],
   "source": [
    "def get_labels_and_ids():\n",
    "    labels = []\n",
    "    ids = []\n",
    "    \n",
    "    folders = [item for item in os.listdir(SOURCE_DIR) if os.path.isdir(os.path.join(SOURCE_DIR, item))]\n",
    "    \n",
    "    for folder in folders:\n",
    "        folder_path = os.path.join(SOURCE_DIR, folder)\n",
    "        files = os.listdir(folder_path)\n",
    "        \n",
    "        label_file = next((f for f in files if f.startswith('sub-') and f.endswith(LABEL_NAME)), None)\n",
    "        if label_file:\n",
    "            labels.append(os.path.join(folder_path, label_file))\n",
    "            \n",
    "        id_file = next((f for f in files if f.startswith('sub-') and f.endswith(ID_FNAME)), None)\n",
    "        if id_file:\n",
    "            ids.append(os.path.join(folder_path, id_file))\n",
    "            \n",
    "    return labels, ids"
   ]
  },
  {
   "cell_type": "code",
   "execution_count": 4,
   "metadata": {},
   "outputs": [],
   "source": [
    "labels, ids = get_labels_and_ids()  "
   ]
  },
  {
   "cell_type": "code",
   "execution_count": 5,
   "metadata": {},
   "outputs": [
    {
     "name": "stdout",
     "output_type": "stream",
     "text": [
      "Number of labels: 72\n",
      "Number of ids: 72\n"
     ]
    }
   ],
   "source": [
    "print(f'Number of labels: {len(labels)}\\nNumber of ids: {len(ids)}')"
   ]
  },
  {
   "cell_type": "code",
   "execution_count": 6,
   "metadata": {},
   "outputs": [
    {
     "data": {
      "text/plain": [
       "'c:\\\\Users\\\\nigel\\\\Documents\\\\Thesis\\\\Thesis\\\\Dataset\\\\VALDO_dataset'"
      ]
     },
     "execution_count": 6,
     "metadata": {},
     "output_type": "execute_result"
    }
   ],
   "source": [
    "DATASET_DIR = os.path.abspath(os.path.join(os.getcwd(), '../Dataset/VALDO_dataset'))\n",
    "\n",
    "if not os.path.exists(DATASET_DIR):\n",
    "    os.makedirs(DATASET_DIR)\n",
    "    \n",
    "DATASET_DIR"
   ]
  },
  {
   "cell_type": "code",
   "execution_count": 7,
   "metadata": {},
   "outputs": [
    {
     "data": {
      "text/plain": [
       "'c:\\\\Users\\\\nigel\\\\Documents\\\\Thesis\\\\Thesis\\\\Dataset\\\\VALDO_dataset/mri_t2s_dir'"
      ]
     },
     "execution_count": 7,
     "metadata": {},
     "output_type": "execute_result"
    }
   ],
   "source": [
    "MRI_T2S_DIR = f'{DATASET_DIR}/mri_t2s_dir'\n",
    "\n",
    "if not os.path.exists(MRI_T2S_DIR):\n",
    "    os.makedirs(MRI_T2S_DIR)\n",
    "    \n",
    "MRI_T2S_DIR"
   ]
  },
  {
   "cell_type": "code",
   "execution_count": 8,
   "metadata": {},
   "outputs": [
    {
     "data": {
      "text/plain": [
       "'c:\\\\Users\\\\nigel\\\\Documents\\\\Thesis\\\\Thesis\\\\Dataset\\\\VALDO_dataset/cmb_masks_dir'"
      ]
     },
     "execution_count": 8,
     "metadata": {},
     "output_type": "execute_result"
    }
   ],
   "source": [
    "CMB_MASKS_DIR = f'{DATASET_DIR}/cmb_masks_dir'\n",
    "\n",
    "if not os.path.exists(CMB_MASKS_DIR):\n",
    "    os.makedirs(CMB_MASKS_DIR)\n",
    "    \n",
    "CMB_MASKS_DIR"
   ]
  },
  {
   "cell_type": "code",
   "execution_count": 9,
   "metadata": {},
   "outputs": [
    {
     "data": {
      "text/plain": [
       "'c:\\\\Users\\\\nigel\\\\Documents\\\\Thesis\\\\Thesis\\\\Dataset\\\\VALDO_dataset/preprocessed_dir'"
      ]
     },
     "execution_count": 9,
     "metadata": {},
     "output_type": "execute_result"
    }
   ],
   "source": [
    "PREPROCESSED_DIR = f'{DATASET_DIR}/preprocessed_dir'\n",
    "\n",
    "if not os.path.exists(PREPROCESSED_DIR):\n",
    "    os.makedirs(PREPROCESSED_DIR)\n",
    "    \n",
    "PREPROCESSED_DIR"
   ]
  },
  {
   "cell_type": "code",
   "execution_count": 10,
   "metadata": {},
   "outputs": [],
   "source": [
    "synthstrip_docker = \"freesurfer/synthstrip\""
   ]
  },
  {
   "cell_type": "code",
   "execution_count": 11,
   "metadata": {},
   "outputs": [],
   "source": [
    "# CHANGE THIS IF YOU HAVE DIFFERENT DOCKER PATH\n",
    "DOCKER_PATH = \"C:\\\\Program Files\\\\Docker\\\\Docker\\\\resources\\\\bin\\\\docker.exe\""
   ]
  },
  {
   "cell_type": "code",
   "execution_count": 12,
   "metadata": {},
   "outputs": [
    {
     "name": "stdout",
     "output_type": "stream",
     "text": [
      "Processing file: c:\\Users\\nigel\\Documents\\Thesis\\Thesis\\Dataset\\VALDO_dataset/mri_t2s_dir\\sub-101_space-T2S_desc-masked_T2S.nii.gz\n",
      "Copied and processed sub-101_space-T2S_desc-masked_T2S.nii.gz\n",
      "Copied sub-101_space-T2S_CMB.nii.gz\n",
      "\n",
      "Processing file: c:\\Users\\nigel\\Documents\\Thesis\\Thesis\\Dataset\\VALDO_dataset/mri_t2s_dir\\sub-102_space-T2S_desc-masked_T2S.nii.gz\n",
      "Copied and processed sub-102_space-T2S_desc-masked_T2S.nii.gz\n",
      "Copied sub-102_space-T2S_CMB.nii.gz\n",
      "\n",
      "Processing file: c:\\Users\\nigel\\Documents\\Thesis\\Thesis\\Dataset\\VALDO_dataset/mri_t2s_dir\\sub-103_space-T2S_desc-masked_T2S.nii.gz\n",
      "Copied and processed sub-103_space-T2S_desc-masked_T2S.nii.gz\n",
      "Copied sub-103_space-T2S_CMB.nii.gz\n",
      "\n",
      "Processing file: c:\\Users\\nigel\\Documents\\Thesis\\Thesis\\Dataset\\VALDO_dataset/mri_t2s_dir\\sub-104_space-T2S_desc-masked_T2S.nii.gz\n",
      "Copied and processed sub-104_space-T2S_desc-masked_T2S.nii.gz\n",
      "Copied sub-104_space-T2S_CMB.nii.gz\n",
      "\n",
      "Processing file: c:\\Users\\nigel\\Documents\\Thesis\\Thesis\\Dataset\\VALDO_dataset/mri_t2s_dir\\sub-105_space-T2S_desc-masked_T2S.nii.gz\n",
      "Copied and processed sub-105_space-T2S_desc-masked_T2S.nii.gz\n",
      "Copied sub-105_space-T2S_CMB.nii.gz\n",
      "\n",
      "Processing file: c:\\Users\\nigel\\Documents\\Thesis\\Thesis\\Dataset\\VALDO_dataset/mri_t2s_dir\\sub-106_space-T2S_desc-masked_T2S.nii.gz\n",
      "Copied and processed sub-106_space-T2S_desc-masked_T2S.nii.gz\n",
      "Copied sub-106_space-T2S_CMB.nii.gz\n",
      "\n",
      "Processing file: c:\\Users\\nigel\\Documents\\Thesis\\Thesis\\Dataset\\VALDO_dataset/mri_t2s_dir\\sub-107_space-T2S_desc-masked_T2S.nii.gz\n",
      "Copied and processed sub-107_space-T2S_desc-masked_T2S.nii.gz\n",
      "Copied sub-107_space-T2S_CMB.nii.gz\n",
      "\n",
      "Processing file: c:\\Users\\nigel\\Documents\\Thesis\\Thesis\\Dataset\\VALDO_dataset/mri_t2s_dir\\sub-108_space-T2S_desc-masked_T2S.nii.gz\n",
      "Copied and processed sub-108_space-T2S_desc-masked_T2S.nii.gz\n",
      "Copied sub-108_space-T2S_CMB.nii.gz\n",
      "\n",
      "Processing file: c:\\Users\\nigel\\Documents\\Thesis\\Thesis\\Dataset\\VALDO_dataset/mri_t2s_dir\\sub-109_space-T2S_desc-masked_T2S.nii.gz\n",
      "Copied and processed sub-109_space-T2S_desc-masked_T2S.nii.gz\n",
      "Copied sub-109_space-T2S_CMB.nii.gz\n",
      "\n",
      "Processing file: c:\\Users\\nigel\\Documents\\Thesis\\Thesis\\Dataset\\VALDO_dataset/mri_t2s_dir\\sub-110_space-T2S_desc-masked_T2S.nii.gz\n",
      "Copied and processed sub-110_space-T2S_desc-masked_T2S.nii.gz\n",
      "Copied sub-110_space-T2S_CMB.nii.gz\n",
      "\n",
      "Processing file: c:\\Users\\nigel\\Documents\\Thesis\\Thesis\\Dataset\\VALDO_dataset/mri_t2s_dir\\sub-111_space-T2S_desc-masked_T2S.nii.gz\n",
      "Copied and processed sub-111_space-T2S_desc-masked_T2S.nii.gz\n",
      "Copied sub-111_space-T2S_CMB.nii.gz\n",
      "\n",
      "Processing file: c:\\Users\\nigel\\Documents\\Thesis\\Thesis\\Dataset\\VALDO_dataset/mri_t2s_dir\\sub-201_space-T2S_desc-masked_T2S.nii.gz\n",
      "Copied and processed sub-201_space-T2S_desc-masked_T2S.nii.gz\n",
      "Copied sub-201_space-T2S_CMB.nii.gz\n",
      "\n",
      "Processing file: c:\\Users\\nigel\\Documents\\Thesis\\Thesis\\Dataset\\VALDO_dataset/mri_t2s_dir\\sub-202_space-T2S_desc-masked_T2S.nii.gz\n",
      "Copied and processed sub-202_space-T2S_desc-masked_T2S.nii.gz\n",
      "Copied sub-202_space-T2S_CMB.nii.gz\n",
      "\n",
      "Processing file: c:\\Users\\nigel\\Documents\\Thesis\\Thesis\\Dataset\\VALDO_dataset/mri_t2s_dir\\sub-203_space-T2S_desc-masked_T2S.nii.gz\n",
      "Copied and processed sub-203_space-T2S_desc-masked_T2S.nii.gz\n",
      "Copied sub-203_space-T2S_CMB.nii.gz\n",
      "\n",
      "Processing file: c:\\Users\\nigel\\Documents\\Thesis\\Thesis\\Dataset\\VALDO_dataset/mri_t2s_dir\\sub-204_space-T2S_desc-masked_T2S.nii.gz\n",
      "Copied and processed sub-204_space-T2S_desc-masked_T2S.nii.gz\n",
      "Copied sub-204_space-T2S_CMB.nii.gz\n",
      "\n",
      "Processing file: c:\\Users\\nigel\\Documents\\Thesis\\Thesis\\Dataset\\VALDO_dataset/mri_t2s_dir\\sub-205_space-T2S_desc-masked_T2S.nii.gz\n",
      "Copied and processed sub-205_space-T2S_desc-masked_T2S.nii.gz\n",
      "Copied sub-205_space-T2S_CMB.nii.gz\n",
      "\n",
      "Processing file: c:\\Users\\nigel\\Documents\\Thesis\\Thesis\\Dataset\\VALDO_dataset/mri_t2s_dir\\sub-206_space-T2S_desc-masked_T2S.nii.gz\n",
      "Copied and processed sub-206_space-T2S_desc-masked_T2S.nii.gz\n",
      "Copied sub-206_space-T2S_CMB.nii.gz\n",
      "\n",
      "Processing file: c:\\Users\\nigel\\Documents\\Thesis\\Thesis\\Dataset\\VALDO_dataset/mri_t2s_dir\\sub-207_space-T2S_desc-masked_T2S.nii.gz\n",
      "Copied and processed sub-207_space-T2S_desc-masked_T2S.nii.gz\n",
      "Copied sub-207_space-T2S_CMB.nii.gz\n",
      "\n",
      "Processing file: c:\\Users\\nigel\\Documents\\Thesis\\Thesis\\Dataset\\VALDO_dataset/mri_t2s_dir\\sub-208_space-T2S_desc-masked_T2S.nii.gz\n",
      "Copied and processed sub-208_space-T2S_desc-masked_T2S.nii.gz\n",
      "Copied sub-208_space-T2S_CMB.nii.gz\n",
      "\n",
      "Processing file: c:\\Users\\nigel\\Documents\\Thesis\\Thesis\\Dataset\\VALDO_dataset/mri_t2s_dir\\sub-209_space-T2S_desc-masked_T2S.nii.gz\n",
      "Copied and processed sub-209_space-T2S_desc-masked_T2S.nii.gz\n",
      "Copied sub-209_space-T2S_CMB.nii.gz\n",
      "\n",
      "Processing file: c:\\Users\\nigel\\Documents\\Thesis\\Thesis\\Dataset\\VALDO_dataset/mri_t2s_dir\\sub-210_space-T2S_desc-masked_T2S.nii.gz\n",
      "Copied and processed sub-210_space-T2S_desc-masked_T2S.nii.gz\n",
      "Copied sub-210_space-T2S_CMB.nii.gz\n",
      "\n",
      "Processing file: c:\\Users\\nigel\\Documents\\Thesis\\Thesis\\Dataset\\VALDO_dataset/mri_t2s_dir\\sub-211_space-T2S_desc-masked_T2S.nii.gz\n",
      "Copied and processed sub-211_space-T2S_desc-masked_T2S.nii.gz\n",
      "Copied sub-211_space-T2S_CMB.nii.gz\n",
      "\n",
      "Processing file: c:\\Users\\nigel\\Documents\\Thesis\\Thesis\\Dataset\\VALDO_dataset/mri_t2s_dir\\sub-212_space-T2S_desc-masked_T2S.nii.gz\n",
      "Copied and processed sub-212_space-T2S_desc-masked_T2S.nii.gz\n",
      "Copied sub-212_space-T2S_CMB.nii.gz\n",
      "\n",
      "Processing file: c:\\Users\\nigel\\Documents\\Thesis\\Thesis\\Dataset\\VALDO_dataset/mri_t2s_dir\\sub-213_space-T2S_desc-masked_T2S.nii.gz\n",
      "Copied and processed sub-213_space-T2S_desc-masked_T2S.nii.gz\n",
      "Copied sub-213_space-T2S_CMB.nii.gz\n",
      "\n",
      "Processing file: c:\\Users\\nigel\\Documents\\Thesis\\Thesis\\Dataset\\VALDO_dataset/mri_t2s_dir\\sub-214_space-T2S_desc-masked_T2S.nii.gz\n",
      "Copied and processed sub-214_space-T2S_desc-masked_T2S.nii.gz\n",
      "Copied sub-214_space-T2S_CMB.nii.gz\n",
      "\n",
      "Processing file: c:\\Users\\nigel\\Documents\\Thesis\\Thesis\\Dataset\\VALDO_dataset/mri_t2s_dir\\sub-215_space-T2S_desc-masked_T2S.nii.gz\n",
      "Copied and processed sub-215_space-T2S_desc-masked_T2S.nii.gz\n",
      "Copied sub-215_space-T2S_CMB.nii.gz\n",
      "\n",
      "Processing file: c:\\Users\\nigel\\Documents\\Thesis\\Thesis\\Dataset\\VALDO_dataset/mri_t2s_dir\\sub-216_space-T2S_desc-masked_T2S.nii.gz\n",
      "Copied and processed sub-216_space-T2S_desc-masked_T2S.nii.gz\n",
      "Copied sub-216_space-T2S_CMB.nii.gz\n",
      "\n",
      "Processing file: c:\\Users\\nigel\\Documents\\Thesis\\Thesis\\Dataset\\VALDO_dataset/mri_t2s_dir\\sub-217_space-T2S_desc-masked_T2S.nii.gz\n",
      "Copied and processed sub-217_space-T2S_desc-masked_T2S.nii.gz\n",
      "Copied sub-217_space-T2S_CMB.nii.gz\n",
      "\n",
      "Processing file: c:\\Users\\nigel\\Documents\\Thesis\\Thesis\\Dataset\\VALDO_dataset/mri_t2s_dir\\sub-218_space-T2S_desc-masked_T2S.nii.gz\n",
      "Copied and processed sub-218_space-T2S_desc-masked_T2S.nii.gz\n",
      "Copied sub-218_space-T2S_CMB.nii.gz\n",
      "\n",
      "Processing file: c:\\Users\\nigel\\Documents\\Thesis\\Thesis\\Dataset\\VALDO_dataset/mri_t2s_dir\\sub-219_space-T2S_desc-masked_T2S.nii.gz\n",
      "Copied and processed sub-219_space-T2S_desc-masked_T2S.nii.gz\n",
      "Copied sub-219_space-T2S_CMB.nii.gz\n",
      "\n",
      "Processing file: c:\\Users\\nigel\\Documents\\Thesis\\Thesis\\Dataset\\VALDO_dataset/mri_t2s_dir\\sub-220_space-T2S_desc-masked_T2S.nii.gz\n",
      "Copied and processed sub-220_space-T2S_desc-masked_T2S.nii.gz\n",
      "Copied sub-220_space-T2S_CMB.nii.gz\n",
      "\n",
      "Processing file: c:\\Users\\nigel\\Documents\\Thesis\\Thesis\\Dataset\\VALDO_dataset/mri_t2s_dir\\sub-221_space-T2S_desc-masked_T2S.nii.gz\n",
      "Copied and processed sub-221_space-T2S_desc-masked_T2S.nii.gz\n",
      "Copied sub-221_space-T2S_CMB.nii.gz\n",
      "\n",
      "Processing file: c:\\Users\\nigel\\Documents\\Thesis\\Thesis\\Dataset\\VALDO_dataset/mri_t2s_dir\\sub-222_space-T2S_desc-masked_T2S.nii.gz\n",
      "Copied and processed sub-222_space-T2S_desc-masked_T2S.nii.gz\n",
      "Copied sub-222_space-T2S_CMB.nii.gz\n",
      "\n",
      "Processing file: c:\\Users\\nigel\\Documents\\Thesis\\Thesis\\Dataset\\VALDO_dataset/mri_t2s_dir\\sub-223_space-T2S_desc-masked_T2S.nii.gz\n",
      "Copied and processed sub-223_space-T2S_desc-masked_T2S.nii.gz\n",
      "Copied sub-223_space-T2S_CMB.nii.gz\n",
      "\n",
      "Processing file: c:\\Users\\nigel\\Documents\\Thesis\\Thesis\\Dataset\\VALDO_dataset/mri_t2s_dir\\sub-224_space-T2S_desc-masked_T2S.nii.gz\n",
      "Copied and processed sub-224_space-T2S_desc-masked_T2S.nii.gz\n",
      "Copied sub-224_space-T2S_CMB.nii.gz\n",
      "\n",
      "Processing file: c:\\Users\\nigel\\Documents\\Thesis\\Thesis\\Dataset\\VALDO_dataset/mri_t2s_dir\\sub-225_space-T2S_desc-masked_T2S.nii.gz\n",
      "Copied and processed sub-225_space-T2S_desc-masked_T2S.nii.gz\n",
      "Copied sub-225_space-T2S_CMB.nii.gz\n",
      "\n",
      "Processing file: c:\\Users\\nigel\\Documents\\Thesis\\Thesis\\Dataset\\VALDO_dataset/mri_t2s_dir\\sub-226_space-T2S_desc-masked_T2S.nii.gz\n",
      "Copied and processed sub-226_space-T2S_desc-masked_T2S.nii.gz\n",
      "Copied sub-226_space-T2S_CMB.nii.gz\n",
      "\n",
      "Processing file: c:\\Users\\nigel\\Documents\\Thesis\\Thesis\\Dataset\\VALDO_dataset/mri_t2s_dir\\sub-227_space-T2S_desc-masked_T2S.nii.gz\n",
      "Copied and processed sub-227_space-T2S_desc-masked_T2S.nii.gz\n",
      "Copied sub-227_space-T2S_CMB.nii.gz\n",
      "\n",
      "Processing file: c:\\Users\\nigel\\Documents\\Thesis\\Thesis\\Dataset\\VALDO_dataset/mri_t2s_dir\\sub-228_space-T2S_desc-masked_T2S.nii.gz\n",
      "Copied and processed sub-228_space-T2S_desc-masked_T2S.nii.gz\n",
      "Copied sub-228_space-T2S_CMB.nii.gz\n",
      "\n",
      "Processing file: c:\\Users\\nigel\\Documents\\Thesis\\Thesis\\Dataset\\VALDO_dataset/mri_t2s_dir\\sub-229_space-T2S_desc-masked_T2S.nii.gz\n",
      "Copied and processed sub-229_space-T2S_desc-masked_T2S.nii.gz\n",
      "Copied sub-229_space-T2S_CMB.nii.gz\n",
      "\n",
      "Processing file: c:\\Users\\nigel\\Documents\\Thesis\\Thesis\\Dataset\\VALDO_dataset/mri_t2s_dir\\sub-230_space-T2S_desc-masked_T2S.nii.gz\n",
      "Copied and processed sub-230_space-T2S_desc-masked_T2S.nii.gz\n",
      "Copied sub-230_space-T2S_CMB.nii.gz\n",
      "\n",
      "Processing file: c:\\Users\\nigel\\Documents\\Thesis\\Thesis\\Dataset\\VALDO_dataset/mri_t2s_dir\\sub-231_space-T2S_desc-masked_T2S.nii.gz\n",
      "Copied and processed sub-231_space-T2S_desc-masked_T2S.nii.gz\n",
      "Copied sub-231_space-T2S_CMB.nii.gz\n",
      "\n",
      "Processing file: c:\\Users\\nigel\\Documents\\Thesis\\Thesis\\Dataset\\VALDO_dataset/mri_t2s_dir\\sub-232_space-T2S_desc-masked_T2S.nii.gz\n",
      "Copied and processed sub-232_space-T2S_desc-masked_T2S.nii.gz\n",
      "Copied sub-232_space-T2S_CMB.nii.gz\n",
      "\n",
      "Processing file: c:\\Users\\nigel\\Documents\\Thesis\\Thesis\\Dataset\\VALDO_dataset/mri_t2s_dir\\sub-233_space-T2S_desc-masked_T2S.nii.gz\n",
      "Copied and processed sub-233_space-T2S_desc-masked_T2S.nii.gz\n",
      "Copied sub-233_space-T2S_CMB.nii.gz\n",
      "\n",
      "Processing file: c:\\Users\\nigel\\Documents\\Thesis\\Thesis\\Dataset\\VALDO_dataset/mri_t2s_dir\\sub-234_space-T2S_desc-masked_T2S.nii.gz\n",
      "Copied and processed sub-234_space-T2S_desc-masked_T2S.nii.gz\n",
      "Copied sub-234_space-T2S_CMB.nii.gz\n",
      "\n",
      "Processing file: c:\\Users\\nigel\\Documents\\Thesis\\Thesis\\Dataset\\VALDO_dataset/mri_t2s_dir\\sub-301_space-T2S_desc-masked_T2S.nii.gz\n",
      "Copied and processed sub-301_space-T2S_desc-masked_T2S.nii.gz\n",
      "Copied sub-301_space-T2S_CMB.nii.gz\n",
      "\n",
      "Processing file: c:\\Users\\nigel\\Documents\\Thesis\\Thesis\\Dataset\\VALDO_dataset/mri_t2s_dir\\sub-302_space-T2S_desc-masked_T2S.nii.gz\n",
      "Copied and processed sub-302_space-T2S_desc-masked_T2S.nii.gz\n",
      "Copied sub-302_space-T2S_CMB.nii.gz\n",
      "\n",
      "Processing file: c:\\Users\\nigel\\Documents\\Thesis\\Thesis\\Dataset\\VALDO_dataset/mri_t2s_dir\\sub-303_space-T2S_desc-masked_T2S.nii.gz\n",
      "Copied and processed sub-303_space-T2S_desc-masked_T2S.nii.gz\n",
      "Copied sub-303_space-T2S_CMB.nii.gz\n",
      "\n",
      "Processing file: c:\\Users\\nigel\\Documents\\Thesis\\Thesis\\Dataset\\VALDO_dataset/mri_t2s_dir\\sub-304_space-T2S_desc-masked_T2S.nii.gz\n",
      "Copied and processed sub-304_space-T2S_desc-masked_T2S.nii.gz\n",
      "Copied sub-304_space-T2S_CMB.nii.gz\n",
      "\n",
      "Processing file: c:\\Users\\nigel\\Documents\\Thesis\\Thesis\\Dataset\\VALDO_dataset/mri_t2s_dir\\sub-305_space-T2S_desc-masked_T2S.nii.gz\n",
      "Copied and processed sub-305_space-T2S_desc-masked_T2S.nii.gz\n",
      "Copied sub-305_space-T2S_CMB.nii.gz\n",
      "\n",
      "Processing file: c:\\Users\\nigel\\Documents\\Thesis\\Thesis\\Dataset\\VALDO_dataset/mri_t2s_dir\\sub-306_space-T2S_desc-masked_T2S.nii.gz\n",
      "Copied and processed sub-306_space-T2S_desc-masked_T2S.nii.gz\n",
      "Copied sub-306_space-T2S_CMB.nii.gz\n",
      "\n",
      "Processing file: c:\\Users\\nigel\\Documents\\Thesis\\Thesis\\Dataset\\VALDO_dataset/mri_t2s_dir\\sub-307_space-T2S_desc-masked_T2S.nii.gz\n",
      "Copied and processed sub-307_space-T2S_desc-masked_T2S.nii.gz\n",
      "Copied sub-307_space-T2S_CMB.nii.gz\n",
      "\n",
      "Processing file: c:\\Users\\nigel\\Documents\\Thesis\\Thesis\\Dataset\\VALDO_dataset/mri_t2s_dir\\sub-308_space-T2S_desc-masked_T2S.nii.gz\n",
      "Copied and processed sub-308_space-T2S_desc-masked_T2S.nii.gz\n",
      "Copied sub-308_space-T2S_CMB.nii.gz\n",
      "\n",
      "Processing file: c:\\Users\\nigel\\Documents\\Thesis\\Thesis\\Dataset\\VALDO_dataset/mri_t2s_dir\\sub-309_space-T2S_desc-masked_T2S.nii.gz\n",
      "Copied and processed sub-309_space-T2S_desc-masked_T2S.nii.gz\n",
      "Copied sub-309_space-T2S_CMB.nii.gz\n",
      "\n",
      "Processing file: c:\\Users\\nigel\\Documents\\Thesis\\Thesis\\Dataset\\VALDO_dataset/mri_t2s_dir\\sub-310_space-T2S_desc-masked_T2S.nii.gz\n",
      "Copied and processed sub-310_space-T2S_desc-masked_T2S.nii.gz\n",
      "Copied sub-310_space-T2S_CMB.nii.gz\n",
      "\n",
      "Processing file: c:\\Users\\nigel\\Documents\\Thesis\\Thesis\\Dataset\\VALDO_dataset/mri_t2s_dir\\sub-311_space-T2S_desc-masked_T2S.nii.gz\n",
      "Copied and processed sub-311_space-T2S_desc-masked_T2S.nii.gz\n",
      "Copied sub-311_space-T2S_CMB.nii.gz\n",
      "\n",
      "Processing file: c:\\Users\\nigel\\Documents\\Thesis\\Thesis\\Dataset\\VALDO_dataset/mri_t2s_dir\\sub-312_space-T2S_desc-masked_T2S.nii.gz\n",
      "Copied and processed sub-312_space-T2S_desc-masked_T2S.nii.gz\n",
      "Copied sub-312_space-T2S_CMB.nii.gz\n",
      "\n",
      "Processing file: c:\\Users\\nigel\\Documents\\Thesis\\Thesis\\Dataset\\VALDO_dataset/mri_t2s_dir\\sub-313_space-T2S_desc-masked_T2S.nii.gz\n",
      "Copied and processed sub-313_space-T2S_desc-masked_T2S.nii.gz\n",
      "Copied sub-313_space-T2S_CMB.nii.gz\n",
      "\n",
      "Processing file: c:\\Users\\nigel\\Documents\\Thesis\\Thesis\\Dataset\\VALDO_dataset/mri_t2s_dir\\sub-314_space-T2S_desc-masked_T2S.nii.gz\n",
      "Copied and processed sub-314_space-T2S_desc-masked_T2S.nii.gz\n",
      "Copied sub-314_space-T2S_CMB.nii.gz\n",
      "\n",
      "Processing file: c:\\Users\\nigel\\Documents\\Thesis\\Thesis\\Dataset\\VALDO_dataset/mri_t2s_dir\\sub-315_space-T2S_desc-masked_T2S.nii.gz\n",
      "Copied and processed sub-315_space-T2S_desc-masked_T2S.nii.gz\n",
      "Copied sub-315_space-T2S_CMB.nii.gz\n",
      "\n",
      "Processing file: c:\\Users\\nigel\\Documents\\Thesis\\Thesis\\Dataset\\VALDO_dataset/mri_t2s_dir\\sub-316_space-T2S_desc-masked_T2S.nii.gz\n",
      "Copied and processed sub-316_space-T2S_desc-masked_T2S.nii.gz\n",
      "Copied sub-316_space-T2S_CMB.nii.gz\n",
      "\n",
      "Processing file: c:\\Users\\nigel\\Documents\\Thesis\\Thesis\\Dataset\\VALDO_dataset/mri_t2s_dir\\sub-317_space-T2S_desc-masked_T2S.nii.gz\n",
      "Copied and processed sub-317_space-T2S_desc-masked_T2S.nii.gz\n",
      "Copied sub-317_space-T2S_CMB.nii.gz\n",
      "\n",
      "Processing file: c:\\Users\\nigel\\Documents\\Thesis\\Thesis\\Dataset\\VALDO_dataset/mri_t2s_dir\\sub-318_space-T2S_desc-masked_T2S.nii.gz\n",
      "Copied and processed sub-318_space-T2S_desc-masked_T2S.nii.gz\n",
      "Copied sub-318_space-T2S_CMB.nii.gz\n",
      "\n",
      "Processing file: c:\\Users\\nigel\\Documents\\Thesis\\Thesis\\Dataset\\VALDO_dataset/mri_t2s_dir\\sub-319_space-T2S_desc-masked_T2S.nii.gz\n",
      "Copied and processed sub-319_space-T2S_desc-masked_T2S.nii.gz\n",
      "Copied sub-319_space-T2S_CMB.nii.gz\n",
      "\n",
      "Processing file: c:\\Users\\nigel\\Documents\\Thesis\\Thesis\\Dataset\\VALDO_dataset/mri_t2s_dir\\sub-320_space-T2S_desc-masked_T2S.nii.gz\n",
      "Copied and processed sub-320_space-T2S_desc-masked_T2S.nii.gz\n",
      "Copied sub-320_space-T2S_CMB.nii.gz\n",
      "\n",
      "Processing file: c:\\Users\\nigel\\Documents\\Thesis\\Thesis\\Dataset\\VALDO_dataset/mri_t2s_dir\\sub-321_space-T2S_desc-masked_T2S.nii.gz\n",
      "Copied and processed sub-321_space-T2S_desc-masked_T2S.nii.gz\n",
      "Copied sub-321_space-T2S_CMB.nii.gz\n",
      "\n",
      "Processing file: c:\\Users\\nigel\\Documents\\Thesis\\Thesis\\Dataset\\VALDO_dataset/mri_t2s_dir\\sub-322_space-T2S_desc-masked_T2S.nii.gz\n",
      "Copied and processed sub-322_space-T2S_desc-masked_T2S.nii.gz\n",
      "Copied sub-322_space-T2S_CMB.nii.gz\n",
      "\n",
      "Processing file: c:\\Users\\nigel\\Documents\\Thesis\\Thesis\\Dataset\\VALDO_dataset/mri_t2s_dir\\sub-323_space-T2S_desc-masked_T2S.nii.gz\n",
      "Copied and processed sub-323_space-T2S_desc-masked_T2S.nii.gz\n",
      "Copied sub-323_space-T2S_CMB.nii.gz\n",
      "\n",
      "Processing file: c:\\Users\\nigel\\Documents\\Thesis\\Thesis\\Dataset\\VALDO_dataset/mri_t2s_dir\\sub-324_space-T2S_desc-masked_T2S.nii.gz\n",
      "Copied and processed sub-324_space-T2S_desc-masked_T2S.nii.gz\n",
      "Copied sub-324_space-T2S_CMB.nii.gz\n",
      "\n",
      "Processing file: c:\\Users\\nigel\\Documents\\Thesis\\Thesis\\Dataset\\VALDO_dataset/mri_t2s_dir\\sub-325_space-T2S_desc-masked_T2S.nii.gz\n",
      "Copied and processed sub-325_space-T2S_desc-masked_T2S.nii.gz\n",
      "Copied sub-325_space-T2S_CMB.nii.gz\n",
      "\n",
      "Processing file: c:\\Users\\nigel\\Documents\\Thesis\\Thesis\\Dataset\\VALDO_dataset/mri_t2s_dir\\sub-326_space-T2S_desc-masked_T2S.nii.gz\n",
      "Copied and processed sub-326_space-T2S_desc-masked_T2S.nii.gz\n",
      "Copied sub-326_space-T2S_CMB.nii.gz\n",
      "\n",
      "Processing file: c:\\Users\\nigel\\Documents\\Thesis\\Thesis\\Dataset\\VALDO_dataset/mri_t2s_dir\\sub-327_space-T2S_desc-masked_T2S.nii.gz\n",
      "Copied and processed sub-327_space-T2S_desc-masked_T2S.nii.gz\n",
      "Copied sub-327_space-T2S_CMB.nii.gz\n",
      "\n"
     ]
    }
   ],
   "source": [
    "# Process each MRI scan using SynthStrip\n",
    "for label_path, id_path in zip(labels, ids):\n",
    "    label_name = os.path.basename(label_path)\n",
    "    id_name = os.path.basename(id_path)\n",
    "    \n",
    "    # copies the CMB masks files in another folder\n",
    "    cmb_path = os.path.join(CMB_MASKS_DIR, label_name)\n",
    "    os.system(f'copy \"{label_path}\" \"{cmb_path}\"')\n",
    "    \n",
    "    # copies the MRI T2S files in another folder\n",
    "    mri_path = os.path.join(MRI_T2S_DIR, id_name)\n",
    "    os.system(f'copy \"{id_path}\" \"{mri_path}\"')    \n",
    "    \n",
    "    print(f\"Processing file: {mri_path}\")\n",
    "    \n",
    "    # Docker command for running the SynthStrip \n",
    "    docker_command = [\n",
    "        DOCKER_PATH, \"run\", \"--rm\",\n",
    "        \"-v\", f\"{MRI_T2S_DIR}:/input\",\n",
    "        \"-v\", f\"{PREPROCESSED_DIR}:/output\",\n",
    "        synthstrip_docker,\n",
    "        \"-i\", f\"/input/{id_name}\",\n",
    "        f\"-o\", f\"/output/{id_name.replace('.nii.gz', '_stripped.nii.gz')}\"\n",
    "    ]\n",
    "    \n",
    "    subprocess.run(docker_command, shell=True, capture_output=True, text=True)\n",
    "    print(f\"Copied and processed {id_name}\")\n",
    "    print(f\"Copied {label_name}\\n\")"
   ]
  },
  {
   "cell_type": "code",
   "execution_count": 13,
   "metadata": {},
   "outputs": [
    {
     "data": {
      "text/plain": [
       "['sub-101_space-T2S_desc-masked_T2S_stripped.nii.gz',\n",
       " 'sub-102_space-T2S_desc-masked_T2S_stripped.nii.gz',\n",
       " 'sub-103_space-T2S_desc-masked_T2S_stripped.nii.gz',\n",
       " 'sub-104_space-T2S_desc-masked_T2S_stripped.nii.gz',\n",
       " 'sub-105_space-T2S_desc-masked_T2S_stripped.nii.gz',\n",
       " 'sub-106_space-T2S_desc-masked_T2S_stripped.nii.gz',\n",
       " 'sub-107_space-T2S_desc-masked_T2S_stripped.nii.gz',\n",
       " 'sub-108_space-T2S_desc-masked_T2S_stripped.nii.gz',\n",
       " 'sub-109_space-T2S_desc-masked_T2S_stripped.nii.gz',\n",
       " 'sub-110_space-T2S_desc-masked_T2S_stripped.nii.gz',\n",
       " 'sub-111_space-T2S_desc-masked_T2S_stripped.nii.gz',\n",
       " 'sub-201_space-T2S_desc-masked_T2S_stripped.nii.gz',\n",
       " 'sub-202_space-T2S_desc-masked_T2S_stripped.nii.gz',\n",
       " 'sub-203_space-T2S_desc-masked_T2S_stripped.nii.gz',\n",
       " 'sub-204_space-T2S_desc-masked_T2S_stripped.nii.gz',\n",
       " 'sub-205_space-T2S_desc-masked_T2S_stripped.nii.gz',\n",
       " 'sub-206_space-T2S_desc-masked_T2S_stripped.nii.gz',\n",
       " 'sub-207_space-T2S_desc-masked_T2S_stripped.nii.gz',\n",
       " 'sub-208_space-T2S_desc-masked_T2S_stripped.nii.gz',\n",
       " 'sub-209_space-T2S_desc-masked_T2S_stripped.nii.gz',\n",
       " 'sub-210_space-T2S_desc-masked_T2S_stripped.nii.gz',\n",
       " 'sub-211_space-T2S_desc-masked_T2S_stripped.nii.gz',\n",
       " 'sub-212_space-T2S_desc-masked_T2S_stripped.nii.gz',\n",
       " 'sub-213_space-T2S_desc-masked_T2S_stripped.nii.gz',\n",
       " 'sub-214_space-T2S_desc-masked_T2S_stripped.nii.gz',\n",
       " 'sub-215_space-T2S_desc-masked_T2S_stripped.nii.gz',\n",
       " 'sub-216_space-T2S_desc-masked_T2S_stripped.nii.gz',\n",
       " 'sub-217_space-T2S_desc-masked_T2S_stripped.nii.gz',\n",
       " 'sub-218_space-T2S_desc-masked_T2S_stripped.nii.gz',\n",
       " 'sub-219_space-T2S_desc-masked_T2S_stripped.nii.gz',\n",
       " 'sub-220_space-T2S_desc-masked_T2S_stripped.nii.gz',\n",
       " 'sub-221_space-T2S_desc-masked_T2S_stripped.nii.gz',\n",
       " 'sub-222_space-T2S_desc-masked_T2S_stripped.nii.gz',\n",
       " 'sub-223_space-T2S_desc-masked_T2S_stripped.nii.gz',\n",
       " 'sub-224_space-T2S_desc-masked_T2S_stripped.nii.gz',\n",
       " 'sub-225_space-T2S_desc-masked_T2S_stripped.nii.gz',\n",
       " 'sub-226_space-T2S_desc-masked_T2S_stripped.nii.gz',\n",
       " 'sub-227_space-T2S_desc-masked_T2S_stripped.nii.gz',\n",
       " 'sub-228_space-T2S_desc-masked_T2S_stripped.nii.gz',\n",
       " 'sub-229_space-T2S_desc-masked_T2S_stripped.nii.gz',\n",
       " 'sub-230_space-T2S_desc-masked_T2S_stripped.nii.gz',\n",
       " 'sub-231_space-T2S_desc-masked_T2S_stripped.nii.gz',\n",
       " 'sub-232_space-T2S_desc-masked_T2S_stripped.nii.gz',\n",
       " 'sub-233_space-T2S_desc-masked_T2S_stripped.nii.gz',\n",
       " 'sub-234_space-T2S_desc-masked_T2S_stripped.nii.gz',\n",
       " 'sub-301_space-T2S_desc-masked_T2S_stripped.nii.gz',\n",
       " 'sub-302_space-T2S_desc-masked_T2S_stripped.nii.gz',\n",
       " 'sub-303_space-T2S_desc-masked_T2S_stripped.nii.gz',\n",
       " 'sub-304_space-T2S_desc-masked_T2S_stripped.nii.gz',\n",
       " 'sub-305_space-T2S_desc-masked_T2S_stripped.nii.gz',\n",
       " 'sub-306_space-T2S_desc-masked_T2S_stripped.nii.gz',\n",
       " 'sub-307_space-T2S_desc-masked_T2S_stripped.nii.gz',\n",
       " 'sub-308_space-T2S_desc-masked_T2S_stripped.nii.gz',\n",
       " 'sub-309_space-T2S_desc-masked_T2S_stripped.nii.gz',\n",
       " 'sub-310_space-T2S_desc-masked_T2S_stripped.nii.gz',\n",
       " 'sub-311_space-T2S_desc-masked_T2S_stripped.nii.gz',\n",
       " 'sub-312_space-T2S_desc-masked_T2S_stripped.nii.gz',\n",
       " 'sub-313_space-T2S_desc-masked_T2S_stripped.nii.gz',\n",
       " 'sub-314_space-T2S_desc-masked_T2S_stripped.nii.gz',\n",
       " 'sub-315_space-T2S_desc-masked_T2S_stripped.nii.gz',\n",
       " 'sub-316_space-T2S_desc-masked_T2S_stripped.nii.gz',\n",
       " 'sub-317_space-T2S_desc-masked_T2S_stripped.nii.gz',\n",
       " 'sub-318_space-T2S_desc-masked_T2S_stripped.nii.gz',\n",
       " 'sub-319_space-T2S_desc-masked_T2S_stripped.nii.gz',\n",
       " 'sub-320_space-T2S_desc-masked_T2S_stripped.nii.gz',\n",
       " 'sub-321_space-T2S_desc-masked_T2S_stripped.nii.gz',\n",
       " 'sub-322_space-T2S_desc-masked_T2S_stripped.nii.gz',\n",
       " 'sub-323_space-T2S_desc-masked_T2S_stripped.nii.gz',\n",
       " 'sub-324_space-T2S_desc-masked_T2S_stripped.nii.gz',\n",
       " 'sub-325_space-T2S_desc-masked_T2S_stripped.nii.gz',\n",
       " 'sub-326_space-T2S_desc-masked_T2S_stripped.nii.gz',\n",
       " 'sub-327_space-T2S_desc-masked_T2S_stripped.nii.gz']"
      ]
     },
     "execution_count": 13,
     "metadata": {},
     "output_type": "execute_result"
    }
   ],
   "source": [
    "os.listdir(PREPROCESSED_DIR)"
   ]
  },
  {
   "cell_type": "code",
   "execution_count": 14,
   "metadata": {},
   "outputs": [
    {
     "ename": "ModuleNotFoundError",
     "evalue": "No module named 'project'",
     "output_type": "error",
     "traceback": [
      "\u001b[1;31m---------------------------------------------------------------------------\u001b[0m",
      "\u001b[1;31mModuleNotFoundError\u001b[0m                       Traceback (most recent call last)",
      "Cell \u001b[1;32mIn[14], line 1\u001b[0m\n\u001b[1;32m----> 1\u001b[0m \u001b[38;5;28;01mfrom\u001b[39;00m \u001b[38;5;21;01mproject\u001b[39;00m\u001b[38;5;21;01m.\u001b[39;00m\u001b[38;5;21;01mutils\u001b[39;00m \u001b[38;5;28;01mimport\u001b[39;00m plot_all_slices, plot_mri_slice\n",
      "\u001b[1;31mModuleNotFoundError\u001b[0m: No module named 'project'"
     ]
    }
   ],
   "source": [
    "from project.utils import plot_all_slices, plot_mri_slice"
   ]
  },
  {
   "cell_type": "code",
   "execution_count": 15,
   "metadata": {},
   "outputs": [],
   "source": [
    "raw_mri_list = [os.path.join(MRI_T2S_DIR, f) for f in os.listdir(MRI_T2S_DIR) if os.path.isfile(os.path.join(MRI_T2S_DIR, f))]\n",
    "cmb_masks_list = [os.path.join(CMB_MASKS_DIR, f) for f in os.listdir(CMB_MASKS_DIR) if os.path.isfile(os.path.join(CMB_MASKS_DIR, f))]\n",
    "preprocessed_mri_list = [os.path.join(PREPROCESSED_DIR, f) for f in os.listdir(PREPROCESSED_DIR) if os.path.isfile(os.path.join(PREPROCESSED_DIR, f))]"
   ]
  },
  {
   "cell_type": "markdown",
   "metadata": {},
   "source": [
    "### MRI slice sample from Cohort 1\n"
   ]
  },
  {
   "cell_type": "code",
   "execution_count": null,
   "metadata": {},
   "outputs": [],
   "source": [
    "plot_mri_slice(raw_mri_list[0])"
   ]
  },
  {
   "cell_type": "code",
   "execution_count": null,
   "metadata": {},
   "outputs": [],
   "source": [
    "plot_mri_slice(preprocessed_mri_list[0])"
   ]
  },
  {
   "cell_type": "markdown",
   "metadata": {},
   "source": [
    "### MRI slice sample from Cohort 2\n"
   ]
  },
  {
   "cell_type": "code",
   "execution_count": null,
   "metadata": {},
   "outputs": [],
   "source": [
    "plot_mri_slice(raw_mri_list[12])"
   ]
  },
  {
   "cell_type": "code",
   "execution_count": null,
   "metadata": {},
   "outputs": [],
   "source": [
    "plot_mri_slice(preprocessed_mri_list[12])"
   ]
  },
  {
   "cell_type": "markdown",
   "metadata": {},
   "source": [
    "### MRI slice sample from Cohort 3\n"
   ]
  },
  {
   "cell_type": "code",
   "execution_count": null,
   "metadata": {},
   "outputs": [],
   "source": [
    "plot_mri_slice(raw_mri_list[65])"
   ]
  },
  {
   "cell_type": "code",
   "execution_count": null,
   "metadata": {},
   "outputs": [],
   "source": [
    "plot_mri_slice(preprocessed_mri_list[65])"
   ]
  },
  {
   "cell_type": "markdown",
   "metadata": {},
   "source": [
    "### Check CMB masks\n"
   ]
  },
  {
   "cell_type": "code",
   "execution_count": null,
   "metadata": {},
   "outputs": [],
   "source": [
    "plot_all_slices(cmb_masks_list[0])"
   ]
  },
  {
   "cell_type": "code",
   "execution_count": null,
   "metadata": {},
   "outputs": [],
   "source": [
    "plot_all_slices(cmb_masks_list[17])"
   ]
  },
  {
   "cell_type": "code",
   "execution_count": null,
   "metadata": {},
   "outputs": [],
   "source": [
    "plot_all_slices(cmb_masks_list[50])"
   ]
  },
  {
   "cell_type": "code",
   "execution_count": null,
   "metadata": {},
   "outputs": [],
   "source": []
  }
 ],
 "metadata": {
  "kernelspec": {
   "display_name": "Python 3",
   "language": "python",
   "name": "python3"
  },
  "language_info": {
   "codemirror_mode": {
    "name": "ipython",
    "version": 3
   },
   "file_extension": ".py",
   "mimetype": "text/x-python",
   "name": "python",
   "nbconvert_exporter": "python",
   "pygments_lexer": "ipython3",
   "version": "3.10.9"
  }
 },
 "nbformat": 4,
 "nbformat_minor": 2
}
