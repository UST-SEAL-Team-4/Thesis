{
 "cells": [
  {
   "cell_type": "code",
   "execution_count": null,
   "id": "54c78a70-7c36-44e6-a11a-3c0daa915e0f",
   "metadata": {},
   "outputs": [],
   "source": [
    "from project.dataset import Dataset\n",
    "import pandas as pd\n",
    "import nibabel as nib"
   ]
  },
  {
   "cell_type": "code",
   "execution_count": null,
   "id": "b5355b49-e9e2-4a59-8e16-563e586cfc89",
   "metadata": {},
   "outputs": [],
   "source": [
    "ds = Dataset()"
   ]
  },
  {
   "cell_type": "markdown",
   "id": "1ff6008e-1165-439e-8dbc-6a865d0781c0",
   "metadata": {},
   "source": [
    "### Load all cases\n"
   ]
  },
  {
   "cell_type": "markdown",
   "id": "f2bb0869-ba90-4c8f-8b69-83bdab22b013",
   "metadata": {},
   "source": [
    "generate slice count for each case using the list comprehension `slices`\n"
   ]
  },
  {
   "cell_type": "code",
   "execution_count": null,
   "id": "ccc8dae9-6b70-4baa-8501-873041579330",
   "metadata": {},
   "outputs": [],
   "source": [
    "mri = ds.load_raw_mri()\n",
    "masks = ds.load_cmb_masks()\n",
    "slices = [nib.load(x).get_fdata().shape[2] for x in mri]"
   ]
  },
  {
   "cell_type": "markdown",
   "id": "49ec616a-54ec-4d35-9f77-90dad31d946e",
   "metadata": {},
   "source": [
    "create `standard_df` for the unprocessed data\n"
   ]
  },
  {
   "cell_type": "code",
   "execution_count": null,
   "id": "37d027da-3625-45c7-b3c3-c0357c6cbf14",
   "metadata": {},
   "outputs": [],
   "source": [
    "standard_df = pd.DataFrame({\n",
    "    'mri': mri,\n",
    "    'masks': masks,\n",
    "    'slices': slices\n",
    "})"
   ]
  },
  {
   "cell_type": "code",
   "execution_count": null,
   "id": "d4ab6d9a",
   "metadata": {},
   "outputs": [],
   "source": [
    "sample_mask = nib.load(masks[0]).get_fdata()\n",
    "sample_mask"
   ]
  },
  {
   "cell_type": "code",
   "execution_count": null,
   "id": "f76e33c1",
   "metadata": {},
   "outputs": [],
   "source": [
    "sample_mask.shape"
   ]
  },
  {
   "cell_type": "code",
   "execution_count": null,
   "id": "22d55715",
   "metadata": {},
   "outputs": [],
   "source": [
    "sample_mask[:, :, 0]"
   ]
  },
  {
   "cell_type": "markdown",
   "id": "850a9c94-ebed-4c6d-9b83-c0776c4f8fd8",
   "metadata": {},
   "source": [
    "function to generate all the target slices for each case\n"
   ]
  },
  {
   "cell_type": "code",
   "execution_count": null,
   "id": "50e1c4f2-e80b-482d-b014-1c1de422e86e",
   "metadata": {},
   "outputs": [],
   "source": [
    "def generate_target_slice(mri, masks, slices, cohort=0):\n",
    "    if len(mri) != len(masks):\n",
    "        print(f'Unequal amount of mri cases to cmb masks\\t{len(mri)} to {len(masks)}')\n",
    "    if len(mri) != len(slices):\n",
    "        print(f'Unequal amount of mri cases to case slice counts\\t{len(mri)} to {len(slices)}')\n",
    "\n",
    "    # ls = [(mri[i], masks[i], target) for i in range(len(mri)) for target in range(slices[i])]\n",
    "    ls = []\n",
    "    \n",
    "    for i in range(len(mri)):\n",
    "        maxval = nib.load(mri[i]).get_fdata().max()\n",
    "        mask_data = nib.load(masks[i]).get_fdata()\n",
    "        has_microbleed_case = 1 if mask_data.max() > 0 else 0\n",
    "            \n",
    "        for target in range(slices[i]):\n",
    "            has_microbleed_slice = 1 if mask_data[:, :, target].max() > 0 else 0\n",
    "            ls.append((\n",
    "                mri[i], \n",
    "                masks[i], \n",
    "                target, \n",
    "                has_microbleed_case, \n",
    "                has_microbleed_slice,\n",
    "                cohort,\n",
    "                maxval\n",
    "            ))\n",
    "            \n",
    "    df = pd.DataFrame(ls, columns=[\n",
    "        'mri',\n",
    "        'masks', \n",
    "        'target', \n",
    "        'has_microbleed_case', \n",
    "        'has_microbleed_slice',\n",
    "        'cohort',\n",
    "        'max_value'\n",
    "    ])\n",
    "    # ls = [(case, target) for case, slices in zip(case, slices) for target in range(slices)]\n",
    "    return df"
   ]
  },
  {
   "cell_type": "code",
   "execution_count": null,
   "id": "bfba0ca8-304d-4a16-a4a5-3cec80c195e2",
   "metadata": {},
   "outputs": [],
   "source": [
    "df = generate_target_slice(mri, masks, slices)"
   ]
  },
  {
   "cell_type": "markdown",
   "id": "8db427a5-f593-4c78-af7d-5df9bf3880fb",
   "metadata": {},
   "source": [
    "### Load per cohort"
   ]
  },
  {
   "cell_type": "code",
   "execution_count": null,
   "id": "76283df9-6c63-4371-8d80-1debcd5e2445",
   "metadata": {},
   "outputs": [],
   "source": [
    "ch1mri = ds.load_raw_mri(1)\n",
    "ch1masks = ds.load_cmb_masks(1)\n",
    "ch1slices = [nib.load(x).get_fdata().shape[2] for x in ch1mri]\n",
    "\n",
    "ch1df = generate_target_slice(ch1mri, ch1masks, ch1slices, cohort=1)"
   ]
  },
  {
   "cell_type": "code",
   "execution_count": null,
   "id": "e20ebd72-1cb3-4908-afcd-08097d756508",
   "metadata": {},
   "outputs": [],
   "source": [
    "ch2mri = ds.load_raw_mri(2)\n",
    "ch2masks = ds.load_cmb_masks(2)\n",
    "ch2slices = [nib.load(x).get_fdata().shape[2] for x in ch2mri]\n",
    "\n",
    "ch2df = generate_target_slice(ch2mri, ch2masks, ch2slices, cohort=2)"
   ]
  },
  {
   "cell_type": "code",
   "execution_count": null,
   "id": "e6ada27d-4b66-4486-9c46-2a0e64743161",
   "metadata": {},
   "outputs": [],
   "source": [
    "ch3mri = ds.load_raw_mri(3)\n",
    "ch3masks = ds.load_cmb_masks(3)\n",
    "ch3slices = [nib.load(x).get_fdata().shape[2] for x in ch3mri]\n",
    "\n",
    "ch3df = generate_target_slice(ch3mri, ch3masks, ch3slices, cohort=3)"
   ]
  },
  {
   "cell_type": "markdown",
   "id": "65f9a9d6-378a-4e9e-b977-e51b19c653b4",
   "metadata": {},
   "source": [
    "### Check if all data except cohort number matches with the old version `df`"
   ]
  },
  {
   "cell_type": "code",
   "execution_count": null,
   "id": "b2050d16-5179-49dd-877c-0fee7b46fdc9",
   "metadata": {},
   "outputs": [],
   "source": [
    "ff = pd.concat([ch1df, ch2df, ch3df], ignore_index=True)"
   ]
  },
  {
   "cell_type": "code",
   "execution_count": null,
   "id": "64df50d7-4e63-4673-b53a-08cbe3fb3b0f",
   "metadata": {},
   "outputs": [],
   "source": [
    "check = df[['mri', 'masks', 'target', 'has_microbleed_case', 'has_microbleed_slice', 'max_value', 'cohort']] == ff[['mri', 'masks', 'target', 'has_microbleed_case', 'has_microbleed_slice', 'max_value', 'cohort']]"
   ]
  },
  {
   "cell_type": "code",
   "execution_count": null,
   "id": "a69ce823-27e1-4a7a-9e9e-36b852880206",
   "metadata": {},
   "outputs": [],
   "source": [
    "sns.heatmap(check)"
   ]
  },
  {
   "cell_type": "markdown",
   "id": "facd9bba-d0d2-4344-bec2-a9c46074598c",
   "metadata": {},
   "source": [
    "if all is well and good, make `ff` the new `df`"
   ]
  },
  {
   "cell_type": "code",
   "execution_count": null,
   "id": "c78f4bab-f0dc-4478-9ea6-f10b11ad05c9",
   "metadata": {},
   "outputs": [],
   "source": [
    "df = ff"
   ]
  },
  {
   "cell_type": "markdown",
   "id": "92acca4f-f4be-429c-a433-543f0cc5d62f",
   "metadata": {},
   "source": [
    "---"
   ]
  },
  {
   "cell_type": "code",
   "execution_count": null,
   "id": "c9885625",
   "metadata": {},
   "outputs": [],
   "source": [
    "df.sample(5)"
   ]
  },
  {
   "cell_type": "markdown",
   "id": "011ba780",
   "metadata": {},
   "source": [
    "This should return none because this is invalid\n"
   ]
  },
  {
   "cell_type": "code",
   "execution_count": null,
   "id": "f2afacf1",
   "metadata": {},
   "outputs": [],
   "source": [
    "df[(df['has_microbleed_case'] == 0) & (df['has_microbleed_slice'] == 1)]"
   ]
  },
  {
   "cell_type": "markdown",
   "id": "f990f481",
   "metadata": {},
   "source": [
    "Check how many cases have microbleeds\n"
   ]
  },
  {
   "cell_type": "code",
   "execution_count": null,
   "id": "edd43e61",
   "metadata": {},
   "outputs": [],
   "source": [
    "len(df['masks'].drop_duplicates())"
   ]
  },
  {
   "cell_type": "code",
   "execution_count": null,
   "id": "3ed02f59",
   "metadata": {},
   "outputs": [],
   "source": [
    "df[df['has_microbleed_case'] == 1]['masks'].nunique()"
   ]
  },
  {
   "cell_type": "code",
   "execution_count": null,
   "id": "776abb94-0da9-4139-a7b8-8cd441e63fd9",
   "metadata": {},
   "outputs": [],
   "source": [
    "ar = df.groupby('mri').target.max()\n",
    "ar"
   ]
  },
  {
   "cell_type": "code",
   "execution_count": null,
   "id": "851842ee-342e-4b0d-8cd8-8dc34553e6ed",
   "metadata": {},
   "outputs": [],
   "source": [
    "arr = standard_df.groupby('mri').slices.max()\n",
    "ar"
   ]
  },
  {
   "cell_type": "markdown",
   "id": "4856266a-717a-4175-8e7c-fd9221d3ef14",
   "metadata": {},
   "source": [
    "### Check if all slices match with the raw dataframe count\n"
   ]
  },
  {
   "cell_type": "code",
   "execution_count": null,
   "id": "a536dc3c-1b89-4123-8779-6dad6d1fe290",
   "metadata": {},
   "outputs": [],
   "source": [
    "(ar == (arr - 1)).all()"
   ]
  },
  {
   "cell_type": "markdown",
   "id": "8fc07dfb-b25f-4f68-b28a-3cea5fe9487c",
   "metadata": {},
   "source": [
    "### Export as metadata\n"
   ]
  },
  {
   "cell_type": "code",
   "execution_count": null,
   "id": "d6daec3c-3ab6-46d2-a707-9fcddc58f456",
   "metadata": {},
   "outputs": [],
   "source": [
    "df.to_csv('targets.csv', index=False)"
   ]
  }
 ],
 "metadata": {
  "kernelspec": {
   "display_name": "Python 3 (ipykernel)",
   "language": "python",
   "name": "python3"
  },
  "language_info": {
   "codemirror_mode": {
    "name": "ipython",
    "version": 3
   },
   "file_extension": ".py",
   "mimetype": "text/x-python",
   "name": "python",
   "nbconvert_exporter": "python",
   "pygments_lexer": "ipython3",
   "version": "3.10.5"
  }
 },
 "nbformat": 4,
 "nbformat_minor": 5
}
