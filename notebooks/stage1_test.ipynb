{
 "cells": [
  {
   "cell_type": "code",
   "execution_count": 1,
   "id": "e8cc4113-4b1c-43fb-baa6-41406b3eea6f",
   "metadata": {},
   "outputs": [
    {
     "name": "stderr",
     "output_type": "stream",
     "text": [
      "INFO:albumentations.check_version:A new version of Albumentations is available: 1.4.21 (you have 1.4.7). Upgrade using: pip install --upgrade albumentations\n"
     ]
    }
   ],
   "source": [
    "import torch\n",
    "import torch.nn as nn\n",
    "import pandas as pd\n",
    "from project.dataset import Dataset, VALDODataset\n",
    "from torch.utils.data import DataLoader\n",
    "from project.preprocessing import z_score_normalization, min_max_normalization, NiftiToTensorTransform, get_transform\n",
    "from project.utils import collate_fn, plot_mri_slice, plot_all_slices, plot_all_slices_from_array, collatev2\n",
    "import winsound\n",
    "from torchvision.models import resnet18, ResNet18_Weights\n",
    "from project.utils import memcheck, compute_statistics"
   ]
  },
  {
   "cell_type": "code",
   "execution_count": 2,
   "id": "748e9e26-ebae-4a3b-b7cb-5b285832b2dd",
   "metadata": {},
   "outputs": [
    {
     "data": {
      "text/plain": [
       "'Nov_02_2024_072056'"
      ]
     },
     "execution_count": 2,
     "metadata": {},
     "output_type": "execute_result"
    }
   ],
   "source": [
    "import logging\n",
    "from datetime import datetime as dtt\n",
    "import os\n",
    "\n",
    "path = 'logs'\n",
    "os.makedirs(path, exist_ok=True)\n",
    "dte = dtt.now().strftime('%b_%d_%Y_%H%M%S')\n",
    "\n",
    "logger = logging.getLogger('andy')\n",
    "fh = logging.FileHandler(f'logs/{dte}.log')\n",
    "formatter = logging.Formatter(\n",
    "    '%(asctime)s - %(levelname)s - %(message)s'\n",
    ")\n",
    "\n",
    "logger.setLevel(logging.DEBUG)\n",
    "fh.setLevel(logging.DEBUG)\n",
    "fh.setFormatter(formatter)\n",
    "\n",
    "logger.addHandler(fh)\n",
    "\n",
    "dte"
   ]
  },
  {
   "cell_type": "code",
   "execution_count": 3,
   "id": "a85ead15-ddd0-4f18-b245-72433d5b1f82",
   "metadata": {},
   "outputs": [
    {
     "data": {
      "text/plain": [
       "'cuda'"
      ]
     },
     "execution_count": 3,
     "metadata": {},
     "output_type": "execute_result"
    }
   ],
   "source": [
    "device = 'cuda' if torch.cuda.is_available() else 'cpu'\n",
    "device"
   ]
  },
  {
   "cell_type": "markdown",
   "id": "7c759b9a-4fef-4894-9087-10a10a70ffb5",
   "metadata": {},
   "source": [
    "### Config for fitter"
   ]
  },
  {
   "cell_type": "code",
   "execution_count": 4,
   "id": "bb80c6d7-a2e6-4696-96cc-e2e71cf00e8f",
   "metadata": {},
   "outputs": [
    {
     "name": "stderr",
     "output_type": "stream",
     "text": [
      "C:\\Program Files\\Python310\\lib\\site-packages\\torch\\nn\\modules\\transformer.py:306: UserWarning: enable_nested_tensor is True, but self.use_nested_tensor is False because encoder_layer.self_attn.batch_first was not True(use batch_first for better inference performance)\n",
      "  warnings.warn(f\"enable_nested_tensor is True, but self.use_nested_tensor is False because {why_not_sparsity_fast_path}\")\n"
     ]
    },
    {
     "name": "stdout",
     "output_type": "stream",
     "text": [
      "324\n"
     ]
    }
   ],
   "source": [
    "from project.model import RPN\n",
    "\n",
    "config = {\n",
    "    'model': RPN(\n",
    "        input_dim=512,\n",
    "        output_dim=4,\n",
    "        image_size=300,\n",
    "        nh=4\n",
    "    ).to(device),\n",
    "    'optimizer': torch.optim.Adam,\n",
    "    'device': device,\n",
    "    'epochs': 50,\n",
    "    'loss': nn.SmoothL1Loss(),\n",
    "    # 'loss': nn.MSELoss(),\n",
    "    # 'loss': nn.L1Loss(),\n",
    "    'lr': 0.0001\n",
    "}"
   ]
  },
  {
   "cell_type": "markdown",
   "id": "bdd20a24-fa35-49b3-9831-30be661513c2",
   "metadata": {},
   "source": [
    "#### Load Pretrained Embedder"
   ]
  },
  {
   "cell_type": "raw",
   "id": "0a0251eb-6a7c-4dca-88a8-920a27e59db5",
   "metadata": {},
   "source": [
    "model = config['model']"
   ]
  },
  {
   "cell_type": "raw",
   "id": "71e96d12-faf9-40e0-bc3d-cdfa8812926a",
   "metadata": {},
   "source": [
    "model.embedder.load_state_dict(torch.load('Encoder_weights_211024184155.pt'))"
   ]
  },
  {
   "cell_type": "markdown",
   "id": "e586fded-7acf-4133-ae61-db19a52f03ad",
   "metadata": {},
   "source": [
    "#### Load RPN Weights"
   ]
  },
  {
   "cell_type": "raw",
   "id": "6b06400d-4a9b-4176-b3bc-2ab7f17c5332",
   "metadata": {},
   "source": [
    "model = config['model']\n",
    "model.load_state_dict(torch.load('RPN_weights_241024213949.pt'))"
   ]
  },
  {
   "cell_type": "markdown",
   "id": "11832556-839a-4627-8aa1-d4ee7d416375",
   "metadata": {},
   "source": [
    "### Load dataset"
   ]
  },
  {
   "cell_type": "code",
   "execution_count": 5,
   "id": "505bca57-deac-4cba-b49b-141528ce79af",
   "metadata": {},
   "outputs": [
    {
     "data": {
      "text/plain": [
       "(7986, 8)"
      ]
     },
     "execution_count": 5,
     "metadata": {},
     "output_type": "execute_result"
    }
   ],
   "source": [
    "ds = Dataset()\n",
    "\n",
    "data = pd.read_csv('targets.csv')\n",
    "data.shape"
   ]
  },
  {
   "cell_type": "code",
   "execution_count": 6,
   "id": "2e72b2e7-5c33-4ef6-a5f4-34d82ffa2fe5",
   "metadata": {},
   "outputs": [
    {
     "data": {
      "text/html": [
       "<div>\n",
       "<style scoped>\n",
       "    .dataframe tbody tr th:only-of-type {\n",
       "        vertical-align: middle;\n",
       "    }\n",
       "\n",
       "    .dataframe tbody tr th {\n",
       "        vertical-align: top;\n",
       "    }\n",
       "\n",
       "    .dataframe thead th {\n",
       "        text-align: right;\n",
       "    }\n",
       "</style>\n",
       "<table border=\"1\" class=\"dataframe\">\n",
       "  <thead>\n",
       "    <tr style=\"text-align: right;\">\n",
       "      <th></th>\n",
       "      <th>mri</th>\n",
       "      <th>masks</th>\n",
       "      <th>target</th>\n",
       "      <th>has_microbleed_case</th>\n",
       "      <th>has_microbleed_slice</th>\n",
       "      <th>cohort</th>\n",
       "      <th>max_value</th>\n",
       "      <th>slices</th>\n",
       "    </tr>\n",
       "  </thead>\n",
       "  <tbody>\n",
       "    <tr>\n",
       "      <th>0</th>\n",
       "      <td>C:\\Users\\araza\\Documents\\1\\gits\\thesis_project...</td>\n",
       "      <td>C:\\Users\\araza\\Documents\\1\\gits\\thesis_project...</td>\n",
       "      <td>8</td>\n",
       "      <td>1</td>\n",
       "      <td>1</td>\n",
       "      <td>1</td>\n",
       "      <td>928.405273</td>\n",
       "      <td>35</td>\n",
       "    </tr>\n",
       "    <tr>\n",
       "      <th>1</th>\n",
       "      <td>C:\\Users\\araza\\Documents\\1\\gits\\thesis_project...</td>\n",
       "      <td>C:\\Users\\araza\\Documents\\1\\gits\\thesis_project...</td>\n",
       "      <td>9</td>\n",
       "      <td>1</td>\n",
       "      <td>1</td>\n",
       "      <td>1</td>\n",
       "      <td>928.405273</td>\n",
       "      <td>35</td>\n",
       "    </tr>\n",
       "    <tr>\n",
       "      <th>2</th>\n",
       "      <td>C:\\Users\\araza\\Documents\\1\\gits\\thesis_project...</td>\n",
       "      <td>C:\\Users\\araza\\Documents\\1\\gits\\thesis_project...</td>\n",
       "      <td>11</td>\n",
       "      <td>1</td>\n",
       "      <td>1</td>\n",
       "      <td>1</td>\n",
       "      <td>928.405273</td>\n",
       "      <td>35</td>\n",
       "    </tr>\n",
       "    <tr>\n",
       "      <th>3</th>\n",
       "      <td>C:\\Users\\araza\\Documents\\1\\gits\\thesis_project...</td>\n",
       "      <td>C:\\Users\\araza\\Documents\\1\\gits\\thesis_project...</td>\n",
       "      <td>12</td>\n",
       "      <td>1</td>\n",
       "      <td>1</td>\n",
       "      <td>1</td>\n",
       "      <td>928.405273</td>\n",
       "      <td>35</td>\n",
       "    </tr>\n",
       "    <tr>\n",
       "      <th>4</th>\n",
       "      <td>C:\\Users\\araza\\Documents\\1\\gits\\thesis_project...</td>\n",
       "      <td>C:\\Users\\araza\\Documents\\1\\gits\\thesis_project...</td>\n",
       "      <td>15</td>\n",
       "      <td>1</td>\n",
       "      <td>1</td>\n",
       "      <td>1</td>\n",
       "      <td>928.405273</td>\n",
       "      <td>35</td>\n",
       "    </tr>\n",
       "    <tr>\n",
       "      <th>...</th>\n",
       "      <td>...</td>\n",
       "      <td>...</td>\n",
       "      <td>...</td>\n",
       "      <td>...</td>\n",
       "      <td>...</td>\n",
       "      <td>...</td>\n",
       "      <td>...</td>\n",
       "      <td>...</td>\n",
       "    </tr>\n",
       "    <tr>\n",
       "      <th>359</th>\n",
       "      <td>C:\\Users\\araza\\Documents\\1\\gits\\thesis_project...</td>\n",
       "      <td>C:\\Users\\araza\\Documents\\1\\gits\\thesis_project...</td>\n",
       "      <td>25</td>\n",
       "      <td>1</td>\n",
       "      <td>1</td>\n",
       "      <td>3</td>\n",
       "      <td>241.000000</td>\n",
       "      <td>36</td>\n",
       "    </tr>\n",
       "    <tr>\n",
       "      <th>360</th>\n",
       "      <td>C:\\Users\\araza\\Documents\\1\\gits\\thesis_project...</td>\n",
       "      <td>C:\\Users\\araza\\Documents\\1\\gits\\thesis_project...</td>\n",
       "      <td>26</td>\n",
       "      <td>1</td>\n",
       "      <td>1</td>\n",
       "      <td>3</td>\n",
       "      <td>241.000000</td>\n",
       "      <td>36</td>\n",
       "    </tr>\n",
       "    <tr>\n",
       "      <th>361</th>\n",
       "      <td>C:\\Users\\araza\\Documents\\1\\gits\\thesis_project...</td>\n",
       "      <td>C:\\Users\\araza\\Documents\\1\\gits\\thesis_project...</td>\n",
       "      <td>24</td>\n",
       "      <td>1</td>\n",
       "      <td>1</td>\n",
       "      <td>3</td>\n",
       "      <td>448.000000</td>\n",
       "      <td>39</td>\n",
       "    </tr>\n",
       "    <tr>\n",
       "      <th>362</th>\n",
       "      <td>C:\\Users\\araza\\Documents\\1\\gits\\thesis_project...</td>\n",
       "      <td>C:\\Users\\araza\\Documents\\1\\gits\\thesis_project...</td>\n",
       "      <td>25</td>\n",
       "      <td>1</td>\n",
       "      <td>1</td>\n",
       "      <td>3</td>\n",
       "      <td>448.000000</td>\n",
       "      <td>39</td>\n",
       "    </tr>\n",
       "    <tr>\n",
       "      <th>363</th>\n",
       "      <td>C:\\Users\\araza\\Documents\\1\\gits\\thesis_project...</td>\n",
       "      <td>C:\\Users\\araza\\Documents\\1\\gits\\thesis_project...</td>\n",
       "      <td>20</td>\n",
       "      <td>1</td>\n",
       "      <td>1</td>\n",
       "      <td>3</td>\n",
       "      <td>253.000000</td>\n",
       "      <td>39</td>\n",
       "    </tr>\n",
       "  </tbody>\n",
       "</table>\n",
       "<p>364 rows × 8 columns</p>\n",
       "</div>"
      ],
      "text/plain": [
       "                                                   mri  \\\n",
       "0    C:\\Users\\araza\\Documents\\1\\gits\\thesis_project...   \n",
       "1    C:\\Users\\araza\\Documents\\1\\gits\\thesis_project...   \n",
       "2    C:\\Users\\araza\\Documents\\1\\gits\\thesis_project...   \n",
       "3    C:\\Users\\araza\\Documents\\1\\gits\\thesis_project...   \n",
       "4    C:\\Users\\araza\\Documents\\1\\gits\\thesis_project...   \n",
       "..                                                 ...   \n",
       "359  C:\\Users\\araza\\Documents\\1\\gits\\thesis_project...   \n",
       "360  C:\\Users\\araza\\Documents\\1\\gits\\thesis_project...   \n",
       "361  C:\\Users\\araza\\Documents\\1\\gits\\thesis_project...   \n",
       "362  C:\\Users\\araza\\Documents\\1\\gits\\thesis_project...   \n",
       "363  C:\\Users\\araza\\Documents\\1\\gits\\thesis_project...   \n",
       "\n",
       "                                                 masks  target  \\\n",
       "0    C:\\Users\\araza\\Documents\\1\\gits\\thesis_project...       8   \n",
       "1    C:\\Users\\araza\\Documents\\1\\gits\\thesis_project...       9   \n",
       "2    C:\\Users\\araza\\Documents\\1\\gits\\thesis_project...      11   \n",
       "3    C:\\Users\\araza\\Documents\\1\\gits\\thesis_project...      12   \n",
       "4    C:\\Users\\araza\\Documents\\1\\gits\\thesis_project...      15   \n",
       "..                                                 ...     ...   \n",
       "359  C:\\Users\\araza\\Documents\\1\\gits\\thesis_project...      25   \n",
       "360  C:\\Users\\araza\\Documents\\1\\gits\\thesis_project...      26   \n",
       "361  C:\\Users\\araza\\Documents\\1\\gits\\thesis_project...      24   \n",
       "362  C:\\Users\\araza\\Documents\\1\\gits\\thesis_project...      25   \n",
       "363  C:\\Users\\araza\\Documents\\1\\gits\\thesis_project...      20   \n",
       "\n",
       "     has_microbleed_case  has_microbleed_slice  cohort   max_value  slices  \n",
       "0                      1                     1       1  928.405273      35  \n",
       "1                      1                     1       1  928.405273      35  \n",
       "2                      1                     1       1  928.405273      35  \n",
       "3                      1                     1       1  928.405273      35  \n",
       "4                      1                     1       1  928.405273      35  \n",
       "..                   ...                   ...     ...         ...     ...  \n",
       "359                    1                     1       3  241.000000      36  \n",
       "360                    1                     1       3  241.000000      36  \n",
       "361                    1                     1       3  448.000000      39  \n",
       "362                    1                     1       3  448.000000      39  \n",
       "363                    1                     1       3  253.000000      39  \n",
       "\n",
       "[364 rows x 8 columns]"
      ]
     },
     "execution_count": 6,
     "metadata": {},
     "output_type": "execute_result"
    }
   ],
   "source": [
    "data = data.query('has_microbleed_slice == 1').reset_index(drop=True)\n",
    "data"
   ]
  },
  {
   "cell_type": "markdown",
   "id": "2fdb8189-3279-4cc9-9ee0-6fbe13795cd8",
   "metadata": {},
   "source": [
    "### `DataLoader` Generator"
   ]
  },
  {
   "cell_type": "code",
   "execution_count": 7,
   "id": "bcc29e05-75ac-442e-ac56-5f0131c8e37a",
   "metadata": {},
   "outputs": [],
   "source": [
    "def iqr(data, col):\n",
    "    q3 = data[col].quantile(0.75)\n",
    "    q1 = data[col].quantile(0.25)\n",
    "    iqr = q3-q1\n",
    "    new = data[(data[col] < (q3 + 1.5*iqr)) & (data[col] > (q1 - 1.5*iqr))]\n",
    "    return new"
   ]
  },
  {
   "cell_type": "code",
   "execution_count": 8,
   "id": "d37d5b8c-aab7-448c-8cfa-ab5c125db4d9",
   "metadata": {},
   "outputs": [],
   "source": [
    "from sklearn.model_selection import train_test_split\n",
    "\n",
    "def make_loaders(data,\n",
    "                 cohort,\n",
    "                 batch_size,\n",
    "                 test_size=0.2,\n",
    "                 random_state=12,\n",
    "                 target_shape=(300, 300),\n",
    "                 rpn_mode=True,\n",
    "                 logger=None\n",
    "                ):\n",
    "    data = data[data.cohort == cohort]\n",
    "    # data = iqr(data, 'max_value')\n",
    "    \n",
    "    s = f'Creating loaders for Cohort {cohort}\\n'\n",
    "\n",
    "    data_train, data_test = train_test_split(\n",
    "        data,\n",
    "        test_size=test_size,\n",
    "        random_state=random_state\n",
    "    )\n",
    "\n",
    "    s += f'TRAIN & TEST: {data_train.shape, data_test.shape}\\n'\n",
    "\n",
    "    paths = data_train.mri.unique().tolist()\n",
    "    s += f'Total Unique MRI Samples in data_train: {len(paths)}\\n'\n",
    "    \n",
    "    global_min, global_max = compute_statistics(paths)\n",
    "    s += f'GLOBAL MIN & MAX {global_min, global_max}\\n'\n",
    "\n",
    "    transform = NiftiToTensorTransform(\n",
    "        target_shape=target_shape,\n",
    "        rpn_mode=rpn_mode,\n",
    "        normalization=(global_min, global_max)\n",
    "    )\n",
    "\n",
    "    train_set = VALDODataset(\n",
    "        cases=data_train.mri.tolist(),\n",
    "        masks=data_train.masks.tolist(),\n",
    "        target=data_train.target.tolist(),\n",
    "        transform=transform\n",
    "    )\n",
    "    val_set = VALDODataset(\n",
    "        cases=data_test.mri.tolist(),\n",
    "        masks=data_test.masks.tolist(),\n",
    "        target=data_test.target.tolist(),\n",
    "        transform=transform\n",
    "    )\n",
    "\n",
    "    train_loader = DataLoader(\n",
    "        train_set,\n",
    "        shuffle=True,\n",
    "        batch_size=batch_size,\n",
    "        collate_fn=collatev2\n",
    "    )\n",
    "    val_loader = DataLoader(\n",
    "        val_set,\n",
    "        shuffle=True,\n",
    "        batch_size=batch_size,\n",
    "        collate_fn=collatev2\n",
    "    )\n",
    "\n",
    "    if logger != None:\n",
    "        logger.info(s)\n",
    "    else:\n",
    "        print(s)\n",
    "    \n",
    "    return train_loader, val_loader"
   ]
  },
  {
   "cell_type": "markdown",
   "id": "8a75114c-ec90-4643-9850-e0a9f92f3210",
   "metadata": {},
   "source": [
    "### Load loaders"
   ]
  },
  {
   "cell_type": "code",
   "execution_count": 9,
   "id": "22e34c6e-34d9-456d-8567-9545f2b986cd",
   "metadata": {
    "scrolled": true
   },
   "outputs": [
    {
     "name": "stderr",
     "output_type": "stream",
     "text": [
      "pixdim[0] (qfac) should be 1 (default) or -1; setting qfac to 1\n",
      "INFO:nibabel.global:pixdim[0] (qfac) should be 1 (default) or -1; setting qfac to 1\n",
      "pixdim[0] (qfac) should be 1 (default) or -1; setting qfac to 1\n",
      "INFO:nibabel.global:pixdim[0] (qfac) should be 1 (default) or -1; setting qfac to 1\n",
      "pixdim[0] (qfac) should be 1 (default) or -1; setting qfac to 1\n",
      "INFO:nibabel.global:pixdim[0] (qfac) should be 1 (default) or -1; setting qfac to 1\n",
      "pixdim[0] (qfac) should be 1 (default) or -1; setting qfac to 1\n",
      "INFO:nibabel.global:pixdim[0] (qfac) should be 1 (default) or -1; setting qfac to 1\n",
      "pixdim[0] (qfac) should be 1 (default) or -1; setting qfac to 1\n",
      "INFO:nibabel.global:pixdim[0] (qfac) should be 1 (default) or -1; setting qfac to 1\n",
      "pixdim[0] (qfac) should be 1 (default) or -1; setting qfac to 1\n",
      "INFO:nibabel.global:pixdim[0] (qfac) should be 1 (default) or -1; setting qfac to 1\n",
      "pixdim[0] (qfac) should be 1 (default) or -1; setting qfac to 1\n",
      "INFO:nibabel.global:pixdim[0] (qfac) should be 1 (default) or -1; setting qfac to 1\n",
      "pixdim[0] (qfac) should be 1 (default) or -1; setting qfac to 1\n",
      "INFO:nibabel.global:pixdim[0] (qfac) should be 1 (default) or -1; setting qfac to 1\n"
     ]
    },
    {
     "name": "stdout",
     "output_type": "stream",
     "text": [
      "Creating loaders for Cohort 1\n",
      "TRAIN & TEST: ((36, 8), (9, 8))\n",
      "Total Unique MRI Samples in data_train: 8\n",
      "GLOBAL MIN & MAX (0.0, 1417.92822265625)\n",
      "\n"
     ]
    }
   ],
   "source": [
    "tl, vl = make_loaders(\n",
    "    data=data,\n",
    "    cohort=1,\n",
    "    batch_size=20\n",
    ")"
   ]
  },
  {
   "cell_type": "code",
   "execution_count": 10,
   "id": "2d3aaa85-93f4-4d77-86ee-25380a06989d",
   "metadata": {},
   "outputs": [
    {
     "name": "stdout",
     "output_type": "stream",
     "text": [
      "324\n"
     ]
    },
    {
     "name": "stderr",
     "output_type": "stream",
     "text": [
      "C:\\Program Files\\Python310\\lib\\site-packages\\torch\\nn\\modules\\transformer.py:306: UserWarning: enable_nested_tensor is True, but self.use_nested_tensor is False because encoder_layer.self_attn.batch_first was not True(use batch_first for better inference performance)\n",
      "  warnings.warn(f\"enable_nested_tensor is True, but self.use_nested_tensor is False because {why_not_sparsity_fast_path}\")\n"
     ]
    }
   ],
   "source": [
    "from project.model import Feeder, GCRPN\n",
    "\n",
    "image_size = 300\n",
    "patch_size = 16\n",
    "\n",
    "resize = get_transform(\n",
    "    height=patch_size,\n",
    "    width=patch_size,\n",
    "    p=1.0,\n",
    "    rpn_mode=False\n",
    ")\n",
    "\n",
    "feeder = Feeder(resize)\n",
    "rpn = RPN(\n",
    "    input_dim=512,\n",
    "    output_dim=4,\n",
    "    image_size=300,\n",
    "    nh=4\n",
    ")\n",
    "\n",
    "sto = GCRPN(\n",
    "    rpn=rpn,\n",
    "    feeder=feeder,\n",
    "    image_size=image_size,\n",
    "    patch_size=patch_size\n",
    ")"
   ]
  },
  {
   "cell_type": "code",
   "execution_count": 11,
   "id": "e704572e-ed35-4030-89cc-9822b6971185",
   "metadata": {},
   "outputs": [],
   "source": [
    "mri = torch.randn(10, 1, 1, 300, 300)\n",
    "mask = torch.randn(10, 1, 1, 300, 300)"
   ]
  },
  {
   "cell_type": "code",
   "execution_count": 28,
   "id": "ecad3f92-a582-4315-b64d-645be3baf4b6",
   "metadata": {},
   "outputs": [
    {
     "data": {
      "text/plain": [
       "[97, 86, 129, 156]"
      ]
     },
     "execution_count": 28,
     "metadata": {},
     "output_type": "execute_result"
    }
   ],
   "source": [
    "bbox = (sto.rpn(mri.squeeze(1), 5)*300).squeeze().int().tolist()\n",
    "bbox"
   ]
  },
  {
   "cell_type": "raw",
   "id": "1a231d7e-fd50-4ac3-8850-cb576deab2e6",
   "metadata": {},
   "source": [
    "bbox[2] +="
   ]
  },
  {
   "cell_type": "code",
   "execution_count": 64,
   "id": "a4f61f78-480e-46c5-a737-740efbc4942a",
   "metadata": {},
   "outputs": [
    {
     "data": {
      "text/plain": [
       "torch.Size([10, 1, 16, 16])"
      ]
     },
     "execution_count": 64,
     "metadata": {},
     "output_type": "execute_result"
    }
   ],
   "source": [
    "sto.feeder(mri.squeeze(1), bbox, patch_size).shape"
   ]
  },
  {
   "cell_type": "code",
   "execution_count": 161,
   "id": "4193f17d-105a-41dd-af9f-aef6892064cf",
   "metadata": {},
   "outputs": [],
   "source": [
    "cmri, cmask = sto(mri.squeeze(1), mask, 5)"
   ]
  },
  {
   "cell_type": "code",
   "execution_count": 163,
   "id": "5f5c0edf-2718-480e-8e8f-156114b2c053",
   "metadata": {},
   "outputs": [
    {
     "data": {
      "text/plain": [
       "(torch.Size([10, 1, 16, 16]), torch.Size([10, 1, 16, 16]))"
      ]
     },
     "execution_count": 163,
     "metadata": {},
     "output_type": "execute_result"
    }
   ],
   "source": [
    "cmri.shape, cmask.shape"
   ]
  }
 ],
 "metadata": {
  "kernelspec": {
   "display_name": "Python 3 (ipykernel)",
   "language": "python",
   "name": "python3"
  },
  "language_info": {
   "codemirror_mode": {
    "name": "ipython",
    "version": 3
   },
   "file_extension": ".py",
   "mimetype": "text/x-python",
   "name": "python",
   "nbconvert_exporter": "python",
   "pygments_lexer": "ipython3",
   "version": "3.10.5"
  }
 },
 "nbformat": 4,
 "nbformat_minor": 5
}
