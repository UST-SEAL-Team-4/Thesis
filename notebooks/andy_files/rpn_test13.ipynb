{
 "cells": [
  {
   "cell_type": "code",
   "execution_count": 19,
   "id": "509b9cf7-b144-4a47-8bab-b68cd7398bde",
   "metadata": {},
   "outputs": [],
   "source": [
    "import torch\n",
    "import torch.nn as nn\n",
    "import pandas as pd\n",
    "from project.dataset import Dataset, VALDODataset\n",
    "from torch.utils.data import DataLoader\n",
    "from project.preprocessing import NiftiToTensorTransform, z_score_normalization\n",
    "from project.utils import collate_fn, plot_mri_slice, plot_all_slices, plot_all_slices_from_array, collatev2\n",
    "import winsound\n",
    "from torchvision.models import resnet18, ResNet18_Weights\n",
    "from project.utils import memcheck, compute_statistics"
   ]
  },
  {
   "cell_type": "code",
   "execution_count": 20,
   "id": "e88d4722-7dda-46a1-b103-d7a86abd85db",
   "metadata": {},
   "outputs": [
    {
     "data": {
      "text/plain": [
       "'cuda'"
      ]
     },
     "execution_count": 20,
     "metadata": {},
     "output_type": "execute_result"
    }
   ],
   "source": [
    "import logging\n",
    "logger = logging.getLogger('andy')\n",
    "fh = logging.FileHandler('andy.log')\n",
    "formatter = logging.Formatter(\n",
    "    '%(asctime)s - %(levelname)s - %(message)s'\n",
    ")\n",
    "\n",
    "logger.setLevel(logging.DEBUG)\n",
    "fh.setLevel(logging.DEBUG)\n",
    "fh.setFormatter(formatter)\n",
    "\n",
    "logger.addHandler(fh)\n",
    "\n",
    "device = 'cuda' if torch.cuda.is_available() else 'cpu'\n",
    "device"
   ]
  },
  {
   "cell_type": "markdown",
   "id": "9f8d6888-fe71-430f-8934-61c4166da482",
   "metadata": {},
   "source": [
    "### Load dataset"
   ]
  },
  {
   "cell_type": "code",
   "execution_count": 21,
   "id": "8a160382-6f38-4179-828a-af70ee05d3ab",
   "metadata": {},
   "outputs": [
    {
     "data": {
      "text/plain": [
       "(7986, 7)"
      ]
     },
     "execution_count": 21,
     "metadata": {},
     "output_type": "execute_result"
    }
   ],
   "source": [
    "ds = Dataset()\n",
    "\n",
    "data = pd.read_csv('targets.csv')\n",
    "data.shape"
   ]
  },
  {
   "cell_type": "code",
   "execution_count": 15,
   "id": "6fe6e58b-1c31-4bac-a00b-e4a6345db2e3",
   "metadata": {},
   "outputs": [
    {
     "data": {
      "text/html": [
       "<div>\n",
       "<style scoped>\n",
       "    .dataframe tbody tr th:only-of-type {\n",
       "        vertical-align: middle;\n",
       "    }\n",
       "\n",
       "    .dataframe tbody tr th {\n",
       "        vertical-align: top;\n",
       "    }\n",
       "\n",
       "    .dataframe thead th {\n",
       "        text-align: right;\n",
       "    }\n",
       "</style>\n",
       "<table border=\"1\" class=\"dataframe\">\n",
       "  <thead>\n",
       "    <tr style=\"text-align: right;\">\n",
       "      <th></th>\n",
       "      <th>mri</th>\n",
       "      <th>masks</th>\n",
       "      <th>target</th>\n",
       "      <th>has_microbleed_case</th>\n",
       "      <th>has_microbleed_slice</th>\n",
       "      <th>cohort</th>\n",
       "      <th>max_value</th>\n",
       "    </tr>\n",
       "  </thead>\n",
       "  <tbody>\n",
       "    <tr>\n",
       "      <th>0</th>\n",
       "      <td>C:\\Users\\araza\\Documents\\1\\gits\\thesis_project...</td>\n",
       "      <td>C:\\Users\\araza\\Documents\\1\\gits\\thesis_project...</td>\n",
       "      <td>8</td>\n",
       "      <td>1</td>\n",
       "      <td>1</td>\n",
       "      <td>1</td>\n",
       "      <td>928.405273</td>\n",
       "    </tr>\n",
       "    <tr>\n",
       "      <th>1</th>\n",
       "      <td>C:\\Users\\araza\\Documents\\1\\gits\\thesis_project...</td>\n",
       "      <td>C:\\Users\\araza\\Documents\\1\\gits\\thesis_project...</td>\n",
       "      <td>9</td>\n",
       "      <td>1</td>\n",
       "      <td>1</td>\n",
       "      <td>1</td>\n",
       "      <td>928.405273</td>\n",
       "    </tr>\n",
       "    <tr>\n",
       "      <th>2</th>\n",
       "      <td>C:\\Users\\araza\\Documents\\1\\gits\\thesis_project...</td>\n",
       "      <td>C:\\Users\\araza\\Documents\\1\\gits\\thesis_project...</td>\n",
       "      <td>11</td>\n",
       "      <td>1</td>\n",
       "      <td>1</td>\n",
       "      <td>1</td>\n",
       "      <td>928.405273</td>\n",
       "    </tr>\n",
       "    <tr>\n",
       "      <th>3</th>\n",
       "      <td>C:\\Users\\araza\\Documents\\1\\gits\\thesis_project...</td>\n",
       "      <td>C:\\Users\\araza\\Documents\\1\\gits\\thesis_project...</td>\n",
       "      <td>12</td>\n",
       "      <td>1</td>\n",
       "      <td>1</td>\n",
       "      <td>1</td>\n",
       "      <td>928.405273</td>\n",
       "    </tr>\n",
       "    <tr>\n",
       "      <th>4</th>\n",
       "      <td>C:\\Users\\araza\\Documents\\1\\gits\\thesis_project...</td>\n",
       "      <td>C:\\Users\\araza\\Documents\\1\\gits\\thesis_project...</td>\n",
       "      <td>15</td>\n",
       "      <td>1</td>\n",
       "      <td>1</td>\n",
       "      <td>1</td>\n",
       "      <td>928.405273</td>\n",
       "    </tr>\n",
       "    <tr>\n",
       "      <th>...</th>\n",
       "      <td>...</td>\n",
       "      <td>...</td>\n",
       "      <td>...</td>\n",
       "      <td>...</td>\n",
       "      <td>...</td>\n",
       "      <td>...</td>\n",
       "      <td>...</td>\n",
       "    </tr>\n",
       "    <tr>\n",
       "      <th>359</th>\n",
       "      <td>C:\\Users\\araza\\Documents\\1\\gits\\thesis_project...</td>\n",
       "      <td>C:\\Users\\araza\\Documents\\1\\gits\\thesis_project...</td>\n",
       "      <td>25</td>\n",
       "      <td>1</td>\n",
       "      <td>1</td>\n",
       "      <td>3</td>\n",
       "      <td>241.000000</td>\n",
       "    </tr>\n",
       "    <tr>\n",
       "      <th>360</th>\n",
       "      <td>C:\\Users\\araza\\Documents\\1\\gits\\thesis_project...</td>\n",
       "      <td>C:\\Users\\araza\\Documents\\1\\gits\\thesis_project...</td>\n",
       "      <td>26</td>\n",
       "      <td>1</td>\n",
       "      <td>1</td>\n",
       "      <td>3</td>\n",
       "      <td>241.000000</td>\n",
       "    </tr>\n",
       "    <tr>\n",
       "      <th>361</th>\n",
       "      <td>C:\\Users\\araza\\Documents\\1\\gits\\thesis_project...</td>\n",
       "      <td>C:\\Users\\araza\\Documents\\1\\gits\\thesis_project...</td>\n",
       "      <td>24</td>\n",
       "      <td>1</td>\n",
       "      <td>1</td>\n",
       "      <td>3</td>\n",
       "      <td>448.000000</td>\n",
       "    </tr>\n",
       "    <tr>\n",
       "      <th>362</th>\n",
       "      <td>C:\\Users\\araza\\Documents\\1\\gits\\thesis_project...</td>\n",
       "      <td>C:\\Users\\araza\\Documents\\1\\gits\\thesis_project...</td>\n",
       "      <td>25</td>\n",
       "      <td>1</td>\n",
       "      <td>1</td>\n",
       "      <td>3</td>\n",
       "      <td>448.000000</td>\n",
       "    </tr>\n",
       "    <tr>\n",
       "      <th>363</th>\n",
       "      <td>C:\\Users\\araza\\Documents\\1\\gits\\thesis_project...</td>\n",
       "      <td>C:\\Users\\araza\\Documents\\1\\gits\\thesis_project...</td>\n",
       "      <td>20</td>\n",
       "      <td>1</td>\n",
       "      <td>1</td>\n",
       "      <td>3</td>\n",
       "      <td>253.000000</td>\n",
       "    </tr>\n",
       "  </tbody>\n",
       "</table>\n",
       "<p>364 rows × 7 columns</p>\n",
       "</div>"
      ],
      "text/plain": [
       "                                                   mri  \\\n",
       "0    C:\\Users\\araza\\Documents\\1\\gits\\thesis_project...   \n",
       "1    C:\\Users\\araza\\Documents\\1\\gits\\thesis_project...   \n",
       "2    C:\\Users\\araza\\Documents\\1\\gits\\thesis_project...   \n",
       "3    C:\\Users\\araza\\Documents\\1\\gits\\thesis_project...   \n",
       "4    C:\\Users\\araza\\Documents\\1\\gits\\thesis_project...   \n",
       "..                                                 ...   \n",
       "359  C:\\Users\\araza\\Documents\\1\\gits\\thesis_project...   \n",
       "360  C:\\Users\\araza\\Documents\\1\\gits\\thesis_project...   \n",
       "361  C:\\Users\\araza\\Documents\\1\\gits\\thesis_project...   \n",
       "362  C:\\Users\\araza\\Documents\\1\\gits\\thesis_project...   \n",
       "363  C:\\Users\\araza\\Documents\\1\\gits\\thesis_project...   \n",
       "\n",
       "                                                 masks  target  \\\n",
       "0    C:\\Users\\araza\\Documents\\1\\gits\\thesis_project...       8   \n",
       "1    C:\\Users\\araza\\Documents\\1\\gits\\thesis_project...       9   \n",
       "2    C:\\Users\\araza\\Documents\\1\\gits\\thesis_project...      11   \n",
       "3    C:\\Users\\araza\\Documents\\1\\gits\\thesis_project...      12   \n",
       "4    C:\\Users\\araza\\Documents\\1\\gits\\thesis_project...      15   \n",
       "..                                                 ...     ...   \n",
       "359  C:\\Users\\araza\\Documents\\1\\gits\\thesis_project...      25   \n",
       "360  C:\\Users\\araza\\Documents\\1\\gits\\thesis_project...      26   \n",
       "361  C:\\Users\\araza\\Documents\\1\\gits\\thesis_project...      24   \n",
       "362  C:\\Users\\araza\\Documents\\1\\gits\\thesis_project...      25   \n",
       "363  C:\\Users\\araza\\Documents\\1\\gits\\thesis_project...      20   \n",
       "\n",
       "     has_microbleed_case  has_microbleed_slice  cohort   max_value  \n",
       "0                      1                     1       1  928.405273  \n",
       "1                      1                     1       1  928.405273  \n",
       "2                      1                     1       1  928.405273  \n",
       "3                      1                     1       1  928.405273  \n",
       "4                      1                     1       1  928.405273  \n",
       "..                   ...                   ...     ...         ...  \n",
       "359                    1                     1       3  241.000000  \n",
       "360                    1                     1       3  241.000000  \n",
       "361                    1                     1       3  448.000000  \n",
       "362                    1                     1       3  448.000000  \n",
       "363                    1                     1       3  253.000000  \n",
       "\n",
       "[364 rows x 7 columns]"
      ]
     },
     "execution_count": 15,
     "metadata": {},
     "output_type": "execute_result"
    }
   ],
   "source": [
    "data = data.query('has_microbleed_slice == 1').reset_index(drop=True)\n",
    "data"
   ]
  },
  {
   "cell_type": "markdown",
   "id": "2e6b2b02-c5aa-4416-b641-cce71c4a7f82",
   "metadata": {},
   "source": [
    "#### Select a cohort"
   ]
  },
  {
   "cell_type": "code",
   "execution_count": 16,
   "id": "94d1c3df-2600-4fdf-902f-82124384ebb1",
   "metadata": {},
   "outputs": [
    {
     "data": {
      "text/plain": [
       "(45, 7)"
      ]
     },
     "execution_count": 16,
     "metadata": {},
     "output_type": "execute_result"
    }
   ],
   "source": [
    "ch1 = ds.load_raw_mri(1)\n",
    "data = data[data.mri.isin(ch1)]\n",
    "data.shape"
   ]
  },
  {
   "cell_type": "markdown",
   "id": "ebec8d67-d35c-450f-8729-9c83e326a6f4",
   "metadata": {},
   "source": [
    "### Train and Test Split"
   ]
  },
  {
   "cell_type": "code",
   "execution_count": null,
   "id": "2faa9cc5-3c5e-475a-9e76-e42bb11bee30",
   "metadata": {},
   "outputs": [],
   "source": [
    "from sklearn.model_selection import train_test_split\n",
    "\n",
    "data_train, data_test = train_test_split(\n",
    "    data,\n",
    "    test_size=0.2,\n",
    "    random_state=12\n",
    ")\n",
    "\n",
    "data_train = data_train.reset_index(drop=True)\n",
    "data_test = data_test.reset_index(drop=True)"
   ]
  },
  {
   "cell_type": "code",
   "execution_count": null,
   "id": "84476d2c-df2f-4c30-94ae-2a87feaf4dad",
   "metadata": {},
   "outputs": [],
   "source": [
    "data_train.shape, data_test.shape"
   ]
  },
  {
   "cell_type": "markdown",
   "id": "8ac5c9c5-ed5d-4a04-b934-145406595318",
   "metadata": {},
   "source": [
    "### Normalization"
   ]
  },
  {
   "cell_type": "code",
   "execution_count": null,
   "id": "7e0ac4a8-f3ab-4de1-815a-acd705d45d34",
   "metadata": {
    "scrolled": true
   },
   "outputs": [],
   "source": [
    "global_min, global_max = compute_statistics(data_train.mri.tolist())"
   ]
  },
  {
   "cell_type": "code",
   "execution_count": null,
   "id": "a13870fe-8a67-451b-ac0b-579981f7daff",
   "metadata": {},
   "outputs": [],
   "source": [
    "global_min, global_max"
   ]
  },
  {
   "cell_type": "raw",
   "id": "d0de325e-65d1-47b9-aa77-55e913ac09d0",
   "metadata": {},
   "source": [
    "# COHORT 3\n",
    "global_max = 664.0\n",
    "global_min = 0"
   ]
  },
  {
   "cell_type": "raw",
   "id": "984314a8-bd8e-47ad-a069-78dd681c4b0f",
   "metadata": {},
   "source": [
    "# COHORT 2\n",
    "global_max = 88731.5390625\n",
    "global_min = 0"
   ]
  },
  {
   "cell_type": "raw",
   "id": "ae35c421-f919-4b3a-95f8-49228cf1c466",
   "metadata": {},
   "source": [
    "# COHORT 1\n",
    "global_max = 1417.92822265625\n",
    "global_min = 0"
   ]
  },
  {
   "cell_type": "code",
   "execution_count": null,
   "id": "5e72799b-d2bf-4ae0-88eb-beefd3289736",
   "metadata": {},
   "outputs": [],
   "source": [
    "transform = NiftiToTensorTransform(\n",
    "    target_shape = (300, 300),\n",
    "    rpn_mode=True,\n",
    "    normalization=(global_min, global_max)\n",
    ") # Hanggang dito lang kaya ng GPU mem ko"
   ]
  },
  {
   "cell_type": "markdown",
   "id": "eb91baff-913f-4db9-9a80-87ab3b8d9969",
   "metadata": {},
   "source": [
    "### Dataloaders"
   ]
  },
  {
   "cell_type": "code",
   "execution_count": null,
   "id": "c2d25f67-034c-4757-9614-ffc4585b4167",
   "metadata": {},
   "outputs": [],
   "source": [
    "train_set = VALDODataset(\n",
    "    cases=data_train.mri.tolist(),\n",
    "    masks=data_train.masks.tolist(),\n",
    "    target=data_train.target.tolist(),\n",
    "    transform=transform,\n",
    ")\n",
    "\n",
    "val_set = VALDODataset(\n",
    "    cases=data_test.mri,\n",
    "    masks=data_test.masks,\n",
    "    target=data_test.target,\n",
    "    transform=transform,\n",
    ")\n",
    "\n",
    "batch_size = 5\n",
    "\n",
    "train_loader = DataLoader(\n",
    "    train_set,\n",
    "    shuffle=True,\n",
    "    batch_size=batch_size,\n",
    "    collate_fn=collatev2,\n",
    ")\n",
    "\n",
    "val_loader = DataLoader(\n",
    "    val_set,\n",
    "    shuffle=True,\n",
    "    batch_size=batch_size,\n",
    "    collate_fn=collatev2,\n",
    ")"
   ]
  },
  {
   "cell_type": "markdown",
   "id": "f26f764e-a561-4a91-a07e-8d9b8cb08bdd",
   "metadata": {},
   "source": [
    "### Config for fitter"
   ]
  },
  {
   "cell_type": "code",
   "execution_count": null,
   "id": "d00e1fe9-1663-46a2-8296-273351bb9beb",
   "metadata": {},
   "outputs": [],
   "source": [
    "from project.model import RPN\n",
    "\n",
    "config = {\n",
    "    'model': RPN(\n",
    "        input_dim=512,\n",
    "        output_dim=4,\n",
    "        image_size=300,\n",
    "        nh=4\n",
    "    ).to(device),\n",
    "    'optimizer': torch.optim.Adam,\n",
    "    'device': device,\n",
    "    'epochs': 20,\n",
    "    'loss': nn.SmoothL1Loss(),\n",
    "    # 'loss': nn.MSELoss(),\n",
    "    'lr': 0.0001\n",
    "}"
   ]
  },
  {
   "cell_type": "markdown",
   "id": "0aea513b-d7f2-413b-abd1-842e456f7ad8",
   "metadata": {},
   "source": [
    "#### Load Pretrained Embedder"
   ]
  },
  {
   "cell_type": "raw",
   "id": "f32a3d80-62f0-4fdb-a54c-c048a1500394",
   "metadata": {},
   "source": [
    "model = config['model']"
   ]
  },
  {
   "cell_type": "raw",
   "id": "201f88d9-b987-401a-aaec-40b69adee786",
   "metadata": {},
   "source": [
    "model.embedder.load_state_dict(torch.load('Encoder_weights_211024184155.pt'))"
   ]
  },
  {
   "cell_type": "markdown",
   "id": "fb73200b-7d28-4a7a-8521-c08610ba7180",
   "metadata": {},
   "source": [
    "#### Load RPN Weights"
   ]
  },
  {
   "cell_type": "raw",
   "id": "df87893f-6423-41d4-abcf-7d5282ea5bea",
   "metadata": {},
   "source": [
    "model = config['model']\n",
    "model.load_state_dict(torch.load('RPN_weights_241024213949.pt'))"
   ]
  },
  {
   "cell_type": "markdown",
   "id": "229f18ba-ebf4-46fd-9bc4-93a342d76116",
   "metadata": {},
   "source": [
    "### Sample trial"
   ]
  },
  {
   "cell_type": "raw",
   "id": "648cb680-cddb-46b6-8685-c1282e9786f2",
   "metadata": {},
   "source": [
    "model = config['model']"
   ]
  },
  {
   "cell_type": "raw",
   "id": "212a53d7-8c02-4665-8137-76a547e7a3cb",
   "metadata": {},
   "source": [
    "sample = next(enumerate(train_loader))"
   ]
  },
  {
   "cell_type": "raw",
   "id": "a38dcdfd-eea2-4626-9738-f7614f99056d",
   "metadata": {},
   "source": [
    "slices, masks, target, case = sample[1][0]"
   ]
  },
  {
   "cell_type": "raw",
   "id": "7224266d-d165-4007-8f67-27e5a9fa5140",
   "metadata": {},
   "source": [
    "import seaborn as sns\n",
    "\n",
    "sns.heatmap(slices.squeeze()[23], vmax=1)"
   ]
  },
  {
   "cell_type": "markdown",
   "id": "fe36628f-4695-4be2-b465-bbf9605372e6",
   "metadata": {},
   "source": [
    "### Fitter"
   ]
  },
  {
   "cell_type": "code",
   "execution_count": null,
   "id": "73da94c9-a19b-40d3-b56d-e0e610e7c142",
   "metadata": {},
   "outputs": [],
   "source": [
    "from project import Fitter\n",
    "\n",
    "class RPNFitter(Fitter):\n",
    "    def train_one_epoch(self, train_loader):\n",
    "        self.model.train()\n",
    "        loss_history = []\n",
    "        counter = 0\n",
    "        for batch in train_loader:\n",
    "            self.log('----------------- BATCH -----------------')\n",
    "            Y = []\n",
    "            T = []\n",
    "            for slices, masks, target, case in batch:\n",
    "                x = slices.squeeze(1).float().to(self.device)\n",
    "                masks = masks.squeeze(1).float().to(self.device)/300\n",
    "                y = self.model(x, target)\n",
    "                Y.append(y)\n",
    "                T.append(masks[target])\n",
    "            \n",
    "            losses = self.loss(torch.stack(Y), torch.stack(T))\n",
    "            self.optimizer.zero_grad()\n",
    "            losses.backward()\n",
    "            self.optimizer.step()\n",
    "            counter += len(batch)\n",
    "            if counter % 10 == 0:\n",
    "                # self.log(f'Progress:\\t{counter}/{len(dataset)}')\n",
    "                self.log(f'Current error:\\t{losses}')\n",
    "            \n",
    "            loss_history.append(losses.detach().cpu().numpy())\n",
    "            \n",
    "            # del losses, Y, T\n",
    "            # torch.cuda.empty_cache()\n",
    "            # logger.info(f'MEMORY after CLEARING MEMORY\\t{memcheck()}')\n",
    "        \n",
    "        return loss_history\n",
    "    def validation(self, val_loader):\n",
    "        self.model.eval()\n",
    "        loss_history = []\n",
    "        with torch.inference_mode():\n",
    "            for batch in val_loader:\n",
    "                Y = []\n",
    "                T = []\n",
    "                for slices, masks, target, case in batch:\n",
    "                    x = slices.squeeze(1).float().to(self.device)\n",
    "                    masks = masks.squeeze(1).float().to(self.device)/300\n",
    "                    y = self.model(x, target)\n",
    "                    Y.append(y)\n",
    "                    T.append(masks[target])\n",
    "                losses = self.loss(torch.stack(Y), torch.stack(T))\n",
    "                loss_history.append(losses.cpu().numpy())\n",
    "        return loss_history\n",
    "                "
   ]
  },
  {
   "cell_type": "code",
   "execution_count": null,
   "id": "5c228976-58ee-442d-9a7f-d0181b6a4a5b",
   "metadata": {},
   "outputs": [],
   "source": [
    "fitter = RPNFitter(config, logger=logger)"
   ]
  },
  {
   "cell_type": "markdown",
   "id": "4aa30f65-cb61-46d9-9e81-ce810cf9f20b",
   "metadata": {},
   "source": [
    "### Training"
   ]
  },
  {
   "cell_type": "code",
   "execution_count": null,
   "id": "ae07145a-5214-4e77-b421-910544e0afdc",
   "metadata": {
    "scrolled": true
   },
   "outputs": [],
   "source": [
    "thist, vhist = fitter.fit(train_loader, val_loader)"
   ]
  },
  {
   "cell_type": "code",
   "execution_count": null,
   "id": "a08c52e2-8217-40b1-a1b7-a32f3a0bc74c",
   "metadata": {},
   "outputs": [],
   "source": [
    "winsound.Beep(500, 500)\n",
    "winsound.Beep(500, 500)\n",
    "winsound.Beep(500, 500)"
   ]
  },
  {
   "cell_type": "code",
   "execution_count": null,
   "id": "4cbd1304-f4cf-430b-9701-34c63e0b2806",
   "metadata": {},
   "outputs": [],
   "source": [
    "import seaborn as sns\n",
    "import numpy as np\n",
    "\n",
    "th = torch.tensor(np.array(thist))\n",
    "vh = torch.tensor(np.array(vhist))\n",
    "# print(th.shape)\n",
    "sns.lineplot(th.mean(1))\n",
    "sns.lineplot(vh.mean(1))"
   ]
  },
  {
   "cell_type": "markdown",
   "id": "eecbbbea-dc83-494c-aa7f-5531f34a8bbb",
   "metadata": {},
   "source": [
    "### Save the weights"
   ]
  },
  {
   "cell_type": "raw",
   "id": "f90a417e-f0ec-4566-b820-5050c940b21d",
   "metadata": {},
   "source": [
    "model = config['model']"
   ]
  },
  {
   "cell_type": "raw",
   "id": "6535582b-f0e8-4a47-949a-30b0b3a166c3",
   "metadata": {},
   "source": [
    "import datetime\n",
    "\n",
    "s = f'RPN_test13_weights_{datetime.datetime.now().strftime(\"%d%m%y%H%M%S\")}.pt'\n",
    "s"
   ]
  },
  {
   "cell_type": "raw",
   "id": "b97dc4ed-8938-44f0-a166-23003ee815d1",
   "metadata": {},
   "source": [
    "model = config['model']"
   ]
  },
  {
   "cell_type": "raw",
   "id": "ad311984-9822-4a74-b7a8-144fcb5ab31b",
   "metadata": {},
   "source": [
    "torch.save(model.state_dict(), s)"
   ]
  },
  {
   "cell_type": "markdown",
   "id": "0bf60854-b9ed-419d-8162-b5570931ac85",
   "metadata": {
    "jp-MarkdownHeadingCollapsed": true
   },
   "source": [
    "# Summary\n",
    "\n",
    "Added normalization\n",
    "\n",
    "todo\n",
    "- train per cohort"
   ]
  },
  {
   "cell_type": "markdown",
   "id": "0ed86e1a-5f17-46ee-b7fd-911632f0bf78",
   "metadata": {},
   "source": [
    "# Trial"
   ]
  },
  {
   "cell_type": "code",
   "execution_count": null,
   "id": "35469f01-f828-4dbc-8a6c-b6f69049f98f",
   "metadata": {},
   "outputs": [],
   "source": [
    "model = fitter.model"
   ]
  },
  {
   "cell_type": "code",
   "execution_count": null,
   "id": "9f37fb18-a63d-46c6-8eee-d45f342f241b",
   "metadata": {},
   "outputs": [],
   "source": [
    "sample = next(enumerate(train_loader))"
   ]
  },
  {
   "cell_type": "code",
   "execution_count": null,
   "id": "823dd9dc-f013-4ec3-aac3-7b3c4482f406",
   "metadata": {},
   "outputs": [],
   "source": [
    "slices, masks, target, case = sample[1][1]"
   ]
  },
  {
   "cell_type": "code",
   "execution_count": null,
   "id": "35221512-957f-4b5b-bc2e-367551d798c9",
   "metadata": {},
   "outputs": [],
   "source": [
    "x = slices.squeeze(1).float().to(device)\n",
    "T = masks.squeeze(1).float().to(device)"
   ]
  },
  {
   "cell_type": "code",
   "execution_count": null,
   "id": "3257a6de-de28-4d93-8d3b-539fd73c2a04",
   "metadata": {},
   "outputs": [],
   "source": [
    "y = model(x, target)"
   ]
  },
  {
   "cell_type": "code",
   "execution_count": null,
   "id": "393e2ded-eea0-4beb-9e59-27c36a1a9115",
   "metadata": {},
   "outputs": [],
   "source": [
    "fitter.loss(y, T[target])"
   ]
  },
  {
   "cell_type": "code",
   "execution_count": null,
   "id": "7a472ea2-23b6-4790-895f-e8e3417434a4",
   "metadata": {},
   "outputs": [],
   "source": [
    "masks[target]"
   ]
  },
  {
   "cell_type": "code",
   "execution_count": null,
   "id": "22f7bc87-7608-4d67-8ceb-8aa94a63ec5c",
   "metadata": {},
   "outputs": [],
   "source": [
    "y"
   ]
  },
  {
   "cell_type": "code",
   "execution_count": null,
   "id": "81488163-7304-44d5-804c-941c06ce491c",
   "metadata": {},
   "outputs": [],
   "source": [
    "bbox = masks[target].squeeze().cpu().long()"
   ]
  },
  {
   "cell_type": "code",
   "execution_count": null,
   "id": "6396af93-fb3a-4b59-8224-a1b5e08b01f0",
   "metadata": {},
   "outputs": [],
   "source": [
    "y = (y*300).squeeze().detach().cpu().long()"
   ]
  },
  {
   "cell_type": "code",
   "execution_count": null,
   "id": "4ddf9aac-6f90-4338-b34c-3eba3d12057e",
   "metadata": {},
   "outputs": [],
   "source": [
    "bbox, y"
   ]
  },
  {
   "cell_type": "code",
   "execution_count": null,
   "id": "a9e4326a-b50c-46f9-a3b2-2dc4c50ab2cf",
   "metadata": {},
   "outputs": [],
   "source": [
    "import matplotlib.patches as patches\n",
    "import matplotlib.pyplot as plt\n",
    "\n",
    "ax = sns.heatmap(x[target].squeeze().cpu())\n",
    "\n",
    "truth = patches.Rectangle(\n",
    "    (bbox[0], bbox[1]),\n",
    "    bbox[2] - bbox[0],\n",
    "    bbox[3] - bbox[1],\n",
    "    linewidth=1, edgecolor='g', facecolor='none'\n",
    ")\n",
    "\n",
    "pred = patches.Rectangle(\n",
    "    (y[0], y[1]),\n",
    "    y[2] - y[0],\n",
    "    y[3] - y[1],\n",
    "    linewidth=1, edgecolor='r', facecolor='none'\n",
    ")\n",
    "\n",
    "ax.add_patch(truth)\n",
    "ax.add_patch(pred)\n",
    "plt.show()"
   ]
  }
 ],
 "metadata": {
  "kernelspec": {
   "display_name": "Python 3 (ipykernel)",
   "language": "python",
   "name": "python3"
  },
  "language_info": {
   "codemirror_mode": {
    "name": "ipython",
    "version": 3
   },
   "file_extension": ".py",
   "mimetype": "text/x-python",
   "name": "python",
   "nbconvert_exporter": "python",
   "pygments_lexer": "ipython3",
   "version": "3.10.5"
  }
 },
 "nbformat": 4,
 "nbformat_minor": 5
}
