{
 "cells": [
  {
   "cell_type": "code",
   "execution_count": 1,
   "id": "121f7db6-6494-4f3a-a745-954f92bec93d",
   "metadata": {},
   "outputs": [
    {
     "name": "stderr",
     "output_type": "stream",
     "text": [
      "INFO:albumentations.check_version:A new version of Albumentations is available: 1.4.18 (you have 1.4.7). Upgrade using: pip install --upgrade albumentations\n"
     ]
    }
   ],
   "source": [
    "import torch\n",
    "import torch.nn as nn\n",
    "import pandas as pd\n",
    "from project.dataset import Dataset, VALDODataset\n",
    "from torch.utils.data import DataLoader\n",
    "from project.preprocessing import NiftiToTensorTransform, z_score_normalization\n",
    "from project.utils import collate_fn, plot_mri_slice, plot_all_slices, plot_all_slices_from_array, collatev2\n",
    "import winsound"
   ]
  },
  {
   "cell_type": "code",
   "execution_count": 2,
   "id": "66818e02-c362-4bd6-853e-ce2e866e5147",
   "metadata": {},
   "outputs": [
    {
     "data": {
      "text/plain": [
       "'cuda'"
      ]
     },
     "execution_count": 2,
     "metadata": {},
     "output_type": "execute_result"
    }
   ],
   "source": [
    "import logging\n",
    "logger = logging.getLogger('andy')\n",
    "fh = logging.FileHandler('andy.log')\n",
    "formatter = logging.Formatter(\n",
    "    '%(asctime)s - %(levelname)s - %(message)s'\n",
    ")\n",
    "\n",
    "logger.setLevel(logging.DEBUG)\n",
    "fh.setLevel(logging.DEBUG)\n",
    "fh.setFormatter(formatter)\n",
    "\n",
    "logger.addHandler(fh)\n",
    "\n",
    "device = 'cuda' if torch.cuda.is_available() else 'cpu'\n",
    "device"
   ]
  },
  {
   "cell_type": "code",
   "execution_count": 3,
   "id": "718e7b92-bec7-4743-b58c-20eaa5a0e568",
   "metadata": {},
   "outputs": [
    {
     "data": {
      "text/plain": [
       "(7986, 3)"
      ]
     },
     "execution_count": 3,
     "metadata": {},
     "output_type": "execute_result"
    }
   ],
   "source": [
    "ds = Dataset()\n",
    "\n",
    "data = pd.read_csv('targets.csv')\n",
    "data.shape"
   ]
  },
  {
   "cell_type": "code",
   "execution_count": 4,
   "id": "825b5076-16d4-4380-bd21-c732e3d64ddf",
   "metadata": {},
   "outputs": [
    {
     "data": {
      "text/plain": [
       "(385, 3)"
      ]
     },
     "execution_count": 4,
     "metadata": {},
     "output_type": "execute_result"
    }
   ],
   "source": [
    "ch1 = ds.load_raw_mri(1)\n",
    "data = data[data.mri.isin(ch1)]\n",
    "data.shape"
   ]
  },
  {
   "cell_type": "code",
   "execution_count": 5,
   "id": "b9df301c-e456-4f73-8bb3-7e57318193a1",
   "metadata": {},
   "outputs": [],
   "source": [
    "transform = NiftiToTensorTransform(target_shape = (50, 50), rpn_mode=True)\n",
    "\n",
    "cases = data.mri\n",
    "masks = data.masks\n",
    "target = data.target"
   ]
  },
  {
   "cell_type": "code",
   "execution_count": 6,
   "id": "bcb8c703-8b31-4e0b-b7ef-1b457711d8c6",
   "metadata": {},
   "outputs": [],
   "source": [
    "dataset = VALDODataset(\n",
    "    cases=cases,\n",
    "    masks=masks,\n",
    "    target=target,\n",
    "    transform=transform,\n",
    "    normalization=z_score_normalization,\n",
    ")"
   ]
  },
  {
   "cell_type": "code",
   "execution_count": 7,
   "id": "6cbafe90-95ec-4edd-93db-fae2e1cd2b34",
   "metadata": {},
   "outputs": [],
   "source": [
    "dloader = DataLoader(\n",
    "    dataset,\n",
    "    shuffle=True,\n",
    "    batch_size=10,\n",
    "    collate_fn=collatev2,\n",
    ")"
   ]
  },
  {
   "cell_type": "markdown",
   "id": "318f0084-8bfb-4d48-b3b2-54250d49f08a",
   "metadata": {},
   "source": [
    "### Config for fitter"
   ]
  },
  {
   "cell_type": "code",
   "execution_count": 8,
   "id": "30538ba9-fa5b-4c22-91f0-73db35830980",
   "metadata": {},
   "outputs": [
    {
     "name": "stderr",
     "output_type": "stream",
     "text": [
      "C:\\Program Files\\Python310\\lib\\site-packages\\torch\\nn\\modules\\transformer.py:306: UserWarning: enable_nested_tensor is True, but self.use_nested_tensor is False because encoder_layer.self_attn.batch_first was not True(use batch_first for better inference performance)\n",
      "  warnings.warn(f\"enable_nested_tensor is True, but self.use_nested_tensor is False because {why_not_sparsity_fast_path}\")\n"
     ]
    }
   ],
   "source": [
    "from project.model import RPN\n",
    "\n",
    "config = {\n",
    "    'model': RPN(50**2, 4, 5, 2500).to(device),\n",
    "    'optimizer': torch.optim.Adam,\n",
    "    'device': device,\n",
    "    'epochs': 2,\n",
    "    'loss': nn.SmoothL1Loss(),\n",
    "    # 'loss': nn.MSELoss(),\n",
    "    'lr': 0.0000001\n",
    "}"
   ]
  },
  {
   "cell_type": "markdown",
   "id": "1f62f8ab-90d2-4601-aa21-5b7393ccd24d",
   "metadata": {},
   "source": [
    "### Sample trial"
   ]
  },
  {
   "cell_type": "raw",
   "id": "fb563f5c-da2c-4ece-8019-3ce0f6503abf",
   "metadata": {},
   "source": [
    "sample = next(enumerate(dloader))"
   ]
  },
  {
   "cell_type": "raw",
   "id": "ae89f685-3718-4fb7-be9e-a62432f97bf7",
   "metadata": {},
   "source": [
    "model = config['model']"
   ]
  },
  {
   "cell_type": "raw",
   "id": "92bc5391-51e5-4523-92b4-c58c2f6e6b60",
   "metadata": {},
   "source": [
    "loss = config['loss']"
   ]
  },
  {
   "cell_type": "raw",
   "id": "1a34b654-a8fa-47af-a120-036a4c2b8d75",
   "metadata": {},
   "source": [
    "slices, masks, target, case = sample[1][0]"
   ]
  },
  {
   "cell_type": "raw",
   "id": "8a7c3a00-8668-4d8b-b7c7-84529bbcc933",
   "metadata": {},
   "source": [
    "num_slices = slices.shape[0]\n",
    "x = slices.view(num_slices, 1, -1).float().to(device)\n",
    "masks = masks.view(num_slices, 1, -1).float().to(device)"
   ]
  },
  {
   "cell_type": "raw",
   "id": "3fcd67d5-fe13-40a9-8633-98a6b7a3bf07",
   "metadata": {},
   "source": [
    "y1 = model(x, target)"
   ]
  },
  {
   "cell_type": "raw",
   "id": "a922cb82-bae0-45c5-aedd-1bd092c8ba70",
   "metadata": {},
   "source": [
    "slices, masks, target, case = sample[1][1]"
   ]
  },
  {
   "cell_type": "raw",
   "id": "273c49f9-79ab-49c6-a9ec-b49745e7a115",
   "metadata": {},
   "source": [
    "num_slices = slices.shape[0]\n",
    "x = slices.view(num_slices, 1, -1).float().to(device)\n",
    "masks = masks.view(num_slices, 1, -1).float().to(device)"
   ]
  },
  {
   "cell_type": "raw",
   "id": "764bf980-50f9-4419-acd8-e62b4398a455",
   "metadata": {},
   "source": [
    "y2 = model(x, target)"
   ]
  },
  {
   "cell_type": "raw",
   "id": "c2288b6b-782d-486c-be05-63d5838b1af2",
   "metadata": {},
   "source": [
    "sample[1][1][1][sample[1][1][2]]"
   ]
  },
  {
   "cell_type": "raw",
   "id": "43f33377-1f2d-4605-a9d3-a98976b88e86",
   "metadata": {},
   "source": [
    "t1 = sample[1][0][1][sample[1][0][2]].float().to(device)\n",
    "t2 = sample[1][1][1][sample[1][1][2]].float().to(device)"
   ]
  },
  {
   "cell_type": "raw",
   "id": "572015a7-7e9a-4540-a61a-7d20e85c8fc3",
   "metadata": {},
   "source": [
    "Y = [y1, y2]\n",
    "T = [t1, t2]"
   ]
  },
  {
   "cell_type": "raw",
   "id": "e34268a5-9363-428c-8abf-5de3b6dce9fb",
   "metadata": {},
   "source": [
    "torch.stack(Y), torch.stack(T)"
   ]
  },
  {
   "cell_type": "raw",
   "id": "c123a4b0-297c-4435-86b6-3a0ccaf81f8c",
   "metadata": {},
   "source": [
    "loss(Y[0], T[0])"
   ]
  },
  {
   "cell_type": "raw",
   "id": "35281b45-b8b2-405e-9478-e79c60f60c20",
   "metadata": {},
   "source": [
    "loss(Y[1], T[1])"
   ]
  },
  {
   "cell_type": "raw",
   "id": "c3cb677b-6a34-4224-bfea-2eb8bb313b5c",
   "metadata": {},
   "source": [
    "loss(torch.stack(Y), torch.stack(T))"
   ]
  },
  {
   "cell_type": "raw",
   "id": "87738d59-7ceb-4dcf-afb2-af504296e8d3",
   "metadata": {},
   "source": [
    "l = loss(torch.stack(Y), torch.stack(T))\n",
    "l"
   ]
  },
  {
   "cell_type": "raw",
   "id": "2b909bb3-fd44-44df-8dbf-82957c6969e8",
   "metadata": {},
   "source": [
    "for a, b, c, d in sample[1]:\n",
    "    print(c)"
   ]
  },
  {
   "cell_type": "markdown",
   "id": "88178d93-ca75-4c0c-90b3-70305648dbba",
   "metadata": {},
   "source": [
    "### Fitter"
   ]
  },
  {
   "cell_type": "code",
   "execution_count": 9,
   "id": "9bab35f8-a084-41cb-8f20-61488cecd7ff",
   "metadata": {},
   "outputs": [],
   "source": [
    "from project import Fitter\n",
    "\n",
    "class RPNFitter(Fitter):\n",
    "    def train_one_epoch(self, train_loader):\n",
    "        self.model.train()\n",
    "        loss_history = []\n",
    "        counter = 0\n",
    "        for batch in train_loader:\n",
    "            Y = []\n",
    "            T = []\n",
    "            for slices, masks, target, case in batch:\n",
    "                num_slices = slices.shape[0]\n",
    "                x = slices.view(num_slices, 1, -1).float().to(self.device)\n",
    "                masks = masks.view(num_slices, 1, -1).float().to(self.device)\n",
    "                y = self.model(x, target)\n",
    "                Y.append(y)\n",
    "                T.append(masks[target])\n",
    "            \n",
    "            losses = self.loss(torch.stack(Y), torch.stack(T))\n",
    "            loss_history.append(losses)\n",
    "            self.optimizer.zero_grad()\n",
    "            losses.backward()\n",
    "            self.optimizer.step()\n",
    "            counter += len(batch)\n",
    "            if counter % 100 == 0:\n",
    "                logger.info(f'Progress:\\t{counter}/{len(dataset)}')\n",
    "                logger.info(f'Current error:\\t{losses}')\n",
    "            \n",
    "        return loss_history"
   ]
  },
  {
   "cell_type": "code",
   "execution_count": 10,
   "id": "cc240f7b-ba66-43df-a28b-fc82b5adf446",
   "metadata": {},
   "outputs": [],
   "source": [
    "fitter = RPNFitter(config)"
   ]
  },
  {
   "cell_type": "markdown",
   "id": "3dadf7e4-cd5f-4289-aa81-c89866880849",
   "metadata": {},
   "source": [
    "### Training"
   ]
  },
  {
   "cell_type": "code",
   "execution_count": null,
   "id": "bc177d08-df24-4a62-9197-0f7ad97606ba",
   "metadata": {},
   "outputs": [],
   "source": [
    "hist = fitter.fit(dloader, dloader)"
   ]
  },
  {
   "cell_type": "code",
   "execution_count": 12,
   "id": "8f7bc13c-efc7-49d4-9819-edd10caf9d0e",
   "metadata": {},
   "outputs": [],
   "source": [
    "winsound.Beep(500, 500)\n",
    "winsound.Beep(500, 500)\n",
    "winsound.Beep(500, 500)"
   ]
  },
  {
   "cell_type": "code",
   "execution_count": 13,
   "id": "d21845c8-7fed-4dac-a04a-4ef222d0c0fa",
   "metadata": {},
   "outputs": [
    {
     "data": {
      "text/plain": [
       "<Axes: >"
      ]
     },
     "execution_count": 13,
     "metadata": {},
     "output_type": "execute_result"
    },
    {
     "data": {
      "image/png": "[encoded data removed]",
      "text/plain": [
       "<Figure size 640x480 with 1 Axes>"
      ]
     },
     "metadata": {},
     "output_type": "display_data"
    }
   ],
   "source": [
    "import seaborn as sns\n",
    "\n",
    "sns.lineplot(torch.tensor(hist).view(-1))"
   ]
  },
  {
   "cell_type": "markdown",
   "id": "5d6e849e-62b4-46d7-ad45-8d43c4c97cdd",
   "metadata": {},
   "source": [
    "# Summary\n",
    "\n",
    "Batching works, worst scores now went from 30 to 14. \n",
    "\n",
    "**Next goals**:\n",
    "- embedding\n",
    "- ViT (?)"
   ]
  },
  {
   "cell_type": "markdown",
   "id": "445e2f87-d136-49d7-ab7d-5c39ef98f7b3",
   "metadata": {},
   "source": [
    "# Trial"
   ]
  },
  {
   "cell_type": "code",
   "execution_count": 14,
   "id": "b6a0d70f-cbe2-47fb-a021-8100dcd17f54",
   "metadata": {},
   "outputs": [],
   "source": [
    "model = fitter.model"
   ]
  },
  {
   "cell_type": "code",
   "execution_count": null,
   "id": "8e4b7709-8e4d-4129-9406-4ff4c06210c2",
   "metadata": {},
   "outputs": [],
   "source": [
    "sample = next(enumerate(dloader))"
   ]
  },
  {
   "cell_type": "code",
   "execution_count": 38,
   "id": "d9394b20-5937-4d01-8b29-ea26680b0ca2",
   "metadata": {},
   "outputs": [],
   "source": [
    "slices, masks, target, case = sample[1][1]"
   ]
  },
  {
   "cell_type": "code",
   "execution_count": 49,
   "id": "667fbcdf-5740-44d1-8b46-209d80235b83",
   "metadata": {},
   "outputs": [
    {
     "data": {
      "text/plain": [
       "tensor([[[23.8281, 28.6133, 26.1719, 31.0547]]], dtype=torch.float64)"
      ]
     },
     "execution_count": 49,
     "metadata": {},
     "output_type": "execute_result"
    }
   ],
   "source": [
    "masks[target]"
   ]
  },
  {
   "cell_type": "code",
   "execution_count": 40,
   "id": "888f31f9-b68f-4083-9859-e3e4adc7148a",
   "metadata": {},
   "outputs": [
    {
     "data": {
      "text/plain": [
       "35"
      ]
     },
     "execution_count": 40,
     "metadata": {},
     "output_type": "execute_result"
    }
   ],
   "source": [
    "num_slices = slices.shape[0]\n",
    "num_slices"
   ]
  },
  {
   "cell_type": "code",
   "execution_count": 41,
   "id": "b7519dc0-5487-45a8-bcd2-ddca83645adf",
   "metadata": {},
   "outputs": [],
   "source": [
    "x = slices.view(num_slices, 1, -1).float().to(device)\n",
    "T = masks.view(num_slices, 1, -1).float().to(device)"
   ]
  },
  {
   "cell_type": "code",
   "execution_count": 43,
   "id": "5f0a9e2b-3d2a-4178-9a9c-b37197708d25",
   "metadata": {},
   "outputs": [],
   "source": [
    "y = model(x, target)"
   ]
  },
  {
   "cell_type": "code",
   "execution_count": 48,
   "id": "acc9bd60-402e-4a4a-acde-ce889200e012",
   "metadata": {},
   "outputs": [
    {
     "data": {
      "text/plain": [
       "tensor(27.0245, device='cuda:0', grad_fn=<SmoothL1LossBackward0>)"
      ]
     },
     "execution_count": 48,
     "metadata": {},
     "output_type": "execute_result"
    }
   ],
   "source": [
    "fitter.loss(y, T[target])"
   ]
  }
 ],
 "metadata": {
  "kernelspec": {
   "display_name": "Python 3 (ipykernel)",
   "language": "python",
   "name": "python3"
  },
  "language_info": {
   "codemirror_mode": {
    "name": "ipython",
    "version": 3
   },
   "file_extension": ".py",
   "mimetype": "text/x-python",
   "name": "python",
   "nbconvert_exporter": "python",
   "pygments_lexer": "ipython3",
   "version": "3.10.5"
  }
 },
 "nbformat": 4,
 "nbformat_minor": 5
}
