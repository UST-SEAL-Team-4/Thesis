{
 "cells": [
  {
   "cell_type": "code",
   "execution_count": 1,
   "id": "13e26347-1c4e-45d1-956c-3546952efd32",
   "metadata": {},
   "outputs": [],
   "source": [
    "import torch\n",
    "from torchvision.models import resnet18, ResNet18_Weights"
   ]
  },
  {
   "cell_type": "code",
   "execution_count": 2,
   "id": "c51731a0-2692-449a-9e54-f05b2e3234ad",
   "metadata": {},
   "outputs": [
    {
     "data": {
      "text/plain": [
       "'cuda'"
      ]
     },
     "execution_count": 2,
     "metadata": {},
     "output_type": "execute_result"
    }
   ],
   "source": [
    "device = 'cuda' if torch.cuda.is_available() else 'cpu'\n",
    "device"
   ]
  },
  {
   "cell_type": "code",
   "execution_count": 3,
   "id": "96f616db-d95b-4c67-8cdf-9516b93ebb72",
   "metadata": {},
   "outputs": [],
   "source": [
    "model = resnet18(weights=ResNet18_Weights.IMAGENET1K_V1)"
   ]
  },
  {
   "cell_type": "code",
   "execution_count": 4,
   "id": "2ea886b2-737a-49a0-b5bd-8a51033c55bc",
   "metadata": {},
   "outputs": [],
   "source": [
    "model = torch.nn.Sequential(*(list(model.children())[:-1]))"
   ]
  },
  {
   "cell_type": "code",
   "execution_count": 5,
   "id": "4c076248-531c-41cb-938a-350b7bbae8b6",
   "metadata": {},
   "outputs": [],
   "source": [
    "model = model.to(device)"
   ]
  },
  {
   "cell_type": "code",
   "execution_count": 6,
   "id": "ac00b5b2-f5ae-4b65-88a6-af1467ff0f2e",
   "metadata": {},
   "outputs": [],
   "source": [
    "x = torch.randn(10, 3, 512, 512).to(device)"
   ]
  },
  {
   "cell_type": "code",
   "execution_count": 7,
   "id": "d6e75736-4425-41a7-9a5f-485af9b49f2c",
   "metadata": {},
   "outputs": [],
   "source": [
    "y = model(x)"
   ]
  },
  {
   "cell_type": "code",
   "execution_count": 8,
   "id": "ca44d53d-e3de-4a42-95e4-67cd4c22bbfe",
   "metadata": {},
   "outputs": [
    {
     "data": {
      "text/plain": [
       "torch.Size([10, 512, 1, 1])"
      ]
     },
     "execution_count": 8,
     "metadata": {},
     "output_type": "execute_result"
    }
   ],
   "source": [
    "y.shape"
   ]
  },
  {
   "cell_type": "code",
   "execution_count": 9,
   "id": "27ccf2ad-80c2-46d6-bdb5-352e4b3e9d80",
   "metadata": {},
   "outputs": [
    {
     "name": "stderr",
     "output_type": "stream",
     "text": [
      "C:\\Program Files\\Python310\\lib\\site-packages\\torch\\cuda\\memory.py:440: FutureWarning: torch.cuda.memory_cached has been renamed to torch.cuda.memory_reserved\n",
      "  warnings.warn(\n"
     ]
    },
    {
     "data": {
      "text/plain": [
       "(1205595136, 1260388352)"
      ]
     },
     "execution_count": 9,
     "metadata": {},
     "output_type": "execute_result"
    }
   ],
   "source": [
    "torch.cuda.memory_allocated(), torch.cuda.memory_cached()"
   ]
  },
  {
   "cell_type": "code",
   "execution_count": 10,
   "id": "77db57cc-ca13-41b5-9eab-8e405144a3db",
   "metadata": {},
   "outputs": [],
   "source": [
    "del y"
   ]
  },
  {
   "cell_type": "code",
   "execution_count": 11,
   "id": "cd095374-0b61-4134-9e01-ddabf3609f42",
   "metadata": {},
   "outputs": [],
   "source": [
    "torch.cuda.empty_cache()"
   ]
  },
  {
   "cell_type": "code",
   "execution_count": 12,
   "id": "15251bd0-9c5a-4534-96a5-8556bda5bf0a",
   "metadata": {},
   "outputs": [
    {
     "data": {
      "text/plain": [
       "(76217344, 98566144)"
      ]
     },
     "execution_count": 12,
     "metadata": {},
     "output_type": "execute_result"
    }
   ],
   "source": [
    "torch.cuda.memory_allocated(), torch.cuda.memory_cached()"
   ]
  },
  {
   "cell_type": "code",
   "execution_count": 13,
   "id": "454c9a9c-5be6-489b-ba06-81a904cdd6da",
   "metadata": {},
   "outputs": [],
   "source": [
    "del model\n",
    "torch.cuda.empty_cache()"
   ]
  },
  {
   "cell_type": "code",
   "execution_count": 14,
   "id": "f5afbcb1-1eb9-4f0c-ba7c-c57222ef33ac",
   "metadata": {},
   "outputs": [
    {
     "data": {
      "text/plain": [
       "(31457280, 31457280)"
      ]
     },
     "execution_count": 14,
     "metadata": {},
     "output_type": "execute_result"
    }
   ],
   "source": [
    "torch.cuda.memory_allocated(), torch.cuda.memory_cached()"
   ]
  },
  {
   "cell_type": "raw",
   "id": "c2ea96e5-818a-4cc8-b9b7-f417a99c71f0",
   "metadata": {},
   "source": [
    "import torch\n",
    "from torchvision import models\n",
    "\n",
    "# Load the pre-trained ResNet50 model\n",
    "model = models.resnet50(pretrained=True)\n",
    "\n",
    "# Remove the final fully connected layer\n",
    "model = torch.nn.Sequential(*(list(model.children())[:-1]))\n",
    "\n",
    "# Add a new fully connected layer to reduce the embedding to 1000 dimensions\n",
    "class ModifiedResNet(torch.nn.Module):\n",
    "    def __init__(self, base_model):\n",
    "        super(ModifiedResNet, self).__init__()\n",
    "        self.base_model = base_model\n",
    "        self.fc = torch.nn.Linear(2048, 50)  # 2048 input to 1000 output\n",
    "\n",
    "    def forward(self, x):\n",
    "        x = self.base_model(x)\n",
    "        x = x.view(x.size(0), -1)  # Flatten the output from [batch, 2048, 1, 1] to [batch, 2048]\n",
    "        x = self.fc(x)  # Apply the new FC layer to reduce dimensions to 1000\n",
    "        return x\n",
    "\n",
    "# Create an instance of the modified model\n",
    "modified_model = ModifiedResNet(model)\n",
    "\n",
    "# Set the model to evaluation mode\n",
    "modified_model.eval()\n",
    "\n",
    "# Sample input (a batch of images, 3 channels, 224x224 size)\n",
    "input_tensor = torch.randn(1, 3, 224, 224)\n",
    "\n",
    "# Get the output with shape [1, 1000]\n",
    "output = modified_model(input_tensor)\n",
    "\n",
    "# Output shape will be (1, 1000)\n",
    "print(output.shape)\n"
   ]
  },
  {
   "cell_type": "code",
   "execution_count": null,
   "id": "fc754352-92be-4dc6-aded-2eaaaea448cc",
   "metadata": {},
   "outputs": [],
   "source": []
  },
  {
   "cell_type": "raw",
   "id": "548a13fa-306d-4d38-bb4b-4e9a5a465975",
   "metadata": {},
   "source": [
    "a = torch.randn(100**2).to(device)"
   ]
  },
  {
   "cell_type": "raw",
   "id": "8593c584-991a-4e9b-910e-ac8109e15a78",
   "metadata": {},
   "source": [
    "torch.cuda.memory_allocated(), torch.cuda.memory_cached()"
   ]
  },
  {
   "cell_type": "raw",
   "id": "055b263d-2d32-4d24-9bb6-9186295ea912",
   "metadata": {},
   "source": [
    "del a\n",
    "torch.cuda.empty_cache()"
   ]
  }
 ],
 "metadata": {
  "kernelspec": {
   "display_name": "Python 3 (ipykernel)",
   "language": "python",
   "name": "python3"
  },
  "language_info": {
   "codemirror_mode": {
    "name": "ipython",
    "version": 3
   },
   "file_extension": ".py",
   "mimetype": "text/x-python",
   "name": "python",
   "nbconvert_exporter": "python",
   "pygments_lexer": "ipython3",
   "version": "3.10.5"
  }
 },
 "nbformat": 4,
 "nbformat_minor": 5
}
