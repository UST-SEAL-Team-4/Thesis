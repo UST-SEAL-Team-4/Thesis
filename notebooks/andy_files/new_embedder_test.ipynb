{
 "cells": [
  {
   "cell_type": "code",
   "execution_count": 1,
   "id": "65e36698-42e2-468b-9305-927778485b30",
   "metadata": {},
   "outputs": [
    {
     "name": "stderr",
     "output_type": "stream",
     "text": [
      "INFO:albumentations.check_version:A new version of Albumentations is available: 1.4.18 (you have 1.4.7). Upgrade using: pip install --upgrade albumentations\n"
     ]
    }
   ],
   "source": [
    "import torch\n",
    "import torch.nn as nn\n",
    "from project import SliceEmbedding"
   ]
  },
  {
   "cell_type": "code",
   "execution_count": 2,
   "id": "7a4512a2-a5ae-472d-8196-ab027721b280",
   "metadata": {},
   "outputs": [
    {
     "name": "stdout",
     "output_type": "stream",
     "text": [
      "4096\n"
     ]
    }
   ],
   "source": [
    "f = SliceEmbedding(256, 2500)"
   ]
  },
  {
   "cell_type": "code",
   "execution_count": 3,
   "id": "50871822-f089-4342-969b-2962acf5128a",
   "metadata": {},
   "outputs": [],
   "source": [
    "f = f.cuda()"
   ]
  },
  {
   "cell_type": "code",
   "execution_count": 4,
   "id": "dfe483b3-1d2d-43f1-b5ee-830375e35b02",
   "metadata": {},
   "outputs": [],
   "source": [
    "x = torch.randn(35, 1, 256, 256).cuda()"
   ]
  },
  {
   "cell_type": "code",
   "execution_count": 5,
   "id": "3666719b-67ea-4dc3-a6c6-c3595f8f4b40",
   "metadata": {},
   "outputs": [],
   "source": [
    "y = f(x)"
   ]
  },
  {
   "cell_type": "code",
   "execution_count": 6,
   "id": "2292c59d-04ed-4514-bc18-d410a16fe25f",
   "metadata": {},
   "outputs": [
    {
     "data": {
      "text/plain": [
       "torch.Size([35, 1, 2500])"
      ]
     },
     "execution_count": 6,
     "metadata": {},
     "output_type": "execute_result"
    }
   ],
   "source": [
    "y.shape"
   ]
  },
  {
   "cell_type": "code",
   "execution_count": null,
   "id": "6ee0e34e-db9d-4056-aeef-71daa50efb10",
   "metadata": {},
   "outputs": [],
   "source": [
    "d"
   ]
  },
  {
   "cell_type": "code",
   "execution_count": null,
   "id": "86c34c3b-6d96-41c8-9410-83c9eceea3f5",
   "metadata": {},
   "outputs": [],
   "source": [
    "def f(r, b=2, *a, **k):\n",
    "    print(r)\n",
    "    print(b)\n",
    "    print(k)\n",
    "    print(a)"
   ]
  },
  {
   "cell_type": "code",
   "execution_count": null,
   "id": "fe1a3a4c-28e9-408a-ba25-3d215d8b5261",
   "metadata": {},
   "outputs": [],
   "source": [
    "d = dict(\n",
    "    test=True,\n",
    "    this=2,\n",
    "    another=3,\n",
    "    b='testing lang'\n",
    ")"
   ]
  },
  {
   "cell_type": "code",
   "execution_count": null,
   "id": "a50fb986-6b30-446b-94ab-12689d8a32d7",
   "metadata": {},
   "outputs": [],
   "source": [
    "f(5, 3, k=5)"
   ]
  },
  {
   "cell_type": "code",
   "execution_count": null,
   "id": "b388b3df-6fcd-4274-9dc1-643875e191d7",
   "metadata": {},
   "outputs": [],
   "source": [
    "f(1, x=1, **d)"
   ]
  },
  {
   "cell_type": "code",
   "execution_count": 1,
   "id": "55481f54-c0fc-43fa-86c1-eaf223145970",
   "metadata": {},
   "outputs": [],
   "source": [
    "def ff(d=512, k=2, p=0, s=2):\n",
    "    return ((d - k + 2*p)/s) + 1"
   ]
  },
  {
   "cell_type": "code",
   "execution_count": 2,
   "id": "066d398d-0491-4652-863e-8b6d7c4e9c85",
   "metadata": {},
   "outputs": [],
   "source": [
    "d = 256\n",
    "for i in range(2):\n",
    "    d = ff(d)"
   ]
  },
  {
   "cell_type": "code",
   "execution_count": null,
   "id": "e01b36ca-6fe1-4c92-99f5-dba81b21d408",
   "metadata": {},
   "outputs": [],
   "source": [
    "ff(ff(ff()))"
   ]
  }
 ],
 "metadata": {
  "kernelspec": {
   "display_name": "Python 3 (ipykernel)",
   "language": "python",
   "name": "python3"
  },
  "language_info": {
   "codemirror_mode": {
    "name": "ipython",
    "version": 3
   },
   "file_extension": ".py",
   "mimetype": "text/x-python",
   "name": "python",
   "nbconvert_exporter": "python",
   "pygments_lexer": "ipython3",
   "version": "3.10.5"
  }
 },
 "nbformat": 4,
 "nbformat_minor": 5
}
