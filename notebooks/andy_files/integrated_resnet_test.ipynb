{
 "cells": [
  {
   "cell_type": "code",
   "execution_count": 1,
   "id": "dc4b06eb-a1e7-4074-8e05-35bc4d874b39",
   "metadata": {},
   "outputs": [
    {
     "name": "stderr",
     "output_type": "stream",
     "text": [
      "INFO:albumentations.check_version:A new version of Albumentations is available: 1.4.18 (you have 1.4.7). Upgrade using: pip install --upgrade albumentations\n"
     ]
    }
   ],
   "source": [
    "import torch\n",
    "import torch.nn as nn\n",
    "import pandas as pd\n",
    "from project.dataset import Dataset, VALDODataset\n",
    "from torch.utils.data import DataLoader\n",
    "from project.preprocessing import NiftiToTensorTransform, z_score_normalization\n",
    "from project.utils import collate_fn, plot_mri_slice, plot_all_slices, plot_all_slices_from_array, collatev2\n",
    "import winsound\n",
    "from torchvision.models import resnet18, ResNet18_Weights\n",
    "from project.utils import memcheck"
   ]
  },
  {
   "cell_type": "code",
   "execution_count": 2,
   "id": "43f020b2-4db5-4f97-98c0-d959552c39d3",
   "metadata": {},
   "outputs": [
    {
     "data": {
      "text/plain": [
       "'cuda'"
      ]
     },
     "execution_count": 2,
     "metadata": {},
     "output_type": "execute_result"
    }
   ],
   "source": [
    "device = 'cuda' if torch.cuda.is_available() else 'cpu'\n",
    "device"
   ]
  },
  {
   "cell_type": "code",
   "execution_count": 3,
   "id": "673ced7e-d1ac-4bd3-a97e-fe94ca154729",
   "metadata": {},
   "outputs": [],
   "source": [
    "x = torch.randn(10, 1, 512, 512)"
   ]
  },
  {
   "cell_type": "code",
   "execution_count": 4,
   "id": "146c3a67-593a-4217-8f9a-3ac9d0e837d3",
   "metadata": {},
   "outputs": [],
   "source": [
    "x = x.repeat(1, 3, 1, 1)"
   ]
  },
  {
   "cell_type": "code",
   "execution_count": 5,
   "id": "1b06a5bb-94d0-42b8-83fb-6eb866aeec8d",
   "metadata": {},
   "outputs": [
    {
     "data": {
      "text/plain": [
       "torch.Size([10, 3, 512, 512])"
      ]
     },
     "execution_count": 5,
     "metadata": {},
     "output_type": "execute_result"
    }
   ],
   "source": [
    "x.shape"
   ]
  },
  {
   "cell_type": "code",
   "execution_count": 6,
   "id": "b75d52f2-5d69-4aa0-a26c-56df20d18d9a",
   "metadata": {},
   "outputs": [],
   "source": [
    "x = x.to(device)"
   ]
  },
  {
   "cell_type": "code",
   "execution_count": 7,
   "id": "1eee6f61-252a-4a69-bf8c-ac3168f9f4cb",
   "metadata": {},
   "outputs": [
    {
     "name": "stderr",
     "output_type": "stream",
     "text": [
      "C:\\Program Files\\Python310\\lib\\site-packages\\torch\\nn\\modules\\transformer.py:306: UserWarning: enable_nested_tensor is True, but self.use_nested_tensor is False because encoder_layer.self_attn.batch_first was not True(use batch_first for better inference performance)\n",
      "  warnings.warn(f\"enable_nested_tensor is True, but self.use_nested_tensor is False because {why_not_sparsity_fast_path}\")\n"
     ]
    }
   ],
   "source": [
    "from project.model import RPN\n",
    "\n",
    "rpn = RPN(50**2, 4, 4, 2500).to(device)"
   ]
  },
  {
   "cell_type": "code",
   "execution_count": 8,
   "id": "581a9a58-7eac-4302-9a20-76c46ebade4e",
   "metadata": {},
   "outputs": [
    {
     "name": "stderr",
     "output_type": "stream",
     "text": [
      "C:\\Program Files\\Python310\\lib\\site-packages\\torch\\nn\\functional.py:5504: UserWarning: 1Torch was not compiled with flash attention. (Triggered internally at ..\\aten\\src\\ATen\\native\\transformers\\cuda\\sdp_utils.cpp:455.)\n",
      "  attn_output = scaled_dot_product_attention(q, k, v, attn_mask, dropout_p, is_causal)\n"
     ]
    }
   ],
   "source": [
    "y = rpn(x, 1)"
   ]
  },
  {
   "cell_type": "code",
   "execution_count": 9,
   "id": "8e802a38-a672-4236-acd5-7a997b320199",
   "metadata": {},
   "outputs": [
    {
     "data": {
      "text/plain": [
       "(1251732992, 1298137088)"
      ]
     },
     "execution_count": 9,
     "metadata": {},
     "output_type": "execute_result"
    }
   ],
   "source": [
    "memcheck()"
   ]
  },
  {
   "cell_type": "code",
   "execution_count": 10,
   "id": "f0add720-e8c2-4d01-9863-714a41bd0828",
   "metadata": {},
   "outputs": [],
   "source": [
    "del y\n",
    "torch.cuda.empty_cache()"
   ]
  },
  {
   "cell_type": "code",
   "execution_count": 15,
   "id": "04dd9803-4ca7-4670-aba6-e54c56b4bf0d",
   "metadata": {},
   "outputs": [
    {
     "data": {
      "text/plain": [
       "(124403200, 142606336)"
      ]
     },
     "execution_count": 15,
     "metadata": {},
     "output_type": "execute_result"
    }
   ],
   "source": [
    "memcheck()"
   ]
  }
 ],
 "metadata": {
  "kernelspec": {
   "display_name": "Python 3 (ipykernel)",
   "language": "python",
   "name": "python3"
  },
  "language_info": {
   "codemirror_mode": {
    "name": "ipython",
    "version": 3
   },
   "file_extension": ".py",
   "mimetype": "text/x-python",
   "name": "python",
   "nbconvert_exporter": "python",
   "pygments_lexer": "ipython3",
   "version": "3.10.5"
  }
 },
 "nbformat": 4,
 "nbformat_minor": 5
}
