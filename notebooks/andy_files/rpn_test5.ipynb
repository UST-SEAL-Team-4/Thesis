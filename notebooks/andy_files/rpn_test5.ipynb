{
 "cells": [
  {
   "cell_type": "code",
   "execution_count": null,
   "id": "bfacf68a-de24-4c35-b4f1-b9ae5dca9544",
   "metadata": {},
   "outputs": [],
   "source": [
    "import torch\n",
    "import torch.nn as nn\n",
    "import pandas as pd\n",
    "from project.dataset import Dataset, VALDODataset\n",
    "from torch.utils.data import DataLoader\n",
    "from project.preprocessing import NiftiToTensorTransform, z_score_normalization\n",
    "from project.utils import collate_fn, plot_mri_slice, plot_all_slices, plot_all_slices_from_array\n",
    "import winsound"
   ]
  },
  {
   "cell_type": "code",
   "execution_count": null,
   "id": "d05f4152-37bc-4156-8936-a2ffb7cfcdbd",
   "metadata": {},
   "outputs": [],
   "source": [
    "device = 'cuda' if torch.cuda.is_available() else 'cpu'\n",
    "device\n",
    "\n",
    "import logging\n",
    "logger = logging.getLogger('andy')\n",
    "fh = logging.FileHandler('andy.log')\n",
    "formatter = logging.Formatter(\n",
    "    '%(asctime)s - %(levelname)s - %(message)s'\n",
    ")\n",
    "\n",
    "logger.setLevel(logging.DEBUG)\n",
    "fh.setLevel(logging.DEBUG)\n",
    "fh.setFormatter(formatter)\n",
    "\n",
    "logger.addHandler(fh)"
   ]
  },
  {
   "cell_type": "code",
   "execution_count": null,
   "id": "96fce506-de41-48a5-b519-3b29d9f2bb5e",
   "metadata": {},
   "outputs": [],
   "source": [
    "ds = Dataset()\n",
    "\n",
    "data = pd.read_csv('targets.csv')"
   ]
  },
  {
   "cell_type": "raw",
   "id": "ed63aaea-4216-4946-82c0-bc0ff1e950f9",
   "metadata": {},
   "source": [
    "ch1 = ds.load_raw_mri(1)\n",
    "data = data[data.mri.isin(ch1)]"
   ]
  },
  {
   "cell_type": "code",
   "execution_count": null,
   "id": "0d37fd64-a0db-462e-a816-a004eae7922d",
   "metadata": {},
   "outputs": [],
   "source": [
    "transform = NiftiToTensorTransform(target_shape = (50, 50), rpn_mode=True)\n",
    "\n",
    "cases = data.mri\n",
    "masks = data.masks\n",
    "target = data.target"
   ]
  },
  {
   "cell_type": "code",
   "execution_count": null,
   "id": "9511c1af-f13f-48be-9abe-119b45873988",
   "metadata": {},
   "outputs": [],
   "source": [
    "dataset = VALDODataset(\n",
    "    cases=cases,\n",
    "    masks=masks,\n",
    "    target=target,\n",
    "    transform=transform,\n",
    "    normalization=z_score_normalization,\n",
    ")"
   ]
  },
  {
   "cell_type": "code",
   "execution_count": null,
   "id": "df2924c6-bc11-4ad9-87b6-aaa92a862f8f",
   "metadata": {},
   "outputs": [],
   "source": [
    "dloader = DataLoader(\n",
    "    dataset,\n",
    "    shuffle=True,\n",
    "    batch_size=1,\n",
    "    collate_fn=collate_fn,\n",
    ")"
   ]
  },
  {
   "cell_type": "markdown",
   "id": "29cedf12-482b-47ce-a666-711c7b807e0e",
   "metadata": {},
   "source": [
    "### Config for fitter"
   ]
  },
  {
   "cell_type": "code",
   "execution_count": null,
   "id": "ee46aafe-3b69-4f80-9487-f84dcfcd570f",
   "metadata": {},
   "outputs": [],
   "source": [
    "from project.model import RPN\n",
    "\n",
    "config = {\n",
    "    'model': RPN(50**2, 4, 5, 2500).to(device),\n",
    "    'optimizer': torch.optim.Adam,\n",
    "    'device': device,\n",
    "    'epochs': 1,\n",
    "    'loss': nn.SmoothL1Loss(),\n",
    "    # 'loss': nn.MSELoss(),\n",
    "    'lr': 0.0000001\n",
    "}"
   ]
  },
  {
   "cell_type": "markdown",
   "id": "93be4820-2db9-4c75-926b-a00d8c8f1ec6",
   "metadata": {},
   "source": [
    "### Sample trial"
   ]
  },
  {
   "cell_type": "code",
   "execution_count": null,
   "id": "456e8286-18d8-4046-8878-4f7e419365d6",
   "metadata": {},
   "outputs": [],
   "source": [
    "sample = next(enumerate(dloader))"
   ]
  },
  {
   "cell_type": "code",
   "execution_count": null,
   "id": "9e121e14-ae80-4849-8c95-f0b390f5c8cd",
   "metadata": {},
   "outputs": [],
   "source": [
    "model = config['model']"
   ]
  },
  {
   "cell_type": "code",
   "execution_count": null,
   "id": "cc9e95be-8ff6-42ac-ba49-26a64bb20d52",
   "metadata": {},
   "outputs": [],
   "source": [
    "slices, masks, target, case = sample[1]"
   ]
  },
  {
   "cell_type": "code",
   "execution_count": null,
   "id": "bdebb921-3b24-441a-91ee-abf16a8cd530",
   "metadata": {},
   "outputs": [],
   "source": [
    "num_slices = slices.shape[0]\n",
    "x = slices.view(num_slices, 1, -1).float().to(device)\n",
    "masks = masks.view(num_slices, 1, -1).float().to(device)"
   ]
  },
  {
   "cell_type": "code",
   "execution_count": null,
   "id": "dd23867d-c091-4bf4-a587-14e45e12fd82",
   "metadata": {},
   "outputs": [],
   "source": [
    "model(x, target[0])"
   ]
  },
  {
   "cell_type": "markdown",
   "id": "ee779cff-4a3c-43c7-8db9-125f61ee3532",
   "metadata": {},
   "source": [
    "### Fitter"
   ]
  },
  {
   "cell_type": "code",
   "execution_count": null,
   "id": "98d51904-db57-4694-bbfb-9471e303ddb7",
   "metadata": {},
   "outputs": [],
   "source": [
    "from project import Fitter\n",
    "\n",
    "class RPNFitter(Fitter):\n",
    "    def train_one_epoch(self, train_loader):\n",
    "        self.model.train()\n",
    "        loss_history = []\n",
    "        counter = 0\n",
    "        for slices, masks, targets, cases in train_loader:\n",
    "            target = targets[0]\n",
    "            num_slices = slices.shape[0]\n",
    "            x = slices.view(num_slices, 1, -1).float().to(self.device)\n",
    "            masks = masks.view(num_slices, 1, -1).float().to(self.device)\n",
    "            y = self.model(x, target)\n",
    "            losses = self.loss(y, masks[target])\n",
    "            loss_history.append(losses)\n",
    "            self.optimizer.zero_grad()\n",
    "            losses.backward()\n",
    "            self.optimizer.step()\n",
    "            counter += 1\n",
    "            if counter % 50 == 0:\n",
    "                logger.info(f'Progress:\\t{counter}/{len(dataset)}')\n",
    "                logger.info(f'Current error:\\t{losses}')\n",
    "            \n",
    "        return loss_history"
   ]
  },
  {
   "cell_type": "code",
   "execution_count": null,
   "id": "99f60028-0167-4cbb-9224-c09397984a15",
   "metadata": {},
   "outputs": [],
   "source": [
    "fitter = RPNFitter(config)"
   ]
  },
  {
   "cell_type": "markdown",
   "id": "66e7e8b7-6951-4b30-bb40-e2d444e7709e",
   "metadata": {},
   "source": [
    "### Training"
   ]
  },
  {
   "cell_type": "code",
   "execution_count": null,
   "id": "2cb50c1c-2a7d-44e1-908f-20f64414d780",
   "metadata": {},
   "outputs": [],
   "source": [
    "hist = fitter.fit(dloader, dloader)"
   ]
  },
  {
   "cell_type": "code",
   "execution_count": null,
   "id": "e64e5b99-becf-470f-8066-6b67680239cc",
   "metadata": {},
   "outputs": [],
   "source": [
    "winsound.Beep(500, 500)\n",
    "winsound.Beep(500, 500)\n",
    "winsound.Beep(500, 500)"
   ]
  },
  {
   "cell_type": "code",
   "execution_count": null,
   "id": "0bc4e04f-6b28-4634-95c2-1bfc2359a155",
   "metadata": {},
   "outputs": [],
   "source": [
    "import seaborn as sns\n",
    "\n",
    "sns.lineplot(torch.tensor(hist[0]))"
   ]
  },
  {
   "cell_type": "markdown",
   "id": "afc627b4-27be-439f-9494-3bc7e1d027e1",
   "metadata": {},
   "source": [
    "# Summary"
   ]
  },
  {
   "cell_type": "markdown",
   "id": "e837e5bb-093d-4b07-aa6b-f6b0e6cd0852",
   "metadata": {},
   "source": [
    "target slice is now included in the dataset. It takes too much time however as there are now more than 7000 records to handle and since the dataloader needs to load the same sample for how many slices it has, it takes a while compared to loading a sample once and iterating through each slice.\n",
    "\n",
    "**Next goal**: implement batches, fix `collate_fn`"
   ]
  }
 ],
 "metadata": {
  "kernelspec": {
   "display_name": "Python 3 (ipykernel)",
   "language": "python",
   "name": "python3"
  },
  "language_info": {
   "codemirror_mode": {
    "name": "ipython",
    "version": 3
   },
   "file_extension": ".py",
   "mimetype": "text/x-python",
   "name": "python",
   "nbconvert_exporter": "python",
   "pygments_lexer": "ipython3",
   "version": "3.10.5"
  }
 },
 "nbformat": 4,
 "nbformat_minor": 5
}
