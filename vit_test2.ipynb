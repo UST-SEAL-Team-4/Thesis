{
 "cells": [
  {
   "cell_type": "code",
   "execution_count": 1,
   "id": "a7d946d8-3c09-42db-a83d-a9edc4d81712",
   "metadata": {},
   "outputs": [
    {
     "name": "stderr",
     "output_type": "stream",
     "text": [
      "INFO:albumentations.check_version:A new version of Albumentations is available: 1.4.21 (you have 1.4.7). Upgrade using: pip install --upgrade albumentations\n",
      "C:\\Users\\araza\\AppData\\Roaming\\Python\\Python310\\site-packages\\tqdm\\auto.py:21: TqdmWarning: IProgress not found. Please update jupyter and ipywidgets. See https://ipywidgets.readthedocs.io/en/stable/user_install.html\n",
      "  from .autonotebook import tqdm as notebook_tqdm\n"
     ]
    }
   ],
   "source": [
    "import pandas as pd\n",
    "import os\n",
    "from project.dataset import Dataset, VALDODataset\n",
    "from project.preprocessing import z_score_normalization, min_max_normalization, NiftiToTensorTransform, get_transform\n",
    "# from project.preprocessing import z_score_normalization, min_max_normalization\n",
    "# from project.training import split_train_val_datasets\n",
    "from project.utils import collate_fn, plot_all_slices, plot_all_slices_from_array, collatev2, compute_statistics\n",
    "from torch.utils.data import DataLoader\n",
    "import torch\n",
    "from project.model import VisionTransformer, ISAVIT\n",
    "from torch.optim import Adam\n",
    "import torch.nn as nn\n",
    "import torch.nn.functional as F\n",
    "from tqdm.auto import tqdm\n",
    "import matplotlib.pyplot as plt\n",
    "from project.model.feeder import Feeder\n",
    "import seaborn as sns\n"
   ]
  },
  {
   "cell_type": "code",
   "execution_count": 2,
   "id": "ac7c96f7-7055-40cc-8dd2-6be02f0f1c8f",
   "metadata": {},
   "outputs": [
    {
     "data": {
      "text/plain": [
       "'Nov_02_2024_202913'"
      ]
     },
     "execution_count": 2,
     "metadata": {},
     "output_type": "execute_result"
    }
   ],
   "source": [
    "import logging\n",
    "from datetime import datetime as dtt\n",
    "import os\n",
    "\n",
    "path = 'logs'\n",
    "os.makedirs(path, exist_ok=True)\n",
    "dte = dtt.now().strftime('%b_%d_%Y_%H%M%S')\n",
    "\n",
    "logger = logging.getLogger('andy')\n",
    "fh = logging.FileHandler(f'logs/{dte}.log')\n",
    "formatter = logging.Formatter(\n",
    "    '%(asctime)s - %(levelname)s - %(message)s'\n",
    ")\n",
    "\n",
    "logger.setLevel(logging.DEBUG)\n",
    "fh.setLevel(logging.DEBUG)\n",
    "fh.setFormatter(formatter)\n",
    "\n",
    "logger.addHandler(fh)\n",
    "\n",
    "dte"
   ]
  },
  {
   "cell_type": "code",
   "execution_count": 3,
   "id": "83a25339-7e8c-4fd6-8c0e-f5b72750ae95",
   "metadata": {},
   "outputs": [
    {
     "data": {
      "text/plain": [
       "'cuda'"
      ]
     },
     "execution_count": 3,
     "metadata": {},
     "output_type": "execute_result"
    }
   ],
   "source": [
    "device = 'cuda' if torch.cuda.is_available() else 'cpu'\n",
    "device"
   ]
  },
  {
   "cell_type": "markdown",
   "id": "3eba0b0d-a012-4fea-a974-a64f36f12d63",
   "metadata": {},
   "source": [
    "### Config for fitter"
   ]
  },
  {
   "cell_type": "code",
   "execution_count": 4,
   "id": "46d42175-231c-4203-aacf-6aa642d02e03",
   "metadata": {},
   "outputs": [
    {
     "name": "stderr",
     "output_type": "stream",
     "text": [
      "C:\\Program Files\\Python310\\lib\\site-packages\\torch\\nn\\modules\\transformer.py:306: UserWarning: enable_nested_tensor is True, but self.use_nested_tensor is False because encoder_layer.self_attn.batch_first was not True(use batch_first for better inference performance)\n",
      "  warnings.warn(f\"enable_nested_tensor is True, but self.use_nested_tensor is False because {why_not_sparsity_fast_path}\")\n"
     ]
    }
   ],
   "source": [
    "config = {\n",
    "    'model': ISAVIT(\n",
    "        d_model=512,\n",
    "        patch_size=16,\n",
    "        dim_ff=1600\n",
    "    ).to(device),\n",
    "    'optimizer': torch.optim.Adam,\n",
    "    'device': device,\n",
    "    'epochs': 1,\n",
    "    'loss': nn.BCEWithLogitsLoss(),\n",
    "    # 'loss': nn.MSELoss(),\n",
    "    'lr': 0.0001\n",
    "}"
   ]
  },
  {
   "cell_type": "markdown",
   "id": "cf6d1b71-93da-4fcd-aad7-639e5ff8c870",
   "metadata": {},
   "source": [
    "### Create Stage 1 Network"
   ]
  },
  {
   "cell_type": "code",
   "execution_count": 5,
   "id": "84a3fff6-8c64-4bc1-beb8-54cbe000e829",
   "metadata": {},
   "outputs": [
    {
     "name": "stdout",
     "output_type": "stream",
     "text": [
      "324\n"
     ]
    }
   ],
   "source": [
    "from project.model import Feeder, RPN, GCRPN\n",
    "\n",
    "image_size = 300\n",
    "patch_size = 16\n",
    "\n",
    "resize = get_transform(\n",
    "    height=patch_size,\n",
    "    width=patch_size,\n",
    "    p=1.0,\n",
    "    rpn_mode=False\n",
    ")\n",
    "\n",
    "feeder = Feeder(resize)\n",
    "rpn = RPN(\n",
    "    input_dim=512,\n",
    "    output_dim=4,\n",
    "    image_size=300,\n",
    "    nh=4\n",
    ")\n",
    "\n",
    "stone = GCRPN(\n",
    "    rpn=rpn,\n",
    "    feeder=feeder,\n",
    "    image_size=image_size,\n",
    "    patch_size=patch_size\n",
    ")"
   ]
  },
  {
   "cell_type": "code",
   "execution_count": 6,
   "id": "c71c3b79-9502-4ab5-807a-4f83e6df32b6",
   "metadata": {},
   "outputs": [
    {
     "data": {
      "text/plain": [
       "<All keys matched successfully>"
      ]
     },
     "execution_count": 6,
     "metadata": {},
     "output_type": "execute_result"
    }
   ],
   "source": [
    "stone.rpn.load_state_dict(torch.load('RPN_test15_weights_Nov_02_2024_192506.pt'))"
   ]
  },
  {
   "cell_type": "markdown",
   "id": "875b91b7-1a2b-4f30-a26e-c21ffb9686b5",
   "metadata": {},
   "source": [
    "#### Load ViT Weights"
   ]
  },
  {
   "cell_type": "raw",
   "id": "e456f2e2-3ef0-4535-8555-3cecd52734d9",
   "metadata": {},
   "source": [
    "model = config['model']\n",
    "model.load_state_dict(torch.load('RPN_weights_241024213949.pt'))"
   ]
  },
  {
   "cell_type": "markdown",
   "id": "dd90bcf3-f799-4587-a109-8f2b5439fbd4",
   "metadata": {},
   "source": [
    "### Load dataset"
   ]
  },
  {
   "cell_type": "code",
   "execution_count": 7,
   "id": "0461978c-bfcd-4c2d-b3f5-66c59c83659b",
   "metadata": {},
   "outputs": [
    {
     "data": {
      "text/plain": [
       "(7986, 8)"
      ]
     },
     "execution_count": 7,
     "metadata": {},
     "output_type": "execute_result"
    }
   ],
   "source": [
    "ds = Dataset()\n",
    "\n",
    "data = pd.read_csv('targets.csv')\n",
    "data.shape"
   ]
  },
  {
   "cell_type": "code",
   "execution_count": 8,
   "id": "4af41ac0-6cb0-4b25-bb6e-7dec67c0c90f",
   "metadata": {},
   "outputs": [
    {
     "data": {
      "text/html": [
       "<div>\n",
       "<style scoped>\n",
       "    .dataframe tbody tr th:only-of-type {\n",
       "        vertical-align: middle;\n",
       "    }\n",
       "\n",
       "    .dataframe tbody tr th {\n",
       "        vertical-align: top;\n",
       "    }\n",
       "\n",
       "    .dataframe thead th {\n",
       "        text-align: right;\n",
       "    }\n",
       "</style>\n",
       "<table border=\"1\" class=\"dataframe\">\n",
       "  <thead>\n",
       "    <tr style=\"text-align: right;\">\n",
       "      <th></th>\n",
       "      <th>mri</th>\n",
       "      <th>masks</th>\n",
       "      <th>target</th>\n",
       "      <th>has_microbleed_case</th>\n",
       "      <th>has_microbleed_slice</th>\n",
       "      <th>cohort</th>\n",
       "      <th>max_value</th>\n",
       "      <th>slices</th>\n",
       "    </tr>\n",
       "  </thead>\n",
       "  <tbody>\n",
       "    <tr>\n",
       "      <th>0</th>\n",
       "      <td>C:\\Users\\araza\\Documents\\1\\gits\\thesis_project...</td>\n",
       "      <td>C:\\Users\\araza\\Documents\\1\\gits\\thesis_project...</td>\n",
       "      <td>8</td>\n",
       "      <td>1</td>\n",
       "      <td>1</td>\n",
       "      <td>1</td>\n",
       "      <td>928.405273</td>\n",
       "      <td>35</td>\n",
       "    </tr>\n",
       "    <tr>\n",
       "      <th>1</th>\n",
       "      <td>C:\\Users\\araza\\Documents\\1\\gits\\thesis_project...</td>\n",
       "      <td>C:\\Users\\araza\\Documents\\1\\gits\\thesis_project...</td>\n",
       "      <td>9</td>\n",
       "      <td>1</td>\n",
       "      <td>1</td>\n",
       "      <td>1</td>\n",
       "      <td>928.405273</td>\n",
       "      <td>35</td>\n",
       "    </tr>\n",
       "    <tr>\n",
       "      <th>2</th>\n",
       "      <td>C:\\Users\\araza\\Documents\\1\\gits\\thesis_project...</td>\n",
       "      <td>C:\\Users\\araza\\Documents\\1\\gits\\thesis_project...</td>\n",
       "      <td>11</td>\n",
       "      <td>1</td>\n",
       "      <td>1</td>\n",
       "      <td>1</td>\n",
       "      <td>928.405273</td>\n",
       "      <td>35</td>\n",
       "    </tr>\n",
       "    <tr>\n",
       "      <th>3</th>\n",
       "      <td>C:\\Users\\araza\\Documents\\1\\gits\\thesis_project...</td>\n",
       "      <td>C:\\Users\\araza\\Documents\\1\\gits\\thesis_project...</td>\n",
       "      <td>12</td>\n",
       "      <td>1</td>\n",
       "      <td>1</td>\n",
       "      <td>1</td>\n",
       "      <td>928.405273</td>\n",
       "      <td>35</td>\n",
       "    </tr>\n",
       "    <tr>\n",
       "      <th>4</th>\n",
       "      <td>C:\\Users\\araza\\Documents\\1\\gits\\thesis_project...</td>\n",
       "      <td>C:\\Users\\araza\\Documents\\1\\gits\\thesis_project...</td>\n",
       "      <td>15</td>\n",
       "      <td>1</td>\n",
       "      <td>1</td>\n",
       "      <td>1</td>\n",
       "      <td>928.405273</td>\n",
       "      <td>35</td>\n",
       "    </tr>\n",
       "    <tr>\n",
       "      <th>...</th>\n",
       "      <td>...</td>\n",
       "      <td>...</td>\n",
       "      <td>...</td>\n",
       "      <td>...</td>\n",
       "      <td>...</td>\n",
       "      <td>...</td>\n",
       "      <td>...</td>\n",
       "      <td>...</td>\n",
       "    </tr>\n",
       "    <tr>\n",
       "      <th>359</th>\n",
       "      <td>C:\\Users\\araza\\Documents\\1\\gits\\thesis_project...</td>\n",
       "      <td>C:\\Users\\araza\\Documents\\1\\gits\\thesis_project...</td>\n",
       "      <td>25</td>\n",
       "      <td>1</td>\n",
       "      <td>1</td>\n",
       "      <td>3</td>\n",
       "      <td>241.000000</td>\n",
       "      <td>36</td>\n",
       "    </tr>\n",
       "    <tr>\n",
       "      <th>360</th>\n",
       "      <td>C:\\Users\\araza\\Documents\\1\\gits\\thesis_project...</td>\n",
       "      <td>C:\\Users\\araza\\Documents\\1\\gits\\thesis_project...</td>\n",
       "      <td>26</td>\n",
       "      <td>1</td>\n",
       "      <td>1</td>\n",
       "      <td>3</td>\n",
       "      <td>241.000000</td>\n",
       "      <td>36</td>\n",
       "    </tr>\n",
       "    <tr>\n",
       "      <th>361</th>\n",
       "      <td>C:\\Users\\araza\\Documents\\1\\gits\\thesis_project...</td>\n",
       "      <td>C:\\Users\\araza\\Documents\\1\\gits\\thesis_project...</td>\n",
       "      <td>24</td>\n",
       "      <td>1</td>\n",
       "      <td>1</td>\n",
       "      <td>3</td>\n",
       "      <td>448.000000</td>\n",
       "      <td>39</td>\n",
       "    </tr>\n",
       "    <tr>\n",
       "      <th>362</th>\n",
       "      <td>C:\\Users\\araza\\Documents\\1\\gits\\thesis_project...</td>\n",
       "      <td>C:\\Users\\araza\\Documents\\1\\gits\\thesis_project...</td>\n",
       "      <td>25</td>\n",
       "      <td>1</td>\n",
       "      <td>1</td>\n",
       "      <td>3</td>\n",
       "      <td>448.000000</td>\n",
       "      <td>39</td>\n",
       "    </tr>\n",
       "    <tr>\n",
       "      <th>363</th>\n",
       "      <td>C:\\Users\\araza\\Documents\\1\\gits\\thesis_project...</td>\n",
       "      <td>C:\\Users\\araza\\Documents\\1\\gits\\thesis_project...</td>\n",
       "      <td>20</td>\n",
       "      <td>1</td>\n",
       "      <td>1</td>\n",
       "      <td>3</td>\n",
       "      <td>253.000000</td>\n",
       "      <td>39</td>\n",
       "    </tr>\n",
       "  </tbody>\n",
       "</table>\n",
       "<p>364 rows × 8 columns</p>\n",
       "</div>"
      ],
      "text/plain": [
       "                                                   mri  \\\n",
       "0    C:\\Users\\araza\\Documents\\1\\gits\\thesis_project...   \n",
       "1    C:\\Users\\araza\\Documents\\1\\gits\\thesis_project...   \n",
       "2    C:\\Users\\araza\\Documents\\1\\gits\\thesis_project...   \n",
       "3    C:\\Users\\araza\\Documents\\1\\gits\\thesis_project...   \n",
       "4    C:\\Users\\araza\\Documents\\1\\gits\\thesis_project...   \n",
       "..                                                 ...   \n",
       "359  C:\\Users\\araza\\Documents\\1\\gits\\thesis_project...   \n",
       "360  C:\\Users\\araza\\Documents\\1\\gits\\thesis_project...   \n",
       "361  C:\\Users\\araza\\Documents\\1\\gits\\thesis_project...   \n",
       "362  C:\\Users\\araza\\Documents\\1\\gits\\thesis_project...   \n",
       "363  C:\\Users\\araza\\Documents\\1\\gits\\thesis_project...   \n",
       "\n",
       "                                                 masks  target  \\\n",
       "0    C:\\Users\\araza\\Documents\\1\\gits\\thesis_project...       8   \n",
       "1    C:\\Users\\araza\\Documents\\1\\gits\\thesis_project...       9   \n",
       "2    C:\\Users\\araza\\Documents\\1\\gits\\thesis_project...      11   \n",
       "3    C:\\Users\\araza\\Documents\\1\\gits\\thesis_project...      12   \n",
       "4    C:\\Users\\araza\\Documents\\1\\gits\\thesis_project...      15   \n",
       "..                                                 ...     ...   \n",
       "359  C:\\Users\\araza\\Documents\\1\\gits\\thesis_project...      25   \n",
       "360  C:\\Users\\araza\\Documents\\1\\gits\\thesis_project...      26   \n",
       "361  C:\\Users\\araza\\Documents\\1\\gits\\thesis_project...      24   \n",
       "362  C:\\Users\\araza\\Documents\\1\\gits\\thesis_project...      25   \n",
       "363  C:\\Users\\araza\\Documents\\1\\gits\\thesis_project...      20   \n",
       "\n",
       "     has_microbleed_case  has_microbleed_slice  cohort   max_value  slices  \n",
       "0                      1                     1       1  928.405273      35  \n",
       "1                      1                     1       1  928.405273      35  \n",
       "2                      1                     1       1  928.405273      35  \n",
       "3                      1                     1       1  928.405273      35  \n",
       "4                      1                     1       1  928.405273      35  \n",
       "..                   ...                   ...     ...         ...     ...  \n",
       "359                    1                     1       3  241.000000      36  \n",
       "360                    1                     1       3  241.000000      36  \n",
       "361                    1                     1       3  448.000000      39  \n",
       "362                    1                     1       3  448.000000      39  \n",
       "363                    1                     1       3  253.000000      39  \n",
       "\n",
       "[364 rows x 8 columns]"
      ]
     },
     "execution_count": 8,
     "metadata": {},
     "output_type": "execute_result"
    }
   ],
   "source": [
    "data = data.query('has_microbleed_slice == 1').reset_index(drop=True)\n",
    "data"
   ]
  },
  {
   "cell_type": "markdown",
   "id": "eb5260a7-9cbb-44c5-a21b-ba8db11a2e78",
   "metadata": {},
   "source": [
    "### `DataLoader` Generator"
   ]
  },
  {
   "cell_type": "code",
   "execution_count": 9,
   "id": "841431ec-6c5b-430d-af69-cfed4f10bc14",
   "metadata": {},
   "outputs": [],
   "source": [
    "def iqr(data, col):\n",
    "    q3 = data[col].quantile(0.75)\n",
    "    q1 = data[col].quantile(0.25)\n",
    "    iqr = q3-q1\n",
    "    new = data[(data[col] < (q3 + 1.5*iqr)) & (data[col] > (q1 - 1.5*iqr))]\n",
    "    return new"
   ]
  },
  {
   "cell_type": "code",
   "execution_count": 10,
   "id": "46304b85-cba7-4042-9d3b-b60de8510133",
   "metadata": {},
   "outputs": [],
   "source": [
    "from sklearn.model_selection import train_test_split\n",
    "\n",
    "def make_loaders(data,\n",
    "                 cohort,\n",
    "                 batch_size,\n",
    "                 test_size=0.2,\n",
    "                 random_state=12,\n",
    "                 target_shape=(300, 300),\n",
    "                 rpn_mode=True,\n",
    "                 logger=None\n",
    "                ):\n",
    "    data = data[data.cohort == cohort]\n",
    "    # data = iqr(data, 'max_value')\n",
    "    \n",
    "    s = f'Creating loaders for Cohort {cohort}\\n'\n",
    "\n",
    "    data_train, data_test = train_test_split(\n",
    "        data,\n",
    "        test_size=test_size,\n",
    "        random_state=random_state\n",
    "    )\n",
    "\n",
    "    s += f'TRAIN & TEST: {data_train.shape, data_test.shape}\\n'\n",
    "\n",
    "    paths = data_train.mri.unique().tolist()\n",
    "    s += f'Total Unique MRI Samples in data_train: {len(paths)}\\n'\n",
    "    \n",
    "    global_min, global_max = compute_statistics(paths)\n",
    "    s += f'GLOBAL MIN & MAX {global_min, global_max}\\n'\n",
    "\n",
    "    transform = NiftiToTensorTransform(\n",
    "        target_shape=target_shape,\n",
    "        rpn_mode=rpn_mode,\n",
    "        normalization=(global_min, global_max)\n",
    "    )\n",
    "\n",
    "    train_set = VALDODataset(\n",
    "        cases=data_train.mri.tolist(),\n",
    "        masks=data_train.masks.tolist(),\n",
    "        target=data_train.target.tolist(),\n",
    "        transform=transform\n",
    "    )\n",
    "    val_set = VALDODataset(\n",
    "        cases=data_test.mri.tolist(),\n",
    "        masks=data_test.masks.tolist(),\n",
    "        target=data_test.target.tolist(),\n",
    "        transform=transform\n",
    "    )\n",
    "\n",
    "    train_loader = DataLoader(\n",
    "        train_set,\n",
    "        shuffle=True,\n",
    "        batch_size=batch_size,\n",
    "        collate_fn=collatev2\n",
    "    )\n",
    "    val_loader = DataLoader(\n",
    "        val_set,\n",
    "        shuffle=True,\n",
    "        batch_size=batch_size,\n",
    "        collate_fn=collatev2\n",
    "    )\n",
    "\n",
    "    if logger != None:\n",
    "        logger.info(s)\n",
    "    else:\n",
    "        print(s)\n",
    "    \n",
    "    return train_loader, val_loader"
   ]
  },
  {
   "cell_type": "markdown",
   "id": "fcb2f030-4d8f-43c4-ae78-6f7dd2b0d14f",
   "metadata": {},
   "source": [
    "### Fitter"
   ]
  },
  {
   "cell_type": "code",
   "execution_count": 11,
   "id": "681a7f06-b1a7-4307-89fd-87c8e359d8b9",
   "metadata": {},
   "outputs": [],
   "source": [
    "from project import Fitter\n",
    "\n",
    "class ViTFitter(Fitter):\n",
    "    \n",
    "    def fit(self, train_loader, val_loader, stage1):\n",
    "        train_history = []\n",
    "        val_history = []\n",
    "        for epoch in range(self.epochs):\n",
    "            self.log(f'EPOCH {epoch} ==============================')\n",
    "            train_loss = self.train_one_epoch(train_loader, stage1)\n",
    "            val_loss = self.validation(val_loader, stage1)\n",
    "            train_history.append(train_loss)\n",
    "            val_history.append(val_loss)\n",
    "        return train_history, val_history\n",
    "\n",
    "    def train_one_epoch(self, train_loader, stage1):\n",
    "        self.model.train()\n",
    "        loss_history = []\n",
    "        counter = 0\n",
    "        for batch in train_loader:\n",
    "            Y = []\n",
    "            T = []\n",
    "            for slices, masks, target, case in batch:\n",
    "                slices = slices.squeeze(1).float()\n",
    "                masks = masks.float()\n",
    "\n",
    "                with torch.inference_mode():\n",
    "                    x, t = stage1(slices, masks, target)\n",
    "                \n",
    "                self.log(f'{x.requires_grad}, {t.requires_grad}')\n",
    "                self.log(f'{x.shape}, {t.shape}')\n",
    "\n",
    "                x = x.flatten(2).float().to(self.device)\n",
    "                t = t.flatten(2).float().to(self.device)\n",
    "                self.log(f'XT SHAPES: {x.shape}, {t.shape}')\n",
    "                \n",
    "                y = self.model(x, target)\n",
    "                Y.append(y)\n",
    "                T.append(t[target])\n",
    "            \n",
    "            losses = self.loss(torch.stack(Y), torch.stack(T))\n",
    "            self.optimizer.zero_grad()\n",
    "            losses.backward()\n",
    "            self.optimizer.step()\n",
    "            counter += 1\n",
    "            self.log(f'Batch:\\t{counter}/{len(train_loader)}')\n",
    "            self.log(f'Batch samples:\\t{len(batch)}')\n",
    "            self.log(f'Current error:\\t{losses}\\n')\n",
    "            \n",
    "            loss_history.append(losses.detach().cpu().numpy())\n",
    "        \n",
    "        return loss_history\n",
    "    def validation(self, val_loader, stage1):\n",
    "        self.model.eval()\n",
    "        loss_history = []\n",
    "        with torch.inference_mode():\n",
    "            for batch in val_loader:\n",
    "                Y = []\n",
    "                T = []\n",
    "                for slices, masks, target, case in batch:\n",
    "                    slices = slices.squeeze(1).float()\n",
    "                    masks = masks.float()\n",
    "                    x, t = stage1(slices, masks, target)\n",
    "                    x = x.flatten(2).float().to(self.device)\n",
    "                    t = t.flatten(2).float().to(self.device)\n",
    "                    y = self.model(x, target)\n",
    "                    Y.append(y)\n",
    "                    T.append(t[target])\n",
    "                \n",
    "                losses = self.loss(torch.stack(Y), torch.stack(T))\n",
    "                loss_history.append(losses.cpu().numpy())\n",
    "        return loss_history"
   ]
  },
  {
   "cell_type": "code",
   "execution_count": 12,
   "id": "7d0faf55-3b17-4b43-9d27-477024ad8768",
   "metadata": {},
   "outputs": [],
   "source": [
    "fitter = ViTFitter(config, logger=logger)"
   ]
  },
  {
   "cell_type": "markdown",
   "id": "e8b9eef4-df74-4f24-8b10-b99bc3ae8475",
   "metadata": {},
   "source": [
    "### Training"
   ]
  },
  {
   "cell_type": "code",
   "execution_count": 13,
   "id": "46cc9353-3d4d-4a9d-88a0-a12a07c7f4ef",
   "metadata": {
    "scrolled": true
   },
   "outputs": [
    {
     "name": "stderr",
     "output_type": "stream",
     "text": [
      "pixdim[0] (qfac) should be 1 (default) or -1; setting qfac to 1\n",
      "INFO:nibabel.global:pixdim[0] (qfac) should be 1 (default) or -1; setting qfac to 1\n",
      "pixdim[0] (qfac) should be 1 (default) or -1; setting qfac to 1\n",
      "INFO:nibabel.global:pixdim[0] (qfac) should be 1 (default) or -1; setting qfac to 1\n",
      "pixdim[0] (qfac) should be 1 (default) or -1; setting qfac to 1\n",
      "INFO:nibabel.global:pixdim[0] (qfac) should be 1 (default) or -1; setting qfac to 1\n",
      "pixdim[0] (qfac) should be 1 (default) or -1; setting qfac to 1\n",
      "INFO:nibabel.global:pixdim[0] (qfac) should be 1 (default) or -1; setting qfac to 1\n",
      "pixdim[0] (qfac) should be 1 (default) or -1; setting qfac to 1\n",
      "INFO:nibabel.global:pixdim[0] (qfac) should be 1 (default) or -1; setting qfac to 1\n",
      "pixdim[0] (qfac) should be 1 (default) or -1; setting qfac to 1\n",
      "INFO:nibabel.global:pixdim[0] (qfac) should be 1 (default) or -1; setting qfac to 1\n",
      "pixdim[0] (qfac) should be 1 (default) or -1; setting qfac to 1\n",
      "INFO:nibabel.global:pixdim[0] (qfac) should be 1 (default) or -1; setting qfac to 1\n",
      "pixdim[0] (qfac) should be 1 (default) or -1; setting qfac to 1\n",
      "INFO:nibabel.global:pixdim[0] (qfac) should be 1 (default) or -1; setting qfac to 1\n"
     ]
    },
    {
     "name": "stdout",
     "output_type": "stream",
     "text": [
      "Creating loaders for Cohort 1\n",
      "TRAIN & TEST: ((36, 8), (9, 8))\n",
      "Total Unique MRI Samples in data_train: 8\n",
      "GLOBAL MIN & MAX (0.0, 1417.92822265625)\n",
      "\n"
     ]
    }
   ],
   "source": [
    "tl, vl = make_loaders(\n",
    "    data=data,\n",
    "    cohort=1,\n",
    "    rpn_mode=False,\n",
    "    batch_size=20\n",
    ")"
   ]
  },
  {
   "cell_type": "code",
   "execution_count": 14,
   "id": "569e76a9-32fa-4a57-b6ff-f817efb00334",
   "metadata": {
    "scrolled": true
   },
   "outputs": [
    {
     "name": "stderr",
     "output_type": "stream",
     "text": [
      "INFO:andy:EPOCH 0 ==============================\n",
      "pixdim[0] (qfac) should be 1 (default) or -1; setting qfac to 1\n",
      "INFO:nibabel.global:pixdim[0] (qfac) should be 1 (default) or -1; setting qfac to 1\n",
      "pixdim[0] (qfac) should be 1 (default) or -1; setting qfac to 1\n",
      "INFO:nibabel.global:pixdim[0] (qfac) should be 1 (default) or -1; setting qfac to 1\n",
      "pixdim[0] (qfac) should be 1 (default) or -1; setting qfac to 1\n",
      "INFO:nibabel.global:pixdim[0] (qfac) should be 1 (default) or -1; setting qfac to 1\n",
      "pixdim[0] (qfac) should be 1 (default) or -1; setting qfac to 1\n",
      "INFO:nibabel.global:pixdim[0] (qfac) should be 1 (default) or -1; setting qfac to 1\n",
      "pixdim[0] (qfac) should be 1 (default) or -1; setting qfac to 1\n",
      "INFO:nibabel.global:pixdim[0] (qfac) should be 1 (default) or -1; setting qfac to 1\n",
      "pixdim[0] (qfac) should be 1 (default) or -1; setting qfac to 1\n",
      "INFO:nibabel.global:pixdim[0] (qfac) should be 1 (default) or -1; setting qfac to 1\n",
      "pixdim[0] (qfac) should be 1 (default) or -1; setting qfac to 1\n",
      "INFO:nibabel.global:pixdim[0] (qfac) should be 1 (default) or -1; setting qfac to 1\n",
      "pixdim[0] (qfac) should be 1 (default) or -1; setting qfac to 1\n",
      "INFO:nibabel.global:pixdim[0] (qfac) should be 1 (default) or -1; setting qfac to 1\n",
      "pixdim[0] (qfac) should be 1 (default) or -1; setting qfac to 1\n",
      "INFO:nibabel.global:pixdim[0] (qfac) should be 1 (default) or -1; setting qfac to 1\n",
      "pixdim[0] (qfac) should be 1 (default) or -1; setting qfac to 1\n",
      "INFO:nibabel.global:pixdim[0] (qfac) should be 1 (default) or -1; setting qfac to 1\n",
      "pixdim[0] (qfac) should be 1 (default) or -1; setting qfac to 1\n",
      "INFO:nibabel.global:pixdim[0] (qfac) should be 1 (default) or -1; setting qfac to 1\n",
      "pixdim[0] (qfac) should be 1 (default) or -1; setting qfac to 1\n",
      "INFO:nibabel.global:pixdim[0] (qfac) should be 1 (default) or -1; setting qfac to 1\n",
      "pixdim[0] (qfac) should be 1 (default) or -1; setting qfac to 1\n",
      "INFO:nibabel.global:pixdim[0] (qfac) should be 1 (default) or -1; setting qfac to 1\n",
      "pixdim[0] (qfac) should be 1 (default) or -1; setting qfac to 1\n",
      "INFO:nibabel.global:pixdim[0] (qfac) should be 1 (default) or -1; setting qfac to 1\n",
      "pixdim[0] (qfac) should be 1 (default) or -1; setting qfac to 1\n",
      "INFO:nibabel.global:pixdim[0] (qfac) should be 1 (default) or -1; setting qfac to 1\n",
      "pixdim[0] (qfac) should be 1 (default) or -1; setting qfac to 1\n",
      "INFO:nibabel.global:pixdim[0] (qfac) should be 1 (default) or -1; setting qfac to 1\n",
      "pixdim[0] (qfac) should be 1 (default) or -1; setting qfac to 1\n",
      "INFO:nibabel.global:pixdim[0] (qfac) should be 1 (default) or -1; setting qfac to 1\n",
      "pixdim[0] (qfac) should be 1 (default) or -1; setting qfac to 1\n",
      "INFO:nibabel.global:pixdim[0] (qfac) should be 1 (default) or -1; setting qfac to 1\n",
      "pixdim[0] (qfac) should be 1 (default) or -1; setting qfac to 1\n",
      "INFO:nibabel.global:pixdim[0] (qfac) should be 1 (default) or -1; setting qfac to 1\n",
      "pixdim[0] (qfac) should be 1 (default) or -1; setting qfac to 1\n",
      "INFO:nibabel.global:pixdim[0] (qfac) should be 1 (default) or -1; setting qfac to 1\n",
      "INFO:andy:False, False\n",
      "INFO:andy:torch.Size([35, 1, 16, 16]), torch.Size([35, 1, 16, 16])\n",
      "INFO:andy:XT SHAPES: torch.Size([35, 1, 256]), torch.Size([35, 1, 256])\n"
     ]
    },
    {
     "name": "stdout",
     "output_type": "stream",
     "text": [
      "BBOX: [110, 94, 158, 206]\n"
     ]
    },
    {
     "name": "stderr",
     "output_type": "stream",
     "text": [
      "C:\\Program Files\\Python310\\lib\\site-packages\\torch\\nn\\functional.py:5504: UserWarning: 1Torch was not compiled with flash attention. (Triggered internally at ..\\aten\\src\\ATen\\native\\transformers\\cuda\\sdp_utils.cpp:455.)\n",
      "  attn_output = scaled_dot_product_attention(q, k, v, attn_mask, dropout_p, is_causal)\n",
      "INFO:andy:False, False\n",
      "INFO:andy:torch.Size([35, 1, 16, 16]), torch.Size([35, 1, 16, 16])\n",
      "INFO:andy:XT SHAPES: torch.Size([35, 1, 256]), torch.Size([35, 1, 256])\n"
     ]
    },
    {
     "name": "stdout",
     "output_type": "stream",
     "text": [
      "BBOX: [140, 92, 175, 187]\n"
     ]
    },
    {
     "name": "stderr",
     "output_type": "stream",
     "text": [
      "INFO:andy:False, False\n",
      "INFO:andy:torch.Size([35, 1, 16, 16]), torch.Size([35, 1, 16, 16])\n",
      "INFO:andy:XT SHAPES: torch.Size([35, 1, 256]), torch.Size([35, 1, 256])\n"
     ]
    },
    {
     "name": "stdout",
     "output_type": "stream",
     "text": [
      "BBOX: [95, 131, 165, 226]\n"
     ]
    },
    {
     "name": "stderr",
     "output_type": "stream",
     "text": [
      "INFO:andy:False, False\n",
      "INFO:andy:torch.Size([35, 1, 16, 16]), torch.Size([35, 1, 16, 16])\n",
      "INFO:andy:XT SHAPES: torch.Size([35, 1, 256]), torch.Size([35, 1, 256])\n"
     ]
    },
    {
     "name": "stdout",
     "output_type": "stream",
     "text": [
      "BBOX: [56, 116, 197, 231]\n"
     ]
    },
    {
     "name": "stderr",
     "output_type": "stream",
     "text": [
      "INFO:andy:False, False\n",
      "INFO:andy:torch.Size([35, 1, 16, 16]), torch.Size([35, 1, 16, 16])\n",
      "INFO:andy:XT SHAPES: torch.Size([35, 1, 256]), torch.Size([35, 1, 256])\n"
     ]
    },
    {
     "name": "stdout",
     "output_type": "stream",
     "text": [
      "BBOX: [92, 84, 190, 183]\n"
     ]
    },
    {
     "name": "stderr",
     "output_type": "stream",
     "text": [
      "INFO:andy:False, False\n",
      "INFO:andy:torch.Size([35, 1, 16, 16]), torch.Size([35, 1, 16, 16])\n",
      "INFO:andy:XT SHAPES: torch.Size([35, 1, 256]), torch.Size([35, 1, 256])\n"
     ]
    },
    {
     "name": "stdout",
     "output_type": "stream",
     "text": [
      "BBOX: [24, 69, 123, 183]\n"
     ]
    },
    {
     "name": "stderr",
     "output_type": "stream",
     "text": [
      "INFO:andy:False, False\n",
      "INFO:andy:torch.Size([35, 1, 16, 16]), torch.Size([35, 1, 16, 16])\n",
      "INFO:andy:XT SHAPES: torch.Size([35, 1, 256]), torch.Size([35, 1, 256])\n"
     ]
    },
    {
     "name": "stdout",
     "output_type": "stream",
     "text": [
      "BBOX: [115, 81, 188, 201]\n"
     ]
    },
    {
     "name": "stderr",
     "output_type": "stream",
     "text": [
      "INFO:andy:False, False\n",
      "INFO:andy:torch.Size([35, 1, 16, 16]), torch.Size([35, 1, 16, 16])\n",
      "INFO:andy:XT SHAPES: torch.Size([35, 1, 256]), torch.Size([35, 1, 256])\n"
     ]
    },
    {
     "name": "stdout",
     "output_type": "stream",
     "text": [
      "BBOX: [119, 93, 184, 177]\n"
     ]
    },
    {
     "name": "stderr",
     "output_type": "stream",
     "text": [
      "INFO:andy:False, False\n",
      "INFO:andy:torch.Size([35, 1, 16, 16]), torch.Size([35, 1, 16, 16])\n",
      "INFO:andy:XT SHAPES: torch.Size([35, 1, 256]), torch.Size([35, 1, 256])\n"
     ]
    },
    {
     "name": "stdout",
     "output_type": "stream",
     "text": [
      "BBOX: [64, 144, 201, 214]\n"
     ]
    },
    {
     "name": "stderr",
     "output_type": "stream",
     "text": [
      "INFO:andy:False, False\n",
      "INFO:andy:torch.Size([35, 1, 16, 16]), torch.Size([35, 1, 16, 16])\n",
      "INFO:andy:XT SHAPES: torch.Size([35, 1, 256]), torch.Size([35, 1, 256])\n"
     ]
    },
    {
     "name": "stdout",
     "output_type": "stream",
     "text": [
      "BBOX: [87, 111, 120, 189]\n"
     ]
    },
    {
     "name": "stderr",
     "output_type": "stream",
     "text": [
      "INFO:andy:False, False\n",
      "INFO:andy:torch.Size([35, 1, 16, 16]), torch.Size([35, 1, 16, 16])\n",
      "INFO:andy:XT SHAPES: torch.Size([35, 1, 256]), torch.Size([35, 1, 256])\n"
     ]
    },
    {
     "name": "stdout",
     "output_type": "stream",
     "text": [
      "BBOX: [43, 84, 132, 195]\n"
     ]
    },
    {
     "name": "stderr",
     "output_type": "stream",
     "text": [
      "INFO:andy:False, False\n",
      "INFO:andy:torch.Size([35, 1, 16, 16]), torch.Size([35, 1, 16, 16])\n",
      "INFO:andy:XT SHAPES: torch.Size([35, 1, 256]), torch.Size([35, 1, 256])\n"
     ]
    },
    {
     "name": "stdout",
     "output_type": "stream",
     "text": [
      "BBOX: [141, 101, 181, 176]\n"
     ]
    },
    {
     "name": "stderr",
     "output_type": "stream",
     "text": [
      "INFO:andy:False, False\n",
      "INFO:andy:torch.Size([35, 1, 16, 16]), torch.Size([35, 1, 16, 16])\n",
      "INFO:andy:XT SHAPES: torch.Size([35, 1, 256]), torch.Size([35, 1, 256])\n"
     ]
    },
    {
     "name": "stdout",
     "output_type": "stream",
     "text": [
      "BBOX: [67, 86, 183, 199]\n"
     ]
    },
    {
     "name": "stderr",
     "output_type": "stream",
     "text": [
      "INFO:andy:False, False\n",
      "INFO:andy:torch.Size([35, 1, 16, 16]), torch.Size([35, 1, 16, 16])\n",
      "INFO:andy:XT SHAPES: torch.Size([35, 1, 256]), torch.Size([35, 1, 256])\n"
     ]
    },
    {
     "name": "stdout",
     "output_type": "stream",
     "text": [
      "BBOX: [103, 91, 184, 193]\n"
     ]
    },
    {
     "name": "stderr",
     "output_type": "stream",
     "text": [
      "INFO:andy:False, False\n",
      "INFO:andy:torch.Size([35, 1, 16, 16]), torch.Size([35, 1, 16, 16])\n",
      "INFO:andy:XT SHAPES: torch.Size([35, 1, 256]), torch.Size([35, 1, 256])\n"
     ]
    },
    {
     "name": "stdout",
     "output_type": "stream",
     "text": [
      "BBOX: [59, 117, 137, 199]\n"
     ]
    },
    {
     "name": "stderr",
     "output_type": "stream",
     "text": [
      "INFO:andy:False, False\n",
      "INFO:andy:torch.Size([35, 1, 16, 16]), torch.Size([35, 1, 16, 16])\n",
      "INFO:andy:XT SHAPES: torch.Size([35, 1, 256]), torch.Size([35, 1, 256])\n"
     ]
    },
    {
     "name": "stdout",
     "output_type": "stream",
     "text": [
      "BBOX: [97, 78, 197, 212]\n"
     ]
    },
    {
     "name": "stderr",
     "output_type": "stream",
     "text": [
      "INFO:andy:False, False\n",
      "INFO:andy:torch.Size([35, 1, 16, 16]), torch.Size([35, 1, 16, 16])\n",
      "INFO:andy:XT SHAPES: torch.Size([35, 1, 256]), torch.Size([35, 1, 256])\n"
     ]
    },
    {
     "name": "stdout",
     "output_type": "stream",
     "text": [
      "BBOX: [43, 105, 151, 207]\n"
     ]
    },
    {
     "name": "stderr",
     "output_type": "stream",
     "text": [
      "INFO:andy:False, False\n",
      "INFO:andy:torch.Size([35, 1, 16, 16]), torch.Size([35, 1, 16, 16])\n",
      "INFO:andy:XT SHAPES: torch.Size([35, 1, 256]), torch.Size([35, 1, 256])\n"
     ]
    },
    {
     "name": "stdout",
     "output_type": "stream",
     "text": [
      "BBOX: [31, 84, 91, 184]\n"
     ]
    },
    {
     "name": "stderr",
     "output_type": "stream",
     "text": [
      "INFO:andy:False, False\n",
      "INFO:andy:torch.Size([35, 1, 16, 16]), torch.Size([35, 1, 16, 16])\n",
      "INFO:andy:XT SHAPES: torch.Size([35, 1, 256]), torch.Size([35, 1, 256])\n"
     ]
    },
    {
     "name": "stdout",
     "output_type": "stream",
     "text": [
      "BBOX: [107, 83, 202, 179]\n"
     ]
    },
    {
     "name": "stderr",
     "output_type": "stream",
     "text": [
      "INFO:andy:False, False\n",
      "INFO:andy:torch.Size([35, 1, 16, 16]), torch.Size([35, 1, 16, 16])\n",
      "INFO:andy:XT SHAPES: torch.Size([35, 1, 256]), torch.Size([35, 1, 256])\n"
     ]
    },
    {
     "name": "stdout",
     "output_type": "stream",
     "text": [
      "BBOX: [74, 77, 173, 170]\n"
     ]
    },
    {
     "name": "stderr",
     "output_type": "stream",
     "text": [
      "INFO:andy:Batch:\t1/2\n",
      "INFO:andy:Batch samples:\t20\n",
      "INFO:andy:Current error:\t0.7055745124816895\n",
      "\n",
      "pixdim[0] (qfac) should be 1 (default) or -1; setting qfac to 1\n",
      "INFO:nibabel.global:pixdim[0] (qfac) should be 1 (default) or -1; setting qfac to 1\n",
      "pixdim[0] (qfac) should be 1 (default) or -1; setting qfac to 1\n",
      "INFO:nibabel.global:pixdim[0] (qfac) should be 1 (default) or -1; setting qfac to 1\n",
      "pixdim[0] (qfac) should be 1 (default) or -1; setting qfac to 1\n",
      "INFO:nibabel.global:pixdim[0] (qfac) should be 1 (default) or -1; setting qfac to 1\n",
      "pixdim[0] (qfac) should be 1 (default) or -1; setting qfac to 1\n",
      "INFO:nibabel.global:pixdim[0] (qfac) should be 1 (default) or -1; setting qfac to 1\n",
      "pixdim[0] (qfac) should be 1 (default) or -1; setting qfac to 1\n",
      "INFO:nibabel.global:pixdim[0] (qfac) should be 1 (default) or -1; setting qfac to 1\n",
      "pixdim[0] (qfac) should be 1 (default) or -1; setting qfac to 1\n",
      "INFO:nibabel.global:pixdim[0] (qfac) should be 1 (default) or -1; setting qfac to 1\n",
      "pixdim[0] (qfac) should be 1 (default) or -1; setting qfac to 1\n",
      "INFO:nibabel.global:pixdim[0] (qfac) should be 1 (default) or -1; setting qfac to 1\n",
      "pixdim[0] (qfac) should be 1 (default) or -1; setting qfac to 1\n",
      "INFO:nibabel.global:pixdim[0] (qfac) should be 1 (default) or -1; setting qfac to 1\n",
      "pixdim[0] (qfac) should be 1 (default) or -1; setting qfac to 1\n",
      "INFO:nibabel.global:pixdim[0] (qfac) should be 1 (default) or -1; setting qfac to 1\n",
      "pixdim[0] (qfac) should be 1 (default) or -1; setting qfac to 1\n",
      "INFO:nibabel.global:pixdim[0] (qfac) should be 1 (default) or -1; setting qfac to 1\n",
      "pixdim[0] (qfac) should be 1 (default) or -1; setting qfac to 1\n",
      "INFO:nibabel.global:pixdim[0] (qfac) should be 1 (default) or -1; setting qfac to 1\n",
      "pixdim[0] (qfac) should be 1 (default) or -1; setting qfac to 1\n",
      "INFO:nibabel.global:pixdim[0] (qfac) should be 1 (default) or -1; setting qfac to 1\n",
      "pixdim[0] (qfac) should be 1 (default) or -1; setting qfac to 1\n",
      "INFO:nibabel.global:pixdim[0] (qfac) should be 1 (default) or -1; setting qfac to 1\n",
      "pixdim[0] (qfac) should be 1 (default) or -1; setting qfac to 1\n",
      "INFO:nibabel.global:pixdim[0] (qfac) should be 1 (default) or -1; setting qfac to 1\n",
      "pixdim[0] (qfac) should be 1 (default) or -1; setting qfac to 1\n",
      "INFO:nibabel.global:pixdim[0] (qfac) should be 1 (default) or -1; setting qfac to 1\n",
      "pixdim[0] (qfac) should be 1 (default) or -1; setting qfac to 1\n",
      "INFO:nibabel.global:pixdim[0] (qfac) should be 1 (default) or -1; setting qfac to 1\n",
      "INFO:andy:False, False\n",
      "INFO:andy:torch.Size([35, 1, 16, 16]), torch.Size([35, 1, 16, 16])\n",
      "INFO:andy:XT SHAPES: torch.Size([35, 1, 256]), torch.Size([35, 1, 256])\n"
     ]
    },
    {
     "name": "stdout",
     "output_type": "stream",
     "text": [
      "BBOX: [114, 84, 149, 181]\n"
     ]
    },
    {
     "name": "stderr",
     "output_type": "stream",
     "text": [
      "INFO:andy:False, False\n",
      "INFO:andy:torch.Size([35, 1, 16, 16]), torch.Size([35, 1, 16, 16])\n",
      "INFO:andy:XT SHAPES: torch.Size([35, 1, 256]), torch.Size([35, 1, 256])\n"
     ]
    },
    {
     "name": "stdout",
     "output_type": "stream",
     "text": [
      "BBOX: [27, 121, 121, 156]\n"
     ]
    },
    {
     "name": "stderr",
     "output_type": "stream",
     "text": [
      "INFO:andy:False, False\n",
      "INFO:andy:torch.Size([35, 1, 16, 16]), torch.Size([35, 1, 16, 16])\n",
      "INFO:andy:XT SHAPES: torch.Size([35, 1, 256]), torch.Size([35, 1, 256])\n"
     ]
    },
    {
     "name": "stdout",
     "output_type": "stream",
     "text": [
      "BBOX: [96, 93, 203, 192]\n"
     ]
    },
    {
     "name": "stderr",
     "output_type": "stream",
     "text": [
      "INFO:andy:False, False\n",
      "INFO:andy:torch.Size([35, 1, 16, 16]), torch.Size([35, 1, 16, 16])\n",
      "INFO:andy:XT SHAPES: torch.Size([35, 1, 256]), torch.Size([35, 1, 256])\n"
     ]
    },
    {
     "name": "stdout",
     "output_type": "stream",
     "text": [
      "BBOX: [39, 78, 134, 192]\n"
     ]
    },
    {
     "name": "stderr",
     "output_type": "stream",
     "text": [
      "INFO:andy:False, False\n",
      "INFO:andy:torch.Size([35, 1, 16, 16]), torch.Size([35, 1, 16, 16])\n",
      "INFO:andy:XT SHAPES: torch.Size([35, 1, 256]), torch.Size([35, 1, 256])\n"
     ]
    },
    {
     "name": "stdout",
     "output_type": "stream",
     "text": [
      "BBOX: [86, 89, 170, 214]\n"
     ]
    },
    {
     "name": "stderr",
     "output_type": "stream",
     "text": [
      "INFO:andy:False, False\n",
      "INFO:andy:torch.Size([35, 1, 16, 16]), torch.Size([35, 1, 16, 16])\n",
      "INFO:andy:XT SHAPES: torch.Size([35, 1, 256]), torch.Size([35, 1, 256])\n"
     ]
    },
    {
     "name": "stdout",
     "output_type": "stream",
     "text": [
      "BBOX: [97, 87, 182, 171]\n"
     ]
    },
    {
     "name": "stderr",
     "output_type": "stream",
     "text": [
      "INFO:andy:False, False\n",
      "INFO:andy:torch.Size([35, 1, 16, 16]), torch.Size([35, 1, 16, 16])\n",
      "INFO:andy:XT SHAPES: torch.Size([35, 1, 256]), torch.Size([35, 1, 256])\n"
     ]
    },
    {
     "name": "stdout",
     "output_type": "stream",
     "text": [
      "BBOX: [45, 79, 98, 182]\n"
     ]
    },
    {
     "name": "stderr",
     "output_type": "stream",
     "text": [
      "INFO:andy:False, False\n",
      "INFO:andy:torch.Size([35, 1, 16, 16]), torch.Size([35, 1, 16, 16])\n",
      "INFO:andy:XT SHAPES: torch.Size([35, 1, 256]), torch.Size([35, 1, 256])\n"
     ]
    },
    {
     "name": "stdout",
     "output_type": "stream",
     "text": [
      "BBOX: [67, 68, 176, 171]\n"
     ]
    },
    {
     "name": "stderr",
     "output_type": "stream",
     "text": [
      "INFO:andy:False, False\n",
      "INFO:andy:torch.Size([35, 1, 16, 16]), torch.Size([35, 1, 16, 16])\n",
      "INFO:andy:XT SHAPES: torch.Size([35, 1, 256]), torch.Size([35, 1, 256])\n"
     ]
    },
    {
     "name": "stdout",
     "output_type": "stream",
     "text": [
      "BBOX: [65, 122, 121, 205]\n"
     ]
    },
    {
     "name": "stderr",
     "output_type": "stream",
     "text": [
      "INFO:andy:False, False\n",
      "INFO:andy:torch.Size([35, 1, 16, 16]), torch.Size([35, 1, 16, 16])\n",
      "INFO:andy:XT SHAPES: torch.Size([35, 1, 256]), torch.Size([35, 1, 256])\n"
     ]
    },
    {
     "name": "stdout",
     "output_type": "stream",
     "text": [
      "BBOX: [48, 84, 150, 160]\n"
     ]
    },
    {
     "name": "stderr",
     "output_type": "stream",
     "text": [
      "INFO:andy:False, False\n",
      "INFO:andy:torch.Size([35, 1, 16, 16]), torch.Size([35, 1, 16, 16])\n",
      "INFO:andy:XT SHAPES: torch.Size([35, 1, 256]), torch.Size([35, 1, 256])\n"
     ]
    },
    {
     "name": "stdout",
     "output_type": "stream",
     "text": [
      "BBOX: [66, 61, 188, 173]\n"
     ]
    },
    {
     "name": "stderr",
     "output_type": "stream",
     "text": [
      "INFO:andy:False, False\n",
      "INFO:andy:torch.Size([35, 1, 16, 16]), torch.Size([35, 1, 16, 16])\n",
      "INFO:andy:XT SHAPES: torch.Size([35, 1, 256]), torch.Size([35, 1, 256])\n"
     ]
    },
    {
     "name": "stdout",
     "output_type": "stream",
     "text": [
      "BBOX: [115, 95, 193, 206]\n"
     ]
    },
    {
     "name": "stderr",
     "output_type": "stream",
     "text": [
      "INFO:andy:False, False\n",
      "INFO:andy:torch.Size([35, 1, 16, 16]), torch.Size([35, 1, 16, 16])\n",
      "INFO:andy:XT SHAPES: torch.Size([35, 1, 256]), torch.Size([35, 1, 256])\n"
     ]
    },
    {
     "name": "stdout",
     "output_type": "stream",
     "text": [
      "BBOX: [52, 73, 188, 159]\n"
     ]
    },
    {
     "name": "stderr",
     "output_type": "stream",
     "text": [
      "INFO:andy:False, False\n",
      "INFO:andy:torch.Size([35, 1, 16, 16]), torch.Size([35, 1, 16, 16])\n",
      "INFO:andy:XT SHAPES: torch.Size([35, 1, 256]), torch.Size([35, 1, 256])\n"
     ]
    },
    {
     "name": "stdout",
     "output_type": "stream",
     "text": [
      "BBOX: [72, 176, 181, 248]\n"
     ]
    },
    {
     "name": "stderr",
     "output_type": "stream",
     "text": [
      "INFO:andy:False, False\n",
      "INFO:andy:torch.Size([35, 1, 16, 16]), torch.Size([35, 1, 16, 16])\n",
      "INFO:andy:XT SHAPES: torch.Size([35, 1, 256]), torch.Size([35, 1, 256])\n"
     ]
    },
    {
     "name": "stdout",
     "output_type": "stream",
     "text": [
      "BBOX: [76, 106, 122, 197]\n"
     ]
    },
    {
     "name": "stderr",
     "output_type": "stream",
     "text": [
      "INFO:andy:False, False\n",
      "INFO:andy:torch.Size([35, 1, 16, 16]), torch.Size([35, 1, 16, 16])\n",
      "INFO:andy:XT SHAPES: torch.Size([35, 1, 256]), torch.Size([35, 1, 256])\n",
      "INFO:andy:Batch:\t2/2\n",
      "INFO:andy:Batch samples:\t16\n"
     ]
    },
    {
     "name": "stdout",
     "output_type": "stream",
     "text": [
      "BBOX: [29, 68, 103, 184]\n"
     ]
    },
    {
     "name": "stderr",
     "output_type": "stream",
     "text": [
      "INFO:andy:Current error:\t0.6668094396591187\n",
      "\n",
      "pixdim[0] (qfac) should be 1 (default) or -1; setting qfac to 1\n",
      "INFO:nibabel.global:pixdim[0] (qfac) should be 1 (default) or -1; setting qfac to 1\n",
      "pixdim[0] (qfac) should be 1 (default) or -1; setting qfac to 1\n",
      "INFO:nibabel.global:pixdim[0] (qfac) should be 1 (default) or -1; setting qfac to 1\n",
      "pixdim[0] (qfac) should be 1 (default) or -1; setting qfac to 1\n",
      "INFO:nibabel.global:pixdim[0] (qfac) should be 1 (default) or -1; setting qfac to 1\n",
      "pixdim[0] (qfac) should be 1 (default) or -1; setting qfac to 1\n",
      "INFO:nibabel.global:pixdim[0] (qfac) should be 1 (default) or -1; setting qfac to 1\n",
      "pixdim[0] (qfac) should be 1 (default) or -1; setting qfac to 1\n",
      "INFO:nibabel.global:pixdim[0] (qfac) should be 1 (default) or -1; setting qfac to 1\n",
      "pixdim[0] (qfac) should be 1 (default) or -1; setting qfac to 1\n",
      "INFO:nibabel.global:pixdim[0] (qfac) should be 1 (default) or -1; setting qfac to 1\n",
      "pixdim[0] (qfac) should be 1 (default) or -1; setting qfac to 1\n",
      "INFO:nibabel.global:pixdim[0] (qfac) should be 1 (default) or -1; setting qfac to 1\n",
      "pixdim[0] (qfac) should be 1 (default) or -1; setting qfac to 1\n",
      "INFO:nibabel.global:pixdim[0] (qfac) should be 1 (default) or -1; setting qfac to 1\n",
      "pixdim[0] (qfac) should be 1 (default) or -1; setting qfac to 1\n",
      "INFO:nibabel.global:pixdim[0] (qfac) should be 1 (default) or -1; setting qfac to 1\n"
     ]
    },
    {
     "name": "stdout",
     "output_type": "stream",
     "text": [
      "BBOX: [65, 147, 172, 216]\n",
      "BBOX: [19, 61, 119, 177]\n",
      "BBOX: [92, 112, 134, 177]\n",
      "BBOX: [48, 79, 151, 182]\n",
      "BBOX: [42, 49, 90, 179]\n",
      "BBOX: [58, 83, 138, 192]\n",
      "BBOX: [27, 55, 120, 170]\n",
      "BBOX: [37, 62, 101, 192]\n",
      "BBOX: [90, 137, 201, 238]\n"
     ]
    }
   ],
   "source": [
    "thist, vhist = fitter.fit(tl, vl, stone)"
   ]
  },
  {
   "cell_type": "code",
   "execution_count": 15,
   "id": "a2f8371f-0da4-435a-a97e-dc401028d37e",
   "metadata": {},
   "outputs": [],
   "source": [
    "import winsound\n",
    "\n",
    "winsound.Beep(500, 500)\n",
    "winsound.Beep(500, 500)\n",
    "winsound.Beep(500, 500)"
   ]
  },
  {
   "cell_type": "code",
   "execution_count": 16,
   "id": "bec6d151-6a43-4651-84d4-4c5aa93930e5",
   "metadata": {},
   "outputs": [
    {
     "data": {
      "text/plain": [
       "<Axes: >"
      ]
     },
     "execution_count": 16,
     "metadata": {},
     "output_type": "execute_result"
    },
    {
     "data": {
      "image/png": "[encoded data removed]",
      "text/plain": [
       "<Figure size 640x480 with 1 Axes>"
      ]
     },
     "metadata": {},
     "output_type": "display_data"
    }
   ],
   "source": [
    "import seaborn as sns\n",
    "import numpy as np\n",
    "\n",
    "th = torch.tensor(np.array(thist))\n",
    "vh = torch.tensor(np.array(vhist))\n",
    "# print(th.shape)\n",
    "sns.lineplot(th.mean(1), label='Training history')\n",
    "sns.lineplot(vh.mean(1), label='Validation history')"
   ]
  },
  {
   "cell_type": "markdown",
   "id": "d186a9b7-2b49-4fe8-b331-6627d84cc109",
   "metadata": {},
   "source": [
    "### Trial"
   ]
  },
  {
   "cell_type": "code",
   "execution_count": 17,
   "id": "5cfce277-9a1e-4740-91c5-f746b04476fb",
   "metadata": {},
   "outputs": [
    {
     "name": "stderr",
     "output_type": "stream",
     "text": [
      "pixdim[0] (qfac) should be 1 (default) or -1; setting qfac to 1\n",
      "INFO:nibabel.global:pixdim[0] (qfac) should be 1 (default) or -1; setting qfac to 1\n",
      "pixdim[0] (qfac) should be 1 (default) or -1; setting qfac to 1\n",
      "INFO:nibabel.global:pixdim[0] (qfac) should be 1 (default) or -1; setting qfac to 1\n",
      "pixdim[0] (qfac) should be 1 (default) or -1; setting qfac to 1\n",
      "INFO:nibabel.global:pixdim[0] (qfac) should be 1 (default) or -1; setting qfac to 1\n",
      "pixdim[0] (qfac) should be 1 (default) or -1; setting qfac to 1\n",
      "INFO:nibabel.global:pixdim[0] (qfac) should be 1 (default) or -1; setting qfac to 1\n",
      "pixdim[0] (qfac) should be 1 (default) or -1; setting qfac to 1\n",
      "INFO:nibabel.global:pixdim[0] (qfac) should be 1 (default) or -1; setting qfac to 1\n",
      "pixdim[0] (qfac) should be 1 (default) or -1; setting qfac to 1\n",
      "INFO:nibabel.global:pixdim[0] (qfac) should be 1 (default) or -1; setting qfac to 1\n",
      "pixdim[0] (qfac) should be 1 (default) or -1; setting qfac to 1\n",
      "INFO:nibabel.global:pixdim[0] (qfac) should be 1 (default) or -1; setting qfac to 1\n",
      "pixdim[0] (qfac) should be 1 (default) or -1; setting qfac to 1\n",
      "INFO:nibabel.global:pixdim[0] (qfac) should be 1 (default) or -1; setting qfac to 1\n",
      "pixdim[0] (qfac) should be 1 (default) or -1; setting qfac to 1\n",
      "INFO:nibabel.global:pixdim[0] (qfac) should be 1 (default) or -1; setting qfac to 1\n",
      "pixdim[0] (qfac) should be 1 (default) or -1; setting qfac to 1\n",
      "INFO:nibabel.global:pixdim[0] (qfac) should be 1 (default) or -1; setting qfac to 1\n",
      "pixdim[0] (qfac) should be 1 (default) or -1; setting qfac to 1\n",
      "INFO:nibabel.global:pixdim[0] (qfac) should be 1 (default) or -1; setting qfac to 1\n",
      "pixdim[0] (qfac) should be 1 (default) or -1; setting qfac to 1\n",
      "INFO:nibabel.global:pixdim[0] (qfac) should be 1 (default) or -1; setting qfac to 1\n",
      "pixdim[0] (qfac) should be 1 (default) or -1; setting qfac to 1\n",
      "INFO:nibabel.global:pixdim[0] (qfac) should be 1 (default) or -1; setting qfac to 1\n",
      "pixdim[0] (qfac) should be 1 (default) or -1; setting qfac to 1\n",
      "INFO:nibabel.global:pixdim[0] (qfac) should be 1 (default) or -1; setting qfac to 1\n",
      "pixdim[0] (qfac) should be 1 (default) or -1; setting qfac to 1\n",
      "INFO:nibabel.global:pixdim[0] (qfac) should be 1 (default) or -1; setting qfac to 1\n",
      "pixdim[0] (qfac) should be 1 (default) or -1; setting qfac to 1\n",
      "INFO:nibabel.global:pixdim[0] (qfac) should be 1 (default) or -1; setting qfac to 1\n",
      "pixdim[0] (qfac) should be 1 (default) or -1; setting qfac to 1\n",
      "INFO:nibabel.global:pixdim[0] (qfac) should be 1 (default) or -1; setting qfac to 1\n",
      "pixdim[0] (qfac) should be 1 (default) or -1; setting qfac to 1\n",
      "INFO:nibabel.global:pixdim[0] (qfac) should be 1 (default) or -1; setting qfac to 1\n",
      "pixdim[0] (qfac) should be 1 (default) or -1; setting qfac to 1\n",
      "INFO:nibabel.global:pixdim[0] (qfac) should be 1 (default) or -1; setting qfac to 1\n",
      "pixdim[0] (qfac) should be 1 (default) or -1; setting qfac to 1\n",
      "INFO:nibabel.global:pixdim[0] (qfac) should be 1 (default) or -1; setting qfac to 1\n"
     ]
    }
   ],
   "source": [
    "sample = next(enumerate(tl))"
   ]
  },
  {
   "cell_type": "code",
   "execution_count": 21,
   "id": "d16bf23b-fd54-4c5f-8dd3-a64818ca8f8b",
   "metadata": {},
   "outputs": [],
   "source": [
    "case = sample[1][0]"
   ]
  },
  {
   "cell_type": "code",
   "execution_count": 23,
   "id": "6b1896e9-a70f-46d3-be20-b4e217390298",
   "metadata": {},
   "outputs": [],
   "source": [
    "slices, masks, target, path = case"
   ]
  },
  {
   "cell_type": "code",
   "execution_count": 30,
   "id": "702d3f30-454f-4583-b6fb-3843374a2ab7",
   "metadata": {},
   "outputs": [
    {
     "data": {
      "text/plain": [
       "<Axes: >"
      ]
     },
     "execution_count": 30,
     "metadata": {},
     "output_type": "execute_result"
    },
    {
     "data": {
      "image/png": "[encoded data removed]",
      "text/plain": [
       "<Figure size 640x480 with 2 Axes>"
      ]
     },
     "metadata": {},
     "output_type": "display_data"
    }
   ],
   "source": [
    "sns.heatmap(masks[target].squeeze())"
   ]
  },
  {
   "cell_type": "code",
   "execution_count": 32,
   "id": "47b92ed2-7b7e-48ec-bd11-43cfe6f8cff4",
   "metadata": {},
   "outputs": [],
   "source": [
    "slices = slices.squeeze(1).float()\n",
    "masks = masks.float()"
   ]
  },
  {
   "cell_type": "code",
   "execution_count": 33,
   "id": "a8f090a8-843d-4a44-a909-b5d83601847e",
   "metadata": {},
   "outputs": [
    {
     "name": "stdout",
     "output_type": "stream",
     "text": [
      "BBOX: [112, 91, 210, 197]\n"
     ]
    }
   ],
   "source": [
    "x, t = stone(slices, masks, target)"
   ]
  },
  {
   "cell_type": "code",
   "execution_count": 43,
   "id": "cacfdc42-2a11-45f9-b5a7-180199b0619f",
   "metadata": {},
   "outputs": [
    {
     "data": {
      "text/plain": [
       "<Axes: >"
      ]
     },
     "execution_count": 43,
     "metadata": {},
     "output_type": "execute_result"
    },
    {
     "data": {
      "image/png": "[encoded data removed]",
      "text/plain": [
       "<Figure size 1000x400 with 4 Axes>"
      ]
     },
     "metadata": {},
     "output_type": "display_data"
    }
   ],
   "source": [
    "f, a = plt.subplots(1, 2, figsize=(10, 4))\n",
    "\n",
    "f.tight_layout()\n",
    "sns.heatmap(x[target].squeeze(), ax=a.flat[0])\n",
    "sns.heatmap(t[target].squeeze(), ax=a.flat[1])"
   ]
  },
  {
   "cell_type": "code",
   "execution_count": 45,
   "id": "1eca1167-2196-4fbf-bbbe-8ca89591be37",
   "metadata": {},
   "outputs": [],
   "source": [
    "vit = config['model']"
   ]
  },
  {
   "cell_type": "code",
   "execution_count": 50,
   "id": "87b7872b-3b9f-4aec-b30f-66c43e350f90",
   "metadata": {},
   "outputs": [
    {
     "data": {
      "text/plain": [
       "torch.Size([35, 1, 16, 16])"
      ]
     },
     "execution_count": 50,
     "metadata": {},
     "output_type": "execute_result"
    }
   ],
   "source": [
    "x.shape"
   ]
  },
  {
   "cell_type": "code",
   "execution_count": 51,
   "id": "0c0deb70-a13b-4e85-9fa6-893204cbc461",
   "metadata": {},
   "outputs": [],
   "source": [
    "y = vit(x.flatten(2).to(device), target)"
   ]
  },
  {
   "cell_type": "code",
   "execution_count": 58,
   "id": "edf85539-b5ea-4c81-a0c6-b1eb8924c6c9",
   "metadata": {},
   "outputs": [
    {
     "data": {
      "text/plain": [
       "<Axes: >"
      ]
     },
     "execution_count": 58,
     "metadata": {},
     "output_type": "execute_result"
    },
    {
     "data": {
      "image/png": "[encoded data removed]",
      "text/plain": [
       "<Figure size 1000x400 with 4 Axes>"
      ]
     },
     "metadata": {},
     "output_type": "display_data"
    }
   ],
   "source": [
    "f, a = plt.subplots(1, 2, figsize=(10, 4))\n",
    "\n",
    "f.tight_layout()\n",
    "sns.heatmap(y.view(16, 16).detach().cpu(), ax=a.flat[0])\n",
    "sns.heatmap(t[target].squeeze(), ax=a.flat[1])"
   ]
  }
 ],
 "metadata": {
  "kernelspec": {
   "display_name": "Python 3 (ipykernel)",
   "language": "python",
   "name": "python3"
  },
  "language_info": {
   "codemirror_mode": {
    "name": "ipython",
    "version": 3
   },
   "file_extension": ".py",
   "mimetype": "text/x-python",
   "name": "python",
   "nbconvert_exporter": "python",
   "pygments_lexer": "ipython3",
   "version": "3.10.5"
  }
 },
 "nbformat": 4,
 "nbformat_minor": 5
}
