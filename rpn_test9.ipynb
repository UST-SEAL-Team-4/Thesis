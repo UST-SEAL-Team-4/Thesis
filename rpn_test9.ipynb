{
 "cells": [
  {
   "cell_type": "code",
   "execution_count": 1,
   "id": "d1903bae-3d04-4b89-bc14-19491ba72873",
   "metadata": {},
   "outputs": [],
   "source": [
    "import torch\n",
    "import torch.nn as nn\n",
    "import pandas as pd\n",
    "from project.dataset import Dataset, VALDODataset\n",
    "from torch.utils.data import DataLoader\n",
    "from project.preprocessing import NiftiToTensorTransform, z_score_normalization\n",
    "from project.utils import collate_fn, plot_mri_slice, plot_all_slices, plot_all_slices_from_array, collatev2\n",
    "import winsound\n",
    "from torchvision.models import resnet18, ResNet18_Weights\n",
    "from project.utils import memcheck"
   ]
  },
  {
   "cell_type": "code",
   "execution_count": 2,
   "id": "bc7c5635-cdfd-482c-a3cb-10a6263d4d12",
   "metadata": {},
   "outputs": [
    {
     "data": {
      "text/plain": [
       "'cuda'"
      ]
     },
     "execution_count": 2,
     "metadata": {},
     "output_type": "execute_result"
    }
   ],
   "source": [
    "import logging\n",
    "logger = logging.getLogger('andy')\n",
    "fh = logging.FileHandler('andy.log')\n",
    "formatter = logging.Formatter(\n",
    "    '%(asctime)s - %(levelname)s - %(message)s'\n",
    ")\n",
    "\n",
    "logger.setLevel(logging.DEBUG)\n",
    "fh.setLevel(logging.DEBUG)\n",
    "fh.setFormatter(formatter)\n",
    "\n",
    "logger.addHandler(fh)\n",
    "\n",
    "device = 'cuda' if torch.cuda.is_available() else 'cpu'\n",
    "device"
   ]
  },
  {
   "cell_type": "code",
   "execution_count": 3,
   "id": "c039015b-bc5d-4c59-9a13-893a74f577a5",
   "metadata": {},
   "outputs": [
    {
     "data": {
      "text/plain": [
       "(7986, 5)"
      ]
     },
     "execution_count": 3,
     "metadata": {},
     "output_type": "execute_result"
    }
   ],
   "source": [
    "ds = Dataset()\n",
    "\n",
    "data = pd.read_csv('targets.csv')\n",
    "data.shape"
   ]
  },
  {
   "cell_type": "code",
   "execution_count": 4,
   "id": "ae9b8ed8",
   "metadata": {},
   "outputs": [
    {
     "data": {
      "text/html": [
       "<div>\n",
       "<style scoped>\n",
       "    .dataframe tbody tr th:only-of-type {\n",
       "        vertical-align: middle;\n",
       "    }\n",
       "\n",
       "    .dataframe tbody tr th {\n",
       "        vertical-align: top;\n",
       "    }\n",
       "\n",
       "    .dataframe thead th {\n",
       "        text-align: right;\n",
       "    }\n",
       "</style>\n",
       "<table border=\"1\" class=\"dataframe\">\n",
       "  <thead>\n",
       "    <tr style=\"text-align: right;\">\n",
       "      <th></th>\n",
       "      <th>mri</th>\n",
       "      <th>masks</th>\n",
       "      <th>target</th>\n",
       "      <th>has_microbleed_case</th>\n",
       "      <th>has_microbleed_slice</th>\n",
       "    </tr>\n",
       "  </thead>\n",
       "  <tbody>\n",
       "    <tr>\n",
       "      <th>0</th>\n",
       "      <td>c:\\Users\\Lex Zedrick Lorenzo\\Documents\\GitHub\\...</td>\n",
       "      <td>c:\\Users\\Lex Zedrick Lorenzo\\Documents\\GitHub\\...</td>\n",
       "      <td>8</td>\n",
       "      <td>1</td>\n",
       "      <td>1</td>\n",
       "    </tr>\n",
       "    <tr>\n",
       "      <th>1</th>\n",
       "      <td>c:\\Users\\Lex Zedrick Lorenzo\\Documents\\GitHub\\...</td>\n",
       "      <td>c:\\Users\\Lex Zedrick Lorenzo\\Documents\\GitHub\\...</td>\n",
       "      <td>9</td>\n",
       "      <td>1</td>\n",
       "      <td>1</td>\n",
       "    </tr>\n",
       "    <tr>\n",
       "      <th>2</th>\n",
       "      <td>c:\\Users\\Lex Zedrick Lorenzo\\Documents\\GitHub\\...</td>\n",
       "      <td>c:\\Users\\Lex Zedrick Lorenzo\\Documents\\GitHub\\...</td>\n",
       "      <td>11</td>\n",
       "      <td>1</td>\n",
       "      <td>1</td>\n",
       "    </tr>\n",
       "    <tr>\n",
       "      <th>3</th>\n",
       "      <td>c:\\Users\\Lex Zedrick Lorenzo\\Documents\\GitHub\\...</td>\n",
       "      <td>c:\\Users\\Lex Zedrick Lorenzo\\Documents\\GitHub\\...</td>\n",
       "      <td>12</td>\n",
       "      <td>1</td>\n",
       "      <td>1</td>\n",
       "    </tr>\n",
       "    <tr>\n",
       "      <th>4</th>\n",
       "      <td>c:\\Users\\Lex Zedrick Lorenzo\\Documents\\GitHub\\...</td>\n",
       "      <td>c:\\Users\\Lex Zedrick Lorenzo\\Documents\\GitHub\\...</td>\n",
       "      <td>15</td>\n",
       "      <td>1</td>\n",
       "      <td>1</td>\n",
       "    </tr>\n",
       "    <tr>\n",
       "      <th>...</th>\n",
       "      <td>...</td>\n",
       "      <td>...</td>\n",
       "      <td>...</td>\n",
       "      <td>...</td>\n",
       "      <td>...</td>\n",
       "    </tr>\n",
       "    <tr>\n",
       "      <th>359</th>\n",
       "      <td>c:\\Users\\Lex Zedrick Lorenzo\\Documents\\GitHub\\...</td>\n",
       "      <td>c:\\Users\\Lex Zedrick Lorenzo\\Documents\\GitHub\\...</td>\n",
       "      <td>25</td>\n",
       "      <td>1</td>\n",
       "      <td>1</td>\n",
       "    </tr>\n",
       "    <tr>\n",
       "      <th>360</th>\n",
       "      <td>c:\\Users\\Lex Zedrick Lorenzo\\Documents\\GitHub\\...</td>\n",
       "      <td>c:\\Users\\Lex Zedrick Lorenzo\\Documents\\GitHub\\...</td>\n",
       "      <td>26</td>\n",
       "      <td>1</td>\n",
       "      <td>1</td>\n",
       "    </tr>\n",
       "    <tr>\n",
       "      <th>361</th>\n",
       "      <td>c:\\Users\\Lex Zedrick Lorenzo\\Documents\\GitHub\\...</td>\n",
       "      <td>c:\\Users\\Lex Zedrick Lorenzo\\Documents\\GitHub\\...</td>\n",
       "      <td>24</td>\n",
       "      <td>1</td>\n",
       "      <td>1</td>\n",
       "    </tr>\n",
       "    <tr>\n",
       "      <th>362</th>\n",
       "      <td>c:\\Users\\Lex Zedrick Lorenzo\\Documents\\GitHub\\...</td>\n",
       "      <td>c:\\Users\\Lex Zedrick Lorenzo\\Documents\\GitHub\\...</td>\n",
       "      <td>25</td>\n",
       "      <td>1</td>\n",
       "      <td>1</td>\n",
       "    </tr>\n",
       "    <tr>\n",
       "      <th>363</th>\n",
       "      <td>c:\\Users\\Lex Zedrick Lorenzo\\Documents\\GitHub\\...</td>\n",
       "      <td>c:\\Users\\Lex Zedrick Lorenzo\\Documents\\GitHub\\...</td>\n",
       "      <td>20</td>\n",
       "      <td>1</td>\n",
       "      <td>1</td>\n",
       "    </tr>\n",
       "  </tbody>\n",
       "</table>\n",
       "<p>364 rows × 5 columns</p>\n",
       "</div>"
      ],
      "text/plain": [
       "                                                   mri  \\\n",
       "0    c:\\Users\\Lex Zedrick Lorenzo\\Documents\\GitHub\\...   \n",
       "1    c:\\Users\\Lex Zedrick Lorenzo\\Documents\\GitHub\\...   \n",
       "2    c:\\Users\\Lex Zedrick Lorenzo\\Documents\\GitHub\\...   \n",
       "3    c:\\Users\\Lex Zedrick Lorenzo\\Documents\\GitHub\\...   \n",
       "4    c:\\Users\\Lex Zedrick Lorenzo\\Documents\\GitHub\\...   \n",
       "..                                                 ...   \n",
       "359  c:\\Users\\Lex Zedrick Lorenzo\\Documents\\GitHub\\...   \n",
       "360  c:\\Users\\Lex Zedrick Lorenzo\\Documents\\GitHub\\...   \n",
       "361  c:\\Users\\Lex Zedrick Lorenzo\\Documents\\GitHub\\...   \n",
       "362  c:\\Users\\Lex Zedrick Lorenzo\\Documents\\GitHub\\...   \n",
       "363  c:\\Users\\Lex Zedrick Lorenzo\\Documents\\GitHub\\...   \n",
       "\n",
       "                                                 masks  target  \\\n",
       "0    c:\\Users\\Lex Zedrick Lorenzo\\Documents\\GitHub\\...       8   \n",
       "1    c:\\Users\\Lex Zedrick Lorenzo\\Documents\\GitHub\\...       9   \n",
       "2    c:\\Users\\Lex Zedrick Lorenzo\\Documents\\GitHub\\...      11   \n",
       "3    c:\\Users\\Lex Zedrick Lorenzo\\Documents\\GitHub\\...      12   \n",
       "4    c:\\Users\\Lex Zedrick Lorenzo\\Documents\\GitHub\\...      15   \n",
       "..                                                 ...     ...   \n",
       "359  c:\\Users\\Lex Zedrick Lorenzo\\Documents\\GitHub\\...      25   \n",
       "360  c:\\Users\\Lex Zedrick Lorenzo\\Documents\\GitHub\\...      26   \n",
       "361  c:\\Users\\Lex Zedrick Lorenzo\\Documents\\GitHub\\...      24   \n",
       "362  c:\\Users\\Lex Zedrick Lorenzo\\Documents\\GitHub\\...      25   \n",
       "363  c:\\Users\\Lex Zedrick Lorenzo\\Documents\\GitHub\\...      20   \n",
       "\n",
       "     has_microbleed_case  has_microbleed_slice  \n",
       "0                      1                     1  \n",
       "1                      1                     1  \n",
       "2                      1                     1  \n",
       "3                      1                     1  \n",
       "4                      1                     1  \n",
       "..                   ...                   ...  \n",
       "359                    1                     1  \n",
       "360                    1                     1  \n",
       "361                    1                     1  \n",
       "362                    1                     1  \n",
       "363                    1                     1  \n",
       "\n",
       "[364 rows x 5 columns]"
      ]
     },
     "execution_count": 4,
     "metadata": {},
     "output_type": "execute_result"
    }
   ],
   "source": [
    "data = data[data['has_microbleed_slice'] == 1].reset_index(drop=True)\n",
    "data"
   ]
  },
  {
   "cell_type": "code",
   "execution_count": 5,
   "id": "c0e52833-8d32-4b6f-819d-8ad9804886ea",
   "metadata": {},
   "outputs": [
    {
     "data": {
      "text/plain": [
       "(45, 5)"
      ]
     },
     "execution_count": 5,
     "metadata": {},
     "output_type": "execute_result"
    }
   ],
   "source": [
    "ch1 = ds.load_raw_mri(1)\n",
    "data = data[data.mri.isin(ch1)]\n",
    "data.shape"
   ]
  },
  {
   "cell_type": "code",
   "execution_count": 6,
   "id": "8e7c9d4f-da9f-47fa-befe-0b8102a05bf1",
   "metadata": {},
   "outputs": [],
   "source": [
    "transform = NiftiToTensorTransform(target_shape = (300, 300), rpn_mode=True) # Hanggang dito lang kaya ng GPU mem ko\n",
    "\n",
    "cases = data.mri\n",
    "masks = data.masks\n",
    "target = data.target"
   ]
  },
  {
   "cell_type": "code",
   "execution_count": 7,
   "id": "fadc2654-872f-4aba-8f6c-036a1da3b799",
   "metadata": {},
   "outputs": [],
   "source": [
    "dataset = VALDODataset(\n",
    "    cases=cases,\n",
    "    masks=masks,\n",
    "    target=target,\n",
    "    transform=transform,\n",
    "    normalization=z_score_normalization,\n",
    ")"
   ]
  },
  {
   "cell_type": "code",
   "execution_count": 8,
   "id": "66e56e82",
   "metadata": {},
   "outputs": [
    {
     "data": {
      "text/plain": [
       "45"
      ]
     },
     "execution_count": 8,
     "metadata": {},
     "output_type": "execute_result"
    }
   ],
   "source": [
    "dataset.__len__()"
   ]
  },
  {
   "cell_type": "code",
   "execution_count": 9,
   "id": "adff3b3a-8d48-48fc-b39e-731d64d219c1",
   "metadata": {},
   "outputs": [],
   "source": [
    "dloader = DataLoader(\n",
    "    dataset,\n",
    "    shuffle=True,\n",
    "    batch_size=10,\n",
    "    collate_fn=collatev2,\n",
    ")"
   ]
  },
  {
   "cell_type": "code",
   "execution_count": 10,
   "id": "cd51e7f6",
   "metadata": {},
   "outputs": [],
   "source": [
    "# for i in range(dloader.__sizeof__()):\n",
    "#     print(dloader.dataset[i][2])"
   ]
  },
  {
   "cell_type": "code",
   "execution_count": 11,
   "id": "a6793886",
   "metadata": {},
   "outputs": [],
   "source": [
    "# all_with_bbox = []\n",
    "# for i in range(dloader.dataset[1][1].shape[0]):\n",
    "#     if 0 in dloader.dataset[1][1][i][0][0]:\n",
    "#         continue\n",
    "#     else:\n",
    "#         all_with_bbox.append((dloader.dataset[1][1][i][0][0])/300)\n"
   ]
  },
  {
   "cell_type": "code",
   "execution_count": 12,
   "id": "4575a8f7",
   "metadata": {},
   "outputs": [],
   "source": [
    "# sample = torch.stack(all_with_bbox)\n",
    "# print(sample)"
   ]
  },
  {
   "cell_type": "markdown",
   "id": "3d2d4cfd-aa7c-478f-8326-51708e5027aa",
   "metadata": {},
   "source": [
    "### Config for fitter"
   ]
  },
  {
   "cell_type": "code",
   "execution_count": 13,
   "id": "798e2c21-a15c-43a3-935e-44e1d7c0acb7",
   "metadata": {},
   "outputs": [
    {
     "name": "stdout",
     "output_type": "stream",
     "text": [
      "1369\n"
     ]
    },
    {
     "name": "stderr",
     "output_type": "stream",
     "text": [
      "c:\\Users\\Lex Zedrick Lorenzo\\AppData\\Local\\Programs\\Python\\Python312\\Lib\\site-packages\\torch\\nn\\modules\\transformer.py:306: UserWarning: enable_nested_tensor is True, but self.use_nested_tensor is False because encoder_layer.self_attn.batch_first was not True(use batch_first for better inference performance)\n",
      "  warnings.warn(f\"enable_nested_tensor is True, but self.use_nested_tensor is False because {why_not_sparsity_fast_path}\")\n"
     ]
    }
   ],
   "source": [
    "from project.model import RPN\n",
    "\n",
    "config = {\n",
    "    'model': RPN(\n",
    "        input_dim=2500,\n",
    "        output_dim=4,\n",
    "        image_size=300\n",
    "    ).to(device),\n",
    "    'optimizer': torch.optim.Adam,\n",
    "    'device': device,\n",
    "    'epochs': 5,\n",
    "    # 'loss': nn.SmoothL1Loss(),\n",
    "    'loss': nn.MSELoss(),\n",
    "    'lr': 0.00001\n",
    "}"
   ]
  },
  {
   "cell_type": "markdown",
   "id": "fadb94f3-2947-419f-b102-f4b10fd2e793",
   "metadata": {},
   "source": [
    "### Sample trial"
   ]
  },
  {
   "cell_type": "code",
   "execution_count": 14,
   "id": "eed0e493-3463-4d21-829e-1bffdb3e0123",
   "metadata": {},
   "outputs": [],
   "source": [
    "model = config['model']"
   ]
  },
  {
   "cell_type": "code",
   "execution_count": 15,
   "id": "56aa7dda-228c-4d03-ac69-a095090621db",
   "metadata": {},
   "outputs": [],
   "source": [
    "# model.embedder.load_state_dict(torch.load('Encoder_weights_211024184155.pt'))"
   ]
  },
  {
   "cell_type": "markdown",
   "id": "19e02f6e-3950-48eb-a50d-68916ae31b80",
   "metadata": {},
   "source": [
    "### Fitter"
   ]
  },
  {
   "cell_type": "code",
   "execution_count": 16,
   "id": "c77da2e6",
   "metadata": {},
   "outputs": [],
   "source": [
    "from project import Fitter\n",
    "\n",
    "class RPNFitter(Fitter):\n",
    "    def train_one_epoch(self, train_loader):\n",
    "        self.model.train()\n",
    "        loss_history = []\n",
    "        counter = 0\n",
    "        for batch in train_loader:\n",
    "            Y = []\n",
    "            T = []\n",
    "            for slices, masks, target, case in batch:\n",
    "                num_slices = slices.shape[0]\n",
    "                # x = slices.view(num_slices, 1, -1).float().to(self.device)\n",
    "                # x = slices.squeeze(1).repeat(1, 3, 1, 1).float().to(self.device)\n",
    "                # masks = masks.view(num_slices, 1, -1).float().to(self.device)\n",
    "                x = slices.squeeze(1).float().to(self.device)\n",
    "                masks = masks.squeeze(1).float().to(self.device)\n",
    "\n",
    "                for i in range(masks.shape[0]):\n",
    "                    masks[i][0] = masks[i][0] / 300\n",
    "                    if any(num < 0 for num in masks[i][0]):\n",
    "                        print(masks[i][0])\n",
    "                # print(masks.shape)\n",
    "                # print(masks)\n",
    "                # break\n",
    "                y = self.model(x, target)\n",
    "                # logger.info(f'MEMORY after X, Y, T to device\\t{memcheck()}')\n",
    "                logger.info(f'Prediction: {y * 300}')\n",
    "                Y.append(y)\n",
    "                T.append(masks[target])\n",
    "                # memcheck()\n",
    "                # del x, y, masks, slices\n",
    "                # torch.cuda.empty_cache()\n",
    "                # memcheck()\n",
    "            \n",
    "            losses = self.loss(torch.stack(Y), torch.stack(T))\n",
    "            self.optimizer.zero_grad()\n",
    "            losses.backward()\n",
    "            self.optimizer.step()\n",
    "            counter += len(batch)\n",
    "            if counter % 100 == 0:\n",
    "                logger.info(f'Progress:\\t{counter}/{len(dataset)}')\n",
    "                logger.info(f'Current error:\\t{losses}')\n",
    "            loss_history.append(losses.detach().cpu().numpy())\n",
    "            \n",
    "            # del losses, Y, T\n",
    "            # torch.cuda.empty_cache()\n",
    "            # logger.info(f'MEMORY after CLEARING MEMORY\\t{memcheck()}')\n",
    "            \n",
    "        return loss_history"
   ]
  },
  {
   "cell_type": "code",
   "execution_count": 17,
   "id": "fb5c239a-96c6-462b-b8f5-4d2f2f5c111f",
   "metadata": {},
   "outputs": [],
   "source": [
    "fitter = RPNFitter(config)"
   ]
  },
  {
   "cell_type": "markdown",
   "id": "e869bbfa-ac7c-40a4-b450-05e959e6cb93",
   "metadata": {},
   "source": [
    "### Training"
   ]
  },
  {
   "cell_type": "code",
   "execution_count": 18,
   "id": "46ce3485-b716-4088-bec7-71a7a9cff410",
   "metadata": {
    "scrolled": true
   },
   "outputs": [
    {
     "name": "stderr",
     "output_type": "stream",
     "text": [
      "c:\\Users\\Lex Zedrick Lorenzo\\AppData\\Local\\Programs\\Python\\Python312\\Lib\\site-packages\\torch\\nn\\functional.py:5504: UserWarning: 1Torch was not compiled with flash attention. (Triggered internally at ..\\aten\\src\\ATen\\native\\transformers\\cuda\\sdp_utils.cpp:455.)\n",
      "  attn_output = scaled_dot_product_attention(q, k, v, attn_mask, dropout_p, is_causal)\n"
     ]
    }
   ],
   "source": [
    "hist = fitter.fit(dloader, dloader)"
   ]
  },
  {
   "cell_type": "code",
   "execution_count": 19,
   "id": "e6454f30-20d4-4c7f-bb19-b409328bf321",
   "metadata": {},
   "outputs": [],
   "source": [
    "winsound.Beep(500, 500)"
   ]
  },
  {
   "cell_type": "code",
   "execution_count": 20,
   "id": "26dc0f77-2c1d-4de6-af13-caadc30871e3",
   "metadata": {},
   "outputs": [
    {
     "data": {
      "text/plain": [
       "tensor(0.1592)"
      ]
     },
     "execution_count": 20,
     "metadata": {},
     "output_type": "execute_result"
    },
    {
     "data": {
      "image/png": "[encoded data removed]",
      "text/plain": [
       "<Figure size 640x480 with 1 Axes>"
      ]
     },
     "metadata": {},
     "output_type": "display_data"
    }
   ],
   "source": [
    "import seaborn as sns\n",
    "import numpy as np\n",
    "\n",
    "sns.lineplot(torch.tensor(np.array(hist)).view(-1))\n",
    "torch.tensor(np.array(hist)).mean()"
   ]
  },
  {
   "cell_type": "code",
   "execution_count": 21,
   "id": "ce3423c9-7c76-4bb7-8997-06a94169e3b9",
   "metadata": {},
   "outputs": [
    {
     "data": {
      "text/plain": [
       "tensor([0.3560, 0.1988, 0.3680, 0.2686, 0.3619, 0.1872, 0.1386, 0.2085, 0.1318,\n",
       "        0.2030, 0.1403, 0.1529, 0.1152, 0.1110, 0.0771, 0.1033, 0.0839, 0.1819,\n",
       "        0.1142, 0.0868, 0.0986, 0.0708, 0.0806, 0.0712, 0.0699])"
      ]
     },
     "execution_count": 21,
     "metadata": {},
     "output_type": "execute_result"
    }
   ],
   "source": [
    "torch.tensor(np.array(hist)).view(-1)"
   ]
  },
  {
   "cell_type": "markdown",
   "id": "0f967472-4c8d-4d01-bcbd-2c16d877d756",
   "metadata": {},
   "source": [
    "# Summary\n",
    "\n",
    "Performance of self-made embedder is a bit better compared to the pretrained embedder. Might work better if self-made embedder is also pretrained\n",
    "\n",
    "### Next goals\n",
    "- train embedder with an autoencoder setup"
   ]
  },
  {
   "cell_type": "markdown",
   "id": "8137478e-fcfa-48fd-93fc-deec214a29c0",
   "metadata": {},
   "source": [
    "# Trial"
   ]
  },
  {
   "cell_type": "code",
   "execution_count": 22,
   "id": "9365d07e-a64f-4acf-9d1f-23613bc54610",
   "metadata": {},
   "outputs": [],
   "source": [
    "model = fitter.model"
   ]
  },
  {
   "cell_type": "code",
   "execution_count": 23,
   "id": "8bbe7961-4187-4e2b-bbf7-1104fb7a3a21",
   "metadata": {},
   "outputs": [],
   "source": [
    "sample = next(enumerate(dloader))"
   ]
  },
  {
   "cell_type": "code",
   "execution_count": 24,
   "id": "b0ec23f1-6d8b-4435-8e94-a408851f2319",
   "metadata": {},
   "outputs": [],
   "source": [
    "slices, masks, target, case = sample[1][1]"
   ]
  },
  {
   "cell_type": "code",
   "execution_count": 25,
   "id": "d59e9431-791b-4842-aae1-7886dafc18f5",
   "metadata": {},
   "outputs": [
    {
     "data": {
      "text/plain": [
       "tensor([[[138.2812, 179.2969, 155.2734, 196.2891]]], dtype=torch.float64)"
      ]
     },
     "execution_count": 25,
     "metadata": {},
     "output_type": "execute_result"
    }
   ],
   "source": [
    "masks[target]"
   ]
  },
  {
   "cell_type": "code",
   "execution_count": 26,
   "id": "adc51c69-6826-43db-a96e-33f1a803f057",
   "metadata": {},
   "outputs": [
    {
     "data": {
      "text/plain": [
       "35"
      ]
     },
     "execution_count": 26,
     "metadata": {},
     "output_type": "execute_result"
    }
   ],
   "source": [
    "num_slices = slices.shape[0]\n",
    "num_slices"
   ]
  },
  {
   "cell_type": "code",
   "execution_count": 27,
   "id": "5c22f7c3-9087-4495-9ec9-5dcd8dce2eca",
   "metadata": {},
   "outputs": [],
   "source": [
    "x = slices.squeeze(1).float().to(device)\n",
    "T = masks.squeeze(1).float().to(device)"
   ]
  },
  {
   "cell_type": "code",
   "execution_count": 28,
   "id": "04899db2-ea7a-4294-a6da-77631bf0f7a5",
   "metadata": {},
   "outputs": [],
   "source": [
    "y = model(x, target)"
   ]
  },
  {
   "cell_type": "code",
   "execution_count": 29,
   "id": "67726779-780d-4463-9f2b-2ae1f3cbe67c",
   "metadata": {},
   "outputs": [
    {
     "data": {
      "text/plain": [
       "tensor(28257.7969, device='cuda:0', grad_fn=<MseLossBackward0>)"
      ]
     },
     "execution_count": 29,
     "metadata": {},
     "output_type": "execute_result"
    }
   ],
   "source": [
    "fitter.loss(y, T[target])"
   ]
  },
  {
   "cell_type": "code",
   "execution_count": 30,
   "id": "457ca289-a3ea-47c0-a132-3b631088211c",
   "metadata": {},
   "outputs": [
    {
     "data": {
      "text/plain": [
       "tensor([[0.5016, 0.9466, 0.3430, 0.7496]], device='cuda:0',\n",
       "       grad_fn=<EluBackward0>)"
      ]
     },
     "execution_count": 30,
     "metadata": {},
     "output_type": "execute_result"
    }
   ],
   "source": [
    "y"
   ]
  }
 ],
 "metadata": {
  "kernelspec": {
   "display_name": "Python 3",
   "language": "python",
   "name": "python3"
  },
  "language_info": {
   "codemirror_mode": {
    "name": "ipython",
    "version": 3
   },
   "file_extension": ".py",
   "mimetype": "text/x-python",
   "name": "python",
   "nbconvert_exporter": "python",
   "pygments_lexer": "ipython3",
   "version": "3.12.1"
  }
 },
 "nbformat": 4,
 "nbformat_minor": 5
}
