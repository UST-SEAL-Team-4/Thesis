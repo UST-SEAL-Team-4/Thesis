{
 "cells": [
  {
   "cell_type": "markdown",
   "metadata": {},
   "source": [
    "# Data Visualizer for the Dataset_2\n",
    "\n",
    "**The dataset can be downloaded through this link:** https://www.cse.cuhk.edu.hk/~qdou/cmb-3dcnn/cmb-3dcnn.html?fbclid=IwAR2js3RtsGBi8_6yR7Op95vJ6_lkSZXeOQG0HS7VQPfaN0uArnpa9wdpa_o"
   ]
  },
  {
   "cell_type": "code",
   "execution_count": 1,
   "metadata": {},
   "outputs": [],
   "source": [
    "import os\n",
    "import nibabel as nib\n",
    "import matplotlib.pyplot as plt\n",
    "import numpy as np\n",
    "import cv2\n",
    "import scipy.io as sio\n",
    "from matplotlib.patches import Rectangle"
   ]
  },
  {
   "cell_type": "code",
   "execution_count": 2,
   "metadata": {},
   "outputs": [],
   "source": [
    "relative_path_nii = '../cmb-3dcnn-data/nii'\n",
    "relative_path_mat = '../cmb-3dcnn-data/ground_truth/'"
   ]
  },
  {
   "cell_type": "code",
   "execution_count": 3,
   "metadata": {},
   "outputs": [],
   "source": [
    "# for item in os.listdir(relative_path_nii):\n",
    "#     print(item)"
   ]
  },
  {
   "cell_type": "code",
   "execution_count": 4,
   "metadata": {},
   "outputs": [
    {
     "ename": "FileNotFoundError",
     "evalue": "[WinError 3] The system cannot find the path specified: '../cmb-3dcnn-data/nii'",
     "output_type": "error",
     "traceback": [
      "\u001b[1;31m---------------------------------------------------------------------------\u001b[0m",
      "\u001b[1;31mFileNotFoundError\u001b[0m                         Traceback (most recent call last)",
      "Cell \u001b[1;32mIn[4], line 1\u001b[0m\n\u001b[1;32m----> 1\u001b[0m \u001b[38;5;28;01mfor\u001b[39;00m filename \u001b[38;5;129;01min\u001b[39;00m \u001b[43mos\u001b[49m\u001b[38;5;241;43m.\u001b[39;49m\u001b[43mlistdir\u001b[49m\u001b[43m(\u001b[49m\u001b[43mrelative_path_nii\u001b[49m\u001b[43m)\u001b[49m:\n\u001b[0;32m      2\u001b[0m     \u001b[38;5;28;01mif\u001b[39;00m filename\u001b[38;5;241m.\u001b[39mendswith(\u001b[38;5;124m'\u001b[39m\u001b[38;5;124m.nii\u001b[39m\u001b[38;5;124m'\u001b[39m):\n\u001b[0;32m      3\u001b[0m         \u001b[38;5;28mprint\u001b[39m(filename)\n",
      "\u001b[1;31mFileNotFoundError\u001b[0m: [WinError 3] The system cannot find the path specified: '../cmb-3dcnn-data/nii'"
     ]
    }
   ],
   "source": [
    "for filename in os.listdir(relative_path_nii):\n",
    "    if filename.endswith('.nii'):\n",
    "        print(filename)\n",
    "        img = nib.load(os.path.join(relative_path_nii, filename))\n",
    "        print(img.shape)\n",
    "        print(img.get_fdata().shape)\n",
    "        print(img.get_fdata().dtype)\n",
    "        print(img.affine)\n",
    "        print(img.header)\n",
    "        print(img.header.get_data_shape())\n",
    "        print(img.header.get_zooms())\n",
    "        print(img.header.get_xyzt_units())\n",
    "        print(img.header.get_data_dtype())\n",
    "        print(img.header.get_data_offset())"
   ]
  },
  {
   "cell_type": "code",
   "execution_count": null,
   "metadata": {},
   "outputs": [],
   "source": [
    "# for filename in os.listdir(relative_path_nii_nii_nii_nii_nii_nii_nii_nii_nii_nii_nii_nii):\n",
    "#     if filename.endswith('.nii'):\n",
    "#         nib_file = os.path.join(relative_path, filename)\n",
    "#         img = nib.load(nib_file)\n",
    "#         data = img.get_fdata()[0,:, : ]\n",
    "#         slice_obj = img.slicer\n",
    "\n",
    "#         sliced_data = slice_obj.dataobj\n",
    "#         plt.imshow(sliced_data, cmap='gray')\n",
    "#         plt.title(filename)\n",
    "#         plt.show()"
   ]
  },
  {
   "cell_type": "code",
   "execution_count": null,
   "metadata": {},
   "outputs": [],
   "source": [
    "# for filename in os.listdir(relative_path):\n",
    "#   if filename.endswith('.nii'):\n",
    "#     nib_file = os.path.join(relative_path, filename)\n",
    "#     img = nib.load(nib_file).get_fdata()\n",
    "#     plt.figure(figsize=(15, 5))\n",
    "#     plt.imshow(img[:,:,5], cmap='gray')\n",
    "#     plt.title(filename)\n",
    "#     plt.show()"
   ]
  },
  {
   "cell_type": "markdown",
   "metadata": {},
   "source": [
    "# Get the matplot coordinates"
   ]
  },
  {
   "cell_type": "code",
   "execution_count": null,
   "metadata": {},
   "outputs": [],
   "source": [
    "for mat in os.listdir(relative_path_mat):\n",
    "    if mat.endswith('.mat'):\n",
    "        print(mat)\n",
    "        mat_file = os.path.join(relative_path_mat, mat)\n",
    "        headers = sio.loadmat(mat_file)\n",
    "        print(headers['cen'])"
   ]
  },
  {
   "cell_type": "markdown",
   "metadata": {},
   "source": [
    "# Count CMBS per image "
   ]
  },
  {
   "cell_type": "code",
   "execution_count": null,
   "metadata": {},
   "outputs": [],
   "source": [
    "for mat in os.listdir(relative_path_mat):\n",
    "    if mat.endswith('.mat'):\n",
    "        print(mat)\n",
    "        mat_file = os.path.join(relative_path_mat, mat)\n",
    "        headers = sio.loadmat(mat_file)\n",
    "        print(headers['cen'])"
   ]
  },
  {
   "cell_type": "code",
   "execution_count": null,
   "metadata": {},
   "outputs": [],
   "source": [
    "slice = 84\n",
    "anns = os.listdir(relative_path_mat)\n",
    "headers = sio.loadmat(os.path.join(relative_path_mat, anns[9]))\n",
    "for i in headers['cen']:\n",
    "    if i[2] == slice:\n",
    "        print(i)"
   ]
  },
  {
   "cell_type": "code",
   "execution_count": null,
   "metadata": {},
   "outputs": [],
   "source": []
  },
  {
   "cell_type": "markdown",
   "metadata": {},
   "source": [
    "# Show images"
   ]
  },
  {
   "cell_type": "code",
   "execution_count": null,
   "metadata": {},
   "outputs": [],
   "source": [
    "single_case = relative_path_nii + '/10.nii'\n",
    "cmb_file = relative_path_mat + '/10.mat'\n",
    "cmb_local = sio.loadmat(cmb_file)\n",
    "img = nib.load(single_case).get_fdata()\n",
    "num_columns = 5\n",
    "num_rows = (img.shape[2] + num_columns - 1) //num_columns\n",
    "fig, axes = plt.subplots(num_rows, num_columns, figsize=(15, num_rows * 3))\n",
    "for i in range(img.shape[2]):\n",
    "    ax = axes[i // num_columns, i % num_columns]\n",
    "    mri_slice = img[:, :, i]\n",
    "    ax.imshow(mri_slice, cmap='gray')\n",
    "    for loc in cmb_local['cen']:\n",
    "        if loc[2] == i:\n",
    "            x = loc[1]\n",
    "            y = loc[0]\n",
    "            width = 15  # Adjust width and height as needed\n",
    "            height = 15\n",
    "            \n",
    "            rect = Rectangle((x - (width / 2)-2, y - (height / 2)-2), width, height,\n",
    "                            linewidth=1, edgecolor='red', facecolor='none')\n",
    "            ax.add_patch(rect)\n",
    "            # ax.scatter(x, y, c='red', s=10)\n",
    "    ax.axis('off')\n",
    "    ax.set_title('Case 09' + ' - Slice ' + str(i))\n",
    "    ax.axis('off')\n",
    "\n"
   ]
  },
  {
   "cell_type": "code",
   "execution_count": null,
   "metadata": {},
   "outputs": [],
   "source": [
    "for filename in os.listdir(relative_path_nii):\n",
    "  if filename.endswith('.nii'):\n",
    "    num = filename.replace('.nii', '')\n",
    "    nib_file = os.path.join(relative_path_nii, filename)\n",
    "    img = nib.load(nib_file).get_fdata()\n",
    "    num_cols = 5\n",
    "    num_rows = (img.shape[2] + num_cols - 1) // num_cols\n",
    "    fig, axes = plt.subplots(num_rows, num_cols, figsize=(15, num_rows * 3))\n",
    "    mat = sio.loadmat(os.path.join(relative_path_mat, num + '.mat'))\n",
    "    location = mat['cen']\n",
    "    \n",
    "    for i in range(img.shape[2]):\n",
    "      ax = axes[i // num_cols, i % num_cols]\n",
    "\n",
    "      mri_slice = img[:, :, i]\n",
    "\n",
    "\n",
    "      ax.imshow(mri_slice, cmap='gray')\n",
    "      for loc in location:\n",
    "        if loc[2] == i:\n",
    "          x = loc[0]\n",
    "          y = loc[1]\n",
    "          width = 10  # Adjust width and height as needed\n",
    "          height = 10\n",
    "          \n",
    "          rect = Rectangle((x - width / 2, y - height / 2), width, height,\n",
    "                            linewidth=1, edgecolor='red', facecolor='none')\n",
    "          ax.add_patch(rect)\n",
    "\n",
    "      ax.set_title(filename + ' - Slice ' + str(i))\n",
    "      ax.axis('off')\n",
    "\n",
    "    plt.tight_layout()\n",
    "    plt.show()"
   ]
  }
 ],
 "metadata": {
  "kernelspec": {
   "display_name": "Python 3",
   "language": "python",
   "name": "python3"
  },
  "language_info": {
   "codemirror_mode": {
    "name": "ipython",
    "version": 3
   },
   "file_extension": ".py",
   "mimetype": "text/x-python",
   "name": "python",
   "nbconvert_exporter": "python",
   "pygments_lexer": "ipython3",
   "version": "3.10.9"
  }
 },
 "nbformat": 4,
 "nbformat_minor": 2
}
