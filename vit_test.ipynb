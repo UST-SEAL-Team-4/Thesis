{
 "cells": [
  {
   "cell_type": "code",
   "execution_count": 1,
   "id": "f54b292c-00b1-405f-8df2-581501ed9457",
   "metadata": {},
   "outputs": [
    {
     "name": "stderr",
     "output_type": "stream",
     "text": [
      "INFO:albumentations.check_version:A new version of Albumentations is available: 1.4.18 (you have 1.4.7). Upgrade using: pip install --upgrade albumentations\n",
      "C:\\Users\\araza\\AppData\\Roaming\\Python\\Python310\\site-packages\\tqdm\\auto.py:21: TqdmWarning: IProgress not found. Please update jupyter and ipywidgets. See https://ipywidgets.readthedocs.io/en/stable/user_install.html\n",
      "  from .autonotebook import tqdm as notebook_tqdm\n"
     ]
    }
   ],
   "source": [
    "import pandas as pd\n",
    "import os\n",
    "from project.dataset import Dataset, VALDODataset\n",
    "from project.preprocessing import z_score_normalization, min_max_normalization, NiftiToTensorTransform, get_transform\n",
    "# from project.preprocessing import z_score_normalization, min_max_normalization\n",
    "# from project.training import split_train_val_datasets\n",
    "from project.utils import collate_fn, plot_all_slices, plot_all_slices_from_array, collatev2\n",
    "from torch.utils.data import DataLoader\n",
    "import torch\n",
    "from project.model import VisionTransformer, ISAVIT\n",
    "from torch.optim import Adam\n",
    "import torch.nn as nn\n",
    "import torch.nn.functional as F\n",
    "from tqdm.auto import tqdm\n",
    "import matplotlib.pyplot as plt\n",
    "from project.model.feeder import Feeder\n",
    "import seaborn as sns\n"
   ]
  },
  {
   "cell_type": "code",
   "execution_count": 2,
   "id": "0b22eba9-11ba-4b10-9932-7b0976384f84",
   "metadata": {},
   "outputs": [
    {
     "data": {
      "text/plain": [
       "'cuda'"
      ]
     },
     "execution_count": 2,
     "metadata": {},
     "output_type": "execute_result"
    }
   ],
   "source": [
    "import logging\n",
    "logger = logging.getLogger('andy')\n",
    "fh = logging.FileHandler('andy.log')\n",
    "formatter = logging.Formatter(\n",
    "    '%(asctime)s - %(levelname)s - %(message)s'\n",
    ")\n",
    "\n",
    "logger.setLevel(logging.DEBUG)\n",
    "fh.setLevel(logging.DEBUG)\n",
    "fh.setFormatter(formatter)\n",
    "\n",
    "logger.addHandler(fh)\n",
    "\n",
    "device = 'cuda' if torch.cuda.is_available() else 'cpu'\n",
    "device"
   ]
  },
  {
   "cell_type": "code",
   "execution_count": 3,
   "id": "24ace638-21db-4440-bb5f-bfa1b9b121eb",
   "metadata": {},
   "outputs": [],
   "source": [
    "ds = Dataset()\n",
    "\n",
    "cases = ds.load_raw_mri()\n",
    "masks = ds.load_cmb_masks()"
   ]
  },
  {
   "cell_type": "code",
   "execution_count": 4,
   "id": "92c9d01f-e718-4828-866a-fca5d7de6f7a",
   "metadata": {},
   "outputs": [
    {
     "data": {
      "text/plain": [
       "(7986, 3)"
      ]
     },
     "execution_count": 4,
     "metadata": {},
     "output_type": "execute_result"
    }
   ],
   "source": [
    "data = pd.read_csv('targets.csv')\n",
    "data.shape"
   ]
  },
  {
   "cell_type": "code",
   "execution_count": 5,
   "id": "2038c2d7-5496-4394-b695-e0d76b6611b4",
   "metadata": {},
   "outputs": [
    {
     "data": {
      "text/plain": [
       "(385, 3)"
      ]
     },
     "execution_count": 5,
     "metadata": {},
     "output_type": "execute_result"
    }
   ],
   "source": [
    "ch1 = ds.load_raw_mri(1)\n",
    "data = data[data.mri.isin(ch1)]\n",
    "data.shape"
   ]
  },
  {
   "cell_type": "code",
   "execution_count": 6,
   "id": "b6d0518e-d21f-4773-87a2-c11b750207eb",
   "metadata": {},
   "outputs": [],
   "source": [
    "cases = data.mri\n",
    "masks = data.masks\n",
    "target = data.target"
   ]
  },
  {
   "cell_type": "markdown",
   "id": "3c7619a5-0198-4289-b89a-395ddb71d663",
   "metadata": {},
   "source": [
    "# Vit Dataloader"
   ]
  },
  {
   "cell_type": "code",
   "execution_count": 7,
   "id": "887f0c46-e099-4e28-afe0-1d5d05e70a0d",
   "metadata": {},
   "outputs": [],
   "source": [
    "transform = NiftiToTensorTransform(target_shape = (512, 512), rpn_mode=False)"
   ]
  },
  {
   "cell_type": "code",
   "execution_count": 8,
   "id": "29264a57-5a65-4d9d-9954-d69aafede047",
   "metadata": {},
   "outputs": [],
   "source": [
    "dataset = VALDODataset(\n",
    "    cases=cases,\n",
    "    masks=masks,\n",
    "    target=target,\n",
    "    transform=transform,\n",
    "    normalization=z_score_normalization,\n",
    ")"
   ]
  },
  {
   "cell_type": "code",
   "execution_count": 9,
   "id": "f3e28d29-9b77-4e85-9132-1808571a81eb",
   "metadata": {},
   "outputs": [],
   "source": [
    "dloader = DataLoader(\n",
    "    dataset,\n",
    "    shuffle=True,\n",
    "    batch_size=10,\n",
    "    collate_fn=collatev2,\n",
    ")"
   ]
  },
  {
   "cell_type": "markdown",
   "id": "68746df1-a87d-4364-a231-843ce6fa1fae",
   "metadata": {},
   "source": [
    "# Feeder Dataset"
   ]
  },
  {
   "cell_type": "code",
   "execution_count": 10,
   "id": "003d206e-89e6-41a6-9f10-a617810ac08c",
   "metadata": {},
   "outputs": [],
   "source": [
    "feedset = VALDODataset(\n",
    "    cases=cases,\n",
    "    masks=masks,\n",
    "    target=target,\n",
    "    transform=NiftiToTensorTransform(target_shape = (512, 512), rpn_mode=True),\n",
    "    normalization=z_score_normalization,\n",
    ")"
   ]
  },
  {
   "cell_type": "markdown",
   "id": "bd690636-f427-43a5-8700-8275e8f05a28",
   "metadata": {},
   "source": [
    "# Feeder"
   ]
  },
  {
   "cell_type": "code",
   "execution_count": 11,
   "id": "7934b1c8-b07b-407e-9709-63518e0f4837",
   "metadata": {},
   "outputs": [],
   "source": [
    "resize = get_transform(\n",
    "    height=16,\n",
    "    width=16,\n",
    "    p=1.0,\n",
    "    rpn_mode=False\n",
    ")"
   ]
  },
  {
   "cell_type": "code",
   "execution_count": 12,
   "id": "e4564536-3833-4cc9-a596-a80ec0e23b6c",
   "metadata": {},
   "outputs": [],
   "source": [
    "feeder = Feeder(resize)"
   ]
  },
  {
   "cell_type": "code",
   "execution_count": 13,
   "id": "ea2c8e65-9555-4d5c-8e52-b364034ecc2d",
   "metadata": {},
   "outputs": [
    {
     "data": {
      "text/plain": [
       "torch.Size([16, 16])"
      ]
     },
     "execution_count": 13,
     "metadata": {},
     "output_type": "execute_result"
    }
   ],
   "source": [
    "torch.zeros(16, 16).shape"
   ]
  },
  {
   "cell_type": "markdown",
   "id": "ffb50f65-af8f-4740-b1ad-adfd49139568",
   "metadata": {},
   "source": [
    "# Fitter Config"
   ]
  },
  {
   "cell_type": "code",
   "execution_count": 14,
   "id": "4d04a009-6d4a-420a-80c4-acf1b85b119d",
   "metadata": {},
   "outputs": [
    {
     "name": "stderr",
     "output_type": "stream",
     "text": [
      "C:\\Program Files\\Python310\\lib\\site-packages\\torch\\nn\\modules\\transformer.py:306: UserWarning: enable_nested_tensor is True, but self.use_nested_tensor is False because encoder_layer.self_attn.batch_first was not True(use batch_first for better inference performance)\n",
      "  warnings.warn(f\"enable_nested_tensor is True, but self.use_nested_tensor is False because {why_not_sparsity_fast_path}\")\n"
     ]
    }
   ],
   "source": [
    "config = {\n",
    "    'model': ISAVIT(\n",
    "        d_model=1000,\n",
    "        patch_size=16,\n",
    "        dim_ff=2000\n",
    "    ).to(device),\n",
    "    'optimizer': torch.optim.Adam,\n",
    "    'device': device,\n",
    "    'epochs': 5,\n",
    "    'loss': nn.BCEWithLogitsLoss(),\n",
    "    # 'loss': nn.MSELoss(),\n",
    "    'lr': 0.0000001\n",
    "}"
   ]
  },
  {
   "cell_type": "markdown",
   "id": "fa729107-f5af-437b-bbbc-9f6cac82b2a5",
   "metadata": {},
   "source": [
    "# Sample"
   ]
  },
  {
   "cell_type": "raw",
   "id": "d9f14c52-06d1-4883-b0e9-912ecc25ef35",
   "metadata": {},
   "source": [
    "while True:\n",
    "    sample = next(enumerate(dloader))\n",
    "    case = sample[1][0]\n",
    "    masks = case[1]\n",
    "    target = case[2]\n",
    "    file = case[3]\n",
    "    rp = feedset.locate_case_by_mri(file)\n",
    "    bboxes = rp[1].view(rp[1].shape[0], -1)\n",
    "    if bboxes[(bboxes > 0).all(dim=1)].shape[0] > 0:\n",
    "        break"
   ]
  },
  {
   "cell_type": "raw",
   "id": "7f9eaf56-7f79-4a34-8eec-0b3833d7a2c0",
   "metadata": {},
   "source": [
    "bbox = bboxes[(bboxes > 0).all(dim=1)][0]"
   ]
  },
  {
   "cell_type": "raw",
   "id": "a7c32590-7ee2-4146-87ea-06d1f8025259",
   "metadata": {},
   "source": [
    "bbox = bbox.int().tolist()"
   ]
  },
  {
   "cell_type": "raw",
   "id": "6c7baa68-d88b-4e08-8e5f-0fc662708612",
   "metadata": {},
   "source": [
    "bbox"
   ]
  },
  {
   "cell_type": "raw",
   "id": "91379228-d0f8-479d-bf10-9c0fc9706967",
   "metadata": {},
   "source": [
    "mri = case[0]\n",
    "mask = case[1]"
   ]
  },
  {
   "cell_type": "raw",
   "id": "7a8ecf65-276d-4c3e-8925-318488bba119",
   "metadata": {},
   "source": [
    "target = case[2]"
   ]
  },
  {
   "cell_type": "raw",
   "id": "8ff31f63-b6dd-46c7-beab-640fdd1db111",
   "metadata": {},
   "source": [
    "x = feeder(mri, bbox, 16)\n",
    "t = feeder(mask, bbox, 16)"
   ]
  },
  {
   "cell_type": "raw",
   "id": "4315dbb9-8fcf-4a57-afb4-c48c7c6b6bf6",
   "metadata": {},
   "source": [
    "target = 5"
   ]
  },
  {
   "cell_type": "raw",
   "id": "f31f30e8-7ebb-4269-ae28-33cd957f4ff1",
   "metadata": {},
   "source": [
    "vit = config['model']"
   ]
  },
  {
   "cell_type": "raw",
   "id": "c29462cc-d8c0-4bd5-a4fe-4dcca5847974",
   "metadata": {},
   "source": [
    "x = x.view(x.shape[0], 1, -1).float().to(device)\n",
    "t = t.view(t.shape[0], 1, -1).float().to(device)"
   ]
  },
  {
   "cell_type": "raw",
   "id": "9cb6578e-1627-4d5f-ae47-f5cb1f3f7f05",
   "metadata": {},
   "source": [
    "y = vit(x, target)"
   ]
  },
  {
   "cell_type": "raw",
   "id": "dc9946ca-6511-44c0-be08-e5990ac0d323",
   "metadata": {},
   "source": [
    "y.shape"
   ]
  },
  {
   "cell_type": "raw",
   "id": "738f4b85-e0a4-47d9-9001-b0a4c9b1b13c",
   "metadata": {},
   "source": [
    "loss = nn.BCEWithLogitsLoss()"
   ]
  },
  {
   "cell_type": "raw",
   "id": "0bbee8d5-0519-487e-8762-9c9365e9837b",
   "metadata": {},
   "source": [
    "loss(y, t[target])"
   ]
  },
  {
   "cell_type": "raw",
   "id": "92364c56-ee3b-4773-bee0-3ef7a6f70541",
   "metadata": {},
   "source": [
    "loss(torch.randn(5,5), torch.zeros(5,5))"
   ]
  },
  {
   "cell_type": "raw",
   "id": "264bc6ab-5101-438f-a792-0268e382a886",
   "metadata": {},
   "source": [
    "loss(torch.zeros(5,5), torch.randn(5,5))"
   ]
  },
  {
   "cell_type": "raw",
   "id": "a556939c-419c-4827-9ea8-54cefa3ca269",
   "metadata": {},
   "source": [
    "loss(t[target][0], y[0])"
   ]
  },
  {
   "cell_type": "raw",
   "id": "1a61417c-c356-42de-9e50-08d9a9818971",
   "metadata": {},
   "source": [
    "all(x == 0 for x in [0, 0, 0, 0])"
   ]
  },
  {
   "cell_type": "raw",
   "id": "6306ccb1-ed32-4ea9-8cca-b33da61d3a64",
   "metadata": {},
   "source": [
    "loss(torch.randn(35, 1, 256), torch.randn(35, 1, 256))"
   ]
  },
  {
   "cell_type": "markdown",
   "id": "61a997d5-31e5-4523-80dc-b10b186dc3c0",
   "metadata": {},
   "source": [
    "# Fitter"
   ]
  },
  {
   "cell_type": "code",
   "execution_count": 34,
   "id": "6b4909ad-2255-41aa-8679-5f7faf6693fc",
   "metadata": {},
   "outputs": [],
   "source": [
    "from project import Fitter\n",
    "\n",
    "class ViTFitter(Fitter):\n",
    "    def train_one_epoch(self, train_loader):\n",
    "        self.model.train()\n",
    "        loss_history = []\n",
    "        counter = 0\n",
    "        for batch in train_loader:\n",
    "            Y = []\n",
    "            T = []\n",
    "            for slices, masks, target, case in batch:\n",
    "                num_slices = slices.shape[0]\n",
    "                \n",
    "                regions = feedset.locate_case_by_mri(case)\n",
    "                bboxes = regions[1].view(regions[1].shape[0], -1)\n",
    "                \n",
    "                x = feeder(slices, bbox, 16)\n",
    "                t = feeder(masks, bbox, 16)\n",
    "\n",
    "                x = x.view(num_slices, 1, -1).float().to(self.device)\n",
    "                masks = t.view(num_slices, 1, -1).float().to(self.device)\n",
    "                \n",
    "                y = self.model(x, target)\n",
    "                Y.append(y)\n",
    "                T.append(masks[target])\n",
    "            \n",
    "            losses = self.loss(torch.stack(Y), torch.stack(T))\n",
    "            # losses = self.loss(torch.stack(T), torch.stack(Y))\n",
    "            loss_history.append(losses)\n",
    "            self.optimizer.zero_grad()\n",
    "            losses.backward()\n",
    "            self.optimizer.step()\n",
    "            counter += len(batch)\n",
    "            if counter % 100 == 0:\n",
    "                logger.info(f'Progress:\\t{counter}/{len(dataset)}')\n",
    "                logger.info(f'Current error:\\t{losses}')\n",
    "        \n",
    "        return loss_history"
   ]
  },
  {
   "cell_type": "code",
   "execution_count": 35,
   "id": "8ad46261-ed7e-4d77-90fe-838c8ace2ec1",
   "metadata": {},
   "outputs": [],
   "source": [
    "fitter = ViTFitter(config)"
   ]
  },
  {
   "cell_type": "markdown",
   "id": "e7d0445d-860f-402f-86ca-be63a15f7900",
   "metadata": {},
   "source": [
    "# Training"
   ]
  },
  {
   "cell_type": "code",
   "execution_count": null,
   "id": "8a934be6-223f-4183-8dd5-fe0a599abf57",
   "metadata": {},
   "outputs": [],
   "source": [
    "hist = fitter.fit(dloader, dloader)"
   ]
  },
  {
   "cell_type": "code",
   "execution_count": 37,
   "id": "306ccafb-a072-44a5-b730-e741575639d7",
   "metadata": {},
   "outputs": [],
   "source": [
    "import winsound\n",
    "\n",
    "winsound.Beep(500, 500)\n",
    "winsound.Beep(500, 500)\n",
    "winsound.Beep(500, 500)"
   ]
  },
  {
   "cell_type": "code",
   "execution_count": 38,
   "id": "27118053-49f0-49e3-949a-88dde924c60f",
   "metadata": {},
   "outputs": [
    {
     "data": {
      "text/plain": [
       "tensor(0.7339)"
      ]
     },
     "execution_count": 38,
     "metadata": {},
     "output_type": "execute_result"
    },
    {
     "data": {
      "image/png": "[encoded data removed]",
      "text/plain": [
       "<Figure size 640x480 with 1 Axes>"
      ]
     },
     "metadata": {},
     "output_type": "display_data"
    }
   ],
   "source": [
    "import seaborn as sns\n",
    "\n",
    "sns.lineplot(torch.tensor(hist).view(-1))\n",
    "torch.tensor(hist).mean()"
   ]
  }
 ],
 "metadata": {
  "kernelspec": {
   "display_name": "Python 3 (ipykernel)",
   "language": "python",
   "name": "python3"
  },
  "language_info": {
   "codemirror_mode": {
    "name": "ipython",
    "version": 3
   },
   "file_extension": ".py",
   "mimetype": "text/x-python",
   "name": "python",
   "nbconvert_exporter": "python",
   "pygments_lexer": "ipython3",
   "version": "3.10.5"
  }
 },
 "nbformat": 4,
 "nbformat_minor": 5
}
