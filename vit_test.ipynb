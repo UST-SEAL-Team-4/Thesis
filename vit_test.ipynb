{
 "cells": [
  {
   "cell_type": "code",
   "execution_count": 1,
   "id": "f54b292c-00b1-405f-8df2-581501ed9457",
   "metadata": {},
   "outputs": [
    {
     "name": "stderr",
     "output_type": "stream",
     "text": [
      "INFO:albumentations.check_version:A new version of Albumentations is available: 1.4.18 (you have 1.4.7). Upgrade using: pip install --upgrade albumentations\n",
      "C:\\Users\\araza\\AppData\\Roaming\\Python\\Python310\\site-packages\\tqdm\\auto.py:21: TqdmWarning: IProgress not found. Please update jupyter and ipywidgets. See https://ipywidgets.readthedocs.io/en/stable/user_install.html\n",
      "  from .autonotebook import tqdm as notebook_tqdm\n"
     ]
    }
   ],
   "source": [
    "import pandas as pd\n",
    "import os\n",
    "from project.dataset import Dataset, VALDODataset\n",
    "from project.preprocessing import z_score_normalization, min_max_normalization, NiftiToTensorTransform, get_transform\n",
    "# from project.preprocessing import z_score_normalization, min_max_normalization\n",
    "# from project.training import split_train_val_datasets\n",
    "from project.utils import collate_fn, plot_all_slices, plot_all_slices_from_array, collatev2\n",
    "from torch.utils.data import DataLoader\n",
    "import torch\n",
    "from project.model import VisionTransformer, ISAVIT\n",
    "from torch.optim import Adam\n",
    "import torch.nn as nn\n",
    "import torch.nn.functional as F\n",
    "from tqdm.auto import tqdm\n",
    "import matplotlib.pyplot as plt\n",
    "from project.model.feeder import Feeder\n",
    "import seaborn as sns\n"
   ]
  },
  {
   "cell_type": "code",
   "execution_count": 2,
   "id": "0b22eba9-11ba-4b10-9932-7b0976384f84",
   "metadata": {},
   "outputs": [
    {
     "data": {
      "text/plain": [
       "'cuda'"
      ]
     },
     "execution_count": 2,
     "metadata": {},
     "output_type": "execute_result"
    }
   ],
   "source": [
    "import logging\n",
    "logger = logging.getLogger('andy')\n",
    "fh = logging.FileHandler('andy.log')\n",
    "formatter = logging.Formatter(\n",
    "    '%(asctime)s - %(levelname)s - %(message)s'\n",
    ")\n",
    "\n",
    "logger.setLevel(logging.DEBUG)\n",
    "fh.setLevel(logging.DEBUG)\n",
    "fh.setFormatter(formatter)\n",
    "\n",
    "logger.addHandler(fh)\n",
    "\n",
    "device = 'cuda' if torch.cuda.is_available() else 'cpu'\n",
    "device"
   ]
  },
  {
   "cell_type": "code",
   "execution_count": 3,
   "id": "24ace638-21db-4440-bb5f-bfa1b9b121eb",
   "metadata": {},
   "outputs": [],
   "source": [
    "ds = Dataset()\n",
    "\n",
    "cases = ds.load_raw_mri()\n",
    "masks = ds.load_cmb_masks()"
   ]
  },
  {
   "cell_type": "code",
   "execution_count": 4,
   "id": "92c9d01f-e718-4828-866a-fca5d7de6f7a",
   "metadata": {},
   "outputs": [
    {
     "data": {
      "text/plain": [
       "(7986, 3)"
      ]
     },
     "execution_count": 4,
     "metadata": {},
     "output_type": "execute_result"
    }
   ],
   "source": [
    "data = pd.read_csv('targets.csv')\n",
    "data.shape"
   ]
  },
  {
   "cell_type": "code",
   "execution_count": 5,
   "id": "2038c2d7-5496-4394-b695-e0d76b6611b4",
   "metadata": {},
   "outputs": [
    {
     "data": {
      "text/plain": [
       "(385, 3)"
      ]
     },
     "execution_count": 5,
     "metadata": {},
     "output_type": "execute_result"
    }
   ],
   "source": [
    "ch1 = ds.load_raw_mri(1)\n",
    "data = data[data.mri.isin(ch1)]\n",
    "data.shape"
   ]
  },
  {
   "cell_type": "code",
   "execution_count": 6,
   "id": "b6d0518e-d21f-4773-87a2-c11b750207eb",
   "metadata": {},
   "outputs": [],
   "source": [
    "cases = data.mri\n",
    "masks = data.masks\n",
    "target = data.target"
   ]
  },
  {
   "cell_type": "markdown",
   "id": "3c7619a5-0198-4289-b89a-395ddb71d663",
   "metadata": {},
   "source": [
    "# Vit Dataloader"
   ]
  },
  {
   "cell_type": "code",
   "execution_count": 7,
   "id": "887f0c46-e099-4e28-afe0-1d5d05e70a0d",
   "metadata": {},
   "outputs": [],
   "source": [
    "transform = NiftiToTensorTransform(target_shape = (512, 512), rpn_mode=False)"
   ]
  },
  {
   "cell_type": "code",
   "execution_count": 8,
   "id": "29264a57-5a65-4d9d-9954-d69aafede047",
   "metadata": {},
   "outputs": [],
   "source": [
    "dataset = VALDODataset(\n",
    "    cases=cases,\n",
    "    masks=masks,\n",
    "    target=target,\n",
    "    transform=transform,\n",
    "    normalization=z_score_normalization,\n",
    ")"
   ]
  },
  {
   "cell_type": "code",
   "execution_count": 9,
   "id": "f3e28d29-9b77-4e85-9132-1808571a81eb",
   "metadata": {},
   "outputs": [],
   "source": [
    "dloader = DataLoader(\n",
    "    dataset,\n",
    "    shuffle=True,\n",
    "    batch_size=1,\n",
    "    collate_fn=collatev2,\n",
    ")"
   ]
  },
  {
   "cell_type": "markdown",
   "id": "68746df1-a87d-4364-a231-843ce6fa1fae",
   "metadata": {},
   "source": [
    "# Feeder Dataset"
   ]
  },
  {
   "cell_type": "code",
   "execution_count": 10,
   "id": "003d206e-89e6-41a6-9f10-a617810ac08c",
   "metadata": {},
   "outputs": [],
   "source": [
    "feedset = VALDODataset(\n",
    "    cases=cases,\n",
    "    masks=masks,\n",
    "    target=target,\n",
    "    transform=NiftiToTensorTransform(target_shape = (512, 512), rpn_mode=True),\n",
    "    normalization=z_score_normalization,\n",
    ")"
   ]
  },
  {
   "cell_type": "markdown",
   "id": "bd690636-f427-43a5-8700-8275e8f05a28",
   "metadata": {},
   "source": [
    "# Feeder"
   ]
  },
  {
   "cell_type": "code",
   "execution_count": 11,
   "id": "7934b1c8-b07b-407e-9709-63518e0f4837",
   "metadata": {},
   "outputs": [],
   "source": [
    "resize = get_transform(\n",
    "    height=16,\n",
    "    width=16,\n",
    "    p=1.0,\n",
    "    rpn_mode=False\n",
    ")"
   ]
  },
  {
   "cell_type": "code",
   "execution_count": 12,
   "id": "e4564536-3833-4cc9-a596-a80ec0e23b6c",
   "metadata": {},
   "outputs": [],
   "source": [
    "feeder = Feeder(resize)"
   ]
  },
  {
   "cell_type": "code",
   "execution_count": 13,
   "id": "ea2c8e65-9555-4d5c-8e52-b364034ecc2d",
   "metadata": {},
   "outputs": [
    {
     "data": {
      "text/plain": [
       "torch.Size([16, 16])"
      ]
     },
     "execution_count": 13,
     "metadata": {},
     "output_type": "execute_result"
    }
   ],
   "source": [
    "torch.zeros(16, 16).shape"
   ]
  },
  {
   "cell_type": "markdown",
   "id": "ffb50f65-af8f-4740-b1ad-adfd49139568",
   "metadata": {},
   "source": [
    "# Fitter Config"
   ]
  },
  {
   "cell_type": "code",
   "execution_count": 14,
   "id": "4d04a009-6d4a-420a-80c4-acf1b85b119d",
   "metadata": {},
   "outputs": [
    {
     "name": "stderr",
     "output_type": "stream",
     "text": [
      "C:\\Program Files\\Python310\\lib\\site-packages\\torch\\nn\\modules\\transformer.py:306: UserWarning: enable_nested_tensor is True, but self.use_nested_tensor is False because encoder_layer.self_attn.batch_first was not True(use batch_first for better inference performance)\n",
      "  warnings.warn(f\"enable_nested_tensor is True, but self.use_nested_tensor is False because {why_not_sparsity_fast_path}\")\n"
     ]
    }
   ],
   "source": [
    "config = {\n",
    "    'model': ISAVIT(\n",
    "        d_model=1000,\n",
    "        patch_size=16,\n",
    "        dim_ff=2000\n",
    "    ).to(device),\n",
    "    'optimizer': torch.optim.Adam,\n",
    "    'device': device,\n",
    "    'epochs': 1,\n",
    "    'loss': nn.BCEWithLogitsLoss(),\n",
    "    # 'loss': nn.MSELoss(),\n",
    "    'lr': 0.0000001\n",
    "}"
   ]
  },
  {
   "cell_type": "markdown",
   "id": "fa729107-f5af-437b-bbbc-9f6cac82b2a5",
   "metadata": {},
   "source": [
    "# Sample"
   ]
  },
  {
   "cell_type": "raw",
   "id": "1fac945d-d4e2-40d5-a699-e73f05966be0",
   "metadata": {},
   "source": [
    "while True:\n",
    "    sample = next(enumerate(dloader))\n",
    "    case = sample[1][0]\n",
    "    masks = case[1]\n",
    "    target = case[2]\n",
    "    file = case[3]\n",
    "    rp = feedset.locate_case_by_mri(file)\n",
    "    bboxes = rp[1].view(rp[1].shape[0], -1)\n",
    "    if bboxes[(bboxes > 0).all(dim=1)].shape[0] > 0:\n",
    "        break"
   ]
  },
  {
   "cell_type": "raw",
   "id": "8caab426-12ee-4494-91e2-1265a1d4ed8c",
   "metadata": {},
   "source": [
    "bbox = bboxes[(bboxes > 0).all(dim=1)][0]"
   ]
  },
  {
   "cell_type": "raw",
   "id": "e81632d2-9eed-40e6-9558-aa7531894326",
   "metadata": {},
   "source": [
    "bbox = bbox.int().tolist()"
   ]
  },
  {
   "cell_type": "raw",
   "id": "d150c3ca-b68b-4865-a21e-8819b080d9d6",
   "metadata": {},
   "source": [
    "bbox"
   ]
  },
  {
   "cell_type": "raw",
   "id": "fde8b631-db95-4db8-a572-0b73d6aad622",
   "metadata": {},
   "source": [
    "mri = case[0]\n",
    "mask = case[1]"
   ]
  },
  {
   "cell_type": "raw",
   "id": "ce384219-a381-4d5a-ab49-5442ff4b2c5e",
   "metadata": {},
   "source": [
    "target = case[2]"
   ]
  },
  {
   "cell_type": "raw",
   "id": "4bf99924-d843-40ba-b557-1bf5930a4ac6",
   "metadata": {},
   "source": [
    "x = feeder(mri, bbox, 16)\n",
    "t = feeder(mask, bbox, 16)"
   ]
  },
  {
   "cell_type": "raw",
   "id": "e69a4328-a32f-4a8e-8412-5730cf5ca860",
   "metadata": {},
   "source": [
    "vit = config['model']"
   ]
  },
  {
   "cell_type": "raw",
   "id": "41ed4de6-122f-412d-9d5f-e17d2b00c71e",
   "metadata": {},
   "source": [
    "x = x.view(x.shape[0], 1, -1).float().to(device)\n",
    "t = t.view(t.shape[0], 1, -1).float().to(device)"
   ]
  },
  {
   "cell_type": "raw",
   "id": "ab70f808-f94e-4721-ae09-9ea54a42005f",
   "metadata": {},
   "source": [
    "y = vit(x, target)"
   ]
  },
  {
   "cell_type": "raw",
   "id": "73a9c0c3-74ad-48fd-99e3-d2ef95cd058c",
   "metadata": {},
   "source": [
    "y.shape"
   ]
  },
  {
   "cell_type": "raw",
   "id": "91c710ca-9030-48c1-a379-a3935930b0fe",
   "metadata": {},
   "source": [
    "loss = nn.BCEWithLogitsLoss()"
   ]
  },
  {
   "cell_type": "raw",
   "id": "2305628a-5e83-42a1-bfd4-449e412292f8",
   "metadata": {},
   "source": [
    "loss(y, t[target])"
   ]
  },
  {
   "cell_type": "raw",
   "id": "90da9419-6139-4ade-859c-cc5988d1b1f7",
   "metadata": {},
   "source": [
    "loss(torch.randn(5,5), torch.zeros(5,5))"
   ]
  },
  {
   "cell_type": "raw",
   "id": "1900d306-ad1f-4b54-a20f-c828fb2f3a79",
   "metadata": {},
   "source": [
    "loss(torch.zeros(5,5), torch.randn(5,5))"
   ]
  },
  {
   "cell_type": "raw",
   "id": "2f96a1c2-00fd-4cef-9175-6f5e23babc27",
   "metadata": {},
   "source": [
    "loss(t[target][0], y[0])"
   ]
  },
  {
   "cell_type": "raw",
   "id": "07c63cd5-6071-4fea-9852-19f83663a010",
   "metadata": {},
   "source": [
    "all(x == 0 for x in [0, 0, 0, 0])"
   ]
  },
  {
   "cell_type": "raw",
   "id": "c7f14e2c-70e3-4fa7-a861-f1ee9cb3c91d",
   "metadata": {},
   "source": [
    "loss(torch.randn(35, 1, 256), torch.randn(35, 1, 256))"
   ]
  },
  {
   "cell_type": "markdown",
   "id": "61a997d5-31e5-4523-80dc-b10b186dc3c0",
   "metadata": {},
   "source": [
    "# Fitter"
   ]
  },
  {
   "cell_type": "code",
   "execution_count": 15,
   "id": "6b4909ad-2255-41aa-8679-5f7faf6693fc",
   "metadata": {},
   "outputs": [],
   "source": [
    "from project import Fitter\n",
    "\n",
    "class ViTFitter(Fitter):\n",
    "    def train_one_epoch(self, train_loader):\n",
    "        self.model.train()\n",
    "        loss_history = []\n",
    "        counter = 0\n",
    "        for batch in train_loader:\n",
    "            Y = []\n",
    "            T = []\n",
    "            for slices, masks, target, case in batch:\n",
    "                num_slices = slices.shape[0]\n",
    "                \n",
    "                regions = feedset.locate_case_by_mri(case)\n",
    "                bboxes = regions[1].view(regions[1].shape[0], -1)\n",
    "                print(f'BBOXES: {bboxes.shape}')\n",
    "                bbox = bboxes[target].int().tolist()\n",
    "\n",
    "                print(f'X shape before feeder {slices.shape}')\n",
    "                print(f'T shape before feeder {masks.shape}')\n",
    "                x = feeder(slices, bbox, 16)\n",
    "                t = feeder(masks, bbox, 16)\n",
    "                print(f'X shape after feeder {x.shape}')\n",
    "                print(f'T shape after feeder {t.shape}')\n",
    "                x = x.view(num_slices, 1, -1).float().to(self.device)\n",
    "                masks = t.view(num_slices, 1, -1).float().to(self.device)\n",
    "                print(f'X SHAPE {x.shape}')\n",
    "                print(f'T SHAPE {masks.shape}')\n",
    "                \n",
    "                y = self.model(x, target)\n",
    "                Y.append(y)\n",
    "                T.append(masks[target])\n",
    "            \n",
    "            losses = self.loss(torch.stack(Y), torch.stack(T))\n",
    "            # losses = self.loss(torch.stack(T), torch.stack(Y))\n",
    "            loss_history.append(losses)\n",
    "            self.optimizer.zero_grad()\n",
    "            losses.backward()\n",
    "            self.optimizer.step()\n",
    "            counter += len(batch)\n",
    "            if counter % 100 == 0:\n",
    "                logger.info(f'Progress:\\t{counter}/{len(dataset)}')\n",
    "                logger.info(f'Current error:\\t{losses}')\n",
    "        \n",
    "        return loss_history"
   ]
  },
  {
   "cell_type": "code",
   "execution_count": 16,
   "id": "8ad46261-ed7e-4d77-90fe-838c8ace2ec1",
   "metadata": {},
   "outputs": [],
   "source": [
    "fitter = ViTFitter(config)"
   ]
  },
  {
   "cell_type": "markdown",
   "id": "e7d0445d-860f-402f-86ca-be63a15f7900",
   "metadata": {},
   "source": [
    "# Training"
   ]
  },
  {
   "cell_type": "code",
   "execution_count": 17,
   "id": "8a934be6-223f-4183-8dd5-fe0a599abf57",
   "metadata": {},
   "outputs": [
    {
     "name": "stderr",
     "output_type": "stream",
     "text": [
      "pixdim[0] (qfac) should be 1 (default) or -1; setting qfac to 1\n",
      "INFO:nibabel.global:pixdim[0] (qfac) should be 1 (default) or -1; setting qfac to 1\n",
      "pixdim[0] (qfac) should be 1 (default) or -1; setting qfac to 1\n",
      "INFO:nibabel.global:pixdim[0] (qfac) should be 1 (default) or -1; setting qfac to 1\n"
     ]
    },
    {
     "name": "stdout",
     "output_type": "stream",
     "text": [
      "BBOXES: torch.Size([35, 4])\n",
      "X shape before feeder torch.Size([35, 1, 1, 512, 512])\n",
      "T shape before feeder torch.Size([35, 1, 512, 512])\n",
      "X shape after feeder torch.Size([35, 1, 16, 16])\n",
      "T shape after feeder torch.Size([35, 1, 16, 16])\n",
      "X SHAPE torch.Size([35, 1, 256])\n",
      "T SHAPE torch.Size([35, 1, 256])\n"
     ]
    },
    {
     "name": "stderr",
     "output_type": "stream",
     "text": [
      "C:\\Program Files\\Python310\\lib\\site-packages\\torch\\nn\\functional.py:5504: UserWarning: 1Torch was not compiled with flash attention. (Triggered internally at ..\\aten\\src\\ATen\\native\\transformers\\cuda\\sdp_utils.cpp:455.)\n",
      "  attn_output = scaled_dot_product_attention(q, k, v, attn_mask, dropout_p, is_causal)\n",
      "pixdim[0] (qfac) should be 1 (default) or -1; setting qfac to 1\n",
      "INFO:nibabel.global:pixdim[0] (qfac) should be 1 (default) or -1; setting qfac to 1\n",
      "pixdim[0] (qfac) should be 1 (default) or -1; setting qfac to 1\n",
      "INFO:nibabel.global:pixdim[0] (qfac) should be 1 (default) or -1; setting qfac to 1\n",
      "pixdim[0] (qfac) should be 1 (default) or -1; setting qfac to 1\n",
      "INFO:nibabel.global:pixdim[0] (qfac) should be 1 (default) or -1; setting qfac to 1\n"
     ]
    },
    {
     "name": "stdout",
     "output_type": "stream",
     "text": [
      "BBOXES: torch.Size([35, 4])\n",
      "X shape before feeder torch.Size([35, 1, 1, 512, 512])\n",
      "T shape before feeder torch.Size([35, 1, 512, 512])\n",
      "X shape after feeder torch.Size([35, 1, 16, 16])\n",
      "T shape after feeder torch.Size([35, 1, 16, 16])\n",
      "X SHAPE torch.Size([35, 1, 256])\n",
      "T SHAPE torch.Size([35, 1, 256])\n"
     ]
    },
    {
     "name": "stderr",
     "output_type": "stream",
     "text": [
      "pixdim[0] (qfac) should be 1 (default) or -1; setting qfac to 1\n",
      "INFO:nibabel.global:pixdim[0] (qfac) should be 1 (default) or -1; setting qfac to 1\n",
      "pixdim[0] (qfac) should be 1 (default) or -1; setting qfac to 1\n",
      "INFO:nibabel.global:pixdim[0] (qfac) should be 1 (default) or -1; setting qfac to 1\n"
     ]
    },
    {
     "name": "stdout",
     "output_type": "stream",
     "text": [
      "BBOXES: torch.Size([35, 4])\n",
      "X shape before feeder torch.Size([35, 1, 1, 512, 512])\n",
      "T shape before feeder torch.Size([35, 1, 512, 512])\n",
      "X shape after feeder torch.Size([35, 1, 16, 16])\n",
      "T shape after feeder torch.Size([35, 1, 16, 16])\n",
      "X SHAPE torch.Size([35, 1, 256])\n",
      "T SHAPE torch.Size([35, 1, 256])\n"
     ]
    },
    {
     "name": "stderr",
     "output_type": "stream",
     "text": [
      "pixdim[0] (qfac) should be 1 (default) or -1; setting qfac to 1\n",
      "INFO:nibabel.global:pixdim[0] (qfac) should be 1 (default) or -1; setting qfac to 1\n",
      "pixdim[0] (qfac) should be 1 (default) or -1; setting qfac to 1\n",
      "INFO:nibabel.global:pixdim[0] (qfac) should be 1 (default) or -1; setting qfac to 1\n"
     ]
    },
    {
     "name": "stdout",
     "output_type": "stream",
     "text": [
      "BBOXES: torch.Size([35, 4])\n",
      "X shape before feeder torch.Size([35, 1, 1, 512, 512])\n",
      "T shape before feeder torch.Size([35, 1, 512, 512])\n",
      "X shape after feeder torch.Size([35, 1, 16, 16])\n",
      "T shape after feeder torch.Size([35, 1, 16, 16])\n",
      "X SHAPE torch.Size([35, 1, 256])\n",
      "T SHAPE torch.Size([35, 1, 256])\n"
     ]
    },
    {
     "name": "stderr",
     "output_type": "stream",
     "text": [
      "pixdim[0] (qfac) should be 1 (default) or -1; setting qfac to 1\n",
      "INFO:nibabel.global:pixdim[0] (qfac) should be 1 (default) or -1; setting qfac to 1\n",
      "pixdim[0] (qfac) should be 1 (default) or -1; setting qfac to 1\n",
      "INFO:nibabel.global:pixdim[0] (qfac) should be 1 (default) or -1; setting qfac to 1\n",
      "pixdim[0] (qfac) should be 1 (default) or -1; setting qfac to 1\n",
      "INFO:nibabel.global:pixdim[0] (qfac) should be 1 (default) or -1; setting qfac to 1\n",
      "pixdim[0] (qfac) should be 1 (default) or -1; setting qfac to 1\n",
      "INFO:nibabel.global:pixdim[0] (qfac) should be 1 (default) or -1; setting qfac to 1\n"
     ]
    },
    {
     "name": "stdout",
     "output_type": "stream",
     "text": [
      "BBOXES: torch.Size([35, 4])\n",
      "X shape before feeder torch.Size([35, 1, 1, 512, 512])\n",
      "T shape before feeder torch.Size([35, 1, 512, 512])\n",
      "X shape after feeder torch.Size([35, 1, 16, 16])\n",
      "T shape after feeder torch.Size([35, 1, 16, 16])\n",
      "X SHAPE torch.Size([35, 1, 256])\n",
      "T SHAPE torch.Size([35, 1, 256])\n"
     ]
    },
    {
     "name": "stderr",
     "output_type": "stream",
     "text": [
      "pixdim[0] (qfac) should be 1 (default) or -1; setting qfac to 1\n",
      "INFO:nibabel.global:pixdim[0] (qfac) should be 1 (default) or -1; setting qfac to 1\n",
      "pixdim[0] (qfac) should be 1 (default) or -1; setting qfac to 1\n",
      "INFO:nibabel.global:pixdim[0] (qfac) should be 1 (default) or -1; setting qfac to 1\n"
     ]
    },
    {
     "name": "stdout",
     "output_type": "stream",
     "text": [
      "BBOXES: torch.Size([35, 4])\n",
      "X shape before feeder torch.Size([35, 1, 1, 512, 512])\n",
      "T shape before feeder torch.Size([35, 1, 512, 512])\n",
      "X shape after feeder torch.Size([35, 1, 16, 16])\n",
      "T shape after feeder torch.Size([35, 1, 16, 16])\n",
      "X SHAPE torch.Size([35, 1, 256])\n",
      "T SHAPE torch.Size([35, 1, 256])\n"
     ]
    },
    {
     "name": "stderr",
     "output_type": "stream",
     "text": [
      "pixdim[0] (qfac) should be 1 (default) or -1; setting qfac to 1\n",
      "INFO:nibabel.global:pixdim[0] (qfac) should be 1 (default) or -1; setting qfac to 1\n",
      "pixdim[0] (qfac) should be 1 (default) or -1; setting qfac to 1\n",
      "INFO:nibabel.global:pixdim[0] (qfac) should be 1 (default) or -1; setting qfac to 1\n"
     ]
    },
    {
     "name": "stdout",
     "output_type": "stream",
     "text": [
      "BBOXES: torch.Size([35, 4])\n",
      "X shape before feeder torch.Size([35, 1, 1, 512, 512])\n",
      "T shape before feeder torch.Size([35, 1, 512, 512])\n",
      "X shape after feeder torch.Size([35, 1, 16, 16])\n",
      "T shape after feeder torch.Size([35, 1, 16, 16])\n",
      "X SHAPE torch.Size([35, 1, 256])\n",
      "T SHAPE torch.Size([35, 1, 256])\n"
     ]
    },
    {
     "name": "stderr",
     "output_type": "stream",
     "text": [
      "pixdim[0] (qfac) should be 1 (default) or -1; setting qfac to 1\n",
      "INFO:nibabel.global:pixdim[0] (qfac) should be 1 (default) or -1; setting qfac to 1\n",
      "pixdim[0] (qfac) should be 1 (default) or -1; setting qfac to 1\n",
      "INFO:nibabel.global:pixdim[0] (qfac) should be 1 (default) or -1; setting qfac to 1\n"
     ]
    },
    {
     "name": "stdout",
     "output_type": "stream",
     "text": [
      "BBOXES: torch.Size([35, 4])\n",
      "X shape before feeder torch.Size([35, 1, 1, 512, 512])\n",
      "T shape before feeder torch.Size([35, 1, 512, 512])\n",
      "X shape after feeder torch.Size([35, 1, 16, 16])\n",
      "T shape after feeder torch.Size([35, 1, 16, 16])\n",
      "X SHAPE torch.Size([35, 1, 256])\n",
      "T SHAPE torch.Size([35, 1, 256])\n"
     ]
    },
    {
     "name": "stderr",
     "output_type": "stream",
     "text": [
      "pixdim[0] (qfac) should be 1 (default) or -1; setting qfac to 1\n",
      "INFO:nibabel.global:pixdim[0] (qfac) should be 1 (default) or -1; setting qfac to 1\n",
      "pixdim[0] (qfac) should be 1 (default) or -1; setting qfac to 1\n",
      "INFO:nibabel.global:pixdim[0] (qfac) should be 1 (default) or -1; setting qfac to 1\n"
     ]
    },
    {
     "name": "stdout",
     "output_type": "stream",
     "text": [
      "BBOXES: torch.Size([35, 4])\n",
      "X shape before feeder torch.Size([35, 1, 1, 512, 512])\n",
      "T shape before feeder torch.Size([35, 1, 512, 512])\n",
      "X shape after feeder torch.Size([35, 1, 16, 16])\n",
      "T shape after feeder torch.Size([35, 1, 16, 16])\n",
      "X SHAPE torch.Size([35, 1, 256])\n",
      "T SHAPE torch.Size([35, 1, 256])\n"
     ]
    },
    {
     "name": "stderr",
     "output_type": "stream",
     "text": [
      "pixdim[0] (qfac) should be 1 (default) or -1; setting qfac to 1\n",
      "INFO:nibabel.global:pixdim[0] (qfac) should be 1 (default) or -1; setting qfac to 1\n",
      "pixdim[0] (qfac) should be 1 (default) or -1; setting qfac to 1\n",
      "INFO:nibabel.global:pixdim[0] (qfac) should be 1 (default) or -1; setting qfac to 1\n"
     ]
    },
    {
     "name": "stdout",
     "output_type": "stream",
     "text": [
      "BBOXES: torch.Size([35, 4])\n",
      "X shape before feeder torch.Size([35, 1, 1, 512, 512])\n",
      "T shape before feeder torch.Size([35, 1, 512, 512])\n",
      "X shape after feeder torch.Size([35, 1, 16, 16])\n",
      "T shape after feeder torch.Size([35, 1, 16, 16])\n",
      "X SHAPE torch.Size([35, 1, 256])\n",
      "T SHAPE torch.Size([35, 1, 256])\n"
     ]
    },
    {
     "name": "stderr",
     "output_type": "stream",
     "text": [
      "pixdim[0] (qfac) should be 1 (default) or -1; setting qfac to 1\n",
      "INFO:nibabel.global:pixdim[0] (qfac) should be 1 (default) or -1; setting qfac to 1\n",
      "pixdim[0] (qfac) should be 1 (default) or -1; setting qfac to 1\n",
      "INFO:nibabel.global:pixdim[0] (qfac) should be 1 (default) or -1; setting qfac to 1\n"
     ]
    },
    {
     "name": "stdout",
     "output_type": "stream",
     "text": [
      "BBOXES: torch.Size([35, 4])\n",
      "X shape before feeder torch.Size([35, 1, 1, 512, 512])\n",
      "T shape before feeder torch.Size([35, 1, 512, 512])\n",
      "X shape after feeder torch.Size([35, 1, 16, 16])\n",
      "T shape after feeder torch.Size([35, 1, 16, 16])\n",
      "X SHAPE torch.Size([35, 1, 256])\n",
      "T SHAPE torch.Size([35, 1, 256])\n"
     ]
    },
    {
     "name": "stderr",
     "output_type": "stream",
     "text": [
      "pixdim[0] (qfac) should be 1 (default) or -1; setting qfac to 1\n",
      "INFO:nibabel.global:pixdim[0] (qfac) should be 1 (default) or -1; setting qfac to 1\n",
      "pixdim[0] (qfac) should be 1 (default) or -1; setting qfac to 1\n",
      "INFO:nibabel.global:pixdim[0] (qfac) should be 1 (default) or -1; setting qfac to 1\n"
     ]
    },
    {
     "name": "stdout",
     "output_type": "stream",
     "text": [
      "BBOXES: torch.Size([35, 4])\n",
      "X shape before feeder torch.Size([35, 1, 1, 512, 512])\n",
      "T shape before feeder torch.Size([35, 1, 512, 512])\n",
      "X shape after feeder torch.Size([35, 1, 16, 16])\n",
      "T shape after feeder torch.Size([35, 1, 16, 16])\n",
      "X SHAPE torch.Size([35, 1, 256])\n",
      "T SHAPE torch.Size([35, 1, 256])\n"
     ]
    },
    {
     "name": "stderr",
     "output_type": "stream",
     "text": [
      "pixdim[0] (qfac) should be 1 (default) or -1; setting qfac to 1\n",
      "INFO:nibabel.global:pixdim[0] (qfac) should be 1 (default) or -1; setting qfac to 1\n",
      "pixdim[0] (qfac) should be 1 (default) or -1; setting qfac to 1\n",
      "INFO:nibabel.global:pixdim[0] (qfac) should be 1 (default) or -1; setting qfac to 1\n"
     ]
    },
    {
     "name": "stdout",
     "output_type": "stream",
     "text": [
      "BBOXES: torch.Size([35, 4])\n",
      "X shape before feeder torch.Size([35, 1, 1, 512, 512])\n",
      "T shape before feeder torch.Size([35, 1, 512, 512])\n",
      "X shape after feeder torch.Size([35, 1, 16, 16])\n",
      "T shape after feeder torch.Size([35, 1, 16, 16])\n",
      "X SHAPE torch.Size([35, 1, 256])\n",
      "T SHAPE torch.Size([35, 1, 256])\n"
     ]
    },
    {
     "name": "stderr",
     "output_type": "stream",
     "text": [
      "pixdim[0] (qfac) should be 1 (default) or -1; setting qfac to 1\n",
      "INFO:nibabel.global:pixdim[0] (qfac) should be 1 (default) or -1; setting qfac to 1\n",
      "pixdim[0] (qfac) should be 1 (default) or -1; setting qfac to 1\n",
      "INFO:nibabel.global:pixdim[0] (qfac) should be 1 (default) or -1; setting qfac to 1\n"
     ]
    },
    {
     "name": "stdout",
     "output_type": "stream",
     "text": [
      "BBOXES: torch.Size([35, 4])\n",
      "X shape before feeder torch.Size([35, 1, 1, 512, 512])\n",
      "T shape before feeder torch.Size([35, 1, 512, 512])\n",
      "X shape after feeder torch.Size([35, 1, 16, 16])\n",
      "T shape after feeder torch.Size([35, 1, 16, 16])\n",
      "X SHAPE torch.Size([35, 1, 256])\n",
      "T SHAPE torch.Size([35, 1, 256])\n"
     ]
    },
    {
     "name": "stderr",
     "output_type": "stream",
     "text": [
      "pixdim[0] (qfac) should be 1 (default) or -1; setting qfac to 1\n",
      "INFO:nibabel.global:pixdim[0] (qfac) should be 1 (default) or -1; setting qfac to 1\n",
      "pixdim[0] (qfac) should be 1 (default) or -1; setting qfac to 1\n",
      "INFO:nibabel.global:pixdim[0] (qfac) should be 1 (default) or -1; setting qfac to 1\n"
     ]
    },
    {
     "name": "stdout",
     "output_type": "stream",
     "text": [
      "BBOXES: torch.Size([35, 4])\n",
      "X shape before feeder torch.Size([35, 1, 1, 512, 512])\n",
      "T shape before feeder torch.Size([35, 1, 512, 512])\n",
      "X shape after feeder torch.Size([35, 1, 16, 16])\n",
      "T shape after feeder torch.Size([35, 1, 16, 16])\n",
      "X SHAPE torch.Size([35, 1, 256])\n",
      "T SHAPE torch.Size([35, 1, 256])\n"
     ]
    },
    {
     "name": "stderr",
     "output_type": "stream",
     "text": [
      "pixdim[0] (qfac) should be 1 (default) or -1; setting qfac to 1\n",
      "INFO:nibabel.global:pixdim[0] (qfac) should be 1 (default) or -1; setting qfac to 1\n",
      "pixdim[0] (qfac) should be 1 (default) or -1; setting qfac to 1\n",
      "INFO:nibabel.global:pixdim[0] (qfac) should be 1 (default) or -1; setting qfac to 1\n"
     ]
    },
    {
     "name": "stdout",
     "output_type": "stream",
     "text": [
      "BBOXES: torch.Size([35, 4])\n",
      "X shape before feeder torch.Size([35, 1, 1, 512, 512])\n",
      "T shape before feeder torch.Size([35, 1, 512, 512])\n",
      "X shape after feeder torch.Size([35, 1, 16, 16])\n",
      "T shape after feeder torch.Size([35, 1, 16, 16])\n",
      "X SHAPE torch.Size([35, 1, 256])\n",
      "T SHAPE torch.Size([35, 1, 256])\n"
     ]
    },
    {
     "name": "stderr",
     "output_type": "stream",
     "text": [
      "pixdim[0] (qfac) should be 1 (default) or -1; setting qfac to 1\n",
      "INFO:nibabel.global:pixdim[0] (qfac) should be 1 (default) or -1; setting qfac to 1\n",
      "pixdim[0] (qfac) should be 1 (default) or -1; setting qfac to 1\n",
      "INFO:nibabel.global:pixdim[0] (qfac) should be 1 (default) or -1; setting qfac to 1\n",
      "pixdim[0] (qfac) should be 1 (default) or -1; setting qfac to 1\n",
      "INFO:nibabel.global:pixdim[0] (qfac) should be 1 (default) or -1; setting qfac to 1\n"
     ]
    },
    {
     "name": "stdout",
     "output_type": "stream",
     "text": [
      "BBOXES: torch.Size([35, 4])\n",
      "X shape before feeder torch.Size([35, 1, 1, 512, 512])\n",
      "T shape before feeder torch.Size([35, 1, 512, 512])\n",
      "X shape after feeder torch.Size([35, 1, 16, 16])\n",
      "T shape after feeder torch.Size([35, 1, 16, 16])\n",
      "X SHAPE torch.Size([35, 1, 256])\n",
      "T SHAPE torch.Size([35, 1, 256])\n"
     ]
    },
    {
     "name": "stderr",
     "output_type": "stream",
     "text": [
      "pixdim[0] (qfac) should be 1 (default) or -1; setting qfac to 1\n",
      "INFO:nibabel.global:pixdim[0] (qfac) should be 1 (default) or -1; setting qfac to 1\n",
      "pixdim[0] (qfac) should be 1 (default) or -1; setting qfac to 1\n",
      "INFO:nibabel.global:pixdim[0] (qfac) should be 1 (default) or -1; setting qfac to 1\n",
      "pixdim[0] (qfac) should be 1 (default) or -1; setting qfac to 1\n",
      "INFO:nibabel.global:pixdim[0] (qfac) should be 1 (default) or -1; setting qfac to 1\n"
     ]
    },
    {
     "name": "stdout",
     "output_type": "stream",
     "text": [
      "BBOXES: torch.Size([35, 4])\n",
      "X shape before feeder torch.Size([35, 1, 1, 512, 512])\n",
      "T shape before feeder torch.Size([35, 1, 512, 512])\n",
      "X shape after feeder torch.Size([35, 1, 16, 16])\n",
      "T shape after feeder torch.Size([35, 1, 16, 16])\n",
      "X SHAPE torch.Size([35, 1, 256])\n",
      "T SHAPE torch.Size([35, 1, 256])\n"
     ]
    },
    {
     "name": "stderr",
     "output_type": "stream",
     "text": [
      "pixdim[0] (qfac) should be 1 (default) or -1; setting qfac to 1\n",
      "INFO:nibabel.global:pixdim[0] (qfac) should be 1 (default) or -1; setting qfac to 1\n",
      "pixdim[0] (qfac) should be 1 (default) or -1; setting qfac to 1\n",
      "INFO:nibabel.global:pixdim[0] (qfac) should be 1 (default) or -1; setting qfac to 1\n"
     ]
    },
    {
     "name": "stdout",
     "output_type": "stream",
     "text": [
      "BBOXES: torch.Size([35, 4])\n",
      "X shape before feeder torch.Size([35, 1, 1, 512, 512])\n",
      "T shape before feeder torch.Size([35, 1, 512, 512])\n",
      "X shape after feeder torch.Size([35, 1, 16, 16])\n",
      "T shape after feeder torch.Size([35, 1, 16, 16])\n",
      "X SHAPE torch.Size([35, 1, 256])\n",
      "T SHAPE torch.Size([35, 1, 256])\n"
     ]
    },
    {
     "name": "stderr",
     "output_type": "stream",
     "text": [
      "pixdim[0] (qfac) should be 1 (default) or -1; setting qfac to 1\n",
      "INFO:nibabel.global:pixdim[0] (qfac) should be 1 (default) or -1; setting qfac to 1\n",
      "pixdim[0] (qfac) should be 1 (default) or -1; setting qfac to 1\n",
      "INFO:nibabel.global:pixdim[0] (qfac) should be 1 (default) or -1; setting qfac to 1\n"
     ]
    },
    {
     "name": "stdout",
     "output_type": "stream",
     "text": [
      "BBOXES: torch.Size([35, 4])\n",
      "X shape before feeder torch.Size([35, 1, 1, 512, 512])\n",
      "T shape before feeder torch.Size([35, 1, 512, 512])\n",
      "X shape after feeder torch.Size([35, 1, 16, 16])\n",
      "T shape after feeder torch.Size([35, 1, 16, 16])\n",
      "X SHAPE torch.Size([35, 1, 256])\n",
      "T SHAPE torch.Size([35, 1, 256])\n"
     ]
    },
    {
     "name": "stderr",
     "output_type": "stream",
     "text": [
      "pixdim[0] (qfac) should be 1 (default) or -1; setting qfac to 1\n",
      "INFO:nibabel.global:pixdim[0] (qfac) should be 1 (default) or -1; setting qfac to 1\n",
      "pixdim[0] (qfac) should be 1 (default) or -1; setting qfac to 1\n",
      "INFO:nibabel.global:pixdim[0] (qfac) should be 1 (default) or -1; setting qfac to 1\n"
     ]
    },
    {
     "name": "stdout",
     "output_type": "stream",
     "text": [
      "BBOXES: torch.Size([35, 4])\n",
      "X shape before feeder torch.Size([35, 1, 1, 512, 512])\n",
      "T shape before feeder torch.Size([35, 1, 512, 512])\n",
      "X shape after feeder torch.Size([35, 1, 16, 16])\n",
      "T shape after feeder torch.Size([35, 1, 16, 16])\n",
      "X SHAPE torch.Size([35, 1, 256])\n",
      "T SHAPE torch.Size([35, 1, 256])\n"
     ]
    },
    {
     "name": "stderr",
     "output_type": "stream",
     "text": [
      "pixdim[0] (qfac) should be 1 (default) or -1; setting qfac to 1\n",
      "INFO:nibabel.global:pixdim[0] (qfac) should be 1 (default) or -1; setting qfac to 1\n",
      "pixdim[0] (qfac) should be 1 (default) or -1; setting qfac to 1\n",
      "INFO:nibabel.global:pixdim[0] (qfac) should be 1 (default) or -1; setting qfac to 1\n",
      "pixdim[0] (qfac) should be 1 (default) or -1; setting qfac to 1\n"
     ]
    },
    {
     "name": "stdout",
     "output_type": "stream",
     "text": [
      "BBOXES: torch.Size([35, 4])\n",
      "X shape before feeder torch.Size([35, 1, 1, 512, 512])\n",
      "T shape before feeder torch.Size([35, 1, 512, 512])\n",
      "X shape after feeder torch.Size([35, 1, 16, 16])\n",
      "T shape after feeder torch.Size([35, 1, 16, 16])\n",
      "X SHAPE torch.Size([35, 1, 256])\n",
      "T SHAPE torch.Size([35, 1, 256])\n"
     ]
    },
    {
     "name": "stderr",
     "output_type": "stream",
     "text": [
      "INFO:nibabel.global:pixdim[0] (qfac) should be 1 (default) or -1; setting qfac to 1\n",
      "pixdim[0] (qfac) should be 1 (default) or -1; setting qfac to 1\n",
      "INFO:nibabel.global:pixdim[0] (qfac) should be 1 (default) or -1; setting qfac to 1\n",
      "pixdim[0] (qfac) should be 1 (default) or -1; setting qfac to 1\n",
      "INFO:nibabel.global:pixdim[0] (qfac) should be 1 (default) or -1; setting qfac to 1\n",
      "pixdim[0] (qfac) should be 1 (default) or -1; setting qfac to 1\n",
      "INFO:nibabel.global:pixdim[0] (qfac) should be 1 (default) or -1; setting qfac to 1\n"
     ]
    },
    {
     "name": "stdout",
     "output_type": "stream",
     "text": [
      "BBOXES: torch.Size([35, 4])\n",
      "X shape before feeder torch.Size([35, 1, 1, 512, 512])\n",
      "T shape before feeder torch.Size([35, 1, 512, 512])\n",
      "X shape after feeder torch.Size([35, 1, 16, 16])\n",
      "T shape after feeder torch.Size([35, 1, 16, 16])\n",
      "X SHAPE torch.Size([35, 1, 256])\n",
      "T SHAPE torch.Size([35, 1, 256])\n"
     ]
    },
    {
     "name": "stderr",
     "output_type": "stream",
     "text": [
      "pixdim[0] (qfac) should be 1 (default) or -1; setting qfac to 1\n",
      "INFO:nibabel.global:pixdim[0] (qfac) should be 1 (default) or -1; setting qfac to 1\n",
      "pixdim[0] (qfac) should be 1 (default) or -1; setting qfac to 1\n",
      "INFO:nibabel.global:pixdim[0] (qfac) should be 1 (default) or -1; setting qfac to 1\n"
     ]
    },
    {
     "name": "stdout",
     "output_type": "stream",
     "text": [
      "BBOXES: torch.Size([35, 4])\n",
      "X shape before feeder torch.Size([35, 1, 1, 512, 512])\n",
      "T shape before feeder torch.Size([35, 1, 512, 512])\n",
      "X shape after feeder torch.Size([35, 1, 16, 16])\n",
      "T shape after feeder torch.Size([35, 1, 16, 16])\n",
      "X SHAPE torch.Size([35, 1, 256])\n",
      "T SHAPE torch.Size([35, 1, 256])\n"
     ]
    },
    {
     "name": "stderr",
     "output_type": "stream",
     "text": [
      "pixdim[0] (qfac) should be 1 (default) or -1; setting qfac to 1\n",
      "INFO:nibabel.global:pixdim[0] (qfac) should be 1 (default) or -1; setting qfac to 1\n",
      "pixdim[0] (qfac) should be 1 (default) or -1; setting qfac to 1\n",
      "INFO:nibabel.global:pixdim[0] (qfac) should be 1 (default) or -1; setting qfac to 1\n"
     ]
    },
    {
     "name": "stdout",
     "output_type": "stream",
     "text": [
      "BBOXES: torch.Size([35, 4])\n",
      "X shape before feeder torch.Size([35, 1, 1, 512, 512])\n",
      "T shape before feeder torch.Size([35, 1, 512, 512])\n",
      "X shape after feeder torch.Size([35, 1, 16, 16])\n",
      "T shape after feeder torch.Size([35, 1, 16, 16])\n",
      "X SHAPE torch.Size([35, 1, 256])\n",
      "T SHAPE torch.Size([35, 1, 256])\n"
     ]
    },
    {
     "name": "stderr",
     "output_type": "stream",
     "text": [
      "pixdim[0] (qfac) should be 1 (default) or -1; setting qfac to 1\n",
      "INFO:nibabel.global:pixdim[0] (qfac) should be 1 (default) or -1; setting qfac to 1\n",
      "pixdim[0] (qfac) should be 1 (default) or -1; setting qfac to 1\n",
      "INFO:nibabel.global:pixdim[0] (qfac) should be 1 (default) or -1; setting qfac to 1\n"
     ]
    },
    {
     "name": "stdout",
     "output_type": "stream",
     "text": [
      "BBOXES: torch.Size([35, 4])\n",
      "X shape before feeder torch.Size([35, 1, 1, 512, 512])\n",
      "T shape before feeder torch.Size([35, 1, 512, 512])\n",
      "X shape after feeder torch.Size([35, 1, 16, 16])\n",
      "T shape after feeder torch.Size([35, 1, 16, 16])\n",
      "X SHAPE torch.Size([35, 1, 256])\n",
      "T SHAPE torch.Size([35, 1, 256])\n"
     ]
    },
    {
     "name": "stderr",
     "output_type": "stream",
     "text": [
      "pixdim[0] (qfac) should be 1 (default) or -1; setting qfac to 1\n",
      "INFO:nibabel.global:pixdim[0] (qfac) should be 1 (default) or -1; setting qfac to 1\n",
      "pixdim[0] (qfac) should be 1 (default) or -1; setting qfac to 1\n",
      "INFO:nibabel.global:pixdim[0] (qfac) should be 1 (default) or -1; setting qfac to 1\n",
      "pixdim[0] (qfac) should be 1 (default) or -1; setting qfac to 1\n"
     ]
    },
    {
     "name": "stdout",
     "output_type": "stream",
     "text": [
      "BBOXES: torch.Size([35, 4])\n",
      "X shape before feeder torch.Size([35, 1, 1, 512, 512])\n",
      "T shape before feeder torch.Size([35, 1, 512, 512])\n",
      "X shape after feeder torch.Size([35, 1, 16, 16])\n",
      "T shape after feeder torch.Size([35, 1, 16, 16])\n",
      "X SHAPE torch.Size([35, 1, 256])\n",
      "T SHAPE torch.Size([35, 1, 256])\n"
     ]
    },
    {
     "name": "stderr",
     "output_type": "stream",
     "text": [
      "INFO:nibabel.global:pixdim[0] (qfac) should be 1 (default) or -1; setting qfac to 1\n",
      "pixdim[0] (qfac) should be 1 (default) or -1; setting qfac to 1\n",
      "INFO:nibabel.global:pixdim[0] (qfac) should be 1 (default) or -1; setting qfac to 1\n",
      "pixdim[0] (qfac) should be 1 (default) or -1; setting qfac to 1\n",
      "INFO:nibabel.global:pixdim[0] (qfac) should be 1 (default) or -1; setting qfac to 1\n",
      "pixdim[0] (qfac) should be 1 (default) or -1; setting qfac to 1\n",
      "INFO:nibabel.global:pixdim[0] (qfac) should be 1 (default) or -1; setting qfac to 1\n"
     ]
    },
    {
     "name": "stdout",
     "output_type": "stream",
     "text": [
      "BBOXES: torch.Size([35, 4])\n",
      "X shape before feeder torch.Size([35, 1, 1, 512, 512])\n",
      "T shape before feeder torch.Size([35, 1, 512, 512])\n",
      "X shape after feeder torch.Size([35, 1, 16, 16])\n",
      "T shape after feeder torch.Size([35, 1, 16, 16])\n",
      "X SHAPE torch.Size([35, 1, 256])\n",
      "T SHAPE torch.Size([35, 1, 256])\n"
     ]
    },
    {
     "name": "stderr",
     "output_type": "stream",
     "text": [
      "pixdim[0] (qfac) should be 1 (default) or -1; setting qfac to 1\n",
      "INFO:nibabel.global:pixdim[0] (qfac) should be 1 (default) or -1; setting qfac to 1\n",
      "pixdim[0] (qfac) should be 1 (default) or -1; setting qfac to 1\n",
      "INFO:nibabel.global:pixdim[0] (qfac) should be 1 (default) or -1; setting qfac to 1\n"
     ]
    },
    {
     "name": "stdout",
     "output_type": "stream",
     "text": [
      "BBOXES: torch.Size([35, 4])\n",
      "X shape before feeder torch.Size([35, 1, 1, 512, 512])\n",
      "T shape before feeder torch.Size([35, 1, 512, 512])\n",
      "X shape after feeder torch.Size([35, 1, 16, 16])\n",
      "T shape after feeder torch.Size([35, 1, 16, 16])\n",
      "X SHAPE torch.Size([35, 1, 256])\n",
      "T SHAPE torch.Size([35, 1, 256])\n"
     ]
    },
    {
     "name": "stderr",
     "output_type": "stream",
     "text": [
      "pixdim[0] (qfac) should be 1 (default) or -1; setting qfac to 1\n",
      "INFO:nibabel.global:pixdim[0] (qfac) should be 1 (default) or -1; setting qfac to 1\n",
      "pixdim[0] (qfac) should be 1 (default) or -1; setting qfac to 1\n",
      "INFO:nibabel.global:pixdim[0] (qfac) should be 1 (default) or -1; setting qfac to 1\n"
     ]
    },
    {
     "name": "stdout",
     "output_type": "stream",
     "text": [
      "BBOXES: torch.Size([35, 4])\n",
      "X shape before feeder torch.Size([35, 1, 1, 512, 512])\n",
      "T shape before feeder torch.Size([35, 1, 512, 512])\n",
      "X shape after feeder torch.Size([35, 1, 16, 16])\n",
      "T shape after feeder torch.Size([35, 1, 16, 16])\n",
      "X SHAPE torch.Size([35, 1, 256])\n",
      "T SHAPE torch.Size([35, 1, 256])\n"
     ]
    },
    {
     "name": "stderr",
     "output_type": "stream",
     "text": [
      "pixdim[0] (qfac) should be 1 (default) or -1; setting qfac to 1\n",
      "INFO:nibabel.global:pixdim[0] (qfac) should be 1 (default) or -1; setting qfac to 1\n",
      "pixdim[0] (qfac) should be 1 (default) or -1; setting qfac to 1\n",
      "INFO:nibabel.global:pixdim[0] (qfac) should be 1 (default) or -1; setting qfac to 1\n"
     ]
    },
    {
     "name": "stdout",
     "output_type": "stream",
     "text": [
      "BBOXES: torch.Size([35, 4])\n",
      "X shape before feeder torch.Size([35, 1, 1, 512, 512])\n",
      "T shape before feeder torch.Size([35, 1, 512, 512])\n",
      "X shape after feeder torch.Size([35, 1, 16, 16])\n",
      "T shape after feeder torch.Size([35, 1, 16, 16])\n",
      "X SHAPE torch.Size([35, 1, 256])\n",
      "T SHAPE torch.Size([35, 1, 256])\n"
     ]
    },
    {
     "name": "stderr",
     "output_type": "stream",
     "text": [
      "pixdim[0] (qfac) should be 1 (default) or -1; setting qfac to 1\n",
      "INFO:nibabel.global:pixdim[0] (qfac) should be 1 (default) or -1; setting qfac to 1\n",
      "pixdim[0] (qfac) should be 1 (default) or -1; setting qfac to 1\n",
      "INFO:nibabel.global:pixdim[0] (qfac) should be 1 (default) or -1; setting qfac to 1\n"
     ]
    },
    {
     "name": "stdout",
     "output_type": "stream",
     "text": [
      "BBOXES: torch.Size([35, 4])\n",
      "X shape before feeder torch.Size([35, 1, 1, 512, 512])\n",
      "T shape before feeder torch.Size([35, 1, 512, 512])\n",
      "X shape after feeder torch.Size([35, 1, 16, 16])\n",
      "T shape after feeder torch.Size([35, 1, 16, 16])\n",
      "X SHAPE torch.Size([35, 1, 256])\n",
      "T SHAPE torch.Size([35, 1, 256])\n"
     ]
    },
    {
     "name": "stderr",
     "output_type": "stream",
     "text": [
      "pixdim[0] (qfac) should be 1 (default) or -1; setting qfac to 1\n",
      "INFO:nibabel.global:pixdim[0] (qfac) should be 1 (default) or -1; setting qfac to 1\n",
      "pixdim[0] (qfac) should be 1 (default) or -1; setting qfac to 1\n",
      "INFO:nibabel.global:pixdim[0] (qfac) should be 1 (default) or -1; setting qfac to 1\n"
     ]
    },
    {
     "name": "stdout",
     "output_type": "stream",
     "text": [
      "BBOXES: torch.Size([35, 4])\n",
      "X shape before feeder torch.Size([35, 1, 1, 512, 512])\n",
      "T shape before feeder torch.Size([35, 1, 512, 512])\n",
      "X shape after feeder torch.Size([35, 1, 16, 16])\n",
      "T shape after feeder torch.Size([35, 1, 16, 16])\n",
      "X SHAPE torch.Size([35, 1, 256])\n",
      "T SHAPE torch.Size([35, 1, 256])\n"
     ]
    },
    {
     "name": "stderr",
     "output_type": "stream",
     "text": [
      "pixdim[0] (qfac) should be 1 (default) or -1; setting qfac to 1\n",
      "INFO:nibabel.global:pixdim[0] (qfac) should be 1 (default) or -1; setting qfac to 1\n",
      "pixdim[0] (qfac) should be 1 (default) or -1; setting qfac to 1\n",
      "INFO:nibabel.global:pixdim[0] (qfac) should be 1 (default) or -1; setting qfac to 1\n"
     ]
    },
    {
     "name": "stdout",
     "output_type": "stream",
     "text": [
      "BBOXES: torch.Size([35, 4])\n",
      "X shape before feeder torch.Size([35, 1, 1, 512, 512])\n",
      "T shape before feeder torch.Size([35, 1, 512, 512])\n",
      "X shape after feeder torch.Size([35, 1, 16, 16])\n",
      "T shape after feeder torch.Size([35, 1, 16, 16])\n",
      "X SHAPE torch.Size([35, 1, 256])\n",
      "T SHAPE torch.Size([35, 1, 256])\n"
     ]
    },
    {
     "name": "stderr",
     "output_type": "stream",
     "text": [
      "pixdim[0] (qfac) should be 1 (default) or -1; setting qfac to 1\n",
      "INFO:nibabel.global:pixdim[0] (qfac) should be 1 (default) or -1; setting qfac to 1\n",
      "pixdim[0] (qfac) should be 1 (default) or -1; setting qfac to 1\n",
      "INFO:nibabel.global:pixdim[0] (qfac) should be 1 (default) or -1; setting qfac to 1\n"
     ]
    },
    {
     "name": "stdout",
     "output_type": "stream",
     "text": [
      "BBOXES: torch.Size([35, 4])\n",
      "X shape before feeder torch.Size([35, 1, 1, 512, 512])\n",
      "T shape before feeder torch.Size([35, 1, 512, 512])\n",
      "X shape after feeder torch.Size([35, 1, 16, 16])\n",
      "T shape after feeder torch.Size([35, 1, 16, 16])\n",
      "X SHAPE torch.Size([35, 1, 256])\n",
      "T SHAPE torch.Size([35, 1, 256])\n"
     ]
    },
    {
     "name": "stderr",
     "output_type": "stream",
     "text": [
      "pixdim[0] (qfac) should be 1 (default) or -1; setting qfac to 1\n",
      "INFO:nibabel.global:pixdim[0] (qfac) should be 1 (default) or -1; setting qfac to 1\n",
      "pixdim[0] (qfac) should be 1 (default) or -1; setting qfac to 1\n",
      "INFO:nibabel.global:pixdim[0] (qfac) should be 1 (default) or -1; setting qfac to 1\n"
     ]
    },
    {
     "name": "stdout",
     "output_type": "stream",
     "text": [
      "BBOXES: torch.Size([35, 4])\n",
      "X shape before feeder torch.Size([35, 1, 1, 512, 512])\n",
      "T shape before feeder torch.Size([35, 1, 512, 512])\n",
      "X shape after feeder torch.Size([35, 1, 16, 16])\n",
      "T shape after feeder torch.Size([35, 1, 16, 16])\n",
      "X SHAPE torch.Size([35, 1, 256])\n",
      "T SHAPE torch.Size([35, 1, 256])\n"
     ]
    },
    {
     "name": "stderr",
     "output_type": "stream",
     "text": [
      "pixdim[0] (qfac) should be 1 (default) or -1; setting qfac to 1\n",
      "INFO:nibabel.global:pixdim[0] (qfac) should be 1 (default) or -1; setting qfac to 1\n",
      "pixdim[0] (qfac) should be 1 (default) or -1; setting qfac to 1\n",
      "INFO:nibabel.global:pixdim[0] (qfac) should be 1 (default) or -1; setting qfac to 1\n"
     ]
    },
    {
     "name": "stdout",
     "output_type": "stream",
     "text": [
      "BBOXES: torch.Size([35, 4])\n",
      "X shape before feeder torch.Size([35, 1, 1, 512, 512])\n",
      "T shape before feeder torch.Size([35, 1, 512, 512])\n",
      "X shape after feeder torch.Size([35, 1, 16, 16])\n",
      "T shape after feeder torch.Size([35, 1, 16, 16])\n",
      "X SHAPE torch.Size([35, 1, 256])\n",
      "T SHAPE torch.Size([35, 1, 256])\n"
     ]
    },
    {
     "name": "stderr",
     "output_type": "stream",
     "text": [
      "pixdim[0] (qfac) should be 1 (default) or -1; setting qfac to 1\n",
      "INFO:nibabel.global:pixdim[0] (qfac) should be 1 (default) or -1; setting qfac to 1\n",
      "pixdim[0] (qfac) should be 1 (default) or -1; setting qfac to 1\n",
      "INFO:nibabel.global:pixdim[0] (qfac) should be 1 (default) or -1; setting qfac to 1\n"
     ]
    },
    {
     "name": "stdout",
     "output_type": "stream",
     "text": [
      "BBOXES: torch.Size([35, 4])\n",
      "X shape before feeder torch.Size([35, 1, 1, 512, 512])\n",
      "T shape before feeder torch.Size([35, 1, 512, 512])\n",
      "X shape after feeder torch.Size([35, 1, 16, 16])\n",
      "T shape after feeder torch.Size([35, 1, 16, 16])\n",
      "X SHAPE torch.Size([35, 1, 256])\n",
      "T SHAPE torch.Size([35, 1, 256])\n"
     ]
    },
    {
     "name": "stderr",
     "output_type": "stream",
     "text": [
      "pixdim[0] (qfac) should be 1 (default) or -1; setting qfac to 1\n",
      "INFO:nibabel.global:pixdim[0] (qfac) should be 1 (default) or -1; setting qfac to 1\n",
      "pixdim[0] (qfac) should be 1 (default) or -1; setting qfac to 1\n",
      "INFO:nibabel.global:pixdim[0] (qfac) should be 1 (default) or -1; setting qfac to 1\n"
     ]
    },
    {
     "name": "stdout",
     "output_type": "stream",
     "text": [
      "BBOXES: torch.Size([35, 4])\n",
      "X shape before feeder torch.Size([35, 1, 1, 512, 512])\n",
      "T shape before feeder torch.Size([35, 1, 512, 512])\n",
      "X shape after feeder torch.Size([35, 1, 16, 16])\n",
      "T shape after feeder torch.Size([35, 1, 16, 16])\n",
      "X SHAPE torch.Size([35, 1, 256])\n",
      "T SHAPE torch.Size([35, 1, 256])\n"
     ]
    },
    {
     "name": "stderr",
     "output_type": "stream",
     "text": [
      "pixdim[0] (qfac) should be 1 (default) or -1; setting qfac to 1\n",
      "INFO:nibabel.global:pixdim[0] (qfac) should be 1 (default) or -1; setting qfac to 1\n",
      "pixdim[0] (qfac) should be 1 (default) or -1; setting qfac to 1\n",
      "INFO:nibabel.global:pixdim[0] (qfac) should be 1 (default) or -1; setting qfac to 1\n"
     ]
    },
    {
     "name": "stdout",
     "output_type": "stream",
     "text": [
      "BBOXES: torch.Size([35, 4])\n",
      "X shape before feeder torch.Size([35, 1, 1, 512, 512])\n",
      "T shape before feeder torch.Size([35, 1, 512, 512])\n",
      "X shape after feeder torch.Size([35, 1, 16, 16])\n",
      "T shape after feeder torch.Size([35, 1, 16, 16])\n",
      "X SHAPE torch.Size([35, 1, 256])\n",
      "T SHAPE torch.Size([35, 1, 256])\n"
     ]
    },
    {
     "name": "stderr",
     "output_type": "stream",
     "text": [
      "pixdim[0] (qfac) should be 1 (default) or -1; setting qfac to 1\n",
      "INFO:nibabel.global:pixdim[0] (qfac) should be 1 (default) or -1; setting qfac to 1\n",
      "pixdim[0] (qfac) should be 1 (default) or -1; setting qfac to 1\n",
      "INFO:nibabel.global:pixdim[0] (qfac) should be 1 (default) or -1; setting qfac to 1\n"
     ]
    },
    {
     "name": "stdout",
     "output_type": "stream",
     "text": [
      "BBOXES: torch.Size([35, 4])\n",
      "X shape before feeder torch.Size([35, 1, 1, 512, 512])\n",
      "T shape before feeder torch.Size([35, 1, 512, 512])\n",
      "X shape after feeder torch.Size([35, 1, 16, 16])\n",
      "T shape after feeder torch.Size([35, 1, 16, 16])\n",
      "X SHAPE torch.Size([35, 1, 256])\n",
      "T SHAPE torch.Size([35, 1, 256])\n"
     ]
    },
    {
     "name": "stderr",
     "output_type": "stream",
     "text": [
      "pixdim[0] (qfac) should be 1 (default) or -1; setting qfac to 1\n",
      "INFO:nibabel.global:pixdim[0] (qfac) should be 1 (default) or -1; setting qfac to 1\n",
      "pixdim[0] (qfac) should be 1 (default) or -1; setting qfac to 1\n",
      "INFO:nibabel.global:pixdim[0] (qfac) should be 1 (default) or -1; setting qfac to 1\n"
     ]
    },
    {
     "name": "stdout",
     "output_type": "stream",
     "text": [
      "BBOXES: torch.Size([35, 4])\n",
      "X shape before feeder torch.Size([35, 1, 1, 512, 512])\n",
      "T shape before feeder torch.Size([35, 1, 512, 512])\n",
      "X shape after feeder torch.Size([35, 1, 16, 16])\n",
      "T shape after feeder torch.Size([35, 1, 16, 16])\n",
      "X SHAPE torch.Size([35, 1, 256])\n",
      "T SHAPE torch.Size([35, 1, 256])\n"
     ]
    },
    {
     "name": "stderr",
     "output_type": "stream",
     "text": [
      "pixdim[0] (qfac) should be 1 (default) or -1; setting qfac to 1\n",
      "INFO:nibabel.global:pixdim[0] (qfac) should be 1 (default) or -1; setting qfac to 1\n",
      "pixdim[0] (qfac) should be 1 (default) or -1; setting qfac to 1\n",
      "INFO:nibabel.global:pixdim[0] (qfac) should be 1 (default) or -1; setting qfac to 1\n"
     ]
    },
    {
     "name": "stdout",
     "output_type": "stream",
     "text": [
      "BBOXES: torch.Size([35, 4])\n",
      "X shape before feeder torch.Size([35, 1, 1, 512, 512])\n",
      "T shape before feeder torch.Size([35, 1, 512, 512])\n",
      "X shape after feeder torch.Size([35, 1, 16, 16])\n",
      "T shape after feeder torch.Size([35, 1, 16, 16])\n",
      "X SHAPE torch.Size([35, 1, 256])\n",
      "T SHAPE torch.Size([35, 1, 256])\n"
     ]
    },
    {
     "name": "stderr",
     "output_type": "stream",
     "text": [
      "pixdim[0] (qfac) should be 1 (default) or -1; setting qfac to 1\n",
      "INFO:nibabel.global:pixdim[0] (qfac) should be 1 (default) or -1; setting qfac to 1\n",
      "pixdim[0] (qfac) should be 1 (default) or -1; setting qfac to 1\n",
      "INFO:nibabel.global:pixdim[0] (qfac) should be 1 (default) or -1; setting qfac to 1\n"
     ]
    },
    {
     "name": "stdout",
     "output_type": "stream",
     "text": [
      "BBOXES: torch.Size([35, 4])\n",
      "X shape before feeder torch.Size([35, 1, 1, 512, 512])\n",
      "T shape before feeder torch.Size([35, 1, 512, 512])\n",
      "X shape after feeder torch.Size([35, 1, 16, 16])\n",
      "T shape after feeder torch.Size([35, 1, 16, 16])\n",
      "X SHAPE torch.Size([35, 1, 256])\n",
      "T SHAPE torch.Size([35, 1, 256])\n"
     ]
    },
    {
     "name": "stderr",
     "output_type": "stream",
     "text": [
      "pixdim[0] (qfac) should be 1 (default) or -1; setting qfac to 1\n",
      "INFO:nibabel.global:pixdim[0] (qfac) should be 1 (default) or -1; setting qfac to 1\n",
      "pixdim[0] (qfac) should be 1 (default) or -1; setting qfac to 1\n",
      "INFO:nibabel.global:pixdim[0] (qfac) should be 1 (default) or -1; setting qfac to 1\n"
     ]
    },
    {
     "name": "stdout",
     "output_type": "stream",
     "text": [
      "BBOXES: torch.Size([35, 4])\n",
      "X shape before feeder torch.Size([35, 1, 1, 512, 512])\n",
      "T shape before feeder torch.Size([35, 1, 512, 512])\n",
      "X shape after feeder torch.Size([35, 1, 16, 16])\n",
      "T shape after feeder torch.Size([35, 1, 16, 16])\n",
      "X SHAPE torch.Size([35, 1, 256])\n",
      "T SHAPE torch.Size([35, 1, 256])\n"
     ]
    },
    {
     "name": "stderr",
     "output_type": "stream",
     "text": [
      "pixdim[0] (qfac) should be 1 (default) or -1; setting qfac to 1\n",
      "INFO:nibabel.global:pixdim[0] (qfac) should be 1 (default) or -1; setting qfac to 1\n",
      "pixdim[0] (qfac) should be 1 (default) or -1; setting qfac to 1\n",
      "INFO:nibabel.global:pixdim[0] (qfac) should be 1 (default) or -1; setting qfac to 1\n"
     ]
    },
    {
     "name": "stdout",
     "output_type": "stream",
     "text": [
      "BBOXES: torch.Size([35, 4])\n",
      "X shape before feeder torch.Size([35, 1, 1, 512, 512])\n",
      "T shape before feeder torch.Size([35, 1, 512, 512])\n",
      "X shape after feeder torch.Size([35, 1, 16, 16])\n",
      "T shape after feeder torch.Size([35, 1, 16, 16])\n",
      "X SHAPE torch.Size([35, 1, 256])\n",
      "T SHAPE torch.Size([35, 1, 256])\n"
     ]
    },
    {
     "name": "stderr",
     "output_type": "stream",
     "text": [
      "pixdim[0] (qfac) should be 1 (default) or -1; setting qfac to 1\n",
      "INFO:nibabel.global:pixdim[0] (qfac) should be 1 (default) or -1; setting qfac to 1\n",
      "pixdim[0] (qfac) should be 1 (default) or -1; setting qfac to 1\n",
      "INFO:nibabel.global:pixdim[0] (qfac) should be 1 (default) or -1; setting qfac to 1\n"
     ]
    },
    {
     "name": "stdout",
     "output_type": "stream",
     "text": [
      "BBOXES: torch.Size([35, 4])\n",
      "X shape before feeder torch.Size([35, 1, 1, 512, 512])\n",
      "T shape before feeder torch.Size([35, 1, 512, 512])\n",
      "X shape after feeder torch.Size([35, 1, 16, 16])\n",
      "T shape after feeder torch.Size([35, 1, 16, 16])\n",
      "X SHAPE torch.Size([35, 1, 256])\n",
      "T SHAPE torch.Size([35, 1, 256])\n"
     ]
    },
    {
     "name": "stderr",
     "output_type": "stream",
     "text": [
      "pixdim[0] (qfac) should be 1 (default) or -1; setting qfac to 1\n",
      "INFO:nibabel.global:pixdim[0] (qfac) should be 1 (default) or -1; setting qfac to 1\n",
      "pixdim[0] (qfac) should be 1 (default) or -1; setting qfac to 1\n",
      "INFO:nibabel.global:pixdim[0] (qfac) should be 1 (default) or -1; setting qfac to 1\n"
     ]
    },
    {
     "name": "stdout",
     "output_type": "stream",
     "text": [
      "BBOXES: torch.Size([35, 4])\n",
      "X shape before feeder torch.Size([35, 1, 1, 512, 512])\n",
      "T shape before feeder torch.Size([35, 1, 512, 512])\n",
      "X shape after feeder torch.Size([35, 1, 16, 16])\n",
      "T shape after feeder torch.Size([35, 1, 16, 16])\n",
      "X SHAPE torch.Size([35, 1, 256])\n",
      "T SHAPE torch.Size([35, 1, 256])\n"
     ]
    },
    {
     "name": "stderr",
     "output_type": "stream",
     "text": [
      "pixdim[0] (qfac) should be 1 (default) or -1; setting qfac to 1\n",
      "INFO:nibabel.global:pixdim[0] (qfac) should be 1 (default) or -1; setting qfac to 1\n",
      "pixdim[0] (qfac) should be 1 (default) or -1; setting qfac to 1\n",
      "INFO:nibabel.global:pixdim[0] (qfac) should be 1 (default) or -1; setting qfac to 1\n"
     ]
    },
    {
     "name": "stdout",
     "output_type": "stream",
     "text": [
      "BBOXES: torch.Size([35, 4])\n",
      "X shape before feeder torch.Size([35, 1, 1, 512, 512])\n",
      "T shape before feeder torch.Size([35, 1, 512, 512])\n",
      "X shape after feeder torch.Size([35, 1, 16, 16])\n",
      "T shape after feeder torch.Size([35, 1, 16, 16])\n",
      "X SHAPE torch.Size([35, 1, 256])\n",
      "T SHAPE torch.Size([35, 1, 256])\n"
     ]
    },
    {
     "name": "stderr",
     "output_type": "stream",
     "text": [
      "pixdim[0] (qfac) should be 1 (default) or -1; setting qfac to 1\n",
      "INFO:nibabel.global:pixdim[0] (qfac) should be 1 (default) or -1; setting qfac to 1\n",
      "pixdim[0] (qfac) should be 1 (default) or -1; setting qfac to 1\n",
      "INFO:nibabel.global:pixdim[0] (qfac) should be 1 (default) or -1; setting qfac to 1\n",
      "pixdim[0] (qfac) should be 1 (default) or -1; setting qfac to 1\n",
      "INFO:nibabel.global:pixdim[0] (qfac) should be 1 (default) or -1; setting qfac to 1\n"
     ]
    },
    {
     "name": "stdout",
     "output_type": "stream",
     "text": [
      "BBOXES: torch.Size([35, 4])\n",
      "X shape before feeder torch.Size([35, 1, 1, 512, 512])\n",
      "T shape before feeder torch.Size([35, 1, 512, 512])\n",
      "X shape after feeder torch.Size([35, 1, 16, 16])\n",
      "T shape after feeder torch.Size([35, 1, 16, 16])\n",
      "X SHAPE torch.Size([35, 1, 256])\n",
      "T SHAPE torch.Size([35, 1, 256])\n"
     ]
    },
    {
     "name": "stderr",
     "output_type": "stream",
     "text": [
      "pixdim[0] (qfac) should be 1 (default) or -1; setting qfac to 1\n",
      "INFO:nibabel.global:pixdim[0] (qfac) should be 1 (default) or -1; setting qfac to 1\n",
      "pixdim[0] (qfac) should be 1 (default) or -1; setting qfac to 1\n",
      "INFO:nibabel.global:pixdim[0] (qfac) should be 1 (default) or -1; setting qfac to 1\n",
      "pixdim[0] (qfac) should be 1 (default) or -1; setting qfac to 1\n",
      "INFO:nibabel.global:pixdim[0] (qfac) should be 1 (default) or -1; setting qfac to 1\n"
     ]
    },
    {
     "name": "stdout",
     "output_type": "stream",
     "text": [
      "BBOXES: torch.Size([35, 4])\n",
      "X shape before feeder torch.Size([35, 1, 1, 512, 512])\n",
      "T shape before feeder torch.Size([35, 1, 512, 512])\n",
      "X shape after feeder torch.Size([35, 1, 16, 16])\n",
      "T shape after feeder torch.Size([35, 1, 16, 16])\n",
      "X SHAPE torch.Size([35, 1, 256])\n",
      "T SHAPE torch.Size([35, 1, 256])\n"
     ]
    },
    {
     "name": "stderr",
     "output_type": "stream",
     "text": [
      "pixdim[0] (qfac) should be 1 (default) or -1; setting qfac to 1\n",
      "INFO:nibabel.global:pixdim[0] (qfac) should be 1 (default) or -1; setting qfac to 1\n",
      "pixdim[0] (qfac) should be 1 (default) or -1; setting qfac to 1\n",
      "INFO:nibabel.global:pixdim[0] (qfac) should be 1 (default) or -1; setting qfac to 1\n"
     ]
    },
    {
     "name": "stdout",
     "output_type": "stream",
     "text": [
      "BBOXES: torch.Size([35, 4])\n",
      "X shape before feeder torch.Size([35, 1, 1, 512, 512])\n",
      "T shape before feeder torch.Size([35, 1, 512, 512])\n",
      "X shape after feeder torch.Size([35, 1, 16, 16])\n",
      "T shape after feeder torch.Size([35, 1, 16, 16])\n",
      "X SHAPE torch.Size([35, 1, 256])\n",
      "T SHAPE torch.Size([35, 1, 256])\n"
     ]
    },
    {
     "name": "stderr",
     "output_type": "stream",
     "text": [
      "pixdim[0] (qfac) should be 1 (default) or -1; setting qfac to 1\n",
      "INFO:nibabel.global:pixdim[0] (qfac) should be 1 (default) or -1; setting qfac to 1\n",
      "pixdim[0] (qfac) should be 1 (default) or -1; setting qfac to 1\n",
      "INFO:nibabel.global:pixdim[0] (qfac) should be 1 (default) or -1; setting qfac to 1\n"
     ]
    },
    {
     "name": "stdout",
     "output_type": "stream",
     "text": [
      "BBOXES: torch.Size([35, 4])\n",
      "X shape before feeder torch.Size([35, 1, 1, 512, 512])\n",
      "T shape before feeder torch.Size([35, 1, 512, 512])\n",
      "X shape after feeder torch.Size([35, 1, 16, 16])\n",
      "T shape after feeder torch.Size([35, 1, 16, 16])\n",
      "X SHAPE torch.Size([35, 1, 256])\n",
      "T SHAPE torch.Size([35, 1, 256])\n"
     ]
    },
    {
     "name": "stderr",
     "output_type": "stream",
     "text": [
      "pixdim[0] (qfac) should be 1 (default) or -1; setting qfac to 1\n",
      "INFO:nibabel.global:pixdim[0] (qfac) should be 1 (default) or -1; setting qfac to 1\n",
      "pixdim[0] (qfac) should be 1 (default) or -1; setting qfac to 1\n",
      "INFO:nibabel.global:pixdim[0] (qfac) should be 1 (default) or -1; setting qfac to 1\n"
     ]
    },
    {
     "name": "stdout",
     "output_type": "stream",
     "text": [
      "BBOXES: torch.Size([35, 4])\n",
      "X shape before feeder torch.Size([35, 1, 1, 512, 512])\n",
      "T shape before feeder torch.Size([35, 1, 512, 512])\n",
      "X shape after feeder torch.Size([35, 1, 16, 16])\n",
      "T shape after feeder torch.Size([35, 1, 16, 16])\n",
      "X SHAPE torch.Size([35, 1, 256])\n",
      "T SHAPE torch.Size([35, 1, 256])\n"
     ]
    },
    {
     "name": "stderr",
     "output_type": "stream",
     "text": [
      "pixdim[0] (qfac) should be 1 (default) or -1; setting qfac to 1\n",
      "INFO:nibabel.global:pixdim[0] (qfac) should be 1 (default) or -1; setting qfac to 1\n",
      "pixdim[0] (qfac) should be 1 (default) or -1; setting qfac to 1\n",
      "INFO:nibabel.global:pixdim[0] (qfac) should be 1 (default) or -1; setting qfac to 1\n"
     ]
    },
    {
     "name": "stdout",
     "output_type": "stream",
     "text": [
      "BBOXES: torch.Size([35, 4])\n",
      "X shape before feeder torch.Size([35, 1, 1, 512, 512])\n",
      "T shape before feeder torch.Size([35, 1, 512, 512])\n",
      "X shape after feeder torch.Size([35, 1, 16, 16])\n",
      "T shape after feeder torch.Size([35, 1, 16, 16])\n",
      "X SHAPE torch.Size([35, 1, 256])\n",
      "T SHAPE torch.Size([35, 1, 256])\n"
     ]
    },
    {
     "name": "stderr",
     "output_type": "stream",
     "text": [
      "pixdim[0] (qfac) should be 1 (default) or -1; setting qfac to 1\n",
      "INFO:nibabel.global:pixdim[0] (qfac) should be 1 (default) or -1; setting qfac to 1\n",
      "pixdim[0] (qfac) should be 1 (default) or -1; setting qfac to 1\n",
      "INFO:nibabel.global:pixdim[0] (qfac) should be 1 (default) or -1; setting qfac to 1\n"
     ]
    },
    {
     "name": "stdout",
     "output_type": "stream",
     "text": [
      "BBOXES: torch.Size([35, 4])\n",
      "X shape before feeder torch.Size([35, 1, 1, 512, 512])\n",
      "T shape before feeder torch.Size([35, 1, 512, 512])\n",
      "X shape after feeder torch.Size([35, 1, 16, 16])\n",
      "T shape after feeder torch.Size([35, 1, 16, 16])\n",
      "X SHAPE torch.Size([35, 1, 256])\n",
      "T SHAPE torch.Size([35, 1, 256])\n"
     ]
    },
    {
     "name": "stderr",
     "output_type": "stream",
     "text": [
      "pixdim[0] (qfac) should be 1 (default) or -1; setting qfac to 1\n",
      "INFO:nibabel.global:pixdim[0] (qfac) should be 1 (default) or -1; setting qfac to 1\n",
      "pixdim[0] (qfac) should be 1 (default) or -1; setting qfac to 1\n",
      "INFO:nibabel.global:pixdim[0] (qfac) should be 1 (default) or -1; setting qfac to 1\n"
     ]
    },
    {
     "name": "stdout",
     "output_type": "stream",
     "text": [
      "BBOXES: torch.Size([35, 4])\n",
      "X shape before feeder torch.Size([35, 1, 1, 512, 512])\n",
      "T shape before feeder torch.Size([35, 1, 512, 512])\n",
      "X shape after feeder torch.Size([35, 1, 16, 16])\n",
      "T shape after feeder torch.Size([35, 1, 16, 16])\n",
      "X SHAPE torch.Size([35, 1, 256])\n",
      "T SHAPE torch.Size([35, 1, 256])\n"
     ]
    },
    {
     "name": "stderr",
     "output_type": "stream",
     "text": [
      "pixdim[0] (qfac) should be 1 (default) or -1; setting qfac to 1\n",
      "INFO:nibabel.global:pixdim[0] (qfac) should be 1 (default) or -1; setting qfac to 1\n",
      "pixdim[0] (qfac) should be 1 (default) or -1; setting qfac to 1\n",
      "INFO:nibabel.global:pixdim[0] (qfac) should be 1 (default) or -1; setting qfac to 1\n"
     ]
    },
    {
     "name": "stdout",
     "output_type": "stream",
     "text": [
      "BBOXES: torch.Size([35, 4])\n",
      "X shape before feeder torch.Size([35, 1, 1, 512, 512])\n",
      "T shape before feeder torch.Size([35, 1, 512, 512])\n",
      "X shape after feeder torch.Size([35, 1, 16, 16])\n",
      "T shape after feeder torch.Size([35, 1, 16, 16])\n",
      "X SHAPE torch.Size([35, 1, 256])\n",
      "T SHAPE torch.Size([35, 1, 256])\n"
     ]
    },
    {
     "name": "stderr",
     "output_type": "stream",
     "text": [
      "pixdim[0] (qfac) should be 1 (default) or -1; setting qfac to 1\n",
      "INFO:nibabel.global:pixdim[0] (qfac) should be 1 (default) or -1; setting qfac to 1\n",
      "pixdim[0] (qfac) should be 1 (default) or -1; setting qfac to 1\n",
      "INFO:nibabel.global:pixdim[0] (qfac) should be 1 (default) or -1; setting qfac to 1\n"
     ]
    },
    {
     "name": "stdout",
     "output_type": "stream",
     "text": [
      "BBOXES: torch.Size([35, 4])\n",
      "X shape before feeder torch.Size([35, 1, 1, 512, 512])\n",
      "T shape before feeder torch.Size([35, 1, 512, 512])\n",
      "X shape after feeder torch.Size([35, 1, 16, 16])\n",
      "T shape after feeder torch.Size([35, 1, 16, 16])\n",
      "X SHAPE torch.Size([35, 1, 256])\n",
      "T SHAPE torch.Size([35, 1, 256])\n"
     ]
    },
    {
     "name": "stderr",
     "output_type": "stream",
     "text": [
      "pixdim[0] (qfac) should be 1 (default) or -1; setting qfac to 1\n",
      "INFO:nibabel.global:pixdim[0] (qfac) should be 1 (default) or -1; setting qfac to 1\n",
      "pixdim[0] (qfac) should be 1 (default) or -1; setting qfac to 1\n",
      "INFO:nibabel.global:pixdim[0] (qfac) should be 1 (default) or -1; setting qfac to 1\n"
     ]
    },
    {
     "name": "stdout",
     "output_type": "stream",
     "text": [
      "BBOXES: torch.Size([35, 4])\n",
      "X shape before feeder torch.Size([35, 1, 1, 512, 512])\n",
      "T shape before feeder torch.Size([35, 1, 512, 512])\n",
      "X shape after feeder torch.Size([35, 1, 16, 16])\n",
      "T shape after feeder torch.Size([35, 1, 16, 16])\n",
      "X SHAPE torch.Size([35, 1, 256])\n",
      "T SHAPE torch.Size([35, 1, 256])\n"
     ]
    },
    {
     "name": "stderr",
     "output_type": "stream",
     "text": [
      "pixdim[0] (qfac) should be 1 (default) or -1; setting qfac to 1\n",
      "INFO:nibabel.global:pixdim[0] (qfac) should be 1 (default) or -1; setting qfac to 1\n",
      "pixdim[0] (qfac) should be 1 (default) or -1; setting qfac to 1\n",
      "INFO:nibabel.global:pixdim[0] (qfac) should be 1 (default) or -1; setting qfac to 1\n",
      "pixdim[0] (qfac) should be 1 (default) or -1; setting qfac to 1\n",
      "INFO:nibabel.global:pixdim[0] (qfac) should be 1 (default) or -1; setting qfac to 1\n"
     ]
    },
    {
     "name": "stdout",
     "output_type": "stream",
     "text": [
      "BBOXES: torch.Size([35, 4])\n",
      "X shape before feeder torch.Size([35, 1, 1, 512, 512])\n",
      "T shape before feeder torch.Size([35, 1, 512, 512])\n",
      "X shape after feeder torch.Size([35, 1, 16, 16])\n",
      "T shape after feeder torch.Size([35, 1, 16, 16])\n",
      "X SHAPE torch.Size([35, 1, 256])\n",
      "T SHAPE torch.Size([35, 1, 256])\n"
     ]
    },
    {
     "name": "stderr",
     "output_type": "stream",
     "text": [
      "pixdim[0] (qfac) should be 1 (default) or -1; setting qfac to 1\n",
      "INFO:nibabel.global:pixdim[0] (qfac) should be 1 (default) or -1; setting qfac to 1\n",
      "pixdim[0] (qfac) should be 1 (default) or -1; setting qfac to 1\n",
      "INFO:nibabel.global:pixdim[0] (qfac) should be 1 (default) or -1; setting qfac to 1\n",
      "pixdim[0] (qfac) should be 1 (default) or -1; setting qfac to 1\n",
      "INFO:nibabel.global:pixdim[0] (qfac) should be 1 (default) or -1; setting qfac to 1\n"
     ]
    },
    {
     "name": "stdout",
     "output_type": "stream",
     "text": [
      "BBOXES: torch.Size([35, 4])\n",
      "X shape before feeder torch.Size([35, 1, 1, 512, 512])\n",
      "T shape before feeder torch.Size([35, 1, 512, 512])\n",
      "X shape after feeder torch.Size([35, 1, 16, 16])\n",
      "T shape after feeder torch.Size([35, 1, 16, 16])\n",
      "X SHAPE torch.Size([35, 1, 256])\n",
      "T SHAPE torch.Size([35, 1, 256])\n"
     ]
    },
    {
     "name": "stderr",
     "output_type": "stream",
     "text": [
      "pixdim[0] (qfac) should be 1 (default) or -1; setting qfac to 1\n",
      "INFO:nibabel.global:pixdim[0] (qfac) should be 1 (default) or -1; setting qfac to 1\n",
      "pixdim[0] (qfac) should be 1 (default) or -1; setting qfac to 1\n",
      "INFO:nibabel.global:pixdim[0] (qfac) should be 1 (default) or -1; setting qfac to 1\n"
     ]
    },
    {
     "name": "stdout",
     "output_type": "stream",
     "text": [
      "BBOXES: torch.Size([35, 4])\n",
      "X shape before feeder torch.Size([35, 1, 1, 512, 512])\n",
      "T shape before feeder torch.Size([35, 1, 512, 512])\n",
      "X shape after feeder torch.Size([35, 1, 16, 16])\n",
      "T shape after feeder torch.Size([35, 1, 16, 16])\n",
      "X SHAPE torch.Size([35, 1, 256])\n",
      "T SHAPE torch.Size([35, 1, 256])\n"
     ]
    },
    {
     "name": "stderr",
     "output_type": "stream",
     "text": [
      "pixdim[0] (qfac) should be 1 (default) or -1; setting qfac to 1\n",
      "INFO:nibabel.global:pixdim[0] (qfac) should be 1 (default) or -1; setting qfac to 1\n",
      "pixdim[0] (qfac) should be 1 (default) or -1; setting qfac to 1\n",
      "INFO:nibabel.global:pixdim[0] (qfac) should be 1 (default) or -1; setting qfac to 1\n"
     ]
    },
    {
     "name": "stdout",
     "output_type": "stream",
     "text": [
      "BBOXES: torch.Size([35, 4])\n",
      "X shape before feeder torch.Size([35, 1, 1, 512, 512])\n",
      "T shape before feeder torch.Size([35, 1, 512, 512])\n",
      "X shape after feeder torch.Size([35, 1, 16, 16])\n",
      "T shape after feeder torch.Size([35, 1, 16, 16])\n",
      "X SHAPE torch.Size([35, 1, 256])\n",
      "T SHAPE torch.Size([35, 1, 256])\n"
     ]
    },
    {
     "name": "stderr",
     "output_type": "stream",
     "text": [
      "pixdim[0] (qfac) should be 1 (default) or -1; setting qfac to 1\n",
      "INFO:nibabel.global:pixdim[0] (qfac) should be 1 (default) or -1; setting qfac to 1\n",
      "pixdim[0] (qfac) should be 1 (default) or -1; setting qfac to 1\n",
      "INFO:nibabel.global:pixdim[0] (qfac) should be 1 (default) or -1; setting qfac to 1\n"
     ]
    },
    {
     "name": "stdout",
     "output_type": "stream",
     "text": [
      "BBOXES: torch.Size([35, 4])\n",
      "X shape before feeder torch.Size([35, 1, 1, 512, 512])\n",
      "T shape before feeder torch.Size([35, 1, 512, 512])\n",
      "X shape after feeder torch.Size([35, 1, 16, 16])\n",
      "T shape after feeder torch.Size([35, 1, 16, 16])\n",
      "X SHAPE torch.Size([35, 1, 256])\n",
      "T SHAPE torch.Size([35, 1, 256])\n"
     ]
    },
    {
     "name": "stderr",
     "output_type": "stream",
     "text": [
      "pixdim[0] (qfac) should be 1 (default) or -1; setting qfac to 1\n",
      "INFO:nibabel.global:pixdim[0] (qfac) should be 1 (default) or -1; setting qfac to 1\n",
      "pixdim[0] (qfac) should be 1 (default) or -1; setting qfac to 1\n",
      "INFO:nibabel.global:pixdim[0] (qfac) should be 1 (default) or -1; setting qfac to 1\n"
     ]
    },
    {
     "name": "stdout",
     "output_type": "stream",
     "text": [
      "BBOXES: torch.Size([35, 4])\n",
      "X shape before feeder torch.Size([35, 1, 1, 512, 512])\n",
      "T shape before feeder torch.Size([35, 1, 512, 512])\n",
      "X shape after feeder torch.Size([35, 1, 16, 16])\n",
      "T shape after feeder torch.Size([35, 1, 16, 16])\n",
      "X SHAPE torch.Size([35, 1, 256])\n",
      "T SHAPE torch.Size([35, 1, 256])\n"
     ]
    },
    {
     "name": "stderr",
     "output_type": "stream",
     "text": [
      "pixdim[0] (qfac) should be 1 (default) or -1; setting qfac to 1\n",
      "INFO:nibabel.global:pixdim[0] (qfac) should be 1 (default) or -1; setting qfac to 1\n",
      "pixdim[0] (qfac) should be 1 (default) or -1; setting qfac to 1\n",
      "INFO:nibabel.global:pixdim[0] (qfac) should be 1 (default) or -1; setting qfac to 1\n"
     ]
    },
    {
     "name": "stdout",
     "output_type": "stream",
     "text": [
      "BBOXES: torch.Size([35, 4])\n",
      "X shape before feeder torch.Size([35, 1, 1, 512, 512])\n",
      "T shape before feeder torch.Size([35, 1, 512, 512])\n",
      "X shape after feeder torch.Size([35, 1, 16, 16])\n",
      "T shape after feeder torch.Size([35, 1, 16, 16])\n",
      "X SHAPE torch.Size([35, 1, 256])\n",
      "T SHAPE torch.Size([35, 1, 256])\n"
     ]
    },
    {
     "name": "stderr",
     "output_type": "stream",
     "text": [
      "pixdim[0] (qfac) should be 1 (default) or -1; setting qfac to 1\n",
      "INFO:nibabel.global:pixdim[0] (qfac) should be 1 (default) or -1; setting qfac to 1\n",
      "pixdim[0] (qfac) should be 1 (default) or -1; setting qfac to 1\n",
      "INFO:nibabel.global:pixdim[0] (qfac) should be 1 (default) or -1; setting qfac to 1\n"
     ]
    },
    {
     "name": "stdout",
     "output_type": "stream",
     "text": [
      "BBOXES: torch.Size([35, 4])\n",
      "X shape before feeder torch.Size([35, 1, 1, 512, 512])\n",
      "T shape before feeder torch.Size([35, 1, 512, 512])\n",
      "X shape after feeder torch.Size([35, 1, 16, 16])\n",
      "T shape after feeder torch.Size([35, 1, 16, 16])\n",
      "X SHAPE torch.Size([35, 1, 256])\n",
      "T SHAPE torch.Size([35, 1, 256])\n"
     ]
    },
    {
     "name": "stderr",
     "output_type": "stream",
     "text": [
      "pixdim[0] (qfac) should be 1 (default) or -1; setting qfac to 1\n",
      "INFO:nibabel.global:pixdim[0] (qfac) should be 1 (default) or -1; setting qfac to 1\n",
      "pixdim[0] (qfac) should be 1 (default) or -1; setting qfac to 1\n",
      "INFO:nibabel.global:pixdim[0] (qfac) should be 1 (default) or -1; setting qfac to 1\n"
     ]
    },
    {
     "name": "stdout",
     "output_type": "stream",
     "text": [
      "BBOXES: torch.Size([35, 4])\n",
      "X shape before feeder torch.Size([35, 1, 1, 512, 512])\n",
      "T shape before feeder torch.Size([35, 1, 512, 512])\n",
      "X shape after feeder torch.Size([35, 1, 16, 16])\n",
      "T shape after feeder torch.Size([35, 1, 16, 16])\n",
      "X SHAPE torch.Size([35, 1, 256])\n",
      "T SHAPE torch.Size([35, 1, 256])\n"
     ]
    },
    {
     "name": "stderr",
     "output_type": "stream",
     "text": [
      "pixdim[0] (qfac) should be 1 (default) or -1; setting qfac to 1\n",
      "INFO:nibabel.global:pixdim[0] (qfac) should be 1 (default) or -1; setting qfac to 1\n",
      "pixdim[0] (qfac) should be 1 (default) or -1; setting qfac to 1\n",
      "INFO:nibabel.global:pixdim[0] (qfac) should be 1 (default) or -1; setting qfac to 1\n"
     ]
    },
    {
     "name": "stdout",
     "output_type": "stream",
     "text": [
      "BBOXES: torch.Size([35, 4])\n",
      "X shape before feeder torch.Size([35, 1, 1, 512, 512])\n",
      "T shape before feeder torch.Size([35, 1, 512, 512])\n",
      "X shape after feeder torch.Size([35, 1, 16, 16])\n",
      "T shape after feeder torch.Size([35, 1, 16, 16])\n",
      "X SHAPE torch.Size([35, 1, 256])\n",
      "T SHAPE torch.Size([35, 1, 256])\n"
     ]
    },
    {
     "name": "stderr",
     "output_type": "stream",
     "text": [
      "pixdim[0] (qfac) should be 1 (default) or -1; setting qfac to 1\n",
      "INFO:nibabel.global:pixdim[0] (qfac) should be 1 (default) or -1; setting qfac to 1\n",
      "pixdim[0] (qfac) should be 1 (default) or -1; setting qfac to 1\n",
      "INFO:nibabel.global:pixdim[0] (qfac) should be 1 (default) or -1; setting qfac to 1\n"
     ]
    },
    {
     "name": "stdout",
     "output_type": "stream",
     "text": [
      "BBOXES: torch.Size([35, 4])\n",
      "X shape before feeder torch.Size([35, 1, 1, 512, 512])\n",
      "T shape before feeder torch.Size([35, 1, 512, 512])\n",
      "X shape after feeder torch.Size([35, 1, 16, 16])\n",
      "T shape after feeder torch.Size([35, 1, 16, 16])\n",
      "X SHAPE torch.Size([35, 1, 256])\n",
      "T SHAPE torch.Size([35, 1, 256])\n"
     ]
    },
    {
     "name": "stderr",
     "output_type": "stream",
     "text": [
      "pixdim[0] (qfac) should be 1 (default) or -1; setting qfac to 1\n",
      "INFO:nibabel.global:pixdim[0] (qfac) should be 1 (default) or -1; setting qfac to 1\n",
      "pixdim[0] (qfac) should be 1 (default) or -1; setting qfac to 1\n",
      "INFO:nibabel.global:pixdim[0] (qfac) should be 1 (default) or -1; setting qfac to 1\n"
     ]
    },
    {
     "name": "stdout",
     "output_type": "stream",
     "text": [
      "BBOXES: torch.Size([35, 4])\n",
      "X shape before feeder torch.Size([35, 1, 1, 512, 512])\n",
      "T shape before feeder torch.Size([35, 1, 512, 512])\n",
      "X shape after feeder torch.Size([35, 1, 16, 16])\n",
      "T shape after feeder torch.Size([35, 1, 16, 16])\n",
      "X SHAPE torch.Size([35, 1, 256])\n",
      "T SHAPE torch.Size([35, 1, 256])\n"
     ]
    },
    {
     "name": "stderr",
     "output_type": "stream",
     "text": [
      "pixdim[0] (qfac) should be 1 (default) or -1; setting qfac to 1\n",
      "INFO:nibabel.global:pixdim[0] (qfac) should be 1 (default) or -1; setting qfac to 1\n",
      "pixdim[0] (qfac) should be 1 (default) or -1; setting qfac to 1\n",
      "INFO:nibabel.global:pixdim[0] (qfac) should be 1 (default) or -1; setting qfac to 1\n"
     ]
    },
    {
     "name": "stdout",
     "output_type": "stream",
     "text": [
      "BBOXES: torch.Size([35, 4])\n",
      "X shape before feeder torch.Size([35, 1, 1, 512, 512])\n",
      "T shape before feeder torch.Size([35, 1, 512, 512])\n",
      "X shape after feeder torch.Size([35, 1, 16, 16])\n",
      "T shape after feeder torch.Size([35, 1, 16, 16])\n",
      "X SHAPE torch.Size([35, 1, 256])\n",
      "T SHAPE torch.Size([35, 1, 256])\n"
     ]
    },
    {
     "name": "stderr",
     "output_type": "stream",
     "text": [
      "pixdim[0] (qfac) should be 1 (default) or -1; setting qfac to 1\n",
      "INFO:nibabel.global:pixdim[0] (qfac) should be 1 (default) or -1; setting qfac to 1\n",
      "pixdim[0] (qfac) should be 1 (default) or -1; setting qfac to 1\n",
      "INFO:nibabel.global:pixdim[0] (qfac) should be 1 (default) or -1; setting qfac to 1\n"
     ]
    },
    {
     "name": "stdout",
     "output_type": "stream",
     "text": [
      "BBOXES: torch.Size([35, 4])\n",
      "X shape before feeder torch.Size([35, 1, 1, 512, 512])\n",
      "T shape before feeder torch.Size([35, 1, 512, 512])\n",
      "X shape after feeder torch.Size([35, 1, 16, 16])\n",
      "T shape after feeder torch.Size([35, 1, 16, 16])\n",
      "X SHAPE torch.Size([35, 1, 256])\n",
      "T SHAPE torch.Size([35, 1, 256])\n"
     ]
    },
    {
     "name": "stderr",
     "output_type": "stream",
     "text": [
      "pixdim[0] (qfac) should be 1 (default) or -1; setting qfac to 1\n",
      "INFO:nibabel.global:pixdim[0] (qfac) should be 1 (default) or -1; setting qfac to 1\n",
      "pixdim[0] (qfac) should be 1 (default) or -1; setting qfac to 1\n",
      "INFO:nibabel.global:pixdim[0] (qfac) should be 1 (default) or -1; setting qfac to 1\n"
     ]
    },
    {
     "name": "stdout",
     "output_type": "stream",
     "text": [
      "BBOXES: torch.Size([35, 4])\n",
      "X shape before feeder torch.Size([35, 1, 1, 512, 512])\n",
      "T shape before feeder torch.Size([35, 1, 512, 512])\n",
      "X shape after feeder torch.Size([35, 1, 16, 16])\n",
      "T shape after feeder torch.Size([35, 1, 16, 16])\n",
      "X SHAPE torch.Size([35, 1, 256])\n",
      "T SHAPE torch.Size([35, 1, 256])\n"
     ]
    },
    {
     "name": "stderr",
     "output_type": "stream",
     "text": [
      "pixdim[0] (qfac) should be 1 (default) or -1; setting qfac to 1\n",
      "INFO:nibabel.global:pixdim[0] (qfac) should be 1 (default) or -1; setting qfac to 1\n",
      "pixdim[0] (qfac) should be 1 (default) or -1; setting qfac to 1\n",
      "INFO:nibabel.global:pixdim[0] (qfac) should be 1 (default) or -1; setting qfac to 1\n"
     ]
    },
    {
     "name": "stdout",
     "output_type": "stream",
     "text": [
      "BBOXES: torch.Size([35, 4])\n",
      "X shape before feeder torch.Size([35, 1, 1, 512, 512])\n",
      "T shape before feeder torch.Size([35, 1, 512, 512])\n",
      "X shape after feeder torch.Size([35, 1, 16, 16])\n",
      "T shape after feeder torch.Size([35, 1, 16, 16])\n",
      "X SHAPE torch.Size([35, 1, 256])\n",
      "T SHAPE torch.Size([35, 1, 256])\n"
     ]
    },
    {
     "name": "stderr",
     "output_type": "stream",
     "text": [
      "pixdim[0] (qfac) should be 1 (default) or -1; setting qfac to 1\n",
      "INFO:nibabel.global:pixdim[0] (qfac) should be 1 (default) or -1; setting qfac to 1\n",
      "pixdim[0] (qfac) should be 1 (default) or -1; setting qfac to 1\n",
      "INFO:nibabel.global:pixdim[0] (qfac) should be 1 (default) or -1; setting qfac to 1\n"
     ]
    },
    {
     "name": "stdout",
     "output_type": "stream",
     "text": [
      "BBOXES: torch.Size([35, 4])\n",
      "X shape before feeder torch.Size([35, 1, 1, 512, 512])\n",
      "T shape before feeder torch.Size([35, 1, 512, 512])\n",
      "X shape after feeder torch.Size([35, 1, 16, 16])\n",
      "T shape after feeder torch.Size([35, 1, 16, 16])\n",
      "X SHAPE torch.Size([35, 1, 256])\n",
      "T SHAPE torch.Size([35, 1, 256])\n"
     ]
    },
    {
     "name": "stderr",
     "output_type": "stream",
     "text": [
      "pixdim[0] (qfac) should be 1 (default) or -1; setting qfac to 1\n",
      "INFO:nibabel.global:pixdim[0] (qfac) should be 1 (default) or -1; setting qfac to 1\n",
      "pixdim[0] (qfac) should be 1 (default) or -1; setting qfac to 1\n",
      "INFO:nibabel.global:pixdim[0] (qfac) should be 1 (default) or -1; setting qfac to 1\n"
     ]
    },
    {
     "name": "stdout",
     "output_type": "stream",
     "text": [
      "BBOXES: torch.Size([35, 4])\n",
      "X shape before feeder torch.Size([35, 1, 1, 512, 512])\n",
      "T shape before feeder torch.Size([35, 1, 512, 512])\n",
      "X shape after feeder torch.Size([35, 1, 16, 16])\n",
      "T shape after feeder torch.Size([35, 1, 16, 16])\n",
      "X SHAPE torch.Size([35, 1, 256])\n",
      "T SHAPE torch.Size([35, 1, 256])\n"
     ]
    },
    {
     "name": "stderr",
     "output_type": "stream",
     "text": [
      "pixdim[0] (qfac) should be 1 (default) or -1; setting qfac to 1\n",
      "INFO:nibabel.global:pixdim[0] (qfac) should be 1 (default) or -1; setting qfac to 1\n",
      "pixdim[0] (qfac) should be 1 (default) or -1; setting qfac to 1\n",
      "INFO:nibabel.global:pixdim[0] (qfac) should be 1 (default) or -1; setting qfac to 1\n"
     ]
    },
    {
     "name": "stdout",
     "output_type": "stream",
     "text": [
      "BBOXES: torch.Size([35, 4])\n",
      "X shape before feeder torch.Size([35, 1, 1, 512, 512])\n",
      "T shape before feeder torch.Size([35, 1, 512, 512])\n",
      "X shape after feeder torch.Size([35, 1, 16, 16])\n",
      "T shape after feeder torch.Size([35, 1, 16, 16])\n",
      "X SHAPE torch.Size([35, 1, 256])\n",
      "T SHAPE torch.Size([35, 1, 256])\n"
     ]
    },
    {
     "name": "stderr",
     "output_type": "stream",
     "text": [
      "pixdim[0] (qfac) should be 1 (default) or -1; setting qfac to 1\n",
      "INFO:nibabel.global:pixdim[0] (qfac) should be 1 (default) or -1; setting qfac to 1\n",
      "pixdim[0] (qfac) should be 1 (default) or -1; setting qfac to 1\n",
      "INFO:nibabel.global:pixdim[0] (qfac) should be 1 (default) or -1; setting qfac to 1\n"
     ]
    },
    {
     "name": "stdout",
     "output_type": "stream",
     "text": [
      "BBOXES: torch.Size([35, 4])\n",
      "X shape before feeder torch.Size([35, 1, 1, 512, 512])\n",
      "T shape before feeder torch.Size([35, 1, 512, 512])\n",
      "X shape after feeder torch.Size([35, 1, 16, 16])\n",
      "T shape after feeder torch.Size([35, 1, 16, 16])\n",
      "X SHAPE torch.Size([35, 1, 256])\n",
      "T SHAPE torch.Size([35, 1, 256])\n"
     ]
    },
    {
     "name": "stderr",
     "output_type": "stream",
     "text": [
      "pixdim[0] (qfac) should be 1 (default) or -1; setting qfac to 1\n",
      "INFO:nibabel.global:pixdim[0] (qfac) should be 1 (default) or -1; setting qfac to 1\n",
      "pixdim[0] (qfac) should be 1 (default) or -1; setting qfac to 1\n",
      "INFO:nibabel.global:pixdim[0] (qfac) should be 1 (default) or -1; setting qfac to 1\n"
     ]
    },
    {
     "name": "stdout",
     "output_type": "stream",
     "text": [
      "BBOXES: torch.Size([35, 4])\n",
      "X shape before feeder torch.Size([35, 1, 1, 512, 512])\n",
      "T shape before feeder torch.Size([35, 1, 512, 512])\n",
      "X shape after feeder torch.Size([35, 1, 16, 16])\n",
      "T shape after feeder torch.Size([35, 1, 16, 16])\n",
      "X SHAPE torch.Size([35, 1, 256])\n",
      "T SHAPE torch.Size([35, 1, 256])\n"
     ]
    },
    {
     "name": "stderr",
     "output_type": "stream",
     "text": [
      "pixdim[0] (qfac) should be 1 (default) or -1; setting qfac to 1\n",
      "INFO:nibabel.global:pixdim[0] (qfac) should be 1 (default) or -1; setting qfac to 1\n",
      "pixdim[0] (qfac) should be 1 (default) or -1; setting qfac to 1\n",
      "INFO:nibabel.global:pixdim[0] (qfac) should be 1 (default) or -1; setting qfac to 1\n"
     ]
    },
    {
     "name": "stdout",
     "output_type": "stream",
     "text": [
      "BBOXES: torch.Size([35, 4])\n",
      "X shape before feeder torch.Size([35, 1, 1, 512, 512])\n",
      "T shape before feeder torch.Size([35, 1, 512, 512])\n",
      "X shape after feeder torch.Size([35, 1, 16, 16])\n",
      "T shape after feeder torch.Size([35, 1, 16, 16])\n",
      "X SHAPE torch.Size([35, 1, 256])\n",
      "T SHAPE torch.Size([35, 1, 256])\n"
     ]
    },
    {
     "name": "stderr",
     "output_type": "stream",
     "text": [
      "pixdim[0] (qfac) should be 1 (default) or -1; setting qfac to 1\n",
      "INFO:nibabel.global:pixdim[0] (qfac) should be 1 (default) or -1; setting qfac to 1\n",
      "pixdim[0] (qfac) should be 1 (default) or -1; setting qfac to 1\n",
      "INFO:nibabel.global:pixdim[0] (qfac) should be 1 (default) or -1; setting qfac to 1\n"
     ]
    },
    {
     "name": "stdout",
     "output_type": "stream",
     "text": [
      "BBOXES: torch.Size([35, 4])\n",
      "X shape before feeder torch.Size([35, 1, 1, 512, 512])\n",
      "T shape before feeder torch.Size([35, 1, 512, 512])\n",
      "X shape after feeder torch.Size([35, 1, 16, 16])\n",
      "T shape after feeder torch.Size([35, 1, 16, 16])\n",
      "X SHAPE torch.Size([35, 1, 256])\n",
      "T SHAPE torch.Size([35, 1, 256])\n"
     ]
    },
    {
     "name": "stderr",
     "output_type": "stream",
     "text": [
      "pixdim[0] (qfac) should be 1 (default) or -1; setting qfac to 1\n",
      "INFO:nibabel.global:pixdim[0] (qfac) should be 1 (default) or -1; setting qfac to 1\n",
      "pixdim[0] (qfac) should be 1 (default) or -1; setting qfac to 1\n",
      "INFO:nibabel.global:pixdim[0] (qfac) should be 1 (default) or -1; setting qfac to 1\n"
     ]
    },
    {
     "name": "stdout",
     "output_type": "stream",
     "text": [
      "BBOXES: torch.Size([35, 4])\n",
      "X shape before feeder torch.Size([35, 1, 1, 512, 512])\n",
      "T shape before feeder torch.Size([35, 1, 512, 512])\n",
      "X shape after feeder torch.Size([35, 1, 16, 16])\n",
      "T shape after feeder torch.Size([35, 1, 16, 16])\n",
      "X SHAPE torch.Size([35, 1, 256])\n",
      "T SHAPE torch.Size([35, 1, 256])\n"
     ]
    },
    {
     "name": "stderr",
     "output_type": "stream",
     "text": [
      "pixdim[0] (qfac) should be 1 (default) or -1; setting qfac to 1\n",
      "INFO:nibabel.global:pixdim[0] (qfac) should be 1 (default) or -1; setting qfac to 1\n",
      "pixdim[0] (qfac) should be 1 (default) or -1; setting qfac to 1\n",
      "INFO:nibabel.global:pixdim[0] (qfac) should be 1 (default) or -1; setting qfac to 1\n"
     ]
    },
    {
     "name": "stdout",
     "output_type": "stream",
     "text": [
      "BBOXES: torch.Size([35, 4])\n",
      "X shape before feeder torch.Size([35, 1, 1, 512, 512])\n",
      "T shape before feeder torch.Size([35, 1, 512, 512])\n",
      "X shape after feeder torch.Size([35, 1, 16, 16])\n",
      "T shape after feeder torch.Size([35, 1, 16, 16])\n",
      "X SHAPE torch.Size([35, 1, 256])\n",
      "T SHAPE torch.Size([35, 1, 256])\n"
     ]
    },
    {
     "name": "stderr",
     "output_type": "stream",
     "text": [
      "pixdim[0] (qfac) should be 1 (default) or -1; setting qfac to 1\n",
      "INFO:nibabel.global:pixdim[0] (qfac) should be 1 (default) or -1; setting qfac to 1\n",
      "pixdim[0] (qfac) should be 1 (default) or -1; setting qfac to 1\n",
      "INFO:nibabel.global:pixdim[0] (qfac) should be 1 (default) or -1; setting qfac to 1\n"
     ]
    },
    {
     "name": "stdout",
     "output_type": "stream",
     "text": [
      "BBOXES: torch.Size([35, 4])\n",
      "X shape before feeder torch.Size([35, 1, 1, 512, 512])\n",
      "T shape before feeder torch.Size([35, 1, 512, 512])\n",
      "X shape after feeder torch.Size([35, 1, 16, 16])\n",
      "T shape after feeder torch.Size([35, 1, 16, 16])\n",
      "X SHAPE torch.Size([35, 1, 256])\n",
      "T SHAPE torch.Size([35, 1, 256])\n"
     ]
    },
    {
     "name": "stderr",
     "output_type": "stream",
     "text": [
      "pixdim[0] (qfac) should be 1 (default) or -1; setting qfac to 1\n",
      "INFO:nibabel.global:pixdim[0] (qfac) should be 1 (default) or -1; setting qfac to 1\n",
      "pixdim[0] (qfac) should be 1 (default) or -1; setting qfac to 1\n",
      "INFO:nibabel.global:pixdim[0] (qfac) should be 1 (default) or -1; setting qfac to 1\n"
     ]
    },
    {
     "name": "stdout",
     "output_type": "stream",
     "text": [
      "BBOXES: torch.Size([35, 4])\n",
      "X shape before feeder torch.Size([35, 1, 1, 512, 512])\n",
      "T shape before feeder torch.Size([35, 1, 512, 512])\n",
      "X shape after feeder torch.Size([35, 1, 16, 16])\n",
      "T shape after feeder torch.Size([35, 1, 16, 16])\n",
      "X SHAPE torch.Size([35, 1, 256])\n",
      "T SHAPE torch.Size([35, 1, 256])\n"
     ]
    },
    {
     "name": "stderr",
     "output_type": "stream",
     "text": [
      "pixdim[0] (qfac) should be 1 (default) or -1; setting qfac to 1\n",
      "INFO:nibabel.global:pixdim[0] (qfac) should be 1 (default) or -1; setting qfac to 1\n",
      "pixdim[0] (qfac) should be 1 (default) or -1; setting qfac to 1\n",
      "INFO:nibabel.global:pixdim[0] (qfac) should be 1 (default) or -1; setting qfac to 1\n"
     ]
    },
    {
     "name": "stdout",
     "output_type": "stream",
     "text": [
      "BBOXES: torch.Size([35, 4])\n",
      "X shape before feeder torch.Size([35, 1, 1, 512, 512])\n",
      "T shape before feeder torch.Size([35, 1, 512, 512])\n",
      "X shape after feeder torch.Size([35, 1, 16, 16])\n",
      "T shape after feeder torch.Size([35, 1, 16, 16])\n",
      "X SHAPE torch.Size([35, 1, 256])\n",
      "T SHAPE torch.Size([35, 1, 256])\n"
     ]
    },
    {
     "name": "stderr",
     "output_type": "stream",
     "text": [
      "pixdim[0] (qfac) should be 1 (default) or -1; setting qfac to 1\n",
      "INFO:nibabel.global:pixdim[0] (qfac) should be 1 (default) or -1; setting qfac to 1\n",
      "pixdim[0] (qfac) should be 1 (default) or -1; setting qfac to 1\n",
      "INFO:nibabel.global:pixdim[0] (qfac) should be 1 (default) or -1; setting qfac to 1\n"
     ]
    },
    {
     "name": "stdout",
     "output_type": "stream",
     "text": [
      "BBOXES: torch.Size([35, 4])\n",
      "X shape before feeder torch.Size([35, 1, 1, 512, 512])\n",
      "T shape before feeder torch.Size([35, 1, 512, 512])\n",
      "X shape after feeder torch.Size([35, 1, 16, 16])\n",
      "T shape after feeder torch.Size([35, 1, 16, 16])\n",
      "X SHAPE torch.Size([35, 1, 256])\n",
      "T SHAPE torch.Size([35, 1, 256])\n"
     ]
    },
    {
     "name": "stderr",
     "output_type": "stream",
     "text": [
      "pixdim[0] (qfac) should be 1 (default) or -1; setting qfac to 1\n",
      "INFO:nibabel.global:pixdim[0] (qfac) should be 1 (default) or -1; setting qfac to 1\n",
      "pixdim[0] (qfac) should be 1 (default) or -1; setting qfac to 1\n",
      "INFO:nibabel.global:pixdim[0] (qfac) should be 1 (default) or -1; setting qfac to 1\n"
     ]
    },
    {
     "name": "stdout",
     "output_type": "stream",
     "text": [
      "BBOXES: torch.Size([35, 4])\n",
      "X shape before feeder torch.Size([35, 1, 1, 512, 512])\n",
      "T shape before feeder torch.Size([35, 1, 512, 512])\n",
      "X shape after feeder torch.Size([35, 1, 16, 16])\n",
      "T shape after feeder torch.Size([35, 1, 16, 16])\n",
      "X SHAPE torch.Size([35, 1, 256])\n",
      "T SHAPE torch.Size([35, 1, 256])\n"
     ]
    },
    {
     "name": "stderr",
     "output_type": "stream",
     "text": [
      "pixdim[0] (qfac) should be 1 (default) or -1; setting qfac to 1\n",
      "INFO:nibabel.global:pixdim[0] (qfac) should be 1 (default) or -1; setting qfac to 1\n",
      "pixdim[0] (qfac) should be 1 (default) or -1; setting qfac to 1\n",
      "INFO:nibabel.global:pixdim[0] (qfac) should be 1 (default) or -1; setting qfac to 1\n"
     ]
    },
    {
     "name": "stdout",
     "output_type": "stream",
     "text": [
      "BBOXES: torch.Size([35, 4])\n",
      "X shape before feeder torch.Size([35, 1, 1, 512, 512])\n",
      "T shape before feeder torch.Size([35, 1, 512, 512])\n",
      "X shape after feeder torch.Size([35, 1, 16, 16])\n",
      "T shape after feeder torch.Size([35, 1, 16, 16])\n",
      "X SHAPE torch.Size([35, 1, 256])\n",
      "T SHAPE torch.Size([35, 1, 256])\n"
     ]
    },
    {
     "name": "stderr",
     "output_type": "stream",
     "text": [
      "pixdim[0] (qfac) should be 1 (default) or -1; setting qfac to 1\n",
      "INFO:nibabel.global:pixdim[0] (qfac) should be 1 (default) or -1; setting qfac to 1\n",
      "pixdim[0] (qfac) should be 1 (default) or -1; setting qfac to 1\n",
      "INFO:nibabel.global:pixdim[0] (qfac) should be 1 (default) or -1; setting qfac to 1\n"
     ]
    },
    {
     "name": "stdout",
     "output_type": "stream",
     "text": [
      "BBOXES: torch.Size([35, 4])\n",
      "X shape before feeder torch.Size([35, 1, 1, 512, 512])\n",
      "T shape before feeder torch.Size([35, 1, 512, 512])\n",
      "X shape after feeder torch.Size([35, 1, 16, 16])\n",
      "T shape after feeder torch.Size([35, 1, 16, 16])\n",
      "X SHAPE torch.Size([35, 1, 256])\n",
      "T SHAPE torch.Size([35, 1, 256])\n"
     ]
    },
    {
     "name": "stderr",
     "output_type": "stream",
     "text": [
      "pixdim[0] (qfac) should be 1 (default) or -1; setting qfac to 1\n",
      "INFO:nibabel.global:pixdim[0] (qfac) should be 1 (default) or -1; setting qfac to 1\n",
      "pixdim[0] (qfac) should be 1 (default) or -1; setting qfac to 1\n",
      "INFO:nibabel.global:pixdim[0] (qfac) should be 1 (default) or -1; setting qfac to 1\n"
     ]
    },
    {
     "name": "stdout",
     "output_type": "stream",
     "text": [
      "BBOXES: torch.Size([35, 4])\n",
      "X shape before feeder torch.Size([35, 1, 1, 512, 512])\n",
      "T shape before feeder torch.Size([35, 1, 512, 512])\n",
      "X shape after feeder torch.Size([35, 1, 16, 16])\n",
      "T shape after feeder torch.Size([35, 1, 16, 16])\n",
      "X SHAPE torch.Size([35, 1, 256])\n",
      "T SHAPE torch.Size([35, 1, 256])\n"
     ]
    },
    {
     "name": "stderr",
     "output_type": "stream",
     "text": [
      "pixdim[0] (qfac) should be 1 (default) or -1; setting qfac to 1\n",
      "INFO:nibabel.global:pixdim[0] (qfac) should be 1 (default) or -1; setting qfac to 1\n",
      "pixdim[0] (qfac) should be 1 (default) or -1; setting qfac to 1\n",
      "INFO:nibabel.global:pixdim[0] (qfac) should be 1 (default) or -1; setting qfac to 1\n"
     ]
    },
    {
     "name": "stdout",
     "output_type": "stream",
     "text": [
      "BBOXES: torch.Size([35, 4])\n",
      "X shape before feeder torch.Size([35, 1, 1, 512, 512])\n",
      "T shape before feeder torch.Size([35, 1, 512, 512])\n",
      "X shape after feeder torch.Size([35, 1, 16, 16])\n",
      "T shape after feeder torch.Size([35, 1, 16, 16])\n",
      "X SHAPE torch.Size([35, 1, 256])\n",
      "T SHAPE torch.Size([35, 1, 256])\n"
     ]
    },
    {
     "name": "stderr",
     "output_type": "stream",
     "text": [
      "pixdim[0] (qfac) should be 1 (default) or -1; setting qfac to 1\n",
      "INFO:nibabel.global:pixdim[0] (qfac) should be 1 (default) or -1; setting qfac to 1\n",
      "pixdim[0] (qfac) should be 1 (default) or -1; setting qfac to 1\n",
      "INFO:nibabel.global:pixdim[0] (qfac) should be 1 (default) or -1; setting qfac to 1\n"
     ]
    },
    {
     "name": "stdout",
     "output_type": "stream",
     "text": [
      "BBOXES: torch.Size([35, 4])\n",
      "X shape before feeder torch.Size([35, 1, 1, 512, 512])\n",
      "T shape before feeder torch.Size([35, 1, 512, 512])\n",
      "X shape after feeder torch.Size([35, 1, 16, 16])\n",
      "T shape after feeder torch.Size([35, 1, 16, 16])\n",
      "X SHAPE torch.Size([35, 1, 256])\n",
      "T SHAPE torch.Size([35, 1, 256])\n"
     ]
    },
    {
     "name": "stderr",
     "output_type": "stream",
     "text": [
      "pixdim[0] (qfac) should be 1 (default) or -1; setting qfac to 1\n",
      "INFO:nibabel.global:pixdim[0] (qfac) should be 1 (default) or -1; setting qfac to 1\n",
      "pixdim[0] (qfac) should be 1 (default) or -1; setting qfac to 1\n",
      "INFO:nibabel.global:pixdim[0] (qfac) should be 1 (default) or -1; setting qfac to 1\n"
     ]
    },
    {
     "name": "stdout",
     "output_type": "stream",
     "text": [
      "BBOXES: torch.Size([35, 4])\n",
      "X shape before feeder torch.Size([35, 1, 1, 512, 512])\n",
      "T shape before feeder torch.Size([35, 1, 512, 512])\n",
      "X shape after feeder torch.Size([35, 1, 16, 16])\n",
      "T shape after feeder torch.Size([35, 1, 16, 16])\n",
      "X SHAPE torch.Size([35, 1, 256])\n",
      "T SHAPE torch.Size([35, 1, 256])\n"
     ]
    },
    {
     "name": "stderr",
     "output_type": "stream",
     "text": [
      "pixdim[0] (qfac) should be 1 (default) or -1; setting qfac to 1\n",
      "INFO:nibabel.global:pixdim[0] (qfac) should be 1 (default) or -1; setting qfac to 1\n",
      "pixdim[0] (qfac) should be 1 (default) or -1; setting qfac to 1\n",
      "INFO:nibabel.global:pixdim[0] (qfac) should be 1 (default) or -1; setting qfac to 1\n",
      "pixdim[0] (qfac) should be 1 (default) or -1; setting qfac to 1\n",
      "INFO:nibabel.global:pixdim[0] (qfac) should be 1 (default) or -1; setting qfac to 1\n"
     ]
    },
    {
     "name": "stdout",
     "output_type": "stream",
     "text": [
      "BBOXES: torch.Size([35, 4])\n",
      "X shape before feeder torch.Size([35, 1, 1, 512, 512])\n",
      "T shape before feeder torch.Size([35, 1, 512, 512])\n",
      "X shape after feeder torch.Size([35, 1, 16, 16])\n",
      "T shape after feeder torch.Size([35, 1, 16, 16])\n",
      "X SHAPE torch.Size([35, 1, 256])\n",
      "T SHAPE torch.Size([35, 1, 256])\n"
     ]
    },
    {
     "name": "stderr",
     "output_type": "stream",
     "text": [
      "pixdim[0] (qfac) should be 1 (default) or -1; setting qfac to 1\n",
      "INFO:nibabel.global:pixdim[0] (qfac) should be 1 (default) or -1; setting qfac to 1\n",
      "pixdim[0] (qfac) should be 1 (default) or -1; setting qfac to 1\n",
      "INFO:nibabel.global:pixdim[0] (qfac) should be 1 (default) or -1; setting qfac to 1\n",
      "pixdim[0] (qfac) should be 1 (default) or -1; setting qfac to 1\n",
      "INFO:nibabel.global:pixdim[0] (qfac) should be 1 (default) or -1; setting qfac to 1\n"
     ]
    },
    {
     "name": "stdout",
     "output_type": "stream",
     "text": [
      "BBOXES: torch.Size([35, 4])\n",
      "X shape before feeder torch.Size([35, 1, 1, 512, 512])\n",
      "T shape before feeder torch.Size([35, 1, 512, 512])\n",
      "X shape after feeder torch.Size([35, 1, 16, 16])\n",
      "T shape after feeder torch.Size([35, 1, 16, 16])\n",
      "X SHAPE torch.Size([35, 1, 256])\n",
      "T SHAPE torch.Size([35, 1, 256])\n"
     ]
    },
    {
     "name": "stderr",
     "output_type": "stream",
     "text": [
      "pixdim[0] (qfac) should be 1 (default) or -1; setting qfac to 1\n",
      "INFO:nibabel.global:pixdim[0] (qfac) should be 1 (default) or -1; setting qfac to 1\n",
      "pixdim[0] (qfac) should be 1 (default) or -1; setting qfac to 1\n",
      "INFO:nibabel.global:pixdim[0] (qfac) should be 1 (default) or -1; setting qfac to 1\n"
     ]
    },
    {
     "name": "stdout",
     "output_type": "stream",
     "text": [
      "BBOXES: torch.Size([35, 4])\n",
      "X shape before feeder torch.Size([35, 1, 1, 512, 512])\n",
      "T shape before feeder torch.Size([35, 1, 512, 512])\n",
      "X shape after feeder torch.Size([35, 1, 16, 16])\n",
      "T shape after feeder torch.Size([35, 1, 16, 16])\n",
      "X SHAPE torch.Size([35, 1, 256])\n",
      "T SHAPE torch.Size([35, 1, 256])\n"
     ]
    },
    {
     "name": "stderr",
     "output_type": "stream",
     "text": [
      "pixdim[0] (qfac) should be 1 (default) or -1; setting qfac to 1\n",
      "INFO:nibabel.global:pixdim[0] (qfac) should be 1 (default) or -1; setting qfac to 1\n",
      "INFO:andy:Progress:\t100/385\n",
      "INFO:andy:Current error:\t0.7421993017196655\n",
      "pixdim[0] (qfac) should be 1 (default) or -1; setting qfac to 1\n",
      "INFO:nibabel.global:pixdim[0] (qfac) should be 1 (default) or -1; setting qfac to 1\n"
     ]
    },
    {
     "name": "stdout",
     "output_type": "stream",
     "text": [
      "BBOXES: torch.Size([35, 4])\n",
      "X shape before feeder torch.Size([35, 1, 1, 512, 512])\n",
      "T shape before feeder torch.Size([35, 1, 512, 512])\n",
      "X shape after feeder torch.Size([35, 1, 16, 16])\n",
      "T shape after feeder torch.Size([35, 1, 16, 16])\n",
      "X SHAPE torch.Size([35, 1, 256])\n",
      "T SHAPE torch.Size([35, 1, 256])\n"
     ]
    },
    {
     "name": "stderr",
     "output_type": "stream",
     "text": [
      "pixdim[0] (qfac) should be 1 (default) or -1; setting qfac to 1\n",
      "INFO:nibabel.global:pixdim[0] (qfac) should be 1 (default) or -1; setting qfac to 1\n",
      "pixdim[0] (qfac) should be 1 (default) or -1; setting qfac to 1\n",
      "INFO:nibabel.global:pixdim[0] (qfac) should be 1 (default) or -1; setting qfac to 1\n"
     ]
    },
    {
     "name": "stdout",
     "output_type": "stream",
     "text": [
      "BBOXES: torch.Size([35, 4])\n",
      "X shape before feeder torch.Size([35, 1, 1, 512, 512])\n",
      "T shape before feeder torch.Size([35, 1, 512, 512])\n",
      "X shape after feeder torch.Size([35, 1, 16, 16])\n",
      "T shape after feeder torch.Size([35, 1, 16, 16])\n",
      "X SHAPE torch.Size([35, 1, 256])\n",
      "T SHAPE torch.Size([35, 1, 256])\n"
     ]
    },
    {
     "name": "stderr",
     "output_type": "stream",
     "text": [
      "pixdim[0] (qfac) should be 1 (default) or -1; setting qfac to 1\n",
      "INFO:nibabel.global:pixdim[0] (qfac) should be 1 (default) or -1; setting qfac to 1\n",
      "pixdim[0] (qfac) should be 1 (default) or -1; setting qfac to 1\n",
      "INFO:nibabel.global:pixdim[0] (qfac) should be 1 (default) or -1; setting qfac to 1\n"
     ]
    },
    {
     "name": "stdout",
     "output_type": "stream",
     "text": [
      "BBOXES: torch.Size([35, 4])\n",
      "X shape before feeder torch.Size([35, 1, 1, 512, 512])\n",
      "T shape before feeder torch.Size([35, 1, 512, 512])\n",
      "X shape after feeder torch.Size([35, 1, 16, 16])\n",
      "T shape after feeder torch.Size([35, 1, 16, 16])\n",
      "X SHAPE torch.Size([35, 1, 256])\n",
      "T SHAPE torch.Size([35, 1, 256])\n"
     ]
    },
    {
     "name": "stderr",
     "output_type": "stream",
     "text": [
      "pixdim[0] (qfac) should be 1 (default) or -1; setting qfac to 1\n",
      "INFO:nibabel.global:pixdim[0] (qfac) should be 1 (default) or -1; setting qfac to 1\n",
      "pixdim[0] (qfac) should be 1 (default) or -1; setting qfac to 1\n",
      "INFO:nibabel.global:pixdim[0] (qfac) should be 1 (default) or -1; setting qfac to 1\n"
     ]
    },
    {
     "name": "stdout",
     "output_type": "stream",
     "text": [
      "BBOXES: torch.Size([35, 4])\n",
      "X shape before feeder torch.Size([35, 1, 1, 512, 512])\n",
      "T shape before feeder torch.Size([35, 1, 512, 512])\n",
      "X shape after feeder torch.Size([35, 1, 16, 16])\n",
      "T shape after feeder torch.Size([35, 1, 16, 16])\n",
      "X SHAPE torch.Size([35, 1, 256])\n",
      "T SHAPE torch.Size([35, 1, 256])\n"
     ]
    },
    {
     "name": "stderr",
     "output_type": "stream",
     "text": [
      "pixdim[0] (qfac) should be 1 (default) or -1; setting qfac to 1\n",
      "INFO:nibabel.global:pixdim[0] (qfac) should be 1 (default) or -1; setting qfac to 1\n",
      "pixdim[0] (qfac) should be 1 (default) or -1; setting qfac to 1\n",
      "INFO:nibabel.global:pixdim[0] (qfac) should be 1 (default) or -1; setting qfac to 1\n"
     ]
    },
    {
     "name": "stdout",
     "output_type": "stream",
     "text": [
      "BBOXES: torch.Size([35, 4])\n",
      "X shape before feeder torch.Size([35, 1, 1, 512, 512])\n",
      "T shape before feeder torch.Size([35, 1, 512, 512])\n",
      "X shape after feeder torch.Size([35, 1, 16, 16])\n",
      "T shape after feeder torch.Size([35, 1, 16, 16])\n",
      "X SHAPE torch.Size([35, 1, 256])\n",
      "T SHAPE torch.Size([35, 1, 256])\n"
     ]
    },
    {
     "name": "stderr",
     "output_type": "stream",
     "text": [
      "pixdim[0] (qfac) should be 1 (default) or -1; setting qfac to 1\n",
      "INFO:nibabel.global:pixdim[0] (qfac) should be 1 (default) or -1; setting qfac to 1\n",
      "pixdim[0] (qfac) should be 1 (default) or -1; setting qfac to 1\n",
      "INFO:nibabel.global:pixdim[0] (qfac) should be 1 (default) or -1; setting qfac to 1\n"
     ]
    },
    {
     "name": "stdout",
     "output_type": "stream",
     "text": [
      "BBOXES: torch.Size([35, 4])\n",
      "X shape before feeder torch.Size([35, 1, 1, 512, 512])\n",
      "T shape before feeder torch.Size([35, 1, 512, 512])\n",
      "X shape after feeder torch.Size([35, 1, 16, 16])\n",
      "T shape after feeder torch.Size([35, 1, 16, 16])\n",
      "X SHAPE torch.Size([35, 1, 256])\n",
      "T SHAPE torch.Size([35, 1, 256])\n"
     ]
    },
    {
     "name": "stderr",
     "output_type": "stream",
     "text": [
      "pixdim[0] (qfac) should be 1 (default) or -1; setting qfac to 1\n",
      "INFO:nibabel.global:pixdim[0] (qfac) should be 1 (default) or -1; setting qfac to 1\n",
      "pixdim[0] (qfac) should be 1 (default) or -1; setting qfac to 1\n",
      "INFO:nibabel.global:pixdim[0] (qfac) should be 1 (default) or -1; setting qfac to 1\n"
     ]
    },
    {
     "name": "stdout",
     "output_type": "stream",
     "text": [
      "BBOXES: torch.Size([35, 4])\n",
      "X shape before feeder torch.Size([35, 1, 1, 512, 512])\n",
      "T shape before feeder torch.Size([35, 1, 512, 512])\n",
      "X shape after feeder torch.Size([35, 1, 16, 16])\n",
      "T shape after feeder torch.Size([35, 1, 16, 16])\n",
      "X SHAPE torch.Size([35, 1, 256])\n",
      "T SHAPE torch.Size([35, 1, 256])\n"
     ]
    },
    {
     "name": "stderr",
     "output_type": "stream",
     "text": [
      "pixdim[0] (qfac) should be 1 (default) or -1; setting qfac to 1\n",
      "INFO:nibabel.global:pixdim[0] (qfac) should be 1 (default) or -1; setting qfac to 1\n",
      "pixdim[0] (qfac) should be 1 (default) or -1; setting qfac to 1\n",
      "INFO:nibabel.global:pixdim[0] (qfac) should be 1 (default) or -1; setting qfac to 1\n"
     ]
    },
    {
     "name": "stdout",
     "output_type": "stream",
     "text": [
      "BBOXES: torch.Size([35, 4])\n",
      "X shape before feeder torch.Size([35, 1, 1, 512, 512])\n",
      "T shape before feeder torch.Size([35, 1, 512, 512])\n",
      "X shape after feeder torch.Size([35, 1, 16, 16])\n",
      "T shape after feeder torch.Size([35, 1, 16, 16])\n",
      "X SHAPE torch.Size([35, 1, 256])\n",
      "T SHAPE torch.Size([35, 1, 256])\n"
     ]
    },
    {
     "name": "stderr",
     "output_type": "stream",
     "text": [
      "pixdim[0] (qfac) should be 1 (default) or -1; setting qfac to 1\n",
      "INFO:nibabel.global:pixdim[0] (qfac) should be 1 (default) or -1; setting qfac to 1\n",
      "pixdim[0] (qfac) should be 1 (default) or -1; setting qfac to 1\n",
      "INFO:nibabel.global:pixdim[0] (qfac) should be 1 (default) or -1; setting qfac to 1\n"
     ]
    },
    {
     "name": "stdout",
     "output_type": "stream",
     "text": [
      "BBOXES: torch.Size([35, 4])\n",
      "X shape before feeder torch.Size([35, 1, 1, 512, 512])\n",
      "T shape before feeder torch.Size([35, 1, 512, 512])\n",
      "X shape after feeder torch.Size([35, 1, 16, 16])\n",
      "T shape after feeder torch.Size([35, 1, 16, 16])\n",
      "X SHAPE torch.Size([35, 1, 256])\n",
      "T SHAPE torch.Size([35, 1, 256])\n"
     ]
    },
    {
     "name": "stderr",
     "output_type": "stream",
     "text": [
      "pixdim[0] (qfac) should be 1 (default) or -1; setting qfac to 1\n",
      "INFO:nibabel.global:pixdim[0] (qfac) should be 1 (default) or -1; setting qfac to 1\n",
      "pixdim[0] (qfac) should be 1 (default) or -1; setting qfac to 1\n",
      "INFO:nibabel.global:pixdim[0] (qfac) should be 1 (default) or -1; setting qfac to 1\n"
     ]
    },
    {
     "name": "stdout",
     "output_type": "stream",
     "text": [
      "BBOXES: torch.Size([35, 4])\n",
      "X shape before feeder torch.Size([35, 1, 1, 512, 512])\n",
      "T shape before feeder torch.Size([35, 1, 512, 512])\n",
      "X shape after feeder torch.Size([35, 1, 16, 16])\n",
      "T shape after feeder torch.Size([35, 1, 16, 16])\n",
      "X SHAPE torch.Size([35, 1, 256])\n",
      "T SHAPE torch.Size([35, 1, 256])\n"
     ]
    },
    {
     "name": "stderr",
     "output_type": "stream",
     "text": [
      "pixdim[0] (qfac) should be 1 (default) or -1; setting qfac to 1\n",
      "INFO:nibabel.global:pixdim[0] (qfac) should be 1 (default) or -1; setting qfac to 1\n",
      "pixdim[0] (qfac) should be 1 (default) or -1; setting qfac to 1\n",
      "INFO:nibabel.global:pixdim[0] (qfac) should be 1 (default) or -1; setting qfac to 1\n"
     ]
    },
    {
     "name": "stdout",
     "output_type": "stream",
     "text": [
      "BBOXES: torch.Size([35, 4])\n",
      "X shape before feeder torch.Size([35, 1, 1, 512, 512])\n",
      "T shape before feeder torch.Size([35, 1, 512, 512])\n",
      "X shape after feeder torch.Size([35, 1, 16, 16])\n",
      "T shape after feeder torch.Size([35, 1, 16, 16])\n",
      "X SHAPE torch.Size([35, 1, 256])\n",
      "T SHAPE torch.Size([35, 1, 256])\n"
     ]
    },
    {
     "name": "stderr",
     "output_type": "stream",
     "text": [
      "pixdim[0] (qfac) should be 1 (default) or -1; setting qfac to 1\n",
      "INFO:nibabel.global:pixdim[0] (qfac) should be 1 (default) or -1; setting qfac to 1\n",
      "pixdim[0] (qfac) should be 1 (default) or -1; setting qfac to 1\n",
      "INFO:nibabel.global:pixdim[0] (qfac) should be 1 (default) or -1; setting qfac to 1\n"
     ]
    },
    {
     "name": "stdout",
     "output_type": "stream",
     "text": [
      "BBOXES: torch.Size([35, 4])\n",
      "X shape before feeder torch.Size([35, 1, 1, 512, 512])\n",
      "T shape before feeder torch.Size([35, 1, 512, 512])\n",
      "X shape after feeder torch.Size([35, 1, 16, 16])\n",
      "T shape after feeder torch.Size([35, 1, 16, 16])\n",
      "X SHAPE torch.Size([35, 1, 256])\n",
      "T SHAPE torch.Size([35, 1, 256])\n"
     ]
    },
    {
     "name": "stderr",
     "output_type": "stream",
     "text": [
      "pixdim[0] (qfac) should be 1 (default) or -1; setting qfac to 1\n",
      "INFO:nibabel.global:pixdim[0] (qfac) should be 1 (default) or -1; setting qfac to 1\n",
      "pixdim[0] (qfac) should be 1 (default) or -1; setting qfac to 1\n",
      "INFO:nibabel.global:pixdim[0] (qfac) should be 1 (default) or -1; setting qfac to 1\n"
     ]
    },
    {
     "name": "stdout",
     "output_type": "stream",
     "text": [
      "BBOXES: torch.Size([35, 4])\n",
      "X shape before feeder torch.Size([35, 1, 1, 512, 512])\n",
      "T shape before feeder torch.Size([35, 1, 512, 512])\n",
      "X shape after feeder torch.Size([35, 1, 16, 16])\n",
      "T shape after feeder torch.Size([35, 1, 16, 16])\n",
      "X SHAPE torch.Size([35, 1, 256])\n",
      "T SHAPE torch.Size([35, 1, 256])\n"
     ]
    },
    {
     "name": "stderr",
     "output_type": "stream",
     "text": [
      "pixdim[0] (qfac) should be 1 (default) or -1; setting qfac to 1\n",
      "INFO:nibabel.global:pixdim[0] (qfac) should be 1 (default) or -1; setting qfac to 1\n",
      "pixdim[0] (qfac) should be 1 (default) or -1; setting qfac to 1\n",
      "INFO:nibabel.global:pixdim[0] (qfac) should be 1 (default) or -1; setting qfac to 1\n"
     ]
    },
    {
     "name": "stdout",
     "output_type": "stream",
     "text": [
      "BBOXES: torch.Size([35, 4])\n",
      "X shape before feeder torch.Size([35, 1, 1, 512, 512])\n",
      "T shape before feeder torch.Size([35, 1, 512, 512])\n",
      "X shape after feeder torch.Size([35, 1, 16, 16])\n",
      "T shape after feeder torch.Size([35, 1, 16, 16])\n",
      "X SHAPE torch.Size([35, 1, 256])\n",
      "T SHAPE torch.Size([35, 1, 256])\n"
     ]
    },
    {
     "name": "stderr",
     "output_type": "stream",
     "text": [
      "pixdim[0] (qfac) should be 1 (default) or -1; setting qfac to 1\n",
      "INFO:nibabel.global:pixdim[0] (qfac) should be 1 (default) or -1; setting qfac to 1\n",
      "pixdim[0] (qfac) should be 1 (default) or -1; setting qfac to 1\n",
      "INFO:nibabel.global:pixdim[0] (qfac) should be 1 (default) or -1; setting qfac to 1\n"
     ]
    },
    {
     "name": "stdout",
     "output_type": "stream",
     "text": [
      "BBOXES: torch.Size([35, 4])\n",
      "X shape before feeder torch.Size([35, 1, 1, 512, 512])\n",
      "T shape before feeder torch.Size([35, 1, 512, 512])\n",
      "X shape after feeder torch.Size([35, 1, 16, 16])\n",
      "T shape after feeder torch.Size([35, 1, 16, 16])\n",
      "X SHAPE torch.Size([35, 1, 256])\n",
      "T SHAPE torch.Size([35, 1, 256])\n"
     ]
    },
    {
     "name": "stderr",
     "output_type": "stream",
     "text": [
      "pixdim[0] (qfac) should be 1 (default) or -1; setting qfac to 1\n",
      "INFO:nibabel.global:pixdim[0] (qfac) should be 1 (default) or -1; setting qfac to 1\n",
      "pixdim[0] (qfac) should be 1 (default) or -1; setting qfac to 1\n",
      "INFO:nibabel.global:pixdim[0] (qfac) should be 1 (default) or -1; setting qfac to 1\n"
     ]
    },
    {
     "name": "stdout",
     "output_type": "stream",
     "text": [
      "BBOXES: torch.Size([35, 4])\n",
      "X shape before feeder torch.Size([35, 1, 1, 512, 512])\n",
      "T shape before feeder torch.Size([35, 1, 512, 512])\n",
      "X shape after feeder torch.Size([35, 1, 16, 16])\n",
      "T shape after feeder torch.Size([35, 1, 16, 16])\n",
      "X SHAPE torch.Size([35, 1, 256])\n",
      "T SHAPE torch.Size([35, 1, 256])\n"
     ]
    },
    {
     "name": "stderr",
     "output_type": "stream",
     "text": [
      "pixdim[0] (qfac) should be 1 (default) or -1; setting qfac to 1\n",
      "INFO:nibabel.global:pixdim[0] (qfac) should be 1 (default) or -1; setting qfac to 1\n",
      "pixdim[0] (qfac) should be 1 (default) or -1; setting qfac to 1\n",
      "INFO:nibabel.global:pixdim[0] (qfac) should be 1 (default) or -1; setting qfac to 1\n"
     ]
    },
    {
     "name": "stdout",
     "output_type": "stream",
     "text": [
      "BBOXES: torch.Size([35, 4])\n",
      "X shape before feeder torch.Size([35, 1, 1, 512, 512])\n",
      "T shape before feeder torch.Size([35, 1, 512, 512])\n",
      "X shape after feeder torch.Size([35, 1, 16, 16])\n",
      "T shape after feeder torch.Size([35, 1, 16, 16])\n",
      "X SHAPE torch.Size([35, 1, 256])\n",
      "T SHAPE torch.Size([35, 1, 256])\n"
     ]
    },
    {
     "name": "stderr",
     "output_type": "stream",
     "text": [
      "pixdim[0] (qfac) should be 1 (default) or -1; setting qfac to 1\n",
      "INFO:nibabel.global:pixdim[0] (qfac) should be 1 (default) or -1; setting qfac to 1\n",
      "pixdim[0] (qfac) should be 1 (default) or -1; setting qfac to 1\n",
      "INFO:nibabel.global:pixdim[0] (qfac) should be 1 (default) or -1; setting qfac to 1\n"
     ]
    },
    {
     "name": "stdout",
     "output_type": "stream",
     "text": [
      "BBOXES: torch.Size([35, 4])\n",
      "X shape before feeder torch.Size([35, 1, 1, 512, 512])\n",
      "T shape before feeder torch.Size([35, 1, 512, 512])\n",
      "X shape after feeder torch.Size([35, 1, 16, 16])\n",
      "T shape after feeder torch.Size([35, 1, 16, 16])\n",
      "X SHAPE torch.Size([35, 1, 256])\n",
      "T SHAPE torch.Size([35, 1, 256])\n"
     ]
    },
    {
     "name": "stderr",
     "output_type": "stream",
     "text": [
      "pixdim[0] (qfac) should be 1 (default) or -1; setting qfac to 1\n",
      "INFO:nibabel.global:pixdim[0] (qfac) should be 1 (default) or -1; setting qfac to 1\n",
      "pixdim[0] (qfac) should be 1 (default) or -1; setting qfac to 1\n",
      "INFO:nibabel.global:pixdim[0] (qfac) should be 1 (default) or -1; setting qfac to 1\n"
     ]
    },
    {
     "name": "stdout",
     "output_type": "stream",
     "text": [
      "BBOXES: torch.Size([35, 4])\n",
      "X shape before feeder torch.Size([35, 1, 1, 512, 512])\n",
      "T shape before feeder torch.Size([35, 1, 512, 512])\n",
      "X shape after feeder torch.Size([35, 1, 16, 16])\n",
      "T shape after feeder torch.Size([35, 1, 16, 16])\n",
      "X SHAPE torch.Size([35, 1, 256])\n",
      "T SHAPE torch.Size([35, 1, 256])\n"
     ]
    },
    {
     "name": "stderr",
     "output_type": "stream",
     "text": [
      "pixdim[0] (qfac) should be 1 (default) or -1; setting qfac to 1\n",
      "INFO:nibabel.global:pixdim[0] (qfac) should be 1 (default) or -1; setting qfac to 1\n",
      "pixdim[0] (qfac) should be 1 (default) or -1; setting qfac to 1\n",
      "INFO:nibabel.global:pixdim[0] (qfac) should be 1 (default) or -1; setting qfac to 1\n"
     ]
    },
    {
     "name": "stdout",
     "output_type": "stream",
     "text": [
      "BBOXES: torch.Size([35, 4])\n",
      "X shape before feeder torch.Size([35, 1, 1, 512, 512])\n",
      "T shape before feeder torch.Size([35, 1, 512, 512])\n",
      "X shape after feeder torch.Size([35, 1, 16, 16])\n",
      "T shape after feeder torch.Size([35, 1, 16, 16])\n",
      "X SHAPE torch.Size([35, 1, 256])\n",
      "T SHAPE torch.Size([35, 1, 256])\n"
     ]
    },
    {
     "name": "stderr",
     "output_type": "stream",
     "text": [
      "pixdim[0] (qfac) should be 1 (default) or -1; setting qfac to 1\n",
      "INFO:nibabel.global:pixdim[0] (qfac) should be 1 (default) or -1; setting qfac to 1\n",
      "pixdim[0] (qfac) should be 1 (default) or -1; setting qfac to 1\n",
      "INFO:nibabel.global:pixdim[0] (qfac) should be 1 (default) or -1; setting qfac to 1\n"
     ]
    },
    {
     "name": "stdout",
     "output_type": "stream",
     "text": [
      "BBOXES: torch.Size([35, 4])\n",
      "X shape before feeder torch.Size([35, 1, 1, 512, 512])\n",
      "T shape before feeder torch.Size([35, 1, 512, 512])\n",
      "X shape after feeder torch.Size([35, 1, 16, 16])\n",
      "T shape after feeder torch.Size([35, 1, 16, 16])\n",
      "X SHAPE torch.Size([35, 1, 256])\n",
      "T SHAPE torch.Size([35, 1, 256])\n"
     ]
    },
    {
     "name": "stderr",
     "output_type": "stream",
     "text": [
      "pixdim[0] (qfac) should be 1 (default) or -1; setting qfac to 1\n",
      "INFO:nibabel.global:pixdim[0] (qfac) should be 1 (default) or -1; setting qfac to 1\n",
      "pixdim[0] (qfac) should be 1 (default) or -1; setting qfac to 1\n",
      "INFO:nibabel.global:pixdim[0] (qfac) should be 1 (default) or -1; setting qfac to 1\n"
     ]
    },
    {
     "name": "stdout",
     "output_type": "stream",
     "text": [
      "BBOXES: torch.Size([35, 4])\n",
      "X shape before feeder torch.Size([35, 1, 1, 512, 512])\n",
      "T shape before feeder torch.Size([35, 1, 512, 512])\n",
      "X shape after feeder torch.Size([35, 1, 16, 16])\n",
      "T shape after feeder torch.Size([35, 1, 16, 16])\n",
      "X SHAPE torch.Size([35, 1, 256])\n",
      "T SHAPE torch.Size([35, 1, 256])\n"
     ]
    },
    {
     "name": "stderr",
     "output_type": "stream",
     "text": [
      "pixdim[0] (qfac) should be 1 (default) or -1; setting qfac to 1\n",
      "INFO:nibabel.global:pixdim[0] (qfac) should be 1 (default) or -1; setting qfac to 1\n",
      "pixdim[0] (qfac) should be 1 (default) or -1; setting qfac to 1\n",
      "INFO:nibabel.global:pixdim[0] (qfac) should be 1 (default) or -1; setting qfac to 1\n"
     ]
    },
    {
     "name": "stdout",
     "output_type": "stream",
     "text": [
      "BBOXES: torch.Size([35, 4])\n",
      "X shape before feeder torch.Size([35, 1, 1, 512, 512])\n",
      "T shape before feeder torch.Size([35, 1, 512, 512])\n",
      "X shape after feeder torch.Size([35, 1, 16, 16])\n",
      "T shape after feeder torch.Size([35, 1, 16, 16])\n",
      "X SHAPE torch.Size([35, 1, 256])\n",
      "T SHAPE torch.Size([35, 1, 256])\n"
     ]
    },
    {
     "name": "stderr",
     "output_type": "stream",
     "text": [
      "pixdim[0] (qfac) should be 1 (default) or -1; setting qfac to 1\n",
      "INFO:nibabel.global:pixdim[0] (qfac) should be 1 (default) or -1; setting qfac to 1\n",
      "pixdim[0] (qfac) should be 1 (default) or -1; setting qfac to 1\n",
      "INFO:nibabel.global:pixdim[0] (qfac) should be 1 (default) or -1; setting qfac to 1\n"
     ]
    },
    {
     "name": "stdout",
     "output_type": "stream",
     "text": [
      "BBOXES: torch.Size([35, 4])\n",
      "X shape before feeder torch.Size([35, 1, 1, 512, 512])\n",
      "T shape before feeder torch.Size([35, 1, 512, 512])\n",
      "X shape after feeder torch.Size([35, 1, 16, 16])\n",
      "T shape after feeder torch.Size([35, 1, 16, 16])\n",
      "X SHAPE torch.Size([35, 1, 256])\n",
      "T SHAPE torch.Size([35, 1, 256])\n"
     ]
    },
    {
     "name": "stderr",
     "output_type": "stream",
     "text": [
      "pixdim[0] (qfac) should be 1 (default) or -1; setting qfac to 1\n",
      "INFO:nibabel.global:pixdim[0] (qfac) should be 1 (default) or -1; setting qfac to 1\n",
      "pixdim[0] (qfac) should be 1 (default) or -1; setting qfac to 1\n",
      "INFO:nibabel.global:pixdim[0] (qfac) should be 1 (default) or -1; setting qfac to 1\n",
      "pixdim[0] (qfac) should be 1 (default) or -1; setting qfac to 1\n",
      "INFO:nibabel.global:pixdim[0] (qfac) should be 1 (default) or -1; setting qfac to 1\n",
      "pixdim[0] (qfac) should be 1 (default) or -1; setting qfac to 1\n",
      "INFO:nibabel.global:pixdim[0] (qfac) should be 1 (default) or -1; setting qfac to 1\n"
     ]
    },
    {
     "name": "stdout",
     "output_type": "stream",
     "text": [
      "BBOXES: torch.Size([35, 4])\n",
      "X shape before feeder torch.Size([35, 1, 1, 512, 512])\n",
      "T shape before feeder torch.Size([35, 1, 512, 512])\n",
      "X shape after feeder torch.Size([35, 1, 16, 16])\n",
      "T shape after feeder torch.Size([35, 1, 16, 16])\n",
      "X SHAPE torch.Size([35, 1, 256])\n",
      "T SHAPE torch.Size([35, 1, 256])\n"
     ]
    },
    {
     "name": "stderr",
     "output_type": "stream",
     "text": [
      "pixdim[0] (qfac) should be 1 (default) or -1; setting qfac to 1\n",
      "INFO:nibabel.global:pixdim[0] (qfac) should be 1 (default) or -1; setting qfac to 1\n",
      "pixdim[0] (qfac) should be 1 (default) or -1; setting qfac to 1\n",
      "INFO:nibabel.global:pixdim[0] (qfac) should be 1 (default) or -1; setting qfac to 1\n",
      "pixdim[0] (qfac) should be 1 (default) or -1; setting qfac to 1\n",
      "INFO:nibabel.global:pixdim[0] (qfac) should be 1 (default) or -1; setting qfac to 1\n"
     ]
    },
    {
     "name": "stdout",
     "output_type": "stream",
     "text": [
      "BBOXES: torch.Size([35, 4])\n",
      "X shape before feeder torch.Size([35, 1, 1, 512, 512])\n",
      "T shape before feeder torch.Size([35, 1, 512, 512])\n",
      "X shape after feeder torch.Size([35, 1, 16, 16])\n",
      "T shape after feeder torch.Size([35, 1, 16, 16])\n",
      "X SHAPE torch.Size([35, 1, 256])\n",
      "T SHAPE torch.Size([35, 1, 256])\n"
     ]
    },
    {
     "name": "stderr",
     "output_type": "stream",
     "text": [
      "pixdim[0] (qfac) should be 1 (default) or -1; setting qfac to 1\n",
      "INFO:nibabel.global:pixdim[0] (qfac) should be 1 (default) or -1; setting qfac to 1\n",
      "pixdim[0] (qfac) should be 1 (default) or -1; setting qfac to 1\n",
      "INFO:nibabel.global:pixdim[0] (qfac) should be 1 (default) or -1; setting qfac to 1\n",
      "pixdim[0] (qfac) should be 1 (default) or -1; setting qfac to 1\n",
      "INFO:nibabel.global:pixdim[0] (qfac) should be 1 (default) or -1; setting qfac to 1\n"
     ]
    },
    {
     "name": "stdout",
     "output_type": "stream",
     "text": [
      "BBOXES: torch.Size([35, 4])\n",
      "X shape before feeder torch.Size([35, 1, 1, 512, 512])\n",
      "T shape before feeder torch.Size([35, 1, 512, 512])\n",
      "X shape after feeder torch.Size([35, 1, 16, 16])\n",
      "T shape after feeder torch.Size([35, 1, 16, 16])\n",
      "X SHAPE torch.Size([35, 1, 256])\n",
      "T SHAPE torch.Size([35, 1, 256])\n"
     ]
    },
    {
     "name": "stderr",
     "output_type": "stream",
     "text": [
      "pixdim[0] (qfac) should be 1 (default) or -1; setting qfac to 1\n",
      "INFO:nibabel.global:pixdim[0] (qfac) should be 1 (default) or -1; setting qfac to 1\n",
      "pixdim[0] (qfac) should be 1 (default) or -1; setting qfac to 1\n",
      "INFO:nibabel.global:pixdim[0] (qfac) should be 1 (default) or -1; setting qfac to 1\n"
     ]
    },
    {
     "name": "stdout",
     "output_type": "stream",
     "text": [
      "BBOXES: torch.Size([35, 4])\n",
      "X shape before feeder torch.Size([35, 1, 1, 512, 512])\n",
      "T shape before feeder torch.Size([35, 1, 512, 512])\n",
      "X shape after feeder torch.Size([35, 1, 16, 16])\n",
      "T shape after feeder torch.Size([35, 1, 16, 16])\n",
      "X SHAPE torch.Size([35, 1, 256])\n",
      "T SHAPE torch.Size([35, 1, 256])\n"
     ]
    },
    {
     "name": "stderr",
     "output_type": "stream",
     "text": [
      "pixdim[0] (qfac) should be 1 (default) or -1; setting qfac to 1\n",
      "INFO:nibabel.global:pixdim[0] (qfac) should be 1 (default) or -1; setting qfac to 1\n",
      "pixdim[0] (qfac) should be 1 (default) or -1; setting qfac to 1\n",
      "INFO:nibabel.global:pixdim[0] (qfac) should be 1 (default) or -1; setting qfac to 1\n"
     ]
    },
    {
     "name": "stdout",
     "output_type": "stream",
     "text": [
      "BBOXES: torch.Size([35, 4])\n",
      "X shape before feeder torch.Size([35, 1, 1, 512, 512])\n",
      "T shape before feeder torch.Size([35, 1, 512, 512])\n",
      "X shape after feeder torch.Size([35, 1, 16, 16])\n",
      "T shape after feeder torch.Size([35, 1, 16, 16])\n",
      "X SHAPE torch.Size([35, 1, 256])\n",
      "T SHAPE torch.Size([35, 1, 256])\n"
     ]
    },
    {
     "name": "stderr",
     "output_type": "stream",
     "text": [
      "pixdim[0] (qfac) should be 1 (default) or -1; setting qfac to 1\n",
      "INFO:nibabel.global:pixdim[0] (qfac) should be 1 (default) or -1; setting qfac to 1\n",
      "pixdim[0] (qfac) should be 1 (default) or -1; setting qfac to 1\n",
      "INFO:nibabel.global:pixdim[0] (qfac) should be 1 (default) or -1; setting qfac to 1\n"
     ]
    },
    {
     "name": "stdout",
     "output_type": "stream",
     "text": [
      "BBOXES: torch.Size([35, 4])\n",
      "X shape before feeder torch.Size([35, 1, 1, 512, 512])\n",
      "T shape before feeder torch.Size([35, 1, 512, 512])\n",
      "X shape after feeder torch.Size([35, 1, 16, 16])\n",
      "T shape after feeder torch.Size([35, 1, 16, 16])\n",
      "X SHAPE torch.Size([35, 1, 256])\n",
      "T SHAPE torch.Size([35, 1, 256])\n"
     ]
    },
    {
     "name": "stderr",
     "output_type": "stream",
     "text": [
      "pixdim[0] (qfac) should be 1 (default) or -1; setting qfac to 1\n",
      "INFO:nibabel.global:pixdim[0] (qfac) should be 1 (default) or -1; setting qfac to 1\n",
      "pixdim[0] (qfac) should be 1 (default) or -1; setting qfac to 1\n",
      "INFO:nibabel.global:pixdim[0] (qfac) should be 1 (default) or -1; setting qfac to 1\n"
     ]
    },
    {
     "name": "stdout",
     "output_type": "stream",
     "text": [
      "BBOXES: torch.Size([35, 4])\n",
      "X shape before feeder torch.Size([35, 1, 1, 512, 512])\n",
      "T shape before feeder torch.Size([35, 1, 512, 512])\n",
      "X shape after feeder torch.Size([35, 1, 16, 16])\n",
      "T shape after feeder torch.Size([35, 1, 16, 16])\n",
      "X SHAPE torch.Size([35, 1, 256])\n",
      "T SHAPE torch.Size([35, 1, 256])\n"
     ]
    },
    {
     "name": "stderr",
     "output_type": "stream",
     "text": [
      "pixdim[0] (qfac) should be 1 (default) or -1; setting qfac to 1\n",
      "INFO:nibabel.global:pixdim[0] (qfac) should be 1 (default) or -1; setting qfac to 1\n",
      "pixdim[0] (qfac) should be 1 (default) or -1; setting qfac to 1\n",
      "INFO:nibabel.global:pixdim[0] (qfac) should be 1 (default) or -1; setting qfac to 1\n"
     ]
    },
    {
     "name": "stdout",
     "output_type": "stream",
     "text": [
      "BBOXES: torch.Size([35, 4])\n",
      "X shape before feeder torch.Size([35, 1, 1, 512, 512])\n",
      "T shape before feeder torch.Size([35, 1, 512, 512])\n",
      "X shape after feeder torch.Size([35, 1, 16, 16])\n",
      "T shape after feeder torch.Size([35, 1, 16, 16])\n",
      "X SHAPE torch.Size([35, 1, 256])\n",
      "T SHAPE torch.Size([35, 1, 256])\n"
     ]
    },
    {
     "name": "stderr",
     "output_type": "stream",
     "text": [
      "pixdim[0] (qfac) should be 1 (default) or -1; setting qfac to 1\n",
      "INFO:nibabel.global:pixdim[0] (qfac) should be 1 (default) or -1; setting qfac to 1\n",
      "pixdim[0] (qfac) should be 1 (default) or -1; setting qfac to 1\n",
      "INFO:nibabel.global:pixdim[0] (qfac) should be 1 (default) or -1; setting qfac to 1\n"
     ]
    },
    {
     "name": "stdout",
     "output_type": "stream",
     "text": [
      "BBOXES: torch.Size([35, 4])\n",
      "X shape before feeder torch.Size([35, 1, 1, 512, 512])\n",
      "T shape before feeder torch.Size([35, 1, 512, 512])\n",
      "X shape after feeder torch.Size([35, 1, 16, 16])\n",
      "T shape after feeder torch.Size([35, 1, 16, 16])\n",
      "X SHAPE torch.Size([35, 1, 256])\n",
      "T SHAPE torch.Size([35, 1, 256])\n"
     ]
    },
    {
     "name": "stderr",
     "output_type": "stream",
     "text": [
      "pixdim[0] (qfac) should be 1 (default) or -1; setting qfac to 1\n",
      "INFO:nibabel.global:pixdim[0] (qfac) should be 1 (default) or -1; setting qfac to 1\n",
      "pixdim[0] (qfac) should be 1 (default) or -1; setting qfac to 1\n",
      "INFO:nibabel.global:pixdim[0] (qfac) should be 1 (default) or -1; setting qfac to 1\n"
     ]
    },
    {
     "name": "stdout",
     "output_type": "stream",
     "text": [
      "BBOXES: torch.Size([35, 4])\n",
      "X shape before feeder torch.Size([35, 1, 1, 512, 512])\n",
      "T shape before feeder torch.Size([35, 1, 512, 512])\n",
      "X shape after feeder torch.Size([35, 1, 16, 16])\n",
      "T shape after feeder torch.Size([35, 1, 16, 16])\n",
      "X SHAPE torch.Size([35, 1, 256])\n",
      "T SHAPE torch.Size([35, 1, 256])\n"
     ]
    },
    {
     "name": "stderr",
     "output_type": "stream",
     "text": [
      "pixdim[0] (qfac) should be 1 (default) or -1; setting qfac to 1\n",
      "INFO:nibabel.global:pixdim[0] (qfac) should be 1 (default) or -1; setting qfac to 1\n",
      "pixdim[0] (qfac) should be 1 (default) or -1; setting qfac to 1\n",
      "INFO:nibabel.global:pixdim[0] (qfac) should be 1 (default) or -1; setting qfac to 1\n"
     ]
    },
    {
     "name": "stdout",
     "output_type": "stream",
     "text": [
      "BBOXES: torch.Size([35, 4])\n",
      "X shape before feeder torch.Size([35, 1, 1, 512, 512])\n",
      "T shape before feeder torch.Size([35, 1, 512, 512])\n",
      "X shape after feeder torch.Size([35, 1, 16, 16])\n",
      "T shape after feeder torch.Size([35, 1, 16, 16])\n",
      "X SHAPE torch.Size([35, 1, 256])\n",
      "T SHAPE torch.Size([35, 1, 256])\n"
     ]
    },
    {
     "name": "stderr",
     "output_type": "stream",
     "text": [
      "pixdim[0] (qfac) should be 1 (default) or -1; setting qfac to 1\n",
      "INFO:nibabel.global:pixdim[0] (qfac) should be 1 (default) or -1; setting qfac to 1\n",
      "pixdim[0] (qfac) should be 1 (default) or -1; setting qfac to 1\n",
      "INFO:nibabel.global:pixdim[0] (qfac) should be 1 (default) or -1; setting qfac to 1\n"
     ]
    },
    {
     "name": "stdout",
     "output_type": "stream",
     "text": [
      "BBOXES: torch.Size([35, 4])\n",
      "X shape before feeder torch.Size([35, 1, 1, 512, 512])\n",
      "T shape before feeder torch.Size([35, 1, 512, 512])\n",
      "X shape after feeder torch.Size([35, 1, 16, 16])\n",
      "T shape after feeder torch.Size([35, 1, 16, 16])\n",
      "X SHAPE torch.Size([35, 1, 256])\n",
      "T SHAPE torch.Size([35, 1, 256])\n"
     ]
    },
    {
     "name": "stderr",
     "output_type": "stream",
     "text": [
      "pixdim[0] (qfac) should be 1 (default) or -1; setting qfac to 1\n",
      "INFO:nibabel.global:pixdim[0] (qfac) should be 1 (default) or -1; setting qfac to 1\n",
      "pixdim[0] (qfac) should be 1 (default) or -1; setting qfac to 1\n",
      "INFO:nibabel.global:pixdim[0] (qfac) should be 1 (default) or -1; setting qfac to 1\n",
      "pixdim[0] (qfac) should be 1 (default) or -1; setting qfac to 1\n",
      "INFO:nibabel.global:pixdim[0] (qfac) should be 1 (default) or -1; setting qfac to 1\n"
     ]
    },
    {
     "name": "stdout",
     "output_type": "stream",
     "text": [
      "BBOXES: torch.Size([35, 4])\n",
      "X shape before feeder torch.Size([35, 1, 1, 512, 512])\n",
      "T shape before feeder torch.Size([35, 1, 512, 512])\n",
      "X shape after feeder torch.Size([35, 1, 16, 16])\n",
      "T shape after feeder torch.Size([35, 1, 16, 16])\n",
      "X SHAPE torch.Size([35, 1, 256])\n",
      "T SHAPE torch.Size([35, 1, 256])\n"
     ]
    },
    {
     "name": "stderr",
     "output_type": "stream",
     "text": [
      "pixdim[0] (qfac) should be 1 (default) or -1; setting qfac to 1\n",
      "INFO:nibabel.global:pixdim[0] (qfac) should be 1 (default) or -1; setting qfac to 1\n",
      "pixdim[0] (qfac) should be 1 (default) or -1; setting qfac to 1\n",
      "INFO:nibabel.global:pixdim[0] (qfac) should be 1 (default) or -1; setting qfac to 1\n",
      "pixdim[0] (qfac) should be 1 (default) or -1; setting qfac to 1\n",
      "INFO:nibabel.global:pixdim[0] (qfac) should be 1 (default) or -1; setting qfac to 1\n"
     ]
    },
    {
     "name": "stdout",
     "output_type": "stream",
     "text": [
      "BBOXES: torch.Size([35, 4])\n",
      "X shape before feeder torch.Size([35, 1, 1, 512, 512])\n",
      "T shape before feeder torch.Size([35, 1, 512, 512])\n",
      "X shape after feeder torch.Size([35, 1, 16, 16])\n",
      "T shape after feeder torch.Size([35, 1, 16, 16])\n",
      "X SHAPE torch.Size([35, 1, 256])\n",
      "T SHAPE torch.Size([35, 1, 256])\n"
     ]
    },
    {
     "name": "stderr",
     "output_type": "stream",
     "text": [
      "pixdim[0] (qfac) should be 1 (default) or -1; setting qfac to 1\n",
      "INFO:nibabel.global:pixdim[0] (qfac) should be 1 (default) or -1; setting qfac to 1\n",
      "pixdim[0] (qfac) should be 1 (default) or -1; setting qfac to 1\n",
      "INFO:nibabel.global:pixdim[0] (qfac) should be 1 (default) or -1; setting qfac to 1\n"
     ]
    },
    {
     "name": "stdout",
     "output_type": "stream",
     "text": [
      "BBOXES: torch.Size([35, 4])\n",
      "X shape before feeder torch.Size([35, 1, 1, 512, 512])\n",
      "T shape before feeder torch.Size([35, 1, 512, 512])\n",
      "X shape after feeder torch.Size([35, 1, 16, 16])\n",
      "T shape after feeder torch.Size([35, 1, 16, 16])\n",
      "X SHAPE torch.Size([35, 1, 256])\n",
      "T SHAPE torch.Size([35, 1, 256])\n"
     ]
    },
    {
     "name": "stderr",
     "output_type": "stream",
     "text": [
      "pixdim[0] (qfac) should be 1 (default) or -1; setting qfac to 1\n",
      "INFO:nibabel.global:pixdim[0] (qfac) should be 1 (default) or -1; setting qfac to 1\n",
      "pixdim[0] (qfac) should be 1 (default) or -1; setting qfac to 1\n",
      "INFO:nibabel.global:pixdim[0] (qfac) should be 1 (default) or -1; setting qfac to 1\n"
     ]
    },
    {
     "name": "stdout",
     "output_type": "stream",
     "text": [
      "BBOXES: torch.Size([35, 4])\n",
      "X shape before feeder torch.Size([35, 1, 1, 512, 512])\n",
      "T shape before feeder torch.Size([35, 1, 512, 512])\n",
      "X shape after feeder torch.Size([35, 1, 16, 16])\n",
      "T shape after feeder torch.Size([35, 1, 16, 16])\n",
      "X SHAPE torch.Size([35, 1, 256])\n",
      "T SHAPE torch.Size([35, 1, 256])\n"
     ]
    },
    {
     "name": "stderr",
     "output_type": "stream",
     "text": [
      "pixdim[0] (qfac) should be 1 (default) or -1; setting qfac to 1\n",
      "INFO:nibabel.global:pixdim[0] (qfac) should be 1 (default) or -1; setting qfac to 1\n",
      "pixdim[0] (qfac) should be 1 (default) or -1; setting qfac to 1\n",
      "INFO:nibabel.global:pixdim[0] (qfac) should be 1 (default) or -1; setting qfac to 1\n"
     ]
    },
    {
     "name": "stdout",
     "output_type": "stream",
     "text": [
      "BBOXES: torch.Size([35, 4])\n",
      "X shape before feeder torch.Size([35, 1, 1, 512, 512])\n",
      "T shape before feeder torch.Size([35, 1, 512, 512])\n",
      "X shape after feeder torch.Size([35, 1, 16, 16])\n",
      "T shape after feeder torch.Size([35, 1, 16, 16])\n",
      "X SHAPE torch.Size([35, 1, 256])\n",
      "T SHAPE torch.Size([35, 1, 256])\n"
     ]
    },
    {
     "name": "stderr",
     "output_type": "stream",
     "text": [
      "pixdim[0] (qfac) should be 1 (default) or -1; setting qfac to 1\n",
      "INFO:nibabel.global:pixdim[0] (qfac) should be 1 (default) or -1; setting qfac to 1\n",
      "pixdim[0] (qfac) should be 1 (default) or -1; setting qfac to 1\n",
      "INFO:nibabel.global:pixdim[0] (qfac) should be 1 (default) or -1; setting qfac to 1\n"
     ]
    },
    {
     "name": "stdout",
     "output_type": "stream",
     "text": [
      "BBOXES: torch.Size([35, 4])\n",
      "X shape before feeder torch.Size([35, 1, 1, 512, 512])\n",
      "T shape before feeder torch.Size([35, 1, 512, 512])\n",
      "X shape after feeder torch.Size([35, 1, 16, 16])\n",
      "T shape after feeder torch.Size([35, 1, 16, 16])\n",
      "X SHAPE torch.Size([35, 1, 256])\n",
      "T SHAPE torch.Size([35, 1, 256])\n"
     ]
    },
    {
     "name": "stderr",
     "output_type": "stream",
     "text": [
      "pixdim[0] (qfac) should be 1 (default) or -1; setting qfac to 1\n",
      "INFO:nibabel.global:pixdim[0] (qfac) should be 1 (default) or -1; setting qfac to 1\n",
      "pixdim[0] (qfac) should be 1 (default) or -1; setting qfac to 1\n",
      "INFO:nibabel.global:pixdim[0] (qfac) should be 1 (default) or -1; setting qfac to 1\n"
     ]
    },
    {
     "name": "stdout",
     "output_type": "stream",
     "text": [
      "BBOXES: torch.Size([35, 4])\n",
      "X shape before feeder torch.Size([35, 1, 1, 512, 512])\n",
      "T shape before feeder torch.Size([35, 1, 512, 512])\n",
      "X shape after feeder torch.Size([35, 1, 16, 16])\n",
      "T shape after feeder torch.Size([35, 1, 16, 16])\n",
      "X SHAPE torch.Size([35, 1, 256])\n",
      "T SHAPE torch.Size([35, 1, 256])\n"
     ]
    },
    {
     "name": "stderr",
     "output_type": "stream",
     "text": [
      "pixdim[0] (qfac) should be 1 (default) or -1; setting qfac to 1\n",
      "INFO:nibabel.global:pixdim[0] (qfac) should be 1 (default) or -1; setting qfac to 1\n",
      "pixdim[0] (qfac) should be 1 (default) or -1; setting qfac to 1\n",
      "INFO:nibabel.global:pixdim[0] (qfac) should be 1 (default) or -1; setting qfac to 1\n"
     ]
    },
    {
     "name": "stdout",
     "output_type": "stream",
     "text": [
      "BBOXES: torch.Size([35, 4])\n",
      "X shape before feeder torch.Size([35, 1, 1, 512, 512])\n",
      "T shape before feeder torch.Size([35, 1, 512, 512])\n",
      "X shape after feeder torch.Size([35, 1, 16, 16])\n",
      "T shape after feeder torch.Size([35, 1, 16, 16])\n",
      "X SHAPE torch.Size([35, 1, 256])\n",
      "T SHAPE torch.Size([35, 1, 256])\n"
     ]
    },
    {
     "name": "stderr",
     "output_type": "stream",
     "text": [
      "pixdim[0] (qfac) should be 1 (default) or -1; setting qfac to 1\n",
      "INFO:nibabel.global:pixdim[0] (qfac) should be 1 (default) or -1; setting qfac to 1\n",
      "pixdim[0] (qfac) should be 1 (default) or -1; setting qfac to 1\n",
      "INFO:nibabel.global:pixdim[0] (qfac) should be 1 (default) or -1; setting qfac to 1\n",
      "pixdim[0] (qfac) should be 1 (default) or -1; setting qfac to 1\n"
     ]
    },
    {
     "name": "stdout",
     "output_type": "stream",
     "text": [
      "BBOXES: torch.Size([35, 4])\n",
      "X shape before feeder torch.Size([35, 1, 1, 512, 512])\n",
      "T shape before feeder torch.Size([35, 1, 512, 512])\n",
      "X shape after feeder torch.Size([35, 1, 16, 16])\n",
      "T shape after feeder torch.Size([35, 1, 16, 16])\n",
      "X SHAPE torch.Size([35, 1, 256])\n",
      "T SHAPE torch.Size([35, 1, 256])\n"
     ]
    },
    {
     "name": "stderr",
     "output_type": "stream",
     "text": [
      "INFO:nibabel.global:pixdim[0] (qfac) should be 1 (default) or -1; setting qfac to 1\n",
      "pixdim[0] (qfac) should be 1 (default) or -1; setting qfac to 1\n",
      "INFO:nibabel.global:pixdim[0] (qfac) should be 1 (default) or -1; setting qfac to 1\n",
      "pixdim[0] (qfac) should be 1 (default) or -1; setting qfac to 1\n",
      "INFO:nibabel.global:pixdim[0] (qfac) should be 1 (default) or -1; setting qfac to 1\n",
      "pixdim[0] (qfac) should be 1 (default) or -1; setting qfac to 1\n",
      "INFO:nibabel.global:pixdim[0] (qfac) should be 1 (default) or -1; setting qfac to 1\n"
     ]
    },
    {
     "name": "stdout",
     "output_type": "stream",
     "text": [
      "BBOXES: torch.Size([35, 4])\n",
      "X shape before feeder torch.Size([35, 1, 1, 512, 512])\n",
      "T shape before feeder torch.Size([35, 1, 512, 512])\n",
      "X shape after feeder torch.Size([35, 1, 16, 16])\n",
      "T shape after feeder torch.Size([35, 1, 16, 16])\n",
      "X SHAPE torch.Size([35, 1, 256])\n",
      "T SHAPE torch.Size([35, 1, 256])\n"
     ]
    },
    {
     "name": "stderr",
     "output_type": "stream",
     "text": [
      "pixdim[0] (qfac) should be 1 (default) or -1; setting qfac to 1\n",
      "INFO:nibabel.global:pixdim[0] (qfac) should be 1 (default) or -1; setting qfac to 1\n",
      "pixdim[0] (qfac) should be 1 (default) or -1; setting qfac to 1\n",
      "INFO:nibabel.global:pixdim[0] (qfac) should be 1 (default) or -1; setting qfac to 1\n"
     ]
    },
    {
     "name": "stdout",
     "output_type": "stream",
     "text": [
      "BBOXES: torch.Size([35, 4])\n",
      "X shape before feeder torch.Size([35, 1, 1, 512, 512])\n",
      "T shape before feeder torch.Size([35, 1, 512, 512])\n",
      "X shape after feeder torch.Size([35, 1, 16, 16])\n",
      "T shape after feeder torch.Size([35, 1, 16, 16])\n",
      "X SHAPE torch.Size([35, 1, 256])\n",
      "T SHAPE torch.Size([35, 1, 256])\n"
     ]
    },
    {
     "name": "stderr",
     "output_type": "stream",
     "text": [
      "pixdim[0] (qfac) should be 1 (default) or -1; setting qfac to 1\n",
      "INFO:nibabel.global:pixdim[0] (qfac) should be 1 (default) or -1; setting qfac to 1\n",
      "pixdim[0] (qfac) should be 1 (default) or -1; setting qfac to 1\n",
      "INFO:nibabel.global:pixdim[0] (qfac) should be 1 (default) or -1; setting qfac to 1\n"
     ]
    },
    {
     "name": "stdout",
     "output_type": "stream",
     "text": [
      "BBOXES: torch.Size([35, 4])\n",
      "X shape before feeder torch.Size([35, 1, 1, 512, 512])\n",
      "T shape before feeder torch.Size([35, 1, 512, 512])\n",
      "X shape after feeder torch.Size([35, 1, 16, 16])\n",
      "T shape after feeder torch.Size([35, 1, 16, 16])\n",
      "X SHAPE torch.Size([35, 1, 256])\n",
      "T SHAPE torch.Size([35, 1, 256])\n"
     ]
    },
    {
     "name": "stderr",
     "output_type": "stream",
     "text": [
      "pixdim[0] (qfac) should be 1 (default) or -1; setting qfac to 1\n",
      "INFO:nibabel.global:pixdim[0] (qfac) should be 1 (default) or -1; setting qfac to 1\n",
      "pixdim[0] (qfac) should be 1 (default) or -1; setting qfac to 1\n",
      "INFO:nibabel.global:pixdim[0] (qfac) should be 1 (default) or -1; setting qfac to 1\n"
     ]
    },
    {
     "name": "stdout",
     "output_type": "stream",
     "text": [
      "BBOXES: torch.Size([35, 4])\n",
      "X shape before feeder torch.Size([35, 1, 1, 512, 512])\n",
      "T shape before feeder torch.Size([35, 1, 512, 512])\n",
      "X shape after feeder torch.Size([35, 1, 16, 16])\n",
      "T shape after feeder torch.Size([35, 1, 16, 16])\n",
      "X SHAPE torch.Size([35, 1, 256])\n",
      "T SHAPE torch.Size([35, 1, 256])\n"
     ]
    },
    {
     "name": "stderr",
     "output_type": "stream",
     "text": [
      "pixdim[0] (qfac) should be 1 (default) or -1; setting qfac to 1\n",
      "INFO:nibabel.global:pixdim[0] (qfac) should be 1 (default) or -1; setting qfac to 1\n",
      "pixdim[0] (qfac) should be 1 (default) or -1; setting qfac to 1\n",
      "INFO:nibabel.global:pixdim[0] (qfac) should be 1 (default) or -1; setting qfac to 1\n"
     ]
    },
    {
     "name": "stdout",
     "output_type": "stream",
     "text": [
      "BBOXES: torch.Size([35, 4])\n",
      "X shape before feeder torch.Size([35, 1, 1, 512, 512])\n",
      "T shape before feeder torch.Size([35, 1, 512, 512])\n",
      "X shape after feeder torch.Size([35, 1, 16, 16])\n",
      "T shape after feeder torch.Size([35, 1, 16, 16])\n",
      "X SHAPE torch.Size([35, 1, 256])\n",
      "T SHAPE torch.Size([35, 1, 256])\n"
     ]
    },
    {
     "name": "stderr",
     "output_type": "stream",
     "text": [
      "pixdim[0] (qfac) should be 1 (default) or -1; setting qfac to 1\n",
      "INFO:nibabel.global:pixdim[0] (qfac) should be 1 (default) or -1; setting qfac to 1\n",
      "pixdim[0] (qfac) should be 1 (default) or -1; setting qfac to 1\n",
      "INFO:nibabel.global:pixdim[0] (qfac) should be 1 (default) or -1; setting qfac to 1\n"
     ]
    },
    {
     "name": "stdout",
     "output_type": "stream",
     "text": [
      "BBOXES: torch.Size([35, 4])\n",
      "X shape before feeder torch.Size([35, 1, 1, 512, 512])\n",
      "T shape before feeder torch.Size([35, 1, 512, 512])\n",
      "X shape after feeder torch.Size([35, 1, 16, 16])\n",
      "T shape after feeder torch.Size([35, 1, 16, 16])\n",
      "X SHAPE torch.Size([35, 1, 256])\n",
      "T SHAPE torch.Size([35, 1, 256])\n"
     ]
    },
    {
     "name": "stderr",
     "output_type": "stream",
     "text": [
      "pixdim[0] (qfac) should be 1 (default) or -1; setting qfac to 1\n",
      "INFO:nibabel.global:pixdim[0] (qfac) should be 1 (default) or -1; setting qfac to 1\n",
      "pixdim[0] (qfac) should be 1 (default) or -1; setting qfac to 1\n",
      "INFO:nibabel.global:pixdim[0] (qfac) should be 1 (default) or -1; setting qfac to 1\n"
     ]
    },
    {
     "name": "stdout",
     "output_type": "stream",
     "text": [
      "BBOXES: torch.Size([35, 4])\n",
      "X shape before feeder torch.Size([35, 1, 1, 512, 512])\n",
      "T shape before feeder torch.Size([35, 1, 512, 512])\n",
      "X shape after feeder torch.Size([35, 1, 16, 16])\n",
      "T shape after feeder torch.Size([35, 1, 16, 16])\n",
      "X SHAPE torch.Size([35, 1, 256])\n",
      "T SHAPE torch.Size([35, 1, 256])\n"
     ]
    },
    {
     "name": "stderr",
     "output_type": "stream",
     "text": [
      "pixdim[0] (qfac) should be 1 (default) or -1; setting qfac to 1\n",
      "INFO:nibabel.global:pixdim[0] (qfac) should be 1 (default) or -1; setting qfac to 1\n",
      "pixdim[0] (qfac) should be 1 (default) or -1; setting qfac to 1\n",
      "INFO:nibabel.global:pixdim[0] (qfac) should be 1 (default) or -1; setting qfac to 1\n"
     ]
    },
    {
     "name": "stdout",
     "output_type": "stream",
     "text": [
      "BBOXES: torch.Size([35, 4])\n",
      "X shape before feeder torch.Size([35, 1, 1, 512, 512])\n",
      "T shape before feeder torch.Size([35, 1, 512, 512])\n",
      "X shape after feeder torch.Size([35, 1, 16, 16])\n",
      "T shape after feeder torch.Size([35, 1, 16, 16])\n",
      "X SHAPE torch.Size([35, 1, 256])\n",
      "T SHAPE torch.Size([35, 1, 256])\n"
     ]
    },
    {
     "name": "stderr",
     "output_type": "stream",
     "text": [
      "pixdim[0] (qfac) should be 1 (default) or -1; setting qfac to 1\n",
      "INFO:nibabel.global:pixdim[0] (qfac) should be 1 (default) or -1; setting qfac to 1\n",
      "pixdim[0] (qfac) should be 1 (default) or -1; setting qfac to 1\n",
      "INFO:nibabel.global:pixdim[0] (qfac) should be 1 (default) or -1; setting qfac to 1\n"
     ]
    },
    {
     "name": "stdout",
     "output_type": "stream",
     "text": [
      "BBOXES: torch.Size([35, 4])\n",
      "X shape before feeder torch.Size([35, 1, 1, 512, 512])\n",
      "T shape before feeder torch.Size([35, 1, 512, 512])\n",
      "X shape after feeder torch.Size([35, 1, 16, 16])\n",
      "T shape after feeder torch.Size([35, 1, 16, 16])\n",
      "X SHAPE torch.Size([35, 1, 256])\n",
      "T SHAPE torch.Size([35, 1, 256])\n"
     ]
    },
    {
     "name": "stderr",
     "output_type": "stream",
     "text": [
      "pixdim[0] (qfac) should be 1 (default) or -1; setting qfac to 1\n",
      "INFO:nibabel.global:pixdim[0] (qfac) should be 1 (default) or -1; setting qfac to 1\n",
      "pixdim[0] (qfac) should be 1 (default) or -1; setting qfac to 1\n",
      "INFO:nibabel.global:pixdim[0] (qfac) should be 1 (default) or -1; setting qfac to 1\n",
      "pixdim[0] (qfac) should be 1 (default) or -1; setting qfac to 1\n"
     ]
    },
    {
     "name": "stdout",
     "output_type": "stream",
     "text": [
      "BBOXES: torch.Size([35, 4])\n",
      "X shape before feeder torch.Size([35, 1, 1, 512, 512])\n",
      "T shape before feeder torch.Size([35, 1, 512, 512])\n",
      "X shape after feeder torch.Size([35, 1, 16, 16])\n",
      "T shape after feeder torch.Size([35, 1, 16, 16])\n",
      "X SHAPE torch.Size([35, 1, 256])\n",
      "T SHAPE torch.Size([35, 1, 256])\n"
     ]
    },
    {
     "name": "stderr",
     "output_type": "stream",
     "text": [
      "INFO:nibabel.global:pixdim[0] (qfac) should be 1 (default) or -1; setting qfac to 1\n",
      "pixdim[0] (qfac) should be 1 (default) or -1; setting qfac to 1\n",
      "INFO:nibabel.global:pixdim[0] (qfac) should be 1 (default) or -1; setting qfac to 1\n",
      "pixdim[0] (qfac) should be 1 (default) or -1; setting qfac to 1\n",
      "INFO:nibabel.global:pixdim[0] (qfac) should be 1 (default) or -1; setting qfac to 1\n",
      "pixdim[0] (qfac) should be 1 (default) or -1; setting qfac to 1\n",
      "INFO:nibabel.global:pixdim[0] (qfac) should be 1 (default) or -1; setting qfac to 1\n"
     ]
    },
    {
     "name": "stdout",
     "output_type": "stream",
     "text": [
      "BBOXES: torch.Size([35, 4])\n",
      "X shape before feeder torch.Size([35, 1, 1, 512, 512])\n",
      "T shape before feeder torch.Size([35, 1, 512, 512])\n",
      "X shape after feeder torch.Size([35, 1, 16, 16])\n",
      "T shape after feeder torch.Size([35, 1, 16, 16])\n",
      "X SHAPE torch.Size([35, 1, 256])\n",
      "T SHAPE torch.Size([35, 1, 256])\n"
     ]
    },
    {
     "name": "stderr",
     "output_type": "stream",
     "text": [
      "pixdim[0] (qfac) should be 1 (default) or -1; setting qfac to 1\n",
      "INFO:nibabel.global:pixdim[0] (qfac) should be 1 (default) or -1; setting qfac to 1\n",
      "pixdim[0] (qfac) should be 1 (default) or -1; setting qfac to 1\n",
      "INFO:nibabel.global:pixdim[0] (qfac) should be 1 (default) or -1; setting qfac to 1\n"
     ]
    },
    {
     "name": "stdout",
     "output_type": "stream",
     "text": [
      "BBOXES: torch.Size([35, 4])\n",
      "X shape before feeder torch.Size([35, 1, 1, 512, 512])\n",
      "T shape before feeder torch.Size([35, 1, 512, 512])\n",
      "X shape after feeder torch.Size([35, 1, 16, 16])\n",
      "T shape after feeder torch.Size([35, 1, 16, 16])\n",
      "X SHAPE torch.Size([35, 1, 256])\n",
      "T SHAPE torch.Size([35, 1, 256])\n"
     ]
    },
    {
     "name": "stderr",
     "output_type": "stream",
     "text": [
      "pixdim[0] (qfac) should be 1 (default) or -1; setting qfac to 1\n",
      "INFO:nibabel.global:pixdim[0] (qfac) should be 1 (default) or -1; setting qfac to 1\n",
      "pixdim[0] (qfac) should be 1 (default) or -1; setting qfac to 1\n",
      "INFO:nibabel.global:pixdim[0] (qfac) should be 1 (default) or -1; setting qfac to 1\n",
      "pixdim[0] (qfac) should be 1 (default) or -1; setting qfac to 1\n",
      "INFO:nibabel.global:pixdim[0] (qfac) should be 1 (default) or -1; setting qfac to 1\n"
     ]
    },
    {
     "name": "stdout",
     "output_type": "stream",
     "text": [
      "BBOXES: torch.Size([35, 4])\n",
      "X shape before feeder torch.Size([35, 1, 1, 512, 512])\n",
      "T shape before feeder torch.Size([35, 1, 512, 512])\n",
      "X shape after feeder torch.Size([35, 1, 16, 16])\n",
      "T shape after feeder torch.Size([35, 1, 16, 16])\n",
      "X SHAPE torch.Size([35, 1, 256])\n",
      "T SHAPE torch.Size([35, 1, 256])\n"
     ]
    },
    {
     "name": "stderr",
     "output_type": "stream",
     "text": [
      "pixdim[0] (qfac) should be 1 (default) or -1; setting qfac to 1\n",
      "INFO:nibabel.global:pixdim[0] (qfac) should be 1 (default) or -1; setting qfac to 1\n",
      "pixdim[0] (qfac) should be 1 (default) or -1; setting qfac to 1\n",
      "INFO:nibabel.global:pixdim[0] (qfac) should be 1 (default) or -1; setting qfac to 1\n",
      "pixdim[0] (qfac) should be 1 (default) or -1; setting qfac to 1\n",
      "INFO:nibabel.global:pixdim[0] (qfac) should be 1 (default) or -1; setting qfac to 1\n"
     ]
    },
    {
     "name": "stdout",
     "output_type": "stream",
     "text": [
      "BBOXES: torch.Size([35, 4])\n",
      "X shape before feeder torch.Size([35, 1, 1, 512, 512])\n",
      "T shape before feeder torch.Size([35, 1, 512, 512])\n",
      "X shape after feeder torch.Size([35, 1, 16, 16])\n",
      "T shape after feeder torch.Size([35, 1, 16, 16])\n",
      "X SHAPE torch.Size([35, 1, 256])\n",
      "T SHAPE torch.Size([35, 1, 256])\n"
     ]
    },
    {
     "name": "stderr",
     "output_type": "stream",
     "text": [
      "pixdim[0] (qfac) should be 1 (default) or -1; setting qfac to 1\n",
      "INFO:nibabel.global:pixdim[0] (qfac) should be 1 (default) or -1; setting qfac to 1\n",
      "pixdim[0] (qfac) should be 1 (default) or -1; setting qfac to 1\n",
      "INFO:nibabel.global:pixdim[0] (qfac) should be 1 (default) or -1; setting qfac to 1\n"
     ]
    },
    {
     "name": "stdout",
     "output_type": "stream",
     "text": [
      "BBOXES: torch.Size([35, 4])\n",
      "X shape before feeder torch.Size([35, 1, 1, 512, 512])\n",
      "T shape before feeder torch.Size([35, 1, 512, 512])\n",
      "X shape after feeder torch.Size([35, 1, 16, 16])\n",
      "T shape after feeder torch.Size([35, 1, 16, 16])\n",
      "X SHAPE torch.Size([35, 1, 256])\n",
      "T SHAPE torch.Size([35, 1, 256])\n"
     ]
    },
    {
     "name": "stderr",
     "output_type": "stream",
     "text": [
      "pixdim[0] (qfac) should be 1 (default) or -1; setting qfac to 1\n",
      "INFO:nibabel.global:pixdim[0] (qfac) should be 1 (default) or -1; setting qfac to 1\n",
      "pixdim[0] (qfac) should be 1 (default) or -1; setting qfac to 1\n",
      "INFO:nibabel.global:pixdim[0] (qfac) should be 1 (default) or -1; setting qfac to 1\n"
     ]
    },
    {
     "name": "stdout",
     "output_type": "stream",
     "text": [
      "BBOXES: torch.Size([35, 4])\n",
      "X shape before feeder torch.Size([35, 1, 1, 512, 512])\n",
      "T shape before feeder torch.Size([35, 1, 512, 512])\n",
      "X shape after feeder torch.Size([35, 1, 16, 16])\n",
      "T shape after feeder torch.Size([35, 1, 16, 16])\n",
      "X SHAPE torch.Size([35, 1, 256])\n",
      "T SHAPE torch.Size([35, 1, 256])\n"
     ]
    },
    {
     "name": "stderr",
     "output_type": "stream",
     "text": [
      "pixdim[0] (qfac) should be 1 (default) or -1; setting qfac to 1\n",
      "INFO:nibabel.global:pixdim[0] (qfac) should be 1 (default) or -1; setting qfac to 1\n",
      "pixdim[0] (qfac) should be 1 (default) or -1; setting qfac to 1\n",
      "INFO:nibabel.global:pixdim[0] (qfac) should be 1 (default) or -1; setting qfac to 1\n"
     ]
    },
    {
     "name": "stdout",
     "output_type": "stream",
     "text": [
      "BBOXES: torch.Size([35, 4])\n",
      "X shape before feeder torch.Size([35, 1, 1, 512, 512])\n",
      "T shape before feeder torch.Size([35, 1, 512, 512])\n",
      "X shape after feeder torch.Size([35, 1, 16, 16])\n",
      "T shape after feeder torch.Size([35, 1, 16, 16])\n",
      "X SHAPE torch.Size([35, 1, 256])\n",
      "T SHAPE torch.Size([35, 1, 256])\n"
     ]
    },
    {
     "name": "stderr",
     "output_type": "stream",
     "text": [
      "pixdim[0] (qfac) should be 1 (default) or -1; setting qfac to 1\n",
      "INFO:nibabel.global:pixdim[0] (qfac) should be 1 (default) or -1; setting qfac to 1\n",
      "pixdim[0] (qfac) should be 1 (default) or -1; setting qfac to 1\n",
      "INFO:nibabel.global:pixdim[0] (qfac) should be 1 (default) or -1; setting qfac to 1\n"
     ]
    },
    {
     "name": "stdout",
     "output_type": "stream",
     "text": [
      "BBOXES: torch.Size([35, 4])\n",
      "X shape before feeder torch.Size([35, 1, 1, 512, 512])\n",
      "T shape before feeder torch.Size([35, 1, 512, 512])\n",
      "X shape after feeder torch.Size([35, 1, 16, 16])\n",
      "T shape after feeder torch.Size([35, 1, 16, 16])\n",
      "X SHAPE torch.Size([35, 1, 256])\n",
      "T SHAPE torch.Size([35, 1, 256])\n"
     ]
    },
    {
     "name": "stderr",
     "output_type": "stream",
     "text": [
      "pixdim[0] (qfac) should be 1 (default) or -1; setting qfac to 1\n",
      "INFO:nibabel.global:pixdim[0] (qfac) should be 1 (default) or -1; setting qfac to 1\n",
      "pixdim[0] (qfac) should be 1 (default) or -1; setting qfac to 1\n",
      "INFO:nibabel.global:pixdim[0] (qfac) should be 1 (default) or -1; setting qfac to 1\n"
     ]
    },
    {
     "name": "stdout",
     "output_type": "stream",
     "text": [
      "BBOXES: torch.Size([35, 4])\n",
      "X shape before feeder torch.Size([35, 1, 1, 512, 512])\n",
      "T shape before feeder torch.Size([35, 1, 512, 512])\n",
      "X shape after feeder torch.Size([35, 1, 16, 16])\n",
      "T shape after feeder torch.Size([35, 1, 16, 16])\n",
      "X SHAPE torch.Size([35, 1, 256])\n",
      "T SHAPE torch.Size([35, 1, 256])\n"
     ]
    },
    {
     "name": "stderr",
     "output_type": "stream",
     "text": [
      "pixdim[0] (qfac) should be 1 (default) or -1; setting qfac to 1\n",
      "INFO:nibabel.global:pixdim[0] (qfac) should be 1 (default) or -1; setting qfac to 1\n",
      "pixdim[0] (qfac) should be 1 (default) or -1; setting qfac to 1\n",
      "INFO:nibabel.global:pixdim[0] (qfac) should be 1 (default) or -1; setting qfac to 1\n"
     ]
    },
    {
     "name": "stdout",
     "output_type": "stream",
     "text": [
      "BBOXES: torch.Size([35, 4])\n",
      "X shape before feeder torch.Size([35, 1, 1, 512, 512])\n",
      "T shape before feeder torch.Size([35, 1, 512, 512])\n",
      "X shape after feeder torch.Size([35, 1, 16, 16])\n",
      "T shape after feeder torch.Size([35, 1, 16, 16])\n",
      "X SHAPE torch.Size([35, 1, 256])\n",
      "T SHAPE torch.Size([35, 1, 256])\n"
     ]
    },
    {
     "name": "stderr",
     "output_type": "stream",
     "text": [
      "pixdim[0] (qfac) should be 1 (default) or -1; setting qfac to 1\n",
      "INFO:nibabel.global:pixdim[0] (qfac) should be 1 (default) or -1; setting qfac to 1\n",
      "pixdim[0] (qfac) should be 1 (default) or -1; setting qfac to 1\n",
      "INFO:nibabel.global:pixdim[0] (qfac) should be 1 (default) or -1; setting qfac to 1\n"
     ]
    },
    {
     "name": "stdout",
     "output_type": "stream",
     "text": [
      "BBOXES: torch.Size([35, 4])\n",
      "X shape before feeder torch.Size([35, 1, 1, 512, 512])\n",
      "T shape before feeder torch.Size([35, 1, 512, 512])\n",
      "X shape after feeder torch.Size([35, 1, 16, 16])\n",
      "T shape after feeder torch.Size([35, 1, 16, 16])\n",
      "X SHAPE torch.Size([35, 1, 256])\n",
      "T SHAPE torch.Size([35, 1, 256])\n"
     ]
    },
    {
     "name": "stderr",
     "output_type": "stream",
     "text": [
      "pixdim[0] (qfac) should be 1 (default) or -1; setting qfac to 1\n",
      "INFO:nibabel.global:pixdim[0] (qfac) should be 1 (default) or -1; setting qfac to 1\n",
      "pixdim[0] (qfac) should be 1 (default) or -1; setting qfac to 1\n",
      "INFO:nibabel.global:pixdim[0] (qfac) should be 1 (default) or -1; setting qfac to 1\n"
     ]
    },
    {
     "name": "stdout",
     "output_type": "stream",
     "text": [
      "BBOXES: torch.Size([35, 4])\n",
      "X shape before feeder torch.Size([35, 1, 1, 512, 512])\n",
      "T shape before feeder torch.Size([35, 1, 512, 512])\n",
      "X shape after feeder torch.Size([35, 1, 16, 16])\n",
      "T shape after feeder torch.Size([35, 1, 16, 16])\n",
      "X SHAPE torch.Size([35, 1, 256])\n",
      "T SHAPE torch.Size([35, 1, 256])\n"
     ]
    },
    {
     "name": "stderr",
     "output_type": "stream",
     "text": [
      "pixdim[0] (qfac) should be 1 (default) or -1; setting qfac to 1\n",
      "INFO:nibabel.global:pixdim[0] (qfac) should be 1 (default) or -1; setting qfac to 1\n",
      "pixdim[0] (qfac) should be 1 (default) or -1; setting qfac to 1\n",
      "INFO:nibabel.global:pixdim[0] (qfac) should be 1 (default) or -1; setting qfac to 1\n"
     ]
    },
    {
     "name": "stdout",
     "output_type": "stream",
     "text": [
      "BBOXES: torch.Size([35, 4])\n",
      "X shape before feeder torch.Size([35, 1, 1, 512, 512])\n",
      "T shape before feeder torch.Size([35, 1, 512, 512])\n",
      "X shape after feeder torch.Size([35, 1, 16, 16])\n",
      "T shape after feeder torch.Size([35, 1, 16, 16])\n",
      "X SHAPE torch.Size([35, 1, 256])\n",
      "T SHAPE torch.Size([35, 1, 256])\n"
     ]
    },
    {
     "name": "stderr",
     "output_type": "stream",
     "text": [
      "pixdim[0] (qfac) should be 1 (default) or -1; setting qfac to 1\n",
      "INFO:nibabel.global:pixdim[0] (qfac) should be 1 (default) or -1; setting qfac to 1\n",
      "pixdim[0] (qfac) should be 1 (default) or -1; setting qfac to 1\n",
      "INFO:nibabel.global:pixdim[0] (qfac) should be 1 (default) or -1; setting qfac to 1\n"
     ]
    },
    {
     "name": "stdout",
     "output_type": "stream",
     "text": [
      "BBOXES: torch.Size([35, 4])\n",
      "X shape before feeder torch.Size([35, 1, 1, 512, 512])\n",
      "T shape before feeder torch.Size([35, 1, 512, 512])\n",
      "X shape after feeder torch.Size([35, 1, 16, 16])\n",
      "T shape after feeder torch.Size([35, 1, 16, 16])\n",
      "X SHAPE torch.Size([35, 1, 256])\n",
      "T SHAPE torch.Size([35, 1, 256])\n"
     ]
    },
    {
     "name": "stderr",
     "output_type": "stream",
     "text": [
      "pixdim[0] (qfac) should be 1 (default) or -1; setting qfac to 1\n",
      "INFO:nibabel.global:pixdim[0] (qfac) should be 1 (default) or -1; setting qfac to 1\n",
      "pixdim[0] (qfac) should be 1 (default) or -1; setting qfac to 1\n",
      "INFO:nibabel.global:pixdim[0] (qfac) should be 1 (default) or -1; setting qfac to 1\n",
      "pixdim[0] (qfac) should be 1 (default) or -1; setting qfac to 1\n",
      "INFO:nibabel.global:pixdim[0] (qfac) should be 1 (default) or -1; setting qfac to 1\n"
     ]
    },
    {
     "name": "stdout",
     "output_type": "stream",
     "text": [
      "BBOXES: torch.Size([35, 4])\n",
      "X shape before feeder torch.Size([35, 1, 1, 512, 512])\n",
      "T shape before feeder torch.Size([35, 1, 512, 512])\n",
      "X shape after feeder torch.Size([35, 1, 16, 16])\n",
      "T shape after feeder torch.Size([35, 1, 16, 16])\n",
      "X SHAPE torch.Size([35, 1, 256])\n",
      "T SHAPE torch.Size([35, 1, 256])\n"
     ]
    },
    {
     "name": "stderr",
     "output_type": "stream",
     "text": [
      "pixdim[0] (qfac) should be 1 (default) or -1; setting qfac to 1\n",
      "INFO:nibabel.global:pixdim[0] (qfac) should be 1 (default) or -1; setting qfac to 1\n",
      "pixdim[0] (qfac) should be 1 (default) or -1; setting qfac to 1\n",
      "INFO:nibabel.global:pixdim[0] (qfac) should be 1 (default) or -1; setting qfac to 1\n",
      "pixdim[0] (qfac) should be 1 (default) or -1; setting qfac to 1\n",
      "INFO:nibabel.global:pixdim[0] (qfac) should be 1 (default) or -1; setting qfac to 1\n"
     ]
    },
    {
     "name": "stdout",
     "output_type": "stream",
     "text": [
      "BBOXES: torch.Size([35, 4])\n",
      "X shape before feeder torch.Size([35, 1, 1, 512, 512])\n",
      "T shape before feeder torch.Size([35, 1, 512, 512])\n",
      "X shape after feeder torch.Size([35, 1, 16, 16])\n",
      "T shape after feeder torch.Size([35, 1, 16, 16])\n",
      "X SHAPE torch.Size([35, 1, 256])\n",
      "T SHAPE torch.Size([35, 1, 256])\n"
     ]
    },
    {
     "name": "stderr",
     "output_type": "stream",
     "text": [
      "pixdim[0] (qfac) should be 1 (default) or -1; setting qfac to 1\n",
      "INFO:nibabel.global:pixdim[0] (qfac) should be 1 (default) or -1; setting qfac to 1\n",
      "pixdim[0] (qfac) should be 1 (default) or -1; setting qfac to 1\n",
      "INFO:nibabel.global:pixdim[0] (qfac) should be 1 (default) or -1; setting qfac to 1\n"
     ]
    },
    {
     "name": "stdout",
     "output_type": "stream",
     "text": [
      "BBOXES: torch.Size([35, 4])\n",
      "X shape before feeder torch.Size([35, 1, 1, 512, 512])\n",
      "T shape before feeder torch.Size([35, 1, 512, 512])\n",
      "X shape after feeder torch.Size([35, 1, 16, 16])\n",
      "T shape after feeder torch.Size([35, 1, 16, 16])\n",
      "X SHAPE torch.Size([35, 1, 256])\n",
      "T SHAPE torch.Size([35, 1, 256])\n"
     ]
    },
    {
     "name": "stderr",
     "output_type": "stream",
     "text": [
      "pixdim[0] (qfac) should be 1 (default) or -1; setting qfac to 1\n",
      "INFO:nibabel.global:pixdim[0] (qfac) should be 1 (default) or -1; setting qfac to 1\n",
      "pixdim[0] (qfac) should be 1 (default) or -1; setting qfac to 1\n",
      "INFO:nibabel.global:pixdim[0] (qfac) should be 1 (default) or -1; setting qfac to 1\n"
     ]
    },
    {
     "name": "stdout",
     "output_type": "stream",
     "text": [
      "BBOXES: torch.Size([35, 4])\n",
      "X shape before feeder torch.Size([35, 1, 1, 512, 512])\n",
      "T shape before feeder torch.Size([35, 1, 512, 512])\n",
      "X shape after feeder torch.Size([35, 1, 16, 16])\n",
      "T shape after feeder torch.Size([35, 1, 16, 16])\n",
      "X SHAPE torch.Size([35, 1, 256])\n",
      "T SHAPE torch.Size([35, 1, 256])\n"
     ]
    },
    {
     "name": "stderr",
     "output_type": "stream",
     "text": [
      "pixdim[0] (qfac) should be 1 (default) or -1; setting qfac to 1\n",
      "INFO:nibabel.global:pixdim[0] (qfac) should be 1 (default) or -1; setting qfac to 1\n",
      "pixdim[0] (qfac) should be 1 (default) or -1; setting qfac to 1\n",
      "INFO:nibabel.global:pixdim[0] (qfac) should be 1 (default) or -1; setting qfac to 1\n"
     ]
    },
    {
     "name": "stdout",
     "output_type": "stream",
     "text": [
      "BBOXES: torch.Size([35, 4])\n",
      "X shape before feeder torch.Size([35, 1, 1, 512, 512])\n",
      "T shape before feeder torch.Size([35, 1, 512, 512])\n",
      "X shape after feeder torch.Size([35, 1, 16, 16])\n",
      "T shape after feeder torch.Size([35, 1, 16, 16])\n",
      "X SHAPE torch.Size([35, 1, 256])\n",
      "T SHAPE torch.Size([35, 1, 256])\n"
     ]
    },
    {
     "name": "stderr",
     "output_type": "stream",
     "text": [
      "pixdim[0] (qfac) should be 1 (default) or -1; setting qfac to 1\n",
      "INFO:nibabel.global:pixdim[0] (qfac) should be 1 (default) or -1; setting qfac to 1\n",
      "pixdim[0] (qfac) should be 1 (default) or -1; setting qfac to 1\n",
      "INFO:nibabel.global:pixdim[0] (qfac) should be 1 (default) or -1; setting qfac to 1\n"
     ]
    },
    {
     "name": "stdout",
     "output_type": "stream",
     "text": [
      "BBOXES: torch.Size([35, 4])\n",
      "X shape before feeder torch.Size([35, 1, 1, 512, 512])\n",
      "T shape before feeder torch.Size([35, 1, 512, 512])\n",
      "X shape after feeder torch.Size([35, 1, 16, 16])\n",
      "T shape after feeder torch.Size([35, 1, 16, 16])\n",
      "X SHAPE torch.Size([35, 1, 256])\n",
      "T SHAPE torch.Size([35, 1, 256])\n"
     ]
    },
    {
     "name": "stderr",
     "output_type": "stream",
     "text": [
      "pixdim[0] (qfac) should be 1 (default) or -1; setting qfac to 1\n",
      "INFO:nibabel.global:pixdim[0] (qfac) should be 1 (default) or -1; setting qfac to 1\n",
      "pixdim[0] (qfac) should be 1 (default) or -1; setting qfac to 1\n",
      "INFO:nibabel.global:pixdim[0] (qfac) should be 1 (default) or -1; setting qfac to 1\n"
     ]
    },
    {
     "name": "stdout",
     "output_type": "stream",
     "text": [
      "BBOXES: torch.Size([35, 4])\n",
      "X shape before feeder torch.Size([35, 1, 1, 512, 512])\n",
      "T shape before feeder torch.Size([35, 1, 512, 512])\n",
      "X shape after feeder torch.Size([35, 1, 16, 16])\n",
      "T shape after feeder torch.Size([35, 1, 16, 16])\n",
      "X SHAPE torch.Size([35, 1, 256])\n",
      "T SHAPE torch.Size([35, 1, 256])\n"
     ]
    },
    {
     "name": "stderr",
     "output_type": "stream",
     "text": [
      "pixdim[0] (qfac) should be 1 (default) or -1; setting qfac to 1\n",
      "INFO:nibabel.global:pixdim[0] (qfac) should be 1 (default) or -1; setting qfac to 1\n",
      "pixdim[0] (qfac) should be 1 (default) or -1; setting qfac to 1\n",
      "INFO:nibabel.global:pixdim[0] (qfac) should be 1 (default) or -1; setting qfac to 1\n"
     ]
    },
    {
     "name": "stdout",
     "output_type": "stream",
     "text": [
      "BBOXES: torch.Size([35, 4])\n",
      "X shape before feeder torch.Size([35, 1, 1, 512, 512])\n",
      "T shape before feeder torch.Size([35, 1, 512, 512])\n",
      "X shape after feeder torch.Size([35, 1, 16, 16])\n",
      "T shape after feeder torch.Size([35, 1, 16, 16])\n",
      "X SHAPE torch.Size([35, 1, 256])\n",
      "T SHAPE torch.Size([35, 1, 256])\n"
     ]
    },
    {
     "name": "stderr",
     "output_type": "stream",
     "text": [
      "pixdim[0] (qfac) should be 1 (default) or -1; setting qfac to 1\n",
      "INFO:nibabel.global:pixdim[0] (qfac) should be 1 (default) or -1; setting qfac to 1\n",
      "pixdim[0] (qfac) should be 1 (default) or -1; setting qfac to 1\n",
      "INFO:nibabel.global:pixdim[0] (qfac) should be 1 (default) or -1; setting qfac to 1\n"
     ]
    },
    {
     "name": "stdout",
     "output_type": "stream",
     "text": [
      "BBOXES: torch.Size([35, 4])\n",
      "X shape before feeder torch.Size([35, 1, 1, 512, 512])\n",
      "T shape before feeder torch.Size([35, 1, 512, 512])\n",
      "X shape after feeder torch.Size([35, 1, 16, 16])\n",
      "T shape after feeder torch.Size([35, 1, 16, 16])\n",
      "X SHAPE torch.Size([35, 1, 256])\n",
      "T SHAPE torch.Size([35, 1, 256])\n"
     ]
    },
    {
     "name": "stderr",
     "output_type": "stream",
     "text": [
      "pixdim[0] (qfac) should be 1 (default) or -1; setting qfac to 1\n",
      "INFO:nibabel.global:pixdim[0] (qfac) should be 1 (default) or -1; setting qfac to 1\n",
      "pixdim[0] (qfac) should be 1 (default) or -1; setting qfac to 1\n",
      "INFO:nibabel.global:pixdim[0] (qfac) should be 1 (default) or -1; setting qfac to 1\n"
     ]
    },
    {
     "name": "stdout",
     "output_type": "stream",
     "text": [
      "BBOXES: torch.Size([35, 4])\n",
      "X shape before feeder torch.Size([35, 1, 1, 512, 512])\n",
      "T shape before feeder torch.Size([35, 1, 512, 512])\n",
      "X shape after feeder torch.Size([35, 1, 16, 16])\n",
      "T shape after feeder torch.Size([35, 1, 16, 16])\n",
      "X SHAPE torch.Size([35, 1, 256])\n",
      "T SHAPE torch.Size([35, 1, 256])\n"
     ]
    },
    {
     "name": "stderr",
     "output_type": "stream",
     "text": [
      "pixdim[0] (qfac) should be 1 (default) or -1; setting qfac to 1\n",
      "INFO:nibabel.global:pixdim[0] (qfac) should be 1 (default) or -1; setting qfac to 1\n",
      "pixdim[0] (qfac) should be 1 (default) or -1; setting qfac to 1\n",
      "INFO:nibabel.global:pixdim[0] (qfac) should be 1 (default) or -1; setting qfac to 1\n"
     ]
    },
    {
     "name": "stdout",
     "output_type": "stream",
     "text": [
      "BBOXES: torch.Size([35, 4])\n",
      "X shape before feeder torch.Size([35, 1, 1, 512, 512])\n",
      "T shape before feeder torch.Size([35, 1, 512, 512])\n",
      "X shape after feeder torch.Size([35, 1, 16, 16])\n",
      "T shape after feeder torch.Size([35, 1, 16, 16])\n",
      "X SHAPE torch.Size([35, 1, 256])\n",
      "T SHAPE torch.Size([35, 1, 256])\n"
     ]
    },
    {
     "name": "stderr",
     "output_type": "stream",
     "text": [
      "pixdim[0] (qfac) should be 1 (default) or -1; setting qfac to 1\n",
      "INFO:nibabel.global:pixdim[0] (qfac) should be 1 (default) or -1; setting qfac to 1\n",
      "pixdim[0] (qfac) should be 1 (default) or -1; setting qfac to 1\n",
      "INFO:nibabel.global:pixdim[0] (qfac) should be 1 (default) or -1; setting qfac to 1\n"
     ]
    },
    {
     "name": "stdout",
     "output_type": "stream",
     "text": [
      "BBOXES: torch.Size([35, 4])\n",
      "X shape before feeder torch.Size([35, 1, 1, 512, 512])\n",
      "T shape before feeder torch.Size([35, 1, 512, 512])\n",
      "X shape after feeder torch.Size([35, 1, 16, 16])\n",
      "T shape after feeder torch.Size([35, 1, 16, 16])\n",
      "X SHAPE torch.Size([35, 1, 256])\n",
      "T SHAPE torch.Size([35, 1, 256])\n"
     ]
    },
    {
     "name": "stderr",
     "output_type": "stream",
     "text": [
      "pixdim[0] (qfac) should be 1 (default) or -1; setting qfac to 1\n",
      "INFO:nibabel.global:pixdim[0] (qfac) should be 1 (default) or -1; setting qfac to 1\n",
      "pixdim[0] (qfac) should be 1 (default) or -1; setting qfac to 1\n",
      "INFO:nibabel.global:pixdim[0] (qfac) should be 1 (default) or -1; setting qfac to 1\n"
     ]
    },
    {
     "name": "stdout",
     "output_type": "stream",
     "text": [
      "BBOXES: torch.Size([35, 4])\n",
      "X shape before feeder torch.Size([35, 1, 1, 512, 512])\n",
      "T shape before feeder torch.Size([35, 1, 512, 512])\n",
      "X shape after feeder torch.Size([35, 1, 16, 16])\n",
      "T shape after feeder torch.Size([35, 1, 16, 16])\n",
      "X SHAPE torch.Size([35, 1, 256])\n",
      "T SHAPE torch.Size([35, 1, 256])\n"
     ]
    },
    {
     "name": "stderr",
     "output_type": "stream",
     "text": [
      "pixdim[0] (qfac) should be 1 (default) or -1; setting qfac to 1\n",
      "INFO:nibabel.global:pixdim[0] (qfac) should be 1 (default) or -1; setting qfac to 1\n",
      "pixdim[0] (qfac) should be 1 (default) or -1; setting qfac to 1\n",
      "INFO:nibabel.global:pixdim[0] (qfac) should be 1 (default) or -1; setting qfac to 1\n"
     ]
    },
    {
     "name": "stdout",
     "output_type": "stream",
     "text": [
      "BBOXES: torch.Size([35, 4])\n",
      "X shape before feeder torch.Size([35, 1, 1, 512, 512])\n",
      "T shape before feeder torch.Size([35, 1, 512, 512])\n",
      "X shape after feeder torch.Size([35, 1, 16, 16])\n",
      "T shape after feeder torch.Size([35, 1, 16, 16])\n",
      "X SHAPE torch.Size([35, 1, 256])\n",
      "T SHAPE torch.Size([35, 1, 256])\n"
     ]
    },
    {
     "name": "stderr",
     "output_type": "stream",
     "text": [
      "pixdim[0] (qfac) should be 1 (default) or -1; setting qfac to 1\n",
      "INFO:nibabel.global:pixdim[0] (qfac) should be 1 (default) or -1; setting qfac to 1\n",
      "pixdim[0] (qfac) should be 1 (default) or -1; setting qfac to 1\n",
      "INFO:nibabel.global:pixdim[0] (qfac) should be 1 (default) or -1; setting qfac to 1\n"
     ]
    },
    {
     "name": "stdout",
     "output_type": "stream",
     "text": [
      "BBOXES: torch.Size([35, 4])\n",
      "X shape before feeder torch.Size([35, 1, 1, 512, 512])\n",
      "T shape before feeder torch.Size([35, 1, 512, 512])\n",
      "X shape after feeder torch.Size([35, 1, 16, 16])\n",
      "T shape after feeder torch.Size([35, 1, 16, 16])\n",
      "X SHAPE torch.Size([35, 1, 256])\n",
      "T SHAPE torch.Size([35, 1, 256])\n"
     ]
    },
    {
     "name": "stderr",
     "output_type": "stream",
     "text": [
      "pixdim[0] (qfac) should be 1 (default) or -1; setting qfac to 1\n",
      "INFO:nibabel.global:pixdim[0] (qfac) should be 1 (default) or -1; setting qfac to 1\n",
      "pixdim[0] (qfac) should be 1 (default) or -1; setting qfac to 1\n",
      "INFO:nibabel.global:pixdim[0] (qfac) should be 1 (default) or -1; setting qfac to 1\n"
     ]
    },
    {
     "name": "stdout",
     "output_type": "stream",
     "text": [
      "BBOXES: torch.Size([35, 4])\n",
      "X shape before feeder torch.Size([35, 1, 1, 512, 512])\n",
      "T shape before feeder torch.Size([35, 1, 512, 512])\n",
      "X shape after feeder torch.Size([35, 1, 16, 16])\n",
      "T shape after feeder torch.Size([35, 1, 16, 16])\n",
      "X SHAPE torch.Size([35, 1, 256])\n",
      "T SHAPE torch.Size([35, 1, 256])\n"
     ]
    },
    {
     "name": "stderr",
     "output_type": "stream",
     "text": [
      "pixdim[0] (qfac) should be 1 (default) or -1; setting qfac to 1\n",
      "INFO:nibabel.global:pixdim[0] (qfac) should be 1 (default) or -1; setting qfac to 1\n",
      "pixdim[0] (qfac) should be 1 (default) or -1; setting qfac to 1\n",
      "INFO:nibabel.global:pixdim[0] (qfac) should be 1 (default) or -1; setting qfac to 1\n"
     ]
    },
    {
     "name": "stdout",
     "output_type": "stream",
     "text": [
      "BBOXES: torch.Size([35, 4])\n",
      "X shape before feeder torch.Size([35, 1, 1, 512, 512])\n",
      "T shape before feeder torch.Size([35, 1, 512, 512])\n",
      "X shape after feeder torch.Size([35, 1, 16, 16])\n",
      "T shape after feeder torch.Size([35, 1, 16, 16])\n",
      "X SHAPE torch.Size([35, 1, 256])\n",
      "T SHAPE torch.Size([35, 1, 256])\n"
     ]
    },
    {
     "name": "stderr",
     "output_type": "stream",
     "text": [
      "pixdim[0] (qfac) should be 1 (default) or -1; setting qfac to 1\n",
      "INFO:nibabel.global:pixdim[0] (qfac) should be 1 (default) or -1; setting qfac to 1\n",
      "pixdim[0] (qfac) should be 1 (default) or -1; setting qfac to 1\n",
      "INFO:nibabel.global:pixdim[0] (qfac) should be 1 (default) or -1; setting qfac to 1\n",
      "pixdim[0] (qfac) should be 1 (default) or -1; setting qfac to 1\n"
     ]
    },
    {
     "name": "stdout",
     "output_type": "stream",
     "text": [
      "BBOXES: torch.Size([35, 4])\n",
      "X shape before feeder torch.Size([35, 1, 1, 512, 512])\n",
      "T shape before feeder torch.Size([35, 1, 512, 512])\n",
      "X shape after feeder torch.Size([35, 1, 16, 16])\n",
      "T shape after feeder torch.Size([35, 1, 16, 16])\n",
      "X SHAPE torch.Size([35, 1, 256])\n",
      "T SHAPE torch.Size([35, 1, 256])\n"
     ]
    },
    {
     "name": "stderr",
     "output_type": "stream",
     "text": [
      "INFO:nibabel.global:pixdim[0] (qfac) should be 1 (default) or -1; setting qfac to 1\n",
      "pixdim[0] (qfac) should be 1 (default) or -1; setting qfac to 1\n",
      "INFO:nibabel.global:pixdim[0] (qfac) should be 1 (default) or -1; setting qfac to 1\n",
      "pixdim[0] (qfac) should be 1 (default) or -1; setting qfac to 1\n",
      "INFO:nibabel.global:pixdim[0] (qfac) should be 1 (default) or -1; setting qfac to 1\n",
      "pixdim[0] (qfac) should be 1 (default) or -1; setting qfac to 1\n",
      "INFO:nibabel.global:pixdim[0] (qfac) should be 1 (default) or -1; setting qfac to 1\n"
     ]
    },
    {
     "name": "stdout",
     "output_type": "stream",
     "text": [
      "BBOXES: torch.Size([35, 4])\n",
      "X shape before feeder torch.Size([35, 1, 1, 512, 512])\n",
      "T shape before feeder torch.Size([35, 1, 512, 512])\n",
      "X shape after feeder torch.Size([35, 1, 16, 16])\n",
      "T shape after feeder torch.Size([35, 1, 16, 16])\n",
      "X SHAPE torch.Size([35, 1, 256])\n",
      "T SHAPE torch.Size([35, 1, 256])\n"
     ]
    },
    {
     "name": "stderr",
     "output_type": "stream",
     "text": [
      "pixdim[0] (qfac) should be 1 (default) or -1; setting qfac to 1\n",
      "INFO:nibabel.global:pixdim[0] (qfac) should be 1 (default) or -1; setting qfac to 1\n",
      "pixdim[0] (qfac) should be 1 (default) or -1; setting qfac to 1\n",
      "INFO:nibabel.global:pixdim[0] (qfac) should be 1 (default) or -1; setting qfac to 1\n"
     ]
    },
    {
     "name": "stdout",
     "output_type": "stream",
     "text": [
      "BBOXES: torch.Size([35, 4])\n",
      "X shape before feeder torch.Size([35, 1, 1, 512, 512])\n",
      "T shape before feeder torch.Size([35, 1, 512, 512])\n",
      "X shape after feeder torch.Size([35, 1, 16, 16])\n",
      "T shape after feeder torch.Size([35, 1, 16, 16])\n",
      "X SHAPE torch.Size([35, 1, 256])\n",
      "T SHAPE torch.Size([35, 1, 256])\n"
     ]
    },
    {
     "name": "stderr",
     "output_type": "stream",
     "text": [
      "pixdim[0] (qfac) should be 1 (default) or -1; setting qfac to 1\n",
      "INFO:nibabel.global:pixdim[0] (qfac) should be 1 (default) or -1; setting qfac to 1\n",
      "pixdim[0] (qfac) should be 1 (default) or -1; setting qfac to 1\n",
      "INFO:nibabel.global:pixdim[0] (qfac) should be 1 (default) or -1; setting qfac to 1\n"
     ]
    },
    {
     "name": "stdout",
     "output_type": "stream",
     "text": [
      "BBOXES: torch.Size([35, 4])\n",
      "X shape before feeder torch.Size([35, 1, 1, 512, 512])\n",
      "T shape before feeder torch.Size([35, 1, 512, 512])\n",
      "X shape after feeder torch.Size([35, 1, 16, 16])\n",
      "T shape after feeder torch.Size([35, 1, 16, 16])\n",
      "X SHAPE torch.Size([35, 1, 256])\n",
      "T SHAPE torch.Size([35, 1, 256])\n"
     ]
    },
    {
     "name": "stderr",
     "output_type": "stream",
     "text": [
      "pixdim[0] (qfac) should be 1 (default) or -1; setting qfac to 1\n",
      "INFO:nibabel.global:pixdim[0] (qfac) should be 1 (default) or -1; setting qfac to 1\n",
      "pixdim[0] (qfac) should be 1 (default) or -1; setting qfac to 1\n",
      "INFO:nibabel.global:pixdim[0] (qfac) should be 1 (default) or -1; setting qfac to 1\n"
     ]
    },
    {
     "name": "stdout",
     "output_type": "stream",
     "text": [
      "BBOXES: torch.Size([35, 4])\n",
      "X shape before feeder torch.Size([35, 1, 1, 512, 512])\n",
      "T shape before feeder torch.Size([35, 1, 512, 512])\n",
      "X shape after feeder torch.Size([35, 1, 16, 16])\n",
      "T shape after feeder torch.Size([35, 1, 16, 16])\n",
      "X SHAPE torch.Size([35, 1, 256])\n",
      "T SHAPE torch.Size([35, 1, 256])\n"
     ]
    },
    {
     "name": "stderr",
     "output_type": "stream",
     "text": [
      "pixdim[0] (qfac) should be 1 (default) or -1; setting qfac to 1\n",
      "INFO:nibabel.global:pixdim[0] (qfac) should be 1 (default) or -1; setting qfac to 1\n",
      "pixdim[0] (qfac) should be 1 (default) or -1; setting qfac to 1\n",
      "INFO:nibabel.global:pixdim[0] (qfac) should be 1 (default) or -1; setting qfac to 1\n"
     ]
    },
    {
     "name": "stdout",
     "output_type": "stream",
     "text": [
      "BBOXES: torch.Size([35, 4])\n",
      "X shape before feeder torch.Size([35, 1, 1, 512, 512])\n",
      "T shape before feeder torch.Size([35, 1, 512, 512])\n",
      "X shape after feeder torch.Size([35, 1, 16, 16])\n",
      "T shape after feeder torch.Size([35, 1, 16, 16])\n",
      "X SHAPE torch.Size([35, 1, 256])\n",
      "T SHAPE torch.Size([35, 1, 256])\n"
     ]
    },
    {
     "name": "stderr",
     "output_type": "stream",
     "text": [
      "pixdim[0] (qfac) should be 1 (default) or -1; setting qfac to 1\n",
      "INFO:nibabel.global:pixdim[0] (qfac) should be 1 (default) or -1; setting qfac to 1\n",
      "pixdim[0] (qfac) should be 1 (default) or -1; setting qfac to 1\n",
      "INFO:nibabel.global:pixdim[0] (qfac) should be 1 (default) or -1; setting qfac to 1\n"
     ]
    },
    {
     "name": "stdout",
     "output_type": "stream",
     "text": [
      "BBOXES: torch.Size([35, 4])\n",
      "X shape before feeder torch.Size([35, 1, 1, 512, 512])\n",
      "T shape before feeder torch.Size([35, 1, 512, 512])\n",
      "X shape after feeder torch.Size([35, 1, 16, 16])\n",
      "T shape after feeder torch.Size([35, 1, 16, 16])\n",
      "X SHAPE torch.Size([35, 1, 256])\n",
      "T SHAPE torch.Size([35, 1, 256])\n"
     ]
    },
    {
     "name": "stderr",
     "output_type": "stream",
     "text": [
      "pixdim[0] (qfac) should be 1 (default) or -1; setting qfac to 1\n",
      "INFO:nibabel.global:pixdim[0] (qfac) should be 1 (default) or -1; setting qfac to 1\n",
      "pixdim[0] (qfac) should be 1 (default) or -1; setting qfac to 1\n",
      "INFO:nibabel.global:pixdim[0] (qfac) should be 1 (default) or -1; setting qfac to 1\n"
     ]
    },
    {
     "name": "stdout",
     "output_type": "stream",
     "text": [
      "BBOXES: torch.Size([35, 4])\n",
      "X shape before feeder torch.Size([35, 1, 1, 512, 512])\n",
      "T shape before feeder torch.Size([35, 1, 512, 512])\n",
      "X shape after feeder torch.Size([35, 1, 16, 16])\n",
      "T shape after feeder torch.Size([35, 1, 16, 16])\n",
      "X SHAPE torch.Size([35, 1, 256])\n",
      "T SHAPE torch.Size([35, 1, 256])\n"
     ]
    },
    {
     "name": "stderr",
     "output_type": "stream",
     "text": [
      "pixdim[0] (qfac) should be 1 (default) or -1; setting qfac to 1\n",
      "INFO:nibabel.global:pixdim[0] (qfac) should be 1 (default) or -1; setting qfac to 1\n",
      "pixdim[0] (qfac) should be 1 (default) or -1; setting qfac to 1\n",
      "INFO:nibabel.global:pixdim[0] (qfac) should be 1 (default) or -1; setting qfac to 1\n"
     ]
    },
    {
     "name": "stdout",
     "output_type": "stream",
     "text": [
      "BBOXES: torch.Size([35, 4])\n",
      "X shape before feeder torch.Size([35, 1, 1, 512, 512])\n",
      "T shape before feeder torch.Size([35, 1, 512, 512])\n",
      "X shape after feeder torch.Size([35, 1, 16, 16])\n",
      "T shape after feeder torch.Size([35, 1, 16, 16])\n",
      "X SHAPE torch.Size([35, 1, 256])\n",
      "T SHAPE torch.Size([35, 1, 256])\n"
     ]
    },
    {
     "name": "stderr",
     "output_type": "stream",
     "text": [
      "pixdim[0] (qfac) should be 1 (default) or -1; setting qfac to 1\n",
      "INFO:nibabel.global:pixdim[0] (qfac) should be 1 (default) or -1; setting qfac to 1\n",
      "pixdim[0] (qfac) should be 1 (default) or -1; setting qfac to 1\n",
      "INFO:nibabel.global:pixdim[0] (qfac) should be 1 (default) or -1; setting qfac to 1\n"
     ]
    },
    {
     "name": "stdout",
     "output_type": "stream",
     "text": [
      "BBOXES: torch.Size([35, 4])\n",
      "X shape before feeder torch.Size([35, 1, 1, 512, 512])\n",
      "T shape before feeder torch.Size([35, 1, 512, 512])\n",
      "X shape after feeder torch.Size([35, 1, 16, 16])\n",
      "T shape after feeder torch.Size([35, 1, 16, 16])\n",
      "X SHAPE torch.Size([35, 1, 256])\n",
      "T SHAPE torch.Size([35, 1, 256])\n"
     ]
    },
    {
     "name": "stderr",
     "output_type": "stream",
     "text": [
      "pixdim[0] (qfac) should be 1 (default) or -1; setting qfac to 1\n",
      "INFO:nibabel.global:pixdim[0] (qfac) should be 1 (default) or -1; setting qfac to 1\n",
      "pixdim[0] (qfac) should be 1 (default) or -1; setting qfac to 1\n",
      "INFO:nibabel.global:pixdim[0] (qfac) should be 1 (default) or -1; setting qfac to 1\n"
     ]
    },
    {
     "name": "stdout",
     "output_type": "stream",
     "text": [
      "BBOXES: torch.Size([35, 4])\n",
      "X shape before feeder torch.Size([35, 1, 1, 512, 512])\n",
      "T shape before feeder torch.Size([35, 1, 512, 512])\n",
      "X shape after feeder torch.Size([35, 1, 16, 16])\n",
      "T shape after feeder torch.Size([35, 1, 16, 16])\n",
      "X SHAPE torch.Size([35, 1, 256])\n",
      "T SHAPE torch.Size([35, 1, 256])\n"
     ]
    },
    {
     "name": "stderr",
     "output_type": "stream",
     "text": [
      "pixdim[0] (qfac) should be 1 (default) or -1; setting qfac to 1\n",
      "INFO:nibabel.global:pixdim[0] (qfac) should be 1 (default) or -1; setting qfac to 1\n",
      "pixdim[0] (qfac) should be 1 (default) or -1; setting qfac to 1\n",
      "INFO:nibabel.global:pixdim[0] (qfac) should be 1 (default) or -1; setting qfac to 1\n"
     ]
    },
    {
     "name": "stdout",
     "output_type": "stream",
     "text": [
      "BBOXES: torch.Size([35, 4])\n",
      "X shape before feeder torch.Size([35, 1, 1, 512, 512])\n",
      "T shape before feeder torch.Size([35, 1, 512, 512])\n",
      "X shape after feeder torch.Size([35, 1, 16, 16])\n",
      "T shape after feeder torch.Size([35, 1, 16, 16])\n",
      "X SHAPE torch.Size([35, 1, 256])\n",
      "T SHAPE torch.Size([35, 1, 256])\n"
     ]
    },
    {
     "name": "stderr",
     "output_type": "stream",
     "text": [
      "pixdim[0] (qfac) should be 1 (default) or -1; setting qfac to 1\n",
      "INFO:nibabel.global:pixdim[0] (qfac) should be 1 (default) or -1; setting qfac to 1\n",
      "pixdim[0] (qfac) should be 1 (default) or -1; setting qfac to 1\n",
      "INFO:nibabel.global:pixdim[0] (qfac) should be 1 (default) or -1; setting qfac to 1\n",
      "pixdim[0] (qfac) should be 1 (default) or -1; setting qfac to 1\n"
     ]
    },
    {
     "name": "stdout",
     "output_type": "stream",
     "text": [
      "BBOXES: torch.Size([35, 4])\n",
      "X shape before feeder torch.Size([35, 1, 1, 512, 512])\n",
      "T shape before feeder torch.Size([35, 1, 512, 512])\n",
      "X shape after feeder torch.Size([35, 1, 16, 16])\n",
      "T shape after feeder torch.Size([35, 1, 16, 16])\n",
      "X SHAPE torch.Size([35, 1, 256])\n",
      "T SHAPE torch.Size([35, 1, 256])\n"
     ]
    },
    {
     "name": "stderr",
     "output_type": "stream",
     "text": [
      "INFO:nibabel.global:pixdim[0] (qfac) should be 1 (default) or -1; setting qfac to 1\n",
      "pixdim[0] (qfac) should be 1 (default) or -1; setting qfac to 1\n",
      "INFO:nibabel.global:pixdim[0] (qfac) should be 1 (default) or -1; setting qfac to 1\n",
      "pixdim[0] (qfac) should be 1 (default) or -1; setting qfac to 1\n",
      "INFO:nibabel.global:pixdim[0] (qfac) should be 1 (default) or -1; setting qfac to 1\n",
      "pixdim[0] (qfac) should be 1 (default) or -1; setting qfac to 1\n",
      "INFO:nibabel.global:pixdim[0] (qfac) should be 1 (default) or -1; setting qfac to 1\n"
     ]
    },
    {
     "name": "stdout",
     "output_type": "stream",
     "text": [
      "BBOXES: torch.Size([35, 4])\n",
      "X shape before feeder torch.Size([35, 1, 1, 512, 512])\n",
      "T shape before feeder torch.Size([35, 1, 512, 512])\n",
      "X shape after feeder torch.Size([35, 1, 16, 16])\n",
      "T shape after feeder torch.Size([35, 1, 16, 16])\n",
      "X SHAPE torch.Size([35, 1, 256])\n",
      "T SHAPE torch.Size([35, 1, 256])\n"
     ]
    },
    {
     "name": "stderr",
     "output_type": "stream",
     "text": [
      "pixdim[0] (qfac) should be 1 (default) or -1; setting qfac to 1\n",
      "INFO:nibabel.global:pixdim[0] (qfac) should be 1 (default) or -1; setting qfac to 1\n",
      "INFO:andy:Progress:\t200/385\n",
      "INFO:andy:Current error:\t0.7383832931518555\n",
      "pixdim[0] (qfac) should be 1 (default) or -1; setting qfac to 1\n",
      "INFO:nibabel.global:pixdim[0] (qfac) should be 1 (default) or -1; setting qfac to 1\n"
     ]
    },
    {
     "name": "stdout",
     "output_type": "stream",
     "text": [
      "BBOXES: torch.Size([35, 4])\n",
      "X shape before feeder torch.Size([35, 1, 1, 512, 512])\n",
      "T shape before feeder torch.Size([35, 1, 512, 512])\n",
      "X shape after feeder torch.Size([35, 1, 16, 16])\n",
      "T shape after feeder torch.Size([35, 1, 16, 16])\n",
      "X SHAPE torch.Size([35, 1, 256])\n",
      "T SHAPE torch.Size([35, 1, 256])\n"
     ]
    },
    {
     "name": "stderr",
     "output_type": "stream",
     "text": [
      "pixdim[0] (qfac) should be 1 (default) or -1; setting qfac to 1\n",
      "INFO:nibabel.global:pixdim[0] (qfac) should be 1 (default) or -1; setting qfac to 1\n",
      "pixdim[0] (qfac) should be 1 (default) or -1; setting qfac to 1\n",
      "INFO:nibabel.global:pixdim[0] (qfac) should be 1 (default) or -1; setting qfac to 1\n"
     ]
    },
    {
     "name": "stdout",
     "output_type": "stream",
     "text": [
      "BBOXES: torch.Size([35, 4])\n",
      "X shape before feeder torch.Size([35, 1, 1, 512, 512])\n",
      "T shape before feeder torch.Size([35, 1, 512, 512])\n",
      "X shape after feeder torch.Size([35, 1, 16, 16])\n",
      "T shape after feeder torch.Size([35, 1, 16, 16])\n",
      "X SHAPE torch.Size([35, 1, 256])\n",
      "T SHAPE torch.Size([35, 1, 256])\n"
     ]
    },
    {
     "name": "stderr",
     "output_type": "stream",
     "text": [
      "pixdim[0] (qfac) should be 1 (default) or -1; setting qfac to 1\n",
      "INFO:nibabel.global:pixdim[0] (qfac) should be 1 (default) or -1; setting qfac to 1\n",
      "pixdim[0] (qfac) should be 1 (default) or -1; setting qfac to 1\n",
      "INFO:nibabel.global:pixdim[0] (qfac) should be 1 (default) or -1; setting qfac to 1\n"
     ]
    },
    {
     "name": "stdout",
     "output_type": "stream",
     "text": [
      "BBOXES: torch.Size([35, 4])\n",
      "X shape before feeder torch.Size([35, 1, 1, 512, 512])\n",
      "T shape before feeder torch.Size([35, 1, 512, 512])\n",
      "X shape after feeder torch.Size([35, 1, 16, 16])\n",
      "T shape after feeder torch.Size([35, 1, 16, 16])\n",
      "X SHAPE torch.Size([35, 1, 256])\n",
      "T SHAPE torch.Size([35, 1, 256])\n"
     ]
    },
    {
     "name": "stderr",
     "output_type": "stream",
     "text": [
      "pixdim[0] (qfac) should be 1 (default) or -1; setting qfac to 1\n",
      "INFO:nibabel.global:pixdim[0] (qfac) should be 1 (default) or -1; setting qfac to 1\n",
      "pixdim[0] (qfac) should be 1 (default) or -1; setting qfac to 1\n",
      "INFO:nibabel.global:pixdim[0] (qfac) should be 1 (default) or -1; setting qfac to 1\n"
     ]
    },
    {
     "name": "stdout",
     "output_type": "stream",
     "text": [
      "BBOXES: torch.Size([35, 4])\n",
      "X shape before feeder torch.Size([35, 1, 1, 512, 512])\n",
      "T shape before feeder torch.Size([35, 1, 512, 512])\n",
      "X shape after feeder torch.Size([35, 1, 16, 16])\n",
      "T shape after feeder torch.Size([35, 1, 16, 16])\n",
      "X SHAPE torch.Size([35, 1, 256])\n",
      "T SHAPE torch.Size([35, 1, 256])\n"
     ]
    },
    {
     "name": "stderr",
     "output_type": "stream",
     "text": [
      "pixdim[0] (qfac) should be 1 (default) or -1; setting qfac to 1\n",
      "INFO:nibabel.global:pixdim[0] (qfac) should be 1 (default) or -1; setting qfac to 1\n",
      "pixdim[0] (qfac) should be 1 (default) or -1; setting qfac to 1\n",
      "INFO:nibabel.global:pixdim[0] (qfac) should be 1 (default) or -1; setting qfac to 1\n"
     ]
    },
    {
     "name": "stdout",
     "output_type": "stream",
     "text": [
      "BBOXES: torch.Size([35, 4])\n",
      "X shape before feeder torch.Size([35, 1, 1, 512, 512])\n",
      "T shape before feeder torch.Size([35, 1, 512, 512])\n",
      "X shape after feeder torch.Size([35, 1, 16, 16])\n",
      "T shape after feeder torch.Size([35, 1, 16, 16])\n",
      "X SHAPE torch.Size([35, 1, 256])\n",
      "T SHAPE torch.Size([35, 1, 256])\n"
     ]
    },
    {
     "name": "stderr",
     "output_type": "stream",
     "text": [
      "pixdim[0] (qfac) should be 1 (default) or -1; setting qfac to 1\n",
      "INFO:nibabel.global:pixdim[0] (qfac) should be 1 (default) or -1; setting qfac to 1\n",
      "pixdim[0] (qfac) should be 1 (default) or -1; setting qfac to 1\n",
      "INFO:nibabel.global:pixdim[0] (qfac) should be 1 (default) or -1; setting qfac to 1\n"
     ]
    },
    {
     "name": "stdout",
     "output_type": "stream",
     "text": [
      "BBOXES: torch.Size([35, 4])\n",
      "X shape before feeder torch.Size([35, 1, 1, 512, 512])\n",
      "T shape before feeder torch.Size([35, 1, 512, 512])\n",
      "X shape after feeder torch.Size([35, 1, 16, 16])\n",
      "T shape after feeder torch.Size([35, 1, 16, 16])\n",
      "X SHAPE torch.Size([35, 1, 256])\n",
      "T SHAPE torch.Size([35, 1, 256])\n"
     ]
    },
    {
     "name": "stderr",
     "output_type": "stream",
     "text": [
      "pixdim[0] (qfac) should be 1 (default) or -1; setting qfac to 1\n",
      "INFO:nibabel.global:pixdim[0] (qfac) should be 1 (default) or -1; setting qfac to 1\n",
      "pixdim[0] (qfac) should be 1 (default) or -1; setting qfac to 1\n",
      "INFO:nibabel.global:pixdim[0] (qfac) should be 1 (default) or -1; setting qfac to 1\n"
     ]
    },
    {
     "name": "stdout",
     "output_type": "stream",
     "text": [
      "BBOXES: torch.Size([35, 4])\n",
      "X shape before feeder torch.Size([35, 1, 1, 512, 512])\n",
      "T shape before feeder torch.Size([35, 1, 512, 512])\n",
      "X shape after feeder torch.Size([35, 1, 16, 16])\n",
      "T shape after feeder torch.Size([35, 1, 16, 16])\n",
      "X SHAPE torch.Size([35, 1, 256])\n",
      "T SHAPE torch.Size([35, 1, 256])\n"
     ]
    },
    {
     "name": "stderr",
     "output_type": "stream",
     "text": [
      "pixdim[0] (qfac) should be 1 (default) or -1; setting qfac to 1\n",
      "INFO:nibabel.global:pixdim[0] (qfac) should be 1 (default) or -1; setting qfac to 1\n",
      "pixdim[0] (qfac) should be 1 (default) or -1; setting qfac to 1\n",
      "INFO:nibabel.global:pixdim[0] (qfac) should be 1 (default) or -1; setting qfac to 1\n"
     ]
    },
    {
     "name": "stdout",
     "output_type": "stream",
     "text": [
      "BBOXES: torch.Size([35, 4])\n",
      "X shape before feeder torch.Size([35, 1, 1, 512, 512])\n",
      "T shape before feeder torch.Size([35, 1, 512, 512])\n",
      "X shape after feeder torch.Size([35, 1, 16, 16])\n",
      "T shape after feeder torch.Size([35, 1, 16, 16])\n",
      "X SHAPE torch.Size([35, 1, 256])\n",
      "T SHAPE torch.Size([35, 1, 256])\n"
     ]
    },
    {
     "name": "stderr",
     "output_type": "stream",
     "text": [
      "pixdim[0] (qfac) should be 1 (default) or -1; setting qfac to 1\n",
      "INFO:nibabel.global:pixdim[0] (qfac) should be 1 (default) or -1; setting qfac to 1\n",
      "pixdim[0] (qfac) should be 1 (default) or -1; setting qfac to 1\n",
      "INFO:nibabel.global:pixdim[0] (qfac) should be 1 (default) or -1; setting qfac to 1\n"
     ]
    },
    {
     "name": "stdout",
     "output_type": "stream",
     "text": [
      "BBOXES: torch.Size([35, 4])\n",
      "X shape before feeder torch.Size([35, 1, 1, 512, 512])\n",
      "T shape before feeder torch.Size([35, 1, 512, 512])\n",
      "X shape after feeder torch.Size([35, 1, 16, 16])\n",
      "T shape after feeder torch.Size([35, 1, 16, 16])\n",
      "X SHAPE torch.Size([35, 1, 256])\n",
      "T SHAPE torch.Size([35, 1, 256])\n"
     ]
    },
    {
     "name": "stderr",
     "output_type": "stream",
     "text": [
      "pixdim[0] (qfac) should be 1 (default) or -1; setting qfac to 1\n",
      "INFO:nibabel.global:pixdim[0] (qfac) should be 1 (default) or -1; setting qfac to 1\n",
      "pixdim[0] (qfac) should be 1 (default) or -1; setting qfac to 1\n",
      "INFO:nibabel.global:pixdim[0] (qfac) should be 1 (default) or -1; setting qfac to 1\n"
     ]
    },
    {
     "name": "stdout",
     "output_type": "stream",
     "text": [
      "BBOXES: torch.Size([35, 4])\n",
      "X shape before feeder torch.Size([35, 1, 1, 512, 512])\n",
      "T shape before feeder torch.Size([35, 1, 512, 512])\n",
      "X shape after feeder torch.Size([35, 1, 16, 16])\n",
      "T shape after feeder torch.Size([35, 1, 16, 16])\n",
      "X SHAPE torch.Size([35, 1, 256])\n",
      "T SHAPE torch.Size([35, 1, 256])\n"
     ]
    },
    {
     "name": "stderr",
     "output_type": "stream",
     "text": [
      "pixdim[0] (qfac) should be 1 (default) or -1; setting qfac to 1\n",
      "INFO:nibabel.global:pixdim[0] (qfac) should be 1 (default) or -1; setting qfac to 1\n",
      "pixdim[0] (qfac) should be 1 (default) or -1; setting qfac to 1\n",
      "INFO:nibabel.global:pixdim[0] (qfac) should be 1 (default) or -1; setting qfac to 1\n"
     ]
    },
    {
     "name": "stdout",
     "output_type": "stream",
     "text": [
      "BBOXES: torch.Size([35, 4])\n",
      "X shape before feeder torch.Size([35, 1, 1, 512, 512])\n",
      "T shape before feeder torch.Size([35, 1, 512, 512])\n",
      "X shape after feeder torch.Size([35, 1, 16, 16])\n",
      "T shape after feeder torch.Size([35, 1, 16, 16])\n",
      "X SHAPE torch.Size([35, 1, 256])\n",
      "T SHAPE torch.Size([35, 1, 256])\n"
     ]
    },
    {
     "name": "stderr",
     "output_type": "stream",
     "text": [
      "pixdim[0] (qfac) should be 1 (default) or -1; setting qfac to 1\n",
      "INFO:nibabel.global:pixdim[0] (qfac) should be 1 (default) or -1; setting qfac to 1\n",
      "pixdim[0] (qfac) should be 1 (default) or -1; setting qfac to 1\n",
      "INFO:nibabel.global:pixdim[0] (qfac) should be 1 (default) or -1; setting qfac to 1\n"
     ]
    },
    {
     "name": "stdout",
     "output_type": "stream",
     "text": [
      "BBOXES: torch.Size([35, 4])\n",
      "X shape before feeder torch.Size([35, 1, 1, 512, 512])\n",
      "T shape before feeder torch.Size([35, 1, 512, 512])\n",
      "X shape after feeder torch.Size([35, 1, 16, 16])\n",
      "T shape after feeder torch.Size([35, 1, 16, 16])\n",
      "X SHAPE torch.Size([35, 1, 256])\n",
      "T SHAPE torch.Size([35, 1, 256])\n"
     ]
    },
    {
     "name": "stderr",
     "output_type": "stream",
     "text": [
      "pixdim[0] (qfac) should be 1 (default) or -1; setting qfac to 1\n",
      "INFO:nibabel.global:pixdim[0] (qfac) should be 1 (default) or -1; setting qfac to 1\n",
      "pixdim[0] (qfac) should be 1 (default) or -1; setting qfac to 1\n",
      "INFO:nibabel.global:pixdim[0] (qfac) should be 1 (default) or -1; setting qfac to 1\n"
     ]
    },
    {
     "name": "stdout",
     "output_type": "stream",
     "text": [
      "BBOXES: torch.Size([35, 4])\n",
      "X shape before feeder torch.Size([35, 1, 1, 512, 512])\n",
      "T shape before feeder torch.Size([35, 1, 512, 512])\n",
      "X shape after feeder torch.Size([35, 1, 16, 16])\n",
      "T shape after feeder torch.Size([35, 1, 16, 16])\n",
      "X SHAPE torch.Size([35, 1, 256])\n",
      "T SHAPE torch.Size([35, 1, 256])\n"
     ]
    },
    {
     "name": "stderr",
     "output_type": "stream",
     "text": [
      "pixdim[0] (qfac) should be 1 (default) or -1; setting qfac to 1\n",
      "INFO:nibabel.global:pixdim[0] (qfac) should be 1 (default) or -1; setting qfac to 1\n",
      "pixdim[0] (qfac) should be 1 (default) or -1; setting qfac to 1\n",
      "INFO:nibabel.global:pixdim[0] (qfac) should be 1 (default) or -1; setting qfac to 1\n"
     ]
    },
    {
     "name": "stdout",
     "output_type": "stream",
     "text": [
      "BBOXES: torch.Size([35, 4])\n",
      "X shape before feeder torch.Size([35, 1, 1, 512, 512])\n",
      "T shape before feeder torch.Size([35, 1, 512, 512])\n",
      "X shape after feeder torch.Size([35, 1, 16, 16])\n",
      "T shape after feeder torch.Size([35, 1, 16, 16])\n",
      "X SHAPE torch.Size([35, 1, 256])\n",
      "T SHAPE torch.Size([35, 1, 256])\n"
     ]
    },
    {
     "name": "stderr",
     "output_type": "stream",
     "text": [
      "pixdim[0] (qfac) should be 1 (default) or -1; setting qfac to 1\n",
      "INFO:nibabel.global:pixdim[0] (qfac) should be 1 (default) or -1; setting qfac to 1\n",
      "pixdim[0] (qfac) should be 1 (default) or -1; setting qfac to 1\n",
      "INFO:nibabel.global:pixdim[0] (qfac) should be 1 (default) or -1; setting qfac to 1\n"
     ]
    },
    {
     "name": "stdout",
     "output_type": "stream",
     "text": [
      "BBOXES: torch.Size([35, 4])\n",
      "X shape before feeder torch.Size([35, 1, 1, 512, 512])\n",
      "T shape before feeder torch.Size([35, 1, 512, 512])\n",
      "X shape after feeder torch.Size([35, 1, 16, 16])\n",
      "T shape after feeder torch.Size([35, 1, 16, 16])\n",
      "X SHAPE torch.Size([35, 1, 256])\n",
      "T SHAPE torch.Size([35, 1, 256])\n"
     ]
    },
    {
     "name": "stderr",
     "output_type": "stream",
     "text": [
      "pixdim[0] (qfac) should be 1 (default) or -1; setting qfac to 1\n",
      "INFO:nibabel.global:pixdim[0] (qfac) should be 1 (default) or -1; setting qfac to 1\n",
      "pixdim[0] (qfac) should be 1 (default) or -1; setting qfac to 1\n",
      "INFO:nibabel.global:pixdim[0] (qfac) should be 1 (default) or -1; setting qfac to 1\n"
     ]
    },
    {
     "name": "stdout",
     "output_type": "stream",
     "text": [
      "BBOXES: torch.Size([35, 4])\n",
      "X shape before feeder torch.Size([35, 1, 1, 512, 512])\n",
      "T shape before feeder torch.Size([35, 1, 512, 512])\n",
      "X shape after feeder torch.Size([35, 1, 16, 16])\n",
      "T shape after feeder torch.Size([35, 1, 16, 16])\n",
      "X SHAPE torch.Size([35, 1, 256])\n",
      "T SHAPE torch.Size([35, 1, 256])\n"
     ]
    },
    {
     "name": "stderr",
     "output_type": "stream",
     "text": [
      "pixdim[0] (qfac) should be 1 (default) or -1; setting qfac to 1\n",
      "INFO:nibabel.global:pixdim[0] (qfac) should be 1 (default) or -1; setting qfac to 1\n",
      "pixdim[0] (qfac) should be 1 (default) or -1; setting qfac to 1\n",
      "INFO:nibabel.global:pixdim[0] (qfac) should be 1 (default) or -1; setting qfac to 1\n"
     ]
    },
    {
     "name": "stdout",
     "output_type": "stream",
     "text": [
      "BBOXES: torch.Size([35, 4])\n",
      "X shape before feeder torch.Size([35, 1, 1, 512, 512])\n",
      "T shape before feeder torch.Size([35, 1, 512, 512])\n",
      "X shape after feeder torch.Size([35, 1, 16, 16])\n",
      "T shape after feeder torch.Size([35, 1, 16, 16])\n",
      "X SHAPE torch.Size([35, 1, 256])\n",
      "T SHAPE torch.Size([35, 1, 256])\n"
     ]
    },
    {
     "name": "stderr",
     "output_type": "stream",
     "text": [
      "pixdim[0] (qfac) should be 1 (default) or -1; setting qfac to 1\n",
      "INFO:nibabel.global:pixdim[0] (qfac) should be 1 (default) or -1; setting qfac to 1\n",
      "pixdim[0] (qfac) should be 1 (default) or -1; setting qfac to 1\n",
      "INFO:nibabel.global:pixdim[0] (qfac) should be 1 (default) or -1; setting qfac to 1\n"
     ]
    },
    {
     "name": "stdout",
     "output_type": "stream",
     "text": [
      "BBOXES: torch.Size([35, 4])\n",
      "X shape before feeder torch.Size([35, 1, 1, 512, 512])\n",
      "T shape before feeder torch.Size([35, 1, 512, 512])\n",
      "X shape after feeder torch.Size([35, 1, 16, 16])\n",
      "T shape after feeder torch.Size([35, 1, 16, 16])\n",
      "X SHAPE torch.Size([35, 1, 256])\n",
      "T SHAPE torch.Size([35, 1, 256])\n"
     ]
    },
    {
     "name": "stderr",
     "output_type": "stream",
     "text": [
      "pixdim[0] (qfac) should be 1 (default) or -1; setting qfac to 1\n",
      "INFO:nibabel.global:pixdim[0] (qfac) should be 1 (default) or -1; setting qfac to 1\n",
      "pixdim[0] (qfac) should be 1 (default) or -1; setting qfac to 1\n",
      "INFO:nibabel.global:pixdim[0] (qfac) should be 1 (default) or -1; setting qfac to 1\n"
     ]
    },
    {
     "name": "stdout",
     "output_type": "stream",
     "text": [
      "BBOXES: torch.Size([35, 4])\n",
      "X shape before feeder torch.Size([35, 1, 1, 512, 512])\n",
      "T shape before feeder torch.Size([35, 1, 512, 512])\n",
      "X shape after feeder torch.Size([35, 1, 16, 16])\n",
      "T shape after feeder torch.Size([35, 1, 16, 16])\n",
      "X SHAPE torch.Size([35, 1, 256])\n",
      "T SHAPE torch.Size([35, 1, 256])\n"
     ]
    },
    {
     "name": "stderr",
     "output_type": "stream",
     "text": [
      "pixdim[0] (qfac) should be 1 (default) or -1; setting qfac to 1\n",
      "INFO:nibabel.global:pixdim[0] (qfac) should be 1 (default) or -1; setting qfac to 1\n",
      "pixdim[0] (qfac) should be 1 (default) or -1; setting qfac to 1\n",
      "INFO:nibabel.global:pixdim[0] (qfac) should be 1 (default) or -1; setting qfac to 1\n"
     ]
    },
    {
     "name": "stdout",
     "output_type": "stream",
     "text": [
      "BBOXES: torch.Size([35, 4])\n",
      "X shape before feeder torch.Size([35, 1, 1, 512, 512])\n",
      "T shape before feeder torch.Size([35, 1, 512, 512])\n",
      "X shape after feeder torch.Size([35, 1, 16, 16])\n",
      "T shape after feeder torch.Size([35, 1, 16, 16])\n",
      "X SHAPE torch.Size([35, 1, 256])\n",
      "T SHAPE torch.Size([35, 1, 256])\n"
     ]
    },
    {
     "name": "stderr",
     "output_type": "stream",
     "text": [
      "pixdim[0] (qfac) should be 1 (default) or -1; setting qfac to 1\n",
      "INFO:nibabel.global:pixdim[0] (qfac) should be 1 (default) or -1; setting qfac to 1\n",
      "pixdim[0] (qfac) should be 1 (default) or -1; setting qfac to 1\n",
      "INFO:nibabel.global:pixdim[0] (qfac) should be 1 (default) or -1; setting qfac to 1\n",
      "pixdim[0] (qfac) should be 1 (default) or -1; setting qfac to 1\n",
      "INFO:nibabel.global:pixdim[0] (qfac) should be 1 (default) or -1; setting qfac to 1\n"
     ]
    },
    {
     "name": "stdout",
     "output_type": "stream",
     "text": [
      "BBOXES: torch.Size([35, 4])\n",
      "X shape before feeder torch.Size([35, 1, 1, 512, 512])\n",
      "T shape before feeder torch.Size([35, 1, 512, 512])\n",
      "X shape after feeder torch.Size([35, 1, 16, 16])\n",
      "T shape after feeder torch.Size([35, 1, 16, 16])\n",
      "X SHAPE torch.Size([35, 1, 256])\n",
      "T SHAPE torch.Size([35, 1, 256])\n"
     ]
    },
    {
     "name": "stderr",
     "output_type": "stream",
     "text": [
      "pixdim[0] (qfac) should be 1 (default) or -1; setting qfac to 1\n",
      "INFO:nibabel.global:pixdim[0] (qfac) should be 1 (default) or -1; setting qfac to 1\n",
      "pixdim[0] (qfac) should be 1 (default) or -1; setting qfac to 1\n",
      "INFO:nibabel.global:pixdim[0] (qfac) should be 1 (default) or -1; setting qfac to 1\n",
      "pixdim[0] (qfac) should be 1 (default) or -1; setting qfac to 1\n",
      "INFO:nibabel.global:pixdim[0] (qfac) should be 1 (default) or -1; setting qfac to 1\n",
      "pixdim[0] (qfac) should be 1 (default) or -1; setting qfac to 1\n",
      "INFO:nibabel.global:pixdim[0] (qfac) should be 1 (default) or -1; setting qfac to 1\n"
     ]
    },
    {
     "name": "stdout",
     "output_type": "stream",
     "text": [
      "BBOXES: torch.Size([35, 4])\n",
      "X shape before feeder torch.Size([35, 1, 1, 512, 512])\n",
      "T shape before feeder torch.Size([35, 1, 512, 512])\n",
      "X shape after feeder torch.Size([35, 1, 16, 16])\n",
      "T shape after feeder torch.Size([35, 1, 16, 16])\n",
      "X SHAPE torch.Size([35, 1, 256])\n",
      "T SHAPE torch.Size([35, 1, 256])\n"
     ]
    },
    {
     "name": "stderr",
     "output_type": "stream",
     "text": [
      "pixdim[0] (qfac) should be 1 (default) or -1; setting qfac to 1\n",
      "INFO:nibabel.global:pixdim[0] (qfac) should be 1 (default) or -1; setting qfac to 1\n",
      "pixdim[0] (qfac) should be 1 (default) or -1; setting qfac to 1\n",
      "INFO:nibabel.global:pixdim[0] (qfac) should be 1 (default) or -1; setting qfac to 1\n",
      "pixdim[0] (qfac) should be 1 (default) or -1; setting qfac to 1\n",
      "INFO:nibabel.global:pixdim[0] (qfac) should be 1 (default) or -1; setting qfac to 1\n"
     ]
    },
    {
     "name": "stdout",
     "output_type": "stream",
     "text": [
      "BBOXES: torch.Size([35, 4])\n",
      "X shape before feeder torch.Size([35, 1, 1, 512, 512])\n",
      "T shape before feeder torch.Size([35, 1, 512, 512])\n",
      "X shape after feeder torch.Size([35, 1, 16, 16])\n",
      "T shape after feeder torch.Size([35, 1, 16, 16])\n",
      "X SHAPE torch.Size([35, 1, 256])\n",
      "T SHAPE torch.Size([35, 1, 256])\n"
     ]
    },
    {
     "name": "stderr",
     "output_type": "stream",
     "text": [
      "pixdim[0] (qfac) should be 1 (default) or -1; setting qfac to 1\n",
      "INFO:nibabel.global:pixdim[0] (qfac) should be 1 (default) or -1; setting qfac to 1\n",
      "pixdim[0] (qfac) should be 1 (default) or -1; setting qfac to 1\n",
      "INFO:nibabel.global:pixdim[0] (qfac) should be 1 (default) or -1; setting qfac to 1\n"
     ]
    },
    {
     "name": "stdout",
     "output_type": "stream",
     "text": [
      "BBOXES: torch.Size([35, 4])\n",
      "X shape before feeder torch.Size([35, 1, 1, 512, 512])\n",
      "T shape before feeder torch.Size([35, 1, 512, 512])\n",
      "X shape after feeder torch.Size([35, 1, 16, 16])\n",
      "T shape after feeder torch.Size([35, 1, 16, 16])\n",
      "X SHAPE torch.Size([35, 1, 256])\n",
      "T SHAPE torch.Size([35, 1, 256])\n"
     ]
    },
    {
     "name": "stderr",
     "output_type": "stream",
     "text": [
      "pixdim[0] (qfac) should be 1 (default) or -1; setting qfac to 1\n",
      "INFO:nibabel.global:pixdim[0] (qfac) should be 1 (default) or -1; setting qfac to 1\n",
      "pixdim[0] (qfac) should be 1 (default) or -1; setting qfac to 1\n",
      "INFO:nibabel.global:pixdim[0] (qfac) should be 1 (default) or -1; setting qfac to 1\n"
     ]
    },
    {
     "name": "stdout",
     "output_type": "stream",
     "text": [
      "BBOXES: torch.Size([35, 4])\n",
      "X shape before feeder torch.Size([35, 1, 1, 512, 512])\n",
      "T shape before feeder torch.Size([35, 1, 512, 512])\n",
      "X shape after feeder torch.Size([35, 1, 16, 16])\n",
      "T shape after feeder torch.Size([35, 1, 16, 16])\n",
      "X SHAPE torch.Size([35, 1, 256])\n",
      "T SHAPE torch.Size([35, 1, 256])\n"
     ]
    },
    {
     "name": "stderr",
     "output_type": "stream",
     "text": [
      "pixdim[0] (qfac) should be 1 (default) or -1; setting qfac to 1\n",
      "INFO:nibabel.global:pixdim[0] (qfac) should be 1 (default) or -1; setting qfac to 1\n",
      "pixdim[0] (qfac) should be 1 (default) or -1; setting qfac to 1\n",
      "INFO:nibabel.global:pixdim[0] (qfac) should be 1 (default) or -1; setting qfac to 1\n"
     ]
    },
    {
     "name": "stdout",
     "output_type": "stream",
     "text": [
      "BBOXES: torch.Size([35, 4])\n",
      "X shape before feeder torch.Size([35, 1, 1, 512, 512])\n",
      "T shape before feeder torch.Size([35, 1, 512, 512])\n",
      "X shape after feeder torch.Size([35, 1, 16, 16])\n",
      "T shape after feeder torch.Size([35, 1, 16, 16])\n",
      "X SHAPE torch.Size([35, 1, 256])\n",
      "T SHAPE torch.Size([35, 1, 256])\n"
     ]
    },
    {
     "name": "stderr",
     "output_type": "stream",
     "text": [
      "pixdim[0] (qfac) should be 1 (default) or -1; setting qfac to 1\n",
      "INFO:nibabel.global:pixdim[0] (qfac) should be 1 (default) or -1; setting qfac to 1\n",
      "pixdim[0] (qfac) should be 1 (default) or -1; setting qfac to 1\n",
      "INFO:nibabel.global:pixdim[0] (qfac) should be 1 (default) or -1; setting qfac to 1\n"
     ]
    },
    {
     "name": "stdout",
     "output_type": "stream",
     "text": [
      "BBOXES: torch.Size([35, 4])\n",
      "X shape before feeder torch.Size([35, 1, 1, 512, 512])\n",
      "T shape before feeder torch.Size([35, 1, 512, 512])\n",
      "X shape after feeder torch.Size([35, 1, 16, 16])\n",
      "T shape after feeder torch.Size([35, 1, 16, 16])\n",
      "X SHAPE torch.Size([35, 1, 256])\n",
      "T SHAPE torch.Size([35, 1, 256])\n"
     ]
    },
    {
     "name": "stderr",
     "output_type": "stream",
     "text": [
      "pixdim[0] (qfac) should be 1 (default) or -1; setting qfac to 1\n",
      "INFO:nibabel.global:pixdim[0] (qfac) should be 1 (default) or -1; setting qfac to 1\n",
      "pixdim[0] (qfac) should be 1 (default) or -1; setting qfac to 1\n",
      "INFO:nibabel.global:pixdim[0] (qfac) should be 1 (default) or -1; setting qfac to 1\n"
     ]
    },
    {
     "name": "stdout",
     "output_type": "stream",
     "text": [
      "BBOXES: torch.Size([35, 4])\n",
      "X shape before feeder torch.Size([35, 1, 1, 512, 512])\n",
      "T shape before feeder torch.Size([35, 1, 512, 512])\n",
      "X shape after feeder torch.Size([35, 1, 16, 16])\n",
      "T shape after feeder torch.Size([35, 1, 16, 16])\n",
      "X SHAPE torch.Size([35, 1, 256])\n",
      "T SHAPE torch.Size([35, 1, 256])\n"
     ]
    },
    {
     "name": "stderr",
     "output_type": "stream",
     "text": [
      "pixdim[0] (qfac) should be 1 (default) or -1; setting qfac to 1\n",
      "INFO:nibabel.global:pixdim[0] (qfac) should be 1 (default) or -1; setting qfac to 1\n",
      "pixdim[0] (qfac) should be 1 (default) or -1; setting qfac to 1\n",
      "INFO:nibabel.global:pixdim[0] (qfac) should be 1 (default) or -1; setting qfac to 1\n"
     ]
    },
    {
     "name": "stdout",
     "output_type": "stream",
     "text": [
      "BBOXES: torch.Size([35, 4])\n",
      "X shape before feeder torch.Size([35, 1, 1, 512, 512])\n",
      "T shape before feeder torch.Size([35, 1, 512, 512])\n",
      "X shape after feeder torch.Size([35, 1, 16, 16])\n",
      "T shape after feeder torch.Size([35, 1, 16, 16])\n",
      "X SHAPE torch.Size([35, 1, 256])\n",
      "T SHAPE torch.Size([35, 1, 256])\n"
     ]
    },
    {
     "name": "stderr",
     "output_type": "stream",
     "text": [
      "pixdim[0] (qfac) should be 1 (default) or -1; setting qfac to 1\n",
      "INFO:nibabel.global:pixdim[0] (qfac) should be 1 (default) or -1; setting qfac to 1\n",
      "pixdim[0] (qfac) should be 1 (default) or -1; setting qfac to 1\n",
      "INFO:nibabel.global:pixdim[0] (qfac) should be 1 (default) or -1; setting qfac to 1\n"
     ]
    },
    {
     "name": "stdout",
     "output_type": "stream",
     "text": [
      "BBOXES: torch.Size([35, 4])\n",
      "X shape before feeder torch.Size([35, 1, 1, 512, 512])\n",
      "T shape before feeder torch.Size([35, 1, 512, 512])\n",
      "X shape after feeder torch.Size([35, 1, 16, 16])\n",
      "T shape after feeder torch.Size([35, 1, 16, 16])\n",
      "X SHAPE torch.Size([35, 1, 256])\n",
      "T SHAPE torch.Size([35, 1, 256])\n"
     ]
    },
    {
     "name": "stderr",
     "output_type": "stream",
     "text": [
      "pixdim[0] (qfac) should be 1 (default) or -1; setting qfac to 1\n",
      "INFO:nibabel.global:pixdim[0] (qfac) should be 1 (default) or -1; setting qfac to 1\n",
      "pixdim[0] (qfac) should be 1 (default) or -1; setting qfac to 1\n",
      "INFO:nibabel.global:pixdim[0] (qfac) should be 1 (default) or -1; setting qfac to 1\n"
     ]
    },
    {
     "name": "stdout",
     "output_type": "stream",
     "text": [
      "BBOXES: torch.Size([35, 4])\n",
      "X shape before feeder torch.Size([35, 1, 1, 512, 512])\n",
      "T shape before feeder torch.Size([35, 1, 512, 512])\n",
      "X shape after feeder torch.Size([35, 1, 16, 16])\n",
      "T shape after feeder torch.Size([35, 1, 16, 16])\n",
      "X SHAPE torch.Size([35, 1, 256])\n",
      "T SHAPE torch.Size([35, 1, 256])\n"
     ]
    },
    {
     "name": "stderr",
     "output_type": "stream",
     "text": [
      "pixdim[0] (qfac) should be 1 (default) or -1; setting qfac to 1\n",
      "INFO:nibabel.global:pixdim[0] (qfac) should be 1 (default) or -1; setting qfac to 1\n",
      "pixdim[0] (qfac) should be 1 (default) or -1; setting qfac to 1\n",
      "INFO:nibabel.global:pixdim[0] (qfac) should be 1 (default) or -1; setting qfac to 1\n"
     ]
    },
    {
     "name": "stdout",
     "output_type": "stream",
     "text": [
      "BBOXES: torch.Size([35, 4])\n",
      "X shape before feeder torch.Size([35, 1, 1, 512, 512])\n",
      "T shape before feeder torch.Size([35, 1, 512, 512])\n",
      "X shape after feeder torch.Size([35, 1, 16, 16])\n",
      "T shape after feeder torch.Size([35, 1, 16, 16])\n",
      "X SHAPE torch.Size([35, 1, 256])\n",
      "T SHAPE torch.Size([35, 1, 256])\n"
     ]
    },
    {
     "name": "stderr",
     "output_type": "stream",
     "text": [
      "pixdim[0] (qfac) should be 1 (default) or -1; setting qfac to 1\n",
      "INFO:nibabel.global:pixdim[0] (qfac) should be 1 (default) or -1; setting qfac to 1\n",
      "pixdim[0] (qfac) should be 1 (default) or -1; setting qfac to 1\n",
      "INFO:nibabel.global:pixdim[0] (qfac) should be 1 (default) or -1; setting qfac to 1\n"
     ]
    },
    {
     "name": "stdout",
     "output_type": "stream",
     "text": [
      "BBOXES: torch.Size([35, 4])\n",
      "X shape before feeder torch.Size([35, 1, 1, 512, 512])\n",
      "T shape before feeder torch.Size([35, 1, 512, 512])\n",
      "X shape after feeder torch.Size([35, 1, 16, 16])\n",
      "T shape after feeder torch.Size([35, 1, 16, 16])\n",
      "X SHAPE torch.Size([35, 1, 256])\n",
      "T SHAPE torch.Size([35, 1, 256])\n"
     ]
    },
    {
     "name": "stderr",
     "output_type": "stream",
     "text": [
      "pixdim[0] (qfac) should be 1 (default) or -1; setting qfac to 1\n",
      "INFO:nibabel.global:pixdim[0] (qfac) should be 1 (default) or -1; setting qfac to 1\n",
      "pixdim[0] (qfac) should be 1 (default) or -1; setting qfac to 1\n",
      "INFO:nibabel.global:pixdim[0] (qfac) should be 1 (default) or -1; setting qfac to 1\n"
     ]
    },
    {
     "name": "stdout",
     "output_type": "stream",
     "text": [
      "BBOXES: torch.Size([35, 4])\n",
      "X shape before feeder torch.Size([35, 1, 1, 512, 512])\n",
      "T shape before feeder torch.Size([35, 1, 512, 512])\n",
      "X shape after feeder torch.Size([35, 1, 16, 16])\n",
      "T shape after feeder torch.Size([35, 1, 16, 16])\n",
      "X SHAPE torch.Size([35, 1, 256])\n",
      "T SHAPE torch.Size([35, 1, 256])\n"
     ]
    },
    {
     "name": "stderr",
     "output_type": "stream",
     "text": [
      "pixdim[0] (qfac) should be 1 (default) or -1; setting qfac to 1\n",
      "INFO:nibabel.global:pixdim[0] (qfac) should be 1 (default) or -1; setting qfac to 1\n",
      "pixdim[0] (qfac) should be 1 (default) or -1; setting qfac to 1\n",
      "INFO:nibabel.global:pixdim[0] (qfac) should be 1 (default) or -1; setting qfac to 1\n",
      "pixdim[0] (qfac) should be 1 (default) or -1; setting qfac to 1\n",
      "INFO:nibabel.global:pixdim[0] (qfac) should be 1 (default) or -1; setting qfac to 1\n"
     ]
    },
    {
     "name": "stdout",
     "output_type": "stream",
     "text": [
      "BBOXES: torch.Size([35, 4])\n",
      "X shape before feeder torch.Size([35, 1, 1, 512, 512])\n",
      "T shape before feeder torch.Size([35, 1, 512, 512])\n",
      "X shape after feeder torch.Size([35, 1, 16, 16])\n",
      "T shape after feeder torch.Size([35, 1, 16, 16])\n",
      "X SHAPE torch.Size([35, 1, 256])\n",
      "T SHAPE torch.Size([35, 1, 256])\n"
     ]
    },
    {
     "name": "stderr",
     "output_type": "stream",
     "text": [
      "pixdim[0] (qfac) should be 1 (default) or -1; setting qfac to 1\n",
      "INFO:nibabel.global:pixdim[0] (qfac) should be 1 (default) or -1; setting qfac to 1\n",
      "pixdim[0] (qfac) should be 1 (default) or -1; setting qfac to 1\n",
      "INFO:nibabel.global:pixdim[0] (qfac) should be 1 (default) or -1; setting qfac to 1\n",
      "pixdim[0] (qfac) should be 1 (default) or -1; setting qfac to 1\n",
      "INFO:nibabel.global:pixdim[0] (qfac) should be 1 (default) or -1; setting qfac to 1\n"
     ]
    },
    {
     "name": "stdout",
     "output_type": "stream",
     "text": [
      "BBOXES: torch.Size([35, 4])\n",
      "X shape before feeder torch.Size([35, 1, 1, 512, 512])\n",
      "T shape before feeder torch.Size([35, 1, 512, 512])\n",
      "X shape after feeder torch.Size([35, 1, 16, 16])\n",
      "T shape after feeder torch.Size([35, 1, 16, 16])\n",
      "X SHAPE torch.Size([35, 1, 256])\n",
      "T SHAPE torch.Size([35, 1, 256])\n"
     ]
    },
    {
     "name": "stderr",
     "output_type": "stream",
     "text": [
      "pixdim[0] (qfac) should be 1 (default) or -1; setting qfac to 1\n",
      "INFO:nibabel.global:pixdim[0] (qfac) should be 1 (default) or -1; setting qfac to 1\n",
      "pixdim[0] (qfac) should be 1 (default) or -1; setting qfac to 1\n",
      "INFO:nibabel.global:pixdim[0] (qfac) should be 1 (default) or -1; setting qfac to 1\n",
      "pixdim[0] (qfac) should be 1 (default) or -1; setting qfac to 1\n",
      "INFO:nibabel.global:pixdim[0] (qfac) should be 1 (default) or -1; setting qfac to 1\n"
     ]
    },
    {
     "name": "stdout",
     "output_type": "stream",
     "text": [
      "BBOXES: torch.Size([35, 4])\n",
      "X shape before feeder torch.Size([35, 1, 1, 512, 512])\n",
      "T shape before feeder torch.Size([35, 1, 512, 512])\n",
      "X shape after feeder torch.Size([35, 1, 16, 16])\n",
      "T shape after feeder torch.Size([35, 1, 16, 16])\n",
      "X SHAPE torch.Size([35, 1, 256])\n",
      "T SHAPE torch.Size([35, 1, 256])\n"
     ]
    },
    {
     "name": "stderr",
     "output_type": "stream",
     "text": [
      "pixdim[0] (qfac) should be 1 (default) or -1; setting qfac to 1\n",
      "INFO:nibabel.global:pixdim[0] (qfac) should be 1 (default) or -1; setting qfac to 1\n",
      "pixdim[0] (qfac) should be 1 (default) or -1; setting qfac to 1\n",
      "INFO:nibabel.global:pixdim[0] (qfac) should be 1 (default) or -1; setting qfac to 1\n",
      "pixdim[0] (qfac) should be 1 (default) or -1; setting qfac to 1\n",
      "INFO:nibabel.global:pixdim[0] (qfac) should be 1 (default) or -1; setting qfac to 1\n"
     ]
    },
    {
     "name": "stdout",
     "output_type": "stream",
     "text": [
      "BBOXES: torch.Size([35, 4])\n",
      "X shape before feeder torch.Size([35, 1, 1, 512, 512])\n",
      "T shape before feeder torch.Size([35, 1, 512, 512])\n",
      "X shape after feeder torch.Size([35, 1, 16, 16])\n",
      "T shape after feeder torch.Size([35, 1, 16, 16])\n",
      "X SHAPE torch.Size([35, 1, 256])\n",
      "T SHAPE torch.Size([35, 1, 256])\n"
     ]
    },
    {
     "name": "stderr",
     "output_type": "stream",
     "text": [
      "pixdim[0] (qfac) should be 1 (default) or -1; setting qfac to 1\n",
      "INFO:nibabel.global:pixdim[0] (qfac) should be 1 (default) or -1; setting qfac to 1\n",
      "pixdim[0] (qfac) should be 1 (default) or -1; setting qfac to 1\n",
      "INFO:nibabel.global:pixdim[0] (qfac) should be 1 (default) or -1; setting qfac to 1\n"
     ]
    },
    {
     "name": "stdout",
     "output_type": "stream",
     "text": [
      "BBOXES: torch.Size([35, 4])\n",
      "X shape before feeder torch.Size([35, 1, 1, 512, 512])\n",
      "T shape before feeder torch.Size([35, 1, 512, 512])\n",
      "X shape after feeder torch.Size([35, 1, 16, 16])\n",
      "T shape after feeder torch.Size([35, 1, 16, 16])\n",
      "X SHAPE torch.Size([35, 1, 256])\n",
      "T SHAPE torch.Size([35, 1, 256])\n"
     ]
    },
    {
     "name": "stderr",
     "output_type": "stream",
     "text": [
      "pixdim[0] (qfac) should be 1 (default) or -1; setting qfac to 1\n",
      "INFO:nibabel.global:pixdim[0] (qfac) should be 1 (default) or -1; setting qfac to 1\n",
      "pixdim[0] (qfac) should be 1 (default) or -1; setting qfac to 1\n",
      "INFO:nibabel.global:pixdim[0] (qfac) should be 1 (default) or -1; setting qfac to 1\n"
     ]
    },
    {
     "name": "stdout",
     "output_type": "stream",
     "text": [
      "BBOXES: torch.Size([35, 4])\n",
      "X shape before feeder torch.Size([35, 1, 1, 512, 512])\n",
      "T shape before feeder torch.Size([35, 1, 512, 512])\n",
      "X shape after feeder torch.Size([35, 1, 16, 16])\n",
      "T shape after feeder torch.Size([35, 1, 16, 16])\n",
      "X SHAPE torch.Size([35, 1, 256])\n",
      "T SHAPE torch.Size([35, 1, 256])\n"
     ]
    },
    {
     "name": "stderr",
     "output_type": "stream",
     "text": [
      "pixdim[0] (qfac) should be 1 (default) or -1; setting qfac to 1\n",
      "INFO:nibabel.global:pixdim[0] (qfac) should be 1 (default) or -1; setting qfac to 1\n",
      "pixdim[0] (qfac) should be 1 (default) or -1; setting qfac to 1\n",
      "INFO:nibabel.global:pixdim[0] (qfac) should be 1 (default) or -1; setting qfac to 1\n"
     ]
    },
    {
     "name": "stdout",
     "output_type": "stream",
     "text": [
      "BBOXES: torch.Size([35, 4])\n",
      "X shape before feeder torch.Size([35, 1, 1, 512, 512])\n",
      "T shape before feeder torch.Size([35, 1, 512, 512])\n",
      "X shape after feeder torch.Size([35, 1, 16, 16])\n",
      "T shape after feeder torch.Size([35, 1, 16, 16])\n",
      "X SHAPE torch.Size([35, 1, 256])\n",
      "T SHAPE torch.Size([35, 1, 256])\n"
     ]
    },
    {
     "name": "stderr",
     "output_type": "stream",
     "text": [
      "pixdim[0] (qfac) should be 1 (default) or -1; setting qfac to 1\n",
      "INFO:nibabel.global:pixdim[0] (qfac) should be 1 (default) or -1; setting qfac to 1\n",
      "pixdim[0] (qfac) should be 1 (default) or -1; setting qfac to 1\n",
      "INFO:nibabel.global:pixdim[0] (qfac) should be 1 (default) or -1; setting qfac to 1\n"
     ]
    },
    {
     "name": "stdout",
     "output_type": "stream",
     "text": [
      "BBOXES: torch.Size([35, 4])\n",
      "X shape before feeder torch.Size([35, 1, 1, 512, 512])\n",
      "T shape before feeder torch.Size([35, 1, 512, 512])\n",
      "X shape after feeder torch.Size([35, 1, 16, 16])\n",
      "T shape after feeder torch.Size([35, 1, 16, 16])\n",
      "X SHAPE torch.Size([35, 1, 256])\n",
      "T SHAPE torch.Size([35, 1, 256])\n"
     ]
    },
    {
     "name": "stderr",
     "output_type": "stream",
     "text": [
      "pixdim[0] (qfac) should be 1 (default) or -1; setting qfac to 1\n",
      "INFO:nibabel.global:pixdim[0] (qfac) should be 1 (default) or -1; setting qfac to 1\n",
      "pixdim[0] (qfac) should be 1 (default) or -1; setting qfac to 1\n",
      "INFO:nibabel.global:pixdim[0] (qfac) should be 1 (default) or -1; setting qfac to 1\n"
     ]
    },
    {
     "name": "stdout",
     "output_type": "stream",
     "text": [
      "BBOXES: torch.Size([35, 4])\n",
      "X shape before feeder torch.Size([35, 1, 1, 512, 512])\n",
      "T shape before feeder torch.Size([35, 1, 512, 512])\n",
      "X shape after feeder torch.Size([35, 1, 16, 16])\n",
      "T shape after feeder torch.Size([35, 1, 16, 16])\n",
      "X SHAPE torch.Size([35, 1, 256])\n",
      "T SHAPE torch.Size([35, 1, 256])\n"
     ]
    },
    {
     "name": "stderr",
     "output_type": "stream",
     "text": [
      "pixdim[0] (qfac) should be 1 (default) or -1; setting qfac to 1\n",
      "INFO:nibabel.global:pixdim[0] (qfac) should be 1 (default) or -1; setting qfac to 1\n",
      "pixdim[0] (qfac) should be 1 (default) or -1; setting qfac to 1\n",
      "INFO:nibabel.global:pixdim[0] (qfac) should be 1 (default) or -1; setting qfac to 1\n"
     ]
    },
    {
     "name": "stdout",
     "output_type": "stream",
     "text": [
      "BBOXES: torch.Size([35, 4])\n",
      "X shape before feeder torch.Size([35, 1, 1, 512, 512])\n",
      "T shape before feeder torch.Size([35, 1, 512, 512])\n",
      "X shape after feeder torch.Size([35, 1, 16, 16])\n",
      "T shape after feeder torch.Size([35, 1, 16, 16])\n",
      "X SHAPE torch.Size([35, 1, 256])\n",
      "T SHAPE torch.Size([35, 1, 256])\n"
     ]
    },
    {
     "name": "stderr",
     "output_type": "stream",
     "text": [
      "pixdim[0] (qfac) should be 1 (default) or -1; setting qfac to 1\n",
      "INFO:nibabel.global:pixdim[0] (qfac) should be 1 (default) or -1; setting qfac to 1\n",
      "pixdim[0] (qfac) should be 1 (default) or -1; setting qfac to 1\n",
      "INFO:nibabel.global:pixdim[0] (qfac) should be 1 (default) or -1; setting qfac to 1\n"
     ]
    },
    {
     "name": "stdout",
     "output_type": "stream",
     "text": [
      "BBOXES: torch.Size([35, 4])\n",
      "X shape before feeder torch.Size([35, 1, 1, 512, 512])\n",
      "T shape before feeder torch.Size([35, 1, 512, 512])\n",
      "X shape after feeder torch.Size([35, 1, 16, 16])\n",
      "T shape after feeder torch.Size([35, 1, 16, 16])\n",
      "X SHAPE torch.Size([35, 1, 256])\n",
      "T SHAPE torch.Size([35, 1, 256])\n"
     ]
    },
    {
     "name": "stderr",
     "output_type": "stream",
     "text": [
      "pixdim[0] (qfac) should be 1 (default) or -1; setting qfac to 1\n",
      "INFO:nibabel.global:pixdim[0] (qfac) should be 1 (default) or -1; setting qfac to 1\n",
      "pixdim[0] (qfac) should be 1 (default) or -1; setting qfac to 1\n",
      "INFO:nibabel.global:pixdim[0] (qfac) should be 1 (default) or -1; setting qfac to 1\n"
     ]
    },
    {
     "name": "stdout",
     "output_type": "stream",
     "text": [
      "BBOXES: torch.Size([35, 4])\n",
      "X shape before feeder torch.Size([35, 1, 1, 512, 512])\n",
      "T shape before feeder torch.Size([35, 1, 512, 512])\n",
      "X shape after feeder torch.Size([35, 1, 16, 16])\n",
      "T shape after feeder torch.Size([35, 1, 16, 16])\n",
      "X SHAPE torch.Size([35, 1, 256])\n",
      "T SHAPE torch.Size([35, 1, 256])\n"
     ]
    },
    {
     "name": "stderr",
     "output_type": "stream",
     "text": [
      "pixdim[0] (qfac) should be 1 (default) or -1; setting qfac to 1\n",
      "INFO:nibabel.global:pixdim[0] (qfac) should be 1 (default) or -1; setting qfac to 1\n",
      "pixdim[0] (qfac) should be 1 (default) or -1; setting qfac to 1\n",
      "INFO:nibabel.global:pixdim[0] (qfac) should be 1 (default) or -1; setting qfac to 1\n",
      "pixdim[0] (qfac) should be 1 (default) or -1; setting qfac to 1\n",
      "INFO:nibabel.global:pixdim[0] (qfac) should be 1 (default) or -1; setting qfac to 1\n"
     ]
    },
    {
     "name": "stdout",
     "output_type": "stream",
     "text": [
      "BBOXES: torch.Size([35, 4])\n",
      "X shape before feeder torch.Size([35, 1, 1, 512, 512])\n",
      "T shape before feeder torch.Size([35, 1, 512, 512])\n",
      "X shape after feeder torch.Size([35, 1, 16, 16])\n",
      "T shape after feeder torch.Size([35, 1, 16, 16])\n",
      "X SHAPE torch.Size([35, 1, 256])\n",
      "T SHAPE torch.Size([35, 1, 256])\n"
     ]
    },
    {
     "name": "stderr",
     "output_type": "stream",
     "text": [
      "pixdim[0] (qfac) should be 1 (default) or -1; setting qfac to 1\n",
      "INFO:nibabel.global:pixdim[0] (qfac) should be 1 (default) or -1; setting qfac to 1\n",
      "pixdim[0] (qfac) should be 1 (default) or -1; setting qfac to 1\n",
      "INFO:nibabel.global:pixdim[0] (qfac) should be 1 (default) or -1; setting qfac to 1\n",
      "pixdim[0] (qfac) should be 1 (default) or -1; setting qfac to 1\n",
      "INFO:nibabel.global:pixdim[0] (qfac) should be 1 (default) or -1; setting qfac to 1\n"
     ]
    },
    {
     "name": "stdout",
     "output_type": "stream",
     "text": [
      "BBOXES: torch.Size([35, 4])\n",
      "X shape before feeder torch.Size([35, 1, 1, 512, 512])\n",
      "T shape before feeder torch.Size([35, 1, 512, 512])\n",
      "X shape after feeder torch.Size([35, 1, 16, 16])\n",
      "T shape after feeder torch.Size([35, 1, 16, 16])\n",
      "X SHAPE torch.Size([35, 1, 256])\n",
      "T SHAPE torch.Size([35, 1, 256])\n"
     ]
    },
    {
     "name": "stderr",
     "output_type": "stream",
     "text": [
      "pixdim[0] (qfac) should be 1 (default) or -1; setting qfac to 1\n",
      "INFO:nibabel.global:pixdim[0] (qfac) should be 1 (default) or -1; setting qfac to 1\n",
      "pixdim[0] (qfac) should be 1 (default) or -1; setting qfac to 1\n",
      "INFO:nibabel.global:pixdim[0] (qfac) should be 1 (default) or -1; setting qfac to 1\n"
     ]
    },
    {
     "name": "stdout",
     "output_type": "stream",
     "text": [
      "BBOXES: torch.Size([35, 4])\n",
      "X shape before feeder torch.Size([35, 1, 1, 512, 512])\n",
      "T shape before feeder torch.Size([35, 1, 512, 512])\n",
      "X shape after feeder torch.Size([35, 1, 16, 16])\n",
      "T shape after feeder torch.Size([35, 1, 16, 16])\n",
      "X SHAPE torch.Size([35, 1, 256])\n",
      "T SHAPE torch.Size([35, 1, 256])\n"
     ]
    },
    {
     "name": "stderr",
     "output_type": "stream",
     "text": [
      "pixdim[0] (qfac) should be 1 (default) or -1; setting qfac to 1\n",
      "INFO:nibabel.global:pixdim[0] (qfac) should be 1 (default) or -1; setting qfac to 1\n",
      "pixdim[0] (qfac) should be 1 (default) or -1; setting qfac to 1\n",
      "INFO:nibabel.global:pixdim[0] (qfac) should be 1 (default) or -1; setting qfac to 1\n"
     ]
    },
    {
     "name": "stdout",
     "output_type": "stream",
     "text": [
      "BBOXES: torch.Size([35, 4])\n",
      "X shape before feeder torch.Size([35, 1, 1, 512, 512])\n",
      "T shape before feeder torch.Size([35, 1, 512, 512])\n",
      "X shape after feeder torch.Size([35, 1, 16, 16])\n",
      "T shape after feeder torch.Size([35, 1, 16, 16])\n",
      "X SHAPE torch.Size([35, 1, 256])\n",
      "T SHAPE torch.Size([35, 1, 256])\n"
     ]
    },
    {
     "name": "stderr",
     "output_type": "stream",
     "text": [
      "pixdim[0] (qfac) should be 1 (default) or -1; setting qfac to 1\n",
      "INFO:nibabel.global:pixdim[0] (qfac) should be 1 (default) or -1; setting qfac to 1\n",
      "pixdim[0] (qfac) should be 1 (default) or -1; setting qfac to 1\n",
      "INFO:nibabel.global:pixdim[0] (qfac) should be 1 (default) or -1; setting qfac to 1\n"
     ]
    },
    {
     "name": "stdout",
     "output_type": "stream",
     "text": [
      "BBOXES: torch.Size([35, 4])\n",
      "X shape before feeder torch.Size([35, 1, 1, 512, 512])\n",
      "T shape before feeder torch.Size([35, 1, 512, 512])\n",
      "X shape after feeder torch.Size([35, 1, 16, 16])\n",
      "T shape after feeder torch.Size([35, 1, 16, 16])\n",
      "X SHAPE torch.Size([35, 1, 256])\n",
      "T SHAPE torch.Size([35, 1, 256])\n"
     ]
    },
    {
     "name": "stderr",
     "output_type": "stream",
     "text": [
      "pixdim[0] (qfac) should be 1 (default) or -1; setting qfac to 1\n",
      "INFO:nibabel.global:pixdim[0] (qfac) should be 1 (default) or -1; setting qfac to 1\n",
      "pixdim[0] (qfac) should be 1 (default) or -1; setting qfac to 1\n",
      "INFO:nibabel.global:pixdim[0] (qfac) should be 1 (default) or -1; setting qfac to 1\n"
     ]
    },
    {
     "name": "stdout",
     "output_type": "stream",
     "text": [
      "BBOXES: torch.Size([35, 4])\n",
      "X shape before feeder torch.Size([35, 1, 1, 512, 512])\n",
      "T shape before feeder torch.Size([35, 1, 512, 512])\n",
      "X shape after feeder torch.Size([35, 1, 16, 16])\n",
      "T shape after feeder torch.Size([35, 1, 16, 16])\n",
      "X SHAPE torch.Size([35, 1, 256])\n",
      "T SHAPE torch.Size([35, 1, 256])\n"
     ]
    },
    {
     "name": "stderr",
     "output_type": "stream",
     "text": [
      "pixdim[0] (qfac) should be 1 (default) or -1; setting qfac to 1\n",
      "INFO:nibabel.global:pixdim[0] (qfac) should be 1 (default) or -1; setting qfac to 1\n",
      "pixdim[0] (qfac) should be 1 (default) or -1; setting qfac to 1\n",
      "INFO:nibabel.global:pixdim[0] (qfac) should be 1 (default) or -1; setting qfac to 1\n"
     ]
    },
    {
     "name": "stdout",
     "output_type": "stream",
     "text": [
      "BBOXES: torch.Size([35, 4])\n",
      "X shape before feeder torch.Size([35, 1, 1, 512, 512])\n",
      "T shape before feeder torch.Size([35, 1, 512, 512])\n",
      "X shape after feeder torch.Size([35, 1, 16, 16])\n",
      "T shape after feeder torch.Size([35, 1, 16, 16])\n",
      "X SHAPE torch.Size([35, 1, 256])\n",
      "T SHAPE torch.Size([35, 1, 256])\n"
     ]
    },
    {
     "name": "stderr",
     "output_type": "stream",
     "text": [
      "pixdim[0] (qfac) should be 1 (default) or -1; setting qfac to 1\n",
      "INFO:nibabel.global:pixdim[0] (qfac) should be 1 (default) or -1; setting qfac to 1\n",
      "pixdim[0] (qfac) should be 1 (default) or -1; setting qfac to 1\n",
      "INFO:nibabel.global:pixdim[0] (qfac) should be 1 (default) or -1; setting qfac to 1\n"
     ]
    },
    {
     "name": "stdout",
     "output_type": "stream",
     "text": [
      "BBOXES: torch.Size([35, 4])\n",
      "X shape before feeder torch.Size([35, 1, 1, 512, 512])\n",
      "T shape before feeder torch.Size([35, 1, 512, 512])\n",
      "X shape after feeder torch.Size([35, 1, 16, 16])\n",
      "T shape after feeder torch.Size([35, 1, 16, 16])\n",
      "X SHAPE torch.Size([35, 1, 256])\n",
      "T SHAPE torch.Size([35, 1, 256])\n"
     ]
    },
    {
     "name": "stderr",
     "output_type": "stream",
     "text": [
      "pixdim[0] (qfac) should be 1 (default) or -1; setting qfac to 1\n",
      "INFO:nibabel.global:pixdim[0] (qfac) should be 1 (default) or -1; setting qfac to 1\n",
      "pixdim[0] (qfac) should be 1 (default) or -1; setting qfac to 1\n",
      "INFO:nibabel.global:pixdim[0] (qfac) should be 1 (default) or -1; setting qfac to 1\n"
     ]
    },
    {
     "name": "stdout",
     "output_type": "stream",
     "text": [
      "BBOXES: torch.Size([35, 4])\n",
      "X shape before feeder torch.Size([35, 1, 1, 512, 512])\n",
      "T shape before feeder torch.Size([35, 1, 512, 512])\n",
      "X shape after feeder torch.Size([35, 1, 16, 16])\n",
      "T shape after feeder torch.Size([35, 1, 16, 16])\n",
      "X SHAPE torch.Size([35, 1, 256])\n",
      "T SHAPE torch.Size([35, 1, 256])\n"
     ]
    },
    {
     "name": "stderr",
     "output_type": "stream",
     "text": [
      "pixdim[0] (qfac) should be 1 (default) or -1; setting qfac to 1\n",
      "INFO:nibabel.global:pixdim[0] (qfac) should be 1 (default) or -1; setting qfac to 1\n",
      "pixdim[0] (qfac) should be 1 (default) or -1; setting qfac to 1\n",
      "INFO:nibabel.global:pixdim[0] (qfac) should be 1 (default) or -1; setting qfac to 1\n"
     ]
    },
    {
     "name": "stdout",
     "output_type": "stream",
     "text": [
      "BBOXES: torch.Size([35, 4])\n",
      "X shape before feeder torch.Size([35, 1, 1, 512, 512])\n",
      "T shape before feeder torch.Size([35, 1, 512, 512])\n",
      "X shape after feeder torch.Size([35, 1, 16, 16])\n",
      "T shape after feeder torch.Size([35, 1, 16, 16])\n",
      "X SHAPE torch.Size([35, 1, 256])\n",
      "T SHAPE torch.Size([35, 1, 256])\n"
     ]
    },
    {
     "name": "stderr",
     "output_type": "stream",
     "text": [
      "pixdim[0] (qfac) should be 1 (default) or -1; setting qfac to 1\n",
      "INFO:nibabel.global:pixdim[0] (qfac) should be 1 (default) or -1; setting qfac to 1\n",
      "pixdim[0] (qfac) should be 1 (default) or -1; setting qfac to 1\n",
      "INFO:nibabel.global:pixdim[0] (qfac) should be 1 (default) or -1; setting qfac to 1\n",
      "pixdim[0] (qfac) should be 1 (default) or -1; setting qfac to 1\n",
      "INFO:nibabel.global:pixdim[0] (qfac) should be 1 (default) or -1; setting qfac to 1\n"
     ]
    },
    {
     "name": "stdout",
     "output_type": "stream",
     "text": [
      "BBOXES: torch.Size([35, 4])\n",
      "X shape before feeder torch.Size([35, 1, 1, 512, 512])\n",
      "T shape before feeder torch.Size([35, 1, 512, 512])\n",
      "X shape after feeder torch.Size([35, 1, 16, 16])\n",
      "T shape after feeder torch.Size([35, 1, 16, 16])\n",
      "X SHAPE torch.Size([35, 1, 256])\n",
      "T SHAPE torch.Size([35, 1, 256])\n"
     ]
    },
    {
     "name": "stderr",
     "output_type": "stream",
     "text": [
      "pixdim[0] (qfac) should be 1 (default) or -1; setting qfac to 1\n",
      "INFO:nibabel.global:pixdim[0] (qfac) should be 1 (default) or -1; setting qfac to 1\n",
      "pixdim[0] (qfac) should be 1 (default) or -1; setting qfac to 1\n",
      "INFO:nibabel.global:pixdim[0] (qfac) should be 1 (default) or -1; setting qfac to 1\n",
      "pixdim[0] (qfac) should be 1 (default) or -1; setting qfac to 1\n",
      "INFO:nibabel.global:pixdim[0] (qfac) should be 1 (default) or -1; setting qfac to 1\n"
     ]
    },
    {
     "name": "stdout",
     "output_type": "stream",
     "text": [
      "BBOXES: torch.Size([35, 4])\n",
      "X shape before feeder torch.Size([35, 1, 1, 512, 512])\n",
      "T shape before feeder torch.Size([35, 1, 512, 512])\n",
      "X shape after feeder torch.Size([35, 1, 16, 16])\n",
      "T shape after feeder torch.Size([35, 1, 16, 16])\n",
      "X SHAPE torch.Size([35, 1, 256])\n",
      "T SHAPE torch.Size([35, 1, 256])\n"
     ]
    },
    {
     "name": "stderr",
     "output_type": "stream",
     "text": [
      "pixdim[0] (qfac) should be 1 (default) or -1; setting qfac to 1\n",
      "INFO:nibabel.global:pixdim[0] (qfac) should be 1 (default) or -1; setting qfac to 1\n",
      "pixdim[0] (qfac) should be 1 (default) or -1; setting qfac to 1\n",
      "INFO:nibabel.global:pixdim[0] (qfac) should be 1 (default) or -1; setting qfac to 1\n"
     ]
    },
    {
     "name": "stdout",
     "output_type": "stream",
     "text": [
      "BBOXES: torch.Size([35, 4])\n",
      "X shape before feeder torch.Size([35, 1, 1, 512, 512])\n",
      "T shape before feeder torch.Size([35, 1, 512, 512])\n",
      "X shape after feeder torch.Size([35, 1, 16, 16])\n",
      "T shape after feeder torch.Size([35, 1, 16, 16])\n",
      "X SHAPE torch.Size([35, 1, 256])\n",
      "T SHAPE torch.Size([35, 1, 256])\n"
     ]
    },
    {
     "name": "stderr",
     "output_type": "stream",
     "text": [
      "pixdim[0] (qfac) should be 1 (default) or -1; setting qfac to 1\n",
      "INFO:nibabel.global:pixdim[0] (qfac) should be 1 (default) or -1; setting qfac to 1\n",
      "pixdim[0] (qfac) should be 1 (default) or -1; setting qfac to 1\n",
      "INFO:nibabel.global:pixdim[0] (qfac) should be 1 (default) or -1; setting qfac to 1\n"
     ]
    },
    {
     "name": "stdout",
     "output_type": "stream",
     "text": [
      "BBOXES: torch.Size([35, 4])\n",
      "X shape before feeder torch.Size([35, 1, 1, 512, 512])\n",
      "T shape before feeder torch.Size([35, 1, 512, 512])\n",
      "X shape after feeder torch.Size([35, 1, 16, 16])\n",
      "T shape after feeder torch.Size([35, 1, 16, 16])\n",
      "X SHAPE torch.Size([35, 1, 256])\n",
      "T SHAPE torch.Size([35, 1, 256])\n"
     ]
    },
    {
     "name": "stderr",
     "output_type": "stream",
     "text": [
      "pixdim[0] (qfac) should be 1 (default) or -1; setting qfac to 1\n",
      "INFO:nibabel.global:pixdim[0] (qfac) should be 1 (default) or -1; setting qfac to 1\n",
      "pixdim[0] (qfac) should be 1 (default) or -1; setting qfac to 1\n",
      "INFO:nibabel.global:pixdim[0] (qfac) should be 1 (default) or -1; setting qfac to 1\n"
     ]
    },
    {
     "name": "stdout",
     "output_type": "stream",
     "text": [
      "BBOXES: torch.Size([35, 4])\n",
      "X shape before feeder torch.Size([35, 1, 1, 512, 512])\n",
      "T shape before feeder torch.Size([35, 1, 512, 512])\n",
      "X shape after feeder torch.Size([35, 1, 16, 16])\n",
      "T shape after feeder torch.Size([35, 1, 16, 16])\n",
      "X SHAPE torch.Size([35, 1, 256])\n",
      "T SHAPE torch.Size([35, 1, 256])\n"
     ]
    },
    {
     "name": "stderr",
     "output_type": "stream",
     "text": [
      "pixdim[0] (qfac) should be 1 (default) or -1; setting qfac to 1\n",
      "INFO:nibabel.global:pixdim[0] (qfac) should be 1 (default) or -1; setting qfac to 1\n",
      "pixdim[0] (qfac) should be 1 (default) or -1; setting qfac to 1\n",
      "INFO:nibabel.global:pixdim[0] (qfac) should be 1 (default) or -1; setting qfac to 1\n"
     ]
    },
    {
     "name": "stdout",
     "output_type": "stream",
     "text": [
      "BBOXES: torch.Size([35, 4])\n",
      "X shape before feeder torch.Size([35, 1, 1, 512, 512])\n",
      "T shape before feeder torch.Size([35, 1, 512, 512])\n",
      "X shape after feeder torch.Size([35, 1, 16, 16])\n",
      "T shape after feeder torch.Size([35, 1, 16, 16])\n",
      "X SHAPE torch.Size([35, 1, 256])\n",
      "T SHAPE torch.Size([35, 1, 256])\n"
     ]
    },
    {
     "name": "stderr",
     "output_type": "stream",
     "text": [
      "pixdim[0] (qfac) should be 1 (default) or -1; setting qfac to 1\n",
      "INFO:nibabel.global:pixdim[0] (qfac) should be 1 (default) or -1; setting qfac to 1\n",
      "pixdim[0] (qfac) should be 1 (default) or -1; setting qfac to 1\n",
      "INFO:nibabel.global:pixdim[0] (qfac) should be 1 (default) or -1; setting qfac to 1\n"
     ]
    },
    {
     "name": "stdout",
     "output_type": "stream",
     "text": [
      "BBOXES: torch.Size([35, 4])\n",
      "X shape before feeder torch.Size([35, 1, 1, 512, 512])\n",
      "T shape before feeder torch.Size([35, 1, 512, 512])\n",
      "X shape after feeder torch.Size([35, 1, 16, 16])\n",
      "T shape after feeder torch.Size([35, 1, 16, 16])\n",
      "X SHAPE torch.Size([35, 1, 256])\n",
      "T SHAPE torch.Size([35, 1, 256])\n"
     ]
    },
    {
     "name": "stderr",
     "output_type": "stream",
     "text": [
      "pixdim[0] (qfac) should be 1 (default) or -1; setting qfac to 1\n",
      "INFO:nibabel.global:pixdim[0] (qfac) should be 1 (default) or -1; setting qfac to 1\n",
      "pixdim[0] (qfac) should be 1 (default) or -1; setting qfac to 1\n",
      "INFO:nibabel.global:pixdim[0] (qfac) should be 1 (default) or -1; setting qfac to 1\n"
     ]
    },
    {
     "name": "stdout",
     "output_type": "stream",
     "text": [
      "BBOXES: torch.Size([35, 4])\n",
      "X shape before feeder torch.Size([35, 1, 1, 512, 512])\n",
      "T shape before feeder torch.Size([35, 1, 512, 512])\n",
      "X shape after feeder torch.Size([35, 1, 16, 16])\n",
      "T shape after feeder torch.Size([35, 1, 16, 16])\n",
      "X SHAPE torch.Size([35, 1, 256])\n",
      "T SHAPE torch.Size([35, 1, 256])\n"
     ]
    },
    {
     "name": "stderr",
     "output_type": "stream",
     "text": [
      "pixdim[0] (qfac) should be 1 (default) or -1; setting qfac to 1\n",
      "INFO:nibabel.global:pixdim[0] (qfac) should be 1 (default) or -1; setting qfac to 1\n",
      "pixdim[0] (qfac) should be 1 (default) or -1; setting qfac to 1\n",
      "INFO:nibabel.global:pixdim[0] (qfac) should be 1 (default) or -1; setting qfac to 1\n"
     ]
    },
    {
     "name": "stdout",
     "output_type": "stream",
     "text": [
      "BBOXES: torch.Size([35, 4])\n",
      "X shape before feeder torch.Size([35, 1, 1, 512, 512])\n",
      "T shape before feeder torch.Size([35, 1, 512, 512])\n",
      "X shape after feeder torch.Size([35, 1, 16, 16])\n",
      "T shape after feeder torch.Size([35, 1, 16, 16])\n",
      "X SHAPE torch.Size([35, 1, 256])\n",
      "T SHAPE torch.Size([35, 1, 256])\n"
     ]
    },
    {
     "name": "stderr",
     "output_type": "stream",
     "text": [
      "pixdim[0] (qfac) should be 1 (default) or -1; setting qfac to 1\n",
      "INFO:nibabel.global:pixdim[0] (qfac) should be 1 (default) or -1; setting qfac to 1\n",
      "pixdim[0] (qfac) should be 1 (default) or -1; setting qfac to 1\n",
      "INFO:nibabel.global:pixdim[0] (qfac) should be 1 (default) or -1; setting qfac to 1\n"
     ]
    },
    {
     "name": "stdout",
     "output_type": "stream",
     "text": [
      "BBOXES: torch.Size([35, 4])\n",
      "X shape before feeder torch.Size([35, 1, 1, 512, 512])\n",
      "T shape before feeder torch.Size([35, 1, 512, 512])\n",
      "X shape after feeder torch.Size([35, 1, 16, 16])\n",
      "T shape after feeder torch.Size([35, 1, 16, 16])\n",
      "X SHAPE torch.Size([35, 1, 256])\n",
      "T SHAPE torch.Size([35, 1, 256])\n"
     ]
    },
    {
     "name": "stderr",
     "output_type": "stream",
     "text": [
      "pixdim[0] (qfac) should be 1 (default) or -1; setting qfac to 1\n",
      "INFO:nibabel.global:pixdim[0] (qfac) should be 1 (default) or -1; setting qfac to 1\n",
      "pixdim[0] (qfac) should be 1 (default) or -1; setting qfac to 1\n",
      "INFO:nibabel.global:pixdim[0] (qfac) should be 1 (default) or -1; setting qfac to 1\n"
     ]
    },
    {
     "name": "stdout",
     "output_type": "stream",
     "text": [
      "BBOXES: torch.Size([35, 4])\n",
      "X shape before feeder torch.Size([35, 1, 1, 512, 512])\n",
      "T shape before feeder torch.Size([35, 1, 512, 512])\n",
      "X shape after feeder torch.Size([35, 1, 16, 16])\n",
      "T shape after feeder torch.Size([35, 1, 16, 16])\n",
      "X SHAPE torch.Size([35, 1, 256])\n",
      "T SHAPE torch.Size([35, 1, 256])\n"
     ]
    },
    {
     "name": "stderr",
     "output_type": "stream",
     "text": [
      "pixdim[0] (qfac) should be 1 (default) or -1; setting qfac to 1\n",
      "INFO:nibabel.global:pixdim[0] (qfac) should be 1 (default) or -1; setting qfac to 1\n",
      "pixdim[0] (qfac) should be 1 (default) or -1; setting qfac to 1\n",
      "INFO:nibabel.global:pixdim[0] (qfac) should be 1 (default) or -1; setting qfac to 1\n"
     ]
    },
    {
     "name": "stdout",
     "output_type": "stream",
     "text": [
      "BBOXES: torch.Size([35, 4])\n",
      "X shape before feeder torch.Size([35, 1, 1, 512, 512])\n",
      "T shape before feeder torch.Size([35, 1, 512, 512])\n",
      "X shape after feeder torch.Size([35, 1, 16, 16])\n",
      "T shape after feeder torch.Size([35, 1, 16, 16])\n",
      "X SHAPE torch.Size([35, 1, 256])\n",
      "T SHAPE torch.Size([35, 1, 256])\n"
     ]
    },
    {
     "name": "stderr",
     "output_type": "stream",
     "text": [
      "pixdim[0] (qfac) should be 1 (default) or -1; setting qfac to 1\n",
      "INFO:nibabel.global:pixdim[0] (qfac) should be 1 (default) or -1; setting qfac to 1\n",
      "pixdim[0] (qfac) should be 1 (default) or -1; setting qfac to 1\n",
      "INFO:nibabel.global:pixdim[0] (qfac) should be 1 (default) or -1; setting qfac to 1\n"
     ]
    },
    {
     "name": "stdout",
     "output_type": "stream",
     "text": [
      "BBOXES: torch.Size([35, 4])\n",
      "X shape before feeder torch.Size([35, 1, 1, 512, 512])\n",
      "T shape before feeder torch.Size([35, 1, 512, 512])\n",
      "X shape after feeder torch.Size([35, 1, 16, 16])\n",
      "T shape after feeder torch.Size([35, 1, 16, 16])\n",
      "X SHAPE torch.Size([35, 1, 256])\n",
      "T SHAPE torch.Size([35, 1, 256])\n"
     ]
    },
    {
     "name": "stderr",
     "output_type": "stream",
     "text": [
      "pixdim[0] (qfac) should be 1 (default) or -1; setting qfac to 1\n",
      "INFO:nibabel.global:pixdim[0] (qfac) should be 1 (default) or -1; setting qfac to 1\n",
      "pixdim[0] (qfac) should be 1 (default) or -1; setting qfac to 1\n",
      "INFO:nibabel.global:pixdim[0] (qfac) should be 1 (default) or -1; setting qfac to 1\n"
     ]
    },
    {
     "name": "stdout",
     "output_type": "stream",
     "text": [
      "BBOXES: torch.Size([35, 4])\n",
      "X shape before feeder torch.Size([35, 1, 1, 512, 512])\n",
      "T shape before feeder torch.Size([35, 1, 512, 512])\n",
      "X shape after feeder torch.Size([35, 1, 16, 16])\n",
      "T shape after feeder torch.Size([35, 1, 16, 16])\n",
      "X SHAPE torch.Size([35, 1, 256])\n",
      "T SHAPE torch.Size([35, 1, 256])\n"
     ]
    },
    {
     "name": "stderr",
     "output_type": "stream",
     "text": [
      "pixdim[0] (qfac) should be 1 (default) or -1; setting qfac to 1\n",
      "INFO:nibabel.global:pixdim[0] (qfac) should be 1 (default) or -1; setting qfac to 1\n",
      "pixdim[0] (qfac) should be 1 (default) or -1; setting qfac to 1\n",
      "INFO:nibabel.global:pixdim[0] (qfac) should be 1 (default) or -1; setting qfac to 1\n"
     ]
    },
    {
     "name": "stdout",
     "output_type": "stream",
     "text": [
      "BBOXES: torch.Size([35, 4])\n",
      "X shape before feeder torch.Size([35, 1, 1, 512, 512])\n",
      "T shape before feeder torch.Size([35, 1, 512, 512])\n",
      "X shape after feeder torch.Size([35, 1, 16, 16])\n",
      "T shape after feeder torch.Size([35, 1, 16, 16])\n",
      "X SHAPE torch.Size([35, 1, 256])\n",
      "T SHAPE torch.Size([35, 1, 256])\n"
     ]
    },
    {
     "name": "stderr",
     "output_type": "stream",
     "text": [
      "pixdim[0] (qfac) should be 1 (default) or -1; setting qfac to 1\n",
      "INFO:nibabel.global:pixdim[0] (qfac) should be 1 (default) or -1; setting qfac to 1\n",
      "pixdim[0] (qfac) should be 1 (default) or -1; setting qfac to 1\n",
      "INFO:nibabel.global:pixdim[0] (qfac) should be 1 (default) or -1; setting qfac to 1\n",
      "pixdim[0] (qfac) should be 1 (default) or -1; setting qfac to 1\n",
      "INFO:nibabel.global:pixdim[0] (qfac) should be 1 (default) or -1; setting qfac to 1\n"
     ]
    },
    {
     "name": "stdout",
     "output_type": "stream",
     "text": [
      "BBOXES: torch.Size([35, 4])\n",
      "X shape before feeder torch.Size([35, 1, 1, 512, 512])\n",
      "T shape before feeder torch.Size([35, 1, 512, 512])\n",
      "X shape after feeder torch.Size([35, 1, 16, 16])\n",
      "T shape after feeder torch.Size([35, 1, 16, 16])\n",
      "X SHAPE torch.Size([35, 1, 256])\n",
      "T SHAPE torch.Size([35, 1, 256])\n"
     ]
    },
    {
     "name": "stderr",
     "output_type": "stream",
     "text": [
      "pixdim[0] (qfac) should be 1 (default) or -1; setting qfac to 1\n",
      "INFO:nibabel.global:pixdim[0] (qfac) should be 1 (default) or -1; setting qfac to 1\n",
      "pixdim[0] (qfac) should be 1 (default) or -1; setting qfac to 1\n",
      "INFO:nibabel.global:pixdim[0] (qfac) should be 1 (default) or -1; setting qfac to 1\n",
      "pixdim[0] (qfac) should be 1 (default) or -1; setting qfac to 1\n",
      "INFO:nibabel.global:pixdim[0] (qfac) should be 1 (default) or -1; setting qfac to 1\n"
     ]
    },
    {
     "name": "stdout",
     "output_type": "stream",
     "text": [
      "BBOXES: torch.Size([35, 4])\n",
      "X shape before feeder torch.Size([35, 1, 1, 512, 512])\n",
      "T shape before feeder torch.Size([35, 1, 512, 512])\n",
      "X shape after feeder torch.Size([35, 1, 16, 16])\n",
      "T shape after feeder torch.Size([35, 1, 16, 16])\n",
      "X SHAPE torch.Size([35, 1, 256])\n",
      "T SHAPE torch.Size([35, 1, 256])\n"
     ]
    },
    {
     "name": "stderr",
     "output_type": "stream",
     "text": [
      "pixdim[0] (qfac) should be 1 (default) or -1; setting qfac to 1\n",
      "INFO:nibabel.global:pixdim[0] (qfac) should be 1 (default) or -1; setting qfac to 1\n",
      "pixdim[0] (qfac) should be 1 (default) or -1; setting qfac to 1\n",
      "INFO:nibabel.global:pixdim[0] (qfac) should be 1 (default) or -1; setting qfac to 1\n"
     ]
    },
    {
     "name": "stdout",
     "output_type": "stream",
     "text": [
      "BBOXES: torch.Size([35, 4])\n",
      "X shape before feeder torch.Size([35, 1, 1, 512, 512])\n",
      "T shape before feeder torch.Size([35, 1, 512, 512])\n",
      "X shape after feeder torch.Size([35, 1, 16, 16])\n",
      "T shape after feeder torch.Size([35, 1, 16, 16])\n",
      "X SHAPE torch.Size([35, 1, 256])\n",
      "T SHAPE torch.Size([35, 1, 256])\n"
     ]
    },
    {
     "name": "stderr",
     "output_type": "stream",
     "text": [
      "pixdim[0] (qfac) should be 1 (default) or -1; setting qfac to 1\n",
      "INFO:nibabel.global:pixdim[0] (qfac) should be 1 (default) or -1; setting qfac to 1\n",
      "pixdim[0] (qfac) should be 1 (default) or -1; setting qfac to 1\n",
      "INFO:nibabel.global:pixdim[0] (qfac) should be 1 (default) or -1; setting qfac to 1\n"
     ]
    },
    {
     "name": "stdout",
     "output_type": "stream",
     "text": [
      "BBOXES: torch.Size([35, 4])\n",
      "X shape before feeder torch.Size([35, 1, 1, 512, 512])\n",
      "T shape before feeder torch.Size([35, 1, 512, 512])\n",
      "X shape after feeder torch.Size([35, 1, 16, 16])\n",
      "T shape after feeder torch.Size([35, 1, 16, 16])\n",
      "X SHAPE torch.Size([35, 1, 256])\n",
      "T SHAPE torch.Size([35, 1, 256])\n"
     ]
    },
    {
     "name": "stderr",
     "output_type": "stream",
     "text": [
      "pixdim[0] (qfac) should be 1 (default) or -1; setting qfac to 1\n",
      "INFO:nibabel.global:pixdim[0] (qfac) should be 1 (default) or -1; setting qfac to 1\n",
      "pixdim[0] (qfac) should be 1 (default) or -1; setting qfac to 1\n",
      "INFO:nibabel.global:pixdim[0] (qfac) should be 1 (default) or -1; setting qfac to 1\n"
     ]
    },
    {
     "name": "stdout",
     "output_type": "stream",
     "text": [
      "BBOXES: torch.Size([35, 4])\n",
      "X shape before feeder torch.Size([35, 1, 1, 512, 512])\n",
      "T shape before feeder torch.Size([35, 1, 512, 512])\n",
      "X shape after feeder torch.Size([35, 1, 16, 16])\n",
      "T shape after feeder torch.Size([35, 1, 16, 16])\n",
      "X SHAPE torch.Size([35, 1, 256])\n",
      "T SHAPE torch.Size([35, 1, 256])\n"
     ]
    },
    {
     "name": "stderr",
     "output_type": "stream",
     "text": [
      "pixdim[0] (qfac) should be 1 (default) or -1; setting qfac to 1\n",
      "INFO:nibabel.global:pixdim[0] (qfac) should be 1 (default) or -1; setting qfac to 1\n",
      "pixdim[0] (qfac) should be 1 (default) or -1; setting qfac to 1\n",
      "INFO:nibabel.global:pixdim[0] (qfac) should be 1 (default) or -1; setting qfac to 1\n"
     ]
    },
    {
     "name": "stdout",
     "output_type": "stream",
     "text": [
      "BBOXES: torch.Size([35, 4])\n",
      "X shape before feeder torch.Size([35, 1, 1, 512, 512])\n",
      "T shape before feeder torch.Size([35, 1, 512, 512])\n",
      "X shape after feeder torch.Size([35, 1, 16, 16])\n",
      "T shape after feeder torch.Size([35, 1, 16, 16])\n",
      "X SHAPE torch.Size([35, 1, 256])\n",
      "T SHAPE torch.Size([35, 1, 256])\n"
     ]
    },
    {
     "name": "stderr",
     "output_type": "stream",
     "text": [
      "pixdim[0] (qfac) should be 1 (default) or -1; setting qfac to 1\n",
      "INFO:nibabel.global:pixdim[0] (qfac) should be 1 (default) or -1; setting qfac to 1\n",
      "pixdim[0] (qfac) should be 1 (default) or -1; setting qfac to 1\n",
      "INFO:nibabel.global:pixdim[0] (qfac) should be 1 (default) or -1; setting qfac to 1\n"
     ]
    },
    {
     "name": "stdout",
     "output_type": "stream",
     "text": [
      "BBOXES: torch.Size([35, 4])\n",
      "X shape before feeder torch.Size([35, 1, 1, 512, 512])\n",
      "T shape before feeder torch.Size([35, 1, 512, 512])\n",
      "X shape after feeder torch.Size([35, 1, 16, 16])\n",
      "T shape after feeder torch.Size([35, 1, 16, 16])\n",
      "X SHAPE torch.Size([35, 1, 256])\n",
      "T SHAPE torch.Size([35, 1, 256])\n"
     ]
    },
    {
     "name": "stderr",
     "output_type": "stream",
     "text": [
      "pixdim[0] (qfac) should be 1 (default) or -1; setting qfac to 1\n",
      "INFO:nibabel.global:pixdim[0] (qfac) should be 1 (default) or -1; setting qfac to 1\n",
      "pixdim[0] (qfac) should be 1 (default) or -1; setting qfac to 1\n",
      "INFO:nibabel.global:pixdim[0] (qfac) should be 1 (default) or -1; setting qfac to 1\n",
      "pixdim[0] (qfac) should be 1 (default) or -1; setting qfac to 1\n",
      "INFO:nibabel.global:pixdim[0] (qfac) should be 1 (default) or -1; setting qfac to 1\n"
     ]
    },
    {
     "name": "stdout",
     "output_type": "stream",
     "text": [
      "BBOXES: torch.Size([35, 4])\n",
      "X shape before feeder torch.Size([35, 1, 1, 512, 512])\n",
      "T shape before feeder torch.Size([35, 1, 512, 512])\n",
      "X shape after feeder torch.Size([35, 1, 16, 16])\n",
      "T shape after feeder torch.Size([35, 1, 16, 16])\n",
      "X SHAPE torch.Size([35, 1, 256])\n",
      "T SHAPE torch.Size([35, 1, 256])\n"
     ]
    },
    {
     "name": "stderr",
     "output_type": "stream",
     "text": [
      "pixdim[0] (qfac) should be 1 (default) or -1; setting qfac to 1\n",
      "INFO:nibabel.global:pixdim[0] (qfac) should be 1 (default) or -1; setting qfac to 1\n",
      "pixdim[0] (qfac) should be 1 (default) or -1; setting qfac to 1\n",
      "INFO:nibabel.global:pixdim[0] (qfac) should be 1 (default) or -1; setting qfac to 1\n",
      "pixdim[0] (qfac) should be 1 (default) or -1; setting qfac to 1\n",
      "INFO:nibabel.global:pixdim[0] (qfac) should be 1 (default) or -1; setting qfac to 1\n"
     ]
    },
    {
     "name": "stdout",
     "output_type": "stream",
     "text": [
      "BBOXES: torch.Size([35, 4])\n",
      "X shape before feeder torch.Size([35, 1, 1, 512, 512])\n",
      "T shape before feeder torch.Size([35, 1, 512, 512])\n",
      "X shape after feeder torch.Size([35, 1, 16, 16])\n",
      "T shape after feeder torch.Size([35, 1, 16, 16])\n",
      "X SHAPE torch.Size([35, 1, 256])\n",
      "T SHAPE torch.Size([35, 1, 256])\n"
     ]
    },
    {
     "name": "stderr",
     "output_type": "stream",
     "text": [
      "pixdim[0] (qfac) should be 1 (default) or -1; setting qfac to 1\n",
      "INFO:nibabel.global:pixdim[0] (qfac) should be 1 (default) or -1; setting qfac to 1\n",
      "pixdim[0] (qfac) should be 1 (default) or -1; setting qfac to 1\n",
      "INFO:nibabel.global:pixdim[0] (qfac) should be 1 (default) or -1; setting qfac to 1\n"
     ]
    },
    {
     "name": "stdout",
     "output_type": "stream",
     "text": [
      "BBOXES: torch.Size([35, 4])\n",
      "X shape before feeder torch.Size([35, 1, 1, 512, 512])\n",
      "T shape before feeder torch.Size([35, 1, 512, 512])\n",
      "X shape after feeder torch.Size([35, 1, 16, 16])\n",
      "T shape after feeder torch.Size([35, 1, 16, 16])\n",
      "X SHAPE torch.Size([35, 1, 256])\n",
      "T SHAPE torch.Size([35, 1, 256])\n"
     ]
    },
    {
     "name": "stderr",
     "output_type": "stream",
     "text": [
      "pixdim[0] (qfac) should be 1 (default) or -1; setting qfac to 1\n",
      "INFO:nibabel.global:pixdim[0] (qfac) should be 1 (default) or -1; setting qfac to 1\n",
      "pixdim[0] (qfac) should be 1 (default) or -1; setting qfac to 1\n",
      "INFO:nibabel.global:pixdim[0] (qfac) should be 1 (default) or -1; setting qfac to 1\n",
      "pixdim[0] (qfac) should be 1 (default) or -1; setting qfac to 1\n"
     ]
    },
    {
     "name": "stdout",
     "output_type": "stream",
     "text": [
      "BBOXES: torch.Size([35, 4])\n",
      "X shape before feeder torch.Size([35, 1, 1, 512, 512])\n",
      "T shape before feeder torch.Size([35, 1, 512, 512])\n",
      "X shape after feeder torch.Size([35, 1, 16, 16])\n",
      "T shape after feeder torch.Size([35, 1, 16, 16])\n",
      "X SHAPE torch.Size([35, 1, 256])\n",
      "T SHAPE torch.Size([35, 1, 256])\n"
     ]
    },
    {
     "name": "stderr",
     "output_type": "stream",
     "text": [
      "INFO:nibabel.global:pixdim[0] (qfac) should be 1 (default) or -1; setting qfac to 1\n",
      "pixdim[0] (qfac) should be 1 (default) or -1; setting qfac to 1\n",
      "INFO:nibabel.global:pixdim[0] (qfac) should be 1 (default) or -1; setting qfac to 1\n",
      "pixdim[0] (qfac) should be 1 (default) or -1; setting qfac to 1\n",
      "INFO:nibabel.global:pixdim[0] (qfac) should be 1 (default) or -1; setting qfac to 1\n",
      "pixdim[0] (qfac) should be 1 (default) or -1; setting qfac to 1\n",
      "INFO:nibabel.global:pixdim[0] (qfac) should be 1 (default) or -1; setting qfac to 1\n"
     ]
    },
    {
     "name": "stdout",
     "output_type": "stream",
     "text": [
      "BBOXES: torch.Size([35, 4])\n",
      "X shape before feeder torch.Size([35, 1, 1, 512, 512])\n",
      "T shape before feeder torch.Size([35, 1, 512, 512])\n",
      "X shape after feeder torch.Size([35, 1, 16, 16])\n",
      "T shape after feeder torch.Size([35, 1, 16, 16])\n",
      "X SHAPE torch.Size([35, 1, 256])\n",
      "T SHAPE torch.Size([35, 1, 256])\n"
     ]
    },
    {
     "name": "stderr",
     "output_type": "stream",
     "text": [
      "pixdim[0] (qfac) should be 1 (default) or -1; setting qfac to 1\n",
      "INFO:nibabel.global:pixdim[0] (qfac) should be 1 (default) or -1; setting qfac to 1\n",
      "pixdim[0] (qfac) should be 1 (default) or -1; setting qfac to 1\n",
      "INFO:nibabel.global:pixdim[0] (qfac) should be 1 (default) or -1; setting qfac to 1\n",
      "pixdim[0] (qfac) should be 1 (default) or -1; setting qfac to 1\n",
      "INFO:nibabel.global:pixdim[0] (qfac) should be 1 (default) or -1; setting qfac to 1\n"
     ]
    },
    {
     "name": "stdout",
     "output_type": "stream",
     "text": [
      "BBOXES: torch.Size([35, 4])\n",
      "X shape before feeder torch.Size([35, 1, 1, 512, 512])\n",
      "T shape before feeder torch.Size([35, 1, 512, 512])\n",
      "X shape after feeder torch.Size([35, 1, 16, 16])\n",
      "T shape after feeder torch.Size([35, 1, 16, 16])\n",
      "X SHAPE torch.Size([35, 1, 256])\n",
      "T SHAPE torch.Size([35, 1, 256])\n"
     ]
    },
    {
     "name": "stderr",
     "output_type": "stream",
     "text": [
      "pixdim[0] (qfac) should be 1 (default) or -1; setting qfac to 1\n",
      "INFO:nibabel.global:pixdim[0] (qfac) should be 1 (default) or -1; setting qfac to 1\n",
      "pixdim[0] (qfac) should be 1 (default) or -1; setting qfac to 1\n",
      "INFO:nibabel.global:pixdim[0] (qfac) should be 1 (default) or -1; setting qfac to 1\n",
      "pixdim[0] (qfac) should be 1 (default) or -1; setting qfac to 1\n",
      "INFO:nibabel.global:pixdim[0] (qfac) should be 1 (default) or -1; setting qfac to 1\n"
     ]
    },
    {
     "name": "stdout",
     "output_type": "stream",
     "text": [
      "BBOXES: torch.Size([35, 4])\n",
      "X shape before feeder torch.Size([35, 1, 1, 512, 512])\n",
      "T shape before feeder torch.Size([35, 1, 512, 512])\n",
      "X shape after feeder torch.Size([35, 1, 16, 16])\n",
      "T shape after feeder torch.Size([35, 1, 16, 16])\n",
      "X SHAPE torch.Size([35, 1, 256])\n",
      "T SHAPE torch.Size([35, 1, 256])\n"
     ]
    },
    {
     "name": "stderr",
     "output_type": "stream",
     "text": [
      "pixdim[0] (qfac) should be 1 (default) or -1; setting qfac to 1\n",
      "INFO:nibabel.global:pixdim[0] (qfac) should be 1 (default) or -1; setting qfac to 1\n",
      "pixdim[0] (qfac) should be 1 (default) or -1; setting qfac to 1\n",
      "INFO:nibabel.global:pixdim[0] (qfac) should be 1 (default) or -1; setting qfac to 1\n"
     ]
    },
    {
     "name": "stdout",
     "output_type": "stream",
     "text": [
      "BBOXES: torch.Size([35, 4])\n",
      "X shape before feeder torch.Size([35, 1, 1, 512, 512])\n",
      "T shape before feeder torch.Size([35, 1, 512, 512])\n",
      "X shape after feeder torch.Size([35, 1, 16, 16])\n",
      "T shape after feeder torch.Size([35, 1, 16, 16])\n",
      "X SHAPE torch.Size([35, 1, 256])\n",
      "T SHAPE torch.Size([35, 1, 256])\n"
     ]
    },
    {
     "name": "stderr",
     "output_type": "stream",
     "text": [
      "pixdim[0] (qfac) should be 1 (default) or -1; setting qfac to 1\n",
      "INFO:nibabel.global:pixdim[0] (qfac) should be 1 (default) or -1; setting qfac to 1\n",
      "pixdim[0] (qfac) should be 1 (default) or -1; setting qfac to 1\n",
      "INFO:nibabel.global:pixdim[0] (qfac) should be 1 (default) or -1; setting qfac to 1\n"
     ]
    },
    {
     "name": "stdout",
     "output_type": "stream",
     "text": [
      "BBOXES: torch.Size([35, 4])\n",
      "X shape before feeder torch.Size([35, 1, 1, 512, 512])\n",
      "T shape before feeder torch.Size([35, 1, 512, 512])\n",
      "X shape after feeder torch.Size([35, 1, 16, 16])\n",
      "T shape after feeder torch.Size([35, 1, 16, 16])\n",
      "X SHAPE torch.Size([35, 1, 256])\n",
      "T SHAPE torch.Size([35, 1, 256])\n"
     ]
    },
    {
     "name": "stderr",
     "output_type": "stream",
     "text": [
      "pixdim[0] (qfac) should be 1 (default) or -1; setting qfac to 1\n",
      "INFO:nibabel.global:pixdim[0] (qfac) should be 1 (default) or -1; setting qfac to 1\n",
      "pixdim[0] (qfac) should be 1 (default) or -1; setting qfac to 1\n",
      "INFO:nibabel.global:pixdim[0] (qfac) should be 1 (default) or -1; setting qfac to 1\n"
     ]
    },
    {
     "name": "stdout",
     "output_type": "stream",
     "text": [
      "BBOXES: torch.Size([35, 4])\n",
      "X shape before feeder torch.Size([35, 1, 1, 512, 512])\n",
      "T shape before feeder torch.Size([35, 1, 512, 512])\n",
      "X shape after feeder torch.Size([35, 1, 16, 16])\n",
      "T shape after feeder torch.Size([35, 1, 16, 16])\n",
      "X SHAPE torch.Size([35, 1, 256])\n",
      "T SHAPE torch.Size([35, 1, 256])\n"
     ]
    },
    {
     "name": "stderr",
     "output_type": "stream",
     "text": [
      "pixdim[0] (qfac) should be 1 (default) or -1; setting qfac to 1\n",
      "INFO:nibabel.global:pixdim[0] (qfac) should be 1 (default) or -1; setting qfac to 1\n",
      "pixdim[0] (qfac) should be 1 (default) or -1; setting qfac to 1\n",
      "INFO:nibabel.global:pixdim[0] (qfac) should be 1 (default) or -1; setting qfac to 1\n"
     ]
    },
    {
     "name": "stdout",
     "output_type": "stream",
     "text": [
      "BBOXES: torch.Size([35, 4])\n",
      "X shape before feeder torch.Size([35, 1, 1, 512, 512])\n",
      "T shape before feeder torch.Size([35, 1, 512, 512])\n",
      "X shape after feeder torch.Size([35, 1, 16, 16])\n",
      "T shape after feeder torch.Size([35, 1, 16, 16])\n",
      "X SHAPE torch.Size([35, 1, 256])\n",
      "T SHAPE torch.Size([35, 1, 256])\n"
     ]
    },
    {
     "name": "stderr",
     "output_type": "stream",
     "text": [
      "pixdim[0] (qfac) should be 1 (default) or -1; setting qfac to 1\n",
      "INFO:nibabel.global:pixdim[0] (qfac) should be 1 (default) or -1; setting qfac to 1\n",
      "pixdim[0] (qfac) should be 1 (default) or -1; setting qfac to 1\n",
      "INFO:nibabel.global:pixdim[0] (qfac) should be 1 (default) or -1; setting qfac to 1\n",
      "pixdim[0] (qfac) should be 1 (default) or -1; setting qfac to 1\n"
     ]
    },
    {
     "name": "stdout",
     "output_type": "stream",
     "text": [
      "BBOXES: torch.Size([35, 4])\n",
      "X shape before feeder torch.Size([35, 1, 1, 512, 512])\n",
      "T shape before feeder torch.Size([35, 1, 512, 512])\n",
      "X shape after feeder torch.Size([35, 1, 16, 16])\n",
      "T shape after feeder torch.Size([35, 1, 16, 16])\n",
      "X SHAPE torch.Size([35, 1, 256])\n",
      "T SHAPE torch.Size([35, 1, 256])\n"
     ]
    },
    {
     "name": "stderr",
     "output_type": "stream",
     "text": [
      "INFO:nibabel.global:pixdim[0] (qfac) should be 1 (default) or -1; setting qfac to 1\n",
      "pixdim[0] (qfac) should be 1 (default) or -1; setting qfac to 1\n",
      "INFO:nibabel.global:pixdim[0] (qfac) should be 1 (default) or -1; setting qfac to 1\n",
      "pixdim[0] (qfac) should be 1 (default) or -1; setting qfac to 1\n",
      "INFO:nibabel.global:pixdim[0] (qfac) should be 1 (default) or -1; setting qfac to 1\n",
      "pixdim[0] (qfac) should be 1 (default) or -1; setting qfac to 1\n",
      "INFO:nibabel.global:pixdim[0] (qfac) should be 1 (default) or -1; setting qfac to 1\n"
     ]
    },
    {
     "name": "stdout",
     "output_type": "stream",
     "text": [
      "BBOXES: torch.Size([35, 4])\n",
      "X shape before feeder torch.Size([35, 1, 1, 512, 512])\n",
      "T shape before feeder torch.Size([35, 1, 512, 512])\n",
      "X shape after feeder torch.Size([35, 1, 16, 16])\n",
      "T shape after feeder torch.Size([35, 1, 16, 16])\n",
      "X SHAPE torch.Size([35, 1, 256])\n",
      "T SHAPE torch.Size([35, 1, 256])\n"
     ]
    },
    {
     "name": "stderr",
     "output_type": "stream",
     "text": [
      "pixdim[0] (qfac) should be 1 (default) or -1; setting qfac to 1\n",
      "INFO:nibabel.global:pixdim[0] (qfac) should be 1 (default) or -1; setting qfac to 1\n",
      "pixdim[0] (qfac) should be 1 (default) or -1; setting qfac to 1\n",
      "INFO:nibabel.global:pixdim[0] (qfac) should be 1 (default) or -1; setting qfac to 1\n"
     ]
    },
    {
     "name": "stdout",
     "output_type": "stream",
     "text": [
      "BBOXES: torch.Size([35, 4])\n",
      "X shape before feeder torch.Size([35, 1, 1, 512, 512])\n",
      "T shape before feeder torch.Size([35, 1, 512, 512])\n",
      "X shape after feeder torch.Size([35, 1, 16, 16])\n",
      "T shape after feeder torch.Size([35, 1, 16, 16])\n",
      "X SHAPE torch.Size([35, 1, 256])\n",
      "T SHAPE torch.Size([35, 1, 256])\n"
     ]
    },
    {
     "name": "stderr",
     "output_type": "stream",
     "text": [
      "pixdim[0] (qfac) should be 1 (default) or -1; setting qfac to 1\n",
      "INFO:nibabel.global:pixdim[0] (qfac) should be 1 (default) or -1; setting qfac to 1\n",
      "pixdim[0] (qfac) should be 1 (default) or -1; setting qfac to 1\n",
      "INFO:nibabel.global:pixdim[0] (qfac) should be 1 (default) or -1; setting qfac to 1\n"
     ]
    },
    {
     "name": "stdout",
     "output_type": "stream",
     "text": [
      "BBOXES: torch.Size([35, 4])\n",
      "X shape before feeder torch.Size([35, 1, 1, 512, 512])\n",
      "T shape before feeder torch.Size([35, 1, 512, 512])\n",
      "X shape after feeder torch.Size([35, 1, 16, 16])\n",
      "T shape after feeder torch.Size([35, 1, 16, 16])\n",
      "X SHAPE torch.Size([35, 1, 256])\n",
      "T SHAPE torch.Size([35, 1, 256])\n"
     ]
    },
    {
     "name": "stderr",
     "output_type": "stream",
     "text": [
      "pixdim[0] (qfac) should be 1 (default) or -1; setting qfac to 1\n",
      "INFO:nibabel.global:pixdim[0] (qfac) should be 1 (default) or -1; setting qfac to 1\n",
      "pixdim[0] (qfac) should be 1 (default) or -1; setting qfac to 1\n",
      "INFO:nibabel.global:pixdim[0] (qfac) should be 1 (default) or -1; setting qfac to 1\n"
     ]
    },
    {
     "name": "stdout",
     "output_type": "stream",
     "text": [
      "BBOXES: torch.Size([35, 4])\n",
      "X shape before feeder torch.Size([35, 1, 1, 512, 512])\n",
      "T shape before feeder torch.Size([35, 1, 512, 512])\n",
      "X shape after feeder torch.Size([35, 1, 16, 16])\n",
      "T shape after feeder torch.Size([35, 1, 16, 16])\n",
      "X SHAPE torch.Size([35, 1, 256])\n",
      "T SHAPE torch.Size([35, 1, 256])\n"
     ]
    },
    {
     "name": "stderr",
     "output_type": "stream",
     "text": [
      "pixdim[0] (qfac) should be 1 (default) or -1; setting qfac to 1\n",
      "INFO:nibabel.global:pixdim[0] (qfac) should be 1 (default) or -1; setting qfac to 1\n",
      "pixdim[0] (qfac) should be 1 (default) or -1; setting qfac to 1\n",
      "INFO:nibabel.global:pixdim[0] (qfac) should be 1 (default) or -1; setting qfac to 1\n",
      "pixdim[0] (qfac) should be 1 (default) or -1; setting qfac to 1\n",
      "INFO:nibabel.global:pixdim[0] (qfac) should be 1 (default) or -1; setting qfac to 1\n"
     ]
    },
    {
     "name": "stdout",
     "output_type": "stream",
     "text": [
      "BBOXES: torch.Size([35, 4])\n",
      "X shape before feeder torch.Size([35, 1, 1, 512, 512])\n",
      "T shape before feeder torch.Size([35, 1, 512, 512])\n",
      "X shape after feeder torch.Size([35, 1, 16, 16])\n",
      "T shape after feeder torch.Size([35, 1, 16, 16])\n",
      "X SHAPE torch.Size([35, 1, 256])\n",
      "T SHAPE torch.Size([35, 1, 256])\n"
     ]
    },
    {
     "name": "stderr",
     "output_type": "stream",
     "text": [
      "pixdim[0] (qfac) should be 1 (default) or -1; setting qfac to 1\n",
      "INFO:nibabel.global:pixdim[0] (qfac) should be 1 (default) or -1; setting qfac to 1\n",
      "pixdim[0] (qfac) should be 1 (default) or -1; setting qfac to 1\n",
      "INFO:nibabel.global:pixdim[0] (qfac) should be 1 (default) or -1; setting qfac to 1\n",
      "pixdim[0] (qfac) should be 1 (default) or -1; setting qfac to 1\n",
      "INFO:nibabel.global:pixdim[0] (qfac) should be 1 (default) or -1; setting qfac to 1\n"
     ]
    },
    {
     "name": "stdout",
     "output_type": "stream",
     "text": [
      "BBOXES: torch.Size([35, 4])\n",
      "X shape before feeder torch.Size([35, 1, 1, 512, 512])\n",
      "T shape before feeder torch.Size([35, 1, 512, 512])\n",
      "X shape after feeder torch.Size([35, 1, 16, 16])\n",
      "T shape after feeder torch.Size([35, 1, 16, 16])\n",
      "X SHAPE torch.Size([35, 1, 256])\n",
      "T SHAPE torch.Size([35, 1, 256])\n"
     ]
    },
    {
     "name": "stderr",
     "output_type": "stream",
     "text": [
      "pixdim[0] (qfac) should be 1 (default) or -1; setting qfac to 1\n",
      "INFO:nibabel.global:pixdim[0] (qfac) should be 1 (default) or -1; setting qfac to 1\n",
      "pixdim[0] (qfac) should be 1 (default) or -1; setting qfac to 1\n",
      "INFO:nibabel.global:pixdim[0] (qfac) should be 1 (default) or -1; setting qfac to 1\n"
     ]
    },
    {
     "name": "stdout",
     "output_type": "stream",
     "text": [
      "BBOXES: torch.Size([35, 4])\n",
      "X shape before feeder torch.Size([35, 1, 1, 512, 512])\n",
      "T shape before feeder torch.Size([35, 1, 512, 512])\n",
      "X shape after feeder torch.Size([35, 1, 16, 16])\n",
      "T shape after feeder torch.Size([35, 1, 16, 16])\n",
      "X SHAPE torch.Size([35, 1, 256])\n",
      "T SHAPE torch.Size([35, 1, 256])\n"
     ]
    },
    {
     "name": "stderr",
     "output_type": "stream",
     "text": [
      "pixdim[0] (qfac) should be 1 (default) or -1; setting qfac to 1\n",
      "INFO:nibabel.global:pixdim[0] (qfac) should be 1 (default) or -1; setting qfac to 1\n",
      "pixdim[0] (qfac) should be 1 (default) or -1; setting qfac to 1\n",
      "INFO:nibabel.global:pixdim[0] (qfac) should be 1 (default) or -1; setting qfac to 1\n"
     ]
    },
    {
     "name": "stdout",
     "output_type": "stream",
     "text": [
      "BBOXES: torch.Size([35, 4])\n",
      "X shape before feeder torch.Size([35, 1, 1, 512, 512])\n",
      "T shape before feeder torch.Size([35, 1, 512, 512])\n",
      "X shape after feeder torch.Size([35, 1, 16, 16])\n",
      "T shape after feeder torch.Size([35, 1, 16, 16])\n",
      "X SHAPE torch.Size([35, 1, 256])\n",
      "T SHAPE torch.Size([35, 1, 256])\n"
     ]
    },
    {
     "name": "stderr",
     "output_type": "stream",
     "text": [
      "pixdim[0] (qfac) should be 1 (default) or -1; setting qfac to 1\n",
      "INFO:nibabel.global:pixdim[0] (qfac) should be 1 (default) or -1; setting qfac to 1\n",
      "pixdim[0] (qfac) should be 1 (default) or -1; setting qfac to 1\n",
      "INFO:nibabel.global:pixdim[0] (qfac) should be 1 (default) or -1; setting qfac to 1\n"
     ]
    },
    {
     "name": "stdout",
     "output_type": "stream",
     "text": [
      "BBOXES: torch.Size([35, 4])\n",
      "X shape before feeder torch.Size([35, 1, 1, 512, 512])\n",
      "T shape before feeder torch.Size([35, 1, 512, 512])\n",
      "X shape after feeder torch.Size([35, 1, 16, 16])\n",
      "T shape after feeder torch.Size([35, 1, 16, 16])\n",
      "X SHAPE torch.Size([35, 1, 256])\n",
      "T SHAPE torch.Size([35, 1, 256])\n"
     ]
    },
    {
     "name": "stderr",
     "output_type": "stream",
     "text": [
      "pixdim[0] (qfac) should be 1 (default) or -1; setting qfac to 1\n",
      "INFO:nibabel.global:pixdim[0] (qfac) should be 1 (default) or -1; setting qfac to 1\n",
      "pixdim[0] (qfac) should be 1 (default) or -1; setting qfac to 1\n",
      "INFO:nibabel.global:pixdim[0] (qfac) should be 1 (default) or -1; setting qfac to 1\n"
     ]
    },
    {
     "name": "stdout",
     "output_type": "stream",
     "text": [
      "BBOXES: torch.Size([35, 4])\n",
      "X shape before feeder torch.Size([35, 1, 1, 512, 512])\n",
      "T shape before feeder torch.Size([35, 1, 512, 512])\n",
      "X shape after feeder torch.Size([35, 1, 16, 16])\n",
      "T shape after feeder torch.Size([35, 1, 16, 16])\n",
      "X SHAPE torch.Size([35, 1, 256])\n",
      "T SHAPE torch.Size([35, 1, 256])\n"
     ]
    },
    {
     "name": "stderr",
     "output_type": "stream",
     "text": [
      "pixdim[0] (qfac) should be 1 (default) or -1; setting qfac to 1\n",
      "INFO:nibabel.global:pixdim[0] (qfac) should be 1 (default) or -1; setting qfac to 1\n",
      "INFO:andy:Progress:\t300/385\n",
      "INFO:andy:Current error:\t0.7376967668533325\n",
      "pixdim[0] (qfac) should be 1 (default) or -1; setting qfac to 1\n",
      "INFO:nibabel.global:pixdim[0] (qfac) should be 1 (default) or -1; setting qfac to 1\n"
     ]
    },
    {
     "name": "stdout",
     "output_type": "stream",
     "text": [
      "BBOXES: torch.Size([35, 4])\n",
      "X shape before feeder torch.Size([35, 1, 1, 512, 512])\n",
      "T shape before feeder torch.Size([35, 1, 512, 512])\n",
      "X shape after feeder torch.Size([35, 1, 16, 16])\n",
      "T shape after feeder torch.Size([35, 1, 16, 16])\n",
      "X SHAPE torch.Size([35, 1, 256])\n",
      "T SHAPE torch.Size([35, 1, 256])\n"
     ]
    },
    {
     "name": "stderr",
     "output_type": "stream",
     "text": [
      "pixdim[0] (qfac) should be 1 (default) or -1; setting qfac to 1\n",
      "INFO:nibabel.global:pixdim[0] (qfac) should be 1 (default) or -1; setting qfac to 1\n",
      "pixdim[0] (qfac) should be 1 (default) or -1; setting qfac to 1\n",
      "INFO:nibabel.global:pixdim[0] (qfac) should be 1 (default) or -1; setting qfac to 1\n",
      "pixdim[0] (qfac) should be 1 (default) or -1; setting qfac to 1\n",
      "INFO:nibabel.global:pixdim[0] (qfac) should be 1 (default) or -1; setting qfac to 1\n",
      "pixdim[0] (qfac) should be 1 (default) or -1; setting qfac to 1\n",
      "INFO:nibabel.global:pixdim[0] (qfac) should be 1 (default) or -1; setting qfac to 1\n"
     ]
    },
    {
     "name": "stdout",
     "output_type": "stream",
     "text": [
      "BBOXES: torch.Size([35, 4])\n",
      "X shape before feeder torch.Size([35, 1, 1, 512, 512])\n",
      "T shape before feeder torch.Size([35, 1, 512, 512])\n",
      "X shape after feeder torch.Size([35, 1, 16, 16])\n",
      "T shape after feeder torch.Size([35, 1, 16, 16])\n",
      "X SHAPE torch.Size([35, 1, 256])\n",
      "T SHAPE torch.Size([35, 1, 256])\n"
     ]
    },
    {
     "name": "stderr",
     "output_type": "stream",
     "text": [
      "pixdim[0] (qfac) should be 1 (default) or -1; setting qfac to 1\n",
      "INFO:nibabel.global:pixdim[0] (qfac) should be 1 (default) or -1; setting qfac to 1\n",
      "pixdim[0] (qfac) should be 1 (default) or -1; setting qfac to 1\n",
      "INFO:nibabel.global:pixdim[0] (qfac) should be 1 (default) or -1; setting qfac to 1\n"
     ]
    },
    {
     "name": "stdout",
     "output_type": "stream",
     "text": [
      "BBOXES: torch.Size([35, 4])\n",
      "X shape before feeder torch.Size([35, 1, 1, 512, 512])\n",
      "T shape before feeder torch.Size([35, 1, 512, 512])\n",
      "X shape after feeder torch.Size([35, 1, 16, 16])\n",
      "T shape after feeder torch.Size([35, 1, 16, 16])\n",
      "X SHAPE torch.Size([35, 1, 256])\n",
      "T SHAPE torch.Size([35, 1, 256])\n"
     ]
    },
    {
     "name": "stderr",
     "output_type": "stream",
     "text": [
      "pixdim[0] (qfac) should be 1 (default) or -1; setting qfac to 1\n",
      "INFO:nibabel.global:pixdim[0] (qfac) should be 1 (default) or -1; setting qfac to 1\n",
      "pixdim[0] (qfac) should be 1 (default) or -1; setting qfac to 1\n",
      "INFO:nibabel.global:pixdim[0] (qfac) should be 1 (default) or -1; setting qfac to 1\n"
     ]
    },
    {
     "name": "stdout",
     "output_type": "stream",
     "text": [
      "BBOXES: torch.Size([35, 4])\n",
      "X shape before feeder torch.Size([35, 1, 1, 512, 512])\n",
      "T shape before feeder torch.Size([35, 1, 512, 512])\n",
      "X shape after feeder torch.Size([35, 1, 16, 16])\n",
      "T shape after feeder torch.Size([35, 1, 16, 16])\n",
      "X SHAPE torch.Size([35, 1, 256])\n",
      "T SHAPE torch.Size([35, 1, 256])\n"
     ]
    },
    {
     "name": "stderr",
     "output_type": "stream",
     "text": [
      "pixdim[0] (qfac) should be 1 (default) or -1; setting qfac to 1\n",
      "INFO:nibabel.global:pixdim[0] (qfac) should be 1 (default) or -1; setting qfac to 1\n",
      "pixdim[0] (qfac) should be 1 (default) or -1; setting qfac to 1\n",
      "INFO:nibabel.global:pixdim[0] (qfac) should be 1 (default) or -1; setting qfac to 1\n"
     ]
    },
    {
     "name": "stdout",
     "output_type": "stream",
     "text": [
      "BBOXES: torch.Size([35, 4])\n",
      "X shape before feeder torch.Size([35, 1, 1, 512, 512])\n",
      "T shape before feeder torch.Size([35, 1, 512, 512])\n",
      "X shape after feeder torch.Size([35, 1, 16, 16])\n",
      "T shape after feeder torch.Size([35, 1, 16, 16])\n",
      "X SHAPE torch.Size([35, 1, 256])\n",
      "T SHAPE torch.Size([35, 1, 256])\n"
     ]
    },
    {
     "name": "stderr",
     "output_type": "stream",
     "text": [
      "pixdim[0] (qfac) should be 1 (default) or -1; setting qfac to 1\n",
      "INFO:nibabel.global:pixdim[0] (qfac) should be 1 (default) or -1; setting qfac to 1\n",
      "pixdim[0] (qfac) should be 1 (default) or -1; setting qfac to 1\n",
      "INFO:nibabel.global:pixdim[0] (qfac) should be 1 (default) or -1; setting qfac to 1\n"
     ]
    },
    {
     "name": "stdout",
     "output_type": "stream",
     "text": [
      "BBOXES: torch.Size([35, 4])\n",
      "X shape before feeder torch.Size([35, 1, 1, 512, 512])\n",
      "T shape before feeder torch.Size([35, 1, 512, 512])\n",
      "X shape after feeder torch.Size([35, 1, 16, 16])\n",
      "T shape after feeder torch.Size([35, 1, 16, 16])\n",
      "X SHAPE torch.Size([35, 1, 256])\n",
      "T SHAPE torch.Size([35, 1, 256])\n"
     ]
    },
    {
     "name": "stderr",
     "output_type": "stream",
     "text": [
      "pixdim[0] (qfac) should be 1 (default) or -1; setting qfac to 1\n",
      "INFO:nibabel.global:pixdim[0] (qfac) should be 1 (default) or -1; setting qfac to 1\n",
      "pixdim[0] (qfac) should be 1 (default) or -1; setting qfac to 1\n",
      "INFO:nibabel.global:pixdim[0] (qfac) should be 1 (default) or -1; setting qfac to 1\n"
     ]
    },
    {
     "name": "stdout",
     "output_type": "stream",
     "text": [
      "BBOXES: torch.Size([35, 4])\n",
      "X shape before feeder torch.Size([35, 1, 1, 512, 512])\n",
      "T shape before feeder torch.Size([35, 1, 512, 512])\n",
      "X shape after feeder torch.Size([35, 1, 16, 16])\n",
      "T shape after feeder torch.Size([35, 1, 16, 16])\n",
      "X SHAPE torch.Size([35, 1, 256])\n",
      "T SHAPE torch.Size([35, 1, 256])\n"
     ]
    },
    {
     "name": "stderr",
     "output_type": "stream",
     "text": [
      "pixdim[0] (qfac) should be 1 (default) or -1; setting qfac to 1\n",
      "INFO:nibabel.global:pixdim[0] (qfac) should be 1 (default) or -1; setting qfac to 1\n",
      "pixdim[0] (qfac) should be 1 (default) or -1; setting qfac to 1\n",
      "INFO:nibabel.global:pixdim[0] (qfac) should be 1 (default) or -1; setting qfac to 1\n"
     ]
    },
    {
     "name": "stdout",
     "output_type": "stream",
     "text": [
      "BBOXES: torch.Size([35, 4])\n",
      "X shape before feeder torch.Size([35, 1, 1, 512, 512])\n",
      "T shape before feeder torch.Size([35, 1, 512, 512])\n",
      "X shape after feeder torch.Size([35, 1, 16, 16])\n",
      "T shape after feeder torch.Size([35, 1, 16, 16])\n",
      "X SHAPE torch.Size([35, 1, 256])\n",
      "T SHAPE torch.Size([35, 1, 256])\n"
     ]
    },
    {
     "name": "stderr",
     "output_type": "stream",
     "text": [
      "pixdim[0] (qfac) should be 1 (default) or -1; setting qfac to 1\n",
      "INFO:nibabel.global:pixdim[0] (qfac) should be 1 (default) or -1; setting qfac to 1\n",
      "pixdim[0] (qfac) should be 1 (default) or -1; setting qfac to 1\n",
      "INFO:nibabel.global:pixdim[0] (qfac) should be 1 (default) or -1; setting qfac to 1\n"
     ]
    },
    {
     "name": "stdout",
     "output_type": "stream",
     "text": [
      "BBOXES: torch.Size([35, 4])\n",
      "X shape before feeder torch.Size([35, 1, 1, 512, 512])\n",
      "T shape before feeder torch.Size([35, 1, 512, 512])\n",
      "X shape after feeder torch.Size([35, 1, 16, 16])\n",
      "T shape after feeder torch.Size([35, 1, 16, 16])\n",
      "X SHAPE torch.Size([35, 1, 256])\n",
      "T SHAPE torch.Size([35, 1, 256])\n"
     ]
    },
    {
     "name": "stderr",
     "output_type": "stream",
     "text": [
      "pixdim[0] (qfac) should be 1 (default) or -1; setting qfac to 1\n",
      "INFO:nibabel.global:pixdim[0] (qfac) should be 1 (default) or -1; setting qfac to 1\n",
      "pixdim[0] (qfac) should be 1 (default) or -1; setting qfac to 1\n",
      "INFO:nibabel.global:pixdim[0] (qfac) should be 1 (default) or -1; setting qfac to 1\n"
     ]
    },
    {
     "name": "stdout",
     "output_type": "stream",
     "text": [
      "BBOXES: torch.Size([35, 4])\n",
      "X shape before feeder torch.Size([35, 1, 1, 512, 512])\n",
      "T shape before feeder torch.Size([35, 1, 512, 512])\n",
      "X shape after feeder torch.Size([35, 1, 16, 16])\n",
      "T shape after feeder torch.Size([35, 1, 16, 16])\n",
      "X SHAPE torch.Size([35, 1, 256])\n",
      "T SHAPE torch.Size([35, 1, 256])\n"
     ]
    },
    {
     "name": "stderr",
     "output_type": "stream",
     "text": [
      "pixdim[0] (qfac) should be 1 (default) or -1; setting qfac to 1\n",
      "INFO:nibabel.global:pixdim[0] (qfac) should be 1 (default) or -1; setting qfac to 1\n",
      "pixdim[0] (qfac) should be 1 (default) or -1; setting qfac to 1\n",
      "INFO:nibabel.global:pixdim[0] (qfac) should be 1 (default) or -1; setting qfac to 1\n"
     ]
    },
    {
     "name": "stdout",
     "output_type": "stream",
     "text": [
      "BBOXES: torch.Size([35, 4])\n",
      "X shape before feeder torch.Size([35, 1, 1, 512, 512])\n",
      "T shape before feeder torch.Size([35, 1, 512, 512])\n",
      "X shape after feeder torch.Size([35, 1, 16, 16])\n",
      "T shape after feeder torch.Size([35, 1, 16, 16])\n",
      "X SHAPE torch.Size([35, 1, 256])\n",
      "T SHAPE torch.Size([35, 1, 256])\n"
     ]
    },
    {
     "name": "stderr",
     "output_type": "stream",
     "text": [
      "pixdim[0] (qfac) should be 1 (default) or -1; setting qfac to 1\n",
      "INFO:nibabel.global:pixdim[0] (qfac) should be 1 (default) or -1; setting qfac to 1\n",
      "pixdim[0] (qfac) should be 1 (default) or -1; setting qfac to 1\n",
      "INFO:nibabel.global:pixdim[0] (qfac) should be 1 (default) or -1; setting qfac to 1\n"
     ]
    },
    {
     "name": "stdout",
     "output_type": "stream",
     "text": [
      "BBOXES: torch.Size([35, 4])\n",
      "X shape before feeder torch.Size([35, 1, 1, 512, 512])\n",
      "T shape before feeder torch.Size([35, 1, 512, 512])\n",
      "X shape after feeder torch.Size([35, 1, 16, 16])\n",
      "T shape after feeder torch.Size([35, 1, 16, 16])\n",
      "X SHAPE torch.Size([35, 1, 256])\n",
      "T SHAPE torch.Size([35, 1, 256])\n"
     ]
    },
    {
     "name": "stderr",
     "output_type": "stream",
     "text": [
      "pixdim[0] (qfac) should be 1 (default) or -1; setting qfac to 1\n",
      "INFO:nibabel.global:pixdim[0] (qfac) should be 1 (default) or -1; setting qfac to 1\n",
      "pixdim[0] (qfac) should be 1 (default) or -1; setting qfac to 1\n",
      "INFO:nibabel.global:pixdim[0] (qfac) should be 1 (default) or -1; setting qfac to 1\n",
      "pixdim[0] (qfac) should be 1 (default) or -1; setting qfac to 1\n",
      "INFO:nibabel.global:pixdim[0] (qfac) should be 1 (default) or -1; setting qfac to 1\n"
     ]
    },
    {
     "name": "stdout",
     "output_type": "stream",
     "text": [
      "BBOXES: torch.Size([35, 4])\n",
      "X shape before feeder torch.Size([35, 1, 1, 512, 512])\n",
      "T shape before feeder torch.Size([35, 1, 512, 512])\n",
      "X shape after feeder torch.Size([35, 1, 16, 16])\n",
      "T shape after feeder torch.Size([35, 1, 16, 16])\n",
      "X SHAPE torch.Size([35, 1, 256])\n",
      "T SHAPE torch.Size([35, 1, 256])\n"
     ]
    },
    {
     "name": "stderr",
     "output_type": "stream",
     "text": [
      "pixdim[0] (qfac) should be 1 (default) or -1; setting qfac to 1\n",
      "INFO:nibabel.global:pixdim[0] (qfac) should be 1 (default) or -1; setting qfac to 1\n",
      "pixdim[0] (qfac) should be 1 (default) or -1; setting qfac to 1\n",
      "INFO:nibabel.global:pixdim[0] (qfac) should be 1 (default) or -1; setting qfac to 1\n",
      "pixdim[0] (qfac) should be 1 (default) or -1; setting qfac to 1\n",
      "INFO:nibabel.global:pixdim[0] (qfac) should be 1 (default) or -1; setting qfac to 1\n"
     ]
    },
    {
     "name": "stdout",
     "output_type": "stream",
     "text": [
      "BBOXES: torch.Size([35, 4])\n",
      "X shape before feeder torch.Size([35, 1, 1, 512, 512])\n",
      "T shape before feeder torch.Size([35, 1, 512, 512])\n",
      "X shape after feeder torch.Size([35, 1, 16, 16])\n",
      "T shape after feeder torch.Size([35, 1, 16, 16])\n",
      "X SHAPE torch.Size([35, 1, 256])\n",
      "T SHAPE torch.Size([35, 1, 256])\n"
     ]
    },
    {
     "name": "stderr",
     "output_type": "stream",
     "text": [
      "pixdim[0] (qfac) should be 1 (default) or -1; setting qfac to 1\n",
      "INFO:nibabel.global:pixdim[0] (qfac) should be 1 (default) or -1; setting qfac to 1\n",
      "pixdim[0] (qfac) should be 1 (default) or -1; setting qfac to 1\n",
      "INFO:nibabel.global:pixdim[0] (qfac) should be 1 (default) or -1; setting qfac to 1\n"
     ]
    },
    {
     "name": "stdout",
     "output_type": "stream",
     "text": [
      "BBOXES: torch.Size([35, 4])\n",
      "X shape before feeder torch.Size([35, 1, 1, 512, 512])\n",
      "T shape before feeder torch.Size([35, 1, 512, 512])\n",
      "X shape after feeder torch.Size([35, 1, 16, 16])\n",
      "T shape after feeder torch.Size([35, 1, 16, 16])\n",
      "X SHAPE torch.Size([35, 1, 256])\n",
      "T SHAPE torch.Size([35, 1, 256])\n"
     ]
    },
    {
     "name": "stderr",
     "output_type": "stream",
     "text": [
      "pixdim[0] (qfac) should be 1 (default) or -1; setting qfac to 1\n",
      "INFO:nibabel.global:pixdim[0] (qfac) should be 1 (default) or -1; setting qfac to 1\n",
      "pixdim[0] (qfac) should be 1 (default) or -1; setting qfac to 1\n",
      "INFO:nibabel.global:pixdim[0] (qfac) should be 1 (default) or -1; setting qfac to 1\n"
     ]
    },
    {
     "name": "stdout",
     "output_type": "stream",
     "text": [
      "BBOXES: torch.Size([35, 4])\n",
      "X shape before feeder torch.Size([35, 1, 1, 512, 512])\n",
      "T shape before feeder torch.Size([35, 1, 512, 512])\n",
      "X shape after feeder torch.Size([35, 1, 16, 16])\n",
      "T shape after feeder torch.Size([35, 1, 16, 16])\n",
      "X SHAPE torch.Size([35, 1, 256])\n",
      "T SHAPE torch.Size([35, 1, 256])\n"
     ]
    },
    {
     "name": "stderr",
     "output_type": "stream",
     "text": [
      "pixdim[0] (qfac) should be 1 (default) or -1; setting qfac to 1\n",
      "INFO:nibabel.global:pixdim[0] (qfac) should be 1 (default) or -1; setting qfac to 1\n",
      "pixdim[0] (qfac) should be 1 (default) or -1; setting qfac to 1\n",
      "INFO:nibabel.global:pixdim[0] (qfac) should be 1 (default) or -1; setting qfac to 1\n",
      "pixdim[0] (qfac) should be 1 (default) or -1; setting qfac to 1\n",
      "INFO:nibabel.global:pixdim[0] (qfac) should be 1 (default) or -1; setting qfac to 1\n"
     ]
    },
    {
     "name": "stdout",
     "output_type": "stream",
     "text": [
      "BBOXES: torch.Size([35, 4])\n",
      "X shape before feeder torch.Size([35, 1, 1, 512, 512])\n",
      "T shape before feeder torch.Size([35, 1, 512, 512])\n",
      "X shape after feeder torch.Size([35, 1, 16, 16])\n",
      "T shape after feeder torch.Size([35, 1, 16, 16])\n",
      "X SHAPE torch.Size([35, 1, 256])\n",
      "T SHAPE torch.Size([35, 1, 256])\n"
     ]
    },
    {
     "name": "stderr",
     "output_type": "stream",
     "text": [
      "pixdim[0] (qfac) should be 1 (default) or -1; setting qfac to 1\n",
      "INFO:nibabel.global:pixdim[0] (qfac) should be 1 (default) or -1; setting qfac to 1\n",
      "pixdim[0] (qfac) should be 1 (default) or -1; setting qfac to 1\n",
      "INFO:nibabel.global:pixdim[0] (qfac) should be 1 (default) or -1; setting qfac to 1\n",
      "pixdim[0] (qfac) should be 1 (default) or -1; setting qfac to 1\n",
      "INFO:nibabel.global:pixdim[0] (qfac) should be 1 (default) or -1; setting qfac to 1\n"
     ]
    },
    {
     "name": "stdout",
     "output_type": "stream",
     "text": [
      "BBOXES: torch.Size([35, 4])\n",
      "X shape before feeder torch.Size([35, 1, 1, 512, 512])\n",
      "T shape before feeder torch.Size([35, 1, 512, 512])\n",
      "X shape after feeder torch.Size([35, 1, 16, 16])\n",
      "T shape after feeder torch.Size([35, 1, 16, 16])\n",
      "X SHAPE torch.Size([35, 1, 256])\n",
      "T SHAPE torch.Size([35, 1, 256])\n"
     ]
    },
    {
     "name": "stderr",
     "output_type": "stream",
     "text": [
      "pixdim[0] (qfac) should be 1 (default) or -1; setting qfac to 1\n",
      "INFO:nibabel.global:pixdim[0] (qfac) should be 1 (default) or -1; setting qfac to 1\n",
      "pixdim[0] (qfac) should be 1 (default) or -1; setting qfac to 1\n",
      "INFO:nibabel.global:pixdim[0] (qfac) should be 1 (default) or -1; setting qfac to 1\n"
     ]
    },
    {
     "name": "stdout",
     "output_type": "stream",
     "text": [
      "BBOXES: torch.Size([35, 4])\n",
      "X shape before feeder torch.Size([35, 1, 1, 512, 512])\n",
      "T shape before feeder torch.Size([35, 1, 512, 512])\n",
      "X shape after feeder torch.Size([35, 1, 16, 16])\n",
      "T shape after feeder torch.Size([35, 1, 16, 16])\n",
      "X SHAPE torch.Size([35, 1, 256])\n",
      "T SHAPE torch.Size([35, 1, 256])\n"
     ]
    },
    {
     "name": "stderr",
     "output_type": "stream",
     "text": [
      "pixdim[0] (qfac) should be 1 (default) or -1; setting qfac to 1\n",
      "INFO:nibabel.global:pixdim[0] (qfac) should be 1 (default) or -1; setting qfac to 1\n",
      "pixdim[0] (qfac) should be 1 (default) or -1; setting qfac to 1\n",
      "INFO:nibabel.global:pixdim[0] (qfac) should be 1 (default) or -1; setting qfac to 1\n"
     ]
    },
    {
     "name": "stdout",
     "output_type": "stream",
     "text": [
      "BBOXES: torch.Size([35, 4])\n",
      "X shape before feeder torch.Size([35, 1, 1, 512, 512])\n",
      "T shape before feeder torch.Size([35, 1, 512, 512])\n",
      "X shape after feeder torch.Size([35, 1, 16, 16])\n",
      "T shape after feeder torch.Size([35, 1, 16, 16])\n",
      "X SHAPE torch.Size([35, 1, 256])\n",
      "T SHAPE torch.Size([35, 1, 256])\n"
     ]
    },
    {
     "name": "stderr",
     "output_type": "stream",
     "text": [
      "pixdim[0] (qfac) should be 1 (default) or -1; setting qfac to 1\n",
      "INFO:nibabel.global:pixdim[0] (qfac) should be 1 (default) or -1; setting qfac to 1\n",
      "pixdim[0] (qfac) should be 1 (default) or -1; setting qfac to 1\n",
      "INFO:nibabel.global:pixdim[0] (qfac) should be 1 (default) or -1; setting qfac to 1\n"
     ]
    },
    {
     "name": "stdout",
     "output_type": "stream",
     "text": [
      "BBOXES: torch.Size([35, 4])\n",
      "X shape before feeder torch.Size([35, 1, 1, 512, 512])\n",
      "T shape before feeder torch.Size([35, 1, 512, 512])\n",
      "X shape after feeder torch.Size([35, 1, 16, 16])\n",
      "T shape after feeder torch.Size([35, 1, 16, 16])\n",
      "X SHAPE torch.Size([35, 1, 256])\n",
      "T SHAPE torch.Size([35, 1, 256])\n"
     ]
    },
    {
     "name": "stderr",
     "output_type": "stream",
     "text": [
      "pixdim[0] (qfac) should be 1 (default) or -1; setting qfac to 1\n",
      "INFO:nibabel.global:pixdim[0] (qfac) should be 1 (default) or -1; setting qfac to 1\n",
      "pixdim[0] (qfac) should be 1 (default) or -1; setting qfac to 1\n",
      "INFO:nibabel.global:pixdim[0] (qfac) should be 1 (default) or -1; setting qfac to 1\n"
     ]
    },
    {
     "name": "stdout",
     "output_type": "stream",
     "text": [
      "BBOXES: torch.Size([35, 4])\n",
      "X shape before feeder torch.Size([35, 1, 1, 512, 512])\n",
      "T shape before feeder torch.Size([35, 1, 512, 512])\n",
      "X shape after feeder torch.Size([35, 1, 16, 16])\n",
      "T shape after feeder torch.Size([35, 1, 16, 16])\n",
      "X SHAPE torch.Size([35, 1, 256])\n",
      "T SHAPE torch.Size([35, 1, 256])\n"
     ]
    },
    {
     "name": "stderr",
     "output_type": "stream",
     "text": [
      "pixdim[0] (qfac) should be 1 (default) or -1; setting qfac to 1\n",
      "INFO:nibabel.global:pixdim[0] (qfac) should be 1 (default) or -1; setting qfac to 1\n",
      "pixdim[0] (qfac) should be 1 (default) or -1; setting qfac to 1\n",
      "INFO:nibabel.global:pixdim[0] (qfac) should be 1 (default) or -1; setting qfac to 1\n"
     ]
    },
    {
     "name": "stdout",
     "output_type": "stream",
     "text": [
      "BBOXES: torch.Size([35, 4])\n",
      "X shape before feeder torch.Size([35, 1, 1, 512, 512])\n",
      "T shape before feeder torch.Size([35, 1, 512, 512])\n",
      "X shape after feeder torch.Size([35, 1, 16, 16])\n",
      "T shape after feeder torch.Size([35, 1, 16, 16])\n",
      "X SHAPE torch.Size([35, 1, 256])\n",
      "T SHAPE torch.Size([35, 1, 256])\n"
     ]
    },
    {
     "name": "stderr",
     "output_type": "stream",
     "text": [
      "pixdim[0] (qfac) should be 1 (default) or -1; setting qfac to 1\n",
      "INFO:nibabel.global:pixdim[0] (qfac) should be 1 (default) or -1; setting qfac to 1\n",
      "pixdim[0] (qfac) should be 1 (default) or -1; setting qfac to 1\n",
      "INFO:nibabel.global:pixdim[0] (qfac) should be 1 (default) or -1; setting qfac to 1\n",
      "pixdim[0] (qfac) should be 1 (default) or -1; setting qfac to 1\n",
      "INFO:nibabel.global:pixdim[0] (qfac) should be 1 (default) or -1; setting qfac to 1\n"
     ]
    },
    {
     "name": "stdout",
     "output_type": "stream",
     "text": [
      "BBOXES: torch.Size([35, 4])\n",
      "X shape before feeder torch.Size([35, 1, 1, 512, 512])\n",
      "T shape before feeder torch.Size([35, 1, 512, 512])\n",
      "X shape after feeder torch.Size([35, 1, 16, 16])\n",
      "T shape after feeder torch.Size([35, 1, 16, 16])\n",
      "X SHAPE torch.Size([35, 1, 256])\n",
      "T SHAPE torch.Size([35, 1, 256])\n"
     ]
    },
    {
     "name": "stderr",
     "output_type": "stream",
     "text": [
      "pixdim[0] (qfac) should be 1 (default) or -1; setting qfac to 1\n",
      "INFO:nibabel.global:pixdim[0] (qfac) should be 1 (default) or -1; setting qfac to 1\n",
      "pixdim[0] (qfac) should be 1 (default) or -1; setting qfac to 1\n",
      "INFO:nibabel.global:pixdim[0] (qfac) should be 1 (default) or -1; setting qfac to 1\n",
      "pixdim[0] (qfac) should be 1 (default) or -1; setting qfac to 1\n",
      "INFO:nibabel.global:pixdim[0] (qfac) should be 1 (default) or -1; setting qfac to 1\n"
     ]
    },
    {
     "name": "stdout",
     "output_type": "stream",
     "text": [
      "BBOXES: torch.Size([35, 4])\n",
      "X shape before feeder torch.Size([35, 1, 1, 512, 512])\n",
      "T shape before feeder torch.Size([35, 1, 512, 512])\n",
      "X shape after feeder torch.Size([35, 1, 16, 16])\n",
      "T shape after feeder torch.Size([35, 1, 16, 16])\n",
      "X SHAPE torch.Size([35, 1, 256])\n",
      "T SHAPE torch.Size([35, 1, 256])\n"
     ]
    },
    {
     "name": "stderr",
     "output_type": "stream",
     "text": [
      "pixdim[0] (qfac) should be 1 (default) or -1; setting qfac to 1\n",
      "INFO:nibabel.global:pixdim[0] (qfac) should be 1 (default) or -1; setting qfac to 1\n",
      "pixdim[0] (qfac) should be 1 (default) or -1; setting qfac to 1\n",
      "INFO:nibabel.global:pixdim[0] (qfac) should be 1 (default) or -1; setting qfac to 1\n"
     ]
    },
    {
     "name": "stdout",
     "output_type": "stream",
     "text": [
      "BBOXES: torch.Size([35, 4])\n",
      "X shape before feeder torch.Size([35, 1, 1, 512, 512])\n",
      "T shape before feeder torch.Size([35, 1, 512, 512])\n",
      "X shape after feeder torch.Size([35, 1, 16, 16])\n",
      "T shape after feeder torch.Size([35, 1, 16, 16])\n",
      "X SHAPE torch.Size([35, 1, 256])\n",
      "T SHAPE torch.Size([35, 1, 256])\n"
     ]
    },
    {
     "name": "stderr",
     "output_type": "stream",
     "text": [
      "pixdim[0] (qfac) should be 1 (default) or -1; setting qfac to 1\n",
      "INFO:nibabel.global:pixdim[0] (qfac) should be 1 (default) or -1; setting qfac to 1\n",
      "pixdim[0] (qfac) should be 1 (default) or -1; setting qfac to 1\n",
      "INFO:nibabel.global:pixdim[0] (qfac) should be 1 (default) or -1; setting qfac to 1\n"
     ]
    },
    {
     "name": "stdout",
     "output_type": "stream",
     "text": [
      "BBOXES: torch.Size([35, 4])\n",
      "X shape before feeder torch.Size([35, 1, 1, 512, 512])\n",
      "T shape before feeder torch.Size([35, 1, 512, 512])\n",
      "X shape after feeder torch.Size([35, 1, 16, 16])\n",
      "T shape after feeder torch.Size([35, 1, 16, 16])\n",
      "X SHAPE torch.Size([35, 1, 256])\n",
      "T SHAPE torch.Size([35, 1, 256])\n"
     ]
    },
    {
     "name": "stderr",
     "output_type": "stream",
     "text": [
      "pixdim[0] (qfac) should be 1 (default) or -1; setting qfac to 1\n",
      "INFO:nibabel.global:pixdim[0] (qfac) should be 1 (default) or -1; setting qfac to 1\n",
      "pixdim[0] (qfac) should be 1 (default) or -1; setting qfac to 1\n",
      "INFO:nibabel.global:pixdim[0] (qfac) should be 1 (default) or -1; setting qfac to 1\n"
     ]
    },
    {
     "name": "stdout",
     "output_type": "stream",
     "text": [
      "BBOXES: torch.Size([35, 4])\n",
      "X shape before feeder torch.Size([35, 1, 1, 512, 512])\n",
      "T shape before feeder torch.Size([35, 1, 512, 512])\n",
      "X shape after feeder torch.Size([35, 1, 16, 16])\n",
      "T shape after feeder torch.Size([35, 1, 16, 16])\n",
      "X SHAPE torch.Size([35, 1, 256])\n",
      "T SHAPE torch.Size([35, 1, 256])\n"
     ]
    },
    {
     "name": "stderr",
     "output_type": "stream",
     "text": [
      "pixdim[0] (qfac) should be 1 (default) or -1; setting qfac to 1\n",
      "INFO:nibabel.global:pixdim[0] (qfac) should be 1 (default) or -1; setting qfac to 1\n",
      "pixdim[0] (qfac) should be 1 (default) or -1; setting qfac to 1\n",
      "INFO:nibabel.global:pixdim[0] (qfac) should be 1 (default) or -1; setting qfac to 1\n"
     ]
    },
    {
     "name": "stdout",
     "output_type": "stream",
     "text": [
      "BBOXES: torch.Size([35, 4])\n",
      "X shape before feeder torch.Size([35, 1, 1, 512, 512])\n",
      "T shape before feeder torch.Size([35, 1, 512, 512])\n",
      "X shape after feeder torch.Size([35, 1, 16, 16])\n",
      "T shape after feeder torch.Size([35, 1, 16, 16])\n",
      "X SHAPE torch.Size([35, 1, 256])\n",
      "T SHAPE torch.Size([35, 1, 256])\n"
     ]
    },
    {
     "name": "stderr",
     "output_type": "stream",
     "text": [
      "pixdim[0] (qfac) should be 1 (default) or -1; setting qfac to 1\n",
      "INFO:nibabel.global:pixdim[0] (qfac) should be 1 (default) or -1; setting qfac to 1\n",
      "pixdim[0] (qfac) should be 1 (default) or -1; setting qfac to 1\n",
      "INFO:nibabel.global:pixdim[0] (qfac) should be 1 (default) or -1; setting qfac to 1\n"
     ]
    },
    {
     "name": "stdout",
     "output_type": "stream",
     "text": [
      "BBOXES: torch.Size([35, 4])\n",
      "X shape before feeder torch.Size([35, 1, 1, 512, 512])\n",
      "T shape before feeder torch.Size([35, 1, 512, 512])\n",
      "X shape after feeder torch.Size([35, 1, 16, 16])\n",
      "T shape after feeder torch.Size([35, 1, 16, 16])\n",
      "X SHAPE torch.Size([35, 1, 256])\n",
      "T SHAPE torch.Size([35, 1, 256])\n"
     ]
    },
    {
     "name": "stderr",
     "output_type": "stream",
     "text": [
      "pixdim[0] (qfac) should be 1 (default) or -1; setting qfac to 1\n",
      "INFO:nibabel.global:pixdim[0] (qfac) should be 1 (default) or -1; setting qfac to 1\n",
      "pixdim[0] (qfac) should be 1 (default) or -1; setting qfac to 1\n",
      "INFO:nibabel.global:pixdim[0] (qfac) should be 1 (default) or -1; setting qfac to 1\n"
     ]
    },
    {
     "name": "stdout",
     "output_type": "stream",
     "text": [
      "BBOXES: torch.Size([35, 4])\n",
      "X shape before feeder torch.Size([35, 1, 1, 512, 512])\n",
      "T shape before feeder torch.Size([35, 1, 512, 512])\n",
      "X shape after feeder torch.Size([35, 1, 16, 16])\n",
      "T shape after feeder torch.Size([35, 1, 16, 16])\n",
      "X SHAPE torch.Size([35, 1, 256])\n",
      "T SHAPE torch.Size([35, 1, 256])\n"
     ]
    },
    {
     "name": "stderr",
     "output_type": "stream",
     "text": [
      "pixdim[0] (qfac) should be 1 (default) or -1; setting qfac to 1\n",
      "INFO:nibabel.global:pixdim[0] (qfac) should be 1 (default) or -1; setting qfac to 1\n",
      "pixdim[0] (qfac) should be 1 (default) or -1; setting qfac to 1\n",
      "INFO:nibabel.global:pixdim[0] (qfac) should be 1 (default) or -1; setting qfac to 1\n"
     ]
    },
    {
     "name": "stdout",
     "output_type": "stream",
     "text": [
      "BBOXES: torch.Size([35, 4])\n",
      "X shape before feeder torch.Size([35, 1, 1, 512, 512])\n",
      "T shape before feeder torch.Size([35, 1, 512, 512])\n",
      "X shape after feeder torch.Size([35, 1, 16, 16])\n",
      "T shape after feeder torch.Size([35, 1, 16, 16])\n",
      "X SHAPE torch.Size([35, 1, 256])\n",
      "T SHAPE torch.Size([35, 1, 256])\n"
     ]
    },
    {
     "name": "stderr",
     "output_type": "stream",
     "text": [
      "pixdim[0] (qfac) should be 1 (default) or -1; setting qfac to 1\n",
      "INFO:nibabel.global:pixdim[0] (qfac) should be 1 (default) or -1; setting qfac to 1\n",
      "pixdim[0] (qfac) should be 1 (default) or -1; setting qfac to 1\n",
      "INFO:nibabel.global:pixdim[0] (qfac) should be 1 (default) or -1; setting qfac to 1\n"
     ]
    },
    {
     "name": "stdout",
     "output_type": "stream",
     "text": [
      "BBOXES: torch.Size([35, 4])\n",
      "X shape before feeder torch.Size([35, 1, 1, 512, 512])\n",
      "T shape before feeder torch.Size([35, 1, 512, 512])\n",
      "X shape after feeder torch.Size([35, 1, 16, 16])\n",
      "T shape after feeder torch.Size([35, 1, 16, 16])\n",
      "X SHAPE torch.Size([35, 1, 256])\n",
      "T SHAPE torch.Size([35, 1, 256])\n"
     ]
    },
    {
     "name": "stderr",
     "output_type": "stream",
     "text": [
      "pixdim[0] (qfac) should be 1 (default) or -1; setting qfac to 1\n",
      "INFO:nibabel.global:pixdim[0] (qfac) should be 1 (default) or -1; setting qfac to 1\n",
      "pixdim[0] (qfac) should be 1 (default) or -1; setting qfac to 1\n",
      "INFO:nibabel.global:pixdim[0] (qfac) should be 1 (default) or -1; setting qfac to 1\n"
     ]
    },
    {
     "name": "stdout",
     "output_type": "stream",
     "text": [
      "BBOXES: torch.Size([35, 4])\n",
      "X shape before feeder torch.Size([35, 1, 1, 512, 512])\n",
      "T shape before feeder torch.Size([35, 1, 512, 512])\n",
      "X shape after feeder torch.Size([35, 1, 16, 16])\n",
      "T shape after feeder torch.Size([35, 1, 16, 16])\n",
      "X SHAPE torch.Size([35, 1, 256])\n",
      "T SHAPE torch.Size([35, 1, 256])\n"
     ]
    },
    {
     "name": "stderr",
     "output_type": "stream",
     "text": [
      "pixdim[0] (qfac) should be 1 (default) or -1; setting qfac to 1\n",
      "INFO:nibabel.global:pixdim[0] (qfac) should be 1 (default) or -1; setting qfac to 1\n",
      "pixdim[0] (qfac) should be 1 (default) or -1; setting qfac to 1\n",
      "INFO:nibabel.global:pixdim[0] (qfac) should be 1 (default) or -1; setting qfac to 1\n"
     ]
    },
    {
     "name": "stdout",
     "output_type": "stream",
     "text": [
      "BBOXES: torch.Size([35, 4])\n",
      "X shape before feeder torch.Size([35, 1, 1, 512, 512])\n",
      "T shape before feeder torch.Size([35, 1, 512, 512])\n",
      "X shape after feeder torch.Size([35, 1, 16, 16])\n",
      "T shape after feeder torch.Size([35, 1, 16, 16])\n",
      "X SHAPE torch.Size([35, 1, 256])\n",
      "T SHAPE torch.Size([35, 1, 256])\n"
     ]
    },
    {
     "name": "stderr",
     "output_type": "stream",
     "text": [
      "pixdim[0] (qfac) should be 1 (default) or -1; setting qfac to 1\n",
      "INFO:nibabel.global:pixdim[0] (qfac) should be 1 (default) or -1; setting qfac to 1\n",
      "pixdim[0] (qfac) should be 1 (default) or -1; setting qfac to 1\n",
      "INFO:nibabel.global:pixdim[0] (qfac) should be 1 (default) or -1; setting qfac to 1\n"
     ]
    },
    {
     "name": "stdout",
     "output_type": "stream",
     "text": [
      "BBOXES: torch.Size([35, 4])\n",
      "X shape before feeder torch.Size([35, 1, 1, 512, 512])\n",
      "T shape before feeder torch.Size([35, 1, 512, 512])\n",
      "X shape after feeder torch.Size([35, 1, 16, 16])\n",
      "T shape after feeder torch.Size([35, 1, 16, 16])\n",
      "X SHAPE torch.Size([35, 1, 256])\n",
      "T SHAPE torch.Size([35, 1, 256])\n"
     ]
    },
    {
     "name": "stderr",
     "output_type": "stream",
     "text": [
      "pixdim[0] (qfac) should be 1 (default) or -1; setting qfac to 1\n",
      "INFO:nibabel.global:pixdim[0] (qfac) should be 1 (default) or -1; setting qfac to 1\n",
      "pixdim[0] (qfac) should be 1 (default) or -1; setting qfac to 1\n",
      "INFO:nibabel.global:pixdim[0] (qfac) should be 1 (default) or -1; setting qfac to 1\n"
     ]
    },
    {
     "name": "stdout",
     "output_type": "stream",
     "text": [
      "BBOXES: torch.Size([35, 4])\n",
      "X shape before feeder torch.Size([35, 1, 1, 512, 512])\n",
      "T shape before feeder torch.Size([35, 1, 512, 512])\n",
      "X shape after feeder torch.Size([35, 1, 16, 16])\n",
      "T shape after feeder torch.Size([35, 1, 16, 16])\n",
      "X SHAPE torch.Size([35, 1, 256])\n",
      "T SHAPE torch.Size([35, 1, 256])\n"
     ]
    },
    {
     "name": "stderr",
     "output_type": "stream",
     "text": [
      "pixdim[0] (qfac) should be 1 (default) or -1; setting qfac to 1\n",
      "INFO:nibabel.global:pixdim[0] (qfac) should be 1 (default) or -1; setting qfac to 1\n",
      "pixdim[0] (qfac) should be 1 (default) or -1; setting qfac to 1\n",
      "INFO:nibabel.global:pixdim[0] (qfac) should be 1 (default) or -1; setting qfac to 1\n"
     ]
    },
    {
     "name": "stdout",
     "output_type": "stream",
     "text": [
      "BBOXES: torch.Size([35, 4])\n",
      "X shape before feeder torch.Size([35, 1, 1, 512, 512])\n",
      "T shape before feeder torch.Size([35, 1, 512, 512])\n",
      "X shape after feeder torch.Size([35, 1, 16, 16])\n",
      "T shape after feeder torch.Size([35, 1, 16, 16])\n",
      "X SHAPE torch.Size([35, 1, 256])\n",
      "T SHAPE torch.Size([35, 1, 256])\n"
     ]
    },
    {
     "name": "stderr",
     "output_type": "stream",
     "text": [
      "pixdim[0] (qfac) should be 1 (default) or -1; setting qfac to 1\n",
      "INFO:nibabel.global:pixdim[0] (qfac) should be 1 (default) or -1; setting qfac to 1\n",
      "pixdim[0] (qfac) should be 1 (default) or -1; setting qfac to 1\n",
      "INFO:nibabel.global:pixdim[0] (qfac) should be 1 (default) or -1; setting qfac to 1\n"
     ]
    },
    {
     "name": "stdout",
     "output_type": "stream",
     "text": [
      "BBOXES: torch.Size([35, 4])\n",
      "X shape before feeder torch.Size([35, 1, 1, 512, 512])\n",
      "T shape before feeder torch.Size([35, 1, 512, 512])\n",
      "X shape after feeder torch.Size([35, 1, 16, 16])\n",
      "T shape after feeder torch.Size([35, 1, 16, 16])\n",
      "X SHAPE torch.Size([35, 1, 256])\n",
      "T SHAPE torch.Size([35, 1, 256])\n"
     ]
    },
    {
     "name": "stderr",
     "output_type": "stream",
     "text": [
      "pixdim[0] (qfac) should be 1 (default) or -1; setting qfac to 1\n",
      "INFO:nibabel.global:pixdim[0] (qfac) should be 1 (default) or -1; setting qfac to 1\n",
      "pixdim[0] (qfac) should be 1 (default) or -1; setting qfac to 1\n",
      "INFO:nibabel.global:pixdim[0] (qfac) should be 1 (default) or -1; setting qfac to 1\n"
     ]
    },
    {
     "name": "stdout",
     "output_type": "stream",
     "text": [
      "BBOXES: torch.Size([35, 4])\n",
      "X shape before feeder torch.Size([35, 1, 1, 512, 512])\n",
      "T shape before feeder torch.Size([35, 1, 512, 512])\n",
      "X shape after feeder torch.Size([35, 1, 16, 16])\n",
      "T shape after feeder torch.Size([35, 1, 16, 16])\n",
      "X SHAPE torch.Size([35, 1, 256])\n",
      "T SHAPE torch.Size([35, 1, 256])\n"
     ]
    },
    {
     "name": "stderr",
     "output_type": "stream",
     "text": [
      "pixdim[0] (qfac) should be 1 (default) or -1; setting qfac to 1\n",
      "INFO:nibabel.global:pixdim[0] (qfac) should be 1 (default) or -1; setting qfac to 1\n",
      "pixdim[0] (qfac) should be 1 (default) or -1; setting qfac to 1\n",
      "INFO:nibabel.global:pixdim[0] (qfac) should be 1 (default) or -1; setting qfac to 1\n"
     ]
    },
    {
     "name": "stdout",
     "output_type": "stream",
     "text": [
      "BBOXES: torch.Size([35, 4])\n",
      "X shape before feeder torch.Size([35, 1, 1, 512, 512])\n",
      "T shape before feeder torch.Size([35, 1, 512, 512])\n",
      "X shape after feeder torch.Size([35, 1, 16, 16])\n",
      "T shape after feeder torch.Size([35, 1, 16, 16])\n",
      "X SHAPE torch.Size([35, 1, 256])\n",
      "T SHAPE torch.Size([35, 1, 256])\n"
     ]
    },
    {
     "name": "stderr",
     "output_type": "stream",
     "text": [
      "pixdim[0] (qfac) should be 1 (default) or -1; setting qfac to 1\n",
      "INFO:nibabel.global:pixdim[0] (qfac) should be 1 (default) or -1; setting qfac to 1\n",
      "pixdim[0] (qfac) should be 1 (default) or -1; setting qfac to 1\n",
      "INFO:nibabel.global:pixdim[0] (qfac) should be 1 (default) or -1; setting qfac to 1\n"
     ]
    },
    {
     "name": "stdout",
     "output_type": "stream",
     "text": [
      "BBOXES: torch.Size([35, 4])\n",
      "X shape before feeder torch.Size([35, 1, 1, 512, 512])\n",
      "T shape before feeder torch.Size([35, 1, 512, 512])\n",
      "X shape after feeder torch.Size([35, 1, 16, 16])\n",
      "T shape after feeder torch.Size([35, 1, 16, 16])\n",
      "X SHAPE torch.Size([35, 1, 256])\n",
      "T SHAPE torch.Size([35, 1, 256])\n"
     ]
    },
    {
     "name": "stderr",
     "output_type": "stream",
     "text": [
      "pixdim[0] (qfac) should be 1 (default) or -1; setting qfac to 1\n",
      "INFO:nibabel.global:pixdim[0] (qfac) should be 1 (default) or -1; setting qfac to 1\n",
      "pixdim[0] (qfac) should be 1 (default) or -1; setting qfac to 1\n",
      "INFO:nibabel.global:pixdim[0] (qfac) should be 1 (default) or -1; setting qfac to 1\n"
     ]
    },
    {
     "name": "stdout",
     "output_type": "stream",
     "text": [
      "BBOXES: torch.Size([35, 4])\n",
      "X shape before feeder torch.Size([35, 1, 1, 512, 512])\n",
      "T shape before feeder torch.Size([35, 1, 512, 512])\n",
      "X shape after feeder torch.Size([35, 1, 16, 16])\n",
      "T shape after feeder torch.Size([35, 1, 16, 16])\n",
      "X SHAPE torch.Size([35, 1, 256])\n",
      "T SHAPE torch.Size([35, 1, 256])\n"
     ]
    },
    {
     "name": "stderr",
     "output_type": "stream",
     "text": [
      "pixdim[0] (qfac) should be 1 (default) or -1; setting qfac to 1\n",
      "INFO:nibabel.global:pixdim[0] (qfac) should be 1 (default) or -1; setting qfac to 1\n",
      "pixdim[0] (qfac) should be 1 (default) or -1; setting qfac to 1\n",
      "INFO:nibabel.global:pixdim[0] (qfac) should be 1 (default) or -1; setting qfac to 1\n"
     ]
    },
    {
     "name": "stdout",
     "output_type": "stream",
     "text": [
      "BBOXES: torch.Size([35, 4])\n",
      "X shape before feeder torch.Size([35, 1, 1, 512, 512])\n",
      "T shape before feeder torch.Size([35, 1, 512, 512])\n",
      "X shape after feeder torch.Size([35, 1, 16, 16])\n",
      "T shape after feeder torch.Size([35, 1, 16, 16])\n",
      "X SHAPE torch.Size([35, 1, 256])\n",
      "T SHAPE torch.Size([35, 1, 256])\n"
     ]
    },
    {
     "name": "stderr",
     "output_type": "stream",
     "text": [
      "pixdim[0] (qfac) should be 1 (default) or -1; setting qfac to 1\n",
      "INFO:nibabel.global:pixdim[0] (qfac) should be 1 (default) or -1; setting qfac to 1\n",
      "pixdim[0] (qfac) should be 1 (default) or -1; setting qfac to 1\n",
      "INFO:nibabel.global:pixdim[0] (qfac) should be 1 (default) or -1; setting qfac to 1\n"
     ]
    },
    {
     "name": "stdout",
     "output_type": "stream",
     "text": [
      "BBOXES: torch.Size([35, 4])\n",
      "X shape before feeder torch.Size([35, 1, 1, 512, 512])\n",
      "T shape before feeder torch.Size([35, 1, 512, 512])\n",
      "X shape after feeder torch.Size([35, 1, 16, 16])\n",
      "T shape after feeder torch.Size([35, 1, 16, 16])\n",
      "X SHAPE torch.Size([35, 1, 256])\n",
      "T SHAPE torch.Size([35, 1, 256])\n"
     ]
    },
    {
     "name": "stderr",
     "output_type": "stream",
     "text": [
      "pixdim[0] (qfac) should be 1 (default) or -1; setting qfac to 1\n",
      "INFO:nibabel.global:pixdim[0] (qfac) should be 1 (default) or -1; setting qfac to 1\n",
      "pixdim[0] (qfac) should be 1 (default) or -1; setting qfac to 1\n",
      "INFO:nibabel.global:pixdim[0] (qfac) should be 1 (default) or -1; setting qfac to 1\n"
     ]
    },
    {
     "name": "stdout",
     "output_type": "stream",
     "text": [
      "BBOXES: torch.Size([35, 4])\n",
      "X shape before feeder torch.Size([35, 1, 1, 512, 512])\n",
      "T shape before feeder torch.Size([35, 1, 512, 512])\n",
      "X shape after feeder torch.Size([35, 1, 16, 16])\n",
      "T shape after feeder torch.Size([35, 1, 16, 16])\n",
      "X SHAPE torch.Size([35, 1, 256])\n",
      "T SHAPE torch.Size([35, 1, 256])\n"
     ]
    },
    {
     "name": "stderr",
     "output_type": "stream",
     "text": [
      "pixdim[0] (qfac) should be 1 (default) or -1; setting qfac to 1\n",
      "INFO:nibabel.global:pixdim[0] (qfac) should be 1 (default) or -1; setting qfac to 1\n",
      "pixdim[0] (qfac) should be 1 (default) or -1; setting qfac to 1\n",
      "INFO:nibabel.global:pixdim[0] (qfac) should be 1 (default) or -1; setting qfac to 1\n"
     ]
    },
    {
     "name": "stdout",
     "output_type": "stream",
     "text": [
      "BBOXES: torch.Size([35, 4])\n",
      "X shape before feeder torch.Size([35, 1, 1, 512, 512])\n",
      "T shape before feeder torch.Size([35, 1, 512, 512])\n",
      "X shape after feeder torch.Size([35, 1, 16, 16])\n",
      "T shape after feeder torch.Size([35, 1, 16, 16])\n",
      "X SHAPE torch.Size([35, 1, 256])\n",
      "T SHAPE torch.Size([35, 1, 256])\n"
     ]
    },
    {
     "name": "stderr",
     "output_type": "stream",
     "text": [
      "pixdim[0] (qfac) should be 1 (default) or -1; setting qfac to 1\n",
      "INFO:nibabel.global:pixdim[0] (qfac) should be 1 (default) or -1; setting qfac to 1\n",
      "pixdim[0] (qfac) should be 1 (default) or -1; setting qfac to 1\n",
      "INFO:nibabel.global:pixdim[0] (qfac) should be 1 (default) or -1; setting qfac to 1\n"
     ]
    },
    {
     "name": "stdout",
     "output_type": "stream",
     "text": [
      "BBOXES: torch.Size([35, 4])\n",
      "X shape before feeder torch.Size([35, 1, 1, 512, 512])\n",
      "T shape before feeder torch.Size([35, 1, 512, 512])\n",
      "X shape after feeder torch.Size([35, 1, 16, 16])\n",
      "T shape after feeder torch.Size([35, 1, 16, 16])\n",
      "X SHAPE torch.Size([35, 1, 256])\n",
      "T SHAPE torch.Size([35, 1, 256])\n"
     ]
    },
    {
     "name": "stderr",
     "output_type": "stream",
     "text": [
      "pixdim[0] (qfac) should be 1 (default) or -1; setting qfac to 1\n",
      "INFO:nibabel.global:pixdim[0] (qfac) should be 1 (default) or -1; setting qfac to 1\n",
      "pixdim[0] (qfac) should be 1 (default) or -1; setting qfac to 1\n",
      "INFO:nibabel.global:pixdim[0] (qfac) should be 1 (default) or -1; setting qfac to 1\n"
     ]
    },
    {
     "name": "stdout",
     "output_type": "stream",
     "text": [
      "BBOXES: torch.Size([35, 4])\n",
      "X shape before feeder torch.Size([35, 1, 1, 512, 512])\n",
      "T shape before feeder torch.Size([35, 1, 512, 512])\n",
      "X shape after feeder torch.Size([35, 1, 16, 16])\n",
      "T shape after feeder torch.Size([35, 1, 16, 16])\n",
      "X SHAPE torch.Size([35, 1, 256])\n",
      "T SHAPE torch.Size([35, 1, 256])\n"
     ]
    },
    {
     "name": "stderr",
     "output_type": "stream",
     "text": [
      "pixdim[0] (qfac) should be 1 (default) or -1; setting qfac to 1\n",
      "INFO:nibabel.global:pixdim[0] (qfac) should be 1 (default) or -1; setting qfac to 1\n",
      "pixdim[0] (qfac) should be 1 (default) or -1; setting qfac to 1\n",
      "INFO:nibabel.global:pixdim[0] (qfac) should be 1 (default) or -1; setting qfac to 1\n"
     ]
    },
    {
     "name": "stdout",
     "output_type": "stream",
     "text": [
      "BBOXES: torch.Size([35, 4])\n",
      "X shape before feeder torch.Size([35, 1, 1, 512, 512])\n",
      "T shape before feeder torch.Size([35, 1, 512, 512])\n",
      "X shape after feeder torch.Size([35, 1, 16, 16])\n",
      "T shape after feeder torch.Size([35, 1, 16, 16])\n",
      "X SHAPE torch.Size([35, 1, 256])\n",
      "T SHAPE torch.Size([35, 1, 256])\n"
     ]
    },
    {
     "name": "stderr",
     "output_type": "stream",
     "text": [
      "pixdim[0] (qfac) should be 1 (default) or -1; setting qfac to 1\n",
      "INFO:nibabel.global:pixdim[0] (qfac) should be 1 (default) or -1; setting qfac to 1\n",
      "pixdim[0] (qfac) should be 1 (default) or -1; setting qfac to 1\n",
      "INFO:nibabel.global:pixdim[0] (qfac) should be 1 (default) or -1; setting qfac to 1\n"
     ]
    },
    {
     "name": "stdout",
     "output_type": "stream",
     "text": [
      "BBOXES: torch.Size([35, 4])\n",
      "X shape before feeder torch.Size([35, 1, 1, 512, 512])\n",
      "T shape before feeder torch.Size([35, 1, 512, 512])\n",
      "X shape after feeder torch.Size([35, 1, 16, 16])\n",
      "T shape after feeder torch.Size([35, 1, 16, 16])\n",
      "X SHAPE torch.Size([35, 1, 256])\n",
      "T SHAPE torch.Size([35, 1, 256])\n"
     ]
    },
    {
     "name": "stderr",
     "output_type": "stream",
     "text": [
      "pixdim[0] (qfac) should be 1 (default) or -1; setting qfac to 1\n",
      "INFO:nibabel.global:pixdim[0] (qfac) should be 1 (default) or -1; setting qfac to 1\n",
      "pixdim[0] (qfac) should be 1 (default) or -1; setting qfac to 1\n",
      "INFO:nibabel.global:pixdim[0] (qfac) should be 1 (default) or -1; setting qfac to 1\n"
     ]
    },
    {
     "name": "stdout",
     "output_type": "stream",
     "text": [
      "BBOXES: torch.Size([35, 4])\n",
      "X shape before feeder torch.Size([35, 1, 1, 512, 512])\n",
      "T shape before feeder torch.Size([35, 1, 512, 512])\n",
      "X shape after feeder torch.Size([35, 1, 16, 16])\n",
      "T shape after feeder torch.Size([35, 1, 16, 16])\n",
      "X SHAPE torch.Size([35, 1, 256])\n",
      "T SHAPE torch.Size([35, 1, 256])\n"
     ]
    },
    {
     "name": "stderr",
     "output_type": "stream",
     "text": [
      "pixdim[0] (qfac) should be 1 (default) or -1; setting qfac to 1\n",
      "INFO:nibabel.global:pixdim[0] (qfac) should be 1 (default) or -1; setting qfac to 1\n",
      "pixdim[0] (qfac) should be 1 (default) or -1; setting qfac to 1\n",
      "INFO:nibabel.global:pixdim[0] (qfac) should be 1 (default) or -1; setting qfac to 1\n"
     ]
    },
    {
     "name": "stdout",
     "output_type": "stream",
     "text": [
      "BBOXES: torch.Size([35, 4])\n",
      "X shape before feeder torch.Size([35, 1, 1, 512, 512])\n",
      "T shape before feeder torch.Size([35, 1, 512, 512])\n",
      "X shape after feeder torch.Size([35, 1, 16, 16])\n",
      "T shape after feeder torch.Size([35, 1, 16, 16])\n",
      "X SHAPE torch.Size([35, 1, 256])\n",
      "T SHAPE torch.Size([35, 1, 256])\n"
     ]
    },
    {
     "name": "stderr",
     "output_type": "stream",
     "text": [
      "pixdim[0] (qfac) should be 1 (default) or -1; setting qfac to 1\n",
      "INFO:nibabel.global:pixdim[0] (qfac) should be 1 (default) or -1; setting qfac to 1\n",
      "pixdim[0] (qfac) should be 1 (default) or -1; setting qfac to 1\n",
      "INFO:nibabel.global:pixdim[0] (qfac) should be 1 (default) or -1; setting qfac to 1\n"
     ]
    },
    {
     "name": "stdout",
     "output_type": "stream",
     "text": [
      "BBOXES: torch.Size([35, 4])\n",
      "X shape before feeder torch.Size([35, 1, 1, 512, 512])\n",
      "T shape before feeder torch.Size([35, 1, 512, 512])\n",
      "X shape after feeder torch.Size([35, 1, 16, 16])\n",
      "T shape after feeder torch.Size([35, 1, 16, 16])\n",
      "X SHAPE torch.Size([35, 1, 256])\n",
      "T SHAPE torch.Size([35, 1, 256])\n"
     ]
    },
    {
     "name": "stderr",
     "output_type": "stream",
     "text": [
      "pixdim[0] (qfac) should be 1 (default) or -1; setting qfac to 1\n",
      "INFO:nibabel.global:pixdim[0] (qfac) should be 1 (default) or -1; setting qfac to 1\n",
      "pixdim[0] (qfac) should be 1 (default) or -1; setting qfac to 1\n",
      "INFO:nibabel.global:pixdim[0] (qfac) should be 1 (default) or -1; setting qfac to 1\n"
     ]
    },
    {
     "name": "stdout",
     "output_type": "stream",
     "text": [
      "BBOXES: torch.Size([35, 4])\n",
      "X shape before feeder torch.Size([35, 1, 1, 512, 512])\n",
      "T shape before feeder torch.Size([35, 1, 512, 512])\n",
      "X shape after feeder torch.Size([35, 1, 16, 16])\n",
      "T shape after feeder torch.Size([35, 1, 16, 16])\n",
      "X SHAPE torch.Size([35, 1, 256])\n",
      "T SHAPE torch.Size([35, 1, 256])\n"
     ]
    },
    {
     "name": "stderr",
     "output_type": "stream",
     "text": [
      "pixdim[0] (qfac) should be 1 (default) or -1; setting qfac to 1\n",
      "INFO:nibabel.global:pixdim[0] (qfac) should be 1 (default) or -1; setting qfac to 1\n",
      "pixdim[0] (qfac) should be 1 (default) or -1; setting qfac to 1\n",
      "INFO:nibabel.global:pixdim[0] (qfac) should be 1 (default) or -1; setting qfac to 1\n"
     ]
    },
    {
     "name": "stdout",
     "output_type": "stream",
     "text": [
      "BBOXES: torch.Size([35, 4])\n",
      "X shape before feeder torch.Size([35, 1, 1, 512, 512])\n",
      "T shape before feeder torch.Size([35, 1, 512, 512])\n",
      "X shape after feeder torch.Size([35, 1, 16, 16])\n",
      "T shape after feeder torch.Size([35, 1, 16, 16])\n",
      "X SHAPE torch.Size([35, 1, 256])\n",
      "T SHAPE torch.Size([35, 1, 256])\n"
     ]
    },
    {
     "name": "stderr",
     "output_type": "stream",
     "text": [
      "pixdim[0] (qfac) should be 1 (default) or -1; setting qfac to 1\n",
      "INFO:nibabel.global:pixdim[0] (qfac) should be 1 (default) or -1; setting qfac to 1\n",
      "pixdim[0] (qfac) should be 1 (default) or -1; setting qfac to 1\n",
      "INFO:nibabel.global:pixdim[0] (qfac) should be 1 (default) or -1; setting qfac to 1\n",
      "pixdim[0] (qfac) should be 1 (default) or -1; setting qfac to 1\n"
     ]
    },
    {
     "name": "stdout",
     "output_type": "stream",
     "text": [
      "BBOXES: torch.Size([35, 4])\n",
      "X shape before feeder torch.Size([35, 1, 1, 512, 512])\n",
      "T shape before feeder torch.Size([35, 1, 512, 512])\n",
      "X shape after feeder torch.Size([35, 1, 16, 16])\n",
      "T shape after feeder torch.Size([35, 1, 16, 16])\n",
      "X SHAPE torch.Size([35, 1, 256])\n",
      "T SHAPE torch.Size([35, 1, 256])\n"
     ]
    },
    {
     "name": "stderr",
     "output_type": "stream",
     "text": [
      "INFO:nibabel.global:pixdim[0] (qfac) should be 1 (default) or -1; setting qfac to 1\n",
      "pixdim[0] (qfac) should be 1 (default) or -1; setting qfac to 1\n",
      "INFO:nibabel.global:pixdim[0] (qfac) should be 1 (default) or -1; setting qfac to 1\n",
      "pixdim[0] (qfac) should be 1 (default) or -1; setting qfac to 1\n",
      "INFO:nibabel.global:pixdim[0] (qfac) should be 1 (default) or -1; setting qfac to 1\n",
      "pixdim[0] (qfac) should be 1 (default) or -1; setting qfac to 1\n",
      "INFO:nibabel.global:pixdim[0] (qfac) should be 1 (default) or -1; setting qfac to 1\n",
      "pixdim[0] (qfac) should be 1 (default) or -1; setting qfac to 1\n"
     ]
    },
    {
     "name": "stdout",
     "output_type": "stream",
     "text": [
      "BBOXES: torch.Size([35, 4])\n",
      "X shape before feeder torch.Size([35, 1, 1, 512, 512])\n",
      "T shape before feeder torch.Size([35, 1, 512, 512])\n",
      "X shape after feeder torch.Size([35, 1, 16, 16])\n",
      "T shape after feeder torch.Size([35, 1, 16, 16])\n",
      "X SHAPE torch.Size([35, 1, 256])\n",
      "T SHAPE torch.Size([35, 1, 256])\n"
     ]
    },
    {
     "name": "stderr",
     "output_type": "stream",
     "text": [
      "INFO:nibabel.global:pixdim[0] (qfac) should be 1 (default) or -1; setting qfac to 1\n",
      "pixdim[0] (qfac) should be 1 (default) or -1; setting qfac to 1\n",
      "INFO:nibabel.global:pixdim[0] (qfac) should be 1 (default) or -1; setting qfac to 1\n",
      "pixdim[0] (qfac) should be 1 (default) or -1; setting qfac to 1\n",
      "INFO:nibabel.global:pixdim[0] (qfac) should be 1 (default) or -1; setting qfac to 1\n",
      "pixdim[0] (qfac) should be 1 (default) or -1; setting qfac to 1\n",
      "INFO:nibabel.global:pixdim[0] (qfac) should be 1 (default) or -1; setting qfac to 1\n",
      "pixdim[0] (qfac) should be 1 (default) or -1; setting qfac to 1\n"
     ]
    },
    {
     "name": "stdout",
     "output_type": "stream",
     "text": [
      "BBOXES: torch.Size([35, 4])\n",
      "X shape before feeder torch.Size([35, 1, 1, 512, 512])\n",
      "T shape before feeder torch.Size([35, 1, 512, 512])\n",
      "X shape after feeder torch.Size([35, 1, 16, 16])\n",
      "T shape after feeder torch.Size([35, 1, 16, 16])\n",
      "X SHAPE torch.Size([35, 1, 256])\n",
      "T SHAPE torch.Size([35, 1, 256])\n"
     ]
    },
    {
     "name": "stderr",
     "output_type": "stream",
     "text": [
      "INFO:nibabel.global:pixdim[0] (qfac) should be 1 (default) or -1; setting qfac to 1\n",
      "pixdim[0] (qfac) should be 1 (default) or -1; setting qfac to 1\n",
      "INFO:nibabel.global:pixdim[0] (qfac) should be 1 (default) or -1; setting qfac to 1\n",
      "pixdim[0] (qfac) should be 1 (default) or -1; setting qfac to 1\n",
      "INFO:nibabel.global:pixdim[0] (qfac) should be 1 (default) or -1; setting qfac to 1\n",
      "pixdim[0] (qfac) should be 1 (default) or -1; setting qfac to 1\n",
      "INFO:nibabel.global:pixdim[0] (qfac) should be 1 (default) or -1; setting qfac to 1\n"
     ]
    },
    {
     "name": "stdout",
     "output_type": "stream",
     "text": [
      "BBOXES: torch.Size([35, 4])\n",
      "X shape before feeder torch.Size([35, 1, 1, 512, 512])\n",
      "T shape before feeder torch.Size([35, 1, 512, 512])\n",
      "X shape after feeder torch.Size([35, 1, 16, 16])\n",
      "T shape after feeder torch.Size([35, 1, 16, 16])\n",
      "X SHAPE torch.Size([35, 1, 256])\n",
      "T SHAPE torch.Size([35, 1, 256])\n"
     ]
    },
    {
     "name": "stderr",
     "output_type": "stream",
     "text": [
      "pixdim[0] (qfac) should be 1 (default) or -1; setting qfac to 1\n",
      "INFO:nibabel.global:pixdim[0] (qfac) should be 1 (default) or -1; setting qfac to 1\n",
      "pixdim[0] (qfac) should be 1 (default) or -1; setting qfac to 1\n",
      "INFO:nibabel.global:pixdim[0] (qfac) should be 1 (default) or -1; setting qfac to 1\n"
     ]
    },
    {
     "name": "stdout",
     "output_type": "stream",
     "text": [
      "BBOXES: torch.Size([35, 4])\n",
      "X shape before feeder torch.Size([35, 1, 1, 512, 512])\n",
      "T shape before feeder torch.Size([35, 1, 512, 512])\n",
      "X shape after feeder torch.Size([35, 1, 16, 16])\n",
      "T shape after feeder torch.Size([35, 1, 16, 16])\n",
      "X SHAPE torch.Size([35, 1, 256])\n",
      "T SHAPE torch.Size([35, 1, 256])\n"
     ]
    },
    {
     "name": "stderr",
     "output_type": "stream",
     "text": [
      "pixdim[0] (qfac) should be 1 (default) or -1; setting qfac to 1\n",
      "INFO:nibabel.global:pixdim[0] (qfac) should be 1 (default) or -1; setting qfac to 1\n",
      "pixdim[0] (qfac) should be 1 (default) or -1; setting qfac to 1\n",
      "INFO:nibabel.global:pixdim[0] (qfac) should be 1 (default) or -1; setting qfac to 1\n"
     ]
    },
    {
     "name": "stdout",
     "output_type": "stream",
     "text": [
      "BBOXES: torch.Size([35, 4])\n",
      "X shape before feeder torch.Size([35, 1, 1, 512, 512])\n",
      "T shape before feeder torch.Size([35, 1, 512, 512])\n",
      "X shape after feeder torch.Size([35, 1, 16, 16])\n",
      "T shape after feeder torch.Size([35, 1, 16, 16])\n",
      "X SHAPE torch.Size([35, 1, 256])\n",
      "T SHAPE torch.Size([35, 1, 256])\n"
     ]
    },
    {
     "name": "stderr",
     "output_type": "stream",
     "text": [
      "pixdim[0] (qfac) should be 1 (default) or -1; setting qfac to 1\n",
      "INFO:nibabel.global:pixdim[0] (qfac) should be 1 (default) or -1; setting qfac to 1\n",
      "pixdim[0] (qfac) should be 1 (default) or -1; setting qfac to 1\n",
      "INFO:nibabel.global:pixdim[0] (qfac) should be 1 (default) or -1; setting qfac to 1\n"
     ]
    },
    {
     "name": "stdout",
     "output_type": "stream",
     "text": [
      "BBOXES: torch.Size([35, 4])\n",
      "X shape before feeder torch.Size([35, 1, 1, 512, 512])\n",
      "T shape before feeder torch.Size([35, 1, 512, 512])\n",
      "X shape after feeder torch.Size([35, 1, 16, 16])\n",
      "T shape after feeder torch.Size([35, 1, 16, 16])\n",
      "X SHAPE torch.Size([35, 1, 256])\n",
      "T SHAPE torch.Size([35, 1, 256])\n"
     ]
    },
    {
     "name": "stderr",
     "output_type": "stream",
     "text": [
      "pixdim[0] (qfac) should be 1 (default) or -1; setting qfac to 1\n",
      "INFO:nibabel.global:pixdim[0] (qfac) should be 1 (default) or -1; setting qfac to 1\n",
      "pixdim[0] (qfac) should be 1 (default) or -1; setting qfac to 1\n",
      "INFO:nibabel.global:pixdim[0] (qfac) should be 1 (default) or -1; setting qfac to 1\n"
     ]
    },
    {
     "name": "stdout",
     "output_type": "stream",
     "text": [
      "BBOXES: torch.Size([35, 4])\n",
      "X shape before feeder torch.Size([35, 1, 1, 512, 512])\n",
      "T shape before feeder torch.Size([35, 1, 512, 512])\n",
      "X shape after feeder torch.Size([35, 1, 16, 16])\n",
      "T shape after feeder torch.Size([35, 1, 16, 16])\n",
      "X SHAPE torch.Size([35, 1, 256])\n",
      "T SHAPE torch.Size([35, 1, 256])\n"
     ]
    },
    {
     "name": "stderr",
     "output_type": "stream",
     "text": [
      "pixdim[0] (qfac) should be 1 (default) or -1; setting qfac to 1\n",
      "INFO:nibabel.global:pixdim[0] (qfac) should be 1 (default) or -1; setting qfac to 1\n",
      "pixdim[0] (qfac) should be 1 (default) or -1; setting qfac to 1\n",
      "INFO:nibabel.global:pixdim[0] (qfac) should be 1 (default) or -1; setting qfac to 1\n"
     ]
    },
    {
     "name": "stdout",
     "output_type": "stream",
     "text": [
      "BBOXES: torch.Size([35, 4])\n",
      "X shape before feeder torch.Size([35, 1, 1, 512, 512])\n",
      "T shape before feeder torch.Size([35, 1, 512, 512])\n",
      "X shape after feeder torch.Size([35, 1, 16, 16])\n",
      "T shape after feeder torch.Size([35, 1, 16, 16])\n",
      "X SHAPE torch.Size([35, 1, 256])\n",
      "T SHAPE torch.Size([35, 1, 256])\n"
     ]
    },
    {
     "name": "stderr",
     "output_type": "stream",
     "text": [
      "pixdim[0] (qfac) should be 1 (default) or -1; setting qfac to 1\n",
      "INFO:nibabel.global:pixdim[0] (qfac) should be 1 (default) or -1; setting qfac to 1\n",
      "pixdim[0] (qfac) should be 1 (default) or -1; setting qfac to 1\n",
      "INFO:nibabel.global:pixdim[0] (qfac) should be 1 (default) or -1; setting qfac to 1\n"
     ]
    },
    {
     "name": "stdout",
     "output_type": "stream",
     "text": [
      "BBOXES: torch.Size([35, 4])\n",
      "X shape before feeder torch.Size([35, 1, 1, 512, 512])\n",
      "T shape before feeder torch.Size([35, 1, 512, 512])\n",
      "X shape after feeder torch.Size([35, 1, 16, 16])\n",
      "T shape after feeder torch.Size([35, 1, 16, 16])\n",
      "X SHAPE torch.Size([35, 1, 256])\n",
      "T SHAPE torch.Size([35, 1, 256])\n"
     ]
    },
    {
     "name": "stderr",
     "output_type": "stream",
     "text": [
      "pixdim[0] (qfac) should be 1 (default) or -1; setting qfac to 1\n",
      "INFO:nibabel.global:pixdim[0] (qfac) should be 1 (default) or -1; setting qfac to 1\n",
      "pixdim[0] (qfac) should be 1 (default) or -1; setting qfac to 1\n",
      "INFO:nibabel.global:pixdim[0] (qfac) should be 1 (default) or -1; setting qfac to 1\n"
     ]
    },
    {
     "name": "stdout",
     "output_type": "stream",
     "text": [
      "BBOXES: torch.Size([35, 4])\n",
      "X shape before feeder torch.Size([35, 1, 1, 512, 512])\n",
      "T shape before feeder torch.Size([35, 1, 512, 512])\n",
      "X shape after feeder torch.Size([35, 1, 16, 16])\n",
      "T shape after feeder torch.Size([35, 1, 16, 16])\n",
      "X SHAPE torch.Size([35, 1, 256])\n",
      "T SHAPE torch.Size([35, 1, 256])\n"
     ]
    },
    {
     "name": "stderr",
     "output_type": "stream",
     "text": [
      "pixdim[0] (qfac) should be 1 (default) or -1; setting qfac to 1\n",
      "INFO:nibabel.global:pixdim[0] (qfac) should be 1 (default) or -1; setting qfac to 1\n",
      "pixdim[0] (qfac) should be 1 (default) or -1; setting qfac to 1\n",
      "INFO:nibabel.global:pixdim[0] (qfac) should be 1 (default) or -1; setting qfac to 1\n"
     ]
    },
    {
     "name": "stdout",
     "output_type": "stream",
     "text": [
      "BBOXES: torch.Size([35, 4])\n",
      "X shape before feeder torch.Size([35, 1, 1, 512, 512])\n",
      "T shape before feeder torch.Size([35, 1, 512, 512])\n",
      "X shape after feeder torch.Size([35, 1, 16, 16])\n",
      "T shape after feeder torch.Size([35, 1, 16, 16])\n",
      "X SHAPE torch.Size([35, 1, 256])\n",
      "T SHAPE torch.Size([35, 1, 256])\n"
     ]
    },
    {
     "name": "stderr",
     "output_type": "stream",
     "text": [
      "pixdim[0] (qfac) should be 1 (default) or -1; setting qfac to 1\n",
      "INFO:nibabel.global:pixdim[0] (qfac) should be 1 (default) or -1; setting qfac to 1\n",
      "pixdim[0] (qfac) should be 1 (default) or -1; setting qfac to 1\n",
      "INFO:nibabel.global:pixdim[0] (qfac) should be 1 (default) or -1; setting qfac to 1\n"
     ]
    },
    {
     "name": "stdout",
     "output_type": "stream",
     "text": [
      "BBOXES: torch.Size([35, 4])\n",
      "X shape before feeder torch.Size([35, 1, 1, 512, 512])\n",
      "T shape before feeder torch.Size([35, 1, 512, 512])\n",
      "X shape after feeder torch.Size([35, 1, 16, 16])\n",
      "T shape after feeder torch.Size([35, 1, 16, 16])\n",
      "X SHAPE torch.Size([35, 1, 256])\n",
      "T SHAPE torch.Size([35, 1, 256])\n"
     ]
    },
    {
     "name": "stderr",
     "output_type": "stream",
     "text": [
      "pixdim[0] (qfac) should be 1 (default) or -1; setting qfac to 1\n",
      "INFO:nibabel.global:pixdim[0] (qfac) should be 1 (default) or -1; setting qfac to 1\n",
      "pixdim[0] (qfac) should be 1 (default) or -1; setting qfac to 1\n",
      "INFO:nibabel.global:pixdim[0] (qfac) should be 1 (default) or -1; setting qfac to 1\n"
     ]
    },
    {
     "name": "stdout",
     "output_type": "stream",
     "text": [
      "BBOXES: torch.Size([35, 4])\n",
      "X shape before feeder torch.Size([35, 1, 1, 512, 512])\n",
      "T shape before feeder torch.Size([35, 1, 512, 512])\n",
      "X shape after feeder torch.Size([35, 1, 16, 16])\n",
      "T shape after feeder torch.Size([35, 1, 16, 16])\n",
      "X SHAPE torch.Size([35, 1, 256])\n",
      "T SHAPE torch.Size([35, 1, 256])\n"
     ]
    },
    {
     "name": "stderr",
     "output_type": "stream",
     "text": [
      "pixdim[0] (qfac) should be 1 (default) or -1; setting qfac to 1\n",
      "INFO:nibabel.global:pixdim[0] (qfac) should be 1 (default) or -1; setting qfac to 1\n",
      "pixdim[0] (qfac) should be 1 (default) or -1; setting qfac to 1\n",
      "INFO:nibabel.global:pixdim[0] (qfac) should be 1 (default) or -1; setting qfac to 1\n"
     ]
    },
    {
     "name": "stdout",
     "output_type": "stream",
     "text": [
      "BBOXES: torch.Size([35, 4])\n",
      "X shape before feeder torch.Size([35, 1, 1, 512, 512])\n",
      "T shape before feeder torch.Size([35, 1, 512, 512])\n",
      "X shape after feeder torch.Size([35, 1, 16, 16])\n",
      "T shape after feeder torch.Size([35, 1, 16, 16])\n",
      "X SHAPE torch.Size([35, 1, 256])\n",
      "T SHAPE torch.Size([35, 1, 256])\n"
     ]
    },
    {
     "name": "stderr",
     "output_type": "stream",
     "text": [
      "pixdim[0] (qfac) should be 1 (default) or -1; setting qfac to 1\n",
      "INFO:nibabel.global:pixdim[0] (qfac) should be 1 (default) or -1; setting qfac to 1\n",
      "pixdim[0] (qfac) should be 1 (default) or -1; setting qfac to 1\n",
      "INFO:nibabel.global:pixdim[0] (qfac) should be 1 (default) or -1; setting qfac to 1\n"
     ]
    },
    {
     "name": "stdout",
     "output_type": "stream",
     "text": [
      "BBOXES: torch.Size([35, 4])\n",
      "X shape before feeder torch.Size([35, 1, 1, 512, 512])\n",
      "T shape before feeder torch.Size([35, 1, 512, 512])\n",
      "X shape after feeder torch.Size([35, 1, 16, 16])\n",
      "T shape after feeder torch.Size([35, 1, 16, 16])\n",
      "X SHAPE torch.Size([35, 1, 256])\n",
      "T SHAPE torch.Size([35, 1, 256])\n"
     ]
    },
    {
     "name": "stderr",
     "output_type": "stream",
     "text": [
      "pixdim[0] (qfac) should be 1 (default) or -1; setting qfac to 1\n",
      "INFO:nibabel.global:pixdim[0] (qfac) should be 1 (default) or -1; setting qfac to 1\n",
      "pixdim[0] (qfac) should be 1 (default) or -1; setting qfac to 1\n",
      "INFO:nibabel.global:pixdim[0] (qfac) should be 1 (default) or -1; setting qfac to 1\n"
     ]
    },
    {
     "name": "stdout",
     "output_type": "stream",
     "text": [
      "BBOXES: torch.Size([35, 4])\n",
      "X shape before feeder torch.Size([35, 1, 1, 512, 512])\n",
      "T shape before feeder torch.Size([35, 1, 512, 512])\n",
      "X shape after feeder torch.Size([35, 1, 16, 16])\n",
      "T shape after feeder torch.Size([35, 1, 16, 16])\n",
      "X SHAPE torch.Size([35, 1, 256])\n",
      "T SHAPE torch.Size([35, 1, 256])\n"
     ]
    },
    {
     "name": "stderr",
     "output_type": "stream",
     "text": [
      "pixdim[0] (qfac) should be 1 (default) or -1; setting qfac to 1\n",
      "INFO:nibabel.global:pixdim[0] (qfac) should be 1 (default) or -1; setting qfac to 1\n",
      "pixdim[0] (qfac) should be 1 (default) or -1; setting qfac to 1\n",
      "INFO:nibabel.global:pixdim[0] (qfac) should be 1 (default) or -1; setting qfac to 1\n"
     ]
    },
    {
     "name": "stdout",
     "output_type": "stream",
     "text": [
      "BBOXES: torch.Size([35, 4])\n",
      "X shape before feeder torch.Size([35, 1, 1, 512, 512])\n",
      "T shape before feeder torch.Size([35, 1, 512, 512])\n",
      "X shape after feeder torch.Size([35, 1, 16, 16])\n",
      "T shape after feeder torch.Size([35, 1, 16, 16])\n",
      "X SHAPE torch.Size([35, 1, 256])\n",
      "T SHAPE torch.Size([35, 1, 256])\n"
     ]
    },
    {
     "name": "stderr",
     "output_type": "stream",
     "text": [
      "pixdim[0] (qfac) should be 1 (default) or -1; setting qfac to 1\n",
      "INFO:nibabel.global:pixdim[0] (qfac) should be 1 (default) or -1; setting qfac to 1\n",
      "pixdim[0] (qfac) should be 1 (default) or -1; setting qfac to 1\n",
      "INFO:nibabel.global:pixdim[0] (qfac) should be 1 (default) or -1; setting qfac to 1\n"
     ]
    },
    {
     "name": "stdout",
     "output_type": "stream",
     "text": [
      "BBOXES: torch.Size([35, 4])\n",
      "X shape before feeder torch.Size([35, 1, 1, 512, 512])\n",
      "T shape before feeder torch.Size([35, 1, 512, 512])\n",
      "X shape after feeder torch.Size([35, 1, 16, 16])\n",
      "T shape after feeder torch.Size([35, 1, 16, 16])\n",
      "X SHAPE torch.Size([35, 1, 256])\n",
      "T SHAPE torch.Size([35, 1, 256])\n"
     ]
    },
    {
     "name": "stderr",
     "output_type": "stream",
     "text": [
      "pixdim[0] (qfac) should be 1 (default) or -1; setting qfac to 1\n",
      "INFO:nibabel.global:pixdim[0] (qfac) should be 1 (default) or -1; setting qfac to 1\n",
      "pixdim[0] (qfac) should be 1 (default) or -1; setting qfac to 1\n",
      "INFO:nibabel.global:pixdim[0] (qfac) should be 1 (default) or -1; setting qfac to 1\n"
     ]
    },
    {
     "name": "stdout",
     "output_type": "stream",
     "text": [
      "BBOXES: torch.Size([35, 4])\n",
      "X shape before feeder torch.Size([35, 1, 1, 512, 512])\n",
      "T shape before feeder torch.Size([35, 1, 512, 512])\n",
      "X shape after feeder torch.Size([35, 1, 16, 16])\n",
      "T shape after feeder torch.Size([35, 1, 16, 16])\n",
      "X SHAPE torch.Size([35, 1, 256])\n",
      "T SHAPE torch.Size([35, 1, 256])\n"
     ]
    },
    {
     "name": "stderr",
     "output_type": "stream",
     "text": [
      "pixdim[0] (qfac) should be 1 (default) or -1; setting qfac to 1\n",
      "INFO:nibabel.global:pixdim[0] (qfac) should be 1 (default) or -1; setting qfac to 1\n",
      "pixdim[0] (qfac) should be 1 (default) or -1; setting qfac to 1\n",
      "INFO:nibabel.global:pixdim[0] (qfac) should be 1 (default) or -1; setting qfac to 1\n"
     ]
    },
    {
     "name": "stdout",
     "output_type": "stream",
     "text": [
      "BBOXES: torch.Size([35, 4])\n",
      "X shape before feeder torch.Size([35, 1, 1, 512, 512])\n",
      "T shape before feeder torch.Size([35, 1, 512, 512])\n",
      "X shape after feeder torch.Size([35, 1, 16, 16])\n",
      "T shape after feeder torch.Size([35, 1, 16, 16])\n",
      "X SHAPE torch.Size([35, 1, 256])\n",
      "T SHAPE torch.Size([35, 1, 256])\n"
     ]
    },
    {
     "name": "stderr",
     "output_type": "stream",
     "text": [
      "pixdim[0] (qfac) should be 1 (default) or -1; setting qfac to 1\n",
      "INFO:nibabel.global:pixdim[0] (qfac) should be 1 (default) or -1; setting qfac to 1\n",
      "pixdim[0] (qfac) should be 1 (default) or -1; setting qfac to 1\n",
      "INFO:nibabel.global:pixdim[0] (qfac) should be 1 (default) or -1; setting qfac to 1\n"
     ]
    },
    {
     "name": "stdout",
     "output_type": "stream",
     "text": [
      "BBOXES: torch.Size([35, 4])\n",
      "X shape before feeder torch.Size([35, 1, 1, 512, 512])\n",
      "T shape before feeder torch.Size([35, 1, 512, 512])\n",
      "X shape after feeder torch.Size([35, 1, 16, 16])\n",
      "T shape after feeder torch.Size([35, 1, 16, 16])\n",
      "X SHAPE torch.Size([35, 1, 256])\n",
      "T SHAPE torch.Size([35, 1, 256])\n"
     ]
    },
    {
     "name": "stderr",
     "output_type": "stream",
     "text": [
      "pixdim[0] (qfac) should be 1 (default) or -1; setting qfac to 1\n",
      "INFO:nibabel.global:pixdim[0] (qfac) should be 1 (default) or -1; setting qfac to 1\n",
      "pixdim[0] (qfac) should be 1 (default) or -1; setting qfac to 1\n",
      "INFO:nibabel.global:pixdim[0] (qfac) should be 1 (default) or -1; setting qfac to 1\n"
     ]
    },
    {
     "name": "stdout",
     "output_type": "stream",
     "text": [
      "BBOXES: torch.Size([35, 4])\n",
      "X shape before feeder torch.Size([35, 1, 1, 512, 512])\n",
      "T shape before feeder torch.Size([35, 1, 512, 512])\n",
      "X shape after feeder torch.Size([35, 1, 16, 16])\n",
      "T shape after feeder torch.Size([35, 1, 16, 16])\n",
      "X SHAPE torch.Size([35, 1, 256])\n",
      "T SHAPE torch.Size([35, 1, 256])\n"
     ]
    },
    {
     "name": "stderr",
     "output_type": "stream",
     "text": [
      "pixdim[0] (qfac) should be 1 (default) or -1; setting qfac to 1\n",
      "INFO:nibabel.global:pixdim[0] (qfac) should be 1 (default) or -1; setting qfac to 1\n",
      "pixdim[0] (qfac) should be 1 (default) or -1; setting qfac to 1\n",
      "INFO:nibabel.global:pixdim[0] (qfac) should be 1 (default) or -1; setting qfac to 1\n"
     ]
    },
    {
     "name": "stdout",
     "output_type": "stream",
     "text": [
      "BBOXES: torch.Size([35, 4])\n",
      "X shape before feeder torch.Size([35, 1, 1, 512, 512])\n",
      "T shape before feeder torch.Size([35, 1, 512, 512])\n",
      "X shape after feeder torch.Size([35, 1, 16, 16])\n",
      "T shape after feeder torch.Size([35, 1, 16, 16])\n",
      "X SHAPE torch.Size([35, 1, 256])\n",
      "T SHAPE torch.Size([35, 1, 256])\n"
     ]
    },
    {
     "name": "stderr",
     "output_type": "stream",
     "text": [
      "pixdim[0] (qfac) should be 1 (default) or -1; setting qfac to 1\n",
      "INFO:nibabel.global:pixdim[0] (qfac) should be 1 (default) or -1; setting qfac to 1\n",
      "pixdim[0] (qfac) should be 1 (default) or -1; setting qfac to 1\n",
      "INFO:nibabel.global:pixdim[0] (qfac) should be 1 (default) or -1; setting qfac to 1\n"
     ]
    },
    {
     "name": "stdout",
     "output_type": "stream",
     "text": [
      "BBOXES: torch.Size([35, 4])\n",
      "X shape before feeder torch.Size([35, 1, 1, 512, 512])\n",
      "T shape before feeder torch.Size([35, 1, 512, 512])\n",
      "X shape after feeder torch.Size([35, 1, 16, 16])\n",
      "T shape after feeder torch.Size([35, 1, 16, 16])\n",
      "X SHAPE torch.Size([35, 1, 256])\n",
      "T SHAPE torch.Size([35, 1, 256])\n"
     ]
    },
    {
     "name": "stderr",
     "output_type": "stream",
     "text": [
      "pixdim[0] (qfac) should be 1 (default) or -1; setting qfac to 1\n",
      "INFO:nibabel.global:pixdim[0] (qfac) should be 1 (default) or -1; setting qfac to 1\n",
      "pixdim[0] (qfac) should be 1 (default) or -1; setting qfac to 1\n",
      "INFO:nibabel.global:pixdim[0] (qfac) should be 1 (default) or -1; setting qfac to 1\n"
     ]
    },
    {
     "name": "stdout",
     "output_type": "stream",
     "text": [
      "BBOXES: torch.Size([35, 4])\n",
      "X shape before feeder torch.Size([35, 1, 1, 512, 512])\n",
      "T shape before feeder torch.Size([35, 1, 512, 512])\n",
      "X shape after feeder torch.Size([35, 1, 16, 16])\n",
      "T shape after feeder torch.Size([35, 1, 16, 16])\n",
      "X SHAPE torch.Size([35, 1, 256])\n",
      "T SHAPE torch.Size([35, 1, 256])\n"
     ]
    },
    {
     "name": "stderr",
     "output_type": "stream",
     "text": [
      "pixdim[0] (qfac) should be 1 (default) or -1; setting qfac to 1\n",
      "INFO:nibabel.global:pixdim[0] (qfac) should be 1 (default) or -1; setting qfac to 1\n",
      "pixdim[0] (qfac) should be 1 (default) or -1; setting qfac to 1\n",
      "INFO:nibabel.global:pixdim[0] (qfac) should be 1 (default) or -1; setting qfac to 1\n"
     ]
    },
    {
     "name": "stdout",
     "output_type": "stream",
     "text": [
      "BBOXES: torch.Size([35, 4])\n",
      "X shape before feeder torch.Size([35, 1, 1, 512, 512])\n",
      "T shape before feeder torch.Size([35, 1, 512, 512])\n",
      "X shape after feeder torch.Size([35, 1, 16, 16])\n",
      "T shape after feeder torch.Size([35, 1, 16, 16])\n",
      "X SHAPE torch.Size([35, 1, 256])\n",
      "T SHAPE torch.Size([35, 1, 256])\n"
     ]
    },
    {
     "name": "stderr",
     "output_type": "stream",
     "text": [
      "pixdim[0] (qfac) should be 1 (default) or -1; setting qfac to 1\n",
      "INFO:nibabel.global:pixdim[0] (qfac) should be 1 (default) or -1; setting qfac to 1\n",
      "pixdim[0] (qfac) should be 1 (default) or -1; setting qfac to 1\n",
      "INFO:nibabel.global:pixdim[0] (qfac) should be 1 (default) or -1; setting qfac to 1\n"
     ]
    },
    {
     "name": "stdout",
     "output_type": "stream",
     "text": [
      "BBOXES: torch.Size([35, 4])\n",
      "X shape before feeder torch.Size([35, 1, 1, 512, 512])\n",
      "T shape before feeder torch.Size([35, 1, 512, 512])\n",
      "X shape after feeder torch.Size([35, 1, 16, 16])\n",
      "T shape after feeder torch.Size([35, 1, 16, 16])\n",
      "X SHAPE torch.Size([35, 1, 256])\n",
      "T SHAPE torch.Size([35, 1, 256])\n"
     ]
    },
    {
     "name": "stderr",
     "output_type": "stream",
     "text": [
      "pixdim[0] (qfac) should be 1 (default) or -1; setting qfac to 1\n",
      "INFO:nibabel.global:pixdim[0] (qfac) should be 1 (default) or -1; setting qfac to 1\n",
      "pixdim[0] (qfac) should be 1 (default) or -1; setting qfac to 1\n",
      "INFO:nibabel.global:pixdim[0] (qfac) should be 1 (default) or -1; setting qfac to 1\n"
     ]
    },
    {
     "name": "stdout",
     "output_type": "stream",
     "text": [
      "BBOXES: torch.Size([35, 4])\n",
      "X shape before feeder torch.Size([35, 1, 1, 512, 512])\n",
      "T shape before feeder torch.Size([35, 1, 512, 512])\n",
      "X shape after feeder torch.Size([35, 1, 16, 16])\n",
      "T shape after feeder torch.Size([35, 1, 16, 16])\n",
      "X SHAPE torch.Size([35, 1, 256])\n",
      "T SHAPE torch.Size([35, 1, 256])\n"
     ]
    },
    {
     "name": "stderr",
     "output_type": "stream",
     "text": [
      "pixdim[0] (qfac) should be 1 (default) or -1; setting qfac to 1\n",
      "INFO:nibabel.global:pixdim[0] (qfac) should be 1 (default) or -1; setting qfac to 1\n"
     ]
    },
    {
     "name": "stdout",
     "output_type": "stream",
     "text": [
      "BBOXES: torch.Size([35, 4])\n",
      "X shape before feeder torch.Size([35, 1, 1, 512, 512])\n",
      "T shape before feeder torch.Size([35, 1, 512, 512])\n",
      "X shape after feeder torch.Size([35, 1, 16, 16])\n",
      "T shape after feeder torch.Size([35, 1, 16, 16])\n",
      "X SHAPE torch.Size([35, 1, 256])\n",
      "T SHAPE torch.Size([35, 1, 256])\n"
     ]
    }
   ],
   "source": [
    "hist = fitter.fit(dloader, dloader)"
   ]
  },
  {
   "cell_type": "code",
   "execution_count": 18,
   "id": "306ccafb-a072-44a5-b730-e741575639d7",
   "metadata": {},
   "outputs": [],
   "source": [
    "import winsound\n",
    "\n",
    "winsound.Beep(500, 500)\n",
    "winsound.Beep(500, 500)\n",
    "winsound.Beep(500, 500)"
   ]
  },
  {
   "cell_type": "code",
   "execution_count": 19,
   "id": "27118053-49f0-49e3-949a-88dde924c60f",
   "metadata": {},
   "outputs": [
    {
     "data": {
      "text/plain": [
       "tensor(0.7315)"
      ]
     },
     "execution_count": 19,
     "metadata": {},
     "output_type": "execute_result"
    },
    {
     "data": {
      "image/png": "[encoded data removed]",
      "text/plain": [
       "<Figure size 640x480 with 1 Axes>"
      ]
     },
     "metadata": {},
     "output_type": "display_data"
    }
   ],
   "source": [
    "import seaborn as sns\n",
    "\n",
    "sns.lineplot(torch.tensor(hist).view(-1))\n",
    "torch.tensor(hist).mean()"
   ]
  }
 ],
 "metadata": {
  "kernelspec": {
   "display_name": "Python 3 (ipykernel)",
   "language": "python",
   "name": "python3"
  },
  "language_info": {
   "codemirror_mode": {
    "name": "ipython",
    "version": 3
   },
   "file_extension": ".py",
   "mimetype": "text/x-python",
   "name": "python",
   "nbconvert_exporter": "python",
   "pygments_lexer": "ipython3",
   "version": "3.10.5"
  }
 },
 "nbformat": 4,
 "nbformat_minor": 5
}
