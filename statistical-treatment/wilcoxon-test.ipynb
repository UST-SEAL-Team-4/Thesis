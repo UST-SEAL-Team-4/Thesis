{
 "cells": [
  {
   "cell_type": "code",
   "execution_count": 28,
   "metadata": {},
   "outputs": [],
   "source": [
    "import pandas as pd\n",
    "import scipy.stats as stats\n",
    "import numpy as np"
   ]
  },
  {
   "cell_type": "code",
   "execution_count": 29,
   "metadata": {},
   "outputs": [],
   "source": [
    "def process_csv(file):\n",
    "    return pd.read_csv(file).set_index('fold').drop(columns=['Unnamed: 0']).apply(lambda x: x*100 if x.name == 'fpr' else x)"
   ]
  },
  {
   "cell_type": "code",
   "execution_count": 30,
   "metadata": {},
   "outputs": [],
   "source": [
    "isa_rpn = process_csv('isa-rpn.csv')\n",
    "vanilla_rpn = process_csv('vanilla-rpn.csv')"
   ]
  },
  {
   "cell_type": "code",
   "execution_count": 31,
   "metadata": {},
   "outputs": [],
   "source": [
    "pb_isa_vit = process_csv('perfect-bbox-isa-vit.csv')\n",
    "pb_vanilla_vit = process_csv('perfect-bbox-vanilla-vit.csv')"
   ]
  },
  {
   "cell_type": "code",
   "execution_count": 32,
   "metadata": {},
   "outputs": [],
   "source": [
    "isa_rpn_isa_vit = process_csv('isa-rpn_isa-vit.csv')\n",
    "rpn_vit = process_csv('rpn_vit.csv')"
   ]
  },
  {
   "cell_type": "code",
   "execution_count": 33,
   "metadata": {},
   "outputs": [],
   "source": [
    "ALPHA = 0.05"
   ]
  },
  {
   "cell_type": "markdown",
   "metadata": {},
   "source": [
    "### Functions\n"
   ]
  },
  {
   "cell_type": "code",
   "execution_count": 34,
   "metadata": {},
   "outputs": [],
   "source": [
    "def compute_wilcoxon(df1, df2, metrics, alpha=0.05):\n",
    "    results = {}\n",
    "    \n",
    "    for metric in metrics:\n",
    "        diff = df1[metric] - df2[metric]\n",
    "        \n",
    "        if len(diff[diff != 0]) == 0:\n",
    "            results[metric] = {'stat': 0, 'p_value': 1}\n",
    "        else:\n",
    "            alternative = 'less' if metric == 'fpr' else 'greater'\n",
    "            stat, p_value = stats.wilcoxon(diff, method='exact', alternative=alternative)\n",
    "            results[metric] = {'stat': stat, 'p_value': p_value}\n",
    "            \n",
    "    df = pd.DataFrame(results).T\n",
    "    df['significant'] = df['p_value'] < alpha\n",
    "    \n",
    "    return df"
   ]
  },
  {
   "cell_type": "markdown",
   "metadata": {},
   "source": [
    "### ISA-RPN vs RPN\n"
   ]
  },
  {
   "cell_type": "code",
   "execution_count": 35,
   "metadata": {},
   "outputs": [
    {
     "data": {
      "text/plain": [
       "(iou          0.201635\n",
       " precision    0.257323\n",
       " recall       0.468507\n",
       " f1           0.294992\n",
       " dtype: float64,\n",
       " iou          0.132874\n",
       " precision    0.119832\n",
       " recall       0.287291\n",
       " f1           0.187523\n",
       " dtype: float64)"
      ]
     },
     "execution_count": 35,
     "metadata": {},
     "output_type": "execute_result"
    }
   ],
   "source": [
    "isa_rpn.mean(), isa_rpn.std()"
   ]
  },
  {
   "cell_type": "code",
   "execution_count": 36,
   "metadata": {},
   "outputs": [
    {
     "data": {
      "text/plain": [
       "(iou          0.228331\n",
       " precision    0.270117\n",
       " recall       0.550820\n",
       " f1           0.340814\n",
       " dtype: float64,\n",
       " iou          0.127852\n",
       " precision    0.152080\n",
       " recall       0.318608\n",
       " f1           0.191259\n",
       " dtype: float64)"
      ]
     },
     "execution_count": 36,
     "metadata": {},
     "output_type": "execute_result"
    }
   ],
   "source": [
    "vanilla_rpn.mean(), vanilla_rpn.std()"
   ]
  },
  {
   "cell_type": "code",
   "execution_count": 37,
   "metadata": {},
   "outputs": [
    {
     "data": {
      "text/html": [
       "<div>\n",
       "<style scoped>\n",
       "    .dataframe tbody tr th:only-of-type {\n",
       "        vertical-align: middle;\n",
       "    }\n",
       "\n",
       "    .dataframe tbody tr th {\n",
       "        vertical-align: top;\n",
       "    }\n",
       "\n",
       "    .dataframe thead th {\n",
       "        text-align: right;\n",
       "    }\n",
       "</style>\n",
       "<table border=\"1\" class=\"dataframe\">\n",
       "  <thead>\n",
       "    <tr style=\"text-align: right;\">\n",
       "      <th></th>\n",
       "      <th>stat</th>\n",
       "      <th>p_value</th>\n",
       "      <th>significant</th>\n",
       "    </tr>\n",
       "  </thead>\n",
       "  <tbody>\n",
       "    <tr>\n",
       "      <th>iou</th>\n",
       "      <td>8.0</td>\n",
       "      <td>0.50000</td>\n",
       "      <td>False</td>\n",
       "    </tr>\n",
       "    <tr>\n",
       "      <th>precision</th>\n",
       "      <td>7.0</td>\n",
       "      <td>0.59375</td>\n",
       "      <td>False</td>\n",
       "    </tr>\n",
       "    <tr>\n",
       "      <th>recall</th>\n",
       "      <td>4.0</td>\n",
       "      <td>0.84375</td>\n",
       "      <td>False</td>\n",
       "    </tr>\n",
       "    <tr>\n",
       "      <th>f1</th>\n",
       "      <td>6.0</td>\n",
       "      <td>0.68750</td>\n",
       "      <td>False</td>\n",
       "    </tr>\n",
       "  </tbody>\n",
       "</table>\n",
       "</div>"
      ],
      "text/plain": [
       "           stat  p_value  significant\n",
       "iou         8.0  0.50000        False\n",
       "precision   7.0  0.59375        False\n",
       "recall      4.0  0.84375        False\n",
       "f1          6.0  0.68750        False"
      ]
     },
     "execution_count": 37,
     "metadata": {},
     "output_type": "execute_result"
    }
   ],
   "source": [
    "compute_wilcoxon(isa_rpn, vanilla_rpn, isa_rpn.columns.tolist())"
   ]
  },
  {
   "cell_type": "markdown",
   "metadata": {},
   "source": [
    "### ISA-RPN + ISA-ViT vs RPN + ViT\n"
   ]
  },
  {
   "cell_type": "code",
   "execution_count": 38,
   "metadata": {},
   "outputs": [
    {
     "data": {
      "text/plain": [
       "(dice              0.000920\n",
       " precision         0.000460\n",
       " recall            0.994444\n",
       " f1                0.000920\n",
       " fpr          442143.157895\n",
       " dtype: float64,\n",
       " dice             0.000069\n",
       " precision        0.000035\n",
       " recall           0.012423\n",
       " f1               0.000069\n",
       " fpr          34017.154382\n",
       " dtype: float64)"
      ]
     },
     "execution_count": 38,
     "metadata": {},
     "output_type": "execute_result"
    }
   ],
   "source": [
    "isa_rpn_isa_vit.mean(), isa_rpn_isa_vit.std()"
   ]
  },
  {
   "cell_type": "code",
   "execution_count": 39,
   "metadata": {},
   "outputs": [
    {
     "data": {
      "text/plain": [
       "(dice           0.005859\n",
       " precision      0.003843\n",
       " recall         0.014407\n",
       " f1             0.005859\n",
       " fpr          577.894737\n",
       " dtype: float64,\n",
       " dice           0.006057\n",
       " precision      0.004287\n",
       " recall         0.013160\n",
       " f1             0.006057\n",
       " fpr          600.904212\n",
       " dtype: float64)"
      ]
     },
     "execution_count": 39,
     "metadata": {},
     "output_type": "execute_result"
    }
   ],
   "source": [
    "rpn_vit.mean(), rpn_vit.std()"
   ]
  },
  {
   "cell_type": "code",
   "execution_count": 40,
   "metadata": {},
   "outputs": [
    {
     "data": {
      "text/html": [
       "<div>\n",
       "<style scoped>\n",
       "    .dataframe tbody tr th:only-of-type {\n",
       "        vertical-align: middle;\n",
       "    }\n",
       "\n",
       "    .dataframe tbody tr th {\n",
       "        vertical-align: top;\n",
       "    }\n",
       "\n",
       "    .dataframe thead th {\n",
       "        text-align: right;\n",
       "    }\n",
       "</style>\n",
       "<table border=\"1\" class=\"dataframe\">\n",
       "  <thead>\n",
       "    <tr style=\"text-align: right;\">\n",
       "      <th></th>\n",
       "      <th>stat</th>\n",
       "      <th>p_value</th>\n",
       "      <th>significant</th>\n",
       "    </tr>\n",
       "  </thead>\n",
       "  <tbody>\n",
       "    <tr>\n",
       "      <th>dice</th>\n",
       "      <td>3.0</td>\n",
       "      <td>0.90625</td>\n",
       "      <td>False</td>\n",
       "    </tr>\n",
       "    <tr>\n",
       "      <th>precision</th>\n",
       "      <td>3.0</td>\n",
       "      <td>0.90625</td>\n",
       "      <td>False</td>\n",
       "    </tr>\n",
       "    <tr>\n",
       "      <th>recall</th>\n",
       "      <td>15.0</td>\n",
       "      <td>0.03125</td>\n",
       "      <td>True</td>\n",
       "    </tr>\n",
       "    <tr>\n",
       "      <th>f1</th>\n",
       "      <td>3.0</td>\n",
       "      <td>0.90625</td>\n",
       "      <td>False</td>\n",
       "    </tr>\n",
       "    <tr>\n",
       "      <th>fpr</th>\n",
       "      <td>15.0</td>\n",
       "      <td>1.00000</td>\n",
       "      <td>False</td>\n",
       "    </tr>\n",
       "  </tbody>\n",
       "</table>\n",
       "</div>"
      ],
      "text/plain": [
       "           stat  p_value  significant\n",
       "dice        3.0  0.90625        False\n",
       "precision   3.0  0.90625        False\n",
       "recall     15.0  0.03125         True\n",
       "f1          3.0  0.90625        False\n",
       "fpr        15.0  1.00000        False"
      ]
     },
     "execution_count": 40,
     "metadata": {},
     "output_type": "execute_result"
    }
   ],
   "source": [
    "compute_wilcoxon(isa_rpn_isa_vit, rpn_vit, isa_rpn_isa_vit.columns.tolist())"
   ]
  },
  {
   "cell_type": "markdown",
   "metadata": {},
   "source": [
    "### ISA-ViT vs ViT (Perfect Bounding Boxes)\n"
   ]
  },
  {
   "cell_type": "code",
   "execution_count": 41,
   "metadata": {},
   "outputs": [
    {
     "data": {
      "text/plain": [
       "(dice         0.773333\n",
       " precision    0.915789\n",
       " recall       0.669231\n",
       " f1           0.773333\n",
       " fpr          8.421053\n",
       " dtype: float64,\n",
       " dice         0.024343\n",
       " precision    0.028828\n",
       " recall       0.021066\n",
       " f1           0.024343\n",
       " fpr          2.882750\n",
       " dtype: float64)"
      ]
     },
     "execution_count": 41,
     "metadata": {},
     "output_type": "execute_result"
    }
   ],
   "source": [
    "pb_isa_vit.mean(), pb_isa_vit.std()"
   ]
  },
  {
   "cell_type": "code",
   "execution_count": 42,
   "metadata": {},
   "outputs": [
    {
     "data": {
      "text/plain": [
       "(dice           0.333333\n",
       " precision      0.223684\n",
       " recall         0.653846\n",
       " f1             0.333333\n",
       " fpr          310.526316\n",
       " dtype: float64,\n",
       " dice         0.0\n",
       " precision    0.0\n",
       " recall       0.0\n",
       " f1           0.0\n",
       " fpr          0.0\n",
       " dtype: float64)"
      ]
     },
     "execution_count": 42,
     "metadata": {},
     "output_type": "execute_result"
    }
   ],
   "source": [
    "pb_vanilla_vit.mean(), pb_vanilla_vit.std()"
   ]
  },
  {
   "cell_type": "code",
   "execution_count": 43,
   "metadata": {},
   "outputs": [
    {
     "name": "stderr",
     "output_type": "stream",
     "text": [
      "d:\\Programming Files\\Python\\Lib\\site-packages\\scipy\\stats\\_axis_nan_policy.py:531: UserWarning: Exact p-value calculation does not work if there are zeros. Switching to normal approximation.\n",
      "  res = hypotest_fun_out(*samples, **kwds)\n",
      "d:\\Programming Files\\Python\\Lib\\site-packages\\scipy\\stats\\_axis_nan_policy.py:531: UserWarning: Sample size too small for normal approximation.\n",
      "  res = hypotest_fun_out(*samples, **kwds)\n"
     ]
    },
    {
     "data": {
      "text/html": [
       "<div>\n",
       "<style scoped>\n",
       "    .dataframe tbody tr th:only-of-type {\n",
       "        vertical-align: middle;\n",
       "    }\n",
       "\n",
       "    .dataframe tbody tr th {\n",
       "        vertical-align: top;\n",
       "    }\n",
       "\n",
       "    .dataframe thead th {\n",
       "        text-align: right;\n",
       "    }\n",
       "</style>\n",
       "<table border=\"1\" class=\"dataframe\">\n",
       "  <thead>\n",
       "    <tr style=\"text-align: right;\">\n",
       "      <th></th>\n",
       "      <th>stat</th>\n",
       "      <th>p_value</th>\n",
       "      <th>significant</th>\n",
       "    </tr>\n",
       "  </thead>\n",
       "  <tbody>\n",
       "    <tr>\n",
       "      <th>dice</th>\n",
       "      <td>15.0</td>\n",
       "      <td>0.03125</td>\n",
       "      <td>True</td>\n",
       "    </tr>\n",
       "    <tr>\n",
       "      <th>precision</th>\n",
       "      <td>15.0</td>\n",
       "      <td>0.03125</td>\n",
       "      <td>True</td>\n",
       "    </tr>\n",
       "    <tr>\n",
       "      <th>recall</th>\n",
       "      <td>3.0</td>\n",
       "      <td>0.07865</td>\n",
       "      <td>False</td>\n",
       "    </tr>\n",
       "    <tr>\n",
       "      <th>f1</th>\n",
       "      <td>15.0</td>\n",
       "      <td>0.03125</td>\n",
       "      <td>True</td>\n",
       "    </tr>\n",
       "    <tr>\n",
       "      <th>fpr</th>\n",
       "      <td>0.0</td>\n",
       "      <td>0.03125</td>\n",
       "      <td>True</td>\n",
       "    </tr>\n",
       "  </tbody>\n",
       "</table>\n",
       "</div>"
      ],
      "text/plain": [
       "           stat  p_value  significant\n",
       "dice       15.0  0.03125         True\n",
       "precision  15.0  0.03125         True\n",
       "recall      3.0  0.07865        False\n",
       "f1         15.0  0.03125         True\n",
       "fpr         0.0  0.03125         True"
      ]
     },
     "execution_count": 43,
     "metadata": {},
     "output_type": "execute_result"
    }
   ],
   "source": [
    "compute_wilcoxon(pb_isa_vit, pb_vanilla_vit, pb_isa_vit.columns.tolist())"
   ]
  }
 ],
 "metadata": {
  "kernelspec": {
   "display_name": "Python 3",
   "language": "python",
   "name": "python3"
  },
  "language_info": {
   "codemirror_mode": {
    "name": "ipython",
    "version": 3
   },
   "file_extension": ".py",
   "mimetype": "text/x-python",
   "name": "python",
   "nbconvert_exporter": "python",
   "pygments_lexer": "ipython3",
   "version": "3.11.4"
  }
 },
 "nbformat": 4,
 "nbformat_minor": 2
}
