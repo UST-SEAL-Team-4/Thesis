{
 "cells": [
  {
   "cell_type": "code",
   "execution_count": 373,
   "metadata": {},
   "outputs": [],
   "source": [
    "import pandas as pd\n",
    "import scipy.stats as stats\n",
    "import numpy as np"
   ]
  },
  {
   "cell_type": "code",
   "execution_count": 374,
   "metadata": {},
   "outputs": [],
   "source": [
    "def process_csv(file):\n",
    "    return pd.read_csv(file).set_index('fold').drop(columns=['Unnamed: 0']).apply(lambda x: x*100)"
   ]
  },
  {
   "cell_type": "code",
   "execution_count": 375,
   "metadata": {},
   "outputs": [],
   "source": [
    "isa_rpn = process_csv('isa-rpn.csv')\n",
    "vanilla_rpn = process_csv('vanilla-rpn.csv')"
   ]
  },
  {
   "cell_type": "code",
   "execution_count": 376,
   "metadata": {},
   "outputs": [],
   "source": [
    "isa_rpn_vit = process_csv('isa-rpn_vit.csv')\n",
    "isa_rpn_isa_vit = process_csv('isa-rpn_isa-vit.csv')"
   ]
  },
  {
   "cell_type": "code",
   "execution_count": 377,
   "metadata": {},
   "outputs": [],
   "source": [
    "rpn_vit = process_csv('rpn_vit.csv')\n",
    "rpn_isa_vit = process_csv('rpn_isa-vit.csv')"
   ]
  },
  {
   "cell_type": "code",
   "execution_count": 378,
   "metadata": {},
   "outputs": [],
   "source": [
    "pb_isa_vit = process_csv('perfect-bbox-isa-vit.csv')\n",
    "pb_vanilla_vit = process_csv('perfect-bbox-vanilla-vit.csv')"
   ]
  },
  {
   "cell_type": "code",
   "execution_count": 379,
   "metadata": {},
   "outputs": [],
   "source": [
    "ALPHA = 0.05"
   ]
  },
  {
   "cell_type": "markdown",
   "metadata": {},
   "source": [
    "### Functions\n"
   ]
  },
  {
   "cell_type": "code",
   "execution_count": 380,
   "metadata": {},
   "outputs": [],
   "source": [
    "def compute_wilcoxon(df1, df2, metrics, alpha=0.05):\n",
    "    results = {}\n",
    "    \n",
    "    for metric in metrics:\n",
    "        diff = df1[metric] - df2[metric]\n",
    "        \n",
    "        if len(diff[diff != 0]) == 0:\n",
    "            results[metric] = {'stat': 0, 'p_value': 1}\n",
    "        else:\n",
    "            stat, p_value = stats.wilcoxon(diff, method='exact', alternative='greater')\n",
    "            results[metric] = {'stat': stat, 'p_value': p_value}\n",
    "            \n",
    "    df = pd.DataFrame(results).T\n",
    "    df['significant'] = df['p_value'] < alpha\n",
    "    \n",
    "    return df"
   ]
  },
  {
   "cell_type": "markdown",
   "metadata": {},
   "source": [
    "### ISA-RPN vs RPN\n"
   ]
  },
  {
   "cell_type": "code",
   "execution_count": 381,
   "metadata": {},
   "outputs": [
    {
     "data": {
      "text/plain": [
       "(iou          20.163493\n",
       " precision    25.732271\n",
       " recall       46.850660\n",
       " f1           29.499180\n",
       " dtype: float64,\n",
       " iou          13.287390\n",
       " precision    11.983179\n",
       " recall       28.729077\n",
       " f1           18.752343\n",
       " dtype: float64)"
      ]
     },
     "execution_count": 381,
     "metadata": {},
     "output_type": "execute_result"
    }
   ],
   "source": [
    "isa_rpn.mean(), isa_rpn.std()"
   ]
  },
  {
   "cell_type": "code",
   "execution_count": 382,
   "metadata": {},
   "outputs": [
    {
     "data": {
      "text/plain": [
       "(iou          22.833132\n",
       " precision    27.011666\n",
       " recall       55.082039\n",
       " f1           34.081384\n",
       " dtype: float64,\n",
       " iou          12.785155\n",
       " precision    15.208007\n",
       " recall       31.860801\n",
       " f1           19.125895\n",
       " dtype: float64)"
      ]
     },
     "execution_count": 382,
     "metadata": {},
     "output_type": "execute_result"
    }
   ],
   "source": [
    "vanilla_rpn.mean(), vanilla_rpn.std()"
   ]
  },
  {
   "cell_type": "code",
   "execution_count": 383,
   "metadata": {},
   "outputs": [
    {
     "data": {
      "text/html": [
       "<div>\n",
       "<style scoped>\n",
       "    .dataframe tbody tr th:only-of-type {\n",
       "        vertical-align: middle;\n",
       "    }\n",
       "\n",
       "    .dataframe tbody tr th {\n",
       "        vertical-align: top;\n",
       "    }\n",
       "\n",
       "    .dataframe thead th {\n",
       "        text-align: right;\n",
       "    }\n",
       "</style>\n",
       "<table border=\"1\" class=\"dataframe\">\n",
       "  <thead>\n",
       "    <tr style=\"text-align: right;\">\n",
       "      <th></th>\n",
       "      <th>stat</th>\n",
       "      <th>p_value</th>\n",
       "      <th>significant</th>\n",
       "    </tr>\n",
       "  </thead>\n",
       "  <tbody>\n",
       "    <tr>\n",
       "      <th>iou</th>\n",
       "      <td>8.0</td>\n",
       "      <td>0.50000</td>\n",
       "      <td>False</td>\n",
       "    </tr>\n",
       "    <tr>\n",
       "      <th>precision</th>\n",
       "      <td>7.0</td>\n",
       "      <td>0.59375</td>\n",
       "      <td>False</td>\n",
       "    </tr>\n",
       "    <tr>\n",
       "      <th>recall</th>\n",
       "      <td>4.0</td>\n",
       "      <td>0.84375</td>\n",
       "      <td>False</td>\n",
       "    </tr>\n",
       "    <tr>\n",
       "      <th>f1</th>\n",
       "      <td>6.0</td>\n",
       "      <td>0.68750</td>\n",
       "      <td>False</td>\n",
       "    </tr>\n",
       "  </tbody>\n",
       "</table>\n",
       "</div>"
      ],
      "text/plain": [
       "           stat  p_value  significant\n",
       "iou         8.0  0.50000        False\n",
       "precision   7.0  0.59375        False\n",
       "recall      4.0  0.84375        False\n",
       "f1          6.0  0.68750        False"
      ]
     },
     "execution_count": 383,
     "metadata": {},
     "output_type": "execute_result"
    }
   ],
   "source": [
    "compute_wilcoxon(isa_rpn, vanilla_rpn, isa_rpn.columns.tolist())"
   ]
  },
  {
   "cell_type": "markdown",
   "metadata": {},
   "source": [
    "### ISA-ViT vs ViT (ISA-RPN)\n"
   ]
  },
  {
   "cell_type": "code",
   "execution_count": 384,
   "metadata": {},
   "outputs": [
    {
     "data": {
      "text/plain": [
       "(dice         0.0\n",
       " precision    0.0\n",
       " recall       0.0\n",
       " f1           0.0\n",
       " fpr          0.0\n",
       " dtype: float64,\n",
       " dice         0.0\n",
       " precision    0.0\n",
       " recall       0.0\n",
       " f1           0.0\n",
       " fpr          0.0\n",
       " dtype: float64)"
      ]
     },
     "execution_count": 384,
     "metadata": {},
     "output_type": "execute_result"
    }
   ],
   "source": [
    "isa_rpn_isa_vit.mean(), isa_rpn_isa_vit.std()"
   ]
  },
  {
   "cell_type": "code",
   "execution_count": 385,
   "metadata": {},
   "outputs": [
    {
     "data": {
      "text/plain": [
       "(dice         0.0\n",
       " precision    0.0\n",
       " recall       0.0\n",
       " f1           0.0\n",
       " fpr          0.0\n",
       " dtype: float64,\n",
       " dice         0.0\n",
       " precision    0.0\n",
       " recall       0.0\n",
       " f1           0.0\n",
       " fpr          0.0\n",
       " dtype: float64)"
      ]
     },
     "execution_count": 385,
     "metadata": {},
     "output_type": "execute_result"
    }
   ],
   "source": [
    "isa_rpn_vit.mean(), isa_rpn_vit.std()"
   ]
  },
  {
   "cell_type": "code",
   "execution_count": 386,
   "metadata": {},
   "outputs": [
    {
     "data": {
      "text/html": [
       "<div>\n",
       "<style scoped>\n",
       "    .dataframe tbody tr th:only-of-type {\n",
       "        vertical-align: middle;\n",
       "    }\n",
       "\n",
       "    .dataframe tbody tr th {\n",
       "        vertical-align: top;\n",
       "    }\n",
       "\n",
       "    .dataframe thead th {\n",
       "        text-align: right;\n",
       "    }\n",
       "</style>\n",
       "<table border=\"1\" class=\"dataframe\">\n",
       "  <thead>\n",
       "    <tr style=\"text-align: right;\">\n",
       "      <th></th>\n",
       "      <th>stat</th>\n",
       "      <th>p_value</th>\n",
       "      <th>significant</th>\n",
       "    </tr>\n",
       "  </thead>\n",
       "  <tbody>\n",
       "    <tr>\n",
       "      <th>dice</th>\n",
       "      <td>0</td>\n",
       "      <td>1</td>\n",
       "      <td>False</td>\n",
       "    </tr>\n",
       "    <tr>\n",
       "      <th>precision</th>\n",
       "      <td>0</td>\n",
       "      <td>1</td>\n",
       "      <td>False</td>\n",
       "    </tr>\n",
       "    <tr>\n",
       "      <th>recall</th>\n",
       "      <td>0</td>\n",
       "      <td>1</td>\n",
       "      <td>False</td>\n",
       "    </tr>\n",
       "    <tr>\n",
       "      <th>f1</th>\n",
       "      <td>0</td>\n",
       "      <td>1</td>\n",
       "      <td>False</td>\n",
       "    </tr>\n",
       "    <tr>\n",
       "      <th>fpr</th>\n",
       "      <td>0</td>\n",
       "      <td>1</td>\n",
       "      <td>False</td>\n",
       "    </tr>\n",
       "  </tbody>\n",
       "</table>\n",
       "</div>"
      ],
      "text/plain": [
       "           stat  p_value  significant\n",
       "dice          0        1        False\n",
       "precision     0        1        False\n",
       "recall        0        1        False\n",
       "f1            0        1        False\n",
       "fpr           0        1        False"
      ]
     },
     "execution_count": 386,
     "metadata": {},
     "output_type": "execute_result"
    }
   ],
   "source": [
    "compute_wilcoxon(isa_rpn_isa_vit, isa_rpn_vit, isa_rpn_isa_vit.columns.tolist())"
   ]
  },
  {
   "cell_type": "markdown",
   "metadata": {},
   "source": [
    "### ISA-ViT vs ViT (RPN)\n"
   ]
  },
  {
   "cell_type": "code",
   "execution_count": 387,
   "metadata": {},
   "outputs": [
    {
     "data": {
      "text/plain": [
       "(dice         0.0\n",
       " precision    0.0\n",
       " recall       0.0\n",
       " f1           0.0\n",
       " fpr          0.0\n",
       " dtype: float64,\n",
       " dice         0.0\n",
       " precision    0.0\n",
       " recall       0.0\n",
       " f1           0.0\n",
       " fpr          0.0\n",
       " dtype: float64)"
      ]
     },
     "execution_count": 387,
     "metadata": {},
     "output_type": "execute_result"
    }
   ],
   "source": [
    "rpn_isa_vit.mean(), rpn_isa_vit.std()"
   ]
  },
  {
   "cell_type": "code",
   "execution_count": 388,
   "metadata": {},
   "outputs": [
    {
     "data": {
      "text/plain": [
       "(dice         0.0\n",
       " precision    0.0\n",
       " recall       0.0\n",
       " f1           0.0\n",
       " fpr          0.0\n",
       " dtype: float64,\n",
       " dice         0.0\n",
       " precision    0.0\n",
       " recall       0.0\n",
       " f1           0.0\n",
       " fpr          0.0\n",
       " dtype: float64)"
      ]
     },
     "execution_count": 388,
     "metadata": {},
     "output_type": "execute_result"
    }
   ],
   "source": [
    "rpn_vit.mean(), rpn_vit.std()"
   ]
  },
  {
   "cell_type": "code",
   "execution_count": 389,
   "metadata": {},
   "outputs": [
    {
     "data": {
      "text/html": [
       "<div>\n",
       "<style scoped>\n",
       "    .dataframe tbody tr th:only-of-type {\n",
       "        vertical-align: middle;\n",
       "    }\n",
       "\n",
       "    .dataframe tbody tr th {\n",
       "        vertical-align: top;\n",
       "    }\n",
       "\n",
       "    .dataframe thead th {\n",
       "        text-align: right;\n",
       "    }\n",
       "</style>\n",
       "<table border=\"1\" class=\"dataframe\">\n",
       "  <thead>\n",
       "    <tr style=\"text-align: right;\">\n",
       "      <th></th>\n",
       "      <th>stat</th>\n",
       "      <th>p_value</th>\n",
       "      <th>significant</th>\n",
       "    </tr>\n",
       "  </thead>\n",
       "  <tbody>\n",
       "    <tr>\n",
       "      <th>dice</th>\n",
       "      <td>0</td>\n",
       "      <td>1</td>\n",
       "      <td>False</td>\n",
       "    </tr>\n",
       "    <tr>\n",
       "      <th>precision</th>\n",
       "      <td>0</td>\n",
       "      <td>1</td>\n",
       "      <td>False</td>\n",
       "    </tr>\n",
       "    <tr>\n",
       "      <th>recall</th>\n",
       "      <td>0</td>\n",
       "      <td>1</td>\n",
       "      <td>False</td>\n",
       "    </tr>\n",
       "    <tr>\n",
       "      <th>f1</th>\n",
       "      <td>0</td>\n",
       "      <td>1</td>\n",
       "      <td>False</td>\n",
       "    </tr>\n",
       "    <tr>\n",
       "      <th>fpr</th>\n",
       "      <td>0</td>\n",
       "      <td>1</td>\n",
       "      <td>False</td>\n",
       "    </tr>\n",
       "  </tbody>\n",
       "</table>\n",
       "</div>"
      ],
      "text/plain": [
       "           stat  p_value  significant\n",
       "dice          0        1        False\n",
       "precision     0        1        False\n",
       "recall        0        1        False\n",
       "f1            0        1        False\n",
       "fpr           0        1        False"
      ]
     },
     "execution_count": 389,
     "metadata": {},
     "output_type": "execute_result"
    }
   ],
   "source": [
    "compute_wilcoxon(rpn_isa_vit, rpn_vit, rpn_isa_vit.columns.tolist())"
   ]
  },
  {
   "cell_type": "markdown",
   "metadata": {},
   "source": [
    "### ISA-ViT vs ViT (Perfect Bounding Boxes)\n"
   ]
  },
  {
   "cell_type": "code",
   "execution_count": 390,
   "metadata": {},
   "outputs": [
    {
     "data": {
      "text/plain": [
       "(dice         49.684211\n",
       " precision    61.052632\n",
       " recall       45.456140\n",
       " f1           49.684211\n",
       " fpr           0.013464\n",
       " dtype: float64,\n",
       " dice         22.562931\n",
       " precision    29.679731\n",
       " recall       20.025703\n",
       " f1           22.562931\n",
       " fpr           0.010098\n",
       " dtype: float64)"
      ]
     },
     "execution_count": 390,
     "metadata": {},
     "output_type": "execute_result"
    }
   ],
   "source": [
    "pb_isa_vit.mean(), pb_isa_vit.std()"
   ]
  },
  {
   "cell_type": "code",
   "execution_count": 391,
   "metadata": {},
   "outputs": [
    {
     "data": {
      "text/plain": [
       "(dice         0.0\n",
       " precision    0.0\n",
       " recall       0.0\n",
       " f1           0.0\n",
       " fpr          0.0\n",
       " dtype: float64,\n",
       " dice         0.0\n",
       " precision    0.0\n",
       " recall       0.0\n",
       " f1           0.0\n",
       " fpr          0.0\n",
       " dtype: float64)"
      ]
     },
     "execution_count": 391,
     "metadata": {},
     "output_type": "execute_result"
    }
   ],
   "source": [
    "pb_vanilla_vit.mean(), pb_vanilla_vit.std()"
   ]
  },
  {
   "cell_type": "code",
   "execution_count": 392,
   "metadata": {},
   "outputs": [
    {
     "name": "stderr",
     "output_type": "stream",
     "text": [
      "d:\\Programming Files\\Python\\Lib\\site-packages\\scipy\\stats\\_axis_nan_policy.py:531: UserWarning: Exact p-value calculation does not work if there are zeros. Switching to normal approximation.\n",
      "  res = hypotest_fun_out(*samples, **kwds)\n",
      "d:\\Programming Files\\Python\\Lib\\site-packages\\scipy\\stats\\_axis_nan_policy.py:531: UserWarning: Sample size too small for normal approximation.\n",
      "  res = hypotest_fun_out(*samples, **kwds)\n"
     ]
    },
    {
     "data": {
      "text/html": [
       "<div>\n",
       "<style scoped>\n",
       "    .dataframe tbody tr th:only-of-type {\n",
       "        vertical-align: middle;\n",
       "    }\n",
       "\n",
       "    .dataframe tbody tr th {\n",
       "        vertical-align: top;\n",
       "    }\n",
       "\n",
       "    .dataframe thead th {\n",
       "        text-align: right;\n",
       "    }\n",
       "</style>\n",
       "<table border=\"1\" class=\"dataframe\">\n",
       "  <thead>\n",
       "    <tr style=\"text-align: right;\">\n",
       "      <th></th>\n",
       "      <th>stat</th>\n",
       "      <th>p_value</th>\n",
       "      <th>significant</th>\n",
       "    </tr>\n",
       "  </thead>\n",
       "  <tbody>\n",
       "    <tr>\n",
       "      <th>dice</th>\n",
       "      <td>15.0</td>\n",
       "      <td>0.031250</td>\n",
       "      <td>True</td>\n",
       "    </tr>\n",
       "    <tr>\n",
       "      <th>precision</th>\n",
       "      <td>15.0</td>\n",
       "      <td>0.031250</td>\n",
       "      <td>True</td>\n",
       "    </tr>\n",
       "    <tr>\n",
       "      <th>recall</th>\n",
       "      <td>15.0</td>\n",
       "      <td>0.031250</td>\n",
       "      <td>True</td>\n",
       "    </tr>\n",
       "    <tr>\n",
       "      <th>f1</th>\n",
       "      <td>15.0</td>\n",
       "      <td>0.031250</td>\n",
       "      <td>True</td>\n",
       "    </tr>\n",
       "    <tr>\n",
       "      <th>fpr</th>\n",
       "      <td>10.0</td>\n",
       "      <td>0.029391</td>\n",
       "      <td>True</td>\n",
       "    </tr>\n",
       "  </tbody>\n",
       "</table>\n",
       "</div>"
      ],
      "text/plain": [
       "           stat   p_value  significant\n",
       "dice       15.0  0.031250         True\n",
       "precision  15.0  0.031250         True\n",
       "recall     15.0  0.031250         True\n",
       "f1         15.0  0.031250         True\n",
       "fpr        10.0  0.029391         True"
      ]
     },
     "execution_count": 392,
     "metadata": {},
     "output_type": "execute_result"
    }
   ],
   "source": [
    "compute_wilcoxon(pb_isa_vit, pb_vanilla_vit, pb_isa_vit.columns.tolist())"
   ]
  }
 ],
 "metadata": {
  "kernelspec": {
   "display_name": "Python 3",
   "language": "python",
   "name": "python3"
  },
  "language_info": {
   "codemirror_mode": {
    "name": "ipython",
    "version": 3
   },
   "file_extension": ".py",
   "mimetype": "text/x-python",
   "name": "python",
   "nbconvert_exporter": "python",
   "pygments_lexer": "ipython3",
   "version": "3.11.4"
  }
 },
 "nbformat": 4,
 "nbformat_minor": 2
}
