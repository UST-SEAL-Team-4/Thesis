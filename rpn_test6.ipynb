{
 "cells": [
  {
   "cell_type": "code",
   "execution_count": 1,
   "id": "121f7db6-6494-4f3a-a745-954f92bec93d",
   "metadata": {},
   "outputs": [
    {
     "name": "stderr",
     "output_type": "stream",
     "text": [
      "INFO:albumentations.check_version:A new version of Albumentations is available: 1.4.18 (you have 1.4.7). Upgrade using: pip install --upgrade albumentations\n"
     ]
    }
   ],
   "source": [
    "import torch\n",
    "import torch.nn as nn\n",
    "import pandas as pd\n",
    "from project.dataset import Dataset, VALDODataset\n",
    "from torch.utils.data import DataLoader\n",
    "from project.preprocessing import NiftiToTensorTransform, z_score_normalization\n",
    "from project.utils import collate_fn, plot_mri_slice, plot_all_slices, plot_all_slices_from_array, collatev2\n",
    "import winsound"
   ]
  },
  {
   "cell_type": "code",
   "execution_count": 2,
   "id": "66818e02-c362-4bd6-853e-ce2e866e5147",
   "metadata": {},
   "outputs": [
    {
     "data": {
      "text/plain": [
       "'cuda'"
      ]
     },
     "execution_count": 2,
     "metadata": {},
     "output_type": "execute_result"
    }
   ],
   "source": [
    "import logging\n",
    "logger = logging.getLogger('andy')\n",
    "fh = logging.FileHandler('andy.log')\n",
    "formatter = logging.Formatter(\n",
    "    '%(asctime)s - %(levelname)s - %(message)s'\n",
    ")\n",
    "\n",
    "logger.setLevel(logging.DEBUG)\n",
    "fh.setLevel(logging.DEBUG)\n",
    "fh.setFormatter(formatter)\n",
    "\n",
    "logger.addHandler(fh)\n",
    "\n",
    "device = 'cuda' if torch.cuda.is_available() else 'cpu'\n",
    "device"
   ]
  },
  {
   "cell_type": "code",
   "execution_count": 3,
   "id": "718e7b92-bec7-4743-b58c-20eaa5a0e568",
   "metadata": {},
   "outputs": [],
   "source": [
    "ds = Dataset()\n",
    "\n",
    "data = pd.read_csv('targets.csv')"
   ]
  },
  {
   "cell_type": "raw",
   "id": "d04f2d30-c36a-4aa8-b54b-bf4ac319f889",
   "metadata": {},
   "source": [
    "ch1 = ds.load_raw_mri(1)\n",
    "data = data[data.mri.isin(ch1)]"
   ]
  },
  {
   "cell_type": "code",
   "execution_count": 4,
   "id": "b9df301c-e456-4f73-8bb3-7e57318193a1",
   "metadata": {},
   "outputs": [],
   "source": [
    "transform = NiftiToTensorTransform(target_shape = (50, 50), rpn_mode=True)\n",
    "\n",
    "cases = data.mri\n",
    "masks = data.masks\n",
    "target = data.target"
   ]
  },
  {
   "cell_type": "code",
   "execution_count": 5,
   "id": "bcb8c703-8b31-4e0b-b7ef-1b457711d8c6",
   "metadata": {},
   "outputs": [],
   "source": [
    "dataset = VALDODataset(\n",
    "    cases=cases,\n",
    "    masks=masks,\n",
    "    target=target,\n",
    "    transform=transform,\n",
    "    normalization=z_score_normalization,\n",
    ")"
   ]
  },
  {
   "cell_type": "code",
   "execution_count": 6,
   "id": "6cbafe90-95ec-4edd-93db-fae2e1cd2b34",
   "metadata": {},
   "outputs": [],
   "source": [
    "dloader = DataLoader(\n",
    "    dataset,\n",
    "    shuffle=True,\n",
    "    batch_size=2,\n",
    "    collate_fn=collatev2,\n",
    ")"
   ]
  },
  {
   "cell_type": "markdown",
   "id": "318f0084-8bfb-4d48-b3b2-54250d49f08a",
   "metadata": {},
   "source": [
    "### Config for fitter"
   ]
  },
  {
   "cell_type": "code",
   "execution_count": 7,
   "id": "30538ba9-fa5b-4c22-91f0-73db35830980",
   "metadata": {},
   "outputs": [
    {
     "name": "stderr",
     "output_type": "stream",
     "text": [
      "C:\\Program Files\\Python310\\lib\\site-packages\\torch\\nn\\modules\\transformer.py:306: UserWarning: enable_nested_tensor is True, but self.use_nested_tensor is False because encoder_layer.self_attn.batch_first was not True(use batch_first for better inference performance)\n",
      "  warnings.warn(f\"enable_nested_tensor is True, but self.use_nested_tensor is False because {why_not_sparsity_fast_path}\")\n"
     ]
    }
   ],
   "source": [
    "from project.model import RPN\n",
    "\n",
    "config = {\n",
    "    'model': RPN(50**2, 4, 5, 2500).to(device),\n",
    "    'optimizer': torch.optim.Adam,\n",
    "    'device': device,\n",
    "    'epochs': 1,\n",
    "    'loss': nn.SmoothL1Loss(),\n",
    "    # 'loss': nn.MSELoss(),\n",
    "    'lr': 0.0000001\n",
    "}"
   ]
  },
  {
   "cell_type": "markdown",
   "id": "1f62f8ab-90d2-4601-aa21-5b7393ccd24d",
   "metadata": {},
   "source": [
    "### Sample trial"
   ]
  },
  {
   "cell_type": "code",
   "execution_count": 40,
   "id": "c7f2e01a-4dbd-47d0-800a-d238074e6ee3",
   "metadata": {},
   "outputs": [
    {
     "name": "stderr",
     "output_type": "stream",
     "text": [
      "pixdim[0] (qfac) should be 1 (default) or -1; setting qfac to 1\n",
      "INFO:nibabel.global:pixdim[0] (qfac) should be 1 (default) or -1; setting qfac to 1\n",
      "pixdim[0] (qfac) should be 1 (default) or -1; setting qfac to 1\n",
      "INFO:nibabel.global:pixdim[0] (qfac) should be 1 (default) or -1; setting qfac to 1\n"
     ]
    }
   ],
   "source": [
    "sample = next(enumerate(dloader))"
   ]
  },
  {
   "cell_type": "code",
   "execution_count": 41,
   "id": "2ccc5db7-3ee7-4a26-a59a-0cb8f11bf043",
   "metadata": {},
   "outputs": [],
   "source": [
    "model = config['model']"
   ]
  },
  {
   "cell_type": "code",
   "execution_count": 42,
   "id": "5179935b-3de6-47db-9b04-96125a13c58f",
   "metadata": {},
   "outputs": [],
   "source": [
    "loss = config['loss']"
   ]
  },
  {
   "cell_type": "code",
   "execution_count": 43,
   "id": "19c9079d-c39d-4aed-8f11-fec6e780e01e",
   "metadata": {},
   "outputs": [],
   "source": [
    "slices, masks, target, case = sample[1][0]"
   ]
  },
  {
   "cell_type": "code",
   "execution_count": 44,
   "id": "322b1499-9a03-466b-9586-7dd1a5babe23",
   "metadata": {},
   "outputs": [],
   "source": [
    "num_slices = slices.shape[0]\n",
    "x = slices.view(num_slices, 1, -1).float().to(device)\n",
    "masks = masks.view(num_slices, 1, -1).float().to(device)"
   ]
  },
  {
   "cell_type": "code",
   "execution_count": 45,
   "id": "ff85612c-43fd-4ade-9ada-cb0af7b666af",
   "metadata": {},
   "outputs": [],
   "source": [
    "y1 = model(x, target)"
   ]
  },
  {
   "cell_type": "code",
   "execution_count": 46,
   "id": "0e068fc6-f9fd-4057-a91b-afcc659e2a4f",
   "metadata": {},
   "outputs": [],
   "source": [
    "slices, masks, target, case = sample[1][1]"
   ]
  },
  {
   "cell_type": "code",
   "execution_count": 47,
   "id": "467ac31f-81f7-48c4-aa3a-2708334b6878",
   "metadata": {},
   "outputs": [],
   "source": [
    "num_slices = slices.shape[0]\n",
    "x = slices.view(num_slices, 1, -1).float().to(device)\n",
    "masks = masks.view(num_slices, 1, -1).float().to(device)"
   ]
  },
  {
   "cell_type": "code",
   "execution_count": 48,
   "id": "379c2192-2aa3-44d6-b48a-545cd152cef4",
   "metadata": {},
   "outputs": [],
   "source": [
    "y2 = model(x, target)"
   ]
  },
  {
   "cell_type": "code",
   "execution_count": 49,
   "id": "a1adf081-f7d9-47cc-acdc-fa7f0bc04a0a",
   "metadata": {},
   "outputs": [
    {
     "data": {
      "text/plain": [
       "tensor([[[12.4023, 29.6875, 12.7930, 30.0781]]], dtype=torch.float64)"
      ]
     },
     "execution_count": 49,
     "metadata": {},
     "output_type": "execute_result"
    }
   ],
   "source": [
    "sample[1][1][1][sample[1][1][2]]"
   ]
  },
  {
   "cell_type": "code",
   "execution_count": 50,
   "id": "45301ec9-a64f-47e0-9e6e-6e88bf6559a2",
   "metadata": {},
   "outputs": [],
   "source": [
    "t1 = sample[1][0][1][sample[1][0][2]].float().to(device)\n",
    "t2 = sample[1][1][1][sample[1][1][2]].float().to(device)"
   ]
  },
  {
   "cell_type": "code",
   "execution_count": 51,
   "id": "fe162182-9178-42a4-a220-909fcfeec67a",
   "metadata": {},
   "outputs": [],
   "source": [
    "Y = [y1, y2]\n",
    "T = [t1, t2]"
   ]
  },
  {
   "cell_type": "code",
   "execution_count": 67,
   "id": "0a4a3d0d-40a9-45dd-befd-7e5571d8500e",
   "metadata": {},
   "outputs": [
    {
     "data": {
      "text/plain": [
       "tensor(10.3537, device='cuda:0', grad_fn=<SmoothL1LossBackward0>)"
      ]
     },
     "execution_count": 67,
     "metadata": {},
     "output_type": "execute_result"
    }
   ],
   "source": [
    "loss(torch.stack(Y), torch.stack(T))"
   ]
  },
  {
   "cell_type": "markdown",
   "id": "88178d93-ca75-4c0c-90b3-70305648dbba",
   "metadata": {},
   "source": [
    "### Fitter"
   ]
  },
  {
   "cell_type": "code",
   "execution_count": null,
   "id": "9bab35f8-a084-41cb-8f20-61488cecd7ff",
   "metadata": {},
   "outputs": [],
   "source": [
    "from project import Fitter\n",
    "\n",
    "class RPNFitter(Fitter):\n",
    "    def train_one_epoch(self, train_loader):\n",
    "        self.model.train()\n",
    "        loss_history = []\n",
    "        counter = 0\n",
    "        for batch in train_loader:\n",
    "            \n",
    "        for slices, masks, targets, cases in train_loader:\n",
    "            target = targets[0]\n",
    "            num_slices = slices.shape[0]\n",
    "            x = slices.view(num_slices, 1, -1).float().to(self.device)\n",
    "            masks = masks.view(num_slices, 1, -1).float().to(self.device)\n",
    "            y = self.model(x, target)\n",
    "            losses = self.loss(y, masks[target])\n",
    "            loss_history.append(losses)\n",
    "            self.optimizer.zero_grad()\n",
    "            losses.backward()\n",
    "            self.optimizer.step()\n",
    "            counter += 1\n",
    "            if counter % 50 == 0:\n",
    "                logger.info(f'Progress:\\t{counter}/{len(dataset)}')\n",
    "                logger.info(f'Current error:\\t{losses}')\n",
    "            \n",
    "        return loss_history"
   ]
  },
  {
   "cell_type": "code",
   "execution_count": null,
   "id": "cc240f7b-ba66-43df-a28b-fc82b5adf446",
   "metadata": {},
   "outputs": [],
   "source": [
    "fitter = RPNFitter(config)"
   ]
  },
  {
   "cell_type": "markdown",
   "id": "3dadf7e4-cd5f-4289-aa81-c89866880849",
   "metadata": {},
   "source": [
    "### Training"
   ]
  },
  {
   "cell_type": "code",
   "execution_count": null,
   "id": "bc177d08-df24-4a62-9197-0f7ad97606ba",
   "metadata": {},
   "outputs": [],
   "source": [
    "hist = fitter.fit(dloader, dloader)"
   ]
  },
  {
   "cell_type": "code",
   "execution_count": null,
   "id": "8f7bc13c-efc7-49d4-9819-edd10caf9d0e",
   "metadata": {},
   "outputs": [],
   "source": [
    "winsound.Beep(500, 500)\n",
    "winsound.Beep(500, 500)\n",
    "winsound.Beep(500, 500)"
   ]
  },
  {
   "cell_type": "code",
   "execution_count": null,
   "id": "d21845c8-7fed-4dac-a04a-4ef222d0c0fa",
   "metadata": {},
   "outputs": [],
   "source": [
    "import seaborn as sns\n",
    "\n",
    "sns.lineplot(torch.tensor(hist[0]))"
   ]
  },
  {
   "cell_type": "markdown",
   "id": "35d406c3-55f4-4774-8da0-b0d3d373fab6",
   "metadata": {},
   "source": [
    "# Summary"
   ]
  }
 ],
 "metadata": {
  "kernelspec": {
   "display_name": "Python 3 (ipykernel)",
   "language": "python",
   "name": "python3"
  },
  "language_info": {
   "codemirror_mode": {
    "name": "ipython",
    "version": 3
   },
   "file_extension": ".py",
   "mimetype": "text/x-python",
   "name": "python",
   "nbconvert_exporter": "python",
   "pygments_lexer": "ipython3",
   "version": "3.10.5"
  }
 },
 "nbformat": 4,
 "nbformat_minor": 5
}
