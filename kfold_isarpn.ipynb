{
 "cells": [
  {
   "cell_type": "code",
   "execution_count": 107,
   "metadata": {},
   "outputs": [],
   "source": [
    "import torch\n",
    "import torch.nn as nn\n",
    "import pandas as pd\n",
    "from project.dataset import Dataset, VALDODataset\n",
    "from torch.utils.data import DataLoader\n",
    "from project.preprocessing import NiftiToTensorTransform\n",
    "from project.utils import collatev2\n",
    "import winsound\n",
    "from project.utils import compute_statistics\n",
    "from project.evaluation import isa_rpn_metric, Tracker"
   ]
  },
  {
   "cell_type": "code",
   "execution_count": 108,
   "metadata": {},
   "outputs": [],
   "source": [
    "t = Tracker()"
   ]
  },
  {
   "cell_type": "code",
   "execution_count": 109,
   "metadata": {},
   "outputs": [
    {
     "data": {
      "text/plain": [
       "'Nov_17_2024_104536'"
      ]
     },
     "execution_count": 109,
     "metadata": {},
     "output_type": "execute_result"
    }
   ],
   "source": [
    "import logging\n",
    "from datetime import datetime as dtt\n",
    "import os\n",
    "\n",
    "path = 'logs'\n",
    "os.makedirs(path, exist_ok=True)\n",
    "os.makedirs('history', exist_ok=True)\n",
    "rn = dtt.now()\n",
    "dte = rn.strftime('%b_%d_%Y_%H%M%S')\n",
    "\n",
    "logger = logging.getLogger('andy')\n",
    "fh = logging.FileHandler(f'logs/{dte}.log')\n",
    "formatter = logging.Formatter(\n",
    "    '%(asctime)s - %(levelname)s - %(message)s'\n",
    ")\n",
    "\n",
    "logger.setLevel(logging.DEBUG)\n",
    "fh.setLevel(logging.DEBUG)\n",
    "fh.setFormatter(formatter)\n",
    "\n",
    "logger.addHandler(fh)\n",
    "\n",
    "t.date = rn\n",
    "t.logfile = f'{dte}.log'\n",
    "\n",
    "dte"
   ]
  },
  {
   "cell_type": "code",
   "execution_count": 110,
   "metadata": {},
   "outputs": [
    {
     "data": {
      "text/plain": [
       "'cuda'"
      ]
     },
     "execution_count": 110,
     "metadata": {},
     "output_type": "execute_result"
    }
   ],
   "source": [
    "device = 'cuda' if torch.cuda.is_available() else 'cpu'\n",
    "t.device = device\n",
    "device"
   ]
  },
  {
   "cell_type": "markdown",
   "metadata": {},
   "source": [
    "### Config for fitter\n"
   ]
  },
  {
   "cell_type": "code",
   "execution_count": 111,
   "metadata": {},
   "outputs": [
    {
     "name": "stdout",
     "output_type": "stream",
     "text": [
      "324\n"
     ]
    },
    {
     "name": "stderr",
     "output_type": "stream",
     "text": [
      "d:\\Programming Files\\Python\\Lib\\site-packages\\torch\\nn\\modules\\transformer.py:306: UserWarning: enable_nested_tensor is True, but self.use_nested_tensor is False because encoder_layer.self_attn.batch_first was not True(use batch_first for better inference performance)\n",
      "  warnings.warn(f\"enable_nested_tensor is True, but self.use_nested_tensor is False because {why_not_sparsity_fast_path}\")\n"
     ]
    }
   ],
   "source": [
    "from project.model import RPN\n",
    "\n",
    "config = {\n",
    "    'model': RPN(\n",
    "        input_dim=512,\n",
    "        output_dim=4,\n",
    "        image_size=300,\n",
    "        nh=4,\n",
    "        # pretrained=True\n",
    "    ).to(device),\n",
    "    'optimizer': torch.optim.Adam,\n",
    "    'device': device,\n",
    "    'epochs': 5,\n",
    "    'loss': nn.SmoothL1Loss(),\n",
    "    # 'loss': nn.MSELoss(),\n",
    "    # 'loss': nn.L1Loss(),\n",
    "    'lr': 0.0001\n",
    "}\n",
    "\n",
    "t.model = 'RPN'\n",
    "t.model_hyperparams = config['model'].config\n",
    "t.uses_resnet = config['model'].config['resnet']\n",
    "t.optimizer = f\"{config['optimizer']}\"\n",
    "t.epochs = config['epochs']\n",
    "t.loss = f\"{config['loss']}\"\n",
    "t.lr = config['lr']"
   ]
  },
  {
   "cell_type": "markdown",
   "metadata": {},
   "source": [
    "#### Load Pretrained Embedder\n"
   ]
  },
  {
   "cell_type": "raw",
   "metadata": {},
   "source": [
    "model = config['model']"
   ]
  },
  {
   "cell_type": "raw",
   "metadata": {},
   "source": [
    "model.embedder.load_state_dict(torch.load('weights/Encoder_weights_Final_301024012901.pt'))"
   ]
  },
  {
   "cell_type": "markdown",
   "metadata": {},
   "source": [
    "#### Load RPN Weights\n"
   ]
  },
  {
   "cell_type": "raw",
   "metadata": {},
   "source": [
    "model = config['model']\n",
    "s = 'RPN_weights_241024213949.pt'\n",
    "model.load_state_dict(torch.load(s))\n",
    "t.loaded_weights = s"
   ]
  },
  {
   "cell_type": "markdown",
   "metadata": {},
   "source": [
    "### Load dataset\n"
   ]
  },
  {
   "cell_type": "code",
   "execution_count": 112,
   "metadata": {},
   "outputs": [
    {
     "data": {
      "text/plain": [
       "(7986, 9)"
      ]
     },
     "execution_count": 112,
     "metadata": {},
     "output_type": "execute_result"
    }
   ],
   "source": [
    "ds = Dataset()\n",
    "\n",
    "data = pd.read_csv('targets.csv')\n",
    "data.shape"
   ]
  },
  {
   "cell_type": "code",
   "execution_count": 113,
   "metadata": {},
   "outputs": [
    {
     "data": {
      "text/html": [
       "<div>\n",
       "<style scoped>\n",
       "    .dataframe tbody tr th:only-of-type {\n",
       "        vertical-align: middle;\n",
       "    }\n",
       "\n",
       "    .dataframe tbody tr th {\n",
       "        vertical-align: top;\n",
       "    }\n",
       "\n",
       "    .dataframe thead th {\n",
       "        text-align: right;\n",
       "    }\n",
       "</style>\n",
       "<table border=\"1\" class=\"dataframe\">\n",
       "  <thead>\n",
       "    <tr style=\"text-align: right;\">\n",
       "      <th></th>\n",
       "      <th>mri</th>\n",
       "      <th>masks</th>\n",
       "      <th>stripped</th>\n",
       "      <th>target</th>\n",
       "      <th>has_microbleed_case</th>\n",
       "      <th>has_microbleed_slice</th>\n",
       "      <th>cohort</th>\n",
       "      <th>max_value</th>\n",
       "      <th>slices</th>\n",
       "    </tr>\n",
       "  </thead>\n",
       "  <tbody>\n",
       "    <tr>\n",
       "      <th>0</th>\n",
       "      <td>d:\\Github\\Thesis and ML Project\\Dataset\\VALDO_...</td>\n",
       "      <td>d:\\Github\\Thesis and ML Project\\Dataset\\VALDO_...</td>\n",
       "      <td>d:\\Github\\Thesis and ML Project\\Dataset\\VALDO_...</td>\n",
       "      <td>8</td>\n",
       "      <td>1</td>\n",
       "      <td>1</td>\n",
       "      <td>1</td>\n",
       "      <td>928.405273</td>\n",
       "      <td>35</td>\n",
       "    </tr>\n",
       "    <tr>\n",
       "      <th>1</th>\n",
       "      <td>d:\\Github\\Thesis and ML Project\\Dataset\\VALDO_...</td>\n",
       "      <td>d:\\Github\\Thesis and ML Project\\Dataset\\VALDO_...</td>\n",
       "      <td>d:\\Github\\Thesis and ML Project\\Dataset\\VALDO_...</td>\n",
       "      <td>9</td>\n",
       "      <td>1</td>\n",
       "      <td>1</td>\n",
       "      <td>1</td>\n",
       "      <td>928.405273</td>\n",
       "      <td>35</td>\n",
       "    </tr>\n",
       "    <tr>\n",
       "      <th>2</th>\n",
       "      <td>d:\\Github\\Thesis and ML Project\\Dataset\\VALDO_...</td>\n",
       "      <td>d:\\Github\\Thesis and ML Project\\Dataset\\VALDO_...</td>\n",
       "      <td>d:\\Github\\Thesis and ML Project\\Dataset\\VALDO_...</td>\n",
       "      <td>11</td>\n",
       "      <td>1</td>\n",
       "      <td>1</td>\n",
       "      <td>1</td>\n",
       "      <td>928.405273</td>\n",
       "      <td>35</td>\n",
       "    </tr>\n",
       "    <tr>\n",
       "      <th>3</th>\n",
       "      <td>d:\\Github\\Thesis and ML Project\\Dataset\\VALDO_...</td>\n",
       "      <td>d:\\Github\\Thesis and ML Project\\Dataset\\VALDO_...</td>\n",
       "      <td>d:\\Github\\Thesis and ML Project\\Dataset\\VALDO_...</td>\n",
       "      <td>12</td>\n",
       "      <td>1</td>\n",
       "      <td>1</td>\n",
       "      <td>1</td>\n",
       "      <td>928.405273</td>\n",
       "      <td>35</td>\n",
       "    </tr>\n",
       "    <tr>\n",
       "      <th>4</th>\n",
       "      <td>d:\\Github\\Thesis and ML Project\\Dataset\\VALDO_...</td>\n",
       "      <td>d:\\Github\\Thesis and ML Project\\Dataset\\VALDO_...</td>\n",
       "      <td>d:\\Github\\Thesis and ML Project\\Dataset\\VALDO_...</td>\n",
       "      <td>15</td>\n",
       "      <td>1</td>\n",
       "      <td>1</td>\n",
       "      <td>1</td>\n",
       "      <td>928.405273</td>\n",
       "      <td>35</td>\n",
       "    </tr>\n",
       "    <tr>\n",
       "      <th>...</th>\n",
       "      <td>...</td>\n",
       "      <td>...</td>\n",
       "      <td>...</td>\n",
       "      <td>...</td>\n",
       "      <td>...</td>\n",
       "      <td>...</td>\n",
       "      <td>...</td>\n",
       "      <td>...</td>\n",
       "      <td>...</td>\n",
       "    </tr>\n",
       "    <tr>\n",
       "      <th>359</th>\n",
       "      <td>d:\\Github\\Thesis and ML Project\\Dataset\\VALDO_...</td>\n",
       "      <td>d:\\Github\\Thesis and ML Project\\Dataset\\VALDO_...</td>\n",
       "      <td>d:\\Github\\Thesis and ML Project\\Dataset\\VALDO_...</td>\n",
       "      <td>25</td>\n",
       "      <td>1</td>\n",
       "      <td>1</td>\n",
       "      <td>3</td>\n",
       "      <td>241.000000</td>\n",
       "      <td>36</td>\n",
       "    </tr>\n",
       "    <tr>\n",
       "      <th>360</th>\n",
       "      <td>d:\\Github\\Thesis and ML Project\\Dataset\\VALDO_...</td>\n",
       "      <td>d:\\Github\\Thesis and ML Project\\Dataset\\VALDO_...</td>\n",
       "      <td>d:\\Github\\Thesis and ML Project\\Dataset\\VALDO_...</td>\n",
       "      <td>26</td>\n",
       "      <td>1</td>\n",
       "      <td>1</td>\n",
       "      <td>3</td>\n",
       "      <td>241.000000</td>\n",
       "      <td>36</td>\n",
       "    </tr>\n",
       "    <tr>\n",
       "      <th>361</th>\n",
       "      <td>d:\\Github\\Thesis and ML Project\\Dataset\\VALDO_...</td>\n",
       "      <td>d:\\Github\\Thesis and ML Project\\Dataset\\VALDO_...</td>\n",
       "      <td>d:\\Github\\Thesis and ML Project\\Dataset\\VALDO_...</td>\n",
       "      <td>24</td>\n",
       "      <td>1</td>\n",
       "      <td>1</td>\n",
       "      <td>3</td>\n",
       "      <td>448.000000</td>\n",
       "      <td>39</td>\n",
       "    </tr>\n",
       "    <tr>\n",
       "      <th>362</th>\n",
       "      <td>d:\\Github\\Thesis and ML Project\\Dataset\\VALDO_...</td>\n",
       "      <td>d:\\Github\\Thesis and ML Project\\Dataset\\VALDO_...</td>\n",
       "      <td>d:\\Github\\Thesis and ML Project\\Dataset\\VALDO_...</td>\n",
       "      <td>25</td>\n",
       "      <td>1</td>\n",
       "      <td>1</td>\n",
       "      <td>3</td>\n",
       "      <td>448.000000</td>\n",
       "      <td>39</td>\n",
       "    </tr>\n",
       "    <tr>\n",
       "      <th>363</th>\n",
       "      <td>d:\\Github\\Thesis and ML Project\\Dataset\\VALDO_...</td>\n",
       "      <td>d:\\Github\\Thesis and ML Project\\Dataset\\VALDO_...</td>\n",
       "      <td>d:\\Github\\Thesis and ML Project\\Dataset\\VALDO_...</td>\n",
       "      <td>20</td>\n",
       "      <td>1</td>\n",
       "      <td>1</td>\n",
       "      <td>3</td>\n",
       "      <td>253.000000</td>\n",
       "      <td>39</td>\n",
       "    </tr>\n",
       "  </tbody>\n",
       "</table>\n",
       "<p>364 rows × 9 columns</p>\n",
       "</div>"
      ],
      "text/plain": [
       "                                                   mri  \\\n",
       "0    d:\\Github\\Thesis and ML Project\\Dataset\\VALDO_...   \n",
       "1    d:\\Github\\Thesis and ML Project\\Dataset\\VALDO_...   \n",
       "2    d:\\Github\\Thesis and ML Project\\Dataset\\VALDO_...   \n",
       "3    d:\\Github\\Thesis and ML Project\\Dataset\\VALDO_...   \n",
       "4    d:\\Github\\Thesis and ML Project\\Dataset\\VALDO_...   \n",
       "..                                                 ...   \n",
       "359  d:\\Github\\Thesis and ML Project\\Dataset\\VALDO_...   \n",
       "360  d:\\Github\\Thesis and ML Project\\Dataset\\VALDO_...   \n",
       "361  d:\\Github\\Thesis and ML Project\\Dataset\\VALDO_...   \n",
       "362  d:\\Github\\Thesis and ML Project\\Dataset\\VALDO_...   \n",
       "363  d:\\Github\\Thesis and ML Project\\Dataset\\VALDO_...   \n",
       "\n",
       "                                                 masks  \\\n",
       "0    d:\\Github\\Thesis and ML Project\\Dataset\\VALDO_...   \n",
       "1    d:\\Github\\Thesis and ML Project\\Dataset\\VALDO_...   \n",
       "2    d:\\Github\\Thesis and ML Project\\Dataset\\VALDO_...   \n",
       "3    d:\\Github\\Thesis and ML Project\\Dataset\\VALDO_...   \n",
       "4    d:\\Github\\Thesis and ML Project\\Dataset\\VALDO_...   \n",
       "..                                                 ...   \n",
       "359  d:\\Github\\Thesis and ML Project\\Dataset\\VALDO_...   \n",
       "360  d:\\Github\\Thesis and ML Project\\Dataset\\VALDO_...   \n",
       "361  d:\\Github\\Thesis and ML Project\\Dataset\\VALDO_...   \n",
       "362  d:\\Github\\Thesis and ML Project\\Dataset\\VALDO_...   \n",
       "363  d:\\Github\\Thesis and ML Project\\Dataset\\VALDO_...   \n",
       "\n",
       "                                              stripped  target  \\\n",
       "0    d:\\Github\\Thesis and ML Project\\Dataset\\VALDO_...       8   \n",
       "1    d:\\Github\\Thesis and ML Project\\Dataset\\VALDO_...       9   \n",
       "2    d:\\Github\\Thesis and ML Project\\Dataset\\VALDO_...      11   \n",
       "3    d:\\Github\\Thesis and ML Project\\Dataset\\VALDO_...      12   \n",
       "4    d:\\Github\\Thesis and ML Project\\Dataset\\VALDO_...      15   \n",
       "..                                                 ...     ...   \n",
       "359  d:\\Github\\Thesis and ML Project\\Dataset\\VALDO_...      25   \n",
       "360  d:\\Github\\Thesis and ML Project\\Dataset\\VALDO_...      26   \n",
       "361  d:\\Github\\Thesis and ML Project\\Dataset\\VALDO_...      24   \n",
       "362  d:\\Github\\Thesis and ML Project\\Dataset\\VALDO_...      25   \n",
       "363  d:\\Github\\Thesis and ML Project\\Dataset\\VALDO_...      20   \n",
       "\n",
       "     has_microbleed_case  has_microbleed_slice  cohort   max_value  slices  \n",
       "0                      1                     1       1  928.405273      35  \n",
       "1                      1                     1       1  928.405273      35  \n",
       "2                      1                     1       1  928.405273      35  \n",
       "3                      1                     1       1  928.405273      35  \n",
       "4                      1                     1       1  928.405273      35  \n",
       "..                   ...                   ...     ...         ...     ...  \n",
       "359                    1                     1       3  241.000000      36  \n",
       "360                    1                     1       3  241.000000      36  \n",
       "361                    1                     1       3  448.000000      39  \n",
       "362                    1                     1       3  448.000000      39  \n",
       "363                    1                     1       3  253.000000      39  \n",
       "\n",
       "[364 rows x 9 columns]"
      ]
     },
     "execution_count": 113,
     "metadata": {},
     "output_type": "execute_result"
    }
   ],
   "source": [
    "data = data.query('has_microbleed_slice == 1').reset_index(drop=True)\n",
    "t.only_cmb_slices = True\n",
    "data"
   ]
  },
  {
   "cell_type": "markdown",
   "metadata": {},
   "source": [
    "### `DataLoader` Generator\n"
   ]
  },
  {
   "cell_type": "code",
   "execution_count": 114,
   "metadata": {},
   "outputs": [],
   "source": [
    "def iqr(data, col):\n",
    "    q3 = data[col].quantile(0.75)\n",
    "    q1 = data[col].quantile(0.25)\n",
    "    iqr = q3-q1\n",
    "    new = data[(data[col] < (q3 + 1.5*iqr)) & (data[col] > (q1 - 1.5*iqr))]\n",
    "    return new"
   ]
  },
  {
   "cell_type": "code",
   "execution_count": 115,
   "metadata": {},
   "outputs": [],
   "source": [
    "from sklearn.model_selection import train_test_split\n",
    "\n",
    "def make_loaders(data,\n",
    "                 cohort,\n",
    "                 batch_size,\n",
    "                 test_size=0.2,\n",
    "                 random_state=12,\n",
    "                 target_shape=(300, 300),\n",
    "                 rpn_mode=True,\n",
    "                 logger=None,\n",
    "                 tracker=t\n",
    "                ):\n",
    "    if cohort == 1:\n",
    "        t.cohort1 = True\n",
    "    if cohort == 2:\n",
    "        t.cohort2 = True\n",
    "    if cohort == 3:\n",
    "        t.cohort3 = True\n",
    "    t.batch_size = batch_size\n",
    "    t.test_size = test_size\n",
    "    t.target_shape = target_shape\n",
    "    data = data[data.cohort == cohort]\n",
    "    # data = iqr(data, 'max_value')\n",
    "    \n",
    "    s = f'Creating loaders for Cohort {cohort}\\n'\n",
    "\n",
    "    data_train, data_test = train_test_split(\n",
    "        data,\n",
    "        test_size=test_size,\n",
    "        random_state=random_state\n",
    "    )\n",
    "\n",
    "    s += f'TRAIN & TEST: {data_train.shape, data_test.shape}\\n'\n",
    "\n",
    "    paths = data_train.stripped.unique().tolist()\n",
    "    s += f'Total Unique MRI Samples in data_train: {len(paths)}\\n'\n",
    "    \n",
    "    global_min, global_max = compute_statistics(paths)\n",
    "    s += f'GLOBAL MIN & MAX {global_min, global_max}\\n'\n",
    "\n",
    "    transform = NiftiToTensorTransform(\n",
    "        target_shape=target_shape,\n",
    "        rpn_mode=rpn_mode,\n",
    "        normalization=(global_min, global_max)\n",
    "    )\n",
    "\n",
    "    train_set = VALDODataset(\n",
    "        cases=data_train.stripped.tolist(),\n",
    "        masks=data_train.masks.tolist(),\n",
    "        target=data_train.target.tolist(),\n",
    "        transform=transform\n",
    "    )\n",
    "    val_set = VALDODataset(\n",
    "        cases=data_test.stripped.tolist(),\n",
    "        masks=data_test.masks.tolist(),\n",
    "        target=data_test.target.tolist(),\n",
    "        transform=transform\n",
    "    )\n",
    "\n",
    "    train_loader = DataLoader(\n",
    "        train_set,\n",
    "        shuffle=True,\n",
    "        batch_size=batch_size,\n",
    "        collate_fn=collatev2\n",
    "    )\n",
    "    val_loader = DataLoader(\n",
    "        val_set,\n",
    "        shuffle=True,\n",
    "        batch_size=batch_size,\n",
    "        collate_fn=collatev2\n",
    "    )\n",
    "\n",
    "    if logger != None:\n",
    "        logger.info(s)\n",
    "    else:\n",
    "        print(s)\n",
    "    \n",
    "    return train_loader, val_loader, train_set, val_set"
   ]
  },
  {
   "cell_type": "markdown",
   "metadata": {},
   "source": [
    "### Fitter\n"
   ]
  },
  {
   "cell_type": "code",
   "execution_count": 116,
   "metadata": {},
   "outputs": [],
   "source": [
    "from project import Fitter\n",
    "\n",
    "class RPNFitter(Fitter):\n",
    "    def train_one_epoch(self, train_loader):\n",
    "        self.model.train()\n",
    "        loss_history = []\n",
    "        evaluation_metric = {\n",
    "            'iou_score': [], \n",
    "            'precision_score': [], \n",
    "            'recall_score': [], \n",
    "            'f1_score': []\n",
    "        }\n",
    "        counter = 0\n",
    "        for batch in train_loader:\n",
    "            # self.log('----------------- BATCH -----------------')\n",
    "            Y = []\n",
    "            T = []\n",
    "            for slices, masks, target, case in batch:\n",
    "                # x = slices.squeeze(1).repeat(1, 3, 1, 1).float().to(self.device)\n",
    "                x = slices.squeeze(1).float().to(self.device)\n",
    "                masks = masks.squeeze(1).float().to(self.device)/300\n",
    "                y = self.model(x, target)\n",
    "\n",
    "                iou_score, precision_score, recall_score, f1_score = isa_rpn_metric(image_size=300, target_bbox=masks[target], predicted_bbox=y)\n",
    "                evaluation_metric['iou_score'].append(iou_score)\n",
    "                evaluation_metric['precision_score'].append(precision_score)\n",
    "                evaluation_metric['recall_score'].append(recall_score)\n",
    "                evaluation_metric['f1_score'].append(f1_score)\n",
    "                # self.log(f'EVAL METS: {iou_score, precision_score, recall_score, f1_score}')\n",
    "                Y.append(y)\n",
    "                T.append(masks[target])\n",
    "            \n",
    "            losses = self.loss(torch.stack(Y), torch.stack(T))\n",
    "            self.optimizer.zero_grad()\n",
    "            losses.backward()\n",
    "            self.optimizer.step()\n",
    "            counter += 1\n",
    "            # if counter % len(batch) == 0:\n",
    "            self.log(f'Batch:\\t{counter}/{len(train_loader)}')\n",
    "            self.log(f'Batch samples:\\t{len(batch)}')\n",
    "            self.log(f'Current error:\\t{losses}\\n')\n",
    "            \n",
    "            \n",
    "            loss_history.append(losses.detach().cpu().numpy())\n",
    "        \n",
    "        self.log(f'\\nTraining Evaluation Metric:')\n",
    "        self.log(f\"Avg IOU: {sum(evaluation_metric['iou_score']) / len(evaluation_metric['iou_score'])}\")\n",
    "        self.log(f\"Avg Precision: {sum(evaluation_metric['precision_score']) / len(evaluation_metric['precision_score'])}\")\n",
    "        self.log(f\"Avg Recall: {sum(evaluation_metric['recall_score']) / len(evaluation_metric['recall_score'])}\")\n",
    "        self.log(f\"Avg F1: {sum(evaluation_metric['f1_score']) / len(evaluation_metric['f1_score'])}\")\n",
    "        \n",
    "        return loss_history, evaluation_metric\n",
    "    def validation(self, val_loader):\n",
    "        self.model.eval()\n",
    "        loss_history = []\n",
    "        evaluation_metric = {\n",
    "            'iou_score': [], \n",
    "            'precision_score': [], \n",
    "            'recall_score': [], \n",
    "            'f1_score': []\n",
    "        }\n",
    "        with torch.inference_mode():\n",
    "            for batch in val_loader:\n",
    "                Y = []\n",
    "                T = []\n",
    "                for slices, masks, target, case in batch:\n",
    "                    # x = slices.squeeze(1).repeat(1, 3, 1, 1).float().to(self.device)\n",
    "                    x = slices.squeeze(1).float().to(self.device)\n",
    "                    masks = masks.squeeze(1).float().to(self.device)/300\n",
    "                    y = self.model(x, target)\n",
    "                    iou_score, precision_score, recall_score, f1_score = isa_rpn_metric(image_size=300, target_bbox=masks[target], predicted_bbox=y)\n",
    "                    evaluation_metric['iou_score'].append(iou_score)\n",
    "                    evaluation_metric['precision_score'].append(precision_score)\n",
    "                    evaluation_metric['recall_score'].append(recall_score)\n",
    "                    evaluation_metric['f1_score'].append(f1_score)\n",
    "                    Y.append(y)\n",
    "                    T.append(masks[target])\n",
    "                losses = self.loss(torch.stack(Y), torch.stack(T))\n",
    "                loss_history.append(losses.cpu().numpy())\n",
    "        self.log(f'\\nValidation Evaluation Metric:')\n",
    "        self.log(f\"Avg IOU: {sum(evaluation_metric['iou_score']) / len(evaluation_metric['iou_score'])}\")\n",
    "        self.log(f\"Avg Precision: {sum(evaluation_metric['precision_score']) / len(evaluation_metric['precision_score'])}\")\n",
    "        self.log(f\"Avg Recall: {sum(evaluation_metric['recall_score']) / len(evaluation_metric['recall_score'])}\")\n",
    "        self.log(f\"Avg F1: {sum(evaluation_metric['f1_score']) / len(evaluation_metric['f1_score'])}\")\n",
    "        return loss_history, evaluation_metric\n",
    "                "
   ]
  },
  {
   "cell_type": "code",
   "execution_count": 117,
   "metadata": {},
   "outputs": [],
   "source": [
    "fitter = RPNFitter(config, logger=logger)"
   ]
  },
  {
   "cell_type": "markdown",
   "metadata": {},
   "source": [
    "### Train-Test Split\n"
   ]
  },
  {
   "cell_type": "code",
   "execution_count": 118,
   "metadata": {},
   "outputs": [
    {
     "name": "stdout",
     "output_type": "stream",
     "text": [
      "Creating loaders for Cohort 1\n",
      "TRAIN & TEST: ((36, 9), (9, 9))\n",
      "Total Unique MRI Samples in data_train: 8\n",
      "GLOBAL MIN & MAX (0.0, 1417.92822265625)\n",
      "\n",
      "Creating loaders for Cohort 3\n",
      "TRAIN & TEST: ((37, 9), (10, 9))\n",
      "Total Unique MRI Samples in data_train: 26\n",
      "GLOBAL MIN & MAX (0.0, 573.0)\n",
      "\n"
     ]
    }
   ],
   "source": [
    "_, _, t1, v1 = make_loaders(\n",
    "    data=data,\n",
    "    cohort=1,\n",
    "    batch_size=20\n",
    ")\n",
    "\n",
    "_, _, t3, v3 = make_loaders(\n",
    "    data=data,\n",
    "    cohort=3,\n",
    "    batch_size=20\n",
    ")"
   ]
  },
  {
   "cell_type": "code",
   "execution_count": 119,
   "metadata": {},
   "outputs": [],
   "source": [
    "from torch.utils.data import ConcatDataset\n",
    "\n",
    "train_set = ConcatDataset([t1, t3])\n",
    "test_set = ConcatDataset([v1, v3])"
   ]
  },
  {
   "cell_type": "code",
   "execution_count": 120,
   "metadata": {},
   "outputs": [
    {
     "data": {
      "text/plain": [
       "73"
      ]
     },
     "execution_count": 120,
     "metadata": {},
     "output_type": "execute_result"
    }
   ],
   "source": [
    "len(train_set)"
   ]
  },
  {
   "cell_type": "code",
   "execution_count": 121,
   "metadata": {},
   "outputs": [
    {
     "data": {
      "text/plain": [
       "19"
      ]
     },
     "execution_count": 121,
     "metadata": {},
     "output_type": "execute_result"
    }
   ],
   "source": [
    "len(test_set)"
   ]
  },
  {
   "cell_type": "markdown",
   "metadata": {},
   "source": [
    "### Training\n"
   ]
  },
  {
   "cell_type": "code",
   "execution_count": 122,
   "metadata": {},
   "outputs": [],
   "source": [
    "from torch.utils.data import Subset\n",
    "from sklearn.model_selection import KFold"
   ]
  },
  {
   "cell_type": "code",
   "execution_count": 123,
   "metadata": {},
   "outputs": [
    {
     "data": {
      "text/plain": [
       "KFold(n_splits=5, random_state=45, shuffle=True)"
      ]
     },
     "execution_count": 123,
     "metadata": {},
     "output_type": "execute_result"
    }
   ],
   "source": [
    "kf = KFold(n_splits=5, shuffle=True, random_state=45)\n",
    "kf"
   ]
  },
  {
   "cell_type": "code",
   "execution_count": 124,
   "metadata": {},
   "outputs": [
    {
     "name": "stderr",
     "output_type": "stream",
     "text": [
      "d:\\Programming Files\\Python\\Lib\\site-packages\\torch\\nn\\modules\\transformer.py:306: UserWarning: enable_nested_tensor is True, but self.use_nested_tensor is False because encoder_layer.self_attn.batch_first was not True(use batch_first for better inference performance)\n",
      "  warnings.warn(f\"enable_nested_tensor is True, but self.use_nested_tensor is False because {why_not_sparsity_fast_path}\")\n",
      "INFO:andy:EPOCH 0 ==============================\n"
     ]
    },
    {
     "name": "stdout",
     "output_type": "stream",
     "text": [
      "Fold 1/5\n",
      "324\n"
     ]
    },
    {
     "name": "stderr",
     "output_type": "stream",
     "text": [
      "INFO:andy:Batch:\t1/3\n",
      "INFO:andy:Batch samples:\t20\n",
      "INFO:andy:Current error:\t0.01666484959423542\n",
      "\n",
      "INFO:andy:Batch:\t2/3\n",
      "INFO:andy:Batch samples:\t20\n",
      "INFO:andy:Current error:\t0.01607472635805607\n",
      "\n",
      "INFO:andy:Batch:\t3/3\n",
      "INFO:andy:Batch samples:\t18\n",
      "INFO:andy:Current error:\t0.015667786821722984\n",
      "\n",
      "INFO:andy:\n",
      "Training Evaluation Metric:\n",
      "INFO:andy:Avg IOU: 0.16067088051329784\n",
      "INFO:andy:Avg Precision: 0.37718253813940905\n",
      "INFO:andy:Avg Recall: 0.25392052004161964\n",
      "INFO:andy:Avg F1: 0.24461817992690565\n",
      "INFO:andy:\n",
      "Validation Evaluation Metric:\n",
      "INFO:andy:Avg IOU: 0.30635905812184017\n",
      "INFO:andy:Avg Precision: 0.40273240953683853\n",
      "INFO:andy:Avg Recall: 0.6249932497739792\n",
      "INFO:andy:Avg F1: 0.4419390549262365\n",
      "INFO:andy:EPOCH 1 ==============================\n",
      "INFO:andy:Batch:\t1/3\n",
      "INFO:andy:Batch samples:\t20\n",
      "INFO:andy:Current error:\t0.011738146655261517\n",
      "\n",
      "INFO:andy:Batch:\t2/3\n",
      "INFO:andy:Batch samples:\t20\n",
      "INFO:andy:Current error:\t0.01730279251933098\n",
      "\n",
      "INFO:andy:Batch:\t3/3\n",
      "INFO:andy:Batch samples:\t18\n",
      "INFO:andy:Current error:\t0.012908472679555416\n",
      "\n",
      "INFO:andy:\n",
      "Training Evaluation Metric:\n",
      "INFO:andy:Avg IOU: 0.26247377719344767\n",
      "INFO:andy:Avg Precision: 0.3530593799619839\n",
      "INFO:andy:Avg Recall: 0.5865963689725975\n",
      "INFO:andy:Avg F1: 0.3948039584632578\n",
      "INFO:andy:\n",
      "Validation Evaluation Metric:\n",
      "INFO:andy:Avg IOU: 0.314821457862854\n",
      "INFO:andy:Avg Precision: 0.37636786699295044\n",
      "INFO:andy:Avg Recall: 0.6967400173346202\n",
      "INFO:andy:Avg F1: 0.45334148705005645\n",
      "INFO:andy:EPOCH 2 ==============================\n",
      "INFO:andy:Batch:\t1/3\n",
      "INFO:andy:Batch samples:\t20\n",
      "INFO:andy:Current error:\t0.016460958868265152\n",
      "\n",
      "INFO:andy:Batch:\t2/3\n",
      "INFO:andy:Batch samples:\t20\n",
      "INFO:andy:Current error:\t0.011652562767267227\n",
      "\n",
      "INFO:andy:Batch:\t3/3\n",
      "INFO:andy:Batch samples:\t18\n",
      "INFO:andy:Current error:\t0.012427005916833878\n",
      "\n",
      "INFO:andy:\n",
      "Training Evaluation Metric:\n",
      "INFO:andy:Avg IOU: 0.2825156705983882\n",
      "INFO:andy:Avg Precision: 0.364977543033531\n",
      "INFO:andy:Avg Recall: 0.6043625378595858\n",
      "INFO:andy:Avg F1: 0.4192454263343123\n",
      "INFO:andy:\n",
      "Validation Evaluation Metric:\n",
      "INFO:andy:Avg IOU: 0.30623932580153146\n",
      "INFO:andy:Avg Precision: 0.41806070506572723\n",
      "INFO:andy:Avg Recall: 0.5940890471140544\n",
      "INFO:andy:Avg F1: 0.44855406681696575\n",
      "INFO:andy:EPOCH 3 ==============================\n",
      "INFO:andy:Batch:\t1/3\n",
      "INFO:andy:Batch samples:\t20\n",
      "INFO:andy:Current error:\t0.011217158287763596\n",
      "\n",
      "INFO:andy:Batch:\t2/3\n",
      "INFO:andy:Batch samples:\t20\n",
      "INFO:andy:Current error:\t0.010247335769236088\n",
      "\n",
      "INFO:andy:Batch:\t3/3\n",
      "INFO:andy:Batch samples:\t18\n",
      "INFO:andy:Current error:\t0.014232669956982136\n",
      "\n",
      "INFO:andy:\n",
      "Training Evaluation Metric:\n",
      "INFO:andy:Avg IOU: 0.26299045116094677\n",
      "INFO:andy:Avg Precision: 0.4058570075651695\n",
      "INFO:andy:Avg Recall: 0.4622557811310579\n",
      "INFO:andy:Avg F1: 0.389230676284381\n",
      "INFO:andy:\n",
      "Validation Evaluation Metric:\n",
      "INFO:andy:Avg IOU: 0.2749614993731181\n",
      "INFO:andy:Avg Precision: 0.44281199971834817\n",
      "INFO:andy:Avg Recall: 0.49047892292340595\n",
      "INFO:andy:Avg F1: 0.4155595699946086\n",
      "INFO:andy:EPOCH 4 ==============================\n",
      "INFO:andy:Batch:\t1/3\n",
      "INFO:andy:Batch samples:\t20\n",
      "INFO:andy:Current error:\t0.012373034842312336\n",
      "\n",
      "INFO:andy:Batch:\t2/3\n",
      "INFO:andy:Batch samples:\t20\n",
      "INFO:andy:Current error:\t0.008986586704850197\n",
      "\n",
      "INFO:andy:Batch:\t3/3\n",
      "INFO:andy:Batch samples:\t18\n",
      "INFO:andy:Current error:\t0.010683193802833557\n",
      "\n",
      "INFO:andy:\n",
      "Training Evaluation Metric:\n",
      "INFO:andy:Avg IOU: 0.257193289119108\n",
      "INFO:andy:Avg Precision: 0.4625735531464733\n",
      "INFO:andy:Avg Recall: 0.40545001169987793\n",
      "INFO:andy:Avg F1: 0.38061844525409155\n",
      "INFO:andy:\n",
      "Validation Evaluation Metric:\n",
      "INFO:andy:Avg IOU: 0.2921750018994013\n",
      "INFO:andy:Avg Precision: 0.5049967656532923\n",
      "INFO:andy:Avg Recall: 0.4936779836813609\n",
      "INFO:andy:Avg F1: 0.443792591492335\n",
      "INFO:andy:EPOCH 0 ==============================\n"
     ]
    },
    {
     "name": "stdout",
     "output_type": "stream",
     "text": [
      "Fold 2/5\n",
      "324\n"
     ]
    },
    {
     "name": "stderr",
     "output_type": "stream",
     "text": [
      "INFO:andy:Batch:\t1/3\n",
      "INFO:andy:Batch samples:\t20\n",
      "INFO:andy:Current error:\t0.04044049605727196\n",
      "\n",
      "INFO:andy:Batch:\t2/3\n",
      "INFO:andy:Batch samples:\t20\n",
      "INFO:andy:Current error:\t0.020955581218004227\n",
      "\n",
      "INFO:andy:Batch:\t3/3\n",
      "INFO:andy:Batch samples:\t18\n",
      "INFO:andy:Current error:\t0.015157514251768589\n",
      "\n",
      "INFO:andy:\n",
      "Training Evaluation Metric:\n",
      "INFO:andy:Avg IOU: 0.07891540457333984\n",
      "INFO:andy:Avg Precision: 0.277870063637865\n",
      "INFO:andy:Avg Recall: 0.10841169535856822\n",
      "INFO:andy:Avg F1: 0.12373889558788004\n",
      "INFO:andy:\n",
      "Validation Evaluation Metric:\n",
      "INFO:andy:Avg IOU: 0.25450626326104003\n",
      "INFO:andy:Avg Precision: 0.2923618762443463\n",
      "INFO:andy:Avg Recall: 0.6262660324573517\n",
      "INFO:andy:Avg F1: 0.37925688351194065\n",
      "INFO:andy:EPOCH 1 ==============================\n",
      "INFO:andy:Batch:\t1/3\n",
      "INFO:andy:Batch samples:\t20\n",
      "INFO:andy:Current error:\t0.011357891373336315\n",
      "\n",
      "INFO:andy:Batch:\t2/3\n",
      "INFO:andy:Batch samples:\t20\n",
      "INFO:andy:Current error:\t0.01368112862110138\n",
      "\n",
      "INFO:andy:Batch:\t3/3\n",
      "INFO:andy:Batch samples:\t18\n",
      "INFO:andy:Current error:\t0.01744343526661396\n",
      "\n",
      "INFO:andy:\n",
      "Training Evaluation Metric:\n",
      "INFO:andy:Avg IOU: 0.2867827294073228\n",
      "INFO:andy:Avg Precision: 0.3498190725543376\n",
      "INFO:andy:Avg Recall: 0.6593567744411272\n",
      "INFO:andy:Avg F1: 0.42283770686079714\n",
      "INFO:andy:\n",
      "Validation Evaluation Metric:\n",
      "INFO:andy:Avg IOU: 0.21836941341559093\n",
      "INFO:andy:Avg Precision: 0.22994463592767717\n",
      "INFO:andy:Avg Recall: 0.8417108178138732\n",
      "INFO:andy:Avg F1: 0.34756312568982445\n",
      "INFO:andy:EPOCH 2 ==============================\n",
      "INFO:andy:Batch:\t1/3\n",
      "INFO:andy:Batch samples:\t20\n",
      "INFO:andy:Current error:\t0.015474322251975536\n",
      "\n",
      "INFO:andy:Batch:\t2/3\n",
      "INFO:andy:Batch samples:\t20\n",
      "INFO:andy:Current error:\t0.01542586088180542\n",
      "\n",
      "INFO:andy:Batch:\t3/3\n",
      "INFO:andy:Batch samples:\t18\n",
      "INFO:andy:Current error:\t0.019198348745703697\n",
      "\n",
      "INFO:andy:\n",
      "Training Evaluation Metric:\n",
      "INFO:andy:Avg IOU: 0.2820019556273674\n",
      "INFO:andy:Avg Precision: 0.30554272542739735\n",
      "INFO:andy:Avg Recall: 0.8133575140402235\n",
      "INFO:andy:Avg F1: 0.4217817135925951\n",
      "INFO:andy:\n",
      "Validation Evaluation Metric:\n",
      "INFO:andy:Avg IOU: 0.2360587830344836\n",
      "INFO:andy:Avg Precision: 0.24963054955005645\n",
      "INFO:andy:Avg Recall: 0.842160948117574\n",
      "INFO:andy:Avg F1: 0.3703722685575485\n",
      "INFO:andy:EPOCH 3 ==============================\n",
      "INFO:andy:Batch:\t1/3\n",
      "INFO:andy:Batch samples:\t20\n",
      "INFO:andy:Current error:\t0.015898123383522034\n",
      "\n",
      "INFO:andy:Batch:\t2/3\n",
      "INFO:andy:Batch samples:\t20\n",
      "INFO:andy:Current error:\t0.013811958022415638\n",
      "\n",
      "INFO:andy:Batch:\t3/3\n",
      "INFO:andy:Batch samples:\t18\n",
      "INFO:andy:Current error:\t0.011910464614629745\n",
      "\n",
      "INFO:andy:\n",
      "Training Evaluation Metric:\n",
      "INFO:andy:Avg IOU: 0.30226747969422363\n",
      "INFO:andy:Avg Precision: 0.34770552313019487\n",
      "INFO:andy:Avg Recall: 0.7512294516481203\n",
      "INFO:andy:Avg F1: 0.4434815612139887\n",
      "INFO:andy:\n",
      "Validation Evaluation Metric:\n",
      "INFO:andy:Avg IOU: 0.2695816864569982\n",
      "INFO:andy:Avg Precision: 0.3105239053567251\n",
      "INFO:andy:Avg Recall: 0.706202624241511\n",
      "INFO:andy:Avg F1: 0.41143322388331094\n",
      "INFO:andy:EPOCH 4 ==============================\n",
      "INFO:andy:Batch:\t1/3\n",
      "INFO:andy:Batch samples:\t20\n",
      "INFO:andy:Current error:\t0.00870034284889698\n",
      "\n",
      "INFO:andy:Batch:\t2/3\n",
      "INFO:andy:Batch samples:\t20\n",
      "INFO:andy:Current error:\t0.009162697941064835\n",
      "\n",
      "INFO:andy:Batch:\t3/3\n",
      "INFO:andy:Batch samples:\t18\n",
      "INFO:andy:Current error:\t0.010888067074120045\n",
      "\n",
      "INFO:andy:\n",
      "Training Evaluation Metric:\n",
      "INFO:andy:Avg IOU: 0.3364851676441472\n",
      "INFO:andy:Avg Precision: 0.4561419117681939\n",
      "INFO:andy:Avg Recall: 0.5881709942016108\n",
      "INFO:andy:Avg F1: 0.47598551721151533\n",
      "INFO:andy:\n",
      "Validation Evaluation Metric:\n",
      "INFO:andy:Avg IOU: 0.254640220105648\n",
      "INFO:andy:Avg Precision: 0.36971233983834584\n",
      "INFO:andy:Avg Recall: 0.44440464675426483\n",
      "INFO:andy:Avg F1: 0.3813177734613419\n",
      "INFO:andy:EPOCH 0 ==============================\n"
     ]
    },
    {
     "name": "stdout",
     "output_type": "stream",
     "text": [
      "Fold 3/5\n",
      "324\n"
     ]
    },
    {
     "name": "stderr",
     "output_type": "stream",
     "text": [
      "INFO:andy:Batch:\t1/3\n",
      "INFO:andy:Batch samples:\t20\n",
      "INFO:andy:Current error:\t0.03691547363996506\n",
      "\n",
      "INFO:andy:Batch:\t2/3\n",
      "INFO:andy:Batch samples:\t20\n",
      "INFO:andy:Current error:\t0.013075518421828747\n",
      "\n",
      "INFO:andy:Batch:\t3/3\n",
      "INFO:andy:Batch samples:\t18\n",
      "INFO:andy:Current error:\t0.015646381303668022\n",
      "\n",
      "INFO:andy:\n",
      "Training Evaluation Metric:\n",
      "INFO:andy:Avg IOU: 0.13177059091033477\n",
      "INFO:andy:Avg Precision: 0.2796390341466357\n",
      "INFO:andy:Avg Recall: 0.19763329425617923\n",
      "INFO:andy:Avg F1: 0.20090100284794282\n",
      "INFO:andy:\n",
      "Validation Evaluation Metric:\n",
      "INFO:andy:Avg IOU: 0.26078747113545736\n",
      "INFO:andy:Avg Precision: 0.5546878904104233\n",
      "INFO:andy:Avg Recall: 0.39372831185658774\n",
      "INFO:andy:Avg F1: 0.40329591631889344\n",
      "INFO:andy:EPOCH 1 ==============================\n",
      "INFO:andy:Batch:\t1/3\n",
      "INFO:andy:Batch samples:\t20\n",
      "INFO:andy:Current error:\t0.012868580408394337\n",
      "\n",
      "INFO:andy:Batch:\t2/3\n",
      "INFO:andy:Batch samples:\t20\n",
      "INFO:andy:Current error:\t0.014916305430233479\n",
      "\n",
      "INFO:andy:Batch:\t3/3\n",
      "INFO:andy:Batch samples:\t18\n",
      "INFO:andy:Current error:\t0.015530884265899658\n",
      "\n",
      "INFO:andy:\n",
      "Training Evaluation Metric:\n",
      "INFO:andy:Avg IOU: 0.2484487878190803\n",
      "INFO:andy:Avg Precision: 0.343309189096607\n",
      "INFO:andy:Avg Recall: 0.5670193058663401\n",
      "INFO:andy:Avg F1: 0.3705233297920946\n",
      "INFO:andy:\n",
      "Validation Evaluation Metric:\n",
      "INFO:andy:Avg IOU: 0.28831647224724294\n",
      "INFO:andy:Avg Precision: 0.4221766486763954\n",
      "INFO:andy:Avg Recall: 0.5077514934043089\n",
      "INFO:andy:Avg F1: 0.4281292165319125\n",
      "INFO:andy:EPOCH 2 ==============================\n",
      "INFO:andy:Batch:\t1/3\n",
      "INFO:andy:Batch samples:\t20\n",
      "INFO:andy:Current error:\t0.01343433279544115\n",
      "\n",
      "INFO:andy:Batch:\t2/3\n",
      "INFO:andy:Batch samples:\t20\n",
      "INFO:andy:Current error:\t0.013090111315250397\n",
      "\n",
      "INFO:andy:Batch:\t3/3\n",
      "INFO:andy:Batch samples:\t18\n",
      "INFO:andy:Current error:\t0.01573929563164711\n",
      "\n",
      "INFO:andy:\n",
      "Training Evaluation Metric:\n",
      "INFO:andy:Avg IOU: 0.2699009846446329\n",
      "INFO:andy:Avg Precision: 0.3428677267330731\n",
      "INFO:andy:Avg Recall: 0.6391091442763291\n",
      "INFO:andy:Avg F1: 0.40105413859067807\n",
      "INFO:andy:\n",
      "Validation Evaluation Metric:\n",
      "INFO:andy:Avg IOU: 0.28574573025107386\n",
      "INFO:andy:Avg Precision: 0.4470275933543841\n",
      "INFO:andy:Avg Recall: 0.484492202103138\n",
      "INFO:andy:Avg F1: 0.4253062238295873\n",
      "INFO:andy:EPOCH 3 ==============================\n",
      "INFO:andy:Batch:\t1/3\n",
      "INFO:andy:Batch samples:\t20\n",
      "INFO:andy:Current error:\t0.012442191131412983\n",
      "\n",
      "INFO:andy:Batch:\t2/3\n",
      "INFO:andy:Batch samples:\t20\n",
      "INFO:andy:Current error:\t0.014317723922431469\n",
      "\n",
      "INFO:andy:Batch:\t3/3\n",
      "INFO:andy:Batch samples:\t18\n",
      "INFO:andy:Current error:\t0.009620340541005135\n",
      "\n",
      "INFO:andy:\n",
      "Training Evaluation Metric:\n",
      "INFO:andy:Avg IOU: 0.27670503629307297\n",
      "INFO:andy:Avg Precision: 0.3679150939630023\n",
      "INFO:andy:Avg Recall: 0.6039207179484696\n",
      "INFO:andy:Avg F1: 0.4089307904500386\n",
      "INFO:andy:\n",
      "Validation Evaluation Metric:\n",
      "INFO:andy:Avg IOU: 0.25286316871643066\n",
      "INFO:andy:Avg Precision: 0.5065474212169647\n",
      "INFO:andy:Avg Recall: 0.39386991659800213\n",
      "INFO:andy:Avg F1: 0.38774218459924065\n",
      "INFO:andy:EPOCH 4 ==============================\n",
      "INFO:andy:Batch:\t1/3\n",
      "INFO:andy:Batch samples:\t20\n",
      "INFO:andy:Current error:\t0.012310205958783627\n",
      "\n",
      "INFO:andy:Batch:\t2/3\n",
      "INFO:andy:Batch samples:\t20\n",
      "INFO:andy:Current error:\t0.00764768710359931\n",
      "\n",
      "INFO:andy:Batch:\t3/3\n",
      "INFO:andy:Batch samples:\t18\n",
      "INFO:andy:Current error:\t0.011082951910793781\n",
      "\n",
      "INFO:andy:\n",
      "Training Evaluation Metric:\n",
      "INFO:andy:Avg IOU: 0.2584786200253614\n",
      "INFO:andy:Avg Precision: 0.4324680999692144\n",
      "INFO:andy:Avg Recall: 0.4419546752911189\n",
      "INFO:andy:Avg F1: 0.38129734241499985\n",
      "INFO:andy:\n",
      "Validation Evaluation Metric:\n",
      "INFO:andy:Avg IOU: 0.18950848455230396\n",
      "INFO:andy:Avg Precision: 0.48820443252722423\n",
      "INFO:andy:Avg Recall: 0.2619367850323518\n",
      "INFO:andy:Avg F1: 0.29167472968498864\n"
     ]
    },
    {
     "name": "stdout",
     "output_type": "stream",
     "text": [
      "Fold 4/5\n",
      "324\n"
     ]
    },
    {
     "name": "stderr",
     "output_type": "stream",
     "text": [
      "INFO:andy:EPOCH 0 ==============================\n",
      "INFO:andy:Batch:\t1/3\n",
      "INFO:andy:Batch samples:\t20\n",
      "INFO:andy:Current error:\t0.04471707344055176\n",
      "\n",
      "INFO:andy:Batch:\t2/3\n",
      "INFO:andy:Batch samples:\t20\n",
      "INFO:andy:Current error:\t0.02009844034910202\n",
      "\n",
      "INFO:andy:Batch:\t3/3\n",
      "INFO:andy:Batch samples:\t19\n",
      "INFO:andy:Current error:\t0.013881291262805462\n",
      "\n",
      "INFO:andy:\n",
      "Training Evaluation Metric:\n",
      "INFO:andy:Avg IOU: 0.07990120938767963\n",
      "INFO:andy:Avg Precision: 0.21774150044420512\n",
      "INFO:andy:Avg Recall: 0.13426203889943958\n",
      "INFO:andy:Avg F1: 0.12464216375778729\n",
      "INFO:andy:\n",
      "Validation Evaluation Metric:\n",
      "INFO:andy:Avg IOU: 0.26999033535165445\n",
      "INFO:andy:Avg Precision: 0.4187152912574155\n",
      "INFO:andy:Avg Recall: 0.5175585885133062\n",
      "INFO:andy:Avg F1: 0.3904824954058443\n",
      "INFO:andy:EPOCH 1 ==============================\n",
      "INFO:andy:Batch:\t1/3\n",
      "INFO:andy:Batch samples:\t20\n",
      "INFO:andy:Current error:\t0.012174814939498901\n",
      "\n",
      "INFO:andy:Batch:\t2/3\n",
      "INFO:andy:Batch samples:\t20\n",
      "INFO:andy:Current error:\t0.014620778150856495\n",
      "\n",
      "INFO:andy:Batch:\t3/3\n",
      "INFO:andy:Batch samples:\t19\n",
      "INFO:andy:Current error:\t0.016889261081814766\n",
      "\n",
      "INFO:andy:\n",
      "Training Evaluation Metric:\n",
      "INFO:andy:Avg IOU: 0.28157770207499044\n",
      "INFO:andy:Avg Precision: 0.3565647751092911\n",
      "INFO:andy:Avg Recall: 0.6837900493420281\n",
      "INFO:andy:Avg F1: 0.4116702233835802\n",
      "INFO:andy:\n",
      "Validation Evaluation Metric:\n",
      "INFO:andy:Avg IOU: 0.3048460989126137\n",
      "INFO:andy:Avg Precision: 0.33651231974363327\n",
      "INFO:andy:Avg Recall: 0.8129595858710152\n",
      "INFO:andy:Avg F1: 0.4357094541192055\n",
      "INFO:andy:EPOCH 2 ==============================\n",
      "INFO:andy:Batch:\t1/3\n",
      "INFO:andy:Batch samples:\t20\n",
      "INFO:andy:Current error:\t0.018019862473011017\n",
      "\n",
      "INFO:andy:Batch:\t2/3\n",
      "INFO:andy:Batch samples:\t20\n",
      "INFO:andy:Current error:\t0.01482259389013052\n",
      "\n",
      "INFO:andy:Batch:\t3/3\n",
      "INFO:andy:Batch samples:\t19\n",
      "INFO:andy:Current error:\t0.014212965965270996\n",
      "\n",
      "INFO:andy:\n",
      "Training Evaluation Metric:\n",
      "INFO:andy:Avg IOU: 0.3002039196632676\n",
      "INFO:andy:Avg Precision: 0.34506673226922246\n",
      "INFO:andy:Avg Recall: 0.7963579569832754\n",
      "INFO:andy:Avg F1: 0.44126390829934914\n",
      "INFO:andy:\n",
      "Validation Evaluation Metric:\n",
      "INFO:andy:Avg IOU: 0.30828952682869776\n",
      "INFO:andy:Avg Precision: 0.3530412454690252\n",
      "INFO:andy:Avg Recall: 0.7313425626073565\n",
      "INFO:andy:Avg F1: 0.4389221396829401\n",
      "INFO:andy:EPOCH 3 ==============================\n",
      "INFO:andy:Batch:\t1/3\n",
      "INFO:andy:Batch samples:\t20\n",
      "INFO:andy:Current error:\t0.015205228701233864\n",
      "\n",
      "INFO:andy:Batch:\t2/3\n",
      "INFO:andy:Batch samples:\t20\n",
      "INFO:andy:Current error:\t0.012873700819909573\n",
      "\n",
      "INFO:andy:Batch:\t3/3\n",
      "INFO:andy:Batch samples:\t19\n",
      "INFO:andy:Current error:\t0.014294458553195\n",
      "\n",
      "INFO:andy:\n",
      "Training Evaluation Metric:\n",
      "INFO:andy:Avg IOU: 0.3064965239205098\n",
      "INFO:andy:Avg Precision: 0.35735567974842203\n",
      "INFO:andy:Avg Recall: 0.7354432283821752\n",
      "INFO:andy:Avg F1: 0.4450750187418218\n",
      "INFO:andy:\n",
      "Validation Evaluation Metric:\n",
      "INFO:andy:Avg IOU: 0.28992676695010494\n",
      "INFO:andy:Avg Precision: 0.4085992200832282\n",
      "INFO:andy:Avg Recall: 0.5106915081185954\n",
      "INFO:andy:Avg F1: 0.41477261590106146\n",
      "INFO:andy:EPOCH 4 ==============================\n",
      "INFO:andy:Batch:\t1/3\n",
      "INFO:andy:Batch samples:\t20\n",
      "INFO:andy:Current error:\t0.012134592048823833\n",
      "\n",
      "INFO:andy:Batch:\t2/3\n",
      "INFO:andy:Batch samples:\t20\n",
      "INFO:andy:Current error:\t0.011402896605432034\n",
      "\n",
      "INFO:andy:Batch:\t3/3\n",
      "INFO:andy:Batch samples:\t19\n",
      "INFO:andy:Current error:\t0.010312210768461227\n",
      "\n",
      "INFO:andy:\n",
      "Training Evaluation Metric:\n",
      "INFO:andy:Avg IOU: 0.2836827231034384\n",
      "INFO:andy:Avg Precision: 0.4396917189203076\n",
      "INFO:andy:Avg Recall: 0.5296455917216963\n",
      "INFO:andy:Avg F1: 0.42084207202670937\n",
      "INFO:andy:\n",
      "Validation Evaluation Metric:\n",
      "INFO:andy:Avg IOU: 0.22296302260032722\n",
      "INFO:andy:Avg Precision: 0.4512494251664196\n",
      "INFO:andy:Avg Recall: 0.31167903542518616\n",
      "INFO:andy:Avg F1: 0.33723773594413486\n",
      "INFO:andy:EPOCH 0 ==============================\n"
     ]
    },
    {
     "name": "stdout",
     "output_type": "stream",
     "text": [
      "Fold 5/5\n",
      "324\n"
     ]
    },
    {
     "name": "stderr",
     "output_type": "stream",
     "text": [
      "INFO:andy:Batch:\t1/3\n",
      "INFO:andy:Batch samples:\t20\n",
      "INFO:andy:Current error:\t0.0422423891723156\n",
      "\n",
      "INFO:andy:Batch:\t2/3\n",
      "INFO:andy:Batch samples:\t20\n",
      "INFO:andy:Current error:\t0.021898413076996803\n",
      "\n",
      "INFO:andy:Batch:\t3/3\n",
      "INFO:andy:Batch samples:\t19\n",
      "INFO:andy:Current error:\t0.017996208742260933\n",
      "\n",
      "INFO:andy:\n",
      "Training Evaluation Metric:\n",
      "INFO:andy:Avg IOU: 0.07786928828000643\n",
      "INFO:andy:Avg Precision: 0.27004834333971395\n",
      "INFO:andy:Avg Recall: 0.10295475930196502\n",
      "INFO:andy:Avg F1: 0.12306285265170164\n",
      "INFO:andy:\n",
      "Validation Evaluation Metric:\n",
      "INFO:andy:Avg IOU: 0.2617091044251408\n",
      "INFO:andy:Avg Precision: 0.27916285608495983\n",
      "INFO:andy:Avg Recall: 0.6725417231874806\n",
      "INFO:andy:Avg F1: 0.3785614850265639\n",
      "INFO:andy:EPOCH 1 ==============================\n",
      "INFO:andy:Batch:\t1/3\n",
      "INFO:andy:Batch samples:\t20\n",
      "INFO:andy:Current error:\t0.014936658553779125\n",
      "\n",
      "INFO:andy:Batch:\t2/3\n",
      "INFO:andy:Batch samples:\t20\n",
      "INFO:andy:Current error:\t0.015473625622689724\n",
      "\n",
      "INFO:andy:Batch:\t3/3\n",
      "INFO:andy:Batch samples:\t19\n",
      "INFO:andy:Current error:\t0.0191087294369936\n",
      "\n",
      "INFO:andy:\n",
      "Training Evaluation Metric:\n",
      "INFO:andy:Avg IOU: 0.24488789502184016\n",
      "INFO:andy:Avg Precision: 0.31778195232026657\n",
      "INFO:andy:Avg Recall: 0.585658536466249\n",
      "INFO:andy:Avg F1: 0.37084768204239466\n",
      "INFO:andy:\n",
      "Validation Evaluation Metric:\n",
      "INFO:andy:Avg IOU: 0.2142696694603988\n",
      "INFO:andy:Avg Precision: 0.22086740152112075\n",
      "INFO:andy:Avg Recall: 0.8529066656317029\n",
      "INFO:andy:Avg F1: 0.33663513138890266\n",
      "INFO:andy:EPOCH 2 ==============================\n",
      "INFO:andy:Batch:\t1/3\n",
      "INFO:andy:Batch samples:\t20\n",
      "INFO:andy:Current error:\t0.01967361383140087\n",
      "\n",
      "INFO:andy:Batch:\t2/3\n",
      "INFO:andy:Batch samples:\t20\n",
      "INFO:andy:Current error:\t0.01695188693702221\n",
      "\n",
      "INFO:andy:Batch:\t3/3\n",
      "INFO:andy:Batch samples:\t19\n",
      "INFO:andy:Current error:\t0.01681249402463436\n",
      "\n",
      "INFO:andy:\n",
      "Training Evaluation Metric:\n",
      "INFO:andy:Avg IOU: 0.2602259735813585\n",
      "INFO:andy:Avg Precision: 0.2964405858715586\n",
      "INFO:andy:Avg Recall: 0.6852574907243252\n",
      "INFO:andy:Avg F1: 0.39136983343731546\n",
      "INFO:andy:\n",
      "Validation Evaluation Metric:\n",
      "INFO:andy:Avg IOU: 0.22525114672524588\n",
      "INFO:andy:Avg Precision: 0.2338903886931283\n",
      "INFO:andy:Avg Recall: 0.8370357006788254\n",
      "INFO:andy:Avg F1: 0.3491116410919598\n",
      "INFO:andy:EPOCH 3 ==============================\n",
      "INFO:andy:Batch:\t1/3\n",
      "INFO:andy:Batch samples:\t20\n",
      "INFO:andy:Current error:\t0.017046570777893066\n",
      "\n",
      "INFO:andy:Batch:\t2/3\n",
      "INFO:andy:Batch samples:\t20\n",
      "INFO:andy:Current error:\t0.01664181426167488\n",
      "\n",
      "INFO:andy:Batch:\t3/3\n",
      "INFO:andy:Batch samples:\t19\n",
      "INFO:andy:Current error:\t0.01655217632651329\n",
      "\n",
      "INFO:andy:\n",
      "Training Evaluation Metric:\n",
      "INFO:andy:Avg IOU: 0.2550214245220867\n",
      "INFO:andy:Avg Precision: 0.3059080356763581\n",
      "INFO:andy:Avg Recall: 0.6379680618391199\n",
      "INFO:andy:Avg F1: 0.38809695467352867\n",
      "INFO:andy:\n",
      "Validation Evaluation Metric:\n",
      "INFO:andy:Avg IOU: 0.2593162023196263\n",
      "INFO:andy:Avg Precision: 0.2782170811135854\n",
      "INFO:andy:Avg Recall: 0.7372811900983963\n",
      "INFO:andy:Avg F1: 0.38195614357079777\n",
      "INFO:andy:EPOCH 4 ==============================\n",
      "INFO:andy:Batch:\t1/3\n",
      "INFO:andy:Batch samples:\t20\n",
      "INFO:andy:Current error:\t0.013556748628616333\n",
      "\n",
      "INFO:andy:Batch:\t2/3\n",
      "INFO:andy:Batch samples:\t20\n",
      "INFO:andy:Current error:\t0.01244993507862091\n",
      "\n",
      "INFO:andy:Batch:\t3/3\n",
      "INFO:andy:Batch samples:\t19\n",
      "INFO:andy:Current error:\t0.01274834293872118\n",
      "\n",
      "INFO:andy:\n",
      "Training Evaluation Metric:\n",
      "INFO:andy:Avg IOU: 0.2793196020963586\n",
      "INFO:andy:Avg Precision: 0.3714348932854452\n",
      "INFO:andy:Avg Recall: 0.5572203404064906\n",
      "INFO:andy:Avg F1: 0.4146426158673051\n",
      "INFO:andy:\n",
      "Validation Evaluation Metric:\n",
      "INFO:andy:Avg IOU: 0.30910165874021395\n",
      "INFO:andy:Avg Precision: 0.3559880054422787\n",
      "INFO:andy:Avg Recall: 0.6458878847105163\n",
      "INFO:andy:Avg F1: 0.429007887840271\n"
     ]
    }
   ],
   "source": [
    "fold_metrics = []\n",
    "rpn_kfold_dir = f'./rpn_kfold/{dte}'\n",
    "os.makedirs(rpn_kfold_dir, exist_ok=True)\n",
    "\n",
    "for i, (train_index, val_index) in enumerate(kf.split(train_set)):\n",
    "    print(f'Fold {i + 1}/{5}')\n",
    "    \n",
    "    config['model'] = RPN(\n",
    "        input_dim=512,\n",
    "        output_dim=4,\n",
    "        image_size=300,\n",
    "        nh=4,\n",
    "    ).to(device)\n",
    "    \n",
    "    fitter = RPNFitter(config, logger=logger)\n",
    "    \n",
    "    train_subset = Subset(train_set, train_index)\n",
    "    val_subset = Subset(train_set, val_index)\n",
    "    \n",
    "    train_subset_dl = DataLoader(\n",
    "        train_subset,\n",
    "        shuffle=True,\n",
    "        batch_size=20,\n",
    "        collate_fn=collatev2\n",
    "    )\n",
    "    \n",
    "    val_subset_dl = DataLoader(\n",
    "        val_subset,\n",
    "        shuffle=True,\n",
    "        batch_size=20,\n",
    "        collate_fn=collatev2\n",
    "    )\n",
    "    \n",
    "    thist, vhist, tmhist, vmhist = fitter.fit(train_subset_dl, val_subset_dl)\n",
    "    \n",
    "    fold_metrics.append({\n",
    "        'fold': i + 1,\n",
    "        'training_history': thist,\n",
    "        'validation_history': vhist,\n",
    "        'training_metrics': tmhist,\n",
    "        'validation_metrics': vmhist\n",
    "    })\n",
    "    \n",
    "    torch.save(fitter.model.state_dict(), f'{rpn_kfold_dir}/RPN_{dte}_fold_{i+1}.pt')\n",
    "\n",
    "    "
   ]
  },
  {
   "cell_type": "code",
   "execution_count": 125,
   "metadata": {},
   "outputs": [],
   "source": [
    "winsound.Beep(500, 500)\n",
    "winsound.Beep(500, 500)\n",
    "winsound.Beep(500, 500)"
   ]
  },
  {
   "cell_type": "code",
   "execution_count": 126,
   "metadata": {},
   "outputs": [
    {
     "data": {
      "text/plain": [
       "[0.027379004, 0.016506338, 0.017812664, 0.016746854, 0.012918342]"
      ]
     },
     "execution_count": 126,
     "metadata": {},
     "output_type": "execute_result"
    }
   ],
   "source": [
    "import numpy as np \n",
    "[np.array(fold).mean() for fold in fold_metrics[i]['training_history']]"
   ]
  },
  {
   "cell_type": "code",
   "execution_count": 127,
   "metadata": {},
   "outputs": [
    {
     "name": "stdout",
     "output_type": "stream",
     "text": [
      "K-Fold 1\n",
      "Training History: [0.016135788, 0.013983138, 0.013513509, 0.011899054, 0.010680939]\n",
      "Validation History: [0.012262058, 0.013184466, 0.011330217, 0.0100223925, 0.008149845]\n",
      "\n",
      "Fold 1: Validation Metrics\n",
      "Average IOU: 0.30635905812184017\n",
      "Average Precision: 0.40273240953683853\n",
      "Average Recall: 0.6249932497739792\n",
      "Average F1 Score: 0.4419390549262365\n",
      "\n",
      "===================================\n",
      "\n",
      "K-Fold 2\n",
      "Training History: [0.025517864, 0.014160819, 0.01669951, 0.013873515, 0.009583703]\n",
      "Validation History: [0.015629882, 0.02258298, 0.020208647, 0.014017255, 0.01089708]\n",
      "\n",
      "Fold 2: Validation Metrics\n",
      "Average IOU: 0.25450626326104003\n",
      "Average Precision: 0.2923618762443463\n",
      "Average Recall: 0.6262660324573517\n",
      "Average F1 Score: 0.37925688351194065\n",
      "\n",
      "===================================\n",
      "\n",
      "K-Fold 3\n",
      "Training History: [0.021879124, 0.014438589, 0.014087913, 0.012126751, 0.010346948]\n",
      "Validation History: [0.010955221, 0.013122456, 0.0127066225, 0.0118447505, 0.014505245]\n",
      "\n",
      "Fold 3: Validation Metrics\n",
      "Average IOU: 0.26078747113545736\n",
      "Average Precision: 0.5546878904104233\n",
      "Average Recall: 0.39372831185658774\n",
      "Average F1 Score: 0.40329591631889344\n",
      "\n",
      "===================================\n",
      "\n",
      "K-Fold 4\n",
      "Training History: [0.026232267, 0.014561619, 0.015685141, 0.014124463, 0.011283234]\n",
      "Validation History: [0.013866808, 0.018143205, 0.016489308, 0.0143560665, 0.012757438]\n",
      "\n",
      "Fold 4: Validation Metrics\n",
      "Average IOU: 0.26999033535165445\n",
      "Average Precision: 0.4187152912574155\n",
      "Average Recall: 0.5175585885133062\n",
      "Average F1 Score: 0.3904824954058443\n",
      "\n",
      "===================================\n",
      "\n",
      "K-Fold 5\n",
      "Training History: [0.027379004, 0.016506338, 0.017812664, 0.016746854, 0.012918342]\n",
      "Validation History: [0.014826181, 0.0215156, 0.019548211, 0.015220072, 0.010577422]\n",
      "\n",
      "Fold 5: Validation Metrics\n",
      "Average IOU: 0.2617091044251408\n",
      "Average Precision: 0.27916285608495983\n",
      "Average Recall: 0.6725417231874806\n",
      "Average F1 Score: 0.3785614850265639\n",
      "\n",
      "===================================\n",
      "\n"
     ]
    }
   ],
   "source": [
    "fold_metrics[0]\n",
    "\n",
    "thist_array = []\n",
    "vhist_array = []\n",
    "v_iou_array = []\n",
    "v_precision_array = []\n",
    "v_recall_array = []\n",
    "v_f1score_array = []\n",
    "\n",
    "\n",
    "def get_avg_score(set, metric):\n",
    "    return np.array(fold_metrics[i][set][0][metric]).mean()\n",
    "\n",
    "for i in range(5):\n",
    "    print(f'K-Fold {i+1}')\n",
    "    \n",
    "    thist = [np.array(fold).mean() for fold in fold_metrics[i]['training_history']]\n",
    "    print(f'Training History: {thist}')\n",
    "    thist_array.append(thist)\n",
    "    \n",
    "    vhist = [np.array(fold).mean() for fold in fold_metrics[i]['validation_history']]\n",
    "    print(f'Validation History: {vhist}')\n",
    "    vhist_array.append(vhist)\n",
    "    \n",
    "    # print('\\nTraining Metrics')\n",
    "    # print(f\"Average IOU: {get_avg_score('training_metrics', 'iou_score')}\")\n",
    "    # print(f\"Average Precision: {get_avg_score('training_metrics', 'precision_score')}\")\n",
    "    # print(f\"Average Recall: {get_avg_score('training_metrics', 'recall_score')}\")\n",
    "    # print(f\"Average F1 Score: {get_avg_score('training_metrics', 'f1_score')}\")\n",
    "    \n",
    "    print(f'\\nFold {i+1}: Validation Metrics')\n",
    "    v_iou = get_avg_score('validation_metrics', 'iou_score')\n",
    "    print(f\"Average IOU: {v_iou}\")\n",
    "    v_iou_array.append(v_iou)\n",
    "    \n",
    "    v_precision = get_avg_score('validation_metrics', 'precision_score')\n",
    "    print(f\"Average Precision: {v_precision}\")\n",
    "    v_precision_array.append(v_precision)\n",
    "    \n",
    "    v_recall = get_avg_score('validation_metrics', 'recall_score')\n",
    "    print(f\"Average Recall: {v_recall}\")\n",
    "    v_recall_array.append(v_recall)\n",
    "    \n",
    "    v_f1 = get_avg_score('validation_metrics', 'f1_score')\n",
    "    print(f\"Average F1 Score: {v_f1}\")\n",
    "    v_f1score_array.append(v_f1)\n",
    "    \n",
    "    print('\\n===================================\\n')"
   ]
  },
  {
   "cell_type": "code",
   "execution_count": 128,
   "metadata": {},
   "outputs": [
    {
     "name": "stdout",
     "output_type": "stream",
     "text": [
      "K-Fold Cross Validation: Validation Metrics\n",
      "Average IOU: 0.27067044645902655 \n",
      "Average Precision: 0.3895320647067967 \n",
      "Average Recall: 0.567017581157741 \n",
      "Average F1 Score: 0.39870716703789577 \n"
     ]
    }
   ],
   "source": [
    "print('K-Fold Cross Validation: Validation Metrics')\n",
    "print(f'Average IOU: {np.array(v_iou_array).mean()} ')\n",
    "print(f'Average Precision: {np.array(v_precision_array).mean()} ')\n",
    "print(f'Average Recall: {np.array(v_recall_array).mean()} ')\n",
    "print(f'Average F1 Score: {np.array(v_f1score_array).mean()} ')"
   ]
  },
  {
   "cell_type": "code",
   "execution_count": 129,
   "metadata": {},
   "outputs": [
    {
     "data": {
      "image/png": "[encoded data removed]",
      "text/plain": [
       "<Figure size 500x1500 with 5 Axes>"
      ]
     },
     "metadata": {},
     "output_type": "display_data"
    }
   ],
   "source": [
    "import seaborn as sns\n",
    "import matplotlib.pyplot as plt\n",
    "\n",
    "fig, axes = plt.subplots(5,1, figsize=(5, 15))\n",
    "\n",
    "for i in range(5):\n",
    "    th = np.array(thist_array[i])\n",
    "    vh = np.array(vhist_array[i])\n",
    "    \n",
    "    ax=axes[i]\n",
    "    \n",
    "    sns.lineplot(th, label='Training history', ax=ax)\n",
    "    sns.lineplot(vh, label='Validation history', ax=ax)\n",
    "    \n",
    "    ax.set_title(f'Training and Validation History: Fold {i+1}')\n",
    "    ax.set_xlabel('Epoch')\n",
    "    ax.set_ylabel('Loss')\n",
    "    ax.legend()\n",
    "  \n",
    "plt.tight_layout()  \n",
    "plt.show()"
   ]
  },
  {
   "cell_type": "code",
   "execution_count": 130,
   "metadata": {},
   "outputs": [
    {
     "data": {
      "text/plain": [
       "19"
      ]
     },
     "execution_count": 130,
     "metadata": {},
     "output_type": "execute_result"
    }
   ],
   "source": [
    "len(test_set)"
   ]
  },
  {
   "cell_type": "markdown",
   "metadata": {},
   "source": [
    "### Quick Note\n"
   ]
  },
  {
   "cell_type": "markdown",
   "metadata": {},
   "source": [
    "All the lost history of the folds are provided here. Future fix here if we only want the best fold, but take note that the current approach is just manually selecting the best fold.\n"
   ]
  },
  {
   "cell_type": "code",
   "execution_count": 131,
   "metadata": {},
   "outputs": [],
   "source": [
    "sth = f'history/{dte}_thist.pt'\n",
    "svh = f'history/{dte}_vhist.pt'\n",
    "t.saved_thist = sth\n",
    "t.saved_vhist = svh\n",
    "torch.save(thist_array, sth)\n",
    "torch.save(vhist_array, svh)"
   ]
  },
  {
   "cell_type": "markdown",
   "metadata": {},
   "source": [
    "### Evaluation\n"
   ]
  },
  {
   "cell_type": "code",
   "execution_count": 132,
   "metadata": {},
   "outputs": [],
   "source": [
    "test_dataloader = DataLoader(\n",
    "    test_set,\n",
    "    shuffle=True,\n",
    "    batch_size=20,\n",
    "    collate_fn=collatev2\n",
    ")"
   ]
  },
  {
   "cell_type": "code",
   "execution_count": 136,
   "metadata": {},
   "outputs": [
    {
     "name": "stderr",
     "output_type": "stream",
     "text": [
      "INFO:andy:\n",
      "Validation Evaluation Metric:\n",
      "INFO:andy:Avg IOU: 0.23639957293083794\n",
      "INFO:andy:Avg Precision: 0.4150950163602829\n",
      "INFO:andy:Avg Recall: 0.36123943799420405\n",
      "INFO:andy:Avg F1: 0.3510229289531708\n"
     ]
    },
    {
     "name": "stdout",
     "output_type": "stream",
     "text": [
      "Version RPN_Nov_17_2024_104536_fold_1.pt:\n",
      "\n",
      "========================\n",
      "\n"
     ]
    },
    {
     "name": "stderr",
     "output_type": "stream",
     "text": [
      "INFO:andy:\n",
      "Validation Evaluation Metric:\n",
      "INFO:andy:Avg IOU: 0.24241460546066887\n",
      "INFO:andy:Avg Precision: 0.3985831894372639\n",
      "INFO:andy:Avg Recall: 0.3907321636614047\n",
      "INFO:andy:Avg F1: 0.3670808249398282\n"
     ]
    },
    {
     "name": "stdout",
     "output_type": "stream",
     "text": [
      "Version RPN_Nov_17_2024_104536_fold_2.pt:\n",
      "\n",
      "========================\n",
      "\n"
     ]
    },
    {
     "name": "stderr",
     "output_type": "stream",
     "text": [
      "INFO:andy:\n",
      "Validation Evaluation Metric:\n",
      "INFO:andy:Avg IOU: 0.222363344516213\n",
      "INFO:andy:Avg Precision: 0.3998186208895947\n",
      "INFO:andy:Avg Recall: 0.3191155096466996\n",
      "INFO:andy:Avg F1: 0.3208311880497556\n"
     ]
    },
    {
     "name": "stdout",
     "output_type": "stream",
     "text": [
      "Version RPN_Nov_17_2024_104536_fold_3.pt:\n",
      "\n",
      "========================\n",
      "\n"
     ]
    },
    {
     "name": "stderr",
     "output_type": "stream",
     "text": [
      "INFO:andy:\n",
      "Validation Evaluation Metric:\n",
      "INFO:andy:Avg IOU: 0.27802266452559515\n",
      "INFO:andy:Avg Precision: 0.45830207876861095\n",
      "INFO:andy:Avg Recall: 0.45532621516797106\n",
      "INFO:andy:Avg F1: 0.4079329819467507\n"
     ]
    },
    {
     "name": "stdout",
     "output_type": "stream",
     "text": [
      "Version RPN_Nov_17_2024_104536_fold_4.pt:\n",
      "\n",
      "========================\n",
      "\n"
     ]
    },
    {
     "name": "stderr",
     "output_type": "stream",
     "text": [
      "INFO:andy:\n",
      "Validation Evaluation Metric:\n",
      "INFO:andy:Avg IOU: 0.24954029055018173\n",
      "INFO:andy:Avg Precision: 0.3447724110201785\n",
      "INFO:andy:Avg Recall: 0.4672264095984007\n",
      "INFO:andy:Avg F1: 0.3749245993400875\n"
     ]
    },
    {
     "name": "stdout",
     "output_type": "stream",
     "text": [
      "Version RPN_Nov_17_2024_104536_fold_5.pt:\n",
      "\n",
      "========================\n",
      "\n"
     ]
    }
   ],
   "source": [
    "test_iou = []\n",
    "test_precision = []\n",
    "test_recall = []\n",
    "test_f1 = []\n",
    "\n",
    "for filename in os.listdir(rpn_kfold_dir):\n",
    "    fitter.model.load_state_dict(torch.load(f'{rpn_kfold_dir}/{filename}'))\n",
    "    \n",
    "    h, mh = fitter.validation(test_dataloader)\n",
    "    valmets = pd.DataFrame(mh)\n",
    "    mets = valmets.mean()\n",
    "    \n",
    "    print(f'Version {filename}:')\n",
    "    \n",
    "    test_iou.append(mets.iou_score)\n",
    "    test_precision.append(mets.precision_score)\n",
    "    test_recall.append(mets.recall_score)\n",
    "    test_f1.append(mets.f1_score)\n",
    "    \n",
    "    print('\\n========================\\n')"
   ]
  },
  {
   "cell_type": "code",
   "execution_count": 137,
   "metadata": {},
   "outputs": [],
   "source": [
    "iou_score = np.array(test_iou).mean()\n",
    "precision_score = np.array(test_precision).mean()\n",
    "recall_score = np.array(test_recall).mean()\n",
    "f1_score = np.array(test_f1).mean()"
   ]
  },
  {
   "cell_type": "code",
   "execution_count": 138,
   "metadata": {},
   "outputs": [
    {
     "name": "stdout",
     "output_type": "stream",
     "text": [
      "Test Set Performance Metrics\n",
      "Average IOU: 0.24574809559669936 \n",
      "Average Precision: 0.4033142632951862 \n",
      "Average Recall: 0.39872794721373606 \n",
      "Average F1 Score: 0.36435850464591857 \n"
     ]
    }
   ],
   "source": [
    "print('Test Set Performance Metrics')\n",
    "print(f'Average IOU: {iou_score} ')\n",
    "print(f'Average Precision: {precision_score} ')\n",
    "print(f'Average Recall: {recall_score} ')\n",
    "print(f'Average F1 Score: {f1_score} ')"
   ]
  },
  {
   "cell_type": "code",
   "execution_count": null,
   "metadata": {},
   "outputs": [],
   "source": [
    "t.iou = iou_score\n",
    "t.precision = precision_score\n",
    "t.recall = recall_score\n",
    "t.f1 = f1_score"
   ]
  },
  {
   "cell_type": "markdown",
   "metadata": {},
   "source": [
    "### Save the weights\n"
   ]
  },
  {
   "cell_type": "code",
   "execution_count": 139,
   "metadata": {},
   "outputs": [
    {
     "data": {
      "text/plain": [
       "['RPN_Nov_17_2024_104536_fold_1.pt',\n",
       " 'RPN_Nov_17_2024_104536_fold_2.pt',\n",
       " 'RPN_Nov_17_2024_104536_fold_3.pt',\n",
       " 'RPN_Nov_17_2024_104536_fold_4.pt',\n",
       " 'RPN_Nov_17_2024_104536_fold_5.pt']"
      ]
     },
     "execution_count": 139,
     "metadata": {},
     "output_type": "execute_result"
    }
   ],
   "source": [
    "s = [file for file in os.listdir(rpn_kfold_dir)]\n",
    "s"
   ]
  },
  {
   "cell_type": "code",
   "execution_count": 140,
   "metadata": {},
   "outputs": [],
   "source": [
    "t.saved_weights = s\n",
    "# torch.save(model.state_dict(), s)"
   ]
  },
  {
   "cell_type": "markdown",
   "metadata": {},
   "source": [
    "# Trial\n"
   ]
  },
  {
   "cell_type": "code",
   "execution_count": 141,
   "metadata": {},
   "outputs": [],
   "source": [
    "model = fitter.model"
   ]
  },
  {
   "cell_type": "code",
   "execution_count": 142,
   "metadata": {},
   "outputs": [],
   "source": [
    "sample = next(enumerate(test_dataloader))"
   ]
  },
  {
   "cell_type": "code",
   "execution_count": 143,
   "metadata": {},
   "outputs": [],
   "source": [
    "slices, masks, target, case = sample[1][1]"
   ]
  },
  {
   "cell_type": "code",
   "execution_count": 144,
   "metadata": {},
   "outputs": [],
   "source": [
    "# x = slices.squeeze(1).repeat(1, 3, 1, 1).float().to(device)\n",
    "x = slices.squeeze(1).float().to(device)\n",
    "T = masks.squeeze(1).float().to(device)"
   ]
  },
  {
   "cell_type": "code",
   "execution_count": 145,
   "metadata": {},
   "outputs": [],
   "source": [
    "y = model(x, target)"
   ]
  },
  {
   "cell_type": "code",
   "execution_count": 146,
   "metadata": {},
   "outputs": [
    {
     "data": {
      "text/plain": [
       "tensor([[0.1802, 0.2900, 0.4334, 0.7930]], device='cuda:0',\n",
       "       grad_fn=<SigmoidBackward0>)"
      ]
     },
     "execution_count": 146,
     "metadata": {},
     "output_type": "execute_result"
    }
   ],
   "source": [
    "y"
   ]
  },
  {
   "cell_type": "code",
   "execution_count": 147,
   "metadata": {},
   "outputs": [
    {
     "data": {
      "text/plain": [
       "tensor(120.3649, device='cuda:0', grad_fn=<SmoothL1LossBackward0>)"
      ]
     },
     "execution_count": 147,
     "metadata": {},
     "output_type": "execute_result"
    }
   ],
   "source": [
    "fitter.loss(y, T[target])"
   ]
  },
  {
   "cell_type": "code",
   "execution_count": 148,
   "metadata": {},
   "outputs": [
    {
     "data": {
      "text/plain": [
       "tensor([[[  5.8594, 116.0156, 126.5625, 236.7188]]], dtype=torch.float64)"
      ]
     },
     "execution_count": 148,
     "metadata": {},
     "output_type": "execute_result"
    }
   ],
   "source": [
    "masks[target]"
   ]
  },
  {
   "cell_type": "code",
   "execution_count": 149,
   "metadata": {},
   "outputs": [
    {
     "data": {
      "text/plain": [
       "tensor([[0.1802, 0.2900, 0.4334, 0.7930]], device='cuda:0',\n",
       "       grad_fn=<SigmoidBackward0>)"
      ]
     },
     "execution_count": 149,
     "metadata": {},
     "output_type": "execute_result"
    }
   ],
   "source": [
    "y"
   ]
  },
  {
   "cell_type": "code",
   "execution_count": 150,
   "metadata": {},
   "outputs": [],
   "source": [
    "bbox = masks[target].squeeze().cpu().long()"
   ]
  },
  {
   "cell_type": "code",
   "execution_count": 151,
   "metadata": {},
   "outputs": [],
   "source": [
    "y = (y*300).squeeze().detach().cpu().long()"
   ]
  },
  {
   "cell_type": "code",
   "execution_count": 152,
   "metadata": {},
   "outputs": [
    {
     "data": {
      "text/plain": [
       "(tensor([  5, 116, 126, 236]), tensor([ 54,  87, 130, 237]))"
      ]
     },
     "execution_count": 152,
     "metadata": {},
     "output_type": "execute_result"
    }
   ],
   "source": [
    "bbox, y"
   ]
  },
  {
   "cell_type": "code",
   "execution_count": 153,
   "metadata": {},
   "outputs": [
    {
     "data": {
      "image/png": "[encoded data removed]",
      "text/plain": [
       "<Figure size 640x480 with 2 Axes>"
      ]
     },
     "metadata": {},
     "output_type": "display_data"
    }
   ],
   "source": [
    "import matplotlib.patches as patches\n",
    "import matplotlib.pyplot as plt\n",
    "\n",
    "ax = sns.heatmap(x[target][0].squeeze().cpu(), cmap='gray')\n",
    "\n",
    "truth = patches.Rectangle(\n",
    "    (bbox[0], bbox[1]),\n",
    "    bbox[2] - bbox[0],\n",
    "    bbox[3] - bbox[1],\n",
    "    linewidth=1, edgecolor='g', facecolor='none'\n",
    ")\n",
    "\n",
    "pred = patches.Rectangle(\n",
    "    (y[0], y[1]),\n",
    "    y[2] - y[0],\n",
    "    y[3] - y[1],\n",
    "    linewidth=1, edgecolor='r', facecolor='none'\n",
    ")\n",
    "\n",
    "ax.add_patch(truth)\n",
    "ax.add_patch(pred)\n",
    "plt.show()"
   ]
  },
  {
   "cell_type": "markdown",
   "metadata": {},
   "source": [
    "# Log Progress\n"
   ]
  },
  {
   "cell_type": "code",
   "execution_count": 154,
   "metadata": {},
   "outputs": [],
   "source": [
    "t.notes = '''\n",
    "- applied 5 kfold cross validation\n",
    "- fixed the reinitialization issue of the fitter\n",
    "- save weights of each fold\n",
    "- evaluate test data using each fold\n",
    "- need to imrpove this by implementing end to end in one notebook (rpn and vit)\n",
    "'''"
   ]
  },
  {
   "cell_type": "code",
   "execution_count": 155,
   "metadata": {},
   "outputs": [
    {
     "data": {
      "text/html": [
       "<div>\n",
       "<style scoped>\n",
       "    .dataframe tbody tr th:only-of-type {\n",
       "        vertical-align: middle;\n",
       "    }\n",
       "\n",
       "    .dataframe tbody tr th {\n",
       "        vertical-align: top;\n",
       "    }\n",
       "\n",
       "    .dataframe thead th {\n",
       "        text-align: right;\n",
       "    }\n",
       "</style>\n",
       "<table border=\"1\" class=\"dataframe\">\n",
       "  <thead>\n",
       "    <tr style=\"text-align: right;\">\n",
       "      <th></th>\n",
       "      <th>model</th>\n",
       "      <th>loaded_weights</th>\n",
       "      <th>stage1_weights</th>\n",
       "      <th>uses_resnet</th>\n",
       "      <th>only_cmb_slices</th>\n",
       "      <th>cohort1</th>\n",
       "      <th>cohort2</th>\n",
       "      <th>cohort3</th>\n",
       "      <th>optimizer</th>\n",
       "      <th>epochs</th>\n",
       "      <th>...</th>\n",
       "      <th>recall</th>\n",
       "      <th>f1</th>\n",
       "      <th>fpr</th>\n",
       "      <th>saved_weights</th>\n",
       "      <th>saved_thist</th>\n",
       "      <th>saved_vhist</th>\n",
       "      <th>model_hyperparams</th>\n",
       "      <th>logfile</th>\n",
       "      <th>device</th>\n",
       "      <th>notes</th>\n",
       "    </tr>\n",
       "    <tr>\n",
       "      <th>date</th>\n",
       "      <th></th>\n",
       "      <th></th>\n",
       "      <th></th>\n",
       "      <th></th>\n",
       "      <th></th>\n",
       "      <th></th>\n",
       "      <th></th>\n",
       "      <th></th>\n",
       "      <th></th>\n",
       "      <th></th>\n",
       "      <th></th>\n",
       "      <th></th>\n",
       "      <th></th>\n",
       "      <th></th>\n",
       "      <th></th>\n",
       "      <th></th>\n",
       "      <th></th>\n",
       "      <th></th>\n",
       "      <th></th>\n",
       "      <th></th>\n",
       "      <th></th>\n",
       "    </tr>\n",
       "  </thead>\n",
       "  <tbody>\n",
       "    <tr>\n",
       "      <th>2024-11-17 10:45:36.060088</th>\n",
       "      <td>RPN</td>\n",
       "      <td>None</td>\n",
       "      <td>None</td>\n",
       "      <td>False</td>\n",
       "      <td>True</td>\n",
       "      <td>True</td>\n",
       "      <td>False</td>\n",
       "      <td>True</td>\n",
       "      <td>&lt;class 'torch.optim.adam.Adam'&gt;</td>\n",
       "      <td>5</td>\n",
       "      <td>...</td>\n",
       "      <td>None</td>\n",
       "      <td>None</td>\n",
       "      <td>None</td>\n",
       "      <td>[RPN_Nov_17_2024_104536_fold_1.pt, RPN_Nov_17_...</td>\n",
       "      <td>history/Nov_17_2024_104536_thist.pt</td>\n",
       "      <td>history/Nov_17_2024_104536_vhist.pt</td>\n",
       "      <td>{'input_dim': 512, 'output_dim': 4, 'image_siz...</td>\n",
       "      <td>Nov_17_2024_104536.log</td>\n",
       "      <td>cuda</td>\n",
       "      <td>\\n- applied 5 kfold cross validation\\n- fixed ...</td>\n",
       "    </tr>\n",
       "  </tbody>\n",
       "</table>\n",
       "<p>1 rows × 28 columns</p>\n",
       "</div>"
      ],
      "text/plain": [
       "                           model loaded_weights stage1_weights  uses_resnet  \\\n",
       "date                                                                          \n",
       "2024-11-17 10:45:36.060088   RPN           None           None        False   \n",
       "\n",
       "                            only_cmb_slices  cohort1  cohort2  cohort3  \\\n",
       "date                                                                     \n",
       "2024-11-17 10:45:36.060088             True     True    False     True   \n",
       "\n",
       "                                                  optimizer  epochs  ...  \\\n",
       "date                                                                 ...   \n",
       "2024-11-17 10:45:36.060088  <class 'torch.optim.adam.Adam'>       5  ...   \n",
       "\n",
       "                            recall    f1   fpr  \\\n",
       "date                                             \n",
       "2024-11-17 10:45:36.060088    None  None  None   \n",
       "\n",
       "                                                                saved_weights  \\\n",
       "date                                                                            \n",
       "2024-11-17 10:45:36.060088  [RPN_Nov_17_2024_104536_fold_1.pt, RPN_Nov_17_...   \n",
       "\n",
       "                                                    saved_thist  \\\n",
       "date                                                              \n",
       "2024-11-17 10:45:36.060088  history/Nov_17_2024_104536_thist.pt   \n",
       "\n",
       "                                                    saved_vhist  \\\n",
       "date                                                              \n",
       "2024-11-17 10:45:36.060088  history/Nov_17_2024_104536_vhist.pt   \n",
       "\n",
       "                                                            model_hyperparams  \\\n",
       "date                                                                            \n",
       "2024-11-17 10:45:36.060088  {'input_dim': 512, 'output_dim': 4, 'image_siz...   \n",
       "\n",
       "                                           logfile device  \\\n",
       "date                                                        \n",
       "2024-11-17 10:45:36.060088  Nov_17_2024_104536.log   cuda   \n",
       "\n",
       "                                                                        notes  \n",
       "date                                                                           \n",
       "2024-11-17 10:45:36.060088  \\n- applied 5 kfold cross validation\\n- fixed ...  \n",
       "\n",
       "[1 rows x 28 columns]"
      ]
     },
     "execution_count": 155,
     "metadata": {},
     "output_type": "execute_result"
    }
   ],
   "source": [
    "t()"
   ]
  },
  {
   "cell_type": "code",
   "execution_count": 156,
   "metadata": {},
   "outputs": [
    {
     "name": "stdout",
     "output_type": "stream",
     "text": [
      "Making new csv file\n"
     ]
    }
   ],
   "source": [
    "if os.path.exists('history/runs.csv'):\n",
    "    print('Merging to old df')\n",
    "    prev_df = pd.read_csv('history/runs.csv', index_col='date')\n",
    "    merged = pd.concat([prev_df, t()])\n",
    "    merged.to_csv('history/runs.csv')\n",
    "else:\n",
    "    print('Making new csv file')\n",
    "    t().to_csv('history/runs.csv')"
   ]
  }
 ],
 "metadata": {
  "kernelspec": {
   "display_name": "Python 3",
   "language": "python",
   "name": "python3"
  },
  "language_info": {
   "codemirror_mode": {
    "name": "ipython",
    "version": 3
   },
   "file_extension": ".py",
   "mimetype": "text/x-python",
   "name": "python",
   "nbconvert_exporter": "python",
   "pygments_lexer": "ipython3",
   "version": "3.11.4"
  }
 },
 "nbformat": 4,
 "nbformat_minor": 4
}
