{
 "cells": [
  {
   "cell_type": "code",
   "execution_count": 1,
   "id": "d1903bae-3d04-4b89-bc14-19491ba72873",
   "metadata": {},
   "outputs": [],
   "source": [
    "import torch\n",
    "import torch.nn as nn\n",
    "import pandas as pd\n",
    "from project.dataset import Dataset, VALDODataset\n",
    "from torch.utils.data import DataLoader\n",
    "from project.preprocessing import NiftiToTensorTransform, z_score_normalization\n",
    "from project.utils import collatev2, compute_statistics\n",
    "import winsound\n",
    "\n",
    "from torchvision.ops import complete_box_iou, complete_box_iou_loss"
   ]
  },
  {
   "cell_type": "code",
   "execution_count": 2,
   "id": "bc7c5635-cdfd-482c-a3cb-10a6263d4d12",
   "metadata": {},
   "outputs": [
    {
     "data": {
      "text/plain": [
       "'cuda'"
      ]
     },
     "execution_count": 2,
     "metadata": {},
     "output_type": "execute_result"
    }
   ],
   "source": [
    "import logging\n",
    "logger = logging.getLogger('lex')\n",
    "fh = logging.FileHandler('lex.log')\n",
    "formatter = logging.Formatter(\n",
    "    '%(asctime)s - %(levelname)s - %(message)s'\n",
    ")\n",
    "\n",
    "logger.setLevel(logging.DEBUG)\n",
    "fh.setLevel(logging.DEBUG)\n",
    "fh.setFormatter(formatter)\n",
    "\n",
    "logger.addHandler(fh)\n",
    "\n",
    "device = 'cuda' if torch.cuda.is_available() else 'cpu'\n",
    "device"
   ]
  },
  {
   "cell_type": "code",
   "execution_count": 3,
   "id": "2d85115f",
   "metadata": {},
   "outputs": [
    {
     "name": "stdout",
     "output_type": "stream",
     "text": [
      "tensor(1.7371)\n"
     ]
    }
   ],
   "source": [
    "# Define the bounding boxes\n",
    "box1 = torch.tensor([[176.6819, 180.5027, 219.1436, 133.1604]])\n",
    "box2 = torch.tensor([[153.5156, 123.0469, 179.2969, 148.8281]])\n",
    "\n",
    "boxx1 = torch.stack([box1, box1])\n",
    "boxx2 = torch.stack([box2, box2])\n",
    "\n",
    "# Calculate IoU using torchvision's box_iou function\n",
    "iou = complete_box_iou_loss(boxx1, boxx2).mean()\n",
    "print(iou)"
   ]
  },
  {
   "cell_type": "markdown",
   "id": "991f6333",
   "metadata": {},
   "source": [
    "### Config for fitter"
   ]
  },
  {
   "cell_type": "code",
   "execution_count": 4,
   "id": "96499023",
   "metadata": {},
   "outputs": [
    {
     "name": "stdout",
     "output_type": "stream",
     "text": [
      "1024\n"
     ]
    },
    {
     "name": "stderr",
     "output_type": "stream",
     "text": [
      "c:\\Users\\Lex Zedrick Lorenzo\\AppData\\Local\\Programs\\Python\\Python312\\Lib\\site-packages\\torch\\nn\\modules\\transformer.py:306: UserWarning: enable_nested_tensor is True, but self.use_nested_tensor is False because encoder_layer.self_attn.batch_first was not True(use batch_first for better inference performance)\n",
      "  warnings.warn(f\"enable_nested_tensor is True, but self.use_nested_tensor is False because {why_not_sparsity_fast_path}\")\n"
     ]
    }
   ],
   "source": [
    "from project.model import RPN\n",
    "image_size = 256\n",
    "config = {\n",
    "    'model': RPN(\n",
    "        input_dim=2500,\n",
    "        output_dim=4,\n",
    "        image_size=image_size\n",
    "    ).to(device),\n",
    "    'optimizer': torch.optim.Adam,\n",
    "    'device': device,\n",
    "    'epochs': 50,\n",
    "    'loss': [nn.MSELoss(), complete_box_iou_loss],\n",
    "    # 'loss': complete_box_iou_loss,\n",
    "    'lr': 0.000001,\n",
    "}"
   ]
  },
  {
   "cell_type": "code",
   "execution_count": 5,
   "id": "c039015b-bc5d-4c59-9a13-893a74f577a5",
   "metadata": {},
   "outputs": [
    {
     "data": {
      "text/plain": [
       "(7986, 5)"
      ]
     },
     "execution_count": 5,
     "metadata": {},
     "output_type": "execute_result"
    }
   ],
   "source": [
    "ds = Dataset()\n",
    "\n",
    "data = pd.read_csv('targets.csv')\n",
    "data.shape"
   ]
  },
  {
   "cell_type": "code",
   "execution_count": 6,
   "id": "ae9b8ed8",
   "metadata": {},
   "outputs": [
    {
     "data": {
      "text/html": [
       "<div>\n",
       "<style scoped>\n",
       "    .dataframe tbody tr th:only-of-type {\n",
       "        vertical-align: middle;\n",
       "    }\n",
       "\n",
       "    .dataframe tbody tr th {\n",
       "        vertical-align: top;\n",
       "    }\n",
       "\n",
       "    .dataframe thead th {\n",
       "        text-align: right;\n",
       "    }\n",
       "</style>\n",
       "<table border=\"1\" class=\"dataframe\">\n",
       "  <thead>\n",
       "    <tr style=\"text-align: right;\">\n",
       "      <th></th>\n",
       "      <th>mri</th>\n",
       "      <th>masks</th>\n",
       "      <th>target</th>\n",
       "      <th>has_microbleed_case</th>\n",
       "      <th>has_microbleed_slice</th>\n",
       "    </tr>\n",
       "  </thead>\n",
       "  <tbody>\n",
       "    <tr>\n",
       "      <th>0</th>\n",
       "      <td>c:\\Users\\Lex Zedrick Lorenzo\\Documents\\GitHub\\...</td>\n",
       "      <td>c:\\Users\\Lex Zedrick Lorenzo\\Documents\\GitHub\\...</td>\n",
       "      <td>8</td>\n",
       "      <td>1</td>\n",
       "      <td>1</td>\n",
       "    </tr>\n",
       "    <tr>\n",
       "      <th>1</th>\n",
       "      <td>c:\\Users\\Lex Zedrick Lorenzo\\Documents\\GitHub\\...</td>\n",
       "      <td>c:\\Users\\Lex Zedrick Lorenzo\\Documents\\GitHub\\...</td>\n",
       "      <td>9</td>\n",
       "      <td>1</td>\n",
       "      <td>1</td>\n",
       "    </tr>\n",
       "    <tr>\n",
       "      <th>2</th>\n",
       "      <td>c:\\Users\\Lex Zedrick Lorenzo\\Documents\\GitHub\\...</td>\n",
       "      <td>c:\\Users\\Lex Zedrick Lorenzo\\Documents\\GitHub\\...</td>\n",
       "      <td>11</td>\n",
       "      <td>1</td>\n",
       "      <td>1</td>\n",
       "    </tr>\n",
       "    <tr>\n",
       "      <th>3</th>\n",
       "      <td>c:\\Users\\Lex Zedrick Lorenzo\\Documents\\GitHub\\...</td>\n",
       "      <td>c:\\Users\\Lex Zedrick Lorenzo\\Documents\\GitHub\\...</td>\n",
       "      <td>12</td>\n",
       "      <td>1</td>\n",
       "      <td>1</td>\n",
       "    </tr>\n",
       "    <tr>\n",
       "      <th>4</th>\n",
       "      <td>c:\\Users\\Lex Zedrick Lorenzo\\Documents\\GitHub\\...</td>\n",
       "      <td>c:\\Users\\Lex Zedrick Lorenzo\\Documents\\GitHub\\...</td>\n",
       "      <td>15</td>\n",
       "      <td>1</td>\n",
       "      <td>1</td>\n",
       "    </tr>\n",
       "    <tr>\n",
       "      <th>...</th>\n",
       "      <td>...</td>\n",
       "      <td>...</td>\n",
       "      <td>...</td>\n",
       "      <td>...</td>\n",
       "      <td>...</td>\n",
       "    </tr>\n",
       "    <tr>\n",
       "      <th>359</th>\n",
       "      <td>c:\\Users\\Lex Zedrick Lorenzo\\Documents\\GitHub\\...</td>\n",
       "      <td>c:\\Users\\Lex Zedrick Lorenzo\\Documents\\GitHub\\...</td>\n",
       "      <td>25</td>\n",
       "      <td>1</td>\n",
       "      <td>1</td>\n",
       "    </tr>\n",
       "    <tr>\n",
       "      <th>360</th>\n",
       "      <td>c:\\Users\\Lex Zedrick Lorenzo\\Documents\\GitHub\\...</td>\n",
       "      <td>c:\\Users\\Lex Zedrick Lorenzo\\Documents\\GitHub\\...</td>\n",
       "      <td>26</td>\n",
       "      <td>1</td>\n",
       "      <td>1</td>\n",
       "    </tr>\n",
       "    <tr>\n",
       "      <th>361</th>\n",
       "      <td>c:\\Users\\Lex Zedrick Lorenzo\\Documents\\GitHub\\...</td>\n",
       "      <td>c:\\Users\\Lex Zedrick Lorenzo\\Documents\\GitHub\\...</td>\n",
       "      <td>24</td>\n",
       "      <td>1</td>\n",
       "      <td>1</td>\n",
       "    </tr>\n",
       "    <tr>\n",
       "      <th>362</th>\n",
       "      <td>c:\\Users\\Lex Zedrick Lorenzo\\Documents\\GitHub\\...</td>\n",
       "      <td>c:\\Users\\Lex Zedrick Lorenzo\\Documents\\GitHub\\...</td>\n",
       "      <td>25</td>\n",
       "      <td>1</td>\n",
       "      <td>1</td>\n",
       "    </tr>\n",
       "    <tr>\n",
       "      <th>363</th>\n",
       "      <td>c:\\Users\\Lex Zedrick Lorenzo\\Documents\\GitHub\\...</td>\n",
       "      <td>c:\\Users\\Lex Zedrick Lorenzo\\Documents\\GitHub\\...</td>\n",
       "      <td>20</td>\n",
       "      <td>1</td>\n",
       "      <td>1</td>\n",
       "    </tr>\n",
       "  </tbody>\n",
       "</table>\n",
       "<p>364 rows × 5 columns</p>\n",
       "</div>"
      ],
      "text/plain": [
       "                                                   mri  \\\n",
       "0    c:\\Users\\Lex Zedrick Lorenzo\\Documents\\GitHub\\...   \n",
       "1    c:\\Users\\Lex Zedrick Lorenzo\\Documents\\GitHub\\...   \n",
       "2    c:\\Users\\Lex Zedrick Lorenzo\\Documents\\GitHub\\...   \n",
       "3    c:\\Users\\Lex Zedrick Lorenzo\\Documents\\GitHub\\...   \n",
       "4    c:\\Users\\Lex Zedrick Lorenzo\\Documents\\GitHub\\...   \n",
       "..                                                 ...   \n",
       "359  c:\\Users\\Lex Zedrick Lorenzo\\Documents\\GitHub\\...   \n",
       "360  c:\\Users\\Lex Zedrick Lorenzo\\Documents\\GitHub\\...   \n",
       "361  c:\\Users\\Lex Zedrick Lorenzo\\Documents\\GitHub\\...   \n",
       "362  c:\\Users\\Lex Zedrick Lorenzo\\Documents\\GitHub\\...   \n",
       "363  c:\\Users\\Lex Zedrick Lorenzo\\Documents\\GitHub\\...   \n",
       "\n",
       "                                                 masks  target  \\\n",
       "0    c:\\Users\\Lex Zedrick Lorenzo\\Documents\\GitHub\\...       8   \n",
       "1    c:\\Users\\Lex Zedrick Lorenzo\\Documents\\GitHub\\...       9   \n",
       "2    c:\\Users\\Lex Zedrick Lorenzo\\Documents\\GitHub\\...      11   \n",
       "3    c:\\Users\\Lex Zedrick Lorenzo\\Documents\\GitHub\\...      12   \n",
       "4    c:\\Users\\Lex Zedrick Lorenzo\\Documents\\GitHub\\...      15   \n",
       "..                                                 ...     ...   \n",
       "359  c:\\Users\\Lex Zedrick Lorenzo\\Documents\\GitHub\\...      25   \n",
       "360  c:\\Users\\Lex Zedrick Lorenzo\\Documents\\GitHub\\...      26   \n",
       "361  c:\\Users\\Lex Zedrick Lorenzo\\Documents\\GitHub\\...      24   \n",
       "362  c:\\Users\\Lex Zedrick Lorenzo\\Documents\\GitHub\\...      25   \n",
       "363  c:\\Users\\Lex Zedrick Lorenzo\\Documents\\GitHub\\...      20   \n",
       "\n",
       "     has_microbleed_case  has_microbleed_slice  \n",
       "0                      1                     1  \n",
       "1                      1                     1  \n",
       "2                      1                     1  \n",
       "3                      1                     1  \n",
       "4                      1                     1  \n",
       "..                   ...                   ...  \n",
       "359                    1                     1  \n",
       "360                    1                     1  \n",
       "361                    1                     1  \n",
       "362                    1                     1  \n",
       "363                    1                     1  \n",
       "\n",
       "[364 rows x 5 columns]"
      ]
     },
     "execution_count": 6,
     "metadata": {},
     "output_type": "execute_result"
    }
   ],
   "source": [
    "data = data.query('has_microbleed_slice == 1').reset_index(drop=True)\n",
    "data"
   ]
  },
  {
   "cell_type": "code",
   "execution_count": 7,
   "id": "c0e52833-8d32-4b6f-819d-8ad9804886ea",
   "metadata": {},
   "outputs": [
    {
     "data": {
      "text/plain": [
       "(45, 5)"
      ]
     },
     "execution_count": 7,
     "metadata": {},
     "output_type": "execute_result"
    }
   ],
   "source": [
    "ch1 = ds.load_raw_mri(1)\n",
    "data = data[data.mri.isin(ch1)]\n",
    "data.shape"
   ]
  },
  {
   "cell_type": "markdown",
   "id": "b3d63fbc",
   "metadata": {},
   "source": [
    "### Train and Test Split"
   ]
  },
  {
   "cell_type": "code",
   "execution_count": 8,
   "id": "5a1220e7",
   "metadata": {},
   "outputs": [],
   "source": [
    "from sklearn.model_selection import train_test_split\n",
    "\n",
    "data_train, data_test = train_test_split(\n",
    "    data,\n",
    "    test_size=0.2,\n",
    "    # random_state=12\n",
    ")\n",
    "\n",
    "data_train = data_train.reset_index(drop=True)\n",
    "data_test = data_test.reset_index(drop=True)"
   ]
  },
  {
   "cell_type": "code",
   "execution_count": 9,
   "id": "c8a7d5f3",
   "metadata": {},
   "outputs": [
    {
     "data": {
      "text/plain": [
       "((36, 5), (9, 5))"
      ]
     },
     "execution_count": 9,
     "metadata": {},
     "output_type": "execute_result"
    }
   ],
   "source": [
    "data_train.shape, data_test.shape"
   ]
  },
  {
   "cell_type": "code",
   "execution_count": 10,
   "id": "8e7c9d4f-da9f-47fa-befe-0b8102a05bf1",
   "metadata": {},
   "outputs": [],
   "source": [
    "cases = data.mri\n",
    "masks = data.masks\n",
    "target = data.target\n",
    "\n",
    "global_min, global_max = compute_statistics(data_train.mri.tolist())\n",
    "\n",
    "# global_min = 0.0\n",
    "# global_max = 1417.92822265625"
   ]
  },
  {
   "cell_type": "code",
   "execution_count": 11,
   "id": "070dbefa",
   "metadata": {},
   "outputs": [
    {
     "data": {
      "text/plain": [
       "(0.0, 1417.92822265625)"
      ]
     },
     "execution_count": 11,
     "metadata": {},
     "output_type": "execute_result"
    }
   ],
   "source": [
    "global_min, global_max"
   ]
  },
  {
   "cell_type": "code",
   "execution_count": 12,
   "id": "18d1bdb1",
   "metadata": {},
   "outputs": [],
   "source": [
    "transform = NiftiToTensorTransform(\n",
    "    target_shape = (image_size, image_size), \n",
    "    rpn_mode=True,\n",
    "    normalization=(global_min, global_max)\n",
    ")"
   ]
  },
  {
   "cell_type": "code",
   "execution_count": 13,
   "id": "fadc2654-872f-4aba-8f6c-036a1da3b799",
   "metadata": {},
   "outputs": [],
   "source": [
    "train_set = VALDODataset(\n",
    "    cases=data_train.mri,\n",
    "    masks=data_train.masks,\n",
    "    target=data_train.target,\n",
    "    transform=transform,\n",
    ")\n",
    "\n",
    "val_set = VALDODataset(\n",
    "    cases=data_test.mri,\n",
    "    masks=data_test.masks,\n",
    "    target=data_test.target,\n",
    "    transform=transform,\n",
    ")\n",
    "\n",
    "batch_size = 20\n",
    "\n",
    "train_loader = DataLoader(\n",
    "    train_set,\n",
    "    shuffle=True,\n",
    "    batch_size=batch_size,\n",
    "    collate_fn=collatev2,\n",
    ")\n",
    "\n",
    "val_loader = DataLoader(\n",
    "    val_set,\n",
    "    shuffle=True,\n",
    "    batch_size=batch_size,\n",
    "    collate_fn=collatev2,\n",
    ")"
   ]
  },
  {
   "cell_type": "markdown",
   "id": "19e02f6e-3950-48eb-a50d-68916ae31b80",
   "metadata": {},
   "source": [
    "### Fitter"
   ]
  },
  {
   "cell_type": "code",
   "execution_count": 14,
   "id": "c77da2e6",
   "metadata": {},
   "outputs": [],
   "source": [
    "from project import Fitter\n",
    "\n",
    "class RPNFitter(Fitter):\n",
    "    def train_one_epoch(self, train_loader):\n",
    "        self.model.train()\n",
    "        loss_history = []\n",
    "        counter = 0\n",
    "        for batch in train_loader:\n",
    "            Y = []\n",
    "            T = []\n",
    "            for slices, masks, target, case in batch:\n",
    "                num_slices = slices.shape[0]\n",
    "                x = slices.squeeze(1).float().to(self.device)\n",
    "                masks = masks.squeeze(1).float().to(self.device)\n",
    "\n",
    "                for i in range(masks.shape[0]):\n",
    "                    masks[i][0] = masks[i][0] / 300\n",
    "                    if any(num < 0 for num in masks[i][0]):\n",
    "                        print(masks[i][0])\n",
    "                # print(masks.shape)\n",
    "                # print(masks)\n",
    "                # break\n",
    "                y = self.model(x, target)\n",
    "                # logger.info(f'MEMORY after X, Y, T to device\\t{memcheck()}')\n",
    "                logger.info(f'Prediction: {y * 300}, Original: {masks[target] * 300}')\n",
    "                Y.append(y)\n",
    "                T.append(masks[target])\n",
    "                # memcheck()\n",
    "                # del x, y, masks, slices\n",
    "                # torch.cuda.empty_cache()\n",
    "                # memcheck()\n",
    "            \n",
    "            losses = self.loss[0](torch.stack(Y), torch.stack(T)) * 0.001\n",
    "            losses += self.loss[1](torch.stack(Y), torch.stack(T), reduction='mean')\n",
    "            # print(losses)\n",
    "            self.optimizer.zero_grad()\n",
    "            losses.backward()\n",
    "            self.optimizer.step()\n",
    "            counter += len(batch)\n",
    "            if counter % 100 == 0:\n",
    "                logger.info(f'Progress:\\t{counter}/{len(train_set)}')\n",
    "                logger.info(f'Current error:\\t{losses}')\n",
    "            loss_history.append(losses.detach().cpu().numpy())\n",
    "            \n",
    "        return loss_history\n",
    "    \n",
    "    def validation(self, val_loader):\n",
    "        self.model.eval()\n",
    "        loss_history = []\n",
    "        with torch.inference_mode():\n",
    "            for batch in val_loader:\n",
    "                Y = []\n",
    "                T = []\n",
    "                for slices, masks, target, case in batch:\n",
    "                    x = slices.squeeze(1).float().to(self.device)\n",
    "                    masks = masks.squeeze(1).float().to(self.device)/300\n",
    "                    y = self.model(x, target)\n",
    "                    Y.append(y)\n",
    "                    T.append(masks[target])\n",
    "                losses = self.loss[0](torch.stack(Y), torch.stack(T)) * 0.001\n",
    "                losses += self.loss[1](torch.stack(Y), torch.stack(T), reduction='mean')\n",
    "                loss_history.append(losses.cpu().numpy())\n",
    "        return loss_history"
   ]
  },
  {
   "cell_type": "code",
   "execution_count": 15,
   "id": "fb5c239a-96c6-462b-b8f5-4d2f2f5c111f",
   "metadata": {},
   "outputs": [],
   "source": [
    "fitter = RPNFitter(config)"
   ]
  },
  {
   "cell_type": "markdown",
   "id": "e869bbfa-ac7c-40a4-b450-05e959e6cb93",
   "metadata": {},
   "source": [
    "### Training"
   ]
  },
  {
   "cell_type": "code",
   "execution_count": 16,
   "id": "46ce3485-b716-4088-bec7-71a7a9cff410",
   "metadata": {
    "scrolled": true
   },
   "outputs": [
    {
     "name": "stdout",
     "output_type": "stream",
     "text": [
      "EPOCH 0 ==============================\n"
     ]
    },
    {
     "name": "stderr",
     "output_type": "stream",
     "text": [
      "c:\\Users\\Lex Zedrick Lorenzo\\AppData\\Local\\Programs\\Python\\Python312\\Lib\\site-packages\\torch\\nn\\functional.py:5504: UserWarning: 1Torch was not compiled with flash attention. (Triggered internally at ..\\aten\\src\\ATen\\native\\transformers\\cuda\\sdp_utils.cpp:455.)\n",
      "  attn_output = scaled_dot_product_attention(q, k, v, attn_mask, dropout_p, is_causal)\n"
     ]
    },
    {
     "name": "stdout",
     "output_type": "stream",
     "text": [
      "EPOCH 1 ==============================\n",
      "EPOCH 2 ==============================\n",
      "EPOCH 3 ==============================\n",
      "EPOCH 4 ==============================\n",
      "EPOCH 5 ==============================\n",
      "EPOCH 6 ==============================\n",
      "EPOCH 7 ==============================\n",
      "EPOCH 8 ==============================\n",
      "EPOCH 9 ==============================\n",
      "EPOCH 10 ==============================\n",
      "EPOCH 11 ==============================\n",
      "EPOCH 12 ==============================\n",
      "EPOCH 13 ==============================\n",
      "EPOCH 14 ==============================\n",
      "EPOCH 15 ==============================\n",
      "EPOCH 16 ==============================\n",
      "EPOCH 17 ==============================\n",
      "EPOCH 18 ==============================\n",
      "EPOCH 19 ==============================\n",
      "EPOCH 20 ==============================\n",
      "EPOCH 21 ==============================\n",
      "EPOCH 22 ==============================\n",
      "EPOCH 23 ==============================\n",
      "EPOCH 24 ==============================\n",
      "EPOCH 25 ==============================\n",
      "EPOCH 26 ==============================\n",
      "EPOCH 27 ==============================\n",
      "EPOCH 28 ==============================\n",
      "EPOCH 29 ==============================\n",
      "EPOCH 30 ==============================\n",
      "EPOCH 31 ==============================\n",
      "EPOCH 32 ==============================\n",
      "EPOCH 33 ==============================\n",
      "EPOCH 34 ==============================\n",
      "EPOCH 35 ==============================\n",
      "EPOCH 36 ==============================\n",
      "EPOCH 37 ==============================\n",
      "EPOCH 38 ==============================\n",
      "EPOCH 39 ==============================\n",
      "EPOCH 40 ==============================\n",
      "EPOCH 41 ==============================\n",
      "EPOCH 42 ==============================\n",
      "EPOCH 43 ==============================\n",
      "EPOCH 44 ==============================\n",
      "EPOCH 45 ==============================\n",
      "EPOCH 46 ==============================\n",
      "EPOCH 47 ==============================\n",
      "EPOCH 48 ==============================\n",
      "EPOCH 49 ==============================\n"
     ]
    }
   ],
   "source": [
    "try:\n",
    "    thist, vhist = fitter.fit(train_loader, val_loader)\n",
    "except Exception as e:\n",
    "    winsound.Beep(500, 500)\n",
    "    print(e)"
   ]
  },
  {
   "cell_type": "code",
   "execution_count": 17,
   "id": "e6454f30-20d4-4c7f-bb19-b409328bf321",
   "metadata": {},
   "outputs": [],
   "source": [
    "winsound.Beep(500, 500)\n",
    "winsound.Beep(500, 500)\n",
    "winsound.Beep(500, 500)"
   ]
  },
  {
   "cell_type": "code",
   "execution_count": 18,
   "id": "26dc0f77-2c1d-4de6-af13-caadc30871e3",
   "metadata": {},
   "outputs": [],
   "source": [
    "# import seaborn as sns\n",
    "# import numpy as np\n",
    "\n",
    "# sns.lineplot(torch.tensor(np.array(hist)).view(-1))\n",
    "# torch.tensor(np.array(hist)).mean()"
   ]
  },
  {
   "cell_type": "markdown",
   "id": "f0ef5ac5",
   "metadata": {},
   "source": [
    "### Line Plot by epoch mean"
   ]
  },
  {
   "cell_type": "code",
   "execution_count": 19,
   "id": "e61e4009",
   "metadata": {},
   "outputs": [
    {
     "data": {
      "image/png": "[encoded data removed]",
      "text/plain": [
       "<Figure size 640x480 with 1 Axes>"
      ]
     },
     "metadata": {},
     "output_type": "display_data"
    }
   ],
   "source": [
    "import seaborn as sns\n",
    "import numpy as np\n",
    "import matplotlib.pyplot as plt\n",
    "\n",
    "th = torch.tensor(np.array(thist))\n",
    "vh = torch.tensor(np.array(vhist))\n",
    "# print(th.shape)\n",
    "sns.lineplot(th.mean(1), label='Training')\n",
    "sns.lineplot(vh.mean(1), label='Validation')\n",
    "plt.legend()\n",
    "plt.show()"
   ]
  },
  {
   "cell_type": "markdown",
   "id": "a4d795c8",
   "metadata": {},
   "source": [
    "### Save the weights"
   ]
  },
  {
   "cell_type": "code",
   "execution_count": 21,
   "id": "ed6a992b",
   "metadata": {},
   "outputs": [
    {
     "data": {
      "text/plain": [
       "'RPN_test_normalizations_weights_261024165852.pt'"
      ]
     },
     "execution_count": 21,
     "metadata": {},
     "output_type": "execute_result"
    }
   ],
   "source": [
    "import datetime\n",
    "\n",
    "s = f'RPN_test_normalizations_weights_{datetime.datetime.now().strftime(\"%d%m%y%H%M%S\")}.pt'\n",
    "s"
   ]
  },
  {
   "cell_type": "code",
   "execution_count": 22,
   "id": "c90bdcf2",
   "metadata": {},
   "outputs": [],
   "source": [
    "model = config['model']"
   ]
  },
  {
   "cell_type": "code",
   "execution_count": 23,
   "id": "072ceb4f",
   "metadata": {},
   "outputs": [],
   "source": [
    "torch.save(model.state_dict(), s)"
   ]
  },
  {
   "cell_type": "markdown",
   "id": "0f967472-4c8d-4d01-bcbd-2c16d877d756",
   "metadata": {},
   "source": [
    "# Summary\n",
    "\n",
    "Performance of self-made embedder is a bit better compared to the pretrained embedder. Might work better if self-made embedder is also pretrained\n",
    "\n",
    "### Next goals\n",
    "- train embedder with an autoencoder setup"
   ]
  },
  {
   "cell_type": "markdown",
   "id": "8137478e-fcfa-48fd-93fc-deec214a29c0",
   "metadata": {},
   "source": [
    "# Trial"
   ]
  },
  {
   "cell_type": "code",
   "execution_count": 24,
   "id": "9365d07e-a64f-4acf-9d1f-23613bc54610",
   "metadata": {},
   "outputs": [],
   "source": [
    "model = fitter.model\n",
    "# model = model.load_state_dict(torch.load('RPN_test_normalizations_weights_261024010615.pt'))"
   ]
  },
  {
   "cell_type": "code",
   "execution_count": 25,
   "id": "8bbe7961-4187-4e2b-bbf7-1104fb7a3a21",
   "metadata": {},
   "outputs": [],
   "source": [
    "sample = next(enumerate(val_loader))"
   ]
  },
  {
   "cell_type": "code",
   "execution_count": 26,
   "id": "b0ec23f1-6d8b-4435-8e94-a408851f2319",
   "metadata": {},
   "outputs": [],
   "source": [
    "slices, masks, target, case = sample[1][1]"
   ]
  },
  {
   "cell_type": "code",
   "execution_count": 27,
   "id": "d59e9431-791b-4842-aae1-7886dafc18f5",
   "metadata": {},
   "outputs": [
    {
     "data": {
      "text/plain": [
       "tensor([[[ 77.0000, 144.5000,  97.0000, 173.0000]]], dtype=torch.float64)"
      ]
     },
     "execution_count": 27,
     "metadata": {},
     "output_type": "execute_result"
    }
   ],
   "source": [
    "masks[target]"
   ]
  },
  {
   "cell_type": "code",
   "execution_count": 28,
   "id": "adc51c69-6826-43db-a96e-33f1a803f057",
   "metadata": {},
   "outputs": [
    {
     "data": {
      "text/plain": [
       "35"
      ]
     },
     "execution_count": 28,
     "metadata": {},
     "output_type": "execute_result"
    }
   ],
   "source": [
    "num_slices = slices.shape[0]\n",
    "num_slices"
   ]
  },
  {
   "cell_type": "code",
   "execution_count": 29,
   "id": "5c22f7c3-9087-4495-9ec9-5dcd8dce2eca",
   "metadata": {},
   "outputs": [],
   "source": [
    "x = slices.squeeze(1).float().to(device)\n",
    "T = masks.squeeze(1).float().to(device)"
   ]
  },
  {
   "cell_type": "code",
   "execution_count": 30,
   "id": "04899db2-ea7a-4294-a6da-77631bf0f7a5",
   "metadata": {},
   "outputs": [],
   "source": [
    "y = model(x, target)"
   ]
  },
  {
   "cell_type": "code",
   "execution_count": 31,
   "id": "88de0e9a",
   "metadata": {},
   "outputs": [
    {
     "data": {
      "text/plain": [
       "tensor(16434.3418, device='cuda:0', grad_fn=<MseLossBackward0>)"
      ]
     },
     "execution_count": 31,
     "metadata": {},
     "output_type": "execute_result"
    }
   ],
   "source": [
    "fitter.loss[0](y, T[target])"
   ]
  },
  {
   "cell_type": "code",
   "execution_count": 32,
   "id": "c85f88f0",
   "metadata": {},
   "outputs": [
    {
     "data": {
      "text/plain": [
       "tensor(16436.4434, device='cuda:0', grad_fn=<AddBackward0>)"
      ]
     },
     "execution_count": 32,
     "metadata": {},
     "output_type": "execute_result"
    }
   ],
   "source": [
    "losses = fitter.loss[0](y, T[target])\n",
    "losses += fitter.loss[1](y, T[target], reduction='mean')\n",
    "losses"
   ]
  },
  {
   "cell_type": "code",
   "execution_count": 33,
   "id": "457ca289-a3ea-47c0-a132-3b631088211c",
   "metadata": {},
   "outputs": [
    {
     "data": {
      "text/plain": [
       "tensor([[0.1474, 0.7348, 0.5923, 0.1759]], device='cuda:0',\n",
       "       grad_fn=<SigmoidBackward0>)"
      ]
     },
     "execution_count": 33,
     "metadata": {},
     "output_type": "execute_result"
    }
   ],
   "source": [
    "y"
   ]
  },
  {
   "cell_type": "code",
   "execution_count": 34,
   "id": "7cdf95f4",
   "metadata": {},
   "outputs": [
    {
     "data": {
      "text/plain": [
       "tensor([[[ 77.0000, 144.5000,  97.0000, 173.0000]]], dtype=torch.float64)"
      ]
     },
     "execution_count": 34,
     "metadata": {},
     "output_type": "execute_result"
    }
   ],
   "source": [
    "masks[target]"
   ]
  },
  {
   "cell_type": "code",
   "execution_count": 35,
   "id": "fdcf343e",
   "metadata": {},
   "outputs": [
    {
     "data": {
      "text/plain": [
       "array([ 44.22143, 220.44646, 177.68234,  52.77052], dtype=float32)"
      ]
     },
     "execution_count": 35,
     "metadata": {},
     "output_type": "execute_result"
    }
   ],
   "source": [
    "y[0].detach().cpu().numpy() * 300 "
   ]
  },
  {
   "cell_type": "code",
   "execution_count": 36,
   "id": "34b31204",
   "metadata": {},
   "outputs": [
    {
     "data": {
      "text/plain": [
       "8"
      ]
     },
     "execution_count": 36,
     "metadata": {},
     "output_type": "execute_result"
    }
   ],
   "source": [
    "target"
   ]
  },
  {
   "cell_type": "code",
   "execution_count": 37,
   "id": "f3a51258",
   "metadata": {},
   "outputs": [],
   "source": [
    "import matplotlib.patches as patches\n",
    "import matplotlib.pyplot as plt"
   ]
  },
  {
   "cell_type": "code",
   "execution_count": 38,
   "id": "c20e80f6",
   "metadata": {},
   "outputs": [
    {
     "data": {
      "text/plain": [
       "<matplotlib.patches.Rectangle at 0x18ea8c72cc0>"
      ]
     },
     "execution_count": 38,
     "metadata": {},
     "output_type": "execute_result"
    },
    {
     "data": {
      "image/png": "[encoded data removed]",
      "text/plain": [
       "<Figure size 1000x1000 with 1 Axes>"
      ]
     },
     "metadata": {},
     "output_type": "display_data"
    }
   ],
   "source": [
    "original_bbox = masks[target][0][0] # b_box\n",
    "predicted_bbox = y[0].detach().cpu().numpy() * 300\n",
    "\n",
    "fig, ax = plt.subplots(1, 1, figsize=(10, 10))\n",
    "\n",
    "ax.imshow(slices[target][0, 0, :], cmap='gray')\n",
    "# Create the bounding box rectangle\n",
    "original_rect = patches.Rectangle(\n",
    "    (original_bbox[0], original_bbox[1]),  # (x_min, y_min)\n",
    "    original_bbox[2] - original_bbox[0],   # width\n",
    "    original_bbox[3] - original_bbox[1],   # height\n",
    "    linewidth=1, edgecolor='g', facecolor='none'  # red bounding box\n",
    ")\n",
    "\n",
    "# Create the bounding box rectangle\n",
    "predicted_rect = patches.Rectangle(\n",
    "    (predicted_bbox[0], predicted_bbox[1]),  # (x_min, y_min)\n",
    "    predicted_bbox[2] - predicted_bbox[0],   # width\n",
    "    predicted_bbox[3] - predicted_bbox[1],   # height\n",
    "    linewidth=1, edgecolor='r', facecolor='none'  # red bounding box\n",
    ")\n",
    "\n",
    "# Add the rectangle to the axis\n",
    "ax.add_patch(original_rect)\n",
    "ax.add_patch(predicted_rect)"
   ]
  },
  {
   "cell_type": "code",
   "execution_count": 39,
   "id": "e3e7b874",
   "metadata": {},
   "outputs": [],
   "source": [
    "\n",
    "\n",
    "# original_bbox = masks[target][0][0] # b_box\n",
    "# predicted_bbox = y[0].detach().cpu().numpy() * 300\n",
    "\n",
    "# img = slices\n",
    "\n",
    "# num_slices = slices.shape[0] # Number of slices\n",
    "\n",
    "# # Figure with numslices as rows and 3 columns\n",
    "# fig, ax = plt.subplots(num_slices, 1, figsize=(10, num_slices * 2))\n",
    "\n",
    "# for j in range(num_slices): \n",
    "\n",
    "#     # Plot label in secondf column\n",
    "#     ax[j].imshow(img[j][0, 0, :], cmap='gray')\n",
    "#     ax[j].set_title(f'Original Slice {j}')\n",
    "\n",
    "#     # Create the bounding box rectangle\n",
    "#     original_rect = patches.Rectangle(\n",
    "#         (original_bbox[0], original_bbox[1]),  # (x_min, y_min)\n",
    "#         original_bbox[2] - original_bbox[0],   # width\n",
    "#         original_bbox[3] - original_bbox[1],   # height\n",
    "#         linewidth=1, edgecolor='g', facecolor='none'  # red bounding box\n",
    "#     )\n",
    "\n",
    "#     # Create the bounding box rectangle\n",
    "#     predicted_rect = patches.Rectangle(\n",
    "#         (predicted_bbox[0], predicted_bbox[1]),  # (x_min, y_min)\n",
    "#         predicted_bbox[2] - predicted_bbox[0],   # width\n",
    "#         predicted_bbox[3] - predicted_bbox[1],   # height\n",
    "#         linewidth=1, edgecolor='r', facecolor='none'  # red bounding box\n",
    "#     )\n",
    "\n",
    "#     # Add the rectangle to the axis\n",
    "#     ax[j].add_patch(original_rect)\n",
    "#     ax[j].add_patch(predicted_rect)\n",
    "\n",
    "# plt.show()"
   ]
  }
 ],
 "metadata": {
  "kernelspec": {
   "display_name": "Python 3",
   "language": "python",
   "name": "python3"
  },
  "language_info": {
   "codemirror_mode": {
    "name": "ipython",
    "version": 3
   },
   "file_extension": ".py",
   "mimetype": "text/x-python",
   "name": "python",
   "nbconvert_exporter": "python",
   "pygments_lexer": "ipython3",
   "version": "3.12.1"
  }
 },
 "nbformat": 4,
 "nbformat_minor": 5
}
