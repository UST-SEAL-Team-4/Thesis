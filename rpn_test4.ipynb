{
 "cells": [
  {
   "cell_type": "code",
   "execution_count": 1,
   "id": "44fe29d9-78e7-41eb-9d8e-c696e0c39c1b",
   "metadata": {},
   "outputs": [
    {
     "name": "stderr",
     "output_type": "stream",
     "text": [
      "INFO:albumentations.check_version:A new version of Albumentations is available: 1.4.15 (you have 1.4.7). Upgrade using: pip install --upgrade albumentations\n"
     ]
    }
   ],
   "source": [
    "import torch\n",
    "import torch.nn as nn\n",
    "from project.dataset import Dataset, VALDODataset\n",
    "from torch.utils.data import DataLoader\n",
    "from project.preprocessing import NiftiToTensorTransform, z_score_normalization\n",
    "from project.utils import collate_fn, plot_mri_slice, plot_all_slices, plot_all_slices_from_array"
   ]
  },
  {
   "cell_type": "code",
   "execution_count": 2,
   "id": "f0ed558a-5e3f-4a91-ad4a-59be74b2f4f9",
   "metadata": {},
   "outputs": [
    {
     "data": {
      "text/plain": [
       "'cuda'"
      ]
     },
     "execution_count": 2,
     "metadata": {},
     "output_type": "execute_result"
    }
   ],
   "source": [
    "device = 'cuda' if torch.cuda.is_available() else 'cpu'\n",
    "device"
   ]
  },
  {
   "cell_type": "code",
   "execution_count": 3,
   "id": "bf78ffeb-207e-4dc2-ab5d-f6ead9981b03",
   "metadata": {},
   "outputs": [],
   "source": [
    "ds = Dataset()"
   ]
  },
  {
   "cell_type": "code",
   "execution_count": 4,
   "id": "c03ae679-a626-4b05-a9e5-f6b8a69df871",
   "metadata": {},
   "outputs": [],
   "source": [
    "cases = ds.load_raw_mri()\n",
    "masks = ds.load_cmb_masks()\n",
    "\n",
    "transform = NiftiToTensorTransform(target_shape = (50, 50), rpn_mode=True)"
   ]
  },
  {
   "cell_type": "code",
   "execution_count": 5,
   "id": "28bbd184-e05e-467d-9568-537c206eb781",
   "metadata": {},
   "outputs": [
    {
     "name": "stderr",
     "output_type": "stream",
     "text": [
      "pixdim[0] (qfac) should be 1 (default) or -1; setting qfac to 1\n",
      "INFO:nibabel.global:pixdim[0] (qfac) should be 1 (default) or -1; setting qfac to 1\n"
     ]
    }
   ],
   "source": [
    "dataset = VALDODataset(\n",
    "    cases=cases,\n",
    "    masks=masks,\n",
    "    transform=transform,\n",
    "    normalization=z_score_normalization,\n",
    ")"
   ]
  },
  {
   "cell_type": "code",
   "execution_count": 6,
   "id": "9ed17950-8c3b-4dbb-9c40-d57ff5f452c4",
   "metadata": {},
   "outputs": [],
   "source": [
    "dloader = DataLoader(\n",
    "    dataset,\n",
    "    shuffle=True,\n",
    "    batch_size=1,\n",
    "    collate_fn=collate_fn,\n",
    ")"
   ]
  },
  {
   "cell_type": "code",
   "execution_count": 7,
   "id": "2bde784f-4fca-43c4-8b04-cc9e5c0cbe7f",
   "metadata": {},
   "outputs": [
    {
     "name": "stderr",
     "output_type": "stream",
     "text": [
      "C:\\Program Files\\Python310\\lib\\site-packages\\torch\\nn\\modules\\transformer.py:306: UserWarning: enable_nested_tensor is True, but self.use_nested_tensor is False because encoder_layer.self_attn.batch_first was not True(use batch_first for better inference performance)\n",
      "  warnings.warn(f\"enable_nested_tensor is True, but self.use_nested_tensor is False because {why_not_sparsity_fast_path}\")\n"
     ]
    }
   ],
   "source": [
    "from project.model import RPN\n",
    "\n",
    "config = {\n",
    "    'model': RPN(50**2, 4, 5, 2500).to(device),\n",
    "    'optimizer': torch.optim.Adam,\n",
    "    'device': device,\n",
    "    'epochs': 1,\n",
    "    'loss': nn.SmoothL1Loss(),\n",
    "    # 'loss': nn.MSELoss(),\n",
    "    'lr': 0.0000001\n",
    "}"
   ]
  },
  {
   "cell_type": "code",
   "execution_count": 8,
   "id": "e27213c5-1253-4aa6-b6b9-aa561434667c",
   "metadata": {},
   "outputs": [],
   "source": [
    "from project import Fitter\n",
    "\n",
    "class RPNFitter(Fitter):\n",
    "    def train_one_epoch(self, train_loader):\n",
    "        self.model.train()\n",
    "        # for all samples in train_loader\n",
    "        loss_history = []\n",
    "        for slices, masks, case, counts in train_loader:\n",
    "            num_slices = slices.shape[0]\n",
    "            masks = masks.view(num_slices, 1, -1).float().to(self.device)\n",
    "            # x = slices.view(num_slices, 1, 1, -1).float().to(self.device)\n",
    "            x = slices.view(num_slices, 1, -1).float().to(self.device)\n",
    "            y = []\n",
    "            # feed each slice to rpn\n",
    "            # y = self.model(x)\n",
    "            for slc in range(num_slices):\n",
    "                y = self.model(x, slc)\n",
    "                losses = self.loss(y, masks[slc])\n",
    "                loss_history.append(losses)\n",
    "                self.optimizer.zero_grad()\n",
    "                losses.backward()\n",
    "                self.optimizer.step()\n",
    "                \n",
    "            # y = torch.stack(y)\n",
    "            # calculate loss\n",
    "            # losses = self.loss(y, masks)\n",
    "            # loss_history.append(losses)\n",
    "            # self.optimizer.zero_grad()\n",
    "            # losses.backward()\n",
    "            # self.optimizer.step()\n",
    "        \n",
    "        return loss_history\n",
    "        # requery rpn with \n",
    "        \n",
    "    def validation(self, val_loader):\n",
    "        self.model.eval()\n",
    "        with torch.inference_mode():\n",
    "            loss_history = []\n",
    "            # feed all samples\n",
    "            for slices, masks, case, counts in val_loader:\n",
    "                num_slices = slices.shape[0]\n",
    "                masks = masks.float().to(self.device)\n",
    "                x = slices.view(num_slices, 1, 1, -1).float().to(self.device)\n",
    "                y = []\n",
    "                for slc in x:\n",
    "                    out = self.model(slc)\n",
    "                    y.append(out)\n",
    "                y = torch.stack(y)\n",
    "                # calculate loss\n",
    "                losses = self.loss(y, masks)\n",
    "                loss_history.append(losses)\n",
    "            \n",
    "            return loss_history\n",
    "            # get prediction per slice"
   ]
  },
  {
   "cell_type": "code",
   "execution_count": 9,
   "id": "1853759b-3edb-490f-bf3b-3ed966018d23",
   "metadata": {},
   "outputs": [],
   "source": [
    "fitter = RPNFitter(config)"
   ]
  },
  {
   "cell_type": "code",
   "execution_count": 10,
   "id": "bac994a6-7edb-4574-9084-da263d341bd9",
   "metadata": {},
   "outputs": [
    {
     "name": "stderr",
     "output_type": "stream",
     "text": [
      "pixdim[0] (qfac) should be 1 (default) or -1; setting qfac to 1\n",
      "INFO:nibabel.global:pixdim[0] (qfac) should be 1 (default) or -1; setting qfac to 1\n",
      "pixdim[0] (qfac) should be 1 (default) or -1; setting qfac to 1\n",
      "INFO:nibabel.global:pixdim[0] (qfac) should be 1 (default) or -1; setting qfac to 1\n",
      "pixdim[0] (qfac) should be 1 (default) or -1; setting qfac to 1\n",
      "INFO:nibabel.global:pixdim[0] (qfac) should be 1 (default) or -1; setting qfac to 1\n",
      "pixdim[0] (qfac) should be 1 (default) or -1; setting qfac to 1\n",
      "INFO:nibabel.global:pixdim[0] (qfac) should be 1 (default) or -1; setting qfac to 1\n"
     ]
    }
   ],
   "source": [
    "hist = fitter.fit(dloader, dloader)"
   ]
  },
  {
   "cell_type": "code",
   "execution_count": 18,
   "id": "a06b9039-755b-462d-b7b8-249dcc922933",
   "metadata": {},
   "outputs": [
    {
     "data": {
      "text/plain": [
       "tensor([0.0951, 0.0525, 0.0628,  ..., 0.0395, 0.0454, 0.0201])"
      ]
     },
     "execution_count": 18,
     "metadata": {},
     "output_type": "execute_result"
    }
   ],
   "source": [
    "torch.tensor(hist[0])"
   ]
  },
  {
   "cell_type": "code",
   "execution_count": 12,
   "id": "57c18855-604a-4ae4-a7aa-d8fdbbdb8ff5",
   "metadata": {},
   "outputs": [
    {
     "data": {
      "text/plain": [
       "<Axes: >"
      ]
     },
     "execution_count": 12,
     "metadata": {},
     "output_type": "execute_result"
    },
    {
     "data": {
      "image/png": "[encoded data removed]",
      "text/plain": [
       "<Figure size 640x480 with 1 Axes>"
      ]
     },
     "metadata": {},
     "output_type": "display_data"
    }
   ],
   "source": [
    "import seaborn as sns\n",
    "\n",
    "sns.lineplot(torch.tensor(hist[0]))"
   ]
  },
  {
   "cell_type": "code",
   "execution_count": 13,
   "id": "a4217328-c6d3-41c5-99ab-7506b919c0ca",
   "metadata": {},
   "outputs": [],
   "source": [
    "model = fitter.model"
   ]
  },
  {
   "cell_type": "code",
   "execution_count": 21,
   "id": "42412c1f-217e-498d-9d24-05ea26643dcf",
   "metadata": {},
   "outputs": [],
   "source": [
    "slices, masks, case, counts = next(enumerate(dloader))[1]"
   ]
  },
  {
   "cell_type": "code",
   "execution_count": 15,
   "id": "8f9d2862-4f40-40c1-af23-296cca26d118",
   "metadata": {},
   "outputs": [],
   "source": [
    "num_slices = slices.shape[0]"
   ]
  },
  {
   "cell_type": "code",
   "execution_count": null,
   "id": "0633e05b-c7a8-4397-a269-6a3b7a2c767b",
   "metadata": {},
   "outputs": [],
   "source": [
    "x = slices.view(num_slices, 1, -1).float().to(device)"
   ]
  },
  {
   "cell_type": "code",
   "execution_count": 58,
   "id": "9508504c-991d-4b19-bdfe-d368136b61a2",
   "metadata": {},
   "outputs": [],
   "source": [
    "y = model(x, 31)"
   ]
  },
  {
   "cell_type": "code",
   "execution_count": 54,
   "id": "2a23cff9-152b-4d19-a379-8b42ded53f6e",
   "metadata": {},
   "outputs": [
    {
     "data": {
      "text/plain": [
       "tensor([[[32.8125, 20.5078, 33.2031, 20.8984]]], dtype=torch.float64)"
      ]
     },
     "execution_count": 54,
     "metadata": {},
     "output_type": "execute_result"
    }
   ],
   "source": [
    "masks[31]"
   ]
  },
  {
   "cell_type": "code",
   "execution_count": 60,
   "id": "9d2ce035-f4d9-4a1e-83f6-28e79e890133",
   "metadata": {},
   "outputs": [
    {
     "data": {
      "text/plain": [
       "tensor([[-0.4076,  0.3363, -0.2537, -0.0724]], device='cuda:0',\n",
       "       grad_fn=<EluBackward0>)"
      ]
     },
     "execution_count": 60,
     "metadata": {},
     "output_type": "execute_result"
    }
   ],
   "source": [
    "y"
   ]
  }
 ],
 "metadata": {
  "kernelspec": {
   "display_name": "Python 3 (ipykernel)",
   "language": "python",
   "name": "python3"
  },
  "language_info": {
   "codemirror_mode": {
    "name": "ipython",
    "version": 3
   },
   "file_extension": ".py",
   "mimetype": "text/x-python",
   "name": "python",
   "nbconvert_exporter": "python",
   "pygments_lexer": "ipython3",
   "version": "3.10.5"
  }
 },
 "nbformat": 4,
 "nbformat_minor": 5
}
