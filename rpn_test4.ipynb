{
 "cells": [
  {
   "cell_type": "code",
   "execution_count": 1,
   "id": "44fe29d9-78e7-41eb-9d8e-c696e0c39c1b",
   "metadata": {},
   "outputs": [
    {
     "name": "stderr",
     "output_type": "stream",
     "text": [
      "INFO:albumentations.check_version:A new version of Albumentations is available: 1.4.15 (you have 1.4.7). Upgrade using: pip install --upgrade albumentations\n"
     ]
    }
   ],
   "source": [
    "import torch\n",
    "import torch.nn as nn\n",
    "from project.dataset import Dataset, VALDODataset\n",
    "from torch.utils.data import DataLoader\n",
    "from project.preprocessing import NiftiToTensorTransform, z_score_normalization\n",
    "from project.utils import collate_fn, plot_mri_slice, plot_all_slices, plot_all_slices_from_array"
   ]
  },
  {
   "cell_type": "code",
   "execution_count": 2,
   "id": "f0ed558a-5e3f-4a91-ad4a-59be74b2f4f9",
   "metadata": {},
   "outputs": [
    {
     "data": {
      "text/plain": [
       "'cuda'"
      ]
     },
     "execution_count": 2,
     "metadata": {},
     "output_type": "execute_result"
    }
   ],
   "source": [
    "device = 'cuda' if torch.cuda.is_available() else 'cpu'\n",
    "device"
   ]
  },
  {
   "cell_type": "code",
   "execution_count": 3,
   "id": "bf78ffeb-207e-4dc2-ab5d-f6ead9981b03",
   "metadata": {},
   "outputs": [],
   "source": [
    "ds = Dataset()"
   ]
  },
  {
   "cell_type": "code",
   "execution_count": 4,
   "id": "c03ae679-a626-4b05-a9e5-f6b8a69df871",
   "metadata": {},
   "outputs": [],
   "source": [
    "cases = ds.load_raw_mri()\n",
    "masks = ds.load_cmb_masks()\n",
    "\n",
    "transform = NiftiToTensorTransform(target_shape = (50, 50), rpn_mode=True)"
   ]
  },
  {
   "cell_type": "code",
   "execution_count": 5,
   "id": "28bbd184-e05e-467d-9568-537c206eb781",
   "metadata": {},
   "outputs": [
    {
     "name": "stderr",
     "output_type": "stream",
     "text": [
      "pixdim[0] (qfac) should be 1 (default) or -1; setting qfac to 1\n",
      "INFO:nibabel.global:pixdim[0] (qfac) should be 1 (default) or -1; setting qfac to 1\n"
     ]
    }
   ],
   "source": [
    "dataset = VALDODataset(\n",
    "    cases=cases,\n",
    "    masks=masks,\n",
    "    transform=transform,\n",
    "    normalization=z_score_normalization,\n",
    ")"
   ]
  },
  {
   "cell_type": "code",
   "execution_count": 6,
   "id": "9ed17950-8c3b-4dbb-9c40-d57ff5f452c4",
   "metadata": {},
   "outputs": [],
   "source": [
    "dloader = DataLoader(\n",
    "    dataset,\n",
    "    shuffle=True,\n",
    "    batch_size=1,\n",
    "    collate_fn=collate_fn,\n",
    ")"
   ]
  },
  {
   "cell_type": "code",
   "execution_count": 7,
   "id": "2bde784f-4fca-43c4-8b04-cc9e5c0cbe7f",
   "metadata": {},
   "outputs": [
    {
     "name": "stderr",
     "output_type": "stream",
     "text": [
      "C:\\Program Files\\Python310\\lib\\site-packages\\torch\\nn\\modules\\transformer.py:306: UserWarning: enable_nested_tensor is True, but self.use_nested_tensor is False because encoder_layer.self_attn.batch_first was not True(use batch_first for better inference performance)\n",
      "  warnings.warn(f\"enable_nested_tensor is True, but self.use_nested_tensor is False because {why_not_sparsity_fast_path}\")\n"
     ]
    }
   ],
   "source": [
    "from project.model import RPN\n",
    "\n",
    "config = {\n",
    "    'model': RPN(50**2, 4, 5, 2500).to(device),\n",
    "    'optimizer': torch.optim.Adam,\n",
    "    'device': device,\n",
    "    'epochs': 10,\n",
    "    'loss': nn.SmoothL1Loss(),\n",
    "    # 'loss': nn.MSELoss(),\n",
    "    'lr': 0.00001\n",
    "}"
   ]
  },
  {
   "cell_type": "code",
   "execution_count": 8,
   "id": "e27213c5-1253-4aa6-b6b9-aa561434667c",
   "metadata": {},
   "outputs": [],
   "source": [
    "from project import Fitter\n",
    "\n",
    "class RPNFitter(Fitter):\n",
    "    def train_one_epoch(self, train_loader):\n",
    "        self.model.train()\n",
    "        # for all samples in train_loader\n",
    "        loss_history = []\n",
    "        for slices, masks, case, counts in train_loader:\n",
    "            num_slices = slices.shape[0]\n",
    "            masks = masks.view(num_slices, 1, -1).float().to(self.device)\n",
    "            # x = slices.view(num_slices, 1, 1, -1).float().to(self.device)\n",
    "            x = slices.view(num_slices, 1, -1).float().to(self.device)\n",
    "            y = []\n",
    "            # feed each slice to rpn\n",
    "            y = self.model(x)\n",
    "            # for slc in x:\n",
    "                # out = self.model(slc)\n",
    "                # y.append(out)\n",
    "                \n",
    "            # y = torch.stack(y)\n",
    "            # calculate loss\n",
    "            losses = self.loss(y, masks)\n",
    "            loss_history.append(losses)\n",
    "            self.optimizer.zero_grad()\n",
    "            losses.backward()\n",
    "            self.optimizer.step()\n",
    "        \n",
    "        return loss_history\n",
    "        # requery rpn with \n",
    "        \n",
    "    def validation(self, val_loader):\n",
    "        self.model.eval()\n",
    "        with torch.inference_mode():\n",
    "            loss_history = []\n",
    "            # feed all samples\n",
    "            for slices, masks, case, counts in val_loader:\n",
    "                num_slices = slices.shape[0]\n",
    "                masks = masks.float().to(self.device)\n",
    "                x = slices.view(num_slices, 1, 1, -1).float().to(self.device)\n",
    "                y = []\n",
    "                for slc in x:\n",
    "                    out = self.model(slc)\n",
    "                    y.append(out)\n",
    "                y = torch.stack(y)\n",
    "                # calculate loss\n",
    "                losses = self.loss(y, masks)\n",
    "                loss_history.append(losses)\n",
    "            \n",
    "            return loss_history\n",
    "            # get prediction per slice"
   ]
  },
  {
   "cell_type": "code",
   "execution_count": 9,
   "id": "1853759b-3edb-490f-bf3b-3ed966018d23",
   "metadata": {},
   "outputs": [],
   "source": [
    "fitter = RPNFitter(config)"
   ]
  },
  {
   "cell_type": "code",
   "execution_count": null,
   "id": "bac994a6-7edb-4574-9084-da263d341bd9",
   "metadata": {},
   "outputs": [],
   "source": [
    "hist = fitter.fit(dloader, dloader)"
   ]
  },
  {
   "cell_type": "code",
   "execution_count": 13,
   "id": "a06b9039-755b-462d-b7b8-249dcc922933",
   "metadata": {},
   "outputs": [
    {
     "data": {
      "text/plain": [
       "tensor([1.3848e-04, 3.8609e+00, 1.9006e-03, 5.1671e-01, 5.8822e-01, 3.2237e-04,\n",
       "        1.6168e+00, 1.2933e+00, 2.1389e+00, 8.6369e+00, 8.4274e-04, 1.0897e-03,\n",
       "        6.6496e+00, 7.0392e-01, 9.2441e+00, 1.4778e-03, 7.2088e-01, 1.1944e-03,\n",
       "        1.0247e+01, 4.6232e-01, 6.0563e-01, 4.8226e-01, 1.1602e+00, 1.6197e+00,\n",
       "        1.2565e+00, 4.9704e+00, 6.1418e-01, 8.7597e-04, 1.3519e+00, 9.2944e+00,\n",
       "        1.1526e-02, 1.0225e+00, 3.8889e+00, 8.9074e-01, 1.9797e+00, 3.6714e+00,\n",
       "        4.9179e-01, 1.3902e+01, 1.6950e-02, 4.9832e-01, 1.0553e+00, 4.4621e+00,\n",
       "        1.2307e+00, 5.8854e-02, 4.2977e+00, 9.0579e-03, 5.1234e-01, 6.2934e-01,\n",
       "        1.9560e-02, 4.8756e-01, 6.3389e-01, 2.9441e-01, 2.7595e-03, 1.2949e+00,\n",
       "        4.9817e-03, 1.2795e-02, 5.5837e-01, 1.7090e-03, 2.3174e-04, 4.2558e-02,\n",
       "        1.1246e+00, 6.4104e-01, 1.6884e+00, 6.6596e-01, 8.0140e-05, 1.0382e+00,\n",
       "        1.1680e+00, 1.9955e-04, 9.4002e-04, 4.7169e-01, 4.7612e-01, 8.0234e-01])"
      ]
     },
     "execution_count": 13,
     "metadata": {},
     "output_type": "execute_result"
    }
   ],
   "source": [
    "torch.tensor(hist[9])"
   ]
  },
  {
   "cell_type": "code",
   "execution_count": 16,
   "id": "c3e5bc6f-f30b-4e50-8809-e5b737a2b213",
   "metadata": {},
   "outputs": [
    {
     "data": {
      "text/plain": [
       "<Axes: >"
      ]
     },
     "execution_count": 16,
     "metadata": {},
     "output_type": "execute_result"
    },
    {
     "data": {
      "image/png": "[encoded data removed]",
      "text/plain": [
       "<Figure size 640x480 with 1 Axes>"
      ]
     },
     "metadata": {},
     "output_type": "display_data"
    }
   ],
   "source": [
    "import seaborn as sns\n",
    "\n",
    "sns.lineplot(torch.tensor(hist[9]))"
   ]
  },
  {
   "cell_type": "code",
   "execution_count": null,
   "id": "5bc616be-c491-4795-bc09-0128884e5353",
   "metadata": {},
   "outputs": [],
   "source": []
  }
 ],
 "metadata": {
  "kernelspec": {
   "display_name": "Python 3 (ipykernel)",
   "language": "python",
   "name": "python3"
  },
  "language_info": {
   "codemirror_mode": {
    "name": "ipython",
    "version": 3
   },
   "file_extension": ".py",
   "mimetype": "text/x-python",
   "name": "python",
   "nbconvert_exporter": "python",
   "pygments_lexer": "ipython3",
   "version": "3.10.5"
  }
 },
 "nbformat": 4,
 "nbformat_minor": 5
}
