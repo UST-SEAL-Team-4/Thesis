{
 "cells": [
  {
   "cell_type": "code",
   "execution_count": 31,
   "id": "54c78a70-7c36-44e6-a11a-3c0daa915e0f",
   "metadata": {},
   "outputs": [],
   "source": [
    "from project.dataset import Dataset\n",
    "import pandas as pd\n",
    "import nibabel as nib"
   ]
  },
  {
   "cell_type": "code",
   "execution_count": 32,
   "id": "b5355b49-e9e2-4a59-8e16-563e586cfc89",
   "metadata": {},
   "outputs": [],
   "source": [
    "ds = Dataset()"
   ]
  },
  {
   "cell_type": "markdown",
   "id": "1ff6008e-1165-439e-8dbc-6a865d0781c0",
   "metadata": {},
   "source": [
    "### Load all cases\n"
   ]
  },
  {
   "cell_type": "markdown",
   "id": "f2bb0869-ba90-4c8f-8b69-83bdab22b013",
   "metadata": {},
   "source": [
    "generate slice count for each case using the list comprehension `slices`\n"
   ]
  },
  {
   "cell_type": "code",
   "execution_count": 33,
   "id": "ccc8dae9-6b70-4baa-8501-873041579330",
   "metadata": {},
   "outputs": [
    {
     "name": "stderr",
     "output_type": "stream",
     "text": [
      "pixdim[0] (qfac) should be 1 (default) or -1; setting qfac to 1\n",
      "INFO:nibabel.global:pixdim[0] (qfac) should be 1 (default) or -1; setting qfac to 1\n",
      "pixdim[0] (qfac) should be 1 (default) or -1; setting qfac to 1\n",
      "INFO:nibabel.global:pixdim[0] (qfac) should be 1 (default) or -1; setting qfac to 1\n",
      "pixdim[0] (qfac) should be 1 (default) or -1; setting qfac to 1\n",
      "INFO:nibabel.global:pixdim[0] (qfac) should be 1 (default) or -1; setting qfac to 1\n",
      "pixdim[0] (qfac) should be 1 (default) or -1; setting qfac to 1\n",
      "INFO:nibabel.global:pixdim[0] (qfac) should be 1 (default) or -1; setting qfac to 1\n",
      "pixdim[0] (qfac) should be 1 (default) or -1; setting qfac to 1\n",
      "INFO:nibabel.global:pixdim[0] (qfac) should be 1 (default) or -1; setting qfac to 1\n",
      "pixdim[0] (qfac) should be 1 (default) or -1; setting qfac to 1\n",
      "INFO:nibabel.global:pixdim[0] (qfac) should be 1 (default) or -1; setting qfac to 1\n",
      "pixdim[0] (qfac) should be 1 (default) or -1; setting qfac to 1\n",
      "INFO:nibabel.global:pixdim[0] (qfac) should be 1 (default) or -1; setting qfac to 1\n",
      "pixdim[0] (qfac) should be 1 (default) or -1; setting qfac to 1\n",
      "INFO:nibabel.global:pixdim[0] (qfac) should be 1 (default) or -1; setting qfac to 1\n",
      "pixdim[0] (qfac) should be 1 (default) or -1; setting qfac to 1\n",
      "INFO:nibabel.global:pixdim[0] (qfac) should be 1 (default) or -1; setting qfac to 1\n",
      "pixdim[0] (qfac) should be 1 (default) or -1; setting qfac to 1\n",
      "INFO:nibabel.global:pixdim[0] (qfac) should be 1 (default) or -1; setting qfac to 1\n",
      "pixdim[0] (qfac) should be 1 (default) or -1; setting qfac to 1\n",
      "INFO:nibabel.global:pixdim[0] (qfac) should be 1 (default) or -1; setting qfac to 1\n",
      "pixdim[0] (qfac) should be 1 (default) or -1; setting qfac to 1\n",
      "INFO:nibabel.global:pixdim[0] (qfac) should be 1 (default) or -1; setting qfac to 1\n",
      "pixdim[0] (qfac) should be 1 (default) or -1; setting qfac to 1\n",
      "INFO:nibabel.global:pixdim[0] (qfac) should be 1 (default) or -1; setting qfac to 1\n",
      "pixdim[0] (qfac) should be 1 (default) or -1; setting qfac to 1\n",
      "INFO:nibabel.global:pixdim[0] (qfac) should be 1 (default) or -1; setting qfac to 1\n",
      "pixdim[0] (qfac) should be 1 (default) or -1; setting qfac to 1\n",
      "INFO:nibabel.global:pixdim[0] (qfac) should be 1 (default) or -1; setting qfac to 1\n",
      "pixdim[0] (qfac) should be 1 (default) or -1; setting qfac to 1\n",
      "INFO:nibabel.global:pixdim[0] (qfac) should be 1 (default) or -1; setting qfac to 1\n",
      "pixdim[0] (qfac) should be 1 (default) or -1; setting qfac to 1\n",
      "INFO:nibabel.global:pixdim[0] (qfac) should be 1 (default) or -1; setting qfac to 1\n",
      "pixdim[0] (qfac) should be 1 (default) or -1; setting qfac to 1\n",
      "INFO:nibabel.global:pixdim[0] (qfac) should be 1 (default) or -1; setting qfac to 1\n",
      "pixdim[0] (qfac) should be 1 (default) or -1; setting qfac to 1\n",
      "INFO:nibabel.global:pixdim[0] (qfac) should be 1 (default) or -1; setting qfac to 1\n",
      "pixdim[0] (qfac) should be 1 (default) or -1; setting qfac to 1\n",
      "INFO:nibabel.global:pixdim[0] (qfac) should be 1 (default) or -1; setting qfac to 1\n",
      "pixdim[0] (qfac) should be 1 (default) or -1; setting qfac to 1\n",
      "INFO:nibabel.global:pixdim[0] (qfac) should be 1 (default) or -1; setting qfac to 1\n",
      "pixdim[0] (qfac) should be 1 (default) or -1; setting qfac to 1\n",
      "INFO:nibabel.global:pixdim[0] (qfac) should be 1 (default) or -1; setting qfac to 1\n",
      "pixdim[0] (qfac) should be 1 (default) or -1; setting qfac to 1\n",
      "INFO:nibabel.global:pixdim[0] (qfac) should be 1 (default) or -1; setting qfac to 1\n",
      "pixdim[0] (qfac) should be 1 (default) or -1; setting qfac to 1\n",
      "INFO:nibabel.global:pixdim[0] (qfac) should be 1 (default) or -1; setting qfac to 1\n",
      "pixdim[0] (qfac) should be 1 (default) or -1; setting qfac to 1\n",
      "INFO:nibabel.global:pixdim[0] (qfac) should be 1 (default) or -1; setting qfac to 1\n",
      "pixdim[0] (qfac) should be 1 (default) or -1; setting qfac to 1\n",
      "INFO:nibabel.global:pixdim[0] (qfac) should be 1 (default) or -1; setting qfac to 1\n",
      "pixdim[0] (qfac) should be 1 (default) or -1; setting qfac to 1\n",
      "INFO:nibabel.global:pixdim[0] (qfac) should be 1 (default) or -1; setting qfac to 1\n",
      "pixdim[0] (qfac) should be 1 (default) or -1; setting qfac to 1\n",
      "INFO:nibabel.global:pixdim[0] (qfac) should be 1 (default) or -1; setting qfac to 1\n",
      "pixdim[0] (qfac) should be 1 (default) or -1; setting qfac to 1\n",
      "INFO:nibabel.global:pixdim[0] (qfac) should be 1 (default) or -1; setting qfac to 1\n",
      "pixdim[0] (qfac) should be 1 (default) or -1; setting qfac to 1\n",
      "INFO:nibabel.global:pixdim[0] (qfac) should be 1 (default) or -1; setting qfac to 1\n",
      "pixdim[0] (qfac) should be 1 (default) or -1; setting qfac to 1\n",
      "INFO:nibabel.global:pixdim[0] (qfac) should be 1 (default) or -1; setting qfac to 1\n",
      "pixdim[0] (qfac) should be 1 (default) or -1; setting qfac to 1\n",
      "INFO:nibabel.global:pixdim[0] (qfac) should be 1 (default) or -1; setting qfac to 1\n",
      "pixdim[0] (qfac) should be 1 (default) or -1; setting qfac to 1\n",
      "INFO:nibabel.global:pixdim[0] (qfac) should be 1 (default) or -1; setting qfac to 1\n",
      "pixdim[0] (qfac) should be 1 (default) or -1; setting qfac to 1\n",
      "INFO:nibabel.global:pixdim[0] (qfac) should be 1 (default) or -1; setting qfac to 1\n",
      "pixdim[0] (qfac) should be 1 (default) or -1; setting qfac to 1\n",
      "INFO:nibabel.global:pixdim[0] (qfac) should be 1 (default) or -1; setting qfac to 1\n",
      "pixdim[0] (qfac) should be 1 (default) or -1; setting qfac to 1\n",
      "INFO:nibabel.global:pixdim[0] (qfac) should be 1 (default) or -1; setting qfac to 1\n",
      "pixdim[0] (qfac) should be 1 (default) or -1; setting qfac to 1\n",
      "INFO:nibabel.global:pixdim[0] (qfac) should be 1 (default) or -1; setting qfac to 1\n",
      "pixdim[0] (qfac) should be 1 (default) or -1; setting qfac to 1\n",
      "INFO:nibabel.global:pixdim[0] (qfac) should be 1 (default) or -1; setting qfac to 1\n",
      "pixdim[0] (qfac) should be 1 (default) or -1; setting qfac to 1\n",
      "INFO:nibabel.global:pixdim[0] (qfac) should be 1 (default) or -1; setting qfac to 1\n",
      "pixdim[0] (qfac) should be 1 (default) or -1; setting qfac to 1\n",
      "INFO:nibabel.global:pixdim[0] (qfac) should be 1 (default) or -1; setting qfac to 1\n",
      "pixdim[0] (qfac) should be 1 (default) or -1; setting qfac to 1\n",
      "INFO:nibabel.global:pixdim[0] (qfac) should be 1 (default) or -1; setting qfac to 1\n",
      "pixdim[0] (qfac) should be 1 (default) or -1; setting qfac to 1\n",
      "INFO:nibabel.global:pixdim[0] (qfac) should be 1 (default) or -1; setting qfac to 1\n",
      "pixdim[0] (qfac) should be 1 (default) or -1; setting qfac to 1\n",
      "INFO:nibabel.global:pixdim[0] (qfac) should be 1 (default) or -1; setting qfac to 1\n",
      "pixdim[0] (qfac) should be 1 (default) or -1; setting qfac to 1\n",
      "INFO:nibabel.global:pixdim[0] (qfac) should be 1 (default) or -1; setting qfac to 1\n",
      "pixdim[0] (qfac) should be 1 (default) or -1; setting qfac to 1\n",
      "INFO:nibabel.global:pixdim[0] (qfac) should be 1 (default) or -1; setting qfac to 1\n"
     ]
    }
   ],
   "source": [
    "mri = ds.load_raw_mri()\n",
    "masks = ds.load_cmb_masks()\n",
    "slices = [nib.load(x).get_fdata().shape[2] for x in mri]"
   ]
  },
  {
   "cell_type": "markdown",
   "id": "49ec616a-54ec-4d35-9f77-90dad31d946e",
   "metadata": {},
   "source": [
    "create `standard_df` for the unprocessed data\n"
   ]
  },
  {
   "cell_type": "code",
   "execution_count": 34,
   "id": "37d027da-3625-45c7-b3c3-c0357c6cbf14",
   "metadata": {},
   "outputs": [],
   "source": [
    "standard_df = pd.DataFrame({\n",
    "    'mri': mri,\n",
    "    'masks': masks,\n",
    "    'slices': slices\n",
    "})"
   ]
  },
  {
   "cell_type": "code",
   "execution_count": 35,
   "id": "d4ab6d9a",
   "metadata": {},
   "outputs": [
    {
     "data": {
      "text/plain": [
       "array([[[0., 0., 0., ..., 0., 0., 0.],\n",
       "        [0., 0., 0., ..., 0., 0., 0.],\n",
       "        [0., 0., 0., ..., 0., 0., 0.],\n",
       "        ...,\n",
       "        [0., 0., 0., ..., 0., 0., 0.],\n",
       "        [0., 0., 0., ..., 0., 0., 0.],\n",
       "        [0., 0., 0., ..., 0., 0., 0.]],\n",
       "\n",
       "       [[0., 0., 0., ..., 0., 0., 0.],\n",
       "        [0., 0., 0., ..., 0., 0., 0.],\n",
       "        [0., 0., 0., ..., 0., 0., 0.],\n",
       "        ...,\n",
       "        [0., 0., 0., ..., 0., 0., 0.],\n",
       "        [0., 0., 0., ..., 0., 0., 0.],\n",
       "        [0., 0., 0., ..., 0., 0., 0.]],\n",
       "\n",
       "       [[0., 0., 0., ..., 0., 0., 0.],\n",
       "        [0., 0., 0., ..., 0., 0., 0.],\n",
       "        [0., 0., 0., ..., 0., 0., 0.],\n",
       "        ...,\n",
       "        [0., 0., 0., ..., 0., 0., 0.],\n",
       "        [0., 0., 0., ..., 0., 0., 0.],\n",
       "        [0., 0., 0., ..., 0., 0., 0.]],\n",
       "\n",
       "       ...,\n",
       "\n",
       "       [[0., 0., 0., ..., 0., 0., 0.],\n",
       "        [0., 0., 0., ..., 0., 0., 0.],\n",
       "        [0., 0., 0., ..., 0., 0., 0.],\n",
       "        ...,\n",
       "        [0., 0., 0., ..., 0., 0., 0.],\n",
       "        [0., 0., 0., ..., 0., 0., 0.],\n",
       "        [0., 0., 0., ..., 0., 0., 0.]],\n",
       "\n",
       "       [[0., 0., 0., ..., 0., 0., 0.],\n",
       "        [0., 0., 0., ..., 0., 0., 0.],\n",
       "        [0., 0., 0., ..., 0., 0., 0.],\n",
       "        ...,\n",
       "        [0., 0., 0., ..., 0., 0., 0.],\n",
       "        [0., 0., 0., ..., 0., 0., 0.],\n",
       "        [0., 0., 0., ..., 0., 0., 0.]],\n",
       "\n",
       "       [[0., 0., 0., ..., 0., 0., 0.],\n",
       "        [0., 0., 0., ..., 0., 0., 0.],\n",
       "        [0., 0., 0., ..., 0., 0., 0.],\n",
       "        ...,\n",
       "        [0., 0., 0., ..., 0., 0., 0.],\n",
       "        [0., 0., 0., ..., 0., 0., 0.],\n",
       "        [0., 0., 0., ..., 0., 0., 0.]]])"
      ]
     },
     "execution_count": 35,
     "metadata": {},
     "output_type": "execute_result"
    }
   ],
   "source": [
    "sample_mask = nib.load(masks[0]).get_fdata()\n",
    "sample_mask"
   ]
  },
  {
   "cell_type": "code",
   "execution_count": 36,
   "id": "f76e33c1",
   "metadata": {},
   "outputs": [
    {
     "data": {
      "text/plain": [
       "(512, 512, 35)"
      ]
     },
     "execution_count": 36,
     "metadata": {},
     "output_type": "execute_result"
    }
   ],
   "source": [
    "sample_mask.shape"
   ]
  },
  {
   "cell_type": "code",
   "execution_count": 37,
   "id": "22d55715",
   "metadata": {},
   "outputs": [
    {
     "data": {
      "text/plain": [
       "array([[0., 0., 0., ..., 0., 0., 0.],\n",
       "       [0., 0., 0., ..., 0., 0., 0.],\n",
       "       [0., 0., 0., ..., 0., 0., 0.],\n",
       "       ...,\n",
       "       [0., 0., 0., ..., 0., 0., 0.],\n",
       "       [0., 0., 0., ..., 0., 0., 0.],\n",
       "       [0., 0., 0., ..., 0., 0., 0.]])"
      ]
     },
     "execution_count": 37,
     "metadata": {},
     "output_type": "execute_result"
    }
   ],
   "source": [
    "sample_mask[:, :, 0]"
   ]
  },
  {
   "cell_type": "markdown",
   "id": "850a9c94-ebed-4c6d-9b83-c0776c4f8fd8",
   "metadata": {},
   "source": [
    "function to generate all the target slices for each case\n"
   ]
  },
  {
   "cell_type": "code",
   "execution_count": 38,
   "id": "50e1c4f2-e80b-482d-b014-1c1de422e86e",
   "metadata": {},
   "outputs": [],
   "source": [
    "def generate_target_slice(mri, masks, slices):\n",
    "    if len(mri) != len(masks):\n",
    "        print(f'Unequal amount of mri cases to cmb masks\\t{len(mri)} to {len(masks)}')\n",
    "    if len(mri) != len(slices):\n",
    "        print(f'Unequal amount of mri cases to case slice counts\\t{len(mri)} to {len(slices)}')\n",
    "\n",
    "    # ls = [(mri[i], masks[i], target) for i in range(len(mri)) for target in range(slices[i])]\n",
    "    ls = []\n",
    "    \n",
    "    for i in range(len(mri)):\n",
    "        mask_data = nib.load(masks[i]).get_fdata()\n",
    "        has_microbleed_case = 1 if mask_data.max() > 0 else 0\n",
    "            \n",
    "        for target in range(slices[i]):\n",
    "            has_microbleed_slice = 1 if mask_data[:, :, target].max() > 0 else 0\n",
    "            ls.append((\n",
    "                mri[i], \n",
    "                masks[i], \n",
    "                target, \n",
    "                has_microbleed_case, \n",
    "                has_microbleed_slice\n",
    "            ))\n",
    "            \n",
    "    df = pd.DataFrame(ls, columns=[\n",
    "        'mri',\n",
    "        'masks', \n",
    "        'target', \n",
    "        'has_microbleed_case', \n",
    "        'has_microbleed_slice'\n",
    "    ])\n",
    "    # ls = [(case, target) for case, slices in zip(case, slices) for target in range(slices)]\n",
    "    return df"
   ]
  },
  {
   "cell_type": "code",
   "execution_count": 39,
   "id": "cc7943ac-1da8-4332-9688-5ce8b74e874e",
   "metadata": {},
   "outputs": [
    {
     "name": "stderr",
     "output_type": "stream",
     "text": [
      "pixdim[0] (qfac) should be 1 (default) or -1; setting qfac to 1\n",
      "INFO:nibabel.global:pixdim[0] (qfac) should be 1 (default) or -1; setting qfac to 1\n"
     ]
    }
   ],
   "source": [
    "df = generate_target_slice(mri, masks, slices)"
   ]
  },
  {
   "cell_type": "code",
   "execution_count": 40,
   "id": "c9885625",
   "metadata": {},
   "outputs": [
    {
     "data": {
      "text/html": [
       "<div>\n",
       "<style scoped>\n",
       "    .dataframe tbody tr th:only-of-type {\n",
       "        vertical-align: middle;\n",
       "    }\n",
       "\n",
       "    .dataframe tbody tr th {\n",
       "        vertical-align: top;\n",
       "    }\n",
       "\n",
       "    .dataframe thead th {\n",
       "        text-align: right;\n",
       "    }\n",
       "</style>\n",
       "<table border=\"1\" class=\"dataframe\">\n",
       "  <thead>\n",
       "    <tr style=\"text-align: right;\">\n",
       "      <th></th>\n",
       "      <th>mri</th>\n",
       "      <th>masks</th>\n",
       "      <th>target</th>\n",
       "      <th>has_microbleed_case</th>\n",
       "      <th>has_microbleed_slice</th>\n",
       "    </tr>\n",
       "  </thead>\n",
       "  <tbody>\n",
       "    <tr>\n",
       "      <th>2449</th>\n",
       "      <td>d:\\Github\\Thesis and ML Project\\Dataset\\VALDO_...</td>\n",
       "      <td>d:\\Github\\Thesis and ML Project\\Dataset\\VALDO_...</td>\n",
       "      <td>144</td>\n",
       "      <td>0</td>\n",
       "      <td>0</td>\n",
       "    </tr>\n",
       "    <tr>\n",
       "      <th>6916</th>\n",
       "      <td>d:\\Github\\Thesis and ML Project\\Dataset\\VALDO_...</td>\n",
       "      <td>d:\\Github\\Thesis and ML Project\\Dataset\\VALDO_...</td>\n",
       "      <td>3</td>\n",
       "      <td>1</td>\n",
       "      <td>0</td>\n",
       "    </tr>\n",
       "    <tr>\n",
       "      <th>661</th>\n",
       "      <td>d:\\Github\\Thesis and ML Project\\Dataset\\VALDO_...</td>\n",
       "      <td>d:\\Github\\Thesis and ML Project\\Dataset\\VALDO_...</td>\n",
       "      <td>84</td>\n",
       "      <td>0</td>\n",
       "      <td>0</td>\n",
       "    </tr>\n",
       "    <tr>\n",
       "      <th>7576</th>\n",
       "      <td>d:\\Github\\Thesis and ML Project\\Dataset\\VALDO_...</td>\n",
       "      <td>d:\\Github\\Thesis and ML Project\\Dataset\\VALDO_...</td>\n",
       "      <td>25</td>\n",
       "      <td>1</td>\n",
       "      <td>0</td>\n",
       "    </tr>\n",
       "    <tr>\n",
       "      <th>2412</th>\n",
       "      <td>d:\\Github\\Thesis and ML Project\\Dataset\\VALDO_...</td>\n",
       "      <td>d:\\Github\\Thesis and ML Project\\Dataset\\VALDO_...</td>\n",
       "      <td>107</td>\n",
       "      <td>0</td>\n",
       "      <td>0</td>\n",
       "    </tr>\n",
       "  </tbody>\n",
       "</table>\n",
       "</div>"
      ],
      "text/plain": [
       "                                                    mri  \\\n",
       "2449  d:\\Github\\Thesis and ML Project\\Dataset\\VALDO_...   \n",
       "6916  d:\\Github\\Thesis and ML Project\\Dataset\\VALDO_...   \n",
       "661   d:\\Github\\Thesis and ML Project\\Dataset\\VALDO_...   \n",
       "7576  d:\\Github\\Thesis and ML Project\\Dataset\\VALDO_...   \n",
       "2412  d:\\Github\\Thesis and ML Project\\Dataset\\VALDO_...   \n",
       "\n",
       "                                                  masks  target  \\\n",
       "2449  d:\\Github\\Thesis and ML Project\\Dataset\\VALDO_...     144   \n",
       "6916  d:\\Github\\Thesis and ML Project\\Dataset\\VALDO_...       3   \n",
       "661   d:\\Github\\Thesis and ML Project\\Dataset\\VALDO_...      84   \n",
       "7576  d:\\Github\\Thesis and ML Project\\Dataset\\VALDO_...      25   \n",
       "2412  d:\\Github\\Thesis and ML Project\\Dataset\\VALDO_...     107   \n",
       "\n",
       "      has_microbleed_case  has_microbleed_slice  \n",
       "2449                    0                     0  \n",
       "6916                    1                     0  \n",
       "661                     0                     0  \n",
       "7576                    1                     0  \n",
       "2412                    0                     0  "
      ]
     },
     "execution_count": 40,
     "metadata": {},
     "output_type": "execute_result"
    }
   ],
   "source": [
    "df.sample(5)"
   ]
  },
  {
   "cell_type": "markdown",
   "id": "011ba780",
   "metadata": {},
   "source": [
    "This should return none because this is invalid\n"
   ]
  },
  {
   "cell_type": "code",
   "execution_count": 41,
   "id": "f2afacf1",
   "metadata": {},
   "outputs": [
    {
     "data": {
      "text/html": [
       "<div>\n",
       "<style scoped>\n",
       "    .dataframe tbody tr th:only-of-type {\n",
       "        vertical-align: middle;\n",
       "    }\n",
       "\n",
       "    .dataframe tbody tr th {\n",
       "        vertical-align: top;\n",
       "    }\n",
       "\n",
       "    .dataframe thead th {\n",
       "        text-align: right;\n",
       "    }\n",
       "</style>\n",
       "<table border=\"1\" class=\"dataframe\">\n",
       "  <thead>\n",
       "    <tr style=\"text-align: right;\">\n",
       "      <th></th>\n",
       "      <th>mri</th>\n",
       "      <th>masks</th>\n",
       "      <th>target</th>\n",
       "      <th>has_microbleed_case</th>\n",
       "      <th>has_microbleed_slice</th>\n",
       "    </tr>\n",
       "  </thead>\n",
       "  <tbody>\n",
       "  </tbody>\n",
       "</table>\n",
       "</div>"
      ],
      "text/plain": [
       "Empty DataFrame\n",
       "Columns: [mri, masks, target, has_microbleed_case, has_microbleed_slice]\n",
       "Index: []"
      ]
     },
     "execution_count": 41,
     "metadata": {},
     "output_type": "execute_result"
    }
   ],
   "source": [
    "df[(df['has_microbleed_case'] == 0) & (df['has_microbleed_slice'] == 1)]"
   ]
  },
  {
   "cell_type": "markdown",
   "id": "f990f481",
   "metadata": {},
   "source": [
    "Check how many cases have microbleeds\n"
   ]
  },
  {
   "cell_type": "code",
   "execution_count": 42,
   "id": "edd43e61",
   "metadata": {},
   "outputs": [
    {
     "data": {
      "text/plain": [
       "72"
      ]
     },
     "execution_count": 42,
     "metadata": {},
     "output_type": "execute_result"
    }
   ],
   "source": [
    "len(df['masks'].drop_duplicates())"
   ]
  },
  {
   "cell_type": "code",
   "execution_count": 43,
   "id": "3ed02f59",
   "metadata": {},
   "outputs": [
    {
     "data": {
      "text/plain": [
       "50"
      ]
     },
     "execution_count": 43,
     "metadata": {},
     "output_type": "execute_result"
    }
   ],
   "source": [
    "df[df['has_microbleed_case'] == 1]['masks'].nunique()"
   ]
  },
  {
   "cell_type": "code",
   "execution_count": 44,
   "id": "776abb94-0da9-4139-a7b8-8cd441e63fd9",
   "metadata": {},
   "outputs": [
    {
     "data": {
      "text/plain": [
       "mri\n",
       "d:\\Github\\Thesis and ML Project\\Dataset\\VALDO_dataset\\mri_t2s_dir\\sub-101_space-T2S_desc-masked_T2S.nii.gz    34\n",
       "d:\\Github\\Thesis and ML Project\\Dataset\\VALDO_dataset\\mri_t2s_dir\\sub-102_space-T2S_desc-masked_T2S.nii.gz    34\n",
       "d:\\Github\\Thesis and ML Project\\Dataset\\VALDO_dataset\\mri_t2s_dir\\sub-103_space-T2S_desc-masked_T2S.nii.gz    34\n",
       "d:\\Github\\Thesis and ML Project\\Dataset\\VALDO_dataset\\mri_t2s_dir\\sub-104_space-T2S_desc-masked_T2S.nii.gz    34\n",
       "d:\\Github\\Thesis and ML Project\\Dataset\\VALDO_dataset\\mri_t2s_dir\\sub-105_space-T2S_desc-masked_T2S.nii.gz    34\n",
       "                                                                                                              ..\n",
       "d:\\Github\\Thesis and ML Project\\Dataset\\VALDO_dataset\\mri_t2s_dir\\sub-323_space-T2S_desc-masked_T2S.nii.gz    38\n",
       "d:\\Github\\Thesis and ML Project\\Dataset\\VALDO_dataset\\mri_t2s_dir\\sub-324_space-T2S_desc-masked_T2S.nii.gz    38\n",
       "d:\\Github\\Thesis and ML Project\\Dataset\\VALDO_dataset\\mri_t2s_dir\\sub-325_space-T2S_desc-masked_T2S.nii.gz    35\n",
       "d:\\Github\\Thesis and ML Project\\Dataset\\VALDO_dataset\\mri_t2s_dir\\sub-326_space-T2S_desc-masked_T2S.nii.gz    38\n",
       "d:\\Github\\Thesis and ML Project\\Dataset\\VALDO_dataset\\mri_t2s_dir\\sub-327_space-T2S_desc-masked_T2S.nii.gz    38\n",
       "Name: target, Length: 72, dtype: int64"
      ]
     },
     "execution_count": 44,
     "metadata": {},
     "output_type": "execute_result"
    }
   ],
   "source": [
    "ar = df.groupby('mri').target.max()\n",
    "ar"
   ]
  },
  {
   "cell_type": "code",
   "execution_count": 45,
   "id": "851842ee-342e-4b0d-8cd8-8dc34553e6ed",
   "metadata": {},
   "outputs": [
    {
     "data": {
      "text/plain": [
       "mri\n",
       "d:\\Github\\Thesis and ML Project\\Dataset\\VALDO_dataset\\mri_t2s_dir\\sub-101_space-T2S_desc-masked_T2S.nii.gz    34\n",
       "d:\\Github\\Thesis and ML Project\\Dataset\\VALDO_dataset\\mri_t2s_dir\\sub-102_space-T2S_desc-masked_T2S.nii.gz    34\n",
       "d:\\Github\\Thesis and ML Project\\Dataset\\VALDO_dataset\\mri_t2s_dir\\sub-103_space-T2S_desc-masked_T2S.nii.gz    34\n",
       "d:\\Github\\Thesis and ML Project\\Dataset\\VALDO_dataset\\mri_t2s_dir\\sub-104_space-T2S_desc-masked_T2S.nii.gz    34\n",
       "d:\\Github\\Thesis and ML Project\\Dataset\\VALDO_dataset\\mri_t2s_dir\\sub-105_space-T2S_desc-masked_T2S.nii.gz    34\n",
       "                                                                                                              ..\n",
       "d:\\Github\\Thesis and ML Project\\Dataset\\VALDO_dataset\\mri_t2s_dir\\sub-323_space-T2S_desc-masked_T2S.nii.gz    38\n",
       "d:\\Github\\Thesis and ML Project\\Dataset\\VALDO_dataset\\mri_t2s_dir\\sub-324_space-T2S_desc-masked_T2S.nii.gz    38\n",
       "d:\\Github\\Thesis and ML Project\\Dataset\\VALDO_dataset\\mri_t2s_dir\\sub-325_space-T2S_desc-masked_T2S.nii.gz    35\n",
       "d:\\Github\\Thesis and ML Project\\Dataset\\VALDO_dataset\\mri_t2s_dir\\sub-326_space-T2S_desc-masked_T2S.nii.gz    38\n",
       "d:\\Github\\Thesis and ML Project\\Dataset\\VALDO_dataset\\mri_t2s_dir\\sub-327_space-T2S_desc-masked_T2S.nii.gz    38\n",
       "Name: target, Length: 72, dtype: int64"
      ]
     },
     "execution_count": 45,
     "metadata": {},
     "output_type": "execute_result"
    }
   ],
   "source": [
    "arr = standard_df.groupby('mri').slices.max()\n",
    "ar"
   ]
  },
  {
   "cell_type": "markdown",
   "id": "4856266a-717a-4175-8e7c-fd9221d3ef14",
   "metadata": {},
   "source": [
    "### Check if all slices match with the raw dataframe count\n"
   ]
  },
  {
   "cell_type": "code",
   "execution_count": 46,
   "id": "a536dc3c-1b89-4123-8779-6dad6d1fe290",
   "metadata": {},
   "outputs": [
    {
     "data": {
      "text/plain": [
       "True"
      ]
     },
     "execution_count": 46,
     "metadata": {},
     "output_type": "execute_result"
    }
   ],
   "source": [
    "(ar == (arr - 1)).all()"
   ]
  },
  {
   "cell_type": "markdown",
   "id": "8fc07dfb-b25f-4f68-b28a-3cea5fe9487c",
   "metadata": {},
   "source": [
    "### Export as metadata\n"
   ]
  },
  {
   "cell_type": "code",
   "execution_count": 47,
   "id": "d6daec3c-3ab6-46d2-a707-9fcddc58f456",
   "metadata": {},
   "outputs": [],
   "source": [
    "df.to_csv('targets.csv', index=False)"
   ]
  }
 ],
 "metadata": {
  "kernelspec": {
   "display_name": "Python 3",
   "language": "python",
   "name": "python3"
  },
  "language_info": {
   "codemirror_mode": {
    "name": "ipython",
    "version": 3
   },
   "file_extension": ".py",
   "mimetype": "text/x-python",
   "name": "python",
   "nbconvert_exporter": "python",
   "pygments_lexer": "ipython3",
   "version": "3.11.4"
  }
 },
 "nbformat": 4,
 "nbformat_minor": 5
}
