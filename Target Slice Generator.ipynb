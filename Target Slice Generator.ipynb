{
 "cells": [
  {
   "cell_type": "code",
   "execution_count": 1,
   "id": "54c78a70-7c36-44e6-a11a-3c0daa915e0f",
   "metadata": {},
   "outputs": [
    {
     "name": "stderr",
     "output_type": "stream",
     "text": [
      "INFO:albumentations.check_version:A new version of Albumentations is available: 1.4.18 (you have 1.4.7). Upgrade using: pip install --upgrade albumentations\n"
     ]
    }
   ],
   "source": [
    "from project.dataset import Dataset\n",
    "import pandas as pd\n",
    "import nibabel as nib"
   ]
  },
  {
   "cell_type": "code",
   "execution_count": 2,
   "id": "b5355b49-e9e2-4a59-8e16-563e586cfc89",
   "metadata": {},
   "outputs": [],
   "source": [
    "ds = Dataset()"
   ]
  },
  {
   "cell_type": "markdown",
   "id": "1ff6008e-1165-439e-8dbc-6a865d0781c0",
   "metadata": {},
   "source": [
    "### Load all cases"
   ]
  },
  {
   "cell_type": "markdown",
   "id": "f2bb0869-ba90-4c8f-8b69-83bdab22b013",
   "metadata": {},
   "source": [
    "generate slice count for each case using the list comprehension `slices`"
   ]
  },
  {
   "cell_type": "code",
   "execution_count": 3,
   "id": "ccc8dae9-6b70-4baa-8501-873041579330",
   "metadata": {},
   "outputs": [
    {
     "name": "stderr",
     "output_type": "stream",
     "text": [
      "pixdim[0] (qfac) should be 1 (default) or -1; setting qfac to 1\n",
      "INFO:nibabel.global:pixdim[0] (qfac) should be 1 (default) or -1; setting qfac to 1\n",
      "pixdim[0] (qfac) should be 1 (default) or -1; setting qfac to 1\n",
      "INFO:nibabel.global:pixdim[0] (qfac) should be 1 (default) or -1; setting qfac to 1\n",
      "pixdim[0] (qfac) should be 1 (default) or -1; setting qfac to 1\n",
      "INFO:nibabel.global:pixdim[0] (qfac) should be 1 (default) or -1; setting qfac to 1\n",
      "pixdim[0] (qfac) should be 1 (default) or -1; setting qfac to 1\n",
      "INFO:nibabel.global:pixdim[0] (qfac) should be 1 (default) or -1; setting qfac to 1\n",
      "pixdim[0] (qfac) should be 1 (default) or -1; setting qfac to 1\n",
      "INFO:nibabel.global:pixdim[0] (qfac) should be 1 (default) or -1; setting qfac to 1\n",
      "pixdim[0] (qfac) should be 1 (default) or -1; setting qfac to 1\n",
      "INFO:nibabel.global:pixdim[0] (qfac) should be 1 (default) or -1; setting qfac to 1\n",
      "pixdim[0] (qfac) should be 1 (default) or -1; setting qfac to 1\n",
      "INFO:nibabel.global:pixdim[0] (qfac) should be 1 (default) or -1; setting qfac to 1\n",
      "pixdim[0] (qfac) should be 1 (default) or -1; setting qfac to 1\n",
      "INFO:nibabel.global:pixdim[0] (qfac) should be 1 (default) or -1; setting qfac to 1\n",
      "pixdim[0] (qfac) should be 1 (default) or -1; setting qfac to 1\n",
      "INFO:nibabel.global:pixdim[0] (qfac) should be 1 (default) or -1; setting qfac to 1\n",
      "pixdim[0] (qfac) should be 1 (default) or -1; setting qfac to 1\n",
      "INFO:nibabel.global:pixdim[0] (qfac) should be 1 (default) or -1; setting qfac to 1\n",
      "pixdim[0] (qfac) should be 1 (default) or -1; setting qfac to 1\n",
      "INFO:nibabel.global:pixdim[0] (qfac) should be 1 (default) or -1; setting qfac to 1\n",
      "pixdim[0] (qfac) should be 1 (default) or -1; setting qfac to 1\n",
      "INFO:nibabel.global:pixdim[0] (qfac) should be 1 (default) or -1; setting qfac to 1\n",
      "pixdim[0] (qfac) should be 1 (default) or -1; setting qfac to 1\n",
      "INFO:nibabel.global:pixdim[0] (qfac) should be 1 (default) or -1; setting qfac to 1\n",
      "pixdim[0] (qfac) should be 1 (default) or -1; setting qfac to 1\n",
      "INFO:nibabel.global:pixdim[0] (qfac) should be 1 (default) or -1; setting qfac to 1\n",
      "pixdim[0] (qfac) should be 1 (default) or -1; setting qfac to 1\n",
      "INFO:nibabel.global:pixdim[0] (qfac) should be 1 (default) or -1; setting qfac to 1\n",
      "pixdim[0] (qfac) should be 1 (default) or -1; setting qfac to 1\n",
      "INFO:nibabel.global:pixdim[0] (qfac) should be 1 (default) or -1; setting qfac to 1\n",
      "pixdim[0] (qfac) should be 1 (default) or -1; setting qfac to 1\n",
      "INFO:nibabel.global:pixdim[0] (qfac) should be 1 (default) or -1; setting qfac to 1\n",
      "pixdim[0] (qfac) should be 1 (default) or -1; setting qfac to 1\n",
      "INFO:nibabel.global:pixdim[0] (qfac) should be 1 (default) or -1; setting qfac to 1\n",
      "pixdim[0] (qfac) should be 1 (default) or -1; setting qfac to 1\n",
      "INFO:nibabel.global:pixdim[0] (qfac) should be 1 (default) or -1; setting qfac to 1\n",
      "pixdim[0] (qfac) should be 1 (default) or -1; setting qfac to 1\n",
      "INFO:nibabel.global:pixdim[0] (qfac) should be 1 (default) or -1; setting qfac to 1\n",
      "pixdim[0] (qfac) should be 1 (default) or -1; setting qfac to 1\n",
      "INFO:nibabel.global:pixdim[0] (qfac) should be 1 (default) or -1; setting qfac to 1\n",
      "pixdim[0] (qfac) should be 1 (default) or -1; setting qfac to 1\n",
      "INFO:nibabel.global:pixdim[0] (qfac) should be 1 (default) or -1; setting qfac to 1\n",
      "pixdim[0] (qfac) should be 1 (default) or -1; setting qfac to 1\n",
      "INFO:nibabel.global:pixdim[0] (qfac) should be 1 (default) or -1; setting qfac to 1\n",
      "pixdim[0] (qfac) should be 1 (default) or -1; setting qfac to 1\n",
      "INFO:nibabel.global:pixdim[0] (qfac) should be 1 (default) or -1; setting qfac to 1\n",
      "pixdim[0] (qfac) should be 1 (default) or -1; setting qfac to 1\n",
      "INFO:nibabel.global:pixdim[0] (qfac) should be 1 (default) or -1; setting qfac to 1\n",
      "pixdim[0] (qfac) should be 1 (default) or -1; setting qfac to 1\n",
      "INFO:nibabel.global:pixdim[0] (qfac) should be 1 (default) or -1; setting qfac to 1\n",
      "pixdim[0] (qfac) should be 1 (default) or -1; setting qfac to 1\n",
      "INFO:nibabel.global:pixdim[0] (qfac) should be 1 (default) or -1; setting qfac to 1\n",
      "pixdim[0] (qfac) should be 1 (default) or -1; setting qfac to 1\n",
      "INFO:nibabel.global:pixdim[0] (qfac) should be 1 (default) or -1; setting qfac to 1\n",
      "pixdim[0] (qfac) should be 1 (default) or -1; setting qfac to 1\n",
      "INFO:nibabel.global:pixdim[0] (qfac) should be 1 (default) or -1; setting qfac to 1\n",
      "pixdim[0] (qfac) should be 1 (default) or -1; setting qfac to 1\n",
      "INFO:nibabel.global:pixdim[0] (qfac) should be 1 (default) or -1; setting qfac to 1\n",
      "pixdim[0] (qfac) should be 1 (default) or -1; setting qfac to 1\n",
      "INFO:nibabel.global:pixdim[0] (qfac) should be 1 (default) or -1; setting qfac to 1\n",
      "pixdim[0] (qfac) should be 1 (default) or -1; setting qfac to 1\n",
      "INFO:nibabel.global:pixdim[0] (qfac) should be 1 (default) or -1; setting qfac to 1\n",
      "pixdim[0] (qfac) should be 1 (default) or -1; setting qfac to 1\n",
      "INFO:nibabel.global:pixdim[0] (qfac) should be 1 (default) or -1; setting qfac to 1\n",
      "pixdim[0] (qfac) should be 1 (default) or -1; setting qfac to 1\n",
      "INFO:nibabel.global:pixdim[0] (qfac) should be 1 (default) or -1; setting qfac to 1\n",
      "pixdim[0] (qfac) should be 1 (default) or -1; setting qfac to 1\n",
      "INFO:nibabel.global:pixdim[0] (qfac) should be 1 (default) or -1; setting qfac to 1\n",
      "pixdim[0] (qfac) should be 1 (default) or -1; setting qfac to 1\n",
      "INFO:nibabel.global:pixdim[0] (qfac) should be 1 (default) or -1; setting qfac to 1\n",
      "pixdim[0] (qfac) should be 1 (default) or -1; setting qfac to 1\n",
      "INFO:nibabel.global:pixdim[0] (qfac) should be 1 (default) or -1; setting qfac to 1\n",
      "pixdim[0] (qfac) should be 1 (default) or -1; setting qfac to 1\n",
      "INFO:nibabel.global:pixdim[0] (qfac) should be 1 (default) or -1; setting qfac to 1\n",
      "pixdim[0] (qfac) should be 1 (default) or -1; setting qfac to 1\n",
      "INFO:nibabel.global:pixdim[0] (qfac) should be 1 (default) or -1; setting qfac to 1\n",
      "pixdim[0] (qfac) should be 1 (default) or -1; setting qfac to 1\n",
      "INFO:nibabel.global:pixdim[0] (qfac) should be 1 (default) or -1; setting qfac to 1\n",
      "pixdim[0] (qfac) should be 1 (default) or -1; setting qfac to 1\n",
      "INFO:nibabel.global:pixdim[0] (qfac) should be 1 (default) or -1; setting qfac to 1\n",
      "pixdim[0] (qfac) should be 1 (default) or -1; setting qfac to 1\n",
      "INFO:nibabel.global:pixdim[0] (qfac) should be 1 (default) or -1; setting qfac to 1\n",
      "pixdim[0] (qfac) should be 1 (default) or -1; setting qfac to 1\n",
      "INFO:nibabel.global:pixdim[0] (qfac) should be 1 (default) or -1; setting qfac to 1\n",
      "pixdim[0] (qfac) should be 1 (default) or -1; setting qfac to 1\n",
      "INFO:nibabel.global:pixdim[0] (qfac) should be 1 (default) or -1; setting qfac to 1\n",
      "pixdim[0] (qfac) should be 1 (default) or -1; setting qfac to 1\n",
      "INFO:nibabel.global:pixdim[0] (qfac) should be 1 (default) or -1; setting qfac to 1\n"
     ]
    }
   ],
   "source": [
    "mri = ds.load_raw_mri()\n",
    "masks = ds.load_cmb_masks()\n",
    "slices = [nib.load(x).get_fdata().shape[2] for x in mri]"
   ]
  },
  {
   "cell_type": "markdown",
   "id": "49ec616a-54ec-4d35-9f77-90dad31d946e",
   "metadata": {},
   "source": [
    "create `standard_df` for the unprocessed data"
   ]
  },
  {
   "cell_type": "code",
   "execution_count": 4,
   "id": "37d027da-3625-45c7-b3c3-c0357c6cbf14",
   "metadata": {},
   "outputs": [],
   "source": [
    "standard_df = pd.DataFrame({\n",
    "    'mri': mri,\n",
    "    'masks': masks,\n",
    "    'slices': slices\n",
    "})"
   ]
  },
  {
   "cell_type": "markdown",
   "id": "850a9c94-ebed-4c6d-9b83-c0776c4f8fd8",
   "metadata": {},
   "source": [
    "function to generate all the target slices for each case"
   ]
  },
  {
   "cell_type": "code",
   "execution_count": 5,
   "id": "50e1c4f2-e80b-482d-b014-1c1de422e86e",
   "metadata": {},
   "outputs": [],
   "source": [
    "def generate_target_slice(mri, masks, slices):\n",
    "    if len(mri) != len(masks):\n",
    "        print(f'Unequal amount of mri cases to cmb masks\\t{len(mri)} to {len(masks)}')\n",
    "    if len(mri) != len(slices):\n",
    "        print(f'Unequal amount of mri cases to case slice counts\\t{len(mri)} to {len(slices)}')\n",
    "\n",
    "    ls = [(mri[i], masks[i], target) for i in range(len(mri)) for target in range(slices[i])]\n",
    "    df = pd.DataFrame(ls, columns=['mri', 'masks', 'target'])\n",
    "    # ls = [(case, target) for case, slices in zip(case, slices) for target in range(slices)]\n",
    "    return df"
   ]
  },
  {
   "cell_type": "code",
   "execution_count": 6,
   "id": "cc7943ac-1da8-4332-9688-5ce8b74e874e",
   "metadata": {},
   "outputs": [],
   "source": [
    "df = generate_target_slice(mri, masks, slices)"
   ]
  },
  {
   "cell_type": "code",
   "execution_count": 7,
   "id": "776abb94-0da9-4139-a7b8-8cd441e63fd9",
   "metadata": {},
   "outputs": [
    {
     "data": {
      "text/plain": [
       "mri\n",
       "C:\\Users\\araza\\Documents\\1\\gits\\thesis_project\\Dataset\\VALDO_dataset\\mri_t2s_dir\\sub-101_space-T2S_desc-masked_T2S.nii.gz    34\n",
       "C:\\Users\\araza\\Documents\\1\\gits\\thesis_project\\Dataset\\VALDO_dataset\\mri_t2s_dir\\sub-102_space-T2S_desc-masked_T2S.nii.gz    34\n",
       "C:\\Users\\araza\\Documents\\1\\gits\\thesis_project\\Dataset\\VALDO_dataset\\mri_t2s_dir\\sub-103_space-T2S_desc-masked_T2S.nii.gz    34\n",
       "C:\\Users\\araza\\Documents\\1\\gits\\thesis_project\\Dataset\\VALDO_dataset\\mri_t2s_dir\\sub-104_space-T2S_desc-masked_T2S.nii.gz    34\n",
       "C:\\Users\\araza\\Documents\\1\\gits\\thesis_project\\Dataset\\VALDO_dataset\\mri_t2s_dir\\sub-105_space-T2S_desc-masked_T2S.nii.gz    34\n",
       "                                                                                                                             ..\n",
       "C:\\Users\\araza\\Documents\\1\\gits\\thesis_project\\Dataset\\VALDO_dataset\\mri_t2s_dir\\sub-323_space-T2S_desc-masked_T2S.nii.gz    38\n",
       "C:\\Users\\araza\\Documents\\1\\gits\\thesis_project\\Dataset\\VALDO_dataset\\mri_t2s_dir\\sub-324_space-T2S_desc-masked_T2S.nii.gz    38\n",
       "C:\\Users\\araza\\Documents\\1\\gits\\thesis_project\\Dataset\\VALDO_dataset\\mri_t2s_dir\\sub-325_space-T2S_desc-masked_T2S.nii.gz    35\n",
       "C:\\Users\\araza\\Documents\\1\\gits\\thesis_project\\Dataset\\VALDO_dataset\\mri_t2s_dir\\sub-326_space-T2S_desc-masked_T2S.nii.gz    38\n",
       "C:\\Users\\araza\\Documents\\1\\gits\\thesis_project\\Dataset\\VALDO_dataset\\mri_t2s_dir\\sub-327_space-T2S_desc-masked_T2S.nii.gz    38\n",
       "Name: target, Length: 72, dtype: int64"
      ]
     },
     "execution_count": 7,
     "metadata": {},
     "output_type": "execute_result"
    }
   ],
   "source": [
    "ar = df.groupby('mri').target.max()\n",
    "ar"
   ]
  },
  {
   "cell_type": "code",
   "execution_count": 8,
   "id": "851842ee-342e-4b0d-8cd8-8dc34553e6ed",
   "metadata": {},
   "outputs": [
    {
     "data": {
      "text/plain": [
       "mri\n",
       "C:\\Users\\araza\\Documents\\1\\gits\\thesis_project\\Dataset\\VALDO_dataset\\mri_t2s_dir\\sub-101_space-T2S_desc-masked_T2S.nii.gz    34\n",
       "C:\\Users\\araza\\Documents\\1\\gits\\thesis_project\\Dataset\\VALDO_dataset\\mri_t2s_dir\\sub-102_space-T2S_desc-masked_T2S.nii.gz    34\n",
       "C:\\Users\\araza\\Documents\\1\\gits\\thesis_project\\Dataset\\VALDO_dataset\\mri_t2s_dir\\sub-103_space-T2S_desc-masked_T2S.nii.gz    34\n",
       "C:\\Users\\araza\\Documents\\1\\gits\\thesis_project\\Dataset\\VALDO_dataset\\mri_t2s_dir\\sub-104_space-T2S_desc-masked_T2S.nii.gz    34\n",
       "C:\\Users\\araza\\Documents\\1\\gits\\thesis_project\\Dataset\\VALDO_dataset\\mri_t2s_dir\\sub-105_space-T2S_desc-masked_T2S.nii.gz    34\n",
       "                                                                                                                             ..\n",
       "C:\\Users\\araza\\Documents\\1\\gits\\thesis_project\\Dataset\\VALDO_dataset\\mri_t2s_dir\\sub-323_space-T2S_desc-masked_T2S.nii.gz    38\n",
       "C:\\Users\\araza\\Documents\\1\\gits\\thesis_project\\Dataset\\VALDO_dataset\\mri_t2s_dir\\sub-324_space-T2S_desc-masked_T2S.nii.gz    38\n",
       "C:\\Users\\araza\\Documents\\1\\gits\\thesis_project\\Dataset\\VALDO_dataset\\mri_t2s_dir\\sub-325_space-T2S_desc-masked_T2S.nii.gz    35\n",
       "C:\\Users\\araza\\Documents\\1\\gits\\thesis_project\\Dataset\\VALDO_dataset\\mri_t2s_dir\\sub-326_space-T2S_desc-masked_T2S.nii.gz    38\n",
       "C:\\Users\\araza\\Documents\\1\\gits\\thesis_project\\Dataset\\VALDO_dataset\\mri_t2s_dir\\sub-327_space-T2S_desc-masked_T2S.nii.gz    38\n",
       "Name: target, Length: 72, dtype: int64"
      ]
     },
     "execution_count": 8,
     "metadata": {},
     "output_type": "execute_result"
    }
   ],
   "source": [
    "arr = standard_df.groupby('mri').slices.max()\n",
    "ar"
   ]
  },
  {
   "cell_type": "markdown",
   "id": "4856266a-717a-4175-8e7c-fd9221d3ef14",
   "metadata": {},
   "source": [
    "### Check if all slices match with the raw dataframe count"
   ]
  },
  {
   "cell_type": "code",
   "execution_count": 9,
   "id": "a536dc3c-1b89-4123-8779-6dad6d1fe290",
   "metadata": {},
   "outputs": [
    {
     "data": {
      "text/plain": [
       "True"
      ]
     },
     "execution_count": 9,
     "metadata": {},
     "output_type": "execute_result"
    }
   ],
   "source": [
    "(ar == (arr - 1)).all()"
   ]
  },
  {
   "cell_type": "markdown",
   "id": "8fc07dfb-b25f-4f68-b28a-3cea5fe9487c",
   "metadata": {},
   "source": [
    "### Export as metadata"
   ]
  },
  {
   "cell_type": "code",
   "execution_count": 10,
   "id": "d6daec3c-3ab6-46d2-a707-9fcddc58f456",
   "metadata": {},
   "outputs": [],
   "source": [
    "df.to_csv('targets.csv', index=False)"
   ]
  }
 ],
 "metadata": {
  "kernelspec": {
   "display_name": "Python 3 (ipykernel)",
   "language": "python",
   "name": "python3"
  },
  "language_info": {
   "codemirror_mode": {
    "name": "ipython",
    "version": 3
   },
   "file_extension": ".py",
   "mimetype": "text/x-python",
   "name": "python",
   "nbconvert_exporter": "python",
   "pygments_lexer": "ipython3",
   "version": "3.10.5"
  }
 },
 "nbformat": 4,
 "nbformat_minor": 5
}
